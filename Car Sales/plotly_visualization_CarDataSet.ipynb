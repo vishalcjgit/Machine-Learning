{
 "cells": [
  {
   "cell_type": "code",
   "execution_count": 3,
   "id": "07e72c4a",
   "metadata": {},
   "outputs": [],
   "source": [
    "import pandas as pd\n",
    "import numpy as np\n",
    "import plotly.express as px\n",
    "import warnings\n",
    "warnings.filterwarnings('ignore')"
   ]
  },
  {
   "cell_type": "code",
   "execution_count": 5,
   "id": "b386c290",
   "metadata": {},
   "outputs": [],
   "source": [
    "data=pd.read_csv(\"./Car_sales.csv\")"
   ]
  },
  {
   "cell_type": "code",
   "execution_count": 6,
   "id": "e1b1839f",
   "metadata": {},
   "outputs": [
    {
     "data": {
      "text/html": [
       "<div>\n",
       "<style scoped>\n",
       "    .dataframe tbody tr th:only-of-type {\n",
       "        vertical-align: middle;\n",
       "    }\n",
       "\n",
       "    .dataframe tbody tr th {\n",
       "        vertical-align: top;\n",
       "    }\n",
       "\n",
       "    .dataframe thead th {\n",
       "        text-align: right;\n",
       "    }\n",
       "</style>\n",
       "<table border=\"1\" class=\"dataframe\">\n",
       "  <thead>\n",
       "    <tr style=\"text-align: right;\">\n",
       "      <th></th>\n",
       "      <th>Manufacturer</th>\n",
       "      <th>Model</th>\n",
       "      <th>Sales_in_thousands</th>\n",
       "      <th>__year_resale_value</th>\n",
       "      <th>Vehicle_type</th>\n",
       "      <th>Price_in_thousands</th>\n",
       "      <th>Engine_size</th>\n",
       "      <th>Horsepower</th>\n",
       "      <th>Wheelbase</th>\n",
       "      <th>Width</th>\n",
       "      <th>Length</th>\n",
       "      <th>Curb_weight</th>\n",
       "      <th>Fuel_capacity</th>\n",
       "      <th>Fuel_efficiency</th>\n",
       "      <th>Latest_Launch</th>\n",
       "      <th>Power_perf_factor</th>\n",
       "    </tr>\n",
       "  </thead>\n",
       "  <tbody>\n",
       "    <tr>\n",
       "      <th>0</th>\n",
       "      <td>Acura</td>\n",
       "      <td>Integra</td>\n",
       "      <td>16.919</td>\n",
       "      <td>16.360</td>\n",
       "      <td>Passenger</td>\n",
       "      <td>21.50</td>\n",
       "      <td>1.8</td>\n",
       "      <td>140.0</td>\n",
       "      <td>101.2</td>\n",
       "      <td>67.3</td>\n",
       "      <td>172.4</td>\n",
       "      <td>2.639</td>\n",
       "      <td>13.2</td>\n",
       "      <td>28.0</td>\n",
       "      <td>2/2/2012</td>\n",
       "      <td>58.280150</td>\n",
       "    </tr>\n",
       "    <tr>\n",
       "      <th>1</th>\n",
       "      <td>Acura</td>\n",
       "      <td>TL</td>\n",
       "      <td>39.384</td>\n",
       "      <td>19.875</td>\n",
       "      <td>Passenger</td>\n",
       "      <td>28.40</td>\n",
       "      <td>3.2</td>\n",
       "      <td>225.0</td>\n",
       "      <td>108.1</td>\n",
       "      <td>70.3</td>\n",
       "      <td>192.9</td>\n",
       "      <td>3.517</td>\n",
       "      <td>17.2</td>\n",
       "      <td>25.0</td>\n",
       "      <td>6/3/2011</td>\n",
       "      <td>91.370778</td>\n",
       "    </tr>\n",
       "    <tr>\n",
       "      <th>2</th>\n",
       "      <td>Acura</td>\n",
       "      <td>CL</td>\n",
       "      <td>14.114</td>\n",
       "      <td>18.225</td>\n",
       "      <td>Passenger</td>\n",
       "      <td>NaN</td>\n",
       "      <td>3.2</td>\n",
       "      <td>225.0</td>\n",
       "      <td>106.9</td>\n",
       "      <td>70.6</td>\n",
       "      <td>192.0</td>\n",
       "      <td>3.470</td>\n",
       "      <td>17.2</td>\n",
       "      <td>26.0</td>\n",
       "      <td>1/4/2012</td>\n",
       "      <td>NaN</td>\n",
       "    </tr>\n",
       "    <tr>\n",
       "      <th>3</th>\n",
       "      <td>Acura</td>\n",
       "      <td>RL</td>\n",
       "      <td>8.588</td>\n",
       "      <td>29.725</td>\n",
       "      <td>Passenger</td>\n",
       "      <td>42.00</td>\n",
       "      <td>3.5</td>\n",
       "      <td>210.0</td>\n",
       "      <td>114.6</td>\n",
       "      <td>71.4</td>\n",
       "      <td>196.6</td>\n",
       "      <td>3.850</td>\n",
       "      <td>18.0</td>\n",
       "      <td>22.0</td>\n",
       "      <td>3/10/2011</td>\n",
       "      <td>91.389779</td>\n",
       "    </tr>\n",
       "    <tr>\n",
       "      <th>4</th>\n",
       "      <td>Audi</td>\n",
       "      <td>A4</td>\n",
       "      <td>20.397</td>\n",
       "      <td>22.255</td>\n",
       "      <td>Passenger</td>\n",
       "      <td>23.99</td>\n",
       "      <td>1.8</td>\n",
       "      <td>150.0</td>\n",
       "      <td>102.6</td>\n",
       "      <td>68.2</td>\n",
       "      <td>178.0</td>\n",
       "      <td>2.998</td>\n",
       "      <td>16.4</td>\n",
       "      <td>27.0</td>\n",
       "      <td>10/8/2011</td>\n",
       "      <td>62.777639</td>\n",
       "    </tr>\n",
       "    <tr>\n",
       "      <th>...</th>\n",
       "      <td>...</td>\n",
       "      <td>...</td>\n",
       "      <td>...</td>\n",
       "      <td>...</td>\n",
       "      <td>...</td>\n",
       "      <td>...</td>\n",
       "      <td>...</td>\n",
       "      <td>...</td>\n",
       "      <td>...</td>\n",
       "      <td>...</td>\n",
       "      <td>...</td>\n",
       "      <td>...</td>\n",
       "      <td>...</td>\n",
       "      <td>...</td>\n",
       "      <td>...</td>\n",
       "      <td>...</td>\n",
       "    </tr>\n",
       "    <tr>\n",
       "      <th>152</th>\n",
       "      <td>Volvo</td>\n",
       "      <td>V40</td>\n",
       "      <td>3.545</td>\n",
       "      <td>NaN</td>\n",
       "      <td>Passenger</td>\n",
       "      <td>24.40</td>\n",
       "      <td>1.9</td>\n",
       "      <td>160.0</td>\n",
       "      <td>100.5</td>\n",
       "      <td>67.6</td>\n",
       "      <td>176.6</td>\n",
       "      <td>3.042</td>\n",
       "      <td>15.8</td>\n",
       "      <td>25.0</td>\n",
       "      <td>9/21/2011</td>\n",
       "      <td>66.498812</td>\n",
       "    </tr>\n",
       "    <tr>\n",
       "      <th>153</th>\n",
       "      <td>Volvo</td>\n",
       "      <td>S70</td>\n",
       "      <td>15.245</td>\n",
       "      <td>NaN</td>\n",
       "      <td>Passenger</td>\n",
       "      <td>27.50</td>\n",
       "      <td>2.4</td>\n",
       "      <td>168.0</td>\n",
       "      <td>104.9</td>\n",
       "      <td>69.3</td>\n",
       "      <td>185.9</td>\n",
       "      <td>3.208</td>\n",
       "      <td>17.9</td>\n",
       "      <td>25.0</td>\n",
       "      <td>11/24/2012</td>\n",
       "      <td>70.654495</td>\n",
       "    </tr>\n",
       "    <tr>\n",
       "      <th>154</th>\n",
       "      <td>Volvo</td>\n",
       "      <td>V70</td>\n",
       "      <td>17.531</td>\n",
       "      <td>NaN</td>\n",
       "      <td>Passenger</td>\n",
       "      <td>28.80</td>\n",
       "      <td>2.4</td>\n",
       "      <td>168.0</td>\n",
       "      <td>104.9</td>\n",
       "      <td>69.3</td>\n",
       "      <td>186.2</td>\n",
       "      <td>3.259</td>\n",
       "      <td>17.9</td>\n",
       "      <td>25.0</td>\n",
       "      <td>6/25/2011</td>\n",
       "      <td>71.155978</td>\n",
       "    </tr>\n",
       "    <tr>\n",
       "      <th>155</th>\n",
       "      <td>Volvo</td>\n",
       "      <td>C70</td>\n",
       "      <td>3.493</td>\n",
       "      <td>NaN</td>\n",
       "      <td>Passenger</td>\n",
       "      <td>45.50</td>\n",
       "      <td>2.3</td>\n",
       "      <td>236.0</td>\n",
       "      <td>104.9</td>\n",
       "      <td>71.5</td>\n",
       "      <td>185.7</td>\n",
       "      <td>3.601</td>\n",
       "      <td>18.5</td>\n",
       "      <td>23.0</td>\n",
       "      <td>4/26/2011</td>\n",
       "      <td>101.623357</td>\n",
       "    </tr>\n",
       "    <tr>\n",
       "      <th>156</th>\n",
       "      <td>Volvo</td>\n",
       "      <td>S80</td>\n",
       "      <td>18.969</td>\n",
       "      <td>NaN</td>\n",
       "      <td>Passenger</td>\n",
       "      <td>36.00</td>\n",
       "      <td>2.9</td>\n",
       "      <td>201.0</td>\n",
       "      <td>109.9</td>\n",
       "      <td>72.1</td>\n",
       "      <td>189.8</td>\n",
       "      <td>3.600</td>\n",
       "      <td>21.1</td>\n",
       "      <td>24.0</td>\n",
       "      <td>11/14/2011</td>\n",
       "      <td>85.735655</td>\n",
       "    </tr>\n",
       "  </tbody>\n",
       "</table>\n",
       "<p>157 rows × 16 columns</p>\n",
       "</div>"
      ],
      "text/plain": [
       "    Manufacturer    Model  Sales_in_thousands  __year_resale_value  \\\n",
       "0          Acura  Integra              16.919               16.360   \n",
       "1          Acura       TL              39.384               19.875   \n",
       "2          Acura       CL              14.114               18.225   \n",
       "3          Acura       RL               8.588               29.725   \n",
       "4           Audi       A4              20.397               22.255   \n",
       "..           ...      ...                 ...                  ...   \n",
       "152        Volvo      V40               3.545                  NaN   \n",
       "153        Volvo      S70              15.245                  NaN   \n",
       "154        Volvo      V70              17.531                  NaN   \n",
       "155        Volvo      C70               3.493                  NaN   \n",
       "156        Volvo      S80              18.969                  NaN   \n",
       "\n",
       "    Vehicle_type  Price_in_thousands  Engine_size  Horsepower  Wheelbase  \\\n",
       "0      Passenger               21.50          1.8       140.0      101.2   \n",
       "1      Passenger               28.40          3.2       225.0      108.1   \n",
       "2      Passenger                 NaN          3.2       225.0      106.9   \n",
       "3      Passenger               42.00          3.5       210.0      114.6   \n",
       "4      Passenger               23.99          1.8       150.0      102.6   \n",
       "..           ...                 ...          ...         ...        ...   \n",
       "152    Passenger               24.40          1.9       160.0      100.5   \n",
       "153    Passenger               27.50          2.4       168.0      104.9   \n",
       "154    Passenger               28.80          2.4       168.0      104.9   \n",
       "155    Passenger               45.50          2.3       236.0      104.9   \n",
       "156    Passenger               36.00          2.9       201.0      109.9   \n",
       "\n",
       "     Width  Length  Curb_weight  Fuel_capacity  Fuel_efficiency Latest_Launch  \\\n",
       "0     67.3   172.4        2.639           13.2             28.0      2/2/2012   \n",
       "1     70.3   192.9        3.517           17.2             25.0      6/3/2011   \n",
       "2     70.6   192.0        3.470           17.2             26.0      1/4/2012   \n",
       "3     71.4   196.6        3.850           18.0             22.0     3/10/2011   \n",
       "4     68.2   178.0        2.998           16.4             27.0     10/8/2011   \n",
       "..     ...     ...          ...            ...              ...           ...   \n",
       "152   67.6   176.6        3.042           15.8             25.0     9/21/2011   \n",
       "153   69.3   185.9        3.208           17.9             25.0    11/24/2012   \n",
       "154   69.3   186.2        3.259           17.9             25.0     6/25/2011   \n",
       "155   71.5   185.7        3.601           18.5             23.0     4/26/2011   \n",
       "156   72.1   189.8        3.600           21.1             24.0    11/14/2011   \n",
       "\n",
       "     Power_perf_factor  \n",
       "0            58.280150  \n",
       "1            91.370778  \n",
       "2                  NaN  \n",
       "3            91.389779  \n",
       "4            62.777639  \n",
       "..                 ...  \n",
       "152          66.498812  \n",
       "153          70.654495  \n",
       "154          71.155978  \n",
       "155         101.623357  \n",
       "156          85.735655  \n",
       "\n",
       "[157 rows x 16 columns]"
      ]
     },
     "execution_count": 6,
     "metadata": {},
     "output_type": "execute_result"
    }
   ],
   "source": [
    "data"
   ]
  },
  {
   "cell_type": "code",
   "execution_count": 7,
   "id": "cf140650",
   "metadata": {},
   "outputs": [
    {
     "data": {
      "text/plain": [
       "Manufacturer            0\n",
       "Model                   0\n",
       "Sales_in_thousands      0\n",
       "__year_resale_value    36\n",
       "Vehicle_type            0\n",
       "Price_in_thousands      2\n",
       "Engine_size             1\n",
       "Horsepower              1\n",
       "Wheelbase               1\n",
       "Width                   1\n",
       "Length                  1\n",
       "Curb_weight             2\n",
       "Fuel_capacity           1\n",
       "Fuel_efficiency         3\n",
       "Latest_Launch           0\n",
       "Power_perf_factor       2\n",
       "dtype: int64"
      ]
     },
     "execution_count": 7,
     "metadata": {},
     "output_type": "execute_result"
    }
   ],
   "source": [
    "data.isnull().sum()"
   ]
  },
  {
   "cell_type": "code",
   "execution_count": 8,
   "id": "2853bd93",
   "metadata": {},
   "outputs": [],
   "source": [
    "data.dropna(inplace=True)"
   ]
  },
  {
   "cell_type": "code",
   "execution_count": 9,
   "id": "4be61124",
   "metadata": {},
   "outputs": [],
   "source": [
    "data.drop_duplicates(inplace=True)"
   ]
  },
  {
   "cell_type": "code",
   "execution_count": 10,
   "id": "28c0ac75",
   "metadata": {},
   "outputs": [
    {
     "data": {
      "text/plain": [
       "Manufacturer           0\n",
       "Model                  0\n",
       "Sales_in_thousands     0\n",
       "__year_resale_value    0\n",
       "Vehicle_type           0\n",
       "Price_in_thousands     0\n",
       "Engine_size            0\n",
       "Horsepower             0\n",
       "Wheelbase              0\n",
       "Width                  0\n",
       "Length                 0\n",
       "Curb_weight            0\n",
       "Fuel_capacity          0\n",
       "Fuel_efficiency        0\n",
       "Latest_Launch          0\n",
       "Power_perf_factor      0\n",
       "dtype: int64"
      ]
     },
     "execution_count": 10,
     "metadata": {},
     "output_type": "execute_result"
    }
   ],
   "source": [
    "data.isnull().sum()"
   ]
  },
  {
   "cell_type": "code",
   "execution_count": 11,
   "id": "f570b784",
   "metadata": {},
   "outputs": [
    {
     "data": {
      "text/plain": [
       "0"
      ]
     },
     "execution_count": 11,
     "metadata": {},
     "output_type": "execute_result"
    }
   ],
   "source": [
    "data.duplicated().sum()\n"
   ]
  },
  {
   "cell_type": "code",
   "execution_count": 12,
   "id": "322564e9",
   "metadata": {},
   "outputs": [
    {
     "data": {
      "text/html": [
       "<div>\n",
       "<style scoped>\n",
       "    .dataframe tbody tr th:only-of-type {\n",
       "        vertical-align: middle;\n",
       "    }\n",
       "\n",
       "    .dataframe tbody tr th {\n",
       "        vertical-align: top;\n",
       "    }\n",
       "\n",
       "    .dataframe thead th {\n",
       "        text-align: right;\n",
       "    }\n",
       "</style>\n",
       "<table border=\"1\" class=\"dataframe\">\n",
       "  <thead>\n",
       "    <tr style=\"text-align: right;\">\n",
       "      <th></th>\n",
       "      <th>Manufacturer</th>\n",
       "      <th>Model</th>\n",
       "      <th>Sales_in_thousands</th>\n",
       "      <th>__year_resale_value</th>\n",
       "      <th>Vehicle_type</th>\n",
       "      <th>Price_in_thousands</th>\n",
       "      <th>Engine_size</th>\n",
       "      <th>Horsepower</th>\n",
       "      <th>Wheelbase</th>\n",
       "      <th>Width</th>\n",
       "      <th>Length</th>\n",
       "      <th>Curb_weight</th>\n",
       "      <th>Fuel_capacity</th>\n",
       "      <th>Fuel_efficiency</th>\n",
       "      <th>Latest_Launch</th>\n",
       "      <th>Power_perf_factor</th>\n",
       "    </tr>\n",
       "  </thead>\n",
       "  <tbody>\n",
       "    <tr>\n",
       "      <th>0</th>\n",
       "      <td>Acura</td>\n",
       "      <td>Integra</td>\n",
       "      <td>16.919</td>\n",
       "      <td>16.360</td>\n",
       "      <td>Passenger</td>\n",
       "      <td>21.50</td>\n",
       "      <td>1.8</td>\n",
       "      <td>140.0</td>\n",
       "      <td>101.2</td>\n",
       "      <td>67.3</td>\n",
       "      <td>172.4</td>\n",
       "      <td>2.639</td>\n",
       "      <td>13.2</td>\n",
       "      <td>28.0</td>\n",
       "      <td>2/2/2012</td>\n",
       "      <td>58.280150</td>\n",
       "    </tr>\n",
       "    <tr>\n",
       "      <th>1</th>\n",
       "      <td>Acura</td>\n",
       "      <td>TL</td>\n",
       "      <td>39.384</td>\n",
       "      <td>19.875</td>\n",
       "      <td>Passenger</td>\n",
       "      <td>28.40</td>\n",
       "      <td>3.2</td>\n",
       "      <td>225.0</td>\n",
       "      <td>108.1</td>\n",
       "      <td>70.3</td>\n",
       "      <td>192.9</td>\n",
       "      <td>3.517</td>\n",
       "      <td>17.2</td>\n",
       "      <td>25.0</td>\n",
       "      <td>6/3/2011</td>\n",
       "      <td>91.370778</td>\n",
       "    </tr>\n",
       "    <tr>\n",
       "      <th>3</th>\n",
       "      <td>Acura</td>\n",
       "      <td>RL</td>\n",
       "      <td>8.588</td>\n",
       "      <td>29.725</td>\n",
       "      <td>Passenger</td>\n",
       "      <td>42.00</td>\n",
       "      <td>3.5</td>\n",
       "      <td>210.0</td>\n",
       "      <td>114.6</td>\n",
       "      <td>71.4</td>\n",
       "      <td>196.6</td>\n",
       "      <td>3.850</td>\n",
       "      <td>18.0</td>\n",
       "      <td>22.0</td>\n",
       "      <td>3/10/2011</td>\n",
       "      <td>91.389779</td>\n",
       "    </tr>\n",
       "    <tr>\n",
       "      <th>4</th>\n",
       "      <td>Audi</td>\n",
       "      <td>A4</td>\n",
       "      <td>20.397</td>\n",
       "      <td>22.255</td>\n",
       "      <td>Passenger</td>\n",
       "      <td>23.99</td>\n",
       "      <td>1.8</td>\n",
       "      <td>150.0</td>\n",
       "      <td>102.6</td>\n",
       "      <td>68.2</td>\n",
       "      <td>178.0</td>\n",
       "      <td>2.998</td>\n",
       "      <td>16.4</td>\n",
       "      <td>27.0</td>\n",
       "      <td>10/8/2011</td>\n",
       "      <td>62.777639</td>\n",
       "    </tr>\n",
       "    <tr>\n",
       "      <th>5</th>\n",
       "      <td>Audi</td>\n",
       "      <td>A6</td>\n",
       "      <td>18.780</td>\n",
       "      <td>23.555</td>\n",
       "      <td>Passenger</td>\n",
       "      <td>33.95</td>\n",
       "      <td>2.8</td>\n",
       "      <td>200.0</td>\n",
       "      <td>108.7</td>\n",
       "      <td>76.1</td>\n",
       "      <td>192.0</td>\n",
       "      <td>3.561</td>\n",
       "      <td>18.5</td>\n",
       "      <td>22.0</td>\n",
       "      <td>8/9/2011</td>\n",
       "      <td>84.565105</td>\n",
       "    </tr>\n",
       "    <tr>\n",
       "      <th>...</th>\n",
       "      <td>...</td>\n",
       "      <td>...</td>\n",
       "      <td>...</td>\n",
       "      <td>...</td>\n",
       "      <td>...</td>\n",
       "      <td>...</td>\n",
       "      <td>...</td>\n",
       "      <td>...</td>\n",
       "      <td>...</td>\n",
       "      <td>...</td>\n",
       "      <td>...</td>\n",
       "      <td>...</td>\n",
       "      <td>...</td>\n",
       "      <td>...</td>\n",
       "      <td>...</td>\n",
       "      <td>...</td>\n",
       "    </tr>\n",
       "    <tr>\n",
       "      <th>145</th>\n",
       "      <td>Volkswagen</td>\n",
       "      <td>Golf</td>\n",
       "      <td>9.761</td>\n",
       "      <td>11.425</td>\n",
       "      <td>Passenger</td>\n",
       "      <td>14.90</td>\n",
       "      <td>2.0</td>\n",
       "      <td>115.0</td>\n",
       "      <td>98.9</td>\n",
       "      <td>68.3</td>\n",
       "      <td>163.3</td>\n",
       "      <td>2.767</td>\n",
       "      <td>14.5</td>\n",
       "      <td>26.0</td>\n",
       "      <td>1/24/2011</td>\n",
       "      <td>46.943877</td>\n",
       "    </tr>\n",
       "    <tr>\n",
       "      <th>146</th>\n",
       "      <td>Volkswagen</td>\n",
       "      <td>Jetta</td>\n",
       "      <td>83.721</td>\n",
       "      <td>13.240</td>\n",
       "      <td>Passenger</td>\n",
       "      <td>16.70</td>\n",
       "      <td>2.0</td>\n",
       "      <td>115.0</td>\n",
       "      <td>98.9</td>\n",
       "      <td>68.3</td>\n",
       "      <td>172.3</td>\n",
       "      <td>2.853</td>\n",
       "      <td>14.5</td>\n",
       "      <td>26.0</td>\n",
       "      <td>8/27/2011</td>\n",
       "      <td>47.638237</td>\n",
       "    </tr>\n",
       "    <tr>\n",
       "      <th>147</th>\n",
       "      <td>Volkswagen</td>\n",
       "      <td>Passat</td>\n",
       "      <td>51.102</td>\n",
       "      <td>16.725</td>\n",
       "      <td>Passenger</td>\n",
       "      <td>21.20</td>\n",
       "      <td>1.8</td>\n",
       "      <td>150.0</td>\n",
       "      <td>106.4</td>\n",
       "      <td>68.5</td>\n",
       "      <td>184.1</td>\n",
       "      <td>3.043</td>\n",
       "      <td>16.4</td>\n",
       "      <td>27.0</td>\n",
       "      <td>10/30/2012</td>\n",
       "      <td>61.701381</td>\n",
       "    </tr>\n",
       "    <tr>\n",
       "      <th>148</th>\n",
       "      <td>Volkswagen</td>\n",
       "      <td>Cabrio</td>\n",
       "      <td>9.569</td>\n",
       "      <td>16.575</td>\n",
       "      <td>Passenger</td>\n",
       "      <td>19.99</td>\n",
       "      <td>2.0</td>\n",
       "      <td>115.0</td>\n",
       "      <td>97.4</td>\n",
       "      <td>66.7</td>\n",
       "      <td>160.4</td>\n",
       "      <td>3.079</td>\n",
       "      <td>13.7</td>\n",
       "      <td>26.0</td>\n",
       "      <td>5/31/2011</td>\n",
       "      <td>48.907372</td>\n",
       "    </tr>\n",
       "    <tr>\n",
       "      <th>149</th>\n",
       "      <td>Volkswagen</td>\n",
       "      <td>GTI</td>\n",
       "      <td>5.596</td>\n",
       "      <td>13.760</td>\n",
       "      <td>Passenger</td>\n",
       "      <td>17.50</td>\n",
       "      <td>2.0</td>\n",
       "      <td>115.0</td>\n",
       "      <td>98.9</td>\n",
       "      <td>68.3</td>\n",
       "      <td>163.3</td>\n",
       "      <td>2.762</td>\n",
       "      <td>14.6</td>\n",
       "      <td>26.0</td>\n",
       "      <td>4/1/2011</td>\n",
       "      <td>47.946841</td>\n",
       "    </tr>\n",
       "  </tbody>\n",
       "</table>\n",
       "<p>117 rows × 16 columns</p>\n",
       "</div>"
      ],
      "text/plain": [
       "    Manufacturer    Model  Sales_in_thousands  __year_resale_value  \\\n",
       "0          Acura  Integra              16.919               16.360   \n",
       "1          Acura       TL              39.384               19.875   \n",
       "3          Acura       RL               8.588               29.725   \n",
       "4           Audi       A4              20.397               22.255   \n",
       "5           Audi       A6              18.780               23.555   \n",
       "..           ...      ...                 ...                  ...   \n",
       "145   Volkswagen     Golf               9.761               11.425   \n",
       "146   Volkswagen    Jetta              83.721               13.240   \n",
       "147   Volkswagen   Passat              51.102               16.725   \n",
       "148   Volkswagen   Cabrio               9.569               16.575   \n",
       "149   Volkswagen      GTI               5.596               13.760   \n",
       "\n",
       "    Vehicle_type  Price_in_thousands  Engine_size  Horsepower  Wheelbase  \\\n",
       "0      Passenger               21.50          1.8       140.0      101.2   \n",
       "1      Passenger               28.40          3.2       225.0      108.1   \n",
       "3      Passenger               42.00          3.5       210.0      114.6   \n",
       "4      Passenger               23.99          1.8       150.0      102.6   \n",
       "5      Passenger               33.95          2.8       200.0      108.7   \n",
       "..           ...                 ...          ...         ...        ...   \n",
       "145    Passenger               14.90          2.0       115.0       98.9   \n",
       "146    Passenger               16.70          2.0       115.0       98.9   \n",
       "147    Passenger               21.20          1.8       150.0      106.4   \n",
       "148    Passenger               19.99          2.0       115.0       97.4   \n",
       "149    Passenger               17.50          2.0       115.0       98.9   \n",
       "\n",
       "     Width  Length  Curb_weight  Fuel_capacity  Fuel_efficiency Latest_Launch  \\\n",
       "0     67.3   172.4        2.639           13.2             28.0      2/2/2012   \n",
       "1     70.3   192.9        3.517           17.2             25.0      6/3/2011   \n",
       "3     71.4   196.6        3.850           18.0             22.0     3/10/2011   \n",
       "4     68.2   178.0        2.998           16.4             27.0     10/8/2011   \n",
       "5     76.1   192.0        3.561           18.5             22.0      8/9/2011   \n",
       "..     ...     ...          ...            ...              ...           ...   \n",
       "145   68.3   163.3        2.767           14.5             26.0     1/24/2011   \n",
       "146   68.3   172.3        2.853           14.5             26.0     8/27/2011   \n",
       "147   68.5   184.1        3.043           16.4             27.0    10/30/2012   \n",
       "148   66.7   160.4        3.079           13.7             26.0     5/31/2011   \n",
       "149   68.3   163.3        2.762           14.6             26.0      4/1/2011   \n",
       "\n",
       "     Power_perf_factor  \n",
       "0            58.280150  \n",
       "1            91.370778  \n",
       "3            91.389779  \n",
       "4            62.777639  \n",
       "5            84.565105  \n",
       "..                 ...  \n",
       "145          46.943877  \n",
       "146          47.638237  \n",
       "147          61.701381  \n",
       "148          48.907372  \n",
       "149          47.946841  \n",
       "\n",
       "[117 rows x 16 columns]"
      ]
     },
     "execution_count": 12,
     "metadata": {},
     "output_type": "execute_result"
    }
   ],
   "source": [
    "data"
   ]
  },
  {
   "cell_type": "code",
   "execution_count": 13,
   "id": "81d046f9",
   "metadata": {},
   "outputs": [
    {
     "data": {
      "text/plain": [
       "Manufacturer            object\n",
       "Model                   object\n",
       "Sales_in_thousands     float64\n",
       "__year_resale_value    float64\n",
       "Vehicle_type            object\n",
       "Price_in_thousands     float64\n",
       "Engine_size            float64\n",
       "Horsepower             float64\n",
       "Wheelbase              float64\n",
       "Width                  float64\n",
       "Length                 float64\n",
       "Curb_weight            float64\n",
       "Fuel_capacity          float64\n",
       "Fuel_efficiency        float64\n",
       "Latest_Launch           object\n",
       "Power_perf_factor      float64\n",
       "dtype: object"
      ]
     },
     "execution_count": 13,
     "metadata": {},
     "output_type": "execute_result"
    }
   ],
   "source": [
    "data.dtypes\n"
   ]
  },
  {
   "cell_type": "code",
   "execution_count": 14,
   "id": "393cfecc",
   "metadata": {},
   "outputs": [
    {
     "data": {
      "text/plain": [
       "26"
      ]
     },
     "execution_count": 14,
     "metadata": {},
     "output_type": "execute_result"
    }
   ],
   "source": [
    "data.Manufacturer.nunique()"
   ]
  },
  {
   "cell_type": "code",
   "execution_count": 15,
   "id": "14216b68",
   "metadata": {},
   "outputs": [
    {
     "data": {
      "text/plain": [
       "116"
      ]
     },
     "execution_count": 15,
     "metadata": {},
     "output_type": "execute_result"
    }
   ],
   "source": [
    "data.Model.nunique()"
   ]
  },
  {
   "cell_type": "code",
   "execution_count": 16,
   "id": "e7127dad",
   "metadata": {},
   "outputs": [
    {
     "data": {
      "text/plain": [
       "29"
      ]
     },
     "execution_count": 16,
     "metadata": {},
     "output_type": "execute_result"
    }
   ],
   "source": [
    "data.Engine_size.nunique()"
   ]
  },
  {
   "cell_type": "code",
   "execution_count": 17,
   "id": "9b74ee92",
   "metadata": {},
   "outputs": [
    {
     "data": {
      "text/plain": [
       "20"
      ]
     },
     "execution_count": 17,
     "metadata": {},
     "output_type": "execute_result"
    }
   ],
   "source": [
    "data.Fuel_efficiency.nunique()"
   ]
  },
  {
   "cell_type": "code",
   "execution_count": null,
   "id": "63b1672f",
   "metadata": {},
   "outputs": [],
   "source": [
    "#HISTOGRAM"
   ]
  },
  {
   "cell_type": "code",
   "execution_count": 19,
   "id": "0d43114b",
   "metadata": {
    "scrolled": true
   },
   "outputs": [
    {
     "data": {
      "application/vnd.plotly.v1+json": {
       "config": {
        "plotlyServerURL": "https://plot.ly"
       },
       "data": [
        {
         "alignmentgroup": "True",
         "bingroup": "x",
         "hovertemplate": "Sales_in_thousands=%{x}<br>count=%{y}<extra></extra>",
         "legendgroup": "",
         "marker": {
          "color": "#636efa",
          "pattern": {
           "shape": ""
          }
         },
         "name": "",
         "offsetgroup": "",
         "orientation": "v",
         "showlegend": false,
         "type": "histogram",
         "x": [
          16.919,
          39.384,
          8.588,
          20.397,
          18.78,
          1.38,
          9.231,
          17.527,
          91.561,
          39.35,
          27.851,
          83.257,
          63.729,
          6.536,
          11.185,
          145.519,
          135.126,
          24.629,
          42.593,
          26.402,
          17.947,
          32.299,
          21.855,
          7.854,
          32.775,
          31.148,
          32.306,
          13.462,
          76.034,
          4.734,
          71.186,
          0.916,
          227.061,
          16.767,
          31.038,
          111.313,
          181.749,
          70.227,
          113.369,
          35.068,
          245.815,
          63.403,
          276.747,
          155.787,
          125.338,
          220.65,
          540.561,
          199.685,
          230.902,
          73.203,
          12.855,
          76.029,
          41.184,
          66.692,
          29.45,
          23.713,
          55.557,
          80.556,
          157.04,
          24.072,
          12.698,
          6.375,
          13.798,
          48.911,
          26.232,
          42.541,
          55.616,
          5.711,
          0.11,
          11.337,
          39.348,
          14.351,
          26.529,
          67.956,
          81.174,
          27.609,
          20.38,
          18.392,
          27.602,
          16.774,
          3.311,
          42.643,
          88.094,
          79.853,
          27.308,
          42.574,
          1.112,
          14.69,
          20.017,
          24.361,
          32.734,
          5.24,
          24.155,
          51.645,
          131.097,
          19.911,
          92.364,
          35.945,
          8.982,
          1.28,
          1.866,
          80.62,
          24.546,
          5.223,
          142.535,
          247.994,
          63.849,
          33.269,
          84.087,
          25.106,
          68.411,
          9.835,
          9.761,
          83.721,
          51.102,
          9.569,
          5.596
         ],
         "xaxis": "x",
         "yaxis": "y"
        }
       ],
       "layout": {
        "barmode": "relative",
        "legend": {
         "tracegroupgap": 0
        },
        "margin": {
         "t": 60
        },
        "template": {
         "data": {
          "bar": [
           {
            "error_x": {
             "color": "#2a3f5f"
            },
            "error_y": {
             "color": "#2a3f5f"
            },
            "marker": {
             "line": {
              "color": "#E5ECF6",
              "width": 0.5
             },
             "pattern": {
              "fillmode": "overlay",
              "size": 10,
              "solidity": 0.2
             }
            },
            "type": "bar"
           }
          ],
          "barpolar": [
           {
            "marker": {
             "line": {
              "color": "#E5ECF6",
              "width": 0.5
             },
             "pattern": {
              "fillmode": "overlay",
              "size": 10,
              "solidity": 0.2
             }
            },
            "type": "barpolar"
           }
          ],
          "carpet": [
           {
            "aaxis": {
             "endlinecolor": "#2a3f5f",
             "gridcolor": "white",
             "linecolor": "white",
             "minorgridcolor": "white",
             "startlinecolor": "#2a3f5f"
            },
            "baxis": {
             "endlinecolor": "#2a3f5f",
             "gridcolor": "white",
             "linecolor": "white",
             "minorgridcolor": "white",
             "startlinecolor": "#2a3f5f"
            },
            "type": "carpet"
           }
          ],
          "choropleth": [
           {
            "colorbar": {
             "outlinewidth": 0,
             "ticks": ""
            },
            "type": "choropleth"
           }
          ],
          "contour": [
           {
            "colorbar": {
             "outlinewidth": 0,
             "ticks": ""
            },
            "colorscale": [
             [
              0,
              "#0d0887"
             ],
             [
              0.1111111111111111,
              "#46039f"
             ],
             [
              0.2222222222222222,
              "#7201a8"
             ],
             [
              0.3333333333333333,
              "#9c179e"
             ],
             [
              0.4444444444444444,
              "#bd3786"
             ],
             [
              0.5555555555555556,
              "#d8576b"
             ],
             [
              0.6666666666666666,
              "#ed7953"
             ],
             [
              0.7777777777777778,
              "#fb9f3a"
             ],
             [
              0.8888888888888888,
              "#fdca26"
             ],
             [
              1,
              "#f0f921"
             ]
            ],
            "type": "contour"
           }
          ],
          "contourcarpet": [
           {
            "colorbar": {
             "outlinewidth": 0,
             "ticks": ""
            },
            "type": "contourcarpet"
           }
          ],
          "heatmap": [
           {
            "colorbar": {
             "outlinewidth": 0,
             "ticks": ""
            },
            "colorscale": [
             [
              0,
              "#0d0887"
             ],
             [
              0.1111111111111111,
              "#46039f"
             ],
             [
              0.2222222222222222,
              "#7201a8"
             ],
             [
              0.3333333333333333,
              "#9c179e"
             ],
             [
              0.4444444444444444,
              "#bd3786"
             ],
             [
              0.5555555555555556,
              "#d8576b"
             ],
             [
              0.6666666666666666,
              "#ed7953"
             ],
             [
              0.7777777777777778,
              "#fb9f3a"
             ],
             [
              0.8888888888888888,
              "#fdca26"
             ],
             [
              1,
              "#f0f921"
             ]
            ],
            "type": "heatmap"
           }
          ],
          "heatmapgl": [
           {
            "colorbar": {
             "outlinewidth": 0,
             "ticks": ""
            },
            "colorscale": [
             [
              0,
              "#0d0887"
             ],
             [
              0.1111111111111111,
              "#46039f"
             ],
             [
              0.2222222222222222,
              "#7201a8"
             ],
             [
              0.3333333333333333,
              "#9c179e"
             ],
             [
              0.4444444444444444,
              "#bd3786"
             ],
             [
              0.5555555555555556,
              "#d8576b"
             ],
             [
              0.6666666666666666,
              "#ed7953"
             ],
             [
              0.7777777777777778,
              "#fb9f3a"
             ],
             [
              0.8888888888888888,
              "#fdca26"
             ],
             [
              1,
              "#f0f921"
             ]
            ],
            "type": "heatmapgl"
           }
          ],
          "histogram": [
           {
            "marker": {
             "pattern": {
              "fillmode": "overlay",
              "size": 10,
              "solidity": 0.2
             }
            },
            "type": "histogram"
           }
          ],
          "histogram2d": [
           {
            "colorbar": {
             "outlinewidth": 0,
             "ticks": ""
            },
            "colorscale": [
             [
              0,
              "#0d0887"
             ],
             [
              0.1111111111111111,
              "#46039f"
             ],
             [
              0.2222222222222222,
              "#7201a8"
             ],
             [
              0.3333333333333333,
              "#9c179e"
             ],
             [
              0.4444444444444444,
              "#bd3786"
             ],
             [
              0.5555555555555556,
              "#d8576b"
             ],
             [
              0.6666666666666666,
              "#ed7953"
             ],
             [
              0.7777777777777778,
              "#fb9f3a"
             ],
             [
              0.8888888888888888,
              "#fdca26"
             ],
             [
              1,
              "#f0f921"
             ]
            ],
            "type": "histogram2d"
           }
          ],
          "histogram2dcontour": [
           {
            "colorbar": {
             "outlinewidth": 0,
             "ticks": ""
            },
            "colorscale": [
             [
              0,
              "#0d0887"
             ],
             [
              0.1111111111111111,
              "#46039f"
             ],
             [
              0.2222222222222222,
              "#7201a8"
             ],
             [
              0.3333333333333333,
              "#9c179e"
             ],
             [
              0.4444444444444444,
              "#bd3786"
             ],
             [
              0.5555555555555556,
              "#d8576b"
             ],
             [
              0.6666666666666666,
              "#ed7953"
             ],
             [
              0.7777777777777778,
              "#fb9f3a"
             ],
             [
              0.8888888888888888,
              "#fdca26"
             ],
             [
              1,
              "#f0f921"
             ]
            ],
            "type": "histogram2dcontour"
           }
          ],
          "mesh3d": [
           {
            "colorbar": {
             "outlinewidth": 0,
             "ticks": ""
            },
            "type": "mesh3d"
           }
          ],
          "parcoords": [
           {
            "line": {
             "colorbar": {
              "outlinewidth": 0,
              "ticks": ""
             }
            },
            "type": "parcoords"
           }
          ],
          "pie": [
           {
            "automargin": true,
            "type": "pie"
           }
          ],
          "scatter": [
           {
            "fillpattern": {
             "fillmode": "overlay",
             "size": 10,
             "solidity": 0.2
            },
            "type": "scatter"
           }
          ],
          "scatter3d": [
           {
            "line": {
             "colorbar": {
              "outlinewidth": 0,
              "ticks": ""
             }
            },
            "marker": {
             "colorbar": {
              "outlinewidth": 0,
              "ticks": ""
             }
            },
            "type": "scatter3d"
           }
          ],
          "scattercarpet": [
           {
            "marker": {
             "colorbar": {
              "outlinewidth": 0,
              "ticks": ""
             }
            },
            "type": "scattercarpet"
           }
          ],
          "scattergeo": [
           {
            "marker": {
             "colorbar": {
              "outlinewidth": 0,
              "ticks": ""
             }
            },
            "type": "scattergeo"
           }
          ],
          "scattergl": [
           {
            "marker": {
             "colorbar": {
              "outlinewidth": 0,
              "ticks": ""
             }
            },
            "type": "scattergl"
           }
          ],
          "scattermapbox": [
           {
            "marker": {
             "colorbar": {
              "outlinewidth": 0,
              "ticks": ""
             }
            },
            "type": "scattermapbox"
           }
          ],
          "scatterpolar": [
           {
            "marker": {
             "colorbar": {
              "outlinewidth": 0,
              "ticks": ""
             }
            },
            "type": "scatterpolar"
           }
          ],
          "scatterpolargl": [
           {
            "marker": {
             "colorbar": {
              "outlinewidth": 0,
              "ticks": ""
             }
            },
            "type": "scatterpolargl"
           }
          ],
          "scatterternary": [
           {
            "marker": {
             "colorbar": {
              "outlinewidth": 0,
              "ticks": ""
             }
            },
            "type": "scatterternary"
           }
          ],
          "surface": [
           {
            "colorbar": {
             "outlinewidth": 0,
             "ticks": ""
            },
            "colorscale": [
             [
              0,
              "#0d0887"
             ],
             [
              0.1111111111111111,
              "#46039f"
             ],
             [
              0.2222222222222222,
              "#7201a8"
             ],
             [
              0.3333333333333333,
              "#9c179e"
             ],
             [
              0.4444444444444444,
              "#bd3786"
             ],
             [
              0.5555555555555556,
              "#d8576b"
             ],
             [
              0.6666666666666666,
              "#ed7953"
             ],
             [
              0.7777777777777778,
              "#fb9f3a"
             ],
             [
              0.8888888888888888,
              "#fdca26"
             ],
             [
              1,
              "#f0f921"
             ]
            ],
            "type": "surface"
           }
          ],
          "table": [
           {
            "cells": {
             "fill": {
              "color": "#EBF0F8"
             },
             "line": {
              "color": "white"
             }
            },
            "header": {
             "fill": {
              "color": "#C8D4E3"
             },
             "line": {
              "color": "white"
             }
            },
            "type": "table"
           }
          ]
         },
         "layout": {
          "annotationdefaults": {
           "arrowcolor": "#2a3f5f",
           "arrowhead": 0,
           "arrowwidth": 1
          },
          "autotypenumbers": "strict",
          "coloraxis": {
           "colorbar": {
            "outlinewidth": 0,
            "ticks": ""
           }
          },
          "colorscale": {
           "diverging": [
            [
             0,
             "#8e0152"
            ],
            [
             0.1,
             "#c51b7d"
            ],
            [
             0.2,
             "#de77ae"
            ],
            [
             0.3,
             "#f1b6da"
            ],
            [
             0.4,
             "#fde0ef"
            ],
            [
             0.5,
             "#f7f7f7"
            ],
            [
             0.6,
             "#e6f5d0"
            ],
            [
             0.7,
             "#b8e186"
            ],
            [
             0.8,
             "#7fbc41"
            ],
            [
             0.9,
             "#4d9221"
            ],
            [
             1,
             "#276419"
            ]
           ],
           "sequential": [
            [
             0,
             "#0d0887"
            ],
            [
             0.1111111111111111,
             "#46039f"
            ],
            [
             0.2222222222222222,
             "#7201a8"
            ],
            [
             0.3333333333333333,
             "#9c179e"
            ],
            [
             0.4444444444444444,
             "#bd3786"
            ],
            [
             0.5555555555555556,
             "#d8576b"
            ],
            [
             0.6666666666666666,
             "#ed7953"
            ],
            [
             0.7777777777777778,
             "#fb9f3a"
            ],
            [
             0.8888888888888888,
             "#fdca26"
            ],
            [
             1,
             "#f0f921"
            ]
           ],
           "sequentialminus": [
            [
             0,
             "#0d0887"
            ],
            [
             0.1111111111111111,
             "#46039f"
            ],
            [
             0.2222222222222222,
             "#7201a8"
            ],
            [
             0.3333333333333333,
             "#9c179e"
            ],
            [
             0.4444444444444444,
             "#bd3786"
            ],
            [
             0.5555555555555556,
             "#d8576b"
            ],
            [
             0.6666666666666666,
             "#ed7953"
            ],
            [
             0.7777777777777778,
             "#fb9f3a"
            ],
            [
             0.8888888888888888,
             "#fdca26"
            ],
            [
             1,
             "#f0f921"
            ]
           ]
          },
          "colorway": [
           "#636efa",
           "#EF553B",
           "#00cc96",
           "#ab63fa",
           "#FFA15A",
           "#19d3f3",
           "#FF6692",
           "#B6E880",
           "#FF97FF",
           "#FECB52"
          ],
          "font": {
           "color": "#2a3f5f"
          },
          "geo": {
           "bgcolor": "white",
           "lakecolor": "white",
           "landcolor": "#E5ECF6",
           "showlakes": true,
           "showland": true,
           "subunitcolor": "white"
          },
          "hoverlabel": {
           "align": "left"
          },
          "hovermode": "closest",
          "mapbox": {
           "style": "light"
          },
          "paper_bgcolor": "white",
          "plot_bgcolor": "#E5ECF6",
          "polar": {
           "angularaxis": {
            "gridcolor": "white",
            "linecolor": "white",
            "ticks": ""
           },
           "bgcolor": "#E5ECF6",
           "radialaxis": {
            "gridcolor": "white",
            "linecolor": "white",
            "ticks": ""
           }
          },
          "scene": {
           "xaxis": {
            "backgroundcolor": "#E5ECF6",
            "gridcolor": "white",
            "gridwidth": 2,
            "linecolor": "white",
            "showbackground": true,
            "ticks": "",
            "zerolinecolor": "white"
           },
           "yaxis": {
            "backgroundcolor": "#E5ECF6",
            "gridcolor": "white",
            "gridwidth": 2,
            "linecolor": "white",
            "showbackground": true,
            "ticks": "",
            "zerolinecolor": "white"
           },
           "zaxis": {
            "backgroundcolor": "#E5ECF6",
            "gridcolor": "white",
            "gridwidth": 2,
            "linecolor": "white",
            "showbackground": true,
            "ticks": "",
            "zerolinecolor": "white"
           }
          },
          "shapedefaults": {
           "line": {
            "color": "#2a3f5f"
           }
          },
          "ternary": {
           "aaxis": {
            "gridcolor": "white",
            "linecolor": "white",
            "ticks": ""
           },
           "baxis": {
            "gridcolor": "white",
            "linecolor": "white",
            "ticks": ""
           },
           "bgcolor": "#E5ECF6",
           "caxis": {
            "gridcolor": "white",
            "linecolor": "white",
            "ticks": ""
           }
          },
          "title": {
           "x": 0.05
          },
          "xaxis": {
           "automargin": true,
           "gridcolor": "white",
           "linecolor": "white",
           "ticks": "",
           "title": {
            "standoff": 15
           },
           "zerolinecolor": "white",
           "zerolinewidth": 2
          },
          "yaxis": {
           "automargin": true,
           "gridcolor": "white",
           "linecolor": "white",
           "ticks": "",
           "title": {
            "standoff": 15
           },
           "zerolinecolor": "white",
           "zerolinewidth": 2
          }
         }
        },
        "xaxis": {
         "anchor": "y",
         "domain": [
          0,
          1
         ],
         "title": {
          "text": "Sales_in_thousands"
         }
        },
        "yaxis": {
         "anchor": "x",
         "domain": [
          0,
          1
         ],
         "title": {
          "text": "count"
         }
        }
       }
      },
      "text/html": [
       "<div>                            <div id=\"c8ac2039-b7d2-422d-a38d-d764a758372e\" class=\"plotly-graph-div\" style=\"height:525px; width:100%;\"></div>            <script type=\"text/javascript\">                require([\"plotly\"], function(Plotly) {                    window.PLOTLYENV=window.PLOTLYENV || {};                                    if (document.getElementById(\"c8ac2039-b7d2-422d-a38d-d764a758372e\")) {                    Plotly.newPlot(                        \"c8ac2039-b7d2-422d-a38d-d764a758372e\",                        [{\"alignmentgroup\":\"True\",\"bingroup\":\"x\",\"hovertemplate\":\"Sales_in_thousands=%{x}<br>count=%{y}<extra></extra>\",\"legendgroup\":\"\",\"marker\":{\"color\":\"#636efa\",\"pattern\":{\"shape\":\"\"}},\"name\":\"\",\"offsetgroup\":\"\",\"orientation\":\"v\",\"showlegend\":false,\"x\":[16.919,39.384,8.588,20.397,18.78,1.38,9.231,17.527,91.561,39.35,27.851,83.257,63.729,6.536,11.185,145.519,135.126,24.629,42.593,26.402,17.947,32.299,21.855,7.854,32.775,31.148,32.306,13.462,76.034,4.734,71.186,0.916,227.061,16.767,31.038,111.313,181.749,70.227,113.369,35.068,245.815,63.403,276.747,155.787,125.338,220.65,540.561,199.685,230.902,73.203,12.855,76.029,41.184,66.692,29.45,23.713,55.557,80.556,157.04,24.072,12.698,6.375,13.798,48.911,26.232,42.541,55.616,5.711,0.11,11.337,39.348,14.351,26.529,67.956,81.174,27.609,20.38,18.392,27.602,16.774,3.311,42.643,88.094,79.853,27.308,42.574,1.112,14.69,20.017,24.361,32.734,5.24,24.155,51.645,131.097,19.911,92.364,35.945,8.982,1.28,1.866,80.62,24.546,5.223,142.535,247.994,63.849,33.269,84.087,25.106,68.411,9.835,9.761,83.721,51.102,9.569,5.596],\"xaxis\":\"x\",\"yaxis\":\"y\",\"type\":\"histogram\"}],                        {\"template\":{\"data\":{\"histogram2dcontour\":[{\"type\":\"histogram2dcontour\",\"colorbar\":{\"outlinewidth\":0,\"ticks\":\"\"},\"colorscale\":[[0.0,\"#0d0887\"],[0.1111111111111111,\"#46039f\"],[0.2222222222222222,\"#7201a8\"],[0.3333333333333333,\"#9c179e\"],[0.4444444444444444,\"#bd3786\"],[0.5555555555555556,\"#d8576b\"],[0.6666666666666666,\"#ed7953\"],[0.7777777777777778,\"#fb9f3a\"],[0.8888888888888888,\"#fdca26\"],[1.0,\"#f0f921\"]]}],\"choropleth\":[{\"type\":\"choropleth\",\"colorbar\":{\"outlinewidth\":0,\"ticks\":\"\"}}],\"histogram2d\":[{\"type\":\"histogram2d\",\"colorbar\":{\"outlinewidth\":0,\"ticks\":\"\"},\"colorscale\":[[0.0,\"#0d0887\"],[0.1111111111111111,\"#46039f\"],[0.2222222222222222,\"#7201a8\"],[0.3333333333333333,\"#9c179e\"],[0.4444444444444444,\"#bd3786\"],[0.5555555555555556,\"#d8576b\"],[0.6666666666666666,\"#ed7953\"],[0.7777777777777778,\"#fb9f3a\"],[0.8888888888888888,\"#fdca26\"],[1.0,\"#f0f921\"]]}],\"heatmap\":[{\"type\":\"heatmap\",\"colorbar\":{\"outlinewidth\":0,\"ticks\":\"\"},\"colorscale\":[[0.0,\"#0d0887\"],[0.1111111111111111,\"#46039f\"],[0.2222222222222222,\"#7201a8\"],[0.3333333333333333,\"#9c179e\"],[0.4444444444444444,\"#bd3786\"],[0.5555555555555556,\"#d8576b\"],[0.6666666666666666,\"#ed7953\"],[0.7777777777777778,\"#fb9f3a\"],[0.8888888888888888,\"#fdca26\"],[1.0,\"#f0f921\"]]}],\"heatmapgl\":[{\"type\":\"heatmapgl\",\"colorbar\":{\"outlinewidth\":0,\"ticks\":\"\"},\"colorscale\":[[0.0,\"#0d0887\"],[0.1111111111111111,\"#46039f\"],[0.2222222222222222,\"#7201a8\"],[0.3333333333333333,\"#9c179e\"],[0.4444444444444444,\"#bd3786\"],[0.5555555555555556,\"#d8576b\"],[0.6666666666666666,\"#ed7953\"],[0.7777777777777778,\"#fb9f3a\"],[0.8888888888888888,\"#fdca26\"],[1.0,\"#f0f921\"]]}],\"contourcarpet\":[{\"type\":\"contourcarpet\",\"colorbar\":{\"outlinewidth\":0,\"ticks\":\"\"}}],\"contour\":[{\"type\":\"contour\",\"colorbar\":{\"outlinewidth\":0,\"ticks\":\"\"},\"colorscale\":[[0.0,\"#0d0887\"],[0.1111111111111111,\"#46039f\"],[0.2222222222222222,\"#7201a8\"],[0.3333333333333333,\"#9c179e\"],[0.4444444444444444,\"#bd3786\"],[0.5555555555555556,\"#d8576b\"],[0.6666666666666666,\"#ed7953\"],[0.7777777777777778,\"#fb9f3a\"],[0.8888888888888888,\"#fdca26\"],[1.0,\"#f0f921\"]]}],\"surface\":[{\"type\":\"surface\",\"colorbar\":{\"outlinewidth\":0,\"ticks\":\"\"},\"colorscale\":[[0.0,\"#0d0887\"],[0.1111111111111111,\"#46039f\"],[0.2222222222222222,\"#7201a8\"],[0.3333333333333333,\"#9c179e\"],[0.4444444444444444,\"#bd3786\"],[0.5555555555555556,\"#d8576b\"],[0.6666666666666666,\"#ed7953\"],[0.7777777777777778,\"#fb9f3a\"],[0.8888888888888888,\"#fdca26\"],[1.0,\"#f0f921\"]]}],\"mesh3d\":[{\"type\":\"mesh3d\",\"colorbar\":{\"outlinewidth\":0,\"ticks\":\"\"}}],\"scatter\":[{\"fillpattern\":{\"fillmode\":\"overlay\",\"size\":10,\"solidity\":0.2},\"type\":\"scatter\"}],\"parcoords\":[{\"type\":\"parcoords\",\"line\":{\"colorbar\":{\"outlinewidth\":0,\"ticks\":\"\"}}}],\"scatterpolargl\":[{\"type\":\"scatterpolargl\",\"marker\":{\"colorbar\":{\"outlinewidth\":0,\"ticks\":\"\"}}}],\"bar\":[{\"error_x\":{\"color\":\"#2a3f5f\"},\"error_y\":{\"color\":\"#2a3f5f\"},\"marker\":{\"line\":{\"color\":\"#E5ECF6\",\"width\":0.5},\"pattern\":{\"fillmode\":\"overlay\",\"size\":10,\"solidity\":0.2}},\"type\":\"bar\"}],\"scattergeo\":[{\"type\":\"scattergeo\",\"marker\":{\"colorbar\":{\"outlinewidth\":0,\"ticks\":\"\"}}}],\"scatterpolar\":[{\"type\":\"scatterpolar\",\"marker\":{\"colorbar\":{\"outlinewidth\":0,\"ticks\":\"\"}}}],\"histogram\":[{\"marker\":{\"pattern\":{\"fillmode\":\"overlay\",\"size\":10,\"solidity\":0.2}},\"type\":\"histogram\"}],\"scattergl\":[{\"type\":\"scattergl\",\"marker\":{\"colorbar\":{\"outlinewidth\":0,\"ticks\":\"\"}}}],\"scatter3d\":[{\"type\":\"scatter3d\",\"line\":{\"colorbar\":{\"outlinewidth\":0,\"ticks\":\"\"}},\"marker\":{\"colorbar\":{\"outlinewidth\":0,\"ticks\":\"\"}}}],\"scattermapbox\":[{\"type\":\"scattermapbox\",\"marker\":{\"colorbar\":{\"outlinewidth\":0,\"ticks\":\"\"}}}],\"scatterternary\":[{\"type\":\"scatterternary\",\"marker\":{\"colorbar\":{\"outlinewidth\":0,\"ticks\":\"\"}}}],\"scattercarpet\":[{\"type\":\"scattercarpet\",\"marker\":{\"colorbar\":{\"outlinewidth\":0,\"ticks\":\"\"}}}],\"carpet\":[{\"aaxis\":{\"endlinecolor\":\"#2a3f5f\",\"gridcolor\":\"white\",\"linecolor\":\"white\",\"minorgridcolor\":\"white\",\"startlinecolor\":\"#2a3f5f\"},\"baxis\":{\"endlinecolor\":\"#2a3f5f\",\"gridcolor\":\"white\",\"linecolor\":\"white\",\"minorgridcolor\":\"white\",\"startlinecolor\":\"#2a3f5f\"},\"type\":\"carpet\"}],\"table\":[{\"cells\":{\"fill\":{\"color\":\"#EBF0F8\"},\"line\":{\"color\":\"white\"}},\"header\":{\"fill\":{\"color\":\"#C8D4E3\"},\"line\":{\"color\":\"white\"}},\"type\":\"table\"}],\"barpolar\":[{\"marker\":{\"line\":{\"color\":\"#E5ECF6\",\"width\":0.5},\"pattern\":{\"fillmode\":\"overlay\",\"size\":10,\"solidity\":0.2}},\"type\":\"barpolar\"}],\"pie\":[{\"automargin\":true,\"type\":\"pie\"}]},\"layout\":{\"autotypenumbers\":\"strict\",\"colorway\":[\"#636efa\",\"#EF553B\",\"#00cc96\",\"#ab63fa\",\"#FFA15A\",\"#19d3f3\",\"#FF6692\",\"#B6E880\",\"#FF97FF\",\"#FECB52\"],\"font\":{\"color\":\"#2a3f5f\"},\"hovermode\":\"closest\",\"hoverlabel\":{\"align\":\"left\"},\"paper_bgcolor\":\"white\",\"plot_bgcolor\":\"#E5ECF6\",\"polar\":{\"bgcolor\":\"#E5ECF6\",\"angularaxis\":{\"gridcolor\":\"white\",\"linecolor\":\"white\",\"ticks\":\"\"},\"radialaxis\":{\"gridcolor\":\"white\",\"linecolor\":\"white\",\"ticks\":\"\"}},\"ternary\":{\"bgcolor\":\"#E5ECF6\",\"aaxis\":{\"gridcolor\":\"white\",\"linecolor\":\"white\",\"ticks\":\"\"},\"baxis\":{\"gridcolor\":\"white\",\"linecolor\":\"white\",\"ticks\":\"\"},\"caxis\":{\"gridcolor\":\"white\",\"linecolor\":\"white\",\"ticks\":\"\"}},\"coloraxis\":{\"colorbar\":{\"outlinewidth\":0,\"ticks\":\"\"}},\"colorscale\":{\"sequential\":[[0.0,\"#0d0887\"],[0.1111111111111111,\"#46039f\"],[0.2222222222222222,\"#7201a8\"],[0.3333333333333333,\"#9c179e\"],[0.4444444444444444,\"#bd3786\"],[0.5555555555555556,\"#d8576b\"],[0.6666666666666666,\"#ed7953\"],[0.7777777777777778,\"#fb9f3a\"],[0.8888888888888888,\"#fdca26\"],[1.0,\"#f0f921\"]],\"sequentialminus\":[[0.0,\"#0d0887\"],[0.1111111111111111,\"#46039f\"],[0.2222222222222222,\"#7201a8\"],[0.3333333333333333,\"#9c179e\"],[0.4444444444444444,\"#bd3786\"],[0.5555555555555556,\"#d8576b\"],[0.6666666666666666,\"#ed7953\"],[0.7777777777777778,\"#fb9f3a\"],[0.8888888888888888,\"#fdca26\"],[1.0,\"#f0f921\"]],\"diverging\":[[0,\"#8e0152\"],[0.1,\"#c51b7d\"],[0.2,\"#de77ae\"],[0.3,\"#f1b6da\"],[0.4,\"#fde0ef\"],[0.5,\"#f7f7f7\"],[0.6,\"#e6f5d0\"],[0.7,\"#b8e186\"],[0.8,\"#7fbc41\"],[0.9,\"#4d9221\"],[1,\"#276419\"]]},\"xaxis\":{\"gridcolor\":\"white\",\"linecolor\":\"white\",\"ticks\":\"\",\"title\":{\"standoff\":15},\"zerolinecolor\":\"white\",\"automargin\":true,\"zerolinewidth\":2},\"yaxis\":{\"gridcolor\":\"white\",\"linecolor\":\"white\",\"ticks\":\"\",\"title\":{\"standoff\":15},\"zerolinecolor\":\"white\",\"automargin\":true,\"zerolinewidth\":2},\"scene\":{\"xaxis\":{\"backgroundcolor\":\"#E5ECF6\",\"gridcolor\":\"white\",\"linecolor\":\"white\",\"showbackground\":true,\"ticks\":\"\",\"zerolinecolor\":\"white\",\"gridwidth\":2},\"yaxis\":{\"backgroundcolor\":\"#E5ECF6\",\"gridcolor\":\"white\",\"linecolor\":\"white\",\"showbackground\":true,\"ticks\":\"\",\"zerolinecolor\":\"white\",\"gridwidth\":2},\"zaxis\":{\"backgroundcolor\":\"#E5ECF6\",\"gridcolor\":\"white\",\"linecolor\":\"white\",\"showbackground\":true,\"ticks\":\"\",\"zerolinecolor\":\"white\",\"gridwidth\":2}},\"shapedefaults\":{\"line\":{\"color\":\"#2a3f5f\"}},\"annotationdefaults\":{\"arrowcolor\":\"#2a3f5f\",\"arrowhead\":0,\"arrowwidth\":1},\"geo\":{\"bgcolor\":\"white\",\"landcolor\":\"#E5ECF6\",\"subunitcolor\":\"white\",\"showland\":true,\"showlakes\":true,\"lakecolor\":\"white\"},\"title\":{\"x\":0.05},\"mapbox\":{\"style\":\"light\"}}},\"xaxis\":{\"anchor\":\"y\",\"domain\":[0.0,1.0],\"title\":{\"text\":\"Sales_in_thousands\"}},\"yaxis\":{\"anchor\":\"x\",\"domain\":[0.0,1.0],\"title\":{\"text\":\"count\"}},\"legend\":{\"tracegroupgap\":0},\"margin\":{\"t\":60},\"barmode\":\"relative\"},                        {\"responsive\": true}                    ).then(function(){\n",
       "                            \n",
       "var gd = document.getElementById('c8ac2039-b7d2-422d-a38d-d764a758372e');\n",
       "var x = new MutationObserver(function (mutations, observer) {{\n",
       "        var display = window.getComputedStyle(gd).display;\n",
       "        if (!display || display === 'none') {{\n",
       "            console.log([gd, 'removed!']);\n",
       "            Plotly.purge(gd);\n",
       "            observer.disconnect();\n",
       "        }}\n",
       "}});\n",
       "\n",
       "// Listen for the removal of the full notebook cells\n",
       "var notebookContainer = gd.closest('#notebook-container');\n",
       "if (notebookContainer) {{\n",
       "    x.observe(notebookContainer, {childList: true});\n",
       "}}\n",
       "\n",
       "// Listen for the clearing of the current output cell\n",
       "var outputEl = gd.closest('.output');\n",
       "if (outputEl) {{\n",
       "    x.observe(outputEl, {childList: true});\n",
       "}}\n",
       "\n",
       "                        })                };                });            </script>        </div>"
      ]
     },
     "metadata": {},
     "output_type": "display_data"
    }
   ],
   "source": [
    "px.histogram(data_frame=data,x=\"Sales_in_thousands\")"
   ]
  },
  {
   "cell_type": "code",
   "execution_count": 21,
   "id": "f97fe5b4",
   "metadata": {},
   "outputs": [
    {
     "data": {
      "application/vnd.plotly.v1+json": {
       "config": {
        "plotlyServerURL": "https://plot.ly"
       },
       "data": [
        {
         "alignmentgroup": "True",
         "bingroup": "x",
         "hovertemplate": "Horsepower=%{x}<br>count=%{y}<extra></extra>",
         "legendgroup": "",
         "marker": {
          "color": "#636efa",
          "pattern": {
           "shape": ""
          }
         },
         "name": "",
         "offsetgroup": "",
         "orientation": "v",
         "showlegend": false,
         "type": "histogram",
         "x": [
          140,
          225,
          210,
          150,
          200,
          310,
          193,
          193,
          175,
          240,
          205,
          205,
          275,
          275,
          200,
          115,
          170,
          175,
          180,
          200,
          345,
          120,
          55,
          163,
          168,
          200,
          132,
          253,
          132,
          163,
          168,
          450,
          230,
          175,
          175,
          120,
          150,
          110,
          190,
          170,
          155,
          200,
          210,
          150,
          240,
          119,
          220,
          106,
          135,
          146,
          205,
          210,
          92,
          140,
          148,
          227,
          120,
          190,
          195,
          210,
          225,
          290,
          275,
          215,
          113,
          154,
          145,
          210,
          161,
          200,
          173,
          125,
          125,
          153,
          200,
          210,
          170,
          185,
          221,
          275,
          302,
          126,
          155,
          222,
          170,
          170,
          150,
          250,
          190,
          185,
          132,
          132,
          150,
          150,
          175,
          200,
          195,
          205,
          217,
          300,
          300,
          100,
          100,
          124,
          120,
          133,
          210,
          140,
          142,
          127,
          150,
          230,
          115,
          115,
          150,
          115,
          115
         ],
         "xaxis": "x",
         "yaxis": "y"
        }
       ],
       "layout": {
        "barmode": "relative",
        "legend": {
         "tracegroupgap": 0
        },
        "margin": {
         "t": 60
        },
        "template": {
         "data": {
          "bar": [
           {
            "error_x": {
             "color": "#2a3f5f"
            },
            "error_y": {
             "color": "#2a3f5f"
            },
            "marker": {
             "line": {
              "color": "#E5ECF6",
              "width": 0.5
             },
             "pattern": {
              "fillmode": "overlay",
              "size": 10,
              "solidity": 0.2
             }
            },
            "type": "bar"
           }
          ],
          "barpolar": [
           {
            "marker": {
             "line": {
              "color": "#E5ECF6",
              "width": 0.5
             },
             "pattern": {
              "fillmode": "overlay",
              "size": 10,
              "solidity": 0.2
             }
            },
            "type": "barpolar"
           }
          ],
          "carpet": [
           {
            "aaxis": {
             "endlinecolor": "#2a3f5f",
             "gridcolor": "white",
             "linecolor": "white",
             "minorgridcolor": "white",
             "startlinecolor": "#2a3f5f"
            },
            "baxis": {
             "endlinecolor": "#2a3f5f",
             "gridcolor": "white",
             "linecolor": "white",
             "minorgridcolor": "white",
             "startlinecolor": "#2a3f5f"
            },
            "type": "carpet"
           }
          ],
          "choropleth": [
           {
            "colorbar": {
             "outlinewidth": 0,
             "ticks": ""
            },
            "type": "choropleth"
           }
          ],
          "contour": [
           {
            "colorbar": {
             "outlinewidth": 0,
             "ticks": ""
            },
            "colorscale": [
             [
              0,
              "#0d0887"
             ],
             [
              0.1111111111111111,
              "#46039f"
             ],
             [
              0.2222222222222222,
              "#7201a8"
             ],
             [
              0.3333333333333333,
              "#9c179e"
             ],
             [
              0.4444444444444444,
              "#bd3786"
             ],
             [
              0.5555555555555556,
              "#d8576b"
             ],
             [
              0.6666666666666666,
              "#ed7953"
             ],
             [
              0.7777777777777778,
              "#fb9f3a"
             ],
             [
              0.8888888888888888,
              "#fdca26"
             ],
             [
              1,
              "#f0f921"
             ]
            ],
            "type": "contour"
           }
          ],
          "contourcarpet": [
           {
            "colorbar": {
             "outlinewidth": 0,
             "ticks": ""
            },
            "type": "contourcarpet"
           }
          ],
          "heatmap": [
           {
            "colorbar": {
             "outlinewidth": 0,
             "ticks": ""
            },
            "colorscale": [
             [
              0,
              "#0d0887"
             ],
             [
              0.1111111111111111,
              "#46039f"
             ],
             [
              0.2222222222222222,
              "#7201a8"
             ],
             [
              0.3333333333333333,
              "#9c179e"
             ],
             [
              0.4444444444444444,
              "#bd3786"
             ],
             [
              0.5555555555555556,
              "#d8576b"
             ],
             [
              0.6666666666666666,
              "#ed7953"
             ],
             [
              0.7777777777777778,
              "#fb9f3a"
             ],
             [
              0.8888888888888888,
              "#fdca26"
             ],
             [
              1,
              "#f0f921"
             ]
            ],
            "type": "heatmap"
           }
          ],
          "heatmapgl": [
           {
            "colorbar": {
             "outlinewidth": 0,
             "ticks": ""
            },
            "colorscale": [
             [
              0,
              "#0d0887"
             ],
             [
              0.1111111111111111,
              "#46039f"
             ],
             [
              0.2222222222222222,
              "#7201a8"
             ],
             [
              0.3333333333333333,
              "#9c179e"
             ],
             [
              0.4444444444444444,
              "#bd3786"
             ],
             [
              0.5555555555555556,
              "#d8576b"
             ],
             [
              0.6666666666666666,
              "#ed7953"
             ],
             [
              0.7777777777777778,
              "#fb9f3a"
             ],
             [
              0.8888888888888888,
              "#fdca26"
             ],
             [
              1,
              "#f0f921"
             ]
            ],
            "type": "heatmapgl"
           }
          ],
          "histogram": [
           {
            "marker": {
             "pattern": {
              "fillmode": "overlay",
              "size": 10,
              "solidity": 0.2
             }
            },
            "type": "histogram"
           }
          ],
          "histogram2d": [
           {
            "colorbar": {
             "outlinewidth": 0,
             "ticks": ""
            },
            "colorscale": [
             [
              0,
              "#0d0887"
             ],
             [
              0.1111111111111111,
              "#46039f"
             ],
             [
              0.2222222222222222,
              "#7201a8"
             ],
             [
              0.3333333333333333,
              "#9c179e"
             ],
             [
              0.4444444444444444,
              "#bd3786"
             ],
             [
              0.5555555555555556,
              "#d8576b"
             ],
             [
              0.6666666666666666,
              "#ed7953"
             ],
             [
              0.7777777777777778,
              "#fb9f3a"
             ],
             [
              0.8888888888888888,
              "#fdca26"
             ],
             [
              1,
              "#f0f921"
             ]
            ],
            "type": "histogram2d"
           }
          ],
          "histogram2dcontour": [
           {
            "colorbar": {
             "outlinewidth": 0,
             "ticks": ""
            },
            "colorscale": [
             [
              0,
              "#0d0887"
             ],
             [
              0.1111111111111111,
              "#46039f"
             ],
             [
              0.2222222222222222,
              "#7201a8"
             ],
             [
              0.3333333333333333,
              "#9c179e"
             ],
             [
              0.4444444444444444,
              "#bd3786"
             ],
             [
              0.5555555555555556,
              "#d8576b"
             ],
             [
              0.6666666666666666,
              "#ed7953"
             ],
             [
              0.7777777777777778,
              "#fb9f3a"
             ],
             [
              0.8888888888888888,
              "#fdca26"
             ],
             [
              1,
              "#f0f921"
             ]
            ],
            "type": "histogram2dcontour"
           }
          ],
          "mesh3d": [
           {
            "colorbar": {
             "outlinewidth": 0,
             "ticks": ""
            },
            "type": "mesh3d"
           }
          ],
          "parcoords": [
           {
            "line": {
             "colorbar": {
              "outlinewidth": 0,
              "ticks": ""
             }
            },
            "type": "parcoords"
           }
          ],
          "pie": [
           {
            "automargin": true,
            "type": "pie"
           }
          ],
          "scatter": [
           {
            "fillpattern": {
             "fillmode": "overlay",
             "size": 10,
             "solidity": 0.2
            },
            "type": "scatter"
           }
          ],
          "scatter3d": [
           {
            "line": {
             "colorbar": {
              "outlinewidth": 0,
              "ticks": ""
             }
            },
            "marker": {
             "colorbar": {
              "outlinewidth": 0,
              "ticks": ""
             }
            },
            "type": "scatter3d"
           }
          ],
          "scattercarpet": [
           {
            "marker": {
             "colorbar": {
              "outlinewidth": 0,
              "ticks": ""
             }
            },
            "type": "scattercarpet"
           }
          ],
          "scattergeo": [
           {
            "marker": {
             "colorbar": {
              "outlinewidth": 0,
              "ticks": ""
             }
            },
            "type": "scattergeo"
           }
          ],
          "scattergl": [
           {
            "marker": {
             "colorbar": {
              "outlinewidth": 0,
              "ticks": ""
             }
            },
            "type": "scattergl"
           }
          ],
          "scattermapbox": [
           {
            "marker": {
             "colorbar": {
              "outlinewidth": 0,
              "ticks": ""
             }
            },
            "type": "scattermapbox"
           }
          ],
          "scatterpolar": [
           {
            "marker": {
             "colorbar": {
              "outlinewidth": 0,
              "ticks": ""
             }
            },
            "type": "scatterpolar"
           }
          ],
          "scatterpolargl": [
           {
            "marker": {
             "colorbar": {
              "outlinewidth": 0,
              "ticks": ""
             }
            },
            "type": "scatterpolargl"
           }
          ],
          "scatterternary": [
           {
            "marker": {
             "colorbar": {
              "outlinewidth": 0,
              "ticks": ""
             }
            },
            "type": "scatterternary"
           }
          ],
          "surface": [
           {
            "colorbar": {
             "outlinewidth": 0,
             "ticks": ""
            },
            "colorscale": [
             [
              0,
              "#0d0887"
             ],
             [
              0.1111111111111111,
              "#46039f"
             ],
             [
              0.2222222222222222,
              "#7201a8"
             ],
             [
              0.3333333333333333,
              "#9c179e"
             ],
             [
              0.4444444444444444,
              "#bd3786"
             ],
             [
              0.5555555555555556,
              "#d8576b"
             ],
             [
              0.6666666666666666,
              "#ed7953"
             ],
             [
              0.7777777777777778,
              "#fb9f3a"
             ],
             [
              0.8888888888888888,
              "#fdca26"
             ],
             [
              1,
              "#f0f921"
             ]
            ],
            "type": "surface"
           }
          ],
          "table": [
           {
            "cells": {
             "fill": {
              "color": "#EBF0F8"
             },
             "line": {
              "color": "white"
             }
            },
            "header": {
             "fill": {
              "color": "#C8D4E3"
             },
             "line": {
              "color": "white"
             }
            },
            "type": "table"
           }
          ]
         },
         "layout": {
          "annotationdefaults": {
           "arrowcolor": "#2a3f5f",
           "arrowhead": 0,
           "arrowwidth": 1
          },
          "autotypenumbers": "strict",
          "coloraxis": {
           "colorbar": {
            "outlinewidth": 0,
            "ticks": ""
           }
          },
          "colorscale": {
           "diverging": [
            [
             0,
             "#8e0152"
            ],
            [
             0.1,
             "#c51b7d"
            ],
            [
             0.2,
             "#de77ae"
            ],
            [
             0.3,
             "#f1b6da"
            ],
            [
             0.4,
             "#fde0ef"
            ],
            [
             0.5,
             "#f7f7f7"
            ],
            [
             0.6,
             "#e6f5d0"
            ],
            [
             0.7,
             "#b8e186"
            ],
            [
             0.8,
             "#7fbc41"
            ],
            [
             0.9,
             "#4d9221"
            ],
            [
             1,
             "#276419"
            ]
           ],
           "sequential": [
            [
             0,
             "#0d0887"
            ],
            [
             0.1111111111111111,
             "#46039f"
            ],
            [
             0.2222222222222222,
             "#7201a8"
            ],
            [
             0.3333333333333333,
             "#9c179e"
            ],
            [
             0.4444444444444444,
             "#bd3786"
            ],
            [
             0.5555555555555556,
             "#d8576b"
            ],
            [
             0.6666666666666666,
             "#ed7953"
            ],
            [
             0.7777777777777778,
             "#fb9f3a"
            ],
            [
             0.8888888888888888,
             "#fdca26"
            ],
            [
             1,
             "#f0f921"
            ]
           ],
           "sequentialminus": [
            [
             0,
             "#0d0887"
            ],
            [
             0.1111111111111111,
             "#46039f"
            ],
            [
             0.2222222222222222,
             "#7201a8"
            ],
            [
             0.3333333333333333,
             "#9c179e"
            ],
            [
             0.4444444444444444,
             "#bd3786"
            ],
            [
             0.5555555555555556,
             "#d8576b"
            ],
            [
             0.6666666666666666,
             "#ed7953"
            ],
            [
             0.7777777777777778,
             "#fb9f3a"
            ],
            [
             0.8888888888888888,
             "#fdca26"
            ],
            [
             1,
             "#f0f921"
            ]
           ]
          },
          "colorway": [
           "#636efa",
           "#EF553B",
           "#00cc96",
           "#ab63fa",
           "#FFA15A",
           "#19d3f3",
           "#FF6692",
           "#B6E880",
           "#FF97FF",
           "#FECB52"
          ],
          "font": {
           "color": "#2a3f5f"
          },
          "geo": {
           "bgcolor": "white",
           "lakecolor": "white",
           "landcolor": "#E5ECF6",
           "showlakes": true,
           "showland": true,
           "subunitcolor": "white"
          },
          "hoverlabel": {
           "align": "left"
          },
          "hovermode": "closest",
          "mapbox": {
           "style": "light"
          },
          "paper_bgcolor": "white",
          "plot_bgcolor": "#E5ECF6",
          "polar": {
           "angularaxis": {
            "gridcolor": "white",
            "linecolor": "white",
            "ticks": ""
           },
           "bgcolor": "#E5ECF6",
           "radialaxis": {
            "gridcolor": "white",
            "linecolor": "white",
            "ticks": ""
           }
          },
          "scene": {
           "xaxis": {
            "backgroundcolor": "#E5ECF6",
            "gridcolor": "white",
            "gridwidth": 2,
            "linecolor": "white",
            "showbackground": true,
            "ticks": "",
            "zerolinecolor": "white"
           },
           "yaxis": {
            "backgroundcolor": "#E5ECF6",
            "gridcolor": "white",
            "gridwidth": 2,
            "linecolor": "white",
            "showbackground": true,
            "ticks": "",
            "zerolinecolor": "white"
           },
           "zaxis": {
            "backgroundcolor": "#E5ECF6",
            "gridcolor": "white",
            "gridwidth": 2,
            "linecolor": "white",
            "showbackground": true,
            "ticks": "",
            "zerolinecolor": "white"
           }
          },
          "shapedefaults": {
           "line": {
            "color": "#2a3f5f"
           }
          },
          "ternary": {
           "aaxis": {
            "gridcolor": "white",
            "linecolor": "white",
            "ticks": ""
           },
           "baxis": {
            "gridcolor": "white",
            "linecolor": "white",
            "ticks": ""
           },
           "bgcolor": "#E5ECF6",
           "caxis": {
            "gridcolor": "white",
            "linecolor": "white",
            "ticks": ""
           }
          },
          "title": {
           "x": 0.05
          },
          "xaxis": {
           "automargin": true,
           "gridcolor": "white",
           "linecolor": "white",
           "ticks": "",
           "title": {
            "standoff": 15
           },
           "zerolinecolor": "white",
           "zerolinewidth": 2
          },
          "yaxis": {
           "automargin": true,
           "gridcolor": "white",
           "linecolor": "white",
           "ticks": "",
           "title": {
            "standoff": 15
           },
           "zerolinecolor": "white",
           "zerolinewidth": 2
          }
         }
        },
        "xaxis": {
         "anchor": "y",
         "domain": [
          0,
          1
         ],
         "title": {
          "text": "Horsepower"
         }
        },
        "yaxis": {
         "anchor": "x",
         "domain": [
          0,
          1
         ],
         "title": {
          "text": "count"
         }
        }
       }
      },
      "text/html": [
       "<div>                            <div id=\"f034b3c4-c2a4-46cb-8a7a-8232ba6f9438\" class=\"plotly-graph-div\" style=\"height:525px; width:100%;\"></div>            <script type=\"text/javascript\">                require([\"plotly\"], function(Plotly) {                    window.PLOTLYENV=window.PLOTLYENV || {};                                    if (document.getElementById(\"f034b3c4-c2a4-46cb-8a7a-8232ba6f9438\")) {                    Plotly.newPlot(                        \"f034b3c4-c2a4-46cb-8a7a-8232ba6f9438\",                        [{\"alignmentgroup\":\"True\",\"bingroup\":\"x\",\"hovertemplate\":\"Horsepower=%{x}<br>count=%{y}<extra></extra>\",\"legendgroup\":\"\",\"marker\":{\"color\":\"#636efa\",\"pattern\":{\"shape\":\"\"}},\"name\":\"\",\"offsetgroup\":\"\",\"orientation\":\"v\",\"showlegend\":false,\"x\":[140.0,225.0,210.0,150.0,200.0,310.0,193.0,193.0,175.0,240.0,205.0,205.0,275.0,275.0,200.0,115.0,170.0,175.0,180.0,200.0,345.0,120.0,55.0,163.0,168.0,200.0,132.0,253.0,132.0,163.0,168.0,450.0,230.0,175.0,175.0,120.0,150.0,110.0,190.0,170.0,155.0,200.0,210.0,150.0,240.0,119.0,220.0,106.0,135.0,146.0,205.0,210.0,92.0,140.0,148.0,227.0,120.0,190.0,195.0,210.0,225.0,290.0,275.0,215.0,113.0,154.0,145.0,210.0,161.0,200.0,173.0,125.0,125.0,153.0,200.0,210.0,170.0,185.0,221.0,275.0,302.0,126.0,155.0,222.0,170.0,170.0,150.0,250.0,190.0,185.0,132.0,132.0,150.0,150.0,175.0,200.0,195.0,205.0,217.0,300.0,300.0,100.0,100.0,124.0,120.0,133.0,210.0,140.0,142.0,127.0,150.0,230.0,115.0,115.0,150.0,115.0,115.0],\"xaxis\":\"x\",\"yaxis\":\"y\",\"type\":\"histogram\"}],                        {\"template\":{\"data\":{\"histogram2dcontour\":[{\"type\":\"histogram2dcontour\",\"colorbar\":{\"outlinewidth\":0,\"ticks\":\"\"},\"colorscale\":[[0.0,\"#0d0887\"],[0.1111111111111111,\"#46039f\"],[0.2222222222222222,\"#7201a8\"],[0.3333333333333333,\"#9c179e\"],[0.4444444444444444,\"#bd3786\"],[0.5555555555555556,\"#d8576b\"],[0.6666666666666666,\"#ed7953\"],[0.7777777777777778,\"#fb9f3a\"],[0.8888888888888888,\"#fdca26\"],[1.0,\"#f0f921\"]]}],\"choropleth\":[{\"type\":\"choropleth\",\"colorbar\":{\"outlinewidth\":0,\"ticks\":\"\"}}],\"histogram2d\":[{\"type\":\"histogram2d\",\"colorbar\":{\"outlinewidth\":0,\"ticks\":\"\"},\"colorscale\":[[0.0,\"#0d0887\"],[0.1111111111111111,\"#46039f\"],[0.2222222222222222,\"#7201a8\"],[0.3333333333333333,\"#9c179e\"],[0.4444444444444444,\"#bd3786\"],[0.5555555555555556,\"#d8576b\"],[0.6666666666666666,\"#ed7953\"],[0.7777777777777778,\"#fb9f3a\"],[0.8888888888888888,\"#fdca26\"],[1.0,\"#f0f921\"]]}],\"heatmap\":[{\"type\":\"heatmap\",\"colorbar\":{\"outlinewidth\":0,\"ticks\":\"\"},\"colorscale\":[[0.0,\"#0d0887\"],[0.1111111111111111,\"#46039f\"],[0.2222222222222222,\"#7201a8\"],[0.3333333333333333,\"#9c179e\"],[0.4444444444444444,\"#bd3786\"],[0.5555555555555556,\"#d8576b\"],[0.6666666666666666,\"#ed7953\"],[0.7777777777777778,\"#fb9f3a\"],[0.8888888888888888,\"#fdca26\"],[1.0,\"#f0f921\"]]}],\"heatmapgl\":[{\"type\":\"heatmapgl\",\"colorbar\":{\"outlinewidth\":0,\"ticks\":\"\"},\"colorscale\":[[0.0,\"#0d0887\"],[0.1111111111111111,\"#46039f\"],[0.2222222222222222,\"#7201a8\"],[0.3333333333333333,\"#9c179e\"],[0.4444444444444444,\"#bd3786\"],[0.5555555555555556,\"#d8576b\"],[0.6666666666666666,\"#ed7953\"],[0.7777777777777778,\"#fb9f3a\"],[0.8888888888888888,\"#fdca26\"],[1.0,\"#f0f921\"]]}],\"contourcarpet\":[{\"type\":\"contourcarpet\",\"colorbar\":{\"outlinewidth\":0,\"ticks\":\"\"}}],\"contour\":[{\"type\":\"contour\",\"colorbar\":{\"outlinewidth\":0,\"ticks\":\"\"},\"colorscale\":[[0.0,\"#0d0887\"],[0.1111111111111111,\"#46039f\"],[0.2222222222222222,\"#7201a8\"],[0.3333333333333333,\"#9c179e\"],[0.4444444444444444,\"#bd3786\"],[0.5555555555555556,\"#d8576b\"],[0.6666666666666666,\"#ed7953\"],[0.7777777777777778,\"#fb9f3a\"],[0.8888888888888888,\"#fdca26\"],[1.0,\"#f0f921\"]]}],\"surface\":[{\"type\":\"surface\",\"colorbar\":{\"outlinewidth\":0,\"ticks\":\"\"},\"colorscale\":[[0.0,\"#0d0887\"],[0.1111111111111111,\"#46039f\"],[0.2222222222222222,\"#7201a8\"],[0.3333333333333333,\"#9c179e\"],[0.4444444444444444,\"#bd3786\"],[0.5555555555555556,\"#d8576b\"],[0.6666666666666666,\"#ed7953\"],[0.7777777777777778,\"#fb9f3a\"],[0.8888888888888888,\"#fdca26\"],[1.0,\"#f0f921\"]]}],\"mesh3d\":[{\"type\":\"mesh3d\",\"colorbar\":{\"outlinewidth\":0,\"ticks\":\"\"}}],\"scatter\":[{\"fillpattern\":{\"fillmode\":\"overlay\",\"size\":10,\"solidity\":0.2},\"type\":\"scatter\"}],\"parcoords\":[{\"type\":\"parcoords\",\"line\":{\"colorbar\":{\"outlinewidth\":0,\"ticks\":\"\"}}}],\"scatterpolargl\":[{\"type\":\"scatterpolargl\",\"marker\":{\"colorbar\":{\"outlinewidth\":0,\"ticks\":\"\"}}}],\"bar\":[{\"error_x\":{\"color\":\"#2a3f5f\"},\"error_y\":{\"color\":\"#2a3f5f\"},\"marker\":{\"line\":{\"color\":\"#E5ECF6\",\"width\":0.5},\"pattern\":{\"fillmode\":\"overlay\",\"size\":10,\"solidity\":0.2}},\"type\":\"bar\"}],\"scattergeo\":[{\"type\":\"scattergeo\",\"marker\":{\"colorbar\":{\"outlinewidth\":0,\"ticks\":\"\"}}}],\"scatterpolar\":[{\"type\":\"scatterpolar\",\"marker\":{\"colorbar\":{\"outlinewidth\":0,\"ticks\":\"\"}}}],\"histogram\":[{\"marker\":{\"pattern\":{\"fillmode\":\"overlay\",\"size\":10,\"solidity\":0.2}},\"type\":\"histogram\"}],\"scattergl\":[{\"type\":\"scattergl\",\"marker\":{\"colorbar\":{\"outlinewidth\":0,\"ticks\":\"\"}}}],\"scatter3d\":[{\"type\":\"scatter3d\",\"line\":{\"colorbar\":{\"outlinewidth\":0,\"ticks\":\"\"}},\"marker\":{\"colorbar\":{\"outlinewidth\":0,\"ticks\":\"\"}}}],\"scattermapbox\":[{\"type\":\"scattermapbox\",\"marker\":{\"colorbar\":{\"outlinewidth\":0,\"ticks\":\"\"}}}],\"scatterternary\":[{\"type\":\"scatterternary\",\"marker\":{\"colorbar\":{\"outlinewidth\":0,\"ticks\":\"\"}}}],\"scattercarpet\":[{\"type\":\"scattercarpet\",\"marker\":{\"colorbar\":{\"outlinewidth\":0,\"ticks\":\"\"}}}],\"carpet\":[{\"aaxis\":{\"endlinecolor\":\"#2a3f5f\",\"gridcolor\":\"white\",\"linecolor\":\"white\",\"minorgridcolor\":\"white\",\"startlinecolor\":\"#2a3f5f\"},\"baxis\":{\"endlinecolor\":\"#2a3f5f\",\"gridcolor\":\"white\",\"linecolor\":\"white\",\"minorgridcolor\":\"white\",\"startlinecolor\":\"#2a3f5f\"},\"type\":\"carpet\"}],\"table\":[{\"cells\":{\"fill\":{\"color\":\"#EBF0F8\"},\"line\":{\"color\":\"white\"}},\"header\":{\"fill\":{\"color\":\"#C8D4E3\"},\"line\":{\"color\":\"white\"}},\"type\":\"table\"}],\"barpolar\":[{\"marker\":{\"line\":{\"color\":\"#E5ECF6\",\"width\":0.5},\"pattern\":{\"fillmode\":\"overlay\",\"size\":10,\"solidity\":0.2}},\"type\":\"barpolar\"}],\"pie\":[{\"automargin\":true,\"type\":\"pie\"}]},\"layout\":{\"autotypenumbers\":\"strict\",\"colorway\":[\"#636efa\",\"#EF553B\",\"#00cc96\",\"#ab63fa\",\"#FFA15A\",\"#19d3f3\",\"#FF6692\",\"#B6E880\",\"#FF97FF\",\"#FECB52\"],\"font\":{\"color\":\"#2a3f5f\"},\"hovermode\":\"closest\",\"hoverlabel\":{\"align\":\"left\"},\"paper_bgcolor\":\"white\",\"plot_bgcolor\":\"#E5ECF6\",\"polar\":{\"bgcolor\":\"#E5ECF6\",\"angularaxis\":{\"gridcolor\":\"white\",\"linecolor\":\"white\",\"ticks\":\"\"},\"radialaxis\":{\"gridcolor\":\"white\",\"linecolor\":\"white\",\"ticks\":\"\"}},\"ternary\":{\"bgcolor\":\"#E5ECF6\",\"aaxis\":{\"gridcolor\":\"white\",\"linecolor\":\"white\",\"ticks\":\"\"},\"baxis\":{\"gridcolor\":\"white\",\"linecolor\":\"white\",\"ticks\":\"\"},\"caxis\":{\"gridcolor\":\"white\",\"linecolor\":\"white\",\"ticks\":\"\"}},\"coloraxis\":{\"colorbar\":{\"outlinewidth\":0,\"ticks\":\"\"}},\"colorscale\":{\"sequential\":[[0.0,\"#0d0887\"],[0.1111111111111111,\"#46039f\"],[0.2222222222222222,\"#7201a8\"],[0.3333333333333333,\"#9c179e\"],[0.4444444444444444,\"#bd3786\"],[0.5555555555555556,\"#d8576b\"],[0.6666666666666666,\"#ed7953\"],[0.7777777777777778,\"#fb9f3a\"],[0.8888888888888888,\"#fdca26\"],[1.0,\"#f0f921\"]],\"sequentialminus\":[[0.0,\"#0d0887\"],[0.1111111111111111,\"#46039f\"],[0.2222222222222222,\"#7201a8\"],[0.3333333333333333,\"#9c179e\"],[0.4444444444444444,\"#bd3786\"],[0.5555555555555556,\"#d8576b\"],[0.6666666666666666,\"#ed7953\"],[0.7777777777777778,\"#fb9f3a\"],[0.8888888888888888,\"#fdca26\"],[1.0,\"#f0f921\"]],\"diverging\":[[0,\"#8e0152\"],[0.1,\"#c51b7d\"],[0.2,\"#de77ae\"],[0.3,\"#f1b6da\"],[0.4,\"#fde0ef\"],[0.5,\"#f7f7f7\"],[0.6,\"#e6f5d0\"],[0.7,\"#b8e186\"],[0.8,\"#7fbc41\"],[0.9,\"#4d9221\"],[1,\"#276419\"]]},\"xaxis\":{\"gridcolor\":\"white\",\"linecolor\":\"white\",\"ticks\":\"\",\"title\":{\"standoff\":15},\"zerolinecolor\":\"white\",\"automargin\":true,\"zerolinewidth\":2},\"yaxis\":{\"gridcolor\":\"white\",\"linecolor\":\"white\",\"ticks\":\"\",\"title\":{\"standoff\":15},\"zerolinecolor\":\"white\",\"automargin\":true,\"zerolinewidth\":2},\"scene\":{\"xaxis\":{\"backgroundcolor\":\"#E5ECF6\",\"gridcolor\":\"white\",\"linecolor\":\"white\",\"showbackground\":true,\"ticks\":\"\",\"zerolinecolor\":\"white\",\"gridwidth\":2},\"yaxis\":{\"backgroundcolor\":\"#E5ECF6\",\"gridcolor\":\"white\",\"linecolor\":\"white\",\"showbackground\":true,\"ticks\":\"\",\"zerolinecolor\":\"white\",\"gridwidth\":2},\"zaxis\":{\"backgroundcolor\":\"#E5ECF6\",\"gridcolor\":\"white\",\"linecolor\":\"white\",\"showbackground\":true,\"ticks\":\"\",\"zerolinecolor\":\"white\",\"gridwidth\":2}},\"shapedefaults\":{\"line\":{\"color\":\"#2a3f5f\"}},\"annotationdefaults\":{\"arrowcolor\":\"#2a3f5f\",\"arrowhead\":0,\"arrowwidth\":1},\"geo\":{\"bgcolor\":\"white\",\"landcolor\":\"#E5ECF6\",\"subunitcolor\":\"white\",\"showland\":true,\"showlakes\":true,\"lakecolor\":\"white\"},\"title\":{\"x\":0.05},\"mapbox\":{\"style\":\"light\"}}},\"xaxis\":{\"anchor\":\"y\",\"domain\":[0.0,1.0],\"title\":{\"text\":\"Horsepower\"}},\"yaxis\":{\"anchor\":\"x\",\"domain\":[0.0,1.0],\"title\":{\"text\":\"count\"}},\"legend\":{\"tracegroupgap\":0},\"margin\":{\"t\":60},\"barmode\":\"relative\"},                        {\"responsive\": true}                    ).then(function(){\n",
       "                            \n",
       "var gd = document.getElementById('f034b3c4-c2a4-46cb-8a7a-8232ba6f9438');\n",
       "var x = new MutationObserver(function (mutations, observer) {{\n",
       "        var display = window.getComputedStyle(gd).display;\n",
       "        if (!display || display === 'none') {{\n",
       "            console.log([gd, 'removed!']);\n",
       "            Plotly.purge(gd);\n",
       "            observer.disconnect();\n",
       "        }}\n",
       "}});\n",
       "\n",
       "// Listen for the removal of the full notebook cells\n",
       "var notebookContainer = gd.closest('#notebook-container');\n",
       "if (notebookContainer) {{\n",
       "    x.observe(notebookContainer, {childList: true});\n",
       "}}\n",
       "\n",
       "// Listen for the clearing of the current output cell\n",
       "var outputEl = gd.closest('.output');\n",
       "if (outputEl) {{\n",
       "    x.observe(outputEl, {childList: true});\n",
       "}}\n",
       "\n",
       "                        })                };                });            </script>        </div>"
      ]
     },
     "metadata": {},
     "output_type": "display_data"
    }
   ],
   "source": [
    "px.histogram(data_frame=data,x=\"Horsepower\")\n"
   ]
  },
  {
   "cell_type": "code",
   "execution_count": 22,
   "id": "6979eab2",
   "metadata": {},
   "outputs": [
    {
     "data": {
      "application/vnd.plotly.v1+json": {
       "config": {
        "plotlyServerURL": "https://plot.ly"
       },
       "data": [
        {
         "alignmentgroup": "True",
         "bingroup": "x",
         "hovertemplate": "Engine_size=%{x}<br>count=%{y}<extra></extra>",
         "legendgroup": "",
         "marker": {
          "color": "#636efa",
          "pattern": {
           "shape": ""
          }
         },
         "name": "",
         "offsetgroup": "",
         "orientation": "v",
         "showlegend": false,
         "type": "histogram",
         "x": [
          1.8,
          3.2,
          3.5,
          1.8,
          2.8,
          4.2,
          2.8,
          2.8,
          3.1,
          3.8,
          3.8,
          3.8,
          4.6,
          4.6,
          3,
          2.2,
          3.1,
          3.1,
          3.4,
          3.8,
          5.7,
          1.8,
          1,
          2.5,
          2.5,
          2.7,
          2,
          3.5,
          2,
          2.5,
          2.5,
          8,
          5.2,
          3.9,
          3.9,
          2.5,
          2.4,
          2,
          3.8,
          2.5,
          3,
          4.6,
          4,
          3,
          4.6,
          2.5,
          4.6,
          1.6,
          2.3,
          2,
          3.2,
          3.5,
          1.5,
          2,
          2.4,
          3,
          2.5,
          4,
          4,
          3,
          3,
          4,
          4.6,
          4.6,
          1.8,
          2.4,
          2.4,
          3.5,
          3,
          3.5,
          3,
          2,
          2,
          3,
          4.6,
          4,
          3.3,
          2.3,
          3.2,
          4.3,
          5,
          1.8,
          2.4,
          3,
          3.3,
          3.3,
          3.1,
          4,
          4.3,
          3.4,
          2,
          2,
          2.4,
          2.4,
          3.4,
          3.8,
          3.8,
          3.8,
          2.7,
          3.4,
          3.4,
          1.9,
          1.9,
          1.9,
          1.8,
          2.2,
          3,
          1.8,
          2.4,
          2,
          2.7,
          4.7,
          2,
          2,
          1.8,
          2,
          2
         ],
         "xaxis": "x",
         "yaxis": "y"
        }
       ],
       "layout": {
        "barmode": "relative",
        "legend": {
         "tracegroupgap": 0
        },
        "margin": {
         "t": 60
        },
        "template": {
         "data": {
          "bar": [
           {
            "error_x": {
             "color": "#2a3f5f"
            },
            "error_y": {
             "color": "#2a3f5f"
            },
            "marker": {
             "line": {
              "color": "#E5ECF6",
              "width": 0.5
             },
             "pattern": {
              "fillmode": "overlay",
              "size": 10,
              "solidity": 0.2
             }
            },
            "type": "bar"
           }
          ],
          "barpolar": [
           {
            "marker": {
             "line": {
              "color": "#E5ECF6",
              "width": 0.5
             },
             "pattern": {
              "fillmode": "overlay",
              "size": 10,
              "solidity": 0.2
             }
            },
            "type": "barpolar"
           }
          ],
          "carpet": [
           {
            "aaxis": {
             "endlinecolor": "#2a3f5f",
             "gridcolor": "white",
             "linecolor": "white",
             "minorgridcolor": "white",
             "startlinecolor": "#2a3f5f"
            },
            "baxis": {
             "endlinecolor": "#2a3f5f",
             "gridcolor": "white",
             "linecolor": "white",
             "minorgridcolor": "white",
             "startlinecolor": "#2a3f5f"
            },
            "type": "carpet"
           }
          ],
          "choropleth": [
           {
            "colorbar": {
             "outlinewidth": 0,
             "ticks": ""
            },
            "type": "choropleth"
           }
          ],
          "contour": [
           {
            "colorbar": {
             "outlinewidth": 0,
             "ticks": ""
            },
            "colorscale": [
             [
              0,
              "#0d0887"
             ],
             [
              0.1111111111111111,
              "#46039f"
             ],
             [
              0.2222222222222222,
              "#7201a8"
             ],
             [
              0.3333333333333333,
              "#9c179e"
             ],
             [
              0.4444444444444444,
              "#bd3786"
             ],
             [
              0.5555555555555556,
              "#d8576b"
             ],
             [
              0.6666666666666666,
              "#ed7953"
             ],
             [
              0.7777777777777778,
              "#fb9f3a"
             ],
             [
              0.8888888888888888,
              "#fdca26"
             ],
             [
              1,
              "#f0f921"
             ]
            ],
            "type": "contour"
           }
          ],
          "contourcarpet": [
           {
            "colorbar": {
             "outlinewidth": 0,
             "ticks": ""
            },
            "type": "contourcarpet"
           }
          ],
          "heatmap": [
           {
            "colorbar": {
             "outlinewidth": 0,
             "ticks": ""
            },
            "colorscale": [
             [
              0,
              "#0d0887"
             ],
             [
              0.1111111111111111,
              "#46039f"
             ],
             [
              0.2222222222222222,
              "#7201a8"
             ],
             [
              0.3333333333333333,
              "#9c179e"
             ],
             [
              0.4444444444444444,
              "#bd3786"
             ],
             [
              0.5555555555555556,
              "#d8576b"
             ],
             [
              0.6666666666666666,
              "#ed7953"
             ],
             [
              0.7777777777777778,
              "#fb9f3a"
             ],
             [
              0.8888888888888888,
              "#fdca26"
             ],
             [
              1,
              "#f0f921"
             ]
            ],
            "type": "heatmap"
           }
          ],
          "heatmapgl": [
           {
            "colorbar": {
             "outlinewidth": 0,
             "ticks": ""
            },
            "colorscale": [
             [
              0,
              "#0d0887"
             ],
             [
              0.1111111111111111,
              "#46039f"
             ],
             [
              0.2222222222222222,
              "#7201a8"
             ],
             [
              0.3333333333333333,
              "#9c179e"
             ],
             [
              0.4444444444444444,
              "#bd3786"
             ],
             [
              0.5555555555555556,
              "#d8576b"
             ],
             [
              0.6666666666666666,
              "#ed7953"
             ],
             [
              0.7777777777777778,
              "#fb9f3a"
             ],
             [
              0.8888888888888888,
              "#fdca26"
             ],
             [
              1,
              "#f0f921"
             ]
            ],
            "type": "heatmapgl"
           }
          ],
          "histogram": [
           {
            "marker": {
             "pattern": {
              "fillmode": "overlay",
              "size": 10,
              "solidity": 0.2
             }
            },
            "type": "histogram"
           }
          ],
          "histogram2d": [
           {
            "colorbar": {
             "outlinewidth": 0,
             "ticks": ""
            },
            "colorscale": [
             [
              0,
              "#0d0887"
             ],
             [
              0.1111111111111111,
              "#46039f"
             ],
             [
              0.2222222222222222,
              "#7201a8"
             ],
             [
              0.3333333333333333,
              "#9c179e"
             ],
             [
              0.4444444444444444,
              "#bd3786"
             ],
             [
              0.5555555555555556,
              "#d8576b"
             ],
             [
              0.6666666666666666,
              "#ed7953"
             ],
             [
              0.7777777777777778,
              "#fb9f3a"
             ],
             [
              0.8888888888888888,
              "#fdca26"
             ],
             [
              1,
              "#f0f921"
             ]
            ],
            "type": "histogram2d"
           }
          ],
          "histogram2dcontour": [
           {
            "colorbar": {
             "outlinewidth": 0,
             "ticks": ""
            },
            "colorscale": [
             [
              0,
              "#0d0887"
             ],
             [
              0.1111111111111111,
              "#46039f"
             ],
             [
              0.2222222222222222,
              "#7201a8"
             ],
             [
              0.3333333333333333,
              "#9c179e"
             ],
             [
              0.4444444444444444,
              "#bd3786"
             ],
             [
              0.5555555555555556,
              "#d8576b"
             ],
             [
              0.6666666666666666,
              "#ed7953"
             ],
             [
              0.7777777777777778,
              "#fb9f3a"
             ],
             [
              0.8888888888888888,
              "#fdca26"
             ],
             [
              1,
              "#f0f921"
             ]
            ],
            "type": "histogram2dcontour"
           }
          ],
          "mesh3d": [
           {
            "colorbar": {
             "outlinewidth": 0,
             "ticks": ""
            },
            "type": "mesh3d"
           }
          ],
          "parcoords": [
           {
            "line": {
             "colorbar": {
              "outlinewidth": 0,
              "ticks": ""
             }
            },
            "type": "parcoords"
           }
          ],
          "pie": [
           {
            "automargin": true,
            "type": "pie"
           }
          ],
          "scatter": [
           {
            "fillpattern": {
             "fillmode": "overlay",
             "size": 10,
             "solidity": 0.2
            },
            "type": "scatter"
           }
          ],
          "scatter3d": [
           {
            "line": {
             "colorbar": {
              "outlinewidth": 0,
              "ticks": ""
             }
            },
            "marker": {
             "colorbar": {
              "outlinewidth": 0,
              "ticks": ""
             }
            },
            "type": "scatter3d"
           }
          ],
          "scattercarpet": [
           {
            "marker": {
             "colorbar": {
              "outlinewidth": 0,
              "ticks": ""
             }
            },
            "type": "scattercarpet"
           }
          ],
          "scattergeo": [
           {
            "marker": {
             "colorbar": {
              "outlinewidth": 0,
              "ticks": ""
             }
            },
            "type": "scattergeo"
           }
          ],
          "scattergl": [
           {
            "marker": {
             "colorbar": {
              "outlinewidth": 0,
              "ticks": ""
             }
            },
            "type": "scattergl"
           }
          ],
          "scattermapbox": [
           {
            "marker": {
             "colorbar": {
              "outlinewidth": 0,
              "ticks": ""
             }
            },
            "type": "scattermapbox"
           }
          ],
          "scatterpolar": [
           {
            "marker": {
             "colorbar": {
              "outlinewidth": 0,
              "ticks": ""
             }
            },
            "type": "scatterpolar"
           }
          ],
          "scatterpolargl": [
           {
            "marker": {
             "colorbar": {
              "outlinewidth": 0,
              "ticks": ""
             }
            },
            "type": "scatterpolargl"
           }
          ],
          "scatterternary": [
           {
            "marker": {
             "colorbar": {
              "outlinewidth": 0,
              "ticks": ""
             }
            },
            "type": "scatterternary"
           }
          ],
          "surface": [
           {
            "colorbar": {
             "outlinewidth": 0,
             "ticks": ""
            },
            "colorscale": [
             [
              0,
              "#0d0887"
             ],
             [
              0.1111111111111111,
              "#46039f"
             ],
             [
              0.2222222222222222,
              "#7201a8"
             ],
             [
              0.3333333333333333,
              "#9c179e"
             ],
             [
              0.4444444444444444,
              "#bd3786"
             ],
             [
              0.5555555555555556,
              "#d8576b"
             ],
             [
              0.6666666666666666,
              "#ed7953"
             ],
             [
              0.7777777777777778,
              "#fb9f3a"
             ],
             [
              0.8888888888888888,
              "#fdca26"
             ],
             [
              1,
              "#f0f921"
             ]
            ],
            "type": "surface"
           }
          ],
          "table": [
           {
            "cells": {
             "fill": {
              "color": "#EBF0F8"
             },
             "line": {
              "color": "white"
             }
            },
            "header": {
             "fill": {
              "color": "#C8D4E3"
             },
             "line": {
              "color": "white"
             }
            },
            "type": "table"
           }
          ]
         },
         "layout": {
          "annotationdefaults": {
           "arrowcolor": "#2a3f5f",
           "arrowhead": 0,
           "arrowwidth": 1
          },
          "autotypenumbers": "strict",
          "coloraxis": {
           "colorbar": {
            "outlinewidth": 0,
            "ticks": ""
           }
          },
          "colorscale": {
           "diverging": [
            [
             0,
             "#8e0152"
            ],
            [
             0.1,
             "#c51b7d"
            ],
            [
             0.2,
             "#de77ae"
            ],
            [
             0.3,
             "#f1b6da"
            ],
            [
             0.4,
             "#fde0ef"
            ],
            [
             0.5,
             "#f7f7f7"
            ],
            [
             0.6,
             "#e6f5d0"
            ],
            [
             0.7,
             "#b8e186"
            ],
            [
             0.8,
             "#7fbc41"
            ],
            [
             0.9,
             "#4d9221"
            ],
            [
             1,
             "#276419"
            ]
           ],
           "sequential": [
            [
             0,
             "#0d0887"
            ],
            [
             0.1111111111111111,
             "#46039f"
            ],
            [
             0.2222222222222222,
             "#7201a8"
            ],
            [
             0.3333333333333333,
             "#9c179e"
            ],
            [
             0.4444444444444444,
             "#bd3786"
            ],
            [
             0.5555555555555556,
             "#d8576b"
            ],
            [
             0.6666666666666666,
             "#ed7953"
            ],
            [
             0.7777777777777778,
             "#fb9f3a"
            ],
            [
             0.8888888888888888,
             "#fdca26"
            ],
            [
             1,
             "#f0f921"
            ]
           ],
           "sequentialminus": [
            [
             0,
             "#0d0887"
            ],
            [
             0.1111111111111111,
             "#46039f"
            ],
            [
             0.2222222222222222,
             "#7201a8"
            ],
            [
             0.3333333333333333,
             "#9c179e"
            ],
            [
             0.4444444444444444,
             "#bd3786"
            ],
            [
             0.5555555555555556,
             "#d8576b"
            ],
            [
             0.6666666666666666,
             "#ed7953"
            ],
            [
             0.7777777777777778,
             "#fb9f3a"
            ],
            [
             0.8888888888888888,
             "#fdca26"
            ],
            [
             1,
             "#f0f921"
            ]
           ]
          },
          "colorway": [
           "#636efa",
           "#EF553B",
           "#00cc96",
           "#ab63fa",
           "#FFA15A",
           "#19d3f3",
           "#FF6692",
           "#B6E880",
           "#FF97FF",
           "#FECB52"
          ],
          "font": {
           "color": "#2a3f5f"
          },
          "geo": {
           "bgcolor": "white",
           "lakecolor": "white",
           "landcolor": "#E5ECF6",
           "showlakes": true,
           "showland": true,
           "subunitcolor": "white"
          },
          "hoverlabel": {
           "align": "left"
          },
          "hovermode": "closest",
          "mapbox": {
           "style": "light"
          },
          "paper_bgcolor": "white",
          "plot_bgcolor": "#E5ECF6",
          "polar": {
           "angularaxis": {
            "gridcolor": "white",
            "linecolor": "white",
            "ticks": ""
           },
           "bgcolor": "#E5ECF6",
           "radialaxis": {
            "gridcolor": "white",
            "linecolor": "white",
            "ticks": ""
           }
          },
          "scene": {
           "xaxis": {
            "backgroundcolor": "#E5ECF6",
            "gridcolor": "white",
            "gridwidth": 2,
            "linecolor": "white",
            "showbackground": true,
            "ticks": "",
            "zerolinecolor": "white"
           },
           "yaxis": {
            "backgroundcolor": "#E5ECF6",
            "gridcolor": "white",
            "gridwidth": 2,
            "linecolor": "white",
            "showbackground": true,
            "ticks": "",
            "zerolinecolor": "white"
           },
           "zaxis": {
            "backgroundcolor": "#E5ECF6",
            "gridcolor": "white",
            "gridwidth": 2,
            "linecolor": "white",
            "showbackground": true,
            "ticks": "",
            "zerolinecolor": "white"
           }
          },
          "shapedefaults": {
           "line": {
            "color": "#2a3f5f"
           }
          },
          "ternary": {
           "aaxis": {
            "gridcolor": "white",
            "linecolor": "white",
            "ticks": ""
           },
           "baxis": {
            "gridcolor": "white",
            "linecolor": "white",
            "ticks": ""
           },
           "bgcolor": "#E5ECF6",
           "caxis": {
            "gridcolor": "white",
            "linecolor": "white",
            "ticks": ""
           }
          },
          "title": {
           "x": 0.05
          },
          "xaxis": {
           "automargin": true,
           "gridcolor": "white",
           "linecolor": "white",
           "ticks": "",
           "title": {
            "standoff": 15
           },
           "zerolinecolor": "white",
           "zerolinewidth": 2
          },
          "yaxis": {
           "automargin": true,
           "gridcolor": "white",
           "linecolor": "white",
           "ticks": "",
           "title": {
            "standoff": 15
           },
           "zerolinecolor": "white",
           "zerolinewidth": 2
          }
         }
        },
        "xaxis": {
         "anchor": "y",
         "domain": [
          0,
          1
         ],
         "title": {
          "text": "Engine_size"
         }
        },
        "yaxis": {
         "anchor": "x",
         "domain": [
          0,
          1
         ],
         "title": {
          "text": "count"
         }
        }
       }
      },
      "text/html": [
       "<div>                            <div id=\"4a80a59e-f2df-46d6-b394-e206bb86e6dd\" class=\"plotly-graph-div\" style=\"height:525px; width:100%;\"></div>            <script type=\"text/javascript\">                require([\"plotly\"], function(Plotly) {                    window.PLOTLYENV=window.PLOTLYENV || {};                                    if (document.getElementById(\"4a80a59e-f2df-46d6-b394-e206bb86e6dd\")) {                    Plotly.newPlot(                        \"4a80a59e-f2df-46d6-b394-e206bb86e6dd\",                        [{\"alignmentgroup\":\"True\",\"bingroup\":\"x\",\"hovertemplate\":\"Engine_size=%{x}<br>count=%{y}<extra></extra>\",\"legendgroup\":\"\",\"marker\":{\"color\":\"#636efa\",\"pattern\":{\"shape\":\"\"}},\"name\":\"\",\"offsetgroup\":\"\",\"orientation\":\"v\",\"showlegend\":false,\"x\":[1.8,3.2,3.5,1.8,2.8,4.2,2.8,2.8,3.1,3.8,3.8,3.8,4.6,4.6,3.0,2.2,3.1,3.1,3.4,3.8,5.7,1.8,1.0,2.5,2.5,2.7,2.0,3.5,2.0,2.5,2.5,8.0,5.2,3.9,3.9,2.5,2.4,2.0,3.8,2.5,3.0,4.6,4.0,3.0,4.6,2.5,4.6,1.6,2.3,2.0,3.2,3.5,1.5,2.0,2.4,3.0,2.5,4.0,4.0,3.0,3.0,4.0,4.6,4.6,1.8,2.4,2.4,3.5,3.0,3.5,3.0,2.0,2.0,3.0,4.6,4.0,3.3,2.3,3.2,4.3,5.0,1.8,2.4,3.0,3.3,3.3,3.1,4.0,4.3,3.4,2.0,2.0,2.4,2.4,3.4,3.8,3.8,3.8,2.7,3.4,3.4,1.9,1.9,1.9,1.8,2.2,3.0,1.8,2.4,2.0,2.7,4.7,2.0,2.0,1.8,2.0,2.0],\"xaxis\":\"x\",\"yaxis\":\"y\",\"type\":\"histogram\"}],                        {\"template\":{\"data\":{\"histogram2dcontour\":[{\"type\":\"histogram2dcontour\",\"colorbar\":{\"outlinewidth\":0,\"ticks\":\"\"},\"colorscale\":[[0.0,\"#0d0887\"],[0.1111111111111111,\"#46039f\"],[0.2222222222222222,\"#7201a8\"],[0.3333333333333333,\"#9c179e\"],[0.4444444444444444,\"#bd3786\"],[0.5555555555555556,\"#d8576b\"],[0.6666666666666666,\"#ed7953\"],[0.7777777777777778,\"#fb9f3a\"],[0.8888888888888888,\"#fdca26\"],[1.0,\"#f0f921\"]]}],\"choropleth\":[{\"type\":\"choropleth\",\"colorbar\":{\"outlinewidth\":0,\"ticks\":\"\"}}],\"histogram2d\":[{\"type\":\"histogram2d\",\"colorbar\":{\"outlinewidth\":0,\"ticks\":\"\"},\"colorscale\":[[0.0,\"#0d0887\"],[0.1111111111111111,\"#46039f\"],[0.2222222222222222,\"#7201a8\"],[0.3333333333333333,\"#9c179e\"],[0.4444444444444444,\"#bd3786\"],[0.5555555555555556,\"#d8576b\"],[0.6666666666666666,\"#ed7953\"],[0.7777777777777778,\"#fb9f3a\"],[0.8888888888888888,\"#fdca26\"],[1.0,\"#f0f921\"]]}],\"heatmap\":[{\"type\":\"heatmap\",\"colorbar\":{\"outlinewidth\":0,\"ticks\":\"\"},\"colorscale\":[[0.0,\"#0d0887\"],[0.1111111111111111,\"#46039f\"],[0.2222222222222222,\"#7201a8\"],[0.3333333333333333,\"#9c179e\"],[0.4444444444444444,\"#bd3786\"],[0.5555555555555556,\"#d8576b\"],[0.6666666666666666,\"#ed7953\"],[0.7777777777777778,\"#fb9f3a\"],[0.8888888888888888,\"#fdca26\"],[1.0,\"#f0f921\"]]}],\"heatmapgl\":[{\"type\":\"heatmapgl\",\"colorbar\":{\"outlinewidth\":0,\"ticks\":\"\"},\"colorscale\":[[0.0,\"#0d0887\"],[0.1111111111111111,\"#46039f\"],[0.2222222222222222,\"#7201a8\"],[0.3333333333333333,\"#9c179e\"],[0.4444444444444444,\"#bd3786\"],[0.5555555555555556,\"#d8576b\"],[0.6666666666666666,\"#ed7953\"],[0.7777777777777778,\"#fb9f3a\"],[0.8888888888888888,\"#fdca26\"],[1.0,\"#f0f921\"]]}],\"contourcarpet\":[{\"type\":\"contourcarpet\",\"colorbar\":{\"outlinewidth\":0,\"ticks\":\"\"}}],\"contour\":[{\"type\":\"contour\",\"colorbar\":{\"outlinewidth\":0,\"ticks\":\"\"},\"colorscale\":[[0.0,\"#0d0887\"],[0.1111111111111111,\"#46039f\"],[0.2222222222222222,\"#7201a8\"],[0.3333333333333333,\"#9c179e\"],[0.4444444444444444,\"#bd3786\"],[0.5555555555555556,\"#d8576b\"],[0.6666666666666666,\"#ed7953\"],[0.7777777777777778,\"#fb9f3a\"],[0.8888888888888888,\"#fdca26\"],[1.0,\"#f0f921\"]]}],\"surface\":[{\"type\":\"surface\",\"colorbar\":{\"outlinewidth\":0,\"ticks\":\"\"},\"colorscale\":[[0.0,\"#0d0887\"],[0.1111111111111111,\"#46039f\"],[0.2222222222222222,\"#7201a8\"],[0.3333333333333333,\"#9c179e\"],[0.4444444444444444,\"#bd3786\"],[0.5555555555555556,\"#d8576b\"],[0.6666666666666666,\"#ed7953\"],[0.7777777777777778,\"#fb9f3a\"],[0.8888888888888888,\"#fdca26\"],[1.0,\"#f0f921\"]]}],\"mesh3d\":[{\"type\":\"mesh3d\",\"colorbar\":{\"outlinewidth\":0,\"ticks\":\"\"}}],\"scatter\":[{\"fillpattern\":{\"fillmode\":\"overlay\",\"size\":10,\"solidity\":0.2},\"type\":\"scatter\"}],\"parcoords\":[{\"type\":\"parcoords\",\"line\":{\"colorbar\":{\"outlinewidth\":0,\"ticks\":\"\"}}}],\"scatterpolargl\":[{\"type\":\"scatterpolargl\",\"marker\":{\"colorbar\":{\"outlinewidth\":0,\"ticks\":\"\"}}}],\"bar\":[{\"error_x\":{\"color\":\"#2a3f5f\"},\"error_y\":{\"color\":\"#2a3f5f\"},\"marker\":{\"line\":{\"color\":\"#E5ECF6\",\"width\":0.5},\"pattern\":{\"fillmode\":\"overlay\",\"size\":10,\"solidity\":0.2}},\"type\":\"bar\"}],\"scattergeo\":[{\"type\":\"scattergeo\",\"marker\":{\"colorbar\":{\"outlinewidth\":0,\"ticks\":\"\"}}}],\"scatterpolar\":[{\"type\":\"scatterpolar\",\"marker\":{\"colorbar\":{\"outlinewidth\":0,\"ticks\":\"\"}}}],\"histogram\":[{\"marker\":{\"pattern\":{\"fillmode\":\"overlay\",\"size\":10,\"solidity\":0.2}},\"type\":\"histogram\"}],\"scattergl\":[{\"type\":\"scattergl\",\"marker\":{\"colorbar\":{\"outlinewidth\":0,\"ticks\":\"\"}}}],\"scatter3d\":[{\"type\":\"scatter3d\",\"line\":{\"colorbar\":{\"outlinewidth\":0,\"ticks\":\"\"}},\"marker\":{\"colorbar\":{\"outlinewidth\":0,\"ticks\":\"\"}}}],\"scattermapbox\":[{\"type\":\"scattermapbox\",\"marker\":{\"colorbar\":{\"outlinewidth\":0,\"ticks\":\"\"}}}],\"scatterternary\":[{\"type\":\"scatterternary\",\"marker\":{\"colorbar\":{\"outlinewidth\":0,\"ticks\":\"\"}}}],\"scattercarpet\":[{\"type\":\"scattercarpet\",\"marker\":{\"colorbar\":{\"outlinewidth\":0,\"ticks\":\"\"}}}],\"carpet\":[{\"aaxis\":{\"endlinecolor\":\"#2a3f5f\",\"gridcolor\":\"white\",\"linecolor\":\"white\",\"minorgridcolor\":\"white\",\"startlinecolor\":\"#2a3f5f\"},\"baxis\":{\"endlinecolor\":\"#2a3f5f\",\"gridcolor\":\"white\",\"linecolor\":\"white\",\"minorgridcolor\":\"white\",\"startlinecolor\":\"#2a3f5f\"},\"type\":\"carpet\"}],\"table\":[{\"cells\":{\"fill\":{\"color\":\"#EBF0F8\"},\"line\":{\"color\":\"white\"}},\"header\":{\"fill\":{\"color\":\"#C8D4E3\"},\"line\":{\"color\":\"white\"}},\"type\":\"table\"}],\"barpolar\":[{\"marker\":{\"line\":{\"color\":\"#E5ECF6\",\"width\":0.5},\"pattern\":{\"fillmode\":\"overlay\",\"size\":10,\"solidity\":0.2}},\"type\":\"barpolar\"}],\"pie\":[{\"automargin\":true,\"type\":\"pie\"}]},\"layout\":{\"autotypenumbers\":\"strict\",\"colorway\":[\"#636efa\",\"#EF553B\",\"#00cc96\",\"#ab63fa\",\"#FFA15A\",\"#19d3f3\",\"#FF6692\",\"#B6E880\",\"#FF97FF\",\"#FECB52\"],\"font\":{\"color\":\"#2a3f5f\"},\"hovermode\":\"closest\",\"hoverlabel\":{\"align\":\"left\"},\"paper_bgcolor\":\"white\",\"plot_bgcolor\":\"#E5ECF6\",\"polar\":{\"bgcolor\":\"#E5ECF6\",\"angularaxis\":{\"gridcolor\":\"white\",\"linecolor\":\"white\",\"ticks\":\"\"},\"radialaxis\":{\"gridcolor\":\"white\",\"linecolor\":\"white\",\"ticks\":\"\"}},\"ternary\":{\"bgcolor\":\"#E5ECF6\",\"aaxis\":{\"gridcolor\":\"white\",\"linecolor\":\"white\",\"ticks\":\"\"},\"baxis\":{\"gridcolor\":\"white\",\"linecolor\":\"white\",\"ticks\":\"\"},\"caxis\":{\"gridcolor\":\"white\",\"linecolor\":\"white\",\"ticks\":\"\"}},\"coloraxis\":{\"colorbar\":{\"outlinewidth\":0,\"ticks\":\"\"}},\"colorscale\":{\"sequential\":[[0.0,\"#0d0887\"],[0.1111111111111111,\"#46039f\"],[0.2222222222222222,\"#7201a8\"],[0.3333333333333333,\"#9c179e\"],[0.4444444444444444,\"#bd3786\"],[0.5555555555555556,\"#d8576b\"],[0.6666666666666666,\"#ed7953\"],[0.7777777777777778,\"#fb9f3a\"],[0.8888888888888888,\"#fdca26\"],[1.0,\"#f0f921\"]],\"sequentialminus\":[[0.0,\"#0d0887\"],[0.1111111111111111,\"#46039f\"],[0.2222222222222222,\"#7201a8\"],[0.3333333333333333,\"#9c179e\"],[0.4444444444444444,\"#bd3786\"],[0.5555555555555556,\"#d8576b\"],[0.6666666666666666,\"#ed7953\"],[0.7777777777777778,\"#fb9f3a\"],[0.8888888888888888,\"#fdca26\"],[1.0,\"#f0f921\"]],\"diverging\":[[0,\"#8e0152\"],[0.1,\"#c51b7d\"],[0.2,\"#de77ae\"],[0.3,\"#f1b6da\"],[0.4,\"#fde0ef\"],[0.5,\"#f7f7f7\"],[0.6,\"#e6f5d0\"],[0.7,\"#b8e186\"],[0.8,\"#7fbc41\"],[0.9,\"#4d9221\"],[1,\"#276419\"]]},\"xaxis\":{\"gridcolor\":\"white\",\"linecolor\":\"white\",\"ticks\":\"\",\"title\":{\"standoff\":15},\"zerolinecolor\":\"white\",\"automargin\":true,\"zerolinewidth\":2},\"yaxis\":{\"gridcolor\":\"white\",\"linecolor\":\"white\",\"ticks\":\"\",\"title\":{\"standoff\":15},\"zerolinecolor\":\"white\",\"automargin\":true,\"zerolinewidth\":2},\"scene\":{\"xaxis\":{\"backgroundcolor\":\"#E5ECF6\",\"gridcolor\":\"white\",\"linecolor\":\"white\",\"showbackground\":true,\"ticks\":\"\",\"zerolinecolor\":\"white\",\"gridwidth\":2},\"yaxis\":{\"backgroundcolor\":\"#E5ECF6\",\"gridcolor\":\"white\",\"linecolor\":\"white\",\"showbackground\":true,\"ticks\":\"\",\"zerolinecolor\":\"white\",\"gridwidth\":2},\"zaxis\":{\"backgroundcolor\":\"#E5ECF6\",\"gridcolor\":\"white\",\"linecolor\":\"white\",\"showbackground\":true,\"ticks\":\"\",\"zerolinecolor\":\"white\",\"gridwidth\":2}},\"shapedefaults\":{\"line\":{\"color\":\"#2a3f5f\"}},\"annotationdefaults\":{\"arrowcolor\":\"#2a3f5f\",\"arrowhead\":0,\"arrowwidth\":1},\"geo\":{\"bgcolor\":\"white\",\"landcolor\":\"#E5ECF6\",\"subunitcolor\":\"white\",\"showland\":true,\"showlakes\":true,\"lakecolor\":\"white\"},\"title\":{\"x\":0.05},\"mapbox\":{\"style\":\"light\"}}},\"xaxis\":{\"anchor\":\"y\",\"domain\":[0.0,1.0],\"title\":{\"text\":\"Engine_size\"}},\"yaxis\":{\"anchor\":\"x\",\"domain\":[0.0,1.0],\"title\":{\"text\":\"count\"}},\"legend\":{\"tracegroupgap\":0},\"margin\":{\"t\":60},\"barmode\":\"relative\"},                        {\"responsive\": true}                    ).then(function(){\n",
       "                            \n",
       "var gd = document.getElementById('4a80a59e-f2df-46d6-b394-e206bb86e6dd');\n",
       "var x = new MutationObserver(function (mutations, observer) {{\n",
       "        var display = window.getComputedStyle(gd).display;\n",
       "        if (!display || display === 'none') {{\n",
       "            console.log([gd, 'removed!']);\n",
       "            Plotly.purge(gd);\n",
       "            observer.disconnect();\n",
       "        }}\n",
       "}});\n",
       "\n",
       "// Listen for the removal of the full notebook cells\n",
       "var notebookContainer = gd.closest('#notebook-container');\n",
       "if (notebookContainer) {{\n",
       "    x.observe(notebookContainer, {childList: true});\n",
       "}}\n",
       "\n",
       "// Listen for the clearing of the current output cell\n",
       "var outputEl = gd.closest('.output');\n",
       "if (outputEl) {{\n",
       "    x.observe(outputEl, {childList: true});\n",
       "}}\n",
       "\n",
       "                        })                };                });            </script>        </div>"
      ]
     },
     "metadata": {},
     "output_type": "display_data"
    }
   ],
   "source": [
    "px.histogram(data_frame=data,x=\"Engine_size\")"
   ]
  },
  {
   "cell_type": "code",
   "execution_count": 23,
   "id": "84369f86",
   "metadata": {},
   "outputs": [],
   "source": [
    "#SCATTER PLOT"
   ]
  },
  {
   "cell_type": "code",
   "execution_count": 24,
   "id": "18d6f36d",
   "metadata": {},
   "outputs": [
    {
     "data": {
      "application/vnd.plotly.v1+json": {
       "config": {
        "plotlyServerURL": "https://plot.ly"
       },
       "data": [
        {
         "hovertemplate": "Vehicle_type=Passenger<br>Sales_in_thousands=%{x}<br>__year_resale_value=%{y}<extra></extra>",
         "legendgroup": "Passenger",
         "marker": {
          "color": "#636efa",
          "symbol": "circle"
         },
         "mode": "markers",
         "name": "Passenger",
         "orientation": "v",
         "showlegend": true,
         "type": "scatter",
         "x": [
          16.919,
          39.384,
          8.588,
          20.397,
          18.78,
          1.38,
          9.231,
          17.527,
          91.561,
          39.35,
          27.851,
          83.257,
          63.729,
          6.536,
          11.185,
          145.519,
          135.126,
          24.629,
          42.593,
          26.402,
          17.947,
          32.299,
          21.855,
          7.854,
          32.775,
          31.148,
          32.306,
          13.462,
          76.034,
          4.734,
          71.186,
          0.916,
          70.227,
          113.369,
          35.068,
          245.815,
          63.403,
          199.685,
          230.902,
          41.184,
          66.692,
          29.45,
          23.713,
          24.072,
          12.698,
          6.375,
          13.798,
          48.911,
          26.232,
          42.541,
          55.616,
          5.711,
          0.11,
          14.351,
          26.529,
          67.956,
          81.174,
          18.392,
          27.602,
          16.774,
          3.311,
          42.643,
          88.094,
          79.853,
          1.112,
          14.69,
          32.734,
          5.24,
          51.645,
          131.097,
          19.911,
          92.364,
          35.945,
          8.982,
          1.28,
          1.866,
          80.62,
          24.546,
          5.223,
          142.535,
          247.994,
          63.849,
          33.269,
          9.761,
          83.721,
          51.102,
          9.569,
          5.596
         ],
         "xaxis": "x",
         "y": [
          16.36,
          19.875,
          29.725,
          22.255,
          23.555,
          39,
          28.675,
          36.125,
          12.475,
          13.74,
          20.19,
          13.36,
          22.525,
          25.725,
          18.225,
          9.25,
          11.225,
          10.31,
          11.525,
          13.025,
          36.225,
          9.125,
          5.16,
          12.36,
          14.18,
          13.725,
          12.64,
          17.325,
          7.75,
          12.545,
          10.185,
          58.47,
          7.425,
          12.76,
          8.835,
          10.055,
          14.21,
          9.85,
          13.21,
          5.86,
          7.825,
          8.91,
          19.69,
          26.975,
          32.075,
          40.375,
          20.525,
          21.725,
          8.325,
          10.395,
          10.595,
          16.575,
          20.94,
          8.8,
          13.89,
          11.03,
          14.875,
          26.05,
          41.45,
          50.375,
          58.6,
          8.45,
          11.295,
          15.125,
          11.24,
          19.89,
          7.75,
          9.8,
          13.79,
          10.29,
          17.805,
          14.01,
          13.225,
          41.25,
          60.625,
          67.55,
          9.2,
          10.59,
          10.79,
          10.025,
          13.245,
          18.14,
          15.445,
          11.425,
          13.24,
          16.725,
          16.575,
          13.76
         ],
         "yaxis": "y"
        },
        {
         "hovertemplate": "Vehicle_type=Car<br>Sales_in_thousands=%{x}<br>__year_resale_value=%{y}<extra></extra>",
         "legendgroup": "Car",
         "marker": {
          "color": "#EF553B",
          "symbol": "circle"
         },
         "mode": "markers",
         "name": "Car",
         "orientation": "v",
         "showlegend": true,
         "type": "scatter",
         "x": [
          227.061,
          16.767,
          31.038,
          111.313,
          181.749,
          276.747,
          155.787,
          125.338,
          220.65,
          540.561,
          73.203,
          12.855,
          76.029,
          55.557,
          80.556,
          157.04,
          11.337,
          39.348,
          27.609,
          20.38,
          27.308,
          42.574,
          20.017,
          24.361,
          24.155,
          84.087,
          25.106,
          68.411,
          9.835
         ],
         "xaxis": "x",
         "y": [
          15.06,
          15.51,
          13.425,
          11.26,
          12.025,
          16.64,
          13.175,
          23.575,
          7.85,
          15.075,
          17.71,
          17.525,
          19.49,
          13.475,
          13.775,
          18.81,
          19.125,
          13.88,
          20.43,
          14.795,
          15.38,
          17.81,
          19.925,
          15.24,
          12.025,
          9.575,
          13.325,
          19.425,
          34.08
         ],
         "yaxis": "y"
        }
       ],
       "layout": {
        "legend": {
         "title": {
          "text": "Vehicle_type"
         },
         "tracegroupgap": 0
        },
        "margin": {
         "t": 60
        },
        "template": {
         "data": {
          "bar": [
           {
            "error_x": {
             "color": "#2a3f5f"
            },
            "error_y": {
             "color": "#2a3f5f"
            },
            "marker": {
             "line": {
              "color": "#E5ECF6",
              "width": 0.5
             },
             "pattern": {
              "fillmode": "overlay",
              "size": 10,
              "solidity": 0.2
             }
            },
            "type": "bar"
           }
          ],
          "barpolar": [
           {
            "marker": {
             "line": {
              "color": "#E5ECF6",
              "width": 0.5
             },
             "pattern": {
              "fillmode": "overlay",
              "size": 10,
              "solidity": 0.2
             }
            },
            "type": "barpolar"
           }
          ],
          "carpet": [
           {
            "aaxis": {
             "endlinecolor": "#2a3f5f",
             "gridcolor": "white",
             "linecolor": "white",
             "minorgridcolor": "white",
             "startlinecolor": "#2a3f5f"
            },
            "baxis": {
             "endlinecolor": "#2a3f5f",
             "gridcolor": "white",
             "linecolor": "white",
             "minorgridcolor": "white",
             "startlinecolor": "#2a3f5f"
            },
            "type": "carpet"
           }
          ],
          "choropleth": [
           {
            "colorbar": {
             "outlinewidth": 0,
             "ticks": ""
            },
            "type": "choropleth"
           }
          ],
          "contour": [
           {
            "colorbar": {
             "outlinewidth": 0,
             "ticks": ""
            },
            "colorscale": [
             [
              0,
              "#0d0887"
             ],
             [
              0.1111111111111111,
              "#46039f"
             ],
             [
              0.2222222222222222,
              "#7201a8"
             ],
             [
              0.3333333333333333,
              "#9c179e"
             ],
             [
              0.4444444444444444,
              "#bd3786"
             ],
             [
              0.5555555555555556,
              "#d8576b"
             ],
             [
              0.6666666666666666,
              "#ed7953"
             ],
             [
              0.7777777777777778,
              "#fb9f3a"
             ],
             [
              0.8888888888888888,
              "#fdca26"
             ],
             [
              1,
              "#f0f921"
             ]
            ],
            "type": "contour"
           }
          ],
          "contourcarpet": [
           {
            "colorbar": {
             "outlinewidth": 0,
             "ticks": ""
            },
            "type": "contourcarpet"
           }
          ],
          "heatmap": [
           {
            "colorbar": {
             "outlinewidth": 0,
             "ticks": ""
            },
            "colorscale": [
             [
              0,
              "#0d0887"
             ],
             [
              0.1111111111111111,
              "#46039f"
             ],
             [
              0.2222222222222222,
              "#7201a8"
             ],
             [
              0.3333333333333333,
              "#9c179e"
             ],
             [
              0.4444444444444444,
              "#bd3786"
             ],
             [
              0.5555555555555556,
              "#d8576b"
             ],
             [
              0.6666666666666666,
              "#ed7953"
             ],
             [
              0.7777777777777778,
              "#fb9f3a"
             ],
             [
              0.8888888888888888,
              "#fdca26"
             ],
             [
              1,
              "#f0f921"
             ]
            ],
            "type": "heatmap"
           }
          ],
          "heatmapgl": [
           {
            "colorbar": {
             "outlinewidth": 0,
             "ticks": ""
            },
            "colorscale": [
             [
              0,
              "#0d0887"
             ],
             [
              0.1111111111111111,
              "#46039f"
             ],
             [
              0.2222222222222222,
              "#7201a8"
             ],
             [
              0.3333333333333333,
              "#9c179e"
             ],
             [
              0.4444444444444444,
              "#bd3786"
             ],
             [
              0.5555555555555556,
              "#d8576b"
             ],
             [
              0.6666666666666666,
              "#ed7953"
             ],
             [
              0.7777777777777778,
              "#fb9f3a"
             ],
             [
              0.8888888888888888,
              "#fdca26"
             ],
             [
              1,
              "#f0f921"
             ]
            ],
            "type": "heatmapgl"
           }
          ],
          "histogram": [
           {
            "marker": {
             "pattern": {
              "fillmode": "overlay",
              "size": 10,
              "solidity": 0.2
             }
            },
            "type": "histogram"
           }
          ],
          "histogram2d": [
           {
            "colorbar": {
             "outlinewidth": 0,
             "ticks": ""
            },
            "colorscale": [
             [
              0,
              "#0d0887"
             ],
             [
              0.1111111111111111,
              "#46039f"
             ],
             [
              0.2222222222222222,
              "#7201a8"
             ],
             [
              0.3333333333333333,
              "#9c179e"
             ],
             [
              0.4444444444444444,
              "#bd3786"
             ],
             [
              0.5555555555555556,
              "#d8576b"
             ],
             [
              0.6666666666666666,
              "#ed7953"
             ],
             [
              0.7777777777777778,
              "#fb9f3a"
             ],
             [
              0.8888888888888888,
              "#fdca26"
             ],
             [
              1,
              "#f0f921"
             ]
            ],
            "type": "histogram2d"
           }
          ],
          "histogram2dcontour": [
           {
            "colorbar": {
             "outlinewidth": 0,
             "ticks": ""
            },
            "colorscale": [
             [
              0,
              "#0d0887"
             ],
             [
              0.1111111111111111,
              "#46039f"
             ],
             [
              0.2222222222222222,
              "#7201a8"
             ],
             [
              0.3333333333333333,
              "#9c179e"
             ],
             [
              0.4444444444444444,
              "#bd3786"
             ],
             [
              0.5555555555555556,
              "#d8576b"
             ],
             [
              0.6666666666666666,
              "#ed7953"
             ],
             [
              0.7777777777777778,
              "#fb9f3a"
             ],
             [
              0.8888888888888888,
              "#fdca26"
             ],
             [
              1,
              "#f0f921"
             ]
            ],
            "type": "histogram2dcontour"
           }
          ],
          "mesh3d": [
           {
            "colorbar": {
             "outlinewidth": 0,
             "ticks": ""
            },
            "type": "mesh3d"
           }
          ],
          "parcoords": [
           {
            "line": {
             "colorbar": {
              "outlinewidth": 0,
              "ticks": ""
             }
            },
            "type": "parcoords"
           }
          ],
          "pie": [
           {
            "automargin": true,
            "type": "pie"
           }
          ],
          "scatter": [
           {
            "fillpattern": {
             "fillmode": "overlay",
             "size": 10,
             "solidity": 0.2
            },
            "type": "scatter"
           }
          ],
          "scatter3d": [
           {
            "line": {
             "colorbar": {
              "outlinewidth": 0,
              "ticks": ""
             }
            },
            "marker": {
             "colorbar": {
              "outlinewidth": 0,
              "ticks": ""
             }
            },
            "type": "scatter3d"
           }
          ],
          "scattercarpet": [
           {
            "marker": {
             "colorbar": {
              "outlinewidth": 0,
              "ticks": ""
             }
            },
            "type": "scattercarpet"
           }
          ],
          "scattergeo": [
           {
            "marker": {
             "colorbar": {
              "outlinewidth": 0,
              "ticks": ""
             }
            },
            "type": "scattergeo"
           }
          ],
          "scattergl": [
           {
            "marker": {
             "colorbar": {
              "outlinewidth": 0,
              "ticks": ""
             }
            },
            "type": "scattergl"
           }
          ],
          "scattermapbox": [
           {
            "marker": {
             "colorbar": {
              "outlinewidth": 0,
              "ticks": ""
             }
            },
            "type": "scattermapbox"
           }
          ],
          "scatterpolar": [
           {
            "marker": {
             "colorbar": {
              "outlinewidth": 0,
              "ticks": ""
             }
            },
            "type": "scatterpolar"
           }
          ],
          "scatterpolargl": [
           {
            "marker": {
             "colorbar": {
              "outlinewidth": 0,
              "ticks": ""
             }
            },
            "type": "scatterpolargl"
           }
          ],
          "scatterternary": [
           {
            "marker": {
             "colorbar": {
              "outlinewidth": 0,
              "ticks": ""
             }
            },
            "type": "scatterternary"
           }
          ],
          "surface": [
           {
            "colorbar": {
             "outlinewidth": 0,
             "ticks": ""
            },
            "colorscale": [
             [
              0,
              "#0d0887"
             ],
             [
              0.1111111111111111,
              "#46039f"
             ],
             [
              0.2222222222222222,
              "#7201a8"
             ],
             [
              0.3333333333333333,
              "#9c179e"
             ],
             [
              0.4444444444444444,
              "#bd3786"
             ],
             [
              0.5555555555555556,
              "#d8576b"
             ],
             [
              0.6666666666666666,
              "#ed7953"
             ],
             [
              0.7777777777777778,
              "#fb9f3a"
             ],
             [
              0.8888888888888888,
              "#fdca26"
             ],
             [
              1,
              "#f0f921"
             ]
            ],
            "type": "surface"
           }
          ],
          "table": [
           {
            "cells": {
             "fill": {
              "color": "#EBF0F8"
             },
             "line": {
              "color": "white"
             }
            },
            "header": {
             "fill": {
              "color": "#C8D4E3"
             },
             "line": {
              "color": "white"
             }
            },
            "type": "table"
           }
          ]
         },
         "layout": {
          "annotationdefaults": {
           "arrowcolor": "#2a3f5f",
           "arrowhead": 0,
           "arrowwidth": 1
          },
          "autotypenumbers": "strict",
          "coloraxis": {
           "colorbar": {
            "outlinewidth": 0,
            "ticks": ""
           }
          },
          "colorscale": {
           "diverging": [
            [
             0,
             "#8e0152"
            ],
            [
             0.1,
             "#c51b7d"
            ],
            [
             0.2,
             "#de77ae"
            ],
            [
             0.3,
             "#f1b6da"
            ],
            [
             0.4,
             "#fde0ef"
            ],
            [
             0.5,
             "#f7f7f7"
            ],
            [
             0.6,
             "#e6f5d0"
            ],
            [
             0.7,
             "#b8e186"
            ],
            [
             0.8,
             "#7fbc41"
            ],
            [
             0.9,
             "#4d9221"
            ],
            [
             1,
             "#276419"
            ]
           ],
           "sequential": [
            [
             0,
             "#0d0887"
            ],
            [
             0.1111111111111111,
             "#46039f"
            ],
            [
             0.2222222222222222,
             "#7201a8"
            ],
            [
             0.3333333333333333,
             "#9c179e"
            ],
            [
             0.4444444444444444,
             "#bd3786"
            ],
            [
             0.5555555555555556,
             "#d8576b"
            ],
            [
             0.6666666666666666,
             "#ed7953"
            ],
            [
             0.7777777777777778,
             "#fb9f3a"
            ],
            [
             0.8888888888888888,
             "#fdca26"
            ],
            [
             1,
             "#f0f921"
            ]
           ],
           "sequentialminus": [
            [
             0,
             "#0d0887"
            ],
            [
             0.1111111111111111,
             "#46039f"
            ],
            [
             0.2222222222222222,
             "#7201a8"
            ],
            [
             0.3333333333333333,
             "#9c179e"
            ],
            [
             0.4444444444444444,
             "#bd3786"
            ],
            [
             0.5555555555555556,
             "#d8576b"
            ],
            [
             0.6666666666666666,
             "#ed7953"
            ],
            [
             0.7777777777777778,
             "#fb9f3a"
            ],
            [
             0.8888888888888888,
             "#fdca26"
            ],
            [
             1,
             "#f0f921"
            ]
           ]
          },
          "colorway": [
           "#636efa",
           "#EF553B",
           "#00cc96",
           "#ab63fa",
           "#FFA15A",
           "#19d3f3",
           "#FF6692",
           "#B6E880",
           "#FF97FF",
           "#FECB52"
          ],
          "font": {
           "color": "#2a3f5f"
          },
          "geo": {
           "bgcolor": "white",
           "lakecolor": "white",
           "landcolor": "#E5ECF6",
           "showlakes": true,
           "showland": true,
           "subunitcolor": "white"
          },
          "hoverlabel": {
           "align": "left"
          },
          "hovermode": "closest",
          "mapbox": {
           "style": "light"
          },
          "paper_bgcolor": "white",
          "plot_bgcolor": "#E5ECF6",
          "polar": {
           "angularaxis": {
            "gridcolor": "white",
            "linecolor": "white",
            "ticks": ""
           },
           "bgcolor": "#E5ECF6",
           "radialaxis": {
            "gridcolor": "white",
            "linecolor": "white",
            "ticks": ""
           }
          },
          "scene": {
           "xaxis": {
            "backgroundcolor": "#E5ECF6",
            "gridcolor": "white",
            "gridwidth": 2,
            "linecolor": "white",
            "showbackground": true,
            "ticks": "",
            "zerolinecolor": "white"
           },
           "yaxis": {
            "backgroundcolor": "#E5ECF6",
            "gridcolor": "white",
            "gridwidth": 2,
            "linecolor": "white",
            "showbackground": true,
            "ticks": "",
            "zerolinecolor": "white"
           },
           "zaxis": {
            "backgroundcolor": "#E5ECF6",
            "gridcolor": "white",
            "gridwidth": 2,
            "linecolor": "white",
            "showbackground": true,
            "ticks": "",
            "zerolinecolor": "white"
           }
          },
          "shapedefaults": {
           "line": {
            "color": "#2a3f5f"
           }
          },
          "ternary": {
           "aaxis": {
            "gridcolor": "white",
            "linecolor": "white",
            "ticks": ""
           },
           "baxis": {
            "gridcolor": "white",
            "linecolor": "white",
            "ticks": ""
           },
           "bgcolor": "#E5ECF6",
           "caxis": {
            "gridcolor": "white",
            "linecolor": "white",
            "ticks": ""
           }
          },
          "title": {
           "x": 0.05
          },
          "xaxis": {
           "automargin": true,
           "gridcolor": "white",
           "linecolor": "white",
           "ticks": "",
           "title": {
            "standoff": 15
           },
           "zerolinecolor": "white",
           "zerolinewidth": 2
          },
          "yaxis": {
           "automargin": true,
           "gridcolor": "white",
           "linecolor": "white",
           "ticks": "",
           "title": {
            "standoff": 15
           },
           "zerolinecolor": "white",
           "zerolinewidth": 2
          }
         }
        },
        "xaxis": {
         "anchor": "y",
         "domain": [
          0,
          1
         ],
         "title": {
          "text": "Sales_in_thousands"
         }
        },
        "yaxis": {
         "anchor": "x",
         "domain": [
          0,
          1
         ],
         "title": {
          "text": "__year_resale_value"
         }
        }
       }
      },
      "text/html": [
       "<div>                            <div id=\"e4c77f12-e1ec-48c6-aece-37af85eff901\" class=\"plotly-graph-div\" style=\"height:525px; width:100%;\"></div>            <script type=\"text/javascript\">                require([\"plotly\"], function(Plotly) {                    window.PLOTLYENV=window.PLOTLYENV || {};                                    if (document.getElementById(\"e4c77f12-e1ec-48c6-aece-37af85eff901\")) {                    Plotly.newPlot(                        \"e4c77f12-e1ec-48c6-aece-37af85eff901\",                        [{\"hovertemplate\":\"Vehicle_type=Passenger<br>Sales_in_thousands=%{x}<br>__year_resale_value=%{y}<extra></extra>\",\"legendgroup\":\"Passenger\",\"marker\":{\"color\":\"#636efa\",\"symbol\":\"circle\"},\"mode\":\"markers\",\"name\":\"Passenger\",\"orientation\":\"v\",\"showlegend\":true,\"x\":[16.919,39.384,8.588,20.397,18.78,1.38,9.231,17.527,91.561,39.35,27.851,83.257,63.729,6.536,11.185,145.519,135.126,24.629,42.593,26.402,17.947,32.299,21.855,7.854,32.775,31.148,32.306,13.462,76.034,4.734,71.186,0.916,70.227,113.369,35.068,245.815,63.403,199.685,230.902,41.184,66.692,29.45,23.713,24.072,12.698,6.375,13.798,48.911,26.232,42.541,55.616,5.711,0.11,14.351,26.529,67.956,81.174,18.392,27.602,16.774,3.311,42.643,88.094,79.853,1.112,14.69,32.734,5.24,51.645,131.097,19.911,92.364,35.945,8.982,1.28,1.866,80.62,24.546,5.223,142.535,247.994,63.849,33.269,9.761,83.721,51.102,9.569,5.596],\"xaxis\":\"x\",\"y\":[16.36,19.875,29.725,22.255,23.555,39.0,28.675,36.125,12.475,13.74,20.19,13.36,22.525,25.725,18.225,9.25,11.225,10.31,11.525,13.025,36.225,9.125,5.16,12.36,14.18,13.725,12.64,17.325,7.75,12.545,10.185,58.47,7.425,12.76,8.835,10.055,14.21,9.85,13.21,5.86,7.825,8.91,19.69,26.975,32.075,40.375,20.525,21.725,8.325,10.395,10.595,16.575,20.94,8.8,13.89,11.03,14.875,26.05,41.45,50.375,58.6,8.45,11.295,15.125,11.24,19.89,7.75,9.8,13.79,10.29,17.805,14.01,13.225,41.25,60.625,67.55,9.2,10.59,10.79,10.025,13.245,18.14,15.445,11.425,13.24,16.725,16.575,13.76],\"yaxis\":\"y\",\"type\":\"scatter\"},{\"hovertemplate\":\"Vehicle_type=Car<br>Sales_in_thousands=%{x}<br>__year_resale_value=%{y}<extra></extra>\",\"legendgroup\":\"Car\",\"marker\":{\"color\":\"#EF553B\",\"symbol\":\"circle\"},\"mode\":\"markers\",\"name\":\"Car\",\"orientation\":\"v\",\"showlegend\":true,\"x\":[227.061,16.767,31.038,111.313,181.749,276.747,155.787,125.338,220.65,540.561,73.203,12.855,76.029,55.557,80.556,157.04,11.337,39.348,27.609,20.38,27.308,42.574,20.017,24.361,24.155,84.087,25.106,68.411,9.835],\"xaxis\":\"x\",\"y\":[15.06,15.51,13.425,11.26,12.025,16.64,13.175,23.575,7.85,15.075,17.71,17.525,19.49,13.475,13.775,18.81,19.125,13.88,20.43,14.795,15.38,17.81,19.925,15.24,12.025,9.575,13.325,19.425,34.08],\"yaxis\":\"y\",\"type\":\"scatter\"}],                        {\"template\":{\"data\":{\"histogram2dcontour\":[{\"type\":\"histogram2dcontour\",\"colorbar\":{\"outlinewidth\":0,\"ticks\":\"\"},\"colorscale\":[[0.0,\"#0d0887\"],[0.1111111111111111,\"#46039f\"],[0.2222222222222222,\"#7201a8\"],[0.3333333333333333,\"#9c179e\"],[0.4444444444444444,\"#bd3786\"],[0.5555555555555556,\"#d8576b\"],[0.6666666666666666,\"#ed7953\"],[0.7777777777777778,\"#fb9f3a\"],[0.8888888888888888,\"#fdca26\"],[1.0,\"#f0f921\"]]}],\"choropleth\":[{\"type\":\"choropleth\",\"colorbar\":{\"outlinewidth\":0,\"ticks\":\"\"}}],\"histogram2d\":[{\"type\":\"histogram2d\",\"colorbar\":{\"outlinewidth\":0,\"ticks\":\"\"},\"colorscale\":[[0.0,\"#0d0887\"],[0.1111111111111111,\"#46039f\"],[0.2222222222222222,\"#7201a8\"],[0.3333333333333333,\"#9c179e\"],[0.4444444444444444,\"#bd3786\"],[0.5555555555555556,\"#d8576b\"],[0.6666666666666666,\"#ed7953\"],[0.7777777777777778,\"#fb9f3a\"],[0.8888888888888888,\"#fdca26\"],[1.0,\"#f0f921\"]]}],\"heatmap\":[{\"type\":\"heatmap\",\"colorbar\":{\"outlinewidth\":0,\"ticks\":\"\"},\"colorscale\":[[0.0,\"#0d0887\"],[0.1111111111111111,\"#46039f\"],[0.2222222222222222,\"#7201a8\"],[0.3333333333333333,\"#9c179e\"],[0.4444444444444444,\"#bd3786\"],[0.5555555555555556,\"#d8576b\"],[0.6666666666666666,\"#ed7953\"],[0.7777777777777778,\"#fb9f3a\"],[0.8888888888888888,\"#fdca26\"],[1.0,\"#f0f921\"]]}],\"heatmapgl\":[{\"type\":\"heatmapgl\",\"colorbar\":{\"outlinewidth\":0,\"ticks\":\"\"},\"colorscale\":[[0.0,\"#0d0887\"],[0.1111111111111111,\"#46039f\"],[0.2222222222222222,\"#7201a8\"],[0.3333333333333333,\"#9c179e\"],[0.4444444444444444,\"#bd3786\"],[0.5555555555555556,\"#d8576b\"],[0.6666666666666666,\"#ed7953\"],[0.7777777777777778,\"#fb9f3a\"],[0.8888888888888888,\"#fdca26\"],[1.0,\"#f0f921\"]]}],\"contourcarpet\":[{\"type\":\"contourcarpet\",\"colorbar\":{\"outlinewidth\":0,\"ticks\":\"\"}}],\"contour\":[{\"type\":\"contour\",\"colorbar\":{\"outlinewidth\":0,\"ticks\":\"\"},\"colorscale\":[[0.0,\"#0d0887\"],[0.1111111111111111,\"#46039f\"],[0.2222222222222222,\"#7201a8\"],[0.3333333333333333,\"#9c179e\"],[0.4444444444444444,\"#bd3786\"],[0.5555555555555556,\"#d8576b\"],[0.6666666666666666,\"#ed7953\"],[0.7777777777777778,\"#fb9f3a\"],[0.8888888888888888,\"#fdca26\"],[1.0,\"#f0f921\"]]}],\"surface\":[{\"type\":\"surface\",\"colorbar\":{\"outlinewidth\":0,\"ticks\":\"\"},\"colorscale\":[[0.0,\"#0d0887\"],[0.1111111111111111,\"#46039f\"],[0.2222222222222222,\"#7201a8\"],[0.3333333333333333,\"#9c179e\"],[0.4444444444444444,\"#bd3786\"],[0.5555555555555556,\"#d8576b\"],[0.6666666666666666,\"#ed7953\"],[0.7777777777777778,\"#fb9f3a\"],[0.8888888888888888,\"#fdca26\"],[1.0,\"#f0f921\"]]}],\"mesh3d\":[{\"type\":\"mesh3d\",\"colorbar\":{\"outlinewidth\":0,\"ticks\":\"\"}}],\"scatter\":[{\"fillpattern\":{\"fillmode\":\"overlay\",\"size\":10,\"solidity\":0.2},\"type\":\"scatter\"}],\"parcoords\":[{\"type\":\"parcoords\",\"line\":{\"colorbar\":{\"outlinewidth\":0,\"ticks\":\"\"}}}],\"scatterpolargl\":[{\"type\":\"scatterpolargl\",\"marker\":{\"colorbar\":{\"outlinewidth\":0,\"ticks\":\"\"}}}],\"bar\":[{\"error_x\":{\"color\":\"#2a3f5f\"},\"error_y\":{\"color\":\"#2a3f5f\"},\"marker\":{\"line\":{\"color\":\"#E5ECF6\",\"width\":0.5},\"pattern\":{\"fillmode\":\"overlay\",\"size\":10,\"solidity\":0.2}},\"type\":\"bar\"}],\"scattergeo\":[{\"type\":\"scattergeo\",\"marker\":{\"colorbar\":{\"outlinewidth\":0,\"ticks\":\"\"}}}],\"scatterpolar\":[{\"type\":\"scatterpolar\",\"marker\":{\"colorbar\":{\"outlinewidth\":0,\"ticks\":\"\"}}}],\"histogram\":[{\"marker\":{\"pattern\":{\"fillmode\":\"overlay\",\"size\":10,\"solidity\":0.2}},\"type\":\"histogram\"}],\"scattergl\":[{\"type\":\"scattergl\",\"marker\":{\"colorbar\":{\"outlinewidth\":0,\"ticks\":\"\"}}}],\"scatter3d\":[{\"type\":\"scatter3d\",\"line\":{\"colorbar\":{\"outlinewidth\":0,\"ticks\":\"\"}},\"marker\":{\"colorbar\":{\"outlinewidth\":0,\"ticks\":\"\"}}}],\"scattermapbox\":[{\"type\":\"scattermapbox\",\"marker\":{\"colorbar\":{\"outlinewidth\":0,\"ticks\":\"\"}}}],\"scatterternary\":[{\"type\":\"scatterternary\",\"marker\":{\"colorbar\":{\"outlinewidth\":0,\"ticks\":\"\"}}}],\"scattercarpet\":[{\"type\":\"scattercarpet\",\"marker\":{\"colorbar\":{\"outlinewidth\":0,\"ticks\":\"\"}}}],\"carpet\":[{\"aaxis\":{\"endlinecolor\":\"#2a3f5f\",\"gridcolor\":\"white\",\"linecolor\":\"white\",\"minorgridcolor\":\"white\",\"startlinecolor\":\"#2a3f5f\"},\"baxis\":{\"endlinecolor\":\"#2a3f5f\",\"gridcolor\":\"white\",\"linecolor\":\"white\",\"minorgridcolor\":\"white\",\"startlinecolor\":\"#2a3f5f\"},\"type\":\"carpet\"}],\"table\":[{\"cells\":{\"fill\":{\"color\":\"#EBF0F8\"},\"line\":{\"color\":\"white\"}},\"header\":{\"fill\":{\"color\":\"#C8D4E3\"},\"line\":{\"color\":\"white\"}},\"type\":\"table\"}],\"barpolar\":[{\"marker\":{\"line\":{\"color\":\"#E5ECF6\",\"width\":0.5},\"pattern\":{\"fillmode\":\"overlay\",\"size\":10,\"solidity\":0.2}},\"type\":\"barpolar\"}],\"pie\":[{\"automargin\":true,\"type\":\"pie\"}]},\"layout\":{\"autotypenumbers\":\"strict\",\"colorway\":[\"#636efa\",\"#EF553B\",\"#00cc96\",\"#ab63fa\",\"#FFA15A\",\"#19d3f3\",\"#FF6692\",\"#B6E880\",\"#FF97FF\",\"#FECB52\"],\"font\":{\"color\":\"#2a3f5f\"},\"hovermode\":\"closest\",\"hoverlabel\":{\"align\":\"left\"},\"paper_bgcolor\":\"white\",\"plot_bgcolor\":\"#E5ECF6\",\"polar\":{\"bgcolor\":\"#E5ECF6\",\"angularaxis\":{\"gridcolor\":\"white\",\"linecolor\":\"white\",\"ticks\":\"\"},\"radialaxis\":{\"gridcolor\":\"white\",\"linecolor\":\"white\",\"ticks\":\"\"}},\"ternary\":{\"bgcolor\":\"#E5ECF6\",\"aaxis\":{\"gridcolor\":\"white\",\"linecolor\":\"white\",\"ticks\":\"\"},\"baxis\":{\"gridcolor\":\"white\",\"linecolor\":\"white\",\"ticks\":\"\"},\"caxis\":{\"gridcolor\":\"white\",\"linecolor\":\"white\",\"ticks\":\"\"}},\"coloraxis\":{\"colorbar\":{\"outlinewidth\":0,\"ticks\":\"\"}},\"colorscale\":{\"sequential\":[[0.0,\"#0d0887\"],[0.1111111111111111,\"#46039f\"],[0.2222222222222222,\"#7201a8\"],[0.3333333333333333,\"#9c179e\"],[0.4444444444444444,\"#bd3786\"],[0.5555555555555556,\"#d8576b\"],[0.6666666666666666,\"#ed7953\"],[0.7777777777777778,\"#fb9f3a\"],[0.8888888888888888,\"#fdca26\"],[1.0,\"#f0f921\"]],\"sequentialminus\":[[0.0,\"#0d0887\"],[0.1111111111111111,\"#46039f\"],[0.2222222222222222,\"#7201a8\"],[0.3333333333333333,\"#9c179e\"],[0.4444444444444444,\"#bd3786\"],[0.5555555555555556,\"#d8576b\"],[0.6666666666666666,\"#ed7953\"],[0.7777777777777778,\"#fb9f3a\"],[0.8888888888888888,\"#fdca26\"],[1.0,\"#f0f921\"]],\"diverging\":[[0,\"#8e0152\"],[0.1,\"#c51b7d\"],[0.2,\"#de77ae\"],[0.3,\"#f1b6da\"],[0.4,\"#fde0ef\"],[0.5,\"#f7f7f7\"],[0.6,\"#e6f5d0\"],[0.7,\"#b8e186\"],[0.8,\"#7fbc41\"],[0.9,\"#4d9221\"],[1,\"#276419\"]]},\"xaxis\":{\"gridcolor\":\"white\",\"linecolor\":\"white\",\"ticks\":\"\",\"title\":{\"standoff\":15},\"zerolinecolor\":\"white\",\"automargin\":true,\"zerolinewidth\":2},\"yaxis\":{\"gridcolor\":\"white\",\"linecolor\":\"white\",\"ticks\":\"\",\"title\":{\"standoff\":15},\"zerolinecolor\":\"white\",\"automargin\":true,\"zerolinewidth\":2},\"scene\":{\"xaxis\":{\"backgroundcolor\":\"#E5ECF6\",\"gridcolor\":\"white\",\"linecolor\":\"white\",\"showbackground\":true,\"ticks\":\"\",\"zerolinecolor\":\"white\",\"gridwidth\":2},\"yaxis\":{\"backgroundcolor\":\"#E5ECF6\",\"gridcolor\":\"white\",\"linecolor\":\"white\",\"showbackground\":true,\"ticks\":\"\",\"zerolinecolor\":\"white\",\"gridwidth\":2},\"zaxis\":{\"backgroundcolor\":\"#E5ECF6\",\"gridcolor\":\"white\",\"linecolor\":\"white\",\"showbackground\":true,\"ticks\":\"\",\"zerolinecolor\":\"white\",\"gridwidth\":2}},\"shapedefaults\":{\"line\":{\"color\":\"#2a3f5f\"}},\"annotationdefaults\":{\"arrowcolor\":\"#2a3f5f\",\"arrowhead\":0,\"arrowwidth\":1},\"geo\":{\"bgcolor\":\"white\",\"landcolor\":\"#E5ECF6\",\"subunitcolor\":\"white\",\"showland\":true,\"showlakes\":true,\"lakecolor\":\"white\"},\"title\":{\"x\":0.05},\"mapbox\":{\"style\":\"light\"}}},\"xaxis\":{\"anchor\":\"y\",\"domain\":[0.0,1.0],\"title\":{\"text\":\"Sales_in_thousands\"}},\"yaxis\":{\"anchor\":\"x\",\"domain\":[0.0,1.0],\"title\":{\"text\":\"__year_resale_value\"}},\"legend\":{\"title\":{\"text\":\"Vehicle_type\"},\"tracegroupgap\":0},\"margin\":{\"t\":60}},                        {\"responsive\": true}                    ).then(function(){\n",
       "                            \n",
       "var gd = document.getElementById('e4c77f12-e1ec-48c6-aece-37af85eff901');\n",
       "var x = new MutationObserver(function (mutations, observer) {{\n",
       "        var display = window.getComputedStyle(gd).display;\n",
       "        if (!display || display === 'none') {{\n",
       "            console.log([gd, 'removed!']);\n",
       "            Plotly.purge(gd);\n",
       "            observer.disconnect();\n",
       "        }}\n",
       "}});\n",
       "\n",
       "// Listen for the removal of the full notebook cells\n",
       "var notebookContainer = gd.closest('#notebook-container');\n",
       "if (notebookContainer) {{\n",
       "    x.observe(notebookContainer, {childList: true});\n",
       "}}\n",
       "\n",
       "// Listen for the clearing of the current output cell\n",
       "var outputEl = gd.closest('.output');\n",
       "if (outputEl) {{\n",
       "    x.observe(outputEl, {childList: true});\n",
       "}}\n",
       "\n",
       "                        })                };                });            </script>        </div>"
      ]
     },
     "metadata": {},
     "output_type": "display_data"
    }
   ],
   "source": [
    "px.scatter(data_frame=data,x=\"Sales_in_thousands\", y=\"__year_resale_value\", color=\"Vehicle_type\")"
   ]
  },
  {
   "cell_type": "code",
   "execution_count": 25,
   "id": "87a80dda",
   "metadata": {},
   "outputs": [
    {
     "data": {
      "text/html": [
       "<div>\n",
       "<style scoped>\n",
       "    .dataframe tbody tr th:only-of-type {\n",
       "        vertical-align: middle;\n",
       "    }\n",
       "\n",
       "    .dataframe tbody tr th {\n",
       "        vertical-align: top;\n",
       "    }\n",
       "\n",
       "    .dataframe thead th {\n",
       "        text-align: right;\n",
       "    }\n",
       "</style>\n",
       "<table border=\"1\" class=\"dataframe\">\n",
       "  <thead>\n",
       "    <tr style=\"text-align: right;\">\n",
       "      <th></th>\n",
       "      <th>Manufacturer</th>\n",
       "      <th>Model</th>\n",
       "      <th>Sales_in_thousands</th>\n",
       "      <th>__year_resale_value</th>\n",
       "      <th>Vehicle_type</th>\n",
       "      <th>Price_in_thousands</th>\n",
       "      <th>Engine_size</th>\n",
       "      <th>Horsepower</th>\n",
       "      <th>Wheelbase</th>\n",
       "      <th>Width</th>\n",
       "      <th>Length</th>\n",
       "      <th>Curb_weight</th>\n",
       "      <th>Fuel_capacity</th>\n",
       "      <th>Fuel_efficiency</th>\n",
       "      <th>Latest_Launch</th>\n",
       "      <th>Power_perf_factor</th>\n",
       "    </tr>\n",
       "  </thead>\n",
       "  <tbody>\n",
       "    <tr>\n",
       "      <th>0</th>\n",
       "      <td>Acura</td>\n",
       "      <td>Integra</td>\n",
       "      <td>16.919</td>\n",
       "      <td>16.360</td>\n",
       "      <td>Passenger</td>\n",
       "      <td>21.50</td>\n",
       "      <td>1.8</td>\n",
       "      <td>140.0</td>\n",
       "      <td>101.2</td>\n",
       "      <td>67.3</td>\n",
       "      <td>172.4</td>\n",
       "      <td>2.639</td>\n",
       "      <td>13.2</td>\n",
       "      <td>28.0</td>\n",
       "      <td>2/2/2012</td>\n",
       "      <td>58.280150</td>\n",
       "    </tr>\n",
       "    <tr>\n",
       "      <th>1</th>\n",
       "      <td>Acura</td>\n",
       "      <td>TL</td>\n",
       "      <td>39.384</td>\n",
       "      <td>19.875</td>\n",
       "      <td>Passenger</td>\n",
       "      <td>28.40</td>\n",
       "      <td>3.2</td>\n",
       "      <td>225.0</td>\n",
       "      <td>108.1</td>\n",
       "      <td>70.3</td>\n",
       "      <td>192.9</td>\n",
       "      <td>3.517</td>\n",
       "      <td>17.2</td>\n",
       "      <td>25.0</td>\n",
       "      <td>6/3/2011</td>\n",
       "      <td>91.370778</td>\n",
       "    </tr>\n",
       "    <tr>\n",
       "      <th>3</th>\n",
       "      <td>Acura</td>\n",
       "      <td>RL</td>\n",
       "      <td>8.588</td>\n",
       "      <td>29.725</td>\n",
       "      <td>Passenger</td>\n",
       "      <td>42.00</td>\n",
       "      <td>3.5</td>\n",
       "      <td>210.0</td>\n",
       "      <td>114.6</td>\n",
       "      <td>71.4</td>\n",
       "      <td>196.6</td>\n",
       "      <td>3.850</td>\n",
       "      <td>18.0</td>\n",
       "      <td>22.0</td>\n",
       "      <td>3/10/2011</td>\n",
       "      <td>91.389779</td>\n",
       "    </tr>\n",
       "    <tr>\n",
       "      <th>4</th>\n",
       "      <td>Audi</td>\n",
       "      <td>A4</td>\n",
       "      <td>20.397</td>\n",
       "      <td>22.255</td>\n",
       "      <td>Passenger</td>\n",
       "      <td>23.99</td>\n",
       "      <td>1.8</td>\n",
       "      <td>150.0</td>\n",
       "      <td>102.6</td>\n",
       "      <td>68.2</td>\n",
       "      <td>178.0</td>\n",
       "      <td>2.998</td>\n",
       "      <td>16.4</td>\n",
       "      <td>27.0</td>\n",
       "      <td>10/8/2011</td>\n",
       "      <td>62.777639</td>\n",
       "    </tr>\n",
       "    <tr>\n",
       "      <th>5</th>\n",
       "      <td>Audi</td>\n",
       "      <td>A6</td>\n",
       "      <td>18.780</td>\n",
       "      <td>23.555</td>\n",
       "      <td>Passenger</td>\n",
       "      <td>33.95</td>\n",
       "      <td>2.8</td>\n",
       "      <td>200.0</td>\n",
       "      <td>108.7</td>\n",
       "      <td>76.1</td>\n",
       "      <td>192.0</td>\n",
       "      <td>3.561</td>\n",
       "      <td>18.5</td>\n",
       "      <td>22.0</td>\n",
       "      <td>8/9/2011</td>\n",
       "      <td>84.565105</td>\n",
       "    </tr>\n",
       "    <tr>\n",
       "      <th>...</th>\n",
       "      <td>...</td>\n",
       "      <td>...</td>\n",
       "      <td>...</td>\n",
       "      <td>...</td>\n",
       "      <td>...</td>\n",
       "      <td>...</td>\n",
       "      <td>...</td>\n",
       "      <td>...</td>\n",
       "      <td>...</td>\n",
       "      <td>...</td>\n",
       "      <td>...</td>\n",
       "      <td>...</td>\n",
       "      <td>...</td>\n",
       "      <td>...</td>\n",
       "      <td>...</td>\n",
       "      <td>...</td>\n",
       "    </tr>\n",
       "    <tr>\n",
       "      <th>145</th>\n",
       "      <td>Volkswagen</td>\n",
       "      <td>Golf</td>\n",
       "      <td>9.761</td>\n",
       "      <td>11.425</td>\n",
       "      <td>Passenger</td>\n",
       "      <td>14.90</td>\n",
       "      <td>2.0</td>\n",
       "      <td>115.0</td>\n",
       "      <td>98.9</td>\n",
       "      <td>68.3</td>\n",
       "      <td>163.3</td>\n",
       "      <td>2.767</td>\n",
       "      <td>14.5</td>\n",
       "      <td>26.0</td>\n",
       "      <td>1/24/2011</td>\n",
       "      <td>46.943877</td>\n",
       "    </tr>\n",
       "    <tr>\n",
       "      <th>146</th>\n",
       "      <td>Volkswagen</td>\n",
       "      <td>Jetta</td>\n",
       "      <td>83.721</td>\n",
       "      <td>13.240</td>\n",
       "      <td>Passenger</td>\n",
       "      <td>16.70</td>\n",
       "      <td>2.0</td>\n",
       "      <td>115.0</td>\n",
       "      <td>98.9</td>\n",
       "      <td>68.3</td>\n",
       "      <td>172.3</td>\n",
       "      <td>2.853</td>\n",
       "      <td>14.5</td>\n",
       "      <td>26.0</td>\n",
       "      <td>8/27/2011</td>\n",
       "      <td>47.638237</td>\n",
       "    </tr>\n",
       "    <tr>\n",
       "      <th>147</th>\n",
       "      <td>Volkswagen</td>\n",
       "      <td>Passat</td>\n",
       "      <td>51.102</td>\n",
       "      <td>16.725</td>\n",
       "      <td>Passenger</td>\n",
       "      <td>21.20</td>\n",
       "      <td>1.8</td>\n",
       "      <td>150.0</td>\n",
       "      <td>106.4</td>\n",
       "      <td>68.5</td>\n",
       "      <td>184.1</td>\n",
       "      <td>3.043</td>\n",
       "      <td>16.4</td>\n",
       "      <td>27.0</td>\n",
       "      <td>10/30/2012</td>\n",
       "      <td>61.701381</td>\n",
       "    </tr>\n",
       "    <tr>\n",
       "      <th>148</th>\n",
       "      <td>Volkswagen</td>\n",
       "      <td>Cabrio</td>\n",
       "      <td>9.569</td>\n",
       "      <td>16.575</td>\n",
       "      <td>Passenger</td>\n",
       "      <td>19.99</td>\n",
       "      <td>2.0</td>\n",
       "      <td>115.0</td>\n",
       "      <td>97.4</td>\n",
       "      <td>66.7</td>\n",
       "      <td>160.4</td>\n",
       "      <td>3.079</td>\n",
       "      <td>13.7</td>\n",
       "      <td>26.0</td>\n",
       "      <td>5/31/2011</td>\n",
       "      <td>48.907372</td>\n",
       "    </tr>\n",
       "    <tr>\n",
       "      <th>149</th>\n",
       "      <td>Volkswagen</td>\n",
       "      <td>GTI</td>\n",
       "      <td>5.596</td>\n",
       "      <td>13.760</td>\n",
       "      <td>Passenger</td>\n",
       "      <td>17.50</td>\n",
       "      <td>2.0</td>\n",
       "      <td>115.0</td>\n",
       "      <td>98.9</td>\n",
       "      <td>68.3</td>\n",
       "      <td>163.3</td>\n",
       "      <td>2.762</td>\n",
       "      <td>14.6</td>\n",
       "      <td>26.0</td>\n",
       "      <td>4/1/2011</td>\n",
       "      <td>47.946841</td>\n",
       "    </tr>\n",
       "  </tbody>\n",
       "</table>\n",
       "<p>117 rows × 16 columns</p>\n",
       "</div>"
      ],
      "text/plain": [
       "    Manufacturer    Model  Sales_in_thousands  __year_resale_value  \\\n",
       "0          Acura  Integra              16.919               16.360   \n",
       "1          Acura       TL              39.384               19.875   \n",
       "3          Acura       RL               8.588               29.725   \n",
       "4           Audi       A4              20.397               22.255   \n",
       "5           Audi       A6              18.780               23.555   \n",
       "..           ...      ...                 ...                  ...   \n",
       "145   Volkswagen     Golf               9.761               11.425   \n",
       "146   Volkswagen    Jetta              83.721               13.240   \n",
       "147   Volkswagen   Passat              51.102               16.725   \n",
       "148   Volkswagen   Cabrio               9.569               16.575   \n",
       "149   Volkswagen      GTI               5.596               13.760   \n",
       "\n",
       "    Vehicle_type  Price_in_thousands  Engine_size  Horsepower  Wheelbase  \\\n",
       "0      Passenger               21.50          1.8       140.0      101.2   \n",
       "1      Passenger               28.40          3.2       225.0      108.1   \n",
       "3      Passenger               42.00          3.5       210.0      114.6   \n",
       "4      Passenger               23.99          1.8       150.0      102.6   \n",
       "5      Passenger               33.95          2.8       200.0      108.7   \n",
       "..           ...                 ...          ...         ...        ...   \n",
       "145    Passenger               14.90          2.0       115.0       98.9   \n",
       "146    Passenger               16.70          2.0       115.0       98.9   \n",
       "147    Passenger               21.20          1.8       150.0      106.4   \n",
       "148    Passenger               19.99          2.0       115.0       97.4   \n",
       "149    Passenger               17.50          2.0       115.0       98.9   \n",
       "\n",
       "     Width  Length  Curb_weight  Fuel_capacity  Fuel_efficiency Latest_Launch  \\\n",
       "0     67.3   172.4        2.639           13.2             28.0      2/2/2012   \n",
       "1     70.3   192.9        3.517           17.2             25.0      6/3/2011   \n",
       "3     71.4   196.6        3.850           18.0             22.0     3/10/2011   \n",
       "4     68.2   178.0        2.998           16.4             27.0     10/8/2011   \n",
       "5     76.1   192.0        3.561           18.5             22.0      8/9/2011   \n",
       "..     ...     ...          ...            ...              ...           ...   \n",
       "145   68.3   163.3        2.767           14.5             26.0     1/24/2011   \n",
       "146   68.3   172.3        2.853           14.5             26.0     8/27/2011   \n",
       "147   68.5   184.1        3.043           16.4             27.0    10/30/2012   \n",
       "148   66.7   160.4        3.079           13.7             26.0     5/31/2011   \n",
       "149   68.3   163.3        2.762           14.6             26.0      4/1/2011   \n",
       "\n",
       "     Power_perf_factor  \n",
       "0            58.280150  \n",
       "1            91.370778  \n",
       "3            91.389779  \n",
       "4            62.777639  \n",
       "5            84.565105  \n",
       "..                 ...  \n",
       "145          46.943877  \n",
       "146          47.638237  \n",
       "147          61.701381  \n",
       "148          48.907372  \n",
       "149          47.946841  \n",
       "\n",
       "[117 rows x 16 columns]"
      ]
     },
     "execution_count": 25,
     "metadata": {},
     "output_type": "execute_result"
    }
   ],
   "source": [
    "data"
   ]
  },
  {
   "cell_type": "code",
   "execution_count": 26,
   "id": "a4dffff5",
   "metadata": {},
   "outputs": [],
   "source": [
    "data_m= data.query(\"Manufacturer=='Acura' or Manufacturer=='Volkswagen' or Manufacturer=='Audi'\")"
   ]
  },
  {
   "cell_type": "code",
   "execution_count": 27,
   "id": "6446837d",
   "metadata": {},
   "outputs": [
    {
     "data": {
      "text/html": [
       "<div>\n",
       "<style scoped>\n",
       "    .dataframe tbody tr th:only-of-type {\n",
       "        vertical-align: middle;\n",
       "    }\n",
       "\n",
       "    .dataframe tbody tr th {\n",
       "        vertical-align: top;\n",
       "    }\n",
       "\n",
       "    .dataframe thead th {\n",
       "        text-align: right;\n",
       "    }\n",
       "</style>\n",
       "<table border=\"1\" class=\"dataframe\">\n",
       "  <thead>\n",
       "    <tr style=\"text-align: right;\">\n",
       "      <th></th>\n",
       "      <th>Manufacturer</th>\n",
       "      <th>Model</th>\n",
       "      <th>Sales_in_thousands</th>\n",
       "      <th>__year_resale_value</th>\n",
       "      <th>Vehicle_type</th>\n",
       "      <th>Price_in_thousands</th>\n",
       "      <th>Engine_size</th>\n",
       "      <th>Horsepower</th>\n",
       "      <th>Wheelbase</th>\n",
       "      <th>Width</th>\n",
       "      <th>Length</th>\n",
       "      <th>Curb_weight</th>\n",
       "      <th>Fuel_capacity</th>\n",
       "      <th>Fuel_efficiency</th>\n",
       "      <th>Latest_Launch</th>\n",
       "      <th>Power_perf_factor</th>\n",
       "    </tr>\n",
       "  </thead>\n",
       "  <tbody>\n",
       "    <tr>\n",
       "      <th>0</th>\n",
       "      <td>Acura</td>\n",
       "      <td>Integra</td>\n",
       "      <td>16.919</td>\n",
       "      <td>16.360</td>\n",
       "      <td>Passenger</td>\n",
       "      <td>21.50</td>\n",
       "      <td>1.8</td>\n",
       "      <td>140.0</td>\n",
       "      <td>101.2</td>\n",
       "      <td>67.3</td>\n",
       "      <td>172.4</td>\n",
       "      <td>2.639</td>\n",
       "      <td>13.2</td>\n",
       "      <td>28.0</td>\n",
       "      <td>2/2/2012</td>\n",
       "      <td>58.280150</td>\n",
       "    </tr>\n",
       "    <tr>\n",
       "      <th>1</th>\n",
       "      <td>Acura</td>\n",
       "      <td>TL</td>\n",
       "      <td>39.384</td>\n",
       "      <td>19.875</td>\n",
       "      <td>Passenger</td>\n",
       "      <td>28.40</td>\n",
       "      <td>3.2</td>\n",
       "      <td>225.0</td>\n",
       "      <td>108.1</td>\n",
       "      <td>70.3</td>\n",
       "      <td>192.9</td>\n",
       "      <td>3.517</td>\n",
       "      <td>17.2</td>\n",
       "      <td>25.0</td>\n",
       "      <td>6/3/2011</td>\n",
       "      <td>91.370778</td>\n",
       "    </tr>\n",
       "    <tr>\n",
       "      <th>3</th>\n",
       "      <td>Acura</td>\n",
       "      <td>RL</td>\n",
       "      <td>8.588</td>\n",
       "      <td>29.725</td>\n",
       "      <td>Passenger</td>\n",
       "      <td>42.00</td>\n",
       "      <td>3.5</td>\n",
       "      <td>210.0</td>\n",
       "      <td>114.6</td>\n",
       "      <td>71.4</td>\n",
       "      <td>196.6</td>\n",
       "      <td>3.850</td>\n",
       "      <td>18.0</td>\n",
       "      <td>22.0</td>\n",
       "      <td>3/10/2011</td>\n",
       "      <td>91.389779</td>\n",
       "    </tr>\n",
       "    <tr>\n",
       "      <th>4</th>\n",
       "      <td>Audi</td>\n",
       "      <td>A4</td>\n",
       "      <td>20.397</td>\n",
       "      <td>22.255</td>\n",
       "      <td>Passenger</td>\n",
       "      <td>23.99</td>\n",
       "      <td>1.8</td>\n",
       "      <td>150.0</td>\n",
       "      <td>102.6</td>\n",
       "      <td>68.2</td>\n",
       "      <td>178.0</td>\n",
       "      <td>2.998</td>\n",
       "      <td>16.4</td>\n",
       "      <td>27.0</td>\n",
       "      <td>10/8/2011</td>\n",
       "      <td>62.777639</td>\n",
       "    </tr>\n",
       "    <tr>\n",
       "      <th>5</th>\n",
       "      <td>Audi</td>\n",
       "      <td>A6</td>\n",
       "      <td>18.780</td>\n",
       "      <td>23.555</td>\n",
       "      <td>Passenger</td>\n",
       "      <td>33.95</td>\n",
       "      <td>2.8</td>\n",
       "      <td>200.0</td>\n",
       "      <td>108.7</td>\n",
       "      <td>76.1</td>\n",
       "      <td>192.0</td>\n",
       "      <td>3.561</td>\n",
       "      <td>18.5</td>\n",
       "      <td>22.0</td>\n",
       "      <td>8/9/2011</td>\n",
       "      <td>84.565105</td>\n",
       "    </tr>\n",
       "    <tr>\n",
       "      <th>6</th>\n",
       "      <td>Audi</td>\n",
       "      <td>A8</td>\n",
       "      <td>1.380</td>\n",
       "      <td>39.000</td>\n",
       "      <td>Passenger</td>\n",
       "      <td>62.00</td>\n",
       "      <td>4.2</td>\n",
       "      <td>310.0</td>\n",
       "      <td>113.0</td>\n",
       "      <td>74.0</td>\n",
       "      <td>198.2</td>\n",
       "      <td>3.902</td>\n",
       "      <td>23.7</td>\n",
       "      <td>21.0</td>\n",
       "      <td>2/27/2012</td>\n",
       "      <td>134.656858</td>\n",
       "    </tr>\n",
       "    <tr>\n",
       "      <th>145</th>\n",
       "      <td>Volkswagen</td>\n",
       "      <td>Golf</td>\n",
       "      <td>9.761</td>\n",
       "      <td>11.425</td>\n",
       "      <td>Passenger</td>\n",
       "      <td>14.90</td>\n",
       "      <td>2.0</td>\n",
       "      <td>115.0</td>\n",
       "      <td>98.9</td>\n",
       "      <td>68.3</td>\n",
       "      <td>163.3</td>\n",
       "      <td>2.767</td>\n",
       "      <td>14.5</td>\n",
       "      <td>26.0</td>\n",
       "      <td>1/24/2011</td>\n",
       "      <td>46.943877</td>\n",
       "    </tr>\n",
       "    <tr>\n",
       "      <th>146</th>\n",
       "      <td>Volkswagen</td>\n",
       "      <td>Jetta</td>\n",
       "      <td>83.721</td>\n",
       "      <td>13.240</td>\n",
       "      <td>Passenger</td>\n",
       "      <td>16.70</td>\n",
       "      <td>2.0</td>\n",
       "      <td>115.0</td>\n",
       "      <td>98.9</td>\n",
       "      <td>68.3</td>\n",
       "      <td>172.3</td>\n",
       "      <td>2.853</td>\n",
       "      <td>14.5</td>\n",
       "      <td>26.0</td>\n",
       "      <td>8/27/2011</td>\n",
       "      <td>47.638237</td>\n",
       "    </tr>\n",
       "    <tr>\n",
       "      <th>147</th>\n",
       "      <td>Volkswagen</td>\n",
       "      <td>Passat</td>\n",
       "      <td>51.102</td>\n",
       "      <td>16.725</td>\n",
       "      <td>Passenger</td>\n",
       "      <td>21.20</td>\n",
       "      <td>1.8</td>\n",
       "      <td>150.0</td>\n",
       "      <td>106.4</td>\n",
       "      <td>68.5</td>\n",
       "      <td>184.1</td>\n",
       "      <td>3.043</td>\n",
       "      <td>16.4</td>\n",
       "      <td>27.0</td>\n",
       "      <td>10/30/2012</td>\n",
       "      <td>61.701381</td>\n",
       "    </tr>\n",
       "    <tr>\n",
       "      <th>148</th>\n",
       "      <td>Volkswagen</td>\n",
       "      <td>Cabrio</td>\n",
       "      <td>9.569</td>\n",
       "      <td>16.575</td>\n",
       "      <td>Passenger</td>\n",
       "      <td>19.99</td>\n",
       "      <td>2.0</td>\n",
       "      <td>115.0</td>\n",
       "      <td>97.4</td>\n",
       "      <td>66.7</td>\n",
       "      <td>160.4</td>\n",
       "      <td>3.079</td>\n",
       "      <td>13.7</td>\n",
       "      <td>26.0</td>\n",
       "      <td>5/31/2011</td>\n",
       "      <td>48.907372</td>\n",
       "    </tr>\n",
       "    <tr>\n",
       "      <th>149</th>\n",
       "      <td>Volkswagen</td>\n",
       "      <td>GTI</td>\n",
       "      <td>5.596</td>\n",
       "      <td>13.760</td>\n",
       "      <td>Passenger</td>\n",
       "      <td>17.50</td>\n",
       "      <td>2.0</td>\n",
       "      <td>115.0</td>\n",
       "      <td>98.9</td>\n",
       "      <td>68.3</td>\n",
       "      <td>163.3</td>\n",
       "      <td>2.762</td>\n",
       "      <td>14.6</td>\n",
       "      <td>26.0</td>\n",
       "      <td>4/1/2011</td>\n",
       "      <td>47.946841</td>\n",
       "    </tr>\n",
       "  </tbody>\n",
       "</table>\n",
       "</div>"
      ],
      "text/plain": [
       "    Manufacturer    Model  Sales_in_thousands  __year_resale_value  \\\n",
       "0          Acura  Integra              16.919               16.360   \n",
       "1          Acura       TL              39.384               19.875   \n",
       "3          Acura       RL               8.588               29.725   \n",
       "4           Audi       A4              20.397               22.255   \n",
       "5           Audi       A6              18.780               23.555   \n",
       "6           Audi       A8               1.380               39.000   \n",
       "145   Volkswagen     Golf               9.761               11.425   \n",
       "146   Volkswagen    Jetta              83.721               13.240   \n",
       "147   Volkswagen   Passat              51.102               16.725   \n",
       "148   Volkswagen   Cabrio               9.569               16.575   \n",
       "149   Volkswagen      GTI               5.596               13.760   \n",
       "\n",
       "    Vehicle_type  Price_in_thousands  Engine_size  Horsepower  Wheelbase  \\\n",
       "0      Passenger               21.50          1.8       140.0      101.2   \n",
       "1      Passenger               28.40          3.2       225.0      108.1   \n",
       "3      Passenger               42.00          3.5       210.0      114.6   \n",
       "4      Passenger               23.99          1.8       150.0      102.6   \n",
       "5      Passenger               33.95          2.8       200.0      108.7   \n",
       "6      Passenger               62.00          4.2       310.0      113.0   \n",
       "145    Passenger               14.90          2.0       115.0       98.9   \n",
       "146    Passenger               16.70          2.0       115.0       98.9   \n",
       "147    Passenger               21.20          1.8       150.0      106.4   \n",
       "148    Passenger               19.99          2.0       115.0       97.4   \n",
       "149    Passenger               17.50          2.0       115.0       98.9   \n",
       "\n",
       "     Width  Length  Curb_weight  Fuel_capacity  Fuel_efficiency Latest_Launch  \\\n",
       "0     67.3   172.4        2.639           13.2             28.0      2/2/2012   \n",
       "1     70.3   192.9        3.517           17.2             25.0      6/3/2011   \n",
       "3     71.4   196.6        3.850           18.0             22.0     3/10/2011   \n",
       "4     68.2   178.0        2.998           16.4             27.0     10/8/2011   \n",
       "5     76.1   192.0        3.561           18.5             22.0      8/9/2011   \n",
       "6     74.0   198.2        3.902           23.7             21.0     2/27/2012   \n",
       "145   68.3   163.3        2.767           14.5             26.0     1/24/2011   \n",
       "146   68.3   172.3        2.853           14.5             26.0     8/27/2011   \n",
       "147   68.5   184.1        3.043           16.4             27.0    10/30/2012   \n",
       "148   66.7   160.4        3.079           13.7             26.0     5/31/2011   \n",
       "149   68.3   163.3        2.762           14.6             26.0      4/1/2011   \n",
       "\n",
       "     Power_perf_factor  \n",
       "0            58.280150  \n",
       "1            91.370778  \n",
       "3            91.389779  \n",
       "4            62.777639  \n",
       "5            84.565105  \n",
       "6           134.656858  \n",
       "145          46.943877  \n",
       "146          47.638237  \n",
       "147          61.701381  \n",
       "148          48.907372  \n",
       "149          47.946841  "
      ]
     },
     "execution_count": 27,
     "metadata": {},
     "output_type": "execute_result"
    }
   ],
   "source": [
    "data_m\n"
   ]
  },
  {
   "cell_type": "code",
   "execution_count": 28,
   "id": "2566e7a9",
   "metadata": {},
   "outputs": [],
   "source": [
    "#LINE CHART"
   ]
  },
  {
   "cell_type": "code",
   "execution_count": 29,
   "id": "d944ff1c",
   "metadata": {},
   "outputs": [
    {
     "data": {
      "application/vnd.plotly.v1+json": {
       "config": {
        "plotlyServerURL": "https://plot.ly"
       },
       "data": [
        {
         "hovertemplate": "Manufacturer=Acura<br>Sales_in_thousands=%{x}<br>Price_in_thousands=%{y}<extra></extra>",
         "legendgroup": "Acura",
         "line": {
          "color": "#636efa",
          "dash": "solid"
         },
         "marker": {
          "symbol": "circle"
         },
         "mode": "lines",
         "name": "Acura",
         "orientation": "v",
         "showlegend": true,
         "type": "scatter",
         "x": [
          16.919,
          39.384,
          8.588
         ],
         "xaxis": "x",
         "y": [
          21.5,
          28.4,
          42
         ],
         "yaxis": "y"
        },
        {
         "hovertemplate": "Manufacturer=Audi<br>Sales_in_thousands=%{x}<br>Price_in_thousands=%{y}<extra></extra>",
         "legendgroup": "Audi",
         "line": {
          "color": "#EF553B",
          "dash": "solid"
         },
         "marker": {
          "symbol": "circle"
         },
         "mode": "lines",
         "name": "Audi",
         "orientation": "v",
         "showlegend": true,
         "type": "scatter",
         "x": [
          20.397,
          18.78,
          1.38
         ],
         "xaxis": "x",
         "y": [
          23.99,
          33.95,
          62
         ],
         "yaxis": "y"
        },
        {
         "hovertemplate": "Manufacturer=Volkswagen<br>Sales_in_thousands=%{x}<br>Price_in_thousands=%{y}<extra></extra>",
         "legendgroup": "Volkswagen",
         "line": {
          "color": "#00cc96",
          "dash": "solid"
         },
         "marker": {
          "symbol": "circle"
         },
         "mode": "lines",
         "name": "Volkswagen",
         "orientation": "v",
         "showlegend": true,
         "type": "scatter",
         "x": [
          9.761,
          83.721,
          51.102,
          9.569,
          5.596
         ],
         "xaxis": "x",
         "y": [
          14.9,
          16.7,
          21.2,
          19.99,
          17.5
         ],
         "yaxis": "y"
        }
       ],
       "layout": {
        "legend": {
         "title": {
          "text": "Manufacturer"
         },
         "tracegroupgap": 0
        },
        "margin": {
         "t": 60
        },
        "template": {
         "data": {
          "bar": [
           {
            "error_x": {
             "color": "#2a3f5f"
            },
            "error_y": {
             "color": "#2a3f5f"
            },
            "marker": {
             "line": {
              "color": "#E5ECF6",
              "width": 0.5
             },
             "pattern": {
              "fillmode": "overlay",
              "size": 10,
              "solidity": 0.2
             }
            },
            "type": "bar"
           }
          ],
          "barpolar": [
           {
            "marker": {
             "line": {
              "color": "#E5ECF6",
              "width": 0.5
             },
             "pattern": {
              "fillmode": "overlay",
              "size": 10,
              "solidity": 0.2
             }
            },
            "type": "barpolar"
           }
          ],
          "carpet": [
           {
            "aaxis": {
             "endlinecolor": "#2a3f5f",
             "gridcolor": "white",
             "linecolor": "white",
             "minorgridcolor": "white",
             "startlinecolor": "#2a3f5f"
            },
            "baxis": {
             "endlinecolor": "#2a3f5f",
             "gridcolor": "white",
             "linecolor": "white",
             "minorgridcolor": "white",
             "startlinecolor": "#2a3f5f"
            },
            "type": "carpet"
           }
          ],
          "choropleth": [
           {
            "colorbar": {
             "outlinewidth": 0,
             "ticks": ""
            },
            "type": "choropleth"
           }
          ],
          "contour": [
           {
            "colorbar": {
             "outlinewidth": 0,
             "ticks": ""
            },
            "colorscale": [
             [
              0,
              "#0d0887"
             ],
             [
              0.1111111111111111,
              "#46039f"
             ],
             [
              0.2222222222222222,
              "#7201a8"
             ],
             [
              0.3333333333333333,
              "#9c179e"
             ],
             [
              0.4444444444444444,
              "#bd3786"
             ],
             [
              0.5555555555555556,
              "#d8576b"
             ],
             [
              0.6666666666666666,
              "#ed7953"
             ],
             [
              0.7777777777777778,
              "#fb9f3a"
             ],
             [
              0.8888888888888888,
              "#fdca26"
             ],
             [
              1,
              "#f0f921"
             ]
            ],
            "type": "contour"
           }
          ],
          "contourcarpet": [
           {
            "colorbar": {
             "outlinewidth": 0,
             "ticks": ""
            },
            "type": "contourcarpet"
           }
          ],
          "heatmap": [
           {
            "colorbar": {
             "outlinewidth": 0,
             "ticks": ""
            },
            "colorscale": [
             [
              0,
              "#0d0887"
             ],
             [
              0.1111111111111111,
              "#46039f"
             ],
             [
              0.2222222222222222,
              "#7201a8"
             ],
             [
              0.3333333333333333,
              "#9c179e"
             ],
             [
              0.4444444444444444,
              "#bd3786"
             ],
             [
              0.5555555555555556,
              "#d8576b"
             ],
             [
              0.6666666666666666,
              "#ed7953"
             ],
             [
              0.7777777777777778,
              "#fb9f3a"
             ],
             [
              0.8888888888888888,
              "#fdca26"
             ],
             [
              1,
              "#f0f921"
             ]
            ],
            "type": "heatmap"
           }
          ],
          "heatmapgl": [
           {
            "colorbar": {
             "outlinewidth": 0,
             "ticks": ""
            },
            "colorscale": [
             [
              0,
              "#0d0887"
             ],
             [
              0.1111111111111111,
              "#46039f"
             ],
             [
              0.2222222222222222,
              "#7201a8"
             ],
             [
              0.3333333333333333,
              "#9c179e"
             ],
             [
              0.4444444444444444,
              "#bd3786"
             ],
             [
              0.5555555555555556,
              "#d8576b"
             ],
             [
              0.6666666666666666,
              "#ed7953"
             ],
             [
              0.7777777777777778,
              "#fb9f3a"
             ],
             [
              0.8888888888888888,
              "#fdca26"
             ],
             [
              1,
              "#f0f921"
             ]
            ],
            "type": "heatmapgl"
           }
          ],
          "histogram": [
           {
            "marker": {
             "pattern": {
              "fillmode": "overlay",
              "size": 10,
              "solidity": 0.2
             }
            },
            "type": "histogram"
           }
          ],
          "histogram2d": [
           {
            "colorbar": {
             "outlinewidth": 0,
             "ticks": ""
            },
            "colorscale": [
             [
              0,
              "#0d0887"
             ],
             [
              0.1111111111111111,
              "#46039f"
             ],
             [
              0.2222222222222222,
              "#7201a8"
             ],
             [
              0.3333333333333333,
              "#9c179e"
             ],
             [
              0.4444444444444444,
              "#bd3786"
             ],
             [
              0.5555555555555556,
              "#d8576b"
             ],
             [
              0.6666666666666666,
              "#ed7953"
             ],
             [
              0.7777777777777778,
              "#fb9f3a"
             ],
             [
              0.8888888888888888,
              "#fdca26"
             ],
             [
              1,
              "#f0f921"
             ]
            ],
            "type": "histogram2d"
           }
          ],
          "histogram2dcontour": [
           {
            "colorbar": {
             "outlinewidth": 0,
             "ticks": ""
            },
            "colorscale": [
             [
              0,
              "#0d0887"
             ],
             [
              0.1111111111111111,
              "#46039f"
             ],
             [
              0.2222222222222222,
              "#7201a8"
             ],
             [
              0.3333333333333333,
              "#9c179e"
             ],
             [
              0.4444444444444444,
              "#bd3786"
             ],
             [
              0.5555555555555556,
              "#d8576b"
             ],
             [
              0.6666666666666666,
              "#ed7953"
             ],
             [
              0.7777777777777778,
              "#fb9f3a"
             ],
             [
              0.8888888888888888,
              "#fdca26"
             ],
             [
              1,
              "#f0f921"
             ]
            ],
            "type": "histogram2dcontour"
           }
          ],
          "mesh3d": [
           {
            "colorbar": {
             "outlinewidth": 0,
             "ticks": ""
            },
            "type": "mesh3d"
           }
          ],
          "parcoords": [
           {
            "line": {
             "colorbar": {
              "outlinewidth": 0,
              "ticks": ""
             }
            },
            "type": "parcoords"
           }
          ],
          "pie": [
           {
            "automargin": true,
            "type": "pie"
           }
          ],
          "scatter": [
           {
            "fillpattern": {
             "fillmode": "overlay",
             "size": 10,
             "solidity": 0.2
            },
            "type": "scatter"
           }
          ],
          "scatter3d": [
           {
            "line": {
             "colorbar": {
              "outlinewidth": 0,
              "ticks": ""
             }
            },
            "marker": {
             "colorbar": {
              "outlinewidth": 0,
              "ticks": ""
             }
            },
            "type": "scatter3d"
           }
          ],
          "scattercarpet": [
           {
            "marker": {
             "colorbar": {
              "outlinewidth": 0,
              "ticks": ""
             }
            },
            "type": "scattercarpet"
           }
          ],
          "scattergeo": [
           {
            "marker": {
             "colorbar": {
              "outlinewidth": 0,
              "ticks": ""
             }
            },
            "type": "scattergeo"
           }
          ],
          "scattergl": [
           {
            "marker": {
             "colorbar": {
              "outlinewidth": 0,
              "ticks": ""
             }
            },
            "type": "scattergl"
           }
          ],
          "scattermapbox": [
           {
            "marker": {
             "colorbar": {
              "outlinewidth": 0,
              "ticks": ""
             }
            },
            "type": "scattermapbox"
           }
          ],
          "scatterpolar": [
           {
            "marker": {
             "colorbar": {
              "outlinewidth": 0,
              "ticks": ""
             }
            },
            "type": "scatterpolar"
           }
          ],
          "scatterpolargl": [
           {
            "marker": {
             "colorbar": {
              "outlinewidth": 0,
              "ticks": ""
             }
            },
            "type": "scatterpolargl"
           }
          ],
          "scatterternary": [
           {
            "marker": {
             "colorbar": {
              "outlinewidth": 0,
              "ticks": ""
             }
            },
            "type": "scatterternary"
           }
          ],
          "surface": [
           {
            "colorbar": {
             "outlinewidth": 0,
             "ticks": ""
            },
            "colorscale": [
             [
              0,
              "#0d0887"
             ],
             [
              0.1111111111111111,
              "#46039f"
             ],
             [
              0.2222222222222222,
              "#7201a8"
             ],
             [
              0.3333333333333333,
              "#9c179e"
             ],
             [
              0.4444444444444444,
              "#bd3786"
             ],
             [
              0.5555555555555556,
              "#d8576b"
             ],
             [
              0.6666666666666666,
              "#ed7953"
             ],
             [
              0.7777777777777778,
              "#fb9f3a"
             ],
             [
              0.8888888888888888,
              "#fdca26"
             ],
             [
              1,
              "#f0f921"
             ]
            ],
            "type": "surface"
           }
          ],
          "table": [
           {
            "cells": {
             "fill": {
              "color": "#EBF0F8"
             },
             "line": {
              "color": "white"
             }
            },
            "header": {
             "fill": {
              "color": "#C8D4E3"
             },
             "line": {
              "color": "white"
             }
            },
            "type": "table"
           }
          ]
         },
         "layout": {
          "annotationdefaults": {
           "arrowcolor": "#2a3f5f",
           "arrowhead": 0,
           "arrowwidth": 1
          },
          "autotypenumbers": "strict",
          "coloraxis": {
           "colorbar": {
            "outlinewidth": 0,
            "ticks": ""
           }
          },
          "colorscale": {
           "diverging": [
            [
             0,
             "#8e0152"
            ],
            [
             0.1,
             "#c51b7d"
            ],
            [
             0.2,
             "#de77ae"
            ],
            [
             0.3,
             "#f1b6da"
            ],
            [
             0.4,
             "#fde0ef"
            ],
            [
             0.5,
             "#f7f7f7"
            ],
            [
             0.6,
             "#e6f5d0"
            ],
            [
             0.7,
             "#b8e186"
            ],
            [
             0.8,
             "#7fbc41"
            ],
            [
             0.9,
             "#4d9221"
            ],
            [
             1,
             "#276419"
            ]
           ],
           "sequential": [
            [
             0,
             "#0d0887"
            ],
            [
             0.1111111111111111,
             "#46039f"
            ],
            [
             0.2222222222222222,
             "#7201a8"
            ],
            [
             0.3333333333333333,
             "#9c179e"
            ],
            [
             0.4444444444444444,
             "#bd3786"
            ],
            [
             0.5555555555555556,
             "#d8576b"
            ],
            [
             0.6666666666666666,
             "#ed7953"
            ],
            [
             0.7777777777777778,
             "#fb9f3a"
            ],
            [
             0.8888888888888888,
             "#fdca26"
            ],
            [
             1,
             "#f0f921"
            ]
           ],
           "sequentialminus": [
            [
             0,
             "#0d0887"
            ],
            [
             0.1111111111111111,
             "#46039f"
            ],
            [
             0.2222222222222222,
             "#7201a8"
            ],
            [
             0.3333333333333333,
             "#9c179e"
            ],
            [
             0.4444444444444444,
             "#bd3786"
            ],
            [
             0.5555555555555556,
             "#d8576b"
            ],
            [
             0.6666666666666666,
             "#ed7953"
            ],
            [
             0.7777777777777778,
             "#fb9f3a"
            ],
            [
             0.8888888888888888,
             "#fdca26"
            ],
            [
             1,
             "#f0f921"
            ]
           ]
          },
          "colorway": [
           "#636efa",
           "#EF553B",
           "#00cc96",
           "#ab63fa",
           "#FFA15A",
           "#19d3f3",
           "#FF6692",
           "#B6E880",
           "#FF97FF",
           "#FECB52"
          ],
          "font": {
           "color": "#2a3f5f"
          },
          "geo": {
           "bgcolor": "white",
           "lakecolor": "white",
           "landcolor": "#E5ECF6",
           "showlakes": true,
           "showland": true,
           "subunitcolor": "white"
          },
          "hoverlabel": {
           "align": "left"
          },
          "hovermode": "closest",
          "mapbox": {
           "style": "light"
          },
          "paper_bgcolor": "white",
          "plot_bgcolor": "#E5ECF6",
          "polar": {
           "angularaxis": {
            "gridcolor": "white",
            "linecolor": "white",
            "ticks": ""
           },
           "bgcolor": "#E5ECF6",
           "radialaxis": {
            "gridcolor": "white",
            "linecolor": "white",
            "ticks": ""
           }
          },
          "scene": {
           "xaxis": {
            "backgroundcolor": "#E5ECF6",
            "gridcolor": "white",
            "gridwidth": 2,
            "linecolor": "white",
            "showbackground": true,
            "ticks": "",
            "zerolinecolor": "white"
           },
           "yaxis": {
            "backgroundcolor": "#E5ECF6",
            "gridcolor": "white",
            "gridwidth": 2,
            "linecolor": "white",
            "showbackground": true,
            "ticks": "",
            "zerolinecolor": "white"
           },
           "zaxis": {
            "backgroundcolor": "#E5ECF6",
            "gridcolor": "white",
            "gridwidth": 2,
            "linecolor": "white",
            "showbackground": true,
            "ticks": "",
            "zerolinecolor": "white"
           }
          },
          "shapedefaults": {
           "line": {
            "color": "#2a3f5f"
           }
          },
          "ternary": {
           "aaxis": {
            "gridcolor": "white",
            "linecolor": "white",
            "ticks": ""
           },
           "baxis": {
            "gridcolor": "white",
            "linecolor": "white",
            "ticks": ""
           },
           "bgcolor": "#E5ECF6",
           "caxis": {
            "gridcolor": "white",
            "linecolor": "white",
            "ticks": ""
           }
          },
          "title": {
           "x": 0.05
          },
          "xaxis": {
           "automargin": true,
           "gridcolor": "white",
           "linecolor": "white",
           "ticks": "",
           "title": {
            "standoff": 15
           },
           "zerolinecolor": "white",
           "zerolinewidth": 2
          },
          "yaxis": {
           "automargin": true,
           "gridcolor": "white",
           "linecolor": "white",
           "ticks": "",
           "title": {
            "standoff": 15
           },
           "zerolinecolor": "white",
           "zerolinewidth": 2
          }
         }
        },
        "xaxis": {
         "anchor": "y",
         "domain": [
          0,
          1
         ],
         "title": {
          "text": "Sales_in_thousands"
         }
        },
        "yaxis": {
         "anchor": "x",
         "domain": [
          0,
          1
         ],
         "title": {
          "text": "Price_in_thousands"
         }
        }
       }
      },
      "text/html": [
       "<div>                            <div id=\"c39d6451-1ac6-40f8-b439-83173475c911\" class=\"plotly-graph-div\" style=\"height:525px; width:100%;\"></div>            <script type=\"text/javascript\">                require([\"plotly\"], function(Plotly) {                    window.PLOTLYENV=window.PLOTLYENV || {};                                    if (document.getElementById(\"c39d6451-1ac6-40f8-b439-83173475c911\")) {                    Plotly.newPlot(                        \"c39d6451-1ac6-40f8-b439-83173475c911\",                        [{\"hovertemplate\":\"Manufacturer=Acura<br>Sales_in_thousands=%{x}<br>Price_in_thousands=%{y}<extra></extra>\",\"legendgroup\":\"Acura\",\"line\":{\"color\":\"#636efa\",\"dash\":\"solid\"},\"marker\":{\"symbol\":\"circle\"},\"mode\":\"lines\",\"name\":\"Acura\",\"orientation\":\"v\",\"showlegend\":true,\"x\":[16.919,39.384,8.588],\"xaxis\":\"x\",\"y\":[21.5,28.4,42.0],\"yaxis\":\"y\",\"type\":\"scatter\"},{\"hovertemplate\":\"Manufacturer=Audi<br>Sales_in_thousands=%{x}<br>Price_in_thousands=%{y}<extra></extra>\",\"legendgroup\":\"Audi\",\"line\":{\"color\":\"#EF553B\",\"dash\":\"solid\"},\"marker\":{\"symbol\":\"circle\"},\"mode\":\"lines\",\"name\":\"Audi\",\"orientation\":\"v\",\"showlegend\":true,\"x\":[20.397,18.78,1.38],\"xaxis\":\"x\",\"y\":[23.99,33.95,62.0],\"yaxis\":\"y\",\"type\":\"scatter\"},{\"hovertemplate\":\"Manufacturer=Volkswagen<br>Sales_in_thousands=%{x}<br>Price_in_thousands=%{y}<extra></extra>\",\"legendgroup\":\"Volkswagen\",\"line\":{\"color\":\"#00cc96\",\"dash\":\"solid\"},\"marker\":{\"symbol\":\"circle\"},\"mode\":\"lines\",\"name\":\"Volkswagen\",\"orientation\":\"v\",\"showlegend\":true,\"x\":[9.761,83.721,51.102,9.569,5.596],\"xaxis\":\"x\",\"y\":[14.9,16.7,21.2,19.99,17.5],\"yaxis\":\"y\",\"type\":\"scatter\"}],                        {\"template\":{\"data\":{\"histogram2dcontour\":[{\"type\":\"histogram2dcontour\",\"colorbar\":{\"outlinewidth\":0,\"ticks\":\"\"},\"colorscale\":[[0.0,\"#0d0887\"],[0.1111111111111111,\"#46039f\"],[0.2222222222222222,\"#7201a8\"],[0.3333333333333333,\"#9c179e\"],[0.4444444444444444,\"#bd3786\"],[0.5555555555555556,\"#d8576b\"],[0.6666666666666666,\"#ed7953\"],[0.7777777777777778,\"#fb9f3a\"],[0.8888888888888888,\"#fdca26\"],[1.0,\"#f0f921\"]]}],\"choropleth\":[{\"type\":\"choropleth\",\"colorbar\":{\"outlinewidth\":0,\"ticks\":\"\"}}],\"histogram2d\":[{\"type\":\"histogram2d\",\"colorbar\":{\"outlinewidth\":0,\"ticks\":\"\"},\"colorscale\":[[0.0,\"#0d0887\"],[0.1111111111111111,\"#46039f\"],[0.2222222222222222,\"#7201a8\"],[0.3333333333333333,\"#9c179e\"],[0.4444444444444444,\"#bd3786\"],[0.5555555555555556,\"#d8576b\"],[0.6666666666666666,\"#ed7953\"],[0.7777777777777778,\"#fb9f3a\"],[0.8888888888888888,\"#fdca26\"],[1.0,\"#f0f921\"]]}],\"heatmap\":[{\"type\":\"heatmap\",\"colorbar\":{\"outlinewidth\":0,\"ticks\":\"\"},\"colorscale\":[[0.0,\"#0d0887\"],[0.1111111111111111,\"#46039f\"],[0.2222222222222222,\"#7201a8\"],[0.3333333333333333,\"#9c179e\"],[0.4444444444444444,\"#bd3786\"],[0.5555555555555556,\"#d8576b\"],[0.6666666666666666,\"#ed7953\"],[0.7777777777777778,\"#fb9f3a\"],[0.8888888888888888,\"#fdca26\"],[1.0,\"#f0f921\"]]}],\"heatmapgl\":[{\"type\":\"heatmapgl\",\"colorbar\":{\"outlinewidth\":0,\"ticks\":\"\"},\"colorscale\":[[0.0,\"#0d0887\"],[0.1111111111111111,\"#46039f\"],[0.2222222222222222,\"#7201a8\"],[0.3333333333333333,\"#9c179e\"],[0.4444444444444444,\"#bd3786\"],[0.5555555555555556,\"#d8576b\"],[0.6666666666666666,\"#ed7953\"],[0.7777777777777778,\"#fb9f3a\"],[0.8888888888888888,\"#fdca26\"],[1.0,\"#f0f921\"]]}],\"contourcarpet\":[{\"type\":\"contourcarpet\",\"colorbar\":{\"outlinewidth\":0,\"ticks\":\"\"}}],\"contour\":[{\"type\":\"contour\",\"colorbar\":{\"outlinewidth\":0,\"ticks\":\"\"},\"colorscale\":[[0.0,\"#0d0887\"],[0.1111111111111111,\"#46039f\"],[0.2222222222222222,\"#7201a8\"],[0.3333333333333333,\"#9c179e\"],[0.4444444444444444,\"#bd3786\"],[0.5555555555555556,\"#d8576b\"],[0.6666666666666666,\"#ed7953\"],[0.7777777777777778,\"#fb9f3a\"],[0.8888888888888888,\"#fdca26\"],[1.0,\"#f0f921\"]]}],\"surface\":[{\"type\":\"surface\",\"colorbar\":{\"outlinewidth\":0,\"ticks\":\"\"},\"colorscale\":[[0.0,\"#0d0887\"],[0.1111111111111111,\"#46039f\"],[0.2222222222222222,\"#7201a8\"],[0.3333333333333333,\"#9c179e\"],[0.4444444444444444,\"#bd3786\"],[0.5555555555555556,\"#d8576b\"],[0.6666666666666666,\"#ed7953\"],[0.7777777777777778,\"#fb9f3a\"],[0.8888888888888888,\"#fdca26\"],[1.0,\"#f0f921\"]]}],\"mesh3d\":[{\"type\":\"mesh3d\",\"colorbar\":{\"outlinewidth\":0,\"ticks\":\"\"}}],\"scatter\":[{\"fillpattern\":{\"fillmode\":\"overlay\",\"size\":10,\"solidity\":0.2},\"type\":\"scatter\"}],\"parcoords\":[{\"type\":\"parcoords\",\"line\":{\"colorbar\":{\"outlinewidth\":0,\"ticks\":\"\"}}}],\"scatterpolargl\":[{\"type\":\"scatterpolargl\",\"marker\":{\"colorbar\":{\"outlinewidth\":0,\"ticks\":\"\"}}}],\"bar\":[{\"error_x\":{\"color\":\"#2a3f5f\"},\"error_y\":{\"color\":\"#2a3f5f\"},\"marker\":{\"line\":{\"color\":\"#E5ECF6\",\"width\":0.5},\"pattern\":{\"fillmode\":\"overlay\",\"size\":10,\"solidity\":0.2}},\"type\":\"bar\"}],\"scattergeo\":[{\"type\":\"scattergeo\",\"marker\":{\"colorbar\":{\"outlinewidth\":0,\"ticks\":\"\"}}}],\"scatterpolar\":[{\"type\":\"scatterpolar\",\"marker\":{\"colorbar\":{\"outlinewidth\":0,\"ticks\":\"\"}}}],\"histogram\":[{\"marker\":{\"pattern\":{\"fillmode\":\"overlay\",\"size\":10,\"solidity\":0.2}},\"type\":\"histogram\"}],\"scattergl\":[{\"type\":\"scattergl\",\"marker\":{\"colorbar\":{\"outlinewidth\":0,\"ticks\":\"\"}}}],\"scatter3d\":[{\"type\":\"scatter3d\",\"line\":{\"colorbar\":{\"outlinewidth\":0,\"ticks\":\"\"}},\"marker\":{\"colorbar\":{\"outlinewidth\":0,\"ticks\":\"\"}}}],\"scattermapbox\":[{\"type\":\"scattermapbox\",\"marker\":{\"colorbar\":{\"outlinewidth\":0,\"ticks\":\"\"}}}],\"scatterternary\":[{\"type\":\"scatterternary\",\"marker\":{\"colorbar\":{\"outlinewidth\":0,\"ticks\":\"\"}}}],\"scattercarpet\":[{\"type\":\"scattercarpet\",\"marker\":{\"colorbar\":{\"outlinewidth\":0,\"ticks\":\"\"}}}],\"carpet\":[{\"aaxis\":{\"endlinecolor\":\"#2a3f5f\",\"gridcolor\":\"white\",\"linecolor\":\"white\",\"minorgridcolor\":\"white\",\"startlinecolor\":\"#2a3f5f\"},\"baxis\":{\"endlinecolor\":\"#2a3f5f\",\"gridcolor\":\"white\",\"linecolor\":\"white\",\"minorgridcolor\":\"white\",\"startlinecolor\":\"#2a3f5f\"},\"type\":\"carpet\"}],\"table\":[{\"cells\":{\"fill\":{\"color\":\"#EBF0F8\"},\"line\":{\"color\":\"white\"}},\"header\":{\"fill\":{\"color\":\"#C8D4E3\"},\"line\":{\"color\":\"white\"}},\"type\":\"table\"}],\"barpolar\":[{\"marker\":{\"line\":{\"color\":\"#E5ECF6\",\"width\":0.5},\"pattern\":{\"fillmode\":\"overlay\",\"size\":10,\"solidity\":0.2}},\"type\":\"barpolar\"}],\"pie\":[{\"automargin\":true,\"type\":\"pie\"}]},\"layout\":{\"autotypenumbers\":\"strict\",\"colorway\":[\"#636efa\",\"#EF553B\",\"#00cc96\",\"#ab63fa\",\"#FFA15A\",\"#19d3f3\",\"#FF6692\",\"#B6E880\",\"#FF97FF\",\"#FECB52\"],\"font\":{\"color\":\"#2a3f5f\"},\"hovermode\":\"closest\",\"hoverlabel\":{\"align\":\"left\"},\"paper_bgcolor\":\"white\",\"plot_bgcolor\":\"#E5ECF6\",\"polar\":{\"bgcolor\":\"#E5ECF6\",\"angularaxis\":{\"gridcolor\":\"white\",\"linecolor\":\"white\",\"ticks\":\"\"},\"radialaxis\":{\"gridcolor\":\"white\",\"linecolor\":\"white\",\"ticks\":\"\"}},\"ternary\":{\"bgcolor\":\"#E5ECF6\",\"aaxis\":{\"gridcolor\":\"white\",\"linecolor\":\"white\",\"ticks\":\"\"},\"baxis\":{\"gridcolor\":\"white\",\"linecolor\":\"white\",\"ticks\":\"\"},\"caxis\":{\"gridcolor\":\"white\",\"linecolor\":\"white\",\"ticks\":\"\"}},\"coloraxis\":{\"colorbar\":{\"outlinewidth\":0,\"ticks\":\"\"}},\"colorscale\":{\"sequential\":[[0.0,\"#0d0887\"],[0.1111111111111111,\"#46039f\"],[0.2222222222222222,\"#7201a8\"],[0.3333333333333333,\"#9c179e\"],[0.4444444444444444,\"#bd3786\"],[0.5555555555555556,\"#d8576b\"],[0.6666666666666666,\"#ed7953\"],[0.7777777777777778,\"#fb9f3a\"],[0.8888888888888888,\"#fdca26\"],[1.0,\"#f0f921\"]],\"sequentialminus\":[[0.0,\"#0d0887\"],[0.1111111111111111,\"#46039f\"],[0.2222222222222222,\"#7201a8\"],[0.3333333333333333,\"#9c179e\"],[0.4444444444444444,\"#bd3786\"],[0.5555555555555556,\"#d8576b\"],[0.6666666666666666,\"#ed7953\"],[0.7777777777777778,\"#fb9f3a\"],[0.8888888888888888,\"#fdca26\"],[1.0,\"#f0f921\"]],\"diverging\":[[0,\"#8e0152\"],[0.1,\"#c51b7d\"],[0.2,\"#de77ae\"],[0.3,\"#f1b6da\"],[0.4,\"#fde0ef\"],[0.5,\"#f7f7f7\"],[0.6,\"#e6f5d0\"],[0.7,\"#b8e186\"],[0.8,\"#7fbc41\"],[0.9,\"#4d9221\"],[1,\"#276419\"]]},\"xaxis\":{\"gridcolor\":\"white\",\"linecolor\":\"white\",\"ticks\":\"\",\"title\":{\"standoff\":15},\"zerolinecolor\":\"white\",\"automargin\":true,\"zerolinewidth\":2},\"yaxis\":{\"gridcolor\":\"white\",\"linecolor\":\"white\",\"ticks\":\"\",\"title\":{\"standoff\":15},\"zerolinecolor\":\"white\",\"automargin\":true,\"zerolinewidth\":2},\"scene\":{\"xaxis\":{\"backgroundcolor\":\"#E5ECF6\",\"gridcolor\":\"white\",\"linecolor\":\"white\",\"showbackground\":true,\"ticks\":\"\",\"zerolinecolor\":\"white\",\"gridwidth\":2},\"yaxis\":{\"backgroundcolor\":\"#E5ECF6\",\"gridcolor\":\"white\",\"linecolor\":\"white\",\"showbackground\":true,\"ticks\":\"\",\"zerolinecolor\":\"white\",\"gridwidth\":2},\"zaxis\":{\"backgroundcolor\":\"#E5ECF6\",\"gridcolor\":\"white\",\"linecolor\":\"white\",\"showbackground\":true,\"ticks\":\"\",\"zerolinecolor\":\"white\",\"gridwidth\":2}},\"shapedefaults\":{\"line\":{\"color\":\"#2a3f5f\"}},\"annotationdefaults\":{\"arrowcolor\":\"#2a3f5f\",\"arrowhead\":0,\"arrowwidth\":1},\"geo\":{\"bgcolor\":\"white\",\"landcolor\":\"#E5ECF6\",\"subunitcolor\":\"white\",\"showland\":true,\"showlakes\":true,\"lakecolor\":\"white\"},\"title\":{\"x\":0.05},\"mapbox\":{\"style\":\"light\"}}},\"xaxis\":{\"anchor\":\"y\",\"domain\":[0.0,1.0],\"title\":{\"text\":\"Sales_in_thousands\"}},\"yaxis\":{\"anchor\":\"x\",\"domain\":[0.0,1.0],\"title\":{\"text\":\"Price_in_thousands\"}},\"legend\":{\"title\":{\"text\":\"Manufacturer\"},\"tracegroupgap\":0},\"margin\":{\"t\":60}},                        {\"responsive\": true}                    ).then(function(){\n",
       "                            \n",
       "var gd = document.getElementById('c39d6451-1ac6-40f8-b439-83173475c911');\n",
       "var x = new MutationObserver(function (mutations, observer) {{\n",
       "        var display = window.getComputedStyle(gd).display;\n",
       "        if (!display || display === 'none') {{\n",
       "            console.log([gd, 'removed!']);\n",
       "            Plotly.purge(gd);\n",
       "            observer.disconnect();\n",
       "        }}\n",
       "}});\n",
       "\n",
       "// Listen for the removal of the full notebook cells\n",
       "var notebookContainer = gd.closest('#notebook-container');\n",
       "if (notebookContainer) {{\n",
       "    x.observe(notebookContainer, {childList: true});\n",
       "}}\n",
       "\n",
       "// Listen for the clearing of the current output cell\n",
       "var outputEl = gd.closest('.output');\n",
       "if (outputEl) {{\n",
       "    x.observe(outputEl, {childList: true});\n",
       "}}\n",
       "\n",
       "                        })                };                });            </script>        </div>"
      ]
     },
     "metadata": {},
     "output_type": "display_data"
    }
   ],
   "source": [
    "px.line(data_frame=data_m,x=\"Sales_in_thousands\", y=\"Price_in_thousands\", color=\"Manufacturer\")"
   ]
  },
  {
   "cell_type": "code",
   "execution_count": 30,
   "id": "8f7fb465",
   "metadata": {},
   "outputs": [
    {
     "data": {
      "text/html": [
       "<div>\n",
       "<style scoped>\n",
       "    .dataframe tbody tr th:only-of-type {\n",
       "        vertical-align: middle;\n",
       "    }\n",
       "\n",
       "    .dataframe tbody tr th {\n",
       "        vertical-align: top;\n",
       "    }\n",
       "\n",
       "    .dataframe thead th {\n",
       "        text-align: right;\n",
       "    }\n",
       "</style>\n",
       "<table border=\"1\" class=\"dataframe\">\n",
       "  <thead>\n",
       "    <tr style=\"text-align: right;\">\n",
       "      <th></th>\n",
       "      <th>Manufacturer</th>\n",
       "      <th>Model</th>\n",
       "      <th>Sales_in_thousands</th>\n",
       "      <th>__year_resale_value</th>\n",
       "      <th>Vehicle_type</th>\n",
       "      <th>Price_in_thousands</th>\n",
       "      <th>Engine_size</th>\n",
       "      <th>Horsepower</th>\n",
       "      <th>Wheelbase</th>\n",
       "      <th>Width</th>\n",
       "      <th>Length</th>\n",
       "      <th>Curb_weight</th>\n",
       "      <th>Fuel_capacity</th>\n",
       "      <th>Fuel_efficiency</th>\n",
       "      <th>Latest_Launch</th>\n",
       "      <th>Power_perf_factor</th>\n",
       "    </tr>\n",
       "  </thead>\n",
       "  <tbody>\n",
       "    <tr>\n",
       "      <th>83</th>\n",
       "      <td>Mitsubishi</td>\n",
       "      <td>3000GT</td>\n",
       "      <td>0.110</td>\n",
       "      <td>20.940</td>\n",
       "      <td>Passenger</td>\n",
       "      <td>25.450</td>\n",
       "      <td>3.0</td>\n",
       "      <td>161.0</td>\n",
       "      <td>97.2</td>\n",
       "      <td>72.4</td>\n",
       "      <td>180.3</td>\n",
       "      <td>3.131</td>\n",
       "      <td>19.8</td>\n",
       "      <td>21.0</td>\n",
       "      <td>6/29/2012</td>\n",
       "      <td>67.544155</td>\n",
       "    </tr>\n",
       "    <tr>\n",
       "      <th>39</th>\n",
       "      <td>Dodge</td>\n",
       "      <td>Viper</td>\n",
       "      <td>0.916</td>\n",
       "      <td>58.470</td>\n",
       "      <td>Passenger</td>\n",
       "      <td>69.725</td>\n",
       "      <td>8.0</td>\n",
       "      <td>450.0</td>\n",
       "      <td>96.2</td>\n",
       "      <td>75.7</td>\n",
       "      <td>176.7</td>\n",
       "      <td>3.375</td>\n",
       "      <td>19.0</td>\n",
       "      <td>16.0</td>\n",
       "      <td>8/7/2011</td>\n",
       "      <td>188.144323</td>\n",
       "    </tr>\n",
       "    <tr>\n",
       "      <th>108</th>\n",
       "      <td>Oldsmobile</td>\n",
       "      <td>Cutlass</td>\n",
       "      <td>1.112</td>\n",
       "      <td>11.240</td>\n",
       "      <td>Passenger</td>\n",
       "      <td>18.145</td>\n",
       "      <td>3.1</td>\n",
       "      <td>150.0</td>\n",
       "      <td>107.0</td>\n",
       "      <td>69.4</td>\n",
       "      <td>192.0</td>\n",
       "      <td>3.102</td>\n",
       "      <td>15.2</td>\n",
       "      <td>25.0</td>\n",
       "      <td>5/31/2011</td>\n",
       "      <td>60.861612</td>\n",
       "    </tr>\n",
       "    <tr>\n",
       "      <th>125</th>\n",
       "      <td>Porsche</td>\n",
       "      <td>Carrera Coupe</td>\n",
       "      <td>1.280</td>\n",
       "      <td>60.625</td>\n",
       "      <td>Passenger</td>\n",
       "      <td>71.020</td>\n",
       "      <td>3.4</td>\n",
       "      <td>300.0</td>\n",
       "      <td>92.6</td>\n",
       "      <td>69.5</td>\n",
       "      <td>174.5</td>\n",
       "      <td>3.032</td>\n",
       "      <td>17.0</td>\n",
       "      <td>21.0</td>\n",
       "      <td>12/21/2012</td>\n",
       "      <td>134.390975</td>\n",
       "    </tr>\n",
       "    <tr>\n",
       "      <th>6</th>\n",
       "      <td>Audi</td>\n",
       "      <td>A8</td>\n",
       "      <td>1.380</td>\n",
       "      <td>39.000</td>\n",
       "      <td>Passenger</td>\n",
       "      <td>62.000</td>\n",
       "      <td>4.2</td>\n",
       "      <td>310.0</td>\n",
       "      <td>113.0</td>\n",
       "      <td>74.0</td>\n",
       "      <td>198.2</td>\n",
       "      <td>3.902</td>\n",
       "      <td>23.7</td>\n",
       "      <td>21.0</td>\n",
       "      <td>2/27/2012</td>\n",
       "      <td>134.656858</td>\n",
       "    </tr>\n",
       "    <tr>\n",
       "      <th>...</th>\n",
       "      <td>...</td>\n",
       "      <td>...</td>\n",
       "      <td>...</td>\n",
       "      <td>...</td>\n",
       "      <td>...</td>\n",
       "      <td>...</td>\n",
       "      <td>...</td>\n",
       "      <td>...</td>\n",
       "      <td>...</td>\n",
       "      <td>...</td>\n",
       "      <td>...</td>\n",
       "      <td>...</td>\n",
       "      <td>...</td>\n",
       "      <td>...</td>\n",
       "      <td>...</td>\n",
       "      <td>...</td>\n",
       "    </tr>\n",
       "    <tr>\n",
       "      <th>58</th>\n",
       "      <td>Honda</td>\n",
       "      <td>Accord</td>\n",
       "      <td>230.902</td>\n",
       "      <td>13.210</td>\n",
       "      <td>Passenger</td>\n",
       "      <td>15.350</td>\n",
       "      <td>2.3</td>\n",
       "      <td>135.0</td>\n",
       "      <td>106.9</td>\n",
       "      <td>70.3</td>\n",
       "      <td>188.8</td>\n",
       "      <td>2.932</td>\n",
       "      <td>17.1</td>\n",
       "      <td>27.0</td>\n",
       "      <td>5/20/2012</td>\n",
       "      <td>54.269548</td>\n",
       "    </tr>\n",
       "    <tr>\n",
       "      <th>49</th>\n",
       "      <td>Ford</td>\n",
       "      <td>Taurus</td>\n",
       "      <td>245.815</td>\n",
       "      <td>10.055</td>\n",
       "      <td>Passenger</td>\n",
       "      <td>17.885</td>\n",
       "      <td>3.0</td>\n",
       "      <td>155.0</td>\n",
       "      <td>108.5</td>\n",
       "      <td>73.0</td>\n",
       "      <td>197.6</td>\n",
       "      <td>3.368</td>\n",
       "      <td>16.0</td>\n",
       "      <td>24.0</td>\n",
       "      <td>12/20/2011</td>\n",
       "      <td>62.503740</td>\n",
       "    </tr>\n",
       "    <tr>\n",
       "      <th>137</th>\n",
       "      <td>Toyota</td>\n",
       "      <td>Camry</td>\n",
       "      <td>247.994</td>\n",
       "      <td>13.245</td>\n",
       "      <td>Passenger</td>\n",
       "      <td>17.518</td>\n",
       "      <td>2.2</td>\n",
       "      <td>133.0</td>\n",
       "      <td>105.2</td>\n",
       "      <td>70.1</td>\n",
       "      <td>188.5</td>\n",
       "      <td>2.998</td>\n",
       "      <td>18.5</td>\n",
       "      <td>27.0</td>\n",
       "      <td>2/10/2011</td>\n",
       "      <td>54.372420</td>\n",
       "    </tr>\n",
       "    <tr>\n",
       "      <th>52</th>\n",
       "      <td>Ford</td>\n",
       "      <td>Explorer</td>\n",
       "      <td>276.747</td>\n",
       "      <td>16.640</td>\n",
       "      <td>Car</td>\n",
       "      <td>31.930</td>\n",
       "      <td>4.0</td>\n",
       "      <td>210.0</td>\n",
       "      <td>111.6</td>\n",
       "      <td>70.2</td>\n",
       "      <td>190.7</td>\n",
       "      <td>3.876</td>\n",
       "      <td>21.0</td>\n",
       "      <td>19.0</td>\n",
       "      <td>4/25/2012</td>\n",
       "      <td>87.635496</td>\n",
       "    </tr>\n",
       "    <tr>\n",
       "      <th>56</th>\n",
       "      <td>Ford</td>\n",
       "      <td>F-Series</td>\n",
       "      <td>540.561</td>\n",
       "      <td>15.075</td>\n",
       "      <td>Car</td>\n",
       "      <td>26.935</td>\n",
       "      <td>4.6</td>\n",
       "      <td>220.0</td>\n",
       "      <td>138.5</td>\n",
       "      <td>79.1</td>\n",
       "      <td>224.5</td>\n",
       "      <td>4.241</td>\n",
       "      <td>25.1</td>\n",
       "      <td>18.0</td>\n",
       "      <td>8/16/2012</td>\n",
       "      <td>89.401935</td>\n",
       "    </tr>\n",
       "  </tbody>\n",
       "</table>\n",
       "<p>117 rows × 16 columns</p>\n",
       "</div>"
      ],
      "text/plain": [
       "    Manufacturer          Model  Sales_in_thousands  __year_resale_value  \\\n",
       "83    Mitsubishi         3000GT               0.110               20.940   \n",
       "39         Dodge          Viper               0.916               58.470   \n",
       "108   Oldsmobile        Cutlass               1.112               11.240   \n",
       "125      Porsche  Carrera Coupe               1.280               60.625   \n",
       "6           Audi             A8               1.380               39.000   \n",
       "..           ...            ...                 ...                  ...   \n",
       "58         Honda         Accord             230.902               13.210   \n",
       "49          Ford         Taurus             245.815               10.055   \n",
       "137       Toyota          Camry             247.994               13.245   \n",
       "52          Ford       Explorer             276.747               16.640   \n",
       "56          Ford       F-Series             540.561               15.075   \n",
       "\n",
       "    Vehicle_type  Price_in_thousands  Engine_size  Horsepower  Wheelbase  \\\n",
       "83     Passenger              25.450          3.0       161.0       97.2   \n",
       "39     Passenger              69.725          8.0       450.0       96.2   \n",
       "108    Passenger              18.145          3.1       150.0      107.0   \n",
       "125    Passenger              71.020          3.4       300.0       92.6   \n",
       "6      Passenger              62.000          4.2       310.0      113.0   \n",
       "..           ...                 ...          ...         ...        ...   \n",
       "58     Passenger              15.350          2.3       135.0      106.9   \n",
       "49     Passenger              17.885          3.0       155.0      108.5   \n",
       "137    Passenger              17.518          2.2       133.0      105.2   \n",
       "52           Car              31.930          4.0       210.0      111.6   \n",
       "56           Car              26.935          4.6       220.0      138.5   \n",
       "\n",
       "     Width  Length  Curb_weight  Fuel_capacity  Fuel_efficiency Latest_Launch  \\\n",
       "83    72.4   180.3        3.131           19.8             21.0     6/29/2012   \n",
       "39    75.7   176.7        3.375           19.0             16.0      8/7/2011   \n",
       "108   69.4   192.0        3.102           15.2             25.0     5/31/2011   \n",
       "125   69.5   174.5        3.032           17.0             21.0    12/21/2012   \n",
       "6     74.0   198.2        3.902           23.7             21.0     2/27/2012   \n",
       "..     ...     ...          ...            ...              ...           ...   \n",
       "58    70.3   188.8        2.932           17.1             27.0     5/20/2012   \n",
       "49    73.0   197.6        3.368           16.0             24.0    12/20/2011   \n",
       "137   70.1   188.5        2.998           18.5             27.0     2/10/2011   \n",
       "52    70.2   190.7        3.876           21.0             19.0     4/25/2012   \n",
       "56    79.1   224.5        4.241           25.1             18.0     8/16/2012   \n",
       "\n",
       "     Power_perf_factor  \n",
       "83           67.544155  \n",
       "39          188.144323  \n",
       "108          60.861612  \n",
       "125         134.390975  \n",
       "6           134.656858  \n",
       "..                 ...  \n",
       "58           54.269548  \n",
       "49           62.503740  \n",
       "137          54.372420  \n",
       "52           87.635496  \n",
       "56           89.401935  \n",
       "\n",
       "[117 rows x 16 columns]"
      ]
     },
     "execution_count": 30,
     "metadata": {},
     "output_type": "execute_result"
    }
   ],
   "source": [
    "data.sort_values(by=\"Sales_in_thousands\")"
   ]
  },
  {
   "cell_type": "code",
   "execution_count": null,
   "id": "04ee65e7",
   "metadata": {},
   "outputs": [],
   "source": [
    "#PIE CHART"
   ]
  },
  {
   "cell_type": "code",
   "execution_count": 31,
   "id": "ecda9b14",
   "metadata": {},
   "outputs": [
    {
     "data": {
      "application/vnd.plotly.v1+json": {
       "config": {
        "plotlyServerURL": "https://plot.ly"
       },
       "data": [
        {
         "domain": {
          "x": [
           0,
           1
          ],
          "y": [
           0,
           1
          ]
         },
         "hovertemplate": "Vehicle_type=%{label}<br>Sales_in_thousands=%{value}<extra></extra>",
         "labels": [
          "Passenger",
          "Passenger",
          "Passenger",
          "Passenger",
          "Passenger",
          "Passenger",
          "Passenger",
          "Passenger",
          "Passenger",
          "Passenger",
          "Passenger",
          "Passenger",
          "Passenger",
          "Passenger",
          "Passenger",
          "Passenger",
          "Passenger",
          "Passenger",
          "Passenger",
          "Passenger",
          "Passenger",
          "Passenger",
          "Passenger",
          "Passenger",
          "Passenger",
          "Passenger",
          "Passenger",
          "Passenger",
          "Passenger",
          "Passenger",
          "Passenger",
          "Passenger",
          "Car",
          "Car",
          "Car",
          "Car",
          "Car",
          "Passenger",
          "Passenger",
          "Passenger",
          "Passenger",
          "Passenger",
          "Car",
          "Car",
          "Car",
          "Car",
          "Car",
          "Passenger",
          "Passenger",
          "Car",
          "Car",
          "Car",
          "Passenger",
          "Passenger",
          "Passenger",
          "Passenger",
          "Car",
          "Car",
          "Car",
          "Passenger",
          "Passenger",
          "Passenger",
          "Passenger",
          "Passenger",
          "Passenger",
          "Passenger",
          "Passenger",
          "Passenger",
          "Passenger",
          "Car",
          "Car",
          "Passenger",
          "Passenger",
          "Passenger",
          "Passenger",
          "Car",
          "Car",
          "Passenger",
          "Passenger",
          "Passenger",
          "Passenger",
          "Passenger",
          "Passenger",
          "Passenger",
          "Car",
          "Car",
          "Passenger",
          "Passenger",
          "Car",
          "Car",
          "Passenger",
          "Passenger",
          "Car",
          "Passenger",
          "Passenger",
          "Passenger",
          "Passenger",
          "Passenger",
          "Passenger",
          "Passenger",
          "Passenger",
          "Passenger",
          "Passenger",
          "Passenger",
          "Passenger",
          "Passenger",
          "Passenger",
          "Passenger",
          "Car",
          "Car",
          "Car",
          "Car",
          "Passenger",
          "Passenger",
          "Passenger",
          "Passenger",
          "Passenger"
         ],
         "legendgroup": "",
         "name": "",
         "showlegend": true,
         "type": "pie",
         "values": [
          16.919,
          39.384,
          8.588,
          20.397,
          18.78,
          1.38,
          9.231,
          17.527,
          91.561,
          39.35,
          27.851,
          83.257,
          63.729,
          6.536,
          11.185,
          145.519,
          135.126,
          24.629,
          42.593,
          26.402,
          17.947,
          32.299,
          21.855,
          7.854,
          32.775,
          31.148,
          32.306,
          13.462,
          76.034,
          4.734,
          71.186,
          0.916,
          227.061,
          16.767,
          31.038,
          111.313,
          181.749,
          70.227,
          113.369,
          35.068,
          245.815,
          63.403,
          276.747,
          155.787,
          125.338,
          220.65,
          540.561,
          199.685,
          230.902,
          73.203,
          12.855,
          76.029,
          41.184,
          66.692,
          29.45,
          23.713,
          55.557,
          80.556,
          157.04,
          24.072,
          12.698,
          6.375,
          13.798,
          48.911,
          26.232,
          42.541,
          55.616,
          5.711,
          0.11,
          11.337,
          39.348,
          14.351,
          26.529,
          67.956,
          81.174,
          27.609,
          20.38,
          18.392,
          27.602,
          16.774,
          3.311,
          42.643,
          88.094,
          79.853,
          27.308,
          42.574,
          1.112,
          14.69,
          20.017,
          24.361,
          32.734,
          5.24,
          24.155,
          51.645,
          131.097,
          19.911,
          92.364,
          35.945,
          8.982,
          1.28,
          1.866,
          80.62,
          24.546,
          5.223,
          142.535,
          247.994,
          63.849,
          33.269,
          84.087,
          25.106,
          68.411,
          9.835,
          9.761,
          83.721,
          51.102,
          9.569,
          5.596
         ]
        }
       ],
       "layout": {
        "legend": {
         "tracegroupgap": 0
        },
        "margin": {
         "t": 60
        },
        "template": {
         "data": {
          "bar": [
           {
            "error_x": {
             "color": "#2a3f5f"
            },
            "error_y": {
             "color": "#2a3f5f"
            },
            "marker": {
             "line": {
              "color": "#E5ECF6",
              "width": 0.5
             },
             "pattern": {
              "fillmode": "overlay",
              "size": 10,
              "solidity": 0.2
             }
            },
            "type": "bar"
           }
          ],
          "barpolar": [
           {
            "marker": {
             "line": {
              "color": "#E5ECF6",
              "width": 0.5
             },
             "pattern": {
              "fillmode": "overlay",
              "size": 10,
              "solidity": 0.2
             }
            },
            "type": "barpolar"
           }
          ],
          "carpet": [
           {
            "aaxis": {
             "endlinecolor": "#2a3f5f",
             "gridcolor": "white",
             "linecolor": "white",
             "minorgridcolor": "white",
             "startlinecolor": "#2a3f5f"
            },
            "baxis": {
             "endlinecolor": "#2a3f5f",
             "gridcolor": "white",
             "linecolor": "white",
             "minorgridcolor": "white",
             "startlinecolor": "#2a3f5f"
            },
            "type": "carpet"
           }
          ],
          "choropleth": [
           {
            "colorbar": {
             "outlinewidth": 0,
             "ticks": ""
            },
            "type": "choropleth"
           }
          ],
          "contour": [
           {
            "colorbar": {
             "outlinewidth": 0,
             "ticks": ""
            },
            "colorscale": [
             [
              0,
              "#0d0887"
             ],
             [
              0.1111111111111111,
              "#46039f"
             ],
             [
              0.2222222222222222,
              "#7201a8"
             ],
             [
              0.3333333333333333,
              "#9c179e"
             ],
             [
              0.4444444444444444,
              "#bd3786"
             ],
             [
              0.5555555555555556,
              "#d8576b"
             ],
             [
              0.6666666666666666,
              "#ed7953"
             ],
             [
              0.7777777777777778,
              "#fb9f3a"
             ],
             [
              0.8888888888888888,
              "#fdca26"
             ],
             [
              1,
              "#f0f921"
             ]
            ],
            "type": "contour"
           }
          ],
          "contourcarpet": [
           {
            "colorbar": {
             "outlinewidth": 0,
             "ticks": ""
            },
            "type": "contourcarpet"
           }
          ],
          "heatmap": [
           {
            "colorbar": {
             "outlinewidth": 0,
             "ticks": ""
            },
            "colorscale": [
             [
              0,
              "#0d0887"
             ],
             [
              0.1111111111111111,
              "#46039f"
             ],
             [
              0.2222222222222222,
              "#7201a8"
             ],
             [
              0.3333333333333333,
              "#9c179e"
             ],
             [
              0.4444444444444444,
              "#bd3786"
             ],
             [
              0.5555555555555556,
              "#d8576b"
             ],
             [
              0.6666666666666666,
              "#ed7953"
             ],
             [
              0.7777777777777778,
              "#fb9f3a"
             ],
             [
              0.8888888888888888,
              "#fdca26"
             ],
             [
              1,
              "#f0f921"
             ]
            ],
            "type": "heatmap"
           }
          ],
          "heatmapgl": [
           {
            "colorbar": {
             "outlinewidth": 0,
             "ticks": ""
            },
            "colorscale": [
             [
              0,
              "#0d0887"
             ],
             [
              0.1111111111111111,
              "#46039f"
             ],
             [
              0.2222222222222222,
              "#7201a8"
             ],
             [
              0.3333333333333333,
              "#9c179e"
             ],
             [
              0.4444444444444444,
              "#bd3786"
             ],
             [
              0.5555555555555556,
              "#d8576b"
             ],
             [
              0.6666666666666666,
              "#ed7953"
             ],
             [
              0.7777777777777778,
              "#fb9f3a"
             ],
             [
              0.8888888888888888,
              "#fdca26"
             ],
             [
              1,
              "#f0f921"
             ]
            ],
            "type": "heatmapgl"
           }
          ],
          "histogram": [
           {
            "marker": {
             "pattern": {
              "fillmode": "overlay",
              "size": 10,
              "solidity": 0.2
             }
            },
            "type": "histogram"
           }
          ],
          "histogram2d": [
           {
            "colorbar": {
             "outlinewidth": 0,
             "ticks": ""
            },
            "colorscale": [
             [
              0,
              "#0d0887"
             ],
             [
              0.1111111111111111,
              "#46039f"
             ],
             [
              0.2222222222222222,
              "#7201a8"
             ],
             [
              0.3333333333333333,
              "#9c179e"
             ],
             [
              0.4444444444444444,
              "#bd3786"
             ],
             [
              0.5555555555555556,
              "#d8576b"
             ],
             [
              0.6666666666666666,
              "#ed7953"
             ],
             [
              0.7777777777777778,
              "#fb9f3a"
             ],
             [
              0.8888888888888888,
              "#fdca26"
             ],
             [
              1,
              "#f0f921"
             ]
            ],
            "type": "histogram2d"
           }
          ],
          "histogram2dcontour": [
           {
            "colorbar": {
             "outlinewidth": 0,
             "ticks": ""
            },
            "colorscale": [
             [
              0,
              "#0d0887"
             ],
             [
              0.1111111111111111,
              "#46039f"
             ],
             [
              0.2222222222222222,
              "#7201a8"
             ],
             [
              0.3333333333333333,
              "#9c179e"
             ],
             [
              0.4444444444444444,
              "#bd3786"
             ],
             [
              0.5555555555555556,
              "#d8576b"
             ],
             [
              0.6666666666666666,
              "#ed7953"
             ],
             [
              0.7777777777777778,
              "#fb9f3a"
             ],
             [
              0.8888888888888888,
              "#fdca26"
             ],
             [
              1,
              "#f0f921"
             ]
            ],
            "type": "histogram2dcontour"
           }
          ],
          "mesh3d": [
           {
            "colorbar": {
             "outlinewidth": 0,
             "ticks": ""
            },
            "type": "mesh3d"
           }
          ],
          "parcoords": [
           {
            "line": {
             "colorbar": {
              "outlinewidth": 0,
              "ticks": ""
             }
            },
            "type": "parcoords"
           }
          ],
          "pie": [
           {
            "automargin": true,
            "type": "pie"
           }
          ],
          "scatter": [
           {
            "fillpattern": {
             "fillmode": "overlay",
             "size": 10,
             "solidity": 0.2
            },
            "type": "scatter"
           }
          ],
          "scatter3d": [
           {
            "line": {
             "colorbar": {
              "outlinewidth": 0,
              "ticks": ""
             }
            },
            "marker": {
             "colorbar": {
              "outlinewidth": 0,
              "ticks": ""
             }
            },
            "type": "scatter3d"
           }
          ],
          "scattercarpet": [
           {
            "marker": {
             "colorbar": {
              "outlinewidth": 0,
              "ticks": ""
             }
            },
            "type": "scattercarpet"
           }
          ],
          "scattergeo": [
           {
            "marker": {
             "colorbar": {
              "outlinewidth": 0,
              "ticks": ""
             }
            },
            "type": "scattergeo"
           }
          ],
          "scattergl": [
           {
            "marker": {
             "colorbar": {
              "outlinewidth": 0,
              "ticks": ""
             }
            },
            "type": "scattergl"
           }
          ],
          "scattermapbox": [
           {
            "marker": {
             "colorbar": {
              "outlinewidth": 0,
              "ticks": ""
             }
            },
            "type": "scattermapbox"
           }
          ],
          "scatterpolar": [
           {
            "marker": {
             "colorbar": {
              "outlinewidth": 0,
              "ticks": ""
             }
            },
            "type": "scatterpolar"
           }
          ],
          "scatterpolargl": [
           {
            "marker": {
             "colorbar": {
              "outlinewidth": 0,
              "ticks": ""
             }
            },
            "type": "scatterpolargl"
           }
          ],
          "scatterternary": [
           {
            "marker": {
             "colorbar": {
              "outlinewidth": 0,
              "ticks": ""
             }
            },
            "type": "scatterternary"
           }
          ],
          "surface": [
           {
            "colorbar": {
             "outlinewidth": 0,
             "ticks": ""
            },
            "colorscale": [
             [
              0,
              "#0d0887"
             ],
             [
              0.1111111111111111,
              "#46039f"
             ],
             [
              0.2222222222222222,
              "#7201a8"
             ],
             [
              0.3333333333333333,
              "#9c179e"
             ],
             [
              0.4444444444444444,
              "#bd3786"
             ],
             [
              0.5555555555555556,
              "#d8576b"
             ],
             [
              0.6666666666666666,
              "#ed7953"
             ],
             [
              0.7777777777777778,
              "#fb9f3a"
             ],
             [
              0.8888888888888888,
              "#fdca26"
             ],
             [
              1,
              "#f0f921"
             ]
            ],
            "type": "surface"
           }
          ],
          "table": [
           {
            "cells": {
             "fill": {
              "color": "#EBF0F8"
             },
             "line": {
              "color": "white"
             }
            },
            "header": {
             "fill": {
              "color": "#C8D4E3"
             },
             "line": {
              "color": "white"
             }
            },
            "type": "table"
           }
          ]
         },
         "layout": {
          "annotationdefaults": {
           "arrowcolor": "#2a3f5f",
           "arrowhead": 0,
           "arrowwidth": 1
          },
          "autotypenumbers": "strict",
          "coloraxis": {
           "colorbar": {
            "outlinewidth": 0,
            "ticks": ""
           }
          },
          "colorscale": {
           "diverging": [
            [
             0,
             "#8e0152"
            ],
            [
             0.1,
             "#c51b7d"
            ],
            [
             0.2,
             "#de77ae"
            ],
            [
             0.3,
             "#f1b6da"
            ],
            [
             0.4,
             "#fde0ef"
            ],
            [
             0.5,
             "#f7f7f7"
            ],
            [
             0.6,
             "#e6f5d0"
            ],
            [
             0.7,
             "#b8e186"
            ],
            [
             0.8,
             "#7fbc41"
            ],
            [
             0.9,
             "#4d9221"
            ],
            [
             1,
             "#276419"
            ]
           ],
           "sequential": [
            [
             0,
             "#0d0887"
            ],
            [
             0.1111111111111111,
             "#46039f"
            ],
            [
             0.2222222222222222,
             "#7201a8"
            ],
            [
             0.3333333333333333,
             "#9c179e"
            ],
            [
             0.4444444444444444,
             "#bd3786"
            ],
            [
             0.5555555555555556,
             "#d8576b"
            ],
            [
             0.6666666666666666,
             "#ed7953"
            ],
            [
             0.7777777777777778,
             "#fb9f3a"
            ],
            [
             0.8888888888888888,
             "#fdca26"
            ],
            [
             1,
             "#f0f921"
            ]
           ],
           "sequentialminus": [
            [
             0,
             "#0d0887"
            ],
            [
             0.1111111111111111,
             "#46039f"
            ],
            [
             0.2222222222222222,
             "#7201a8"
            ],
            [
             0.3333333333333333,
             "#9c179e"
            ],
            [
             0.4444444444444444,
             "#bd3786"
            ],
            [
             0.5555555555555556,
             "#d8576b"
            ],
            [
             0.6666666666666666,
             "#ed7953"
            ],
            [
             0.7777777777777778,
             "#fb9f3a"
            ],
            [
             0.8888888888888888,
             "#fdca26"
            ],
            [
             1,
             "#f0f921"
            ]
           ]
          },
          "colorway": [
           "#636efa",
           "#EF553B",
           "#00cc96",
           "#ab63fa",
           "#FFA15A",
           "#19d3f3",
           "#FF6692",
           "#B6E880",
           "#FF97FF",
           "#FECB52"
          ],
          "font": {
           "color": "#2a3f5f"
          },
          "geo": {
           "bgcolor": "white",
           "lakecolor": "white",
           "landcolor": "#E5ECF6",
           "showlakes": true,
           "showland": true,
           "subunitcolor": "white"
          },
          "hoverlabel": {
           "align": "left"
          },
          "hovermode": "closest",
          "mapbox": {
           "style": "light"
          },
          "paper_bgcolor": "white",
          "plot_bgcolor": "#E5ECF6",
          "polar": {
           "angularaxis": {
            "gridcolor": "white",
            "linecolor": "white",
            "ticks": ""
           },
           "bgcolor": "#E5ECF6",
           "radialaxis": {
            "gridcolor": "white",
            "linecolor": "white",
            "ticks": ""
           }
          },
          "scene": {
           "xaxis": {
            "backgroundcolor": "#E5ECF6",
            "gridcolor": "white",
            "gridwidth": 2,
            "linecolor": "white",
            "showbackground": true,
            "ticks": "",
            "zerolinecolor": "white"
           },
           "yaxis": {
            "backgroundcolor": "#E5ECF6",
            "gridcolor": "white",
            "gridwidth": 2,
            "linecolor": "white",
            "showbackground": true,
            "ticks": "",
            "zerolinecolor": "white"
           },
           "zaxis": {
            "backgroundcolor": "#E5ECF6",
            "gridcolor": "white",
            "gridwidth": 2,
            "linecolor": "white",
            "showbackground": true,
            "ticks": "",
            "zerolinecolor": "white"
           }
          },
          "shapedefaults": {
           "line": {
            "color": "#2a3f5f"
           }
          },
          "ternary": {
           "aaxis": {
            "gridcolor": "white",
            "linecolor": "white",
            "ticks": ""
           },
           "baxis": {
            "gridcolor": "white",
            "linecolor": "white",
            "ticks": ""
           },
           "bgcolor": "#E5ECF6",
           "caxis": {
            "gridcolor": "white",
            "linecolor": "white",
            "ticks": ""
           }
          },
          "title": {
           "x": 0.05
          },
          "xaxis": {
           "automargin": true,
           "gridcolor": "white",
           "linecolor": "white",
           "ticks": "",
           "title": {
            "standoff": 15
           },
           "zerolinecolor": "white",
           "zerolinewidth": 2
          },
          "yaxis": {
           "automargin": true,
           "gridcolor": "white",
           "linecolor": "white",
           "ticks": "",
           "title": {
            "standoff": 15
           },
           "zerolinecolor": "white",
           "zerolinewidth": 2
          }
         }
        }
       }
      },
      "text/html": [
       "<div>                            <div id=\"4e1c58f7-e4c3-48a7-b66c-a0d8b6dcbfb8\" class=\"plotly-graph-div\" style=\"height:525px; width:100%;\"></div>            <script type=\"text/javascript\">                require([\"plotly\"], function(Plotly) {                    window.PLOTLYENV=window.PLOTLYENV || {};                                    if (document.getElementById(\"4e1c58f7-e4c3-48a7-b66c-a0d8b6dcbfb8\")) {                    Plotly.newPlot(                        \"4e1c58f7-e4c3-48a7-b66c-a0d8b6dcbfb8\",                        [{\"domain\":{\"x\":[0.0,1.0],\"y\":[0.0,1.0]},\"hovertemplate\":\"Vehicle_type=%{label}<br>Sales_in_thousands=%{value}<extra></extra>\",\"labels\":[\"Passenger\",\"Passenger\",\"Passenger\",\"Passenger\",\"Passenger\",\"Passenger\",\"Passenger\",\"Passenger\",\"Passenger\",\"Passenger\",\"Passenger\",\"Passenger\",\"Passenger\",\"Passenger\",\"Passenger\",\"Passenger\",\"Passenger\",\"Passenger\",\"Passenger\",\"Passenger\",\"Passenger\",\"Passenger\",\"Passenger\",\"Passenger\",\"Passenger\",\"Passenger\",\"Passenger\",\"Passenger\",\"Passenger\",\"Passenger\",\"Passenger\",\"Passenger\",\"Car\",\"Car\",\"Car\",\"Car\",\"Car\",\"Passenger\",\"Passenger\",\"Passenger\",\"Passenger\",\"Passenger\",\"Car\",\"Car\",\"Car\",\"Car\",\"Car\",\"Passenger\",\"Passenger\",\"Car\",\"Car\",\"Car\",\"Passenger\",\"Passenger\",\"Passenger\",\"Passenger\",\"Car\",\"Car\",\"Car\",\"Passenger\",\"Passenger\",\"Passenger\",\"Passenger\",\"Passenger\",\"Passenger\",\"Passenger\",\"Passenger\",\"Passenger\",\"Passenger\",\"Car\",\"Car\",\"Passenger\",\"Passenger\",\"Passenger\",\"Passenger\",\"Car\",\"Car\",\"Passenger\",\"Passenger\",\"Passenger\",\"Passenger\",\"Passenger\",\"Passenger\",\"Passenger\",\"Car\",\"Car\",\"Passenger\",\"Passenger\",\"Car\",\"Car\",\"Passenger\",\"Passenger\",\"Car\",\"Passenger\",\"Passenger\",\"Passenger\",\"Passenger\",\"Passenger\",\"Passenger\",\"Passenger\",\"Passenger\",\"Passenger\",\"Passenger\",\"Passenger\",\"Passenger\",\"Passenger\",\"Passenger\",\"Passenger\",\"Car\",\"Car\",\"Car\",\"Car\",\"Passenger\",\"Passenger\",\"Passenger\",\"Passenger\",\"Passenger\"],\"legendgroup\":\"\",\"name\":\"\",\"showlegend\":true,\"values\":[16.919,39.384,8.588,20.397,18.78,1.38,9.231,17.527,91.561,39.35,27.851,83.257,63.729,6.536,11.185,145.519,135.126,24.629,42.593,26.402,17.947,32.299,21.855,7.854,32.775,31.148,32.306,13.462,76.034,4.734,71.186,0.916,227.061,16.767,31.038,111.313,181.749,70.227,113.369,35.068,245.815,63.403,276.747,155.787,125.338,220.65,540.561,199.685,230.902,73.203,12.855,76.029,41.184,66.692,29.45,23.713,55.557,80.556,157.04,24.072,12.698,6.375,13.798,48.911,26.232,42.541,55.616,5.711,0.11,11.337,39.348,14.351,26.529,67.956,81.174,27.609,20.38,18.392,27.602,16.774,3.311,42.643,88.094,79.853,27.308,42.574,1.112,14.69,20.017,24.361,32.734,5.24,24.155,51.645,131.097,19.911,92.364,35.945,8.982,1.28,1.866,80.62,24.546,5.223,142.535,247.994,63.849,33.269,84.087,25.106,68.411,9.835,9.761,83.721,51.102,9.569,5.596],\"type\":\"pie\"}],                        {\"template\":{\"data\":{\"histogram2dcontour\":[{\"type\":\"histogram2dcontour\",\"colorbar\":{\"outlinewidth\":0,\"ticks\":\"\"},\"colorscale\":[[0.0,\"#0d0887\"],[0.1111111111111111,\"#46039f\"],[0.2222222222222222,\"#7201a8\"],[0.3333333333333333,\"#9c179e\"],[0.4444444444444444,\"#bd3786\"],[0.5555555555555556,\"#d8576b\"],[0.6666666666666666,\"#ed7953\"],[0.7777777777777778,\"#fb9f3a\"],[0.8888888888888888,\"#fdca26\"],[1.0,\"#f0f921\"]]}],\"choropleth\":[{\"type\":\"choropleth\",\"colorbar\":{\"outlinewidth\":0,\"ticks\":\"\"}}],\"histogram2d\":[{\"type\":\"histogram2d\",\"colorbar\":{\"outlinewidth\":0,\"ticks\":\"\"},\"colorscale\":[[0.0,\"#0d0887\"],[0.1111111111111111,\"#46039f\"],[0.2222222222222222,\"#7201a8\"],[0.3333333333333333,\"#9c179e\"],[0.4444444444444444,\"#bd3786\"],[0.5555555555555556,\"#d8576b\"],[0.6666666666666666,\"#ed7953\"],[0.7777777777777778,\"#fb9f3a\"],[0.8888888888888888,\"#fdca26\"],[1.0,\"#f0f921\"]]}],\"heatmap\":[{\"type\":\"heatmap\",\"colorbar\":{\"outlinewidth\":0,\"ticks\":\"\"},\"colorscale\":[[0.0,\"#0d0887\"],[0.1111111111111111,\"#46039f\"],[0.2222222222222222,\"#7201a8\"],[0.3333333333333333,\"#9c179e\"],[0.4444444444444444,\"#bd3786\"],[0.5555555555555556,\"#d8576b\"],[0.6666666666666666,\"#ed7953\"],[0.7777777777777778,\"#fb9f3a\"],[0.8888888888888888,\"#fdca26\"],[1.0,\"#f0f921\"]]}],\"heatmapgl\":[{\"type\":\"heatmapgl\",\"colorbar\":{\"outlinewidth\":0,\"ticks\":\"\"},\"colorscale\":[[0.0,\"#0d0887\"],[0.1111111111111111,\"#46039f\"],[0.2222222222222222,\"#7201a8\"],[0.3333333333333333,\"#9c179e\"],[0.4444444444444444,\"#bd3786\"],[0.5555555555555556,\"#d8576b\"],[0.6666666666666666,\"#ed7953\"],[0.7777777777777778,\"#fb9f3a\"],[0.8888888888888888,\"#fdca26\"],[1.0,\"#f0f921\"]]}],\"contourcarpet\":[{\"type\":\"contourcarpet\",\"colorbar\":{\"outlinewidth\":0,\"ticks\":\"\"}}],\"contour\":[{\"type\":\"contour\",\"colorbar\":{\"outlinewidth\":0,\"ticks\":\"\"},\"colorscale\":[[0.0,\"#0d0887\"],[0.1111111111111111,\"#46039f\"],[0.2222222222222222,\"#7201a8\"],[0.3333333333333333,\"#9c179e\"],[0.4444444444444444,\"#bd3786\"],[0.5555555555555556,\"#d8576b\"],[0.6666666666666666,\"#ed7953\"],[0.7777777777777778,\"#fb9f3a\"],[0.8888888888888888,\"#fdca26\"],[1.0,\"#f0f921\"]]}],\"surface\":[{\"type\":\"surface\",\"colorbar\":{\"outlinewidth\":0,\"ticks\":\"\"},\"colorscale\":[[0.0,\"#0d0887\"],[0.1111111111111111,\"#46039f\"],[0.2222222222222222,\"#7201a8\"],[0.3333333333333333,\"#9c179e\"],[0.4444444444444444,\"#bd3786\"],[0.5555555555555556,\"#d8576b\"],[0.6666666666666666,\"#ed7953\"],[0.7777777777777778,\"#fb9f3a\"],[0.8888888888888888,\"#fdca26\"],[1.0,\"#f0f921\"]]}],\"mesh3d\":[{\"type\":\"mesh3d\",\"colorbar\":{\"outlinewidth\":0,\"ticks\":\"\"}}],\"scatter\":[{\"fillpattern\":{\"fillmode\":\"overlay\",\"size\":10,\"solidity\":0.2},\"type\":\"scatter\"}],\"parcoords\":[{\"type\":\"parcoords\",\"line\":{\"colorbar\":{\"outlinewidth\":0,\"ticks\":\"\"}}}],\"scatterpolargl\":[{\"type\":\"scatterpolargl\",\"marker\":{\"colorbar\":{\"outlinewidth\":0,\"ticks\":\"\"}}}],\"bar\":[{\"error_x\":{\"color\":\"#2a3f5f\"},\"error_y\":{\"color\":\"#2a3f5f\"},\"marker\":{\"line\":{\"color\":\"#E5ECF6\",\"width\":0.5},\"pattern\":{\"fillmode\":\"overlay\",\"size\":10,\"solidity\":0.2}},\"type\":\"bar\"}],\"scattergeo\":[{\"type\":\"scattergeo\",\"marker\":{\"colorbar\":{\"outlinewidth\":0,\"ticks\":\"\"}}}],\"scatterpolar\":[{\"type\":\"scatterpolar\",\"marker\":{\"colorbar\":{\"outlinewidth\":0,\"ticks\":\"\"}}}],\"histogram\":[{\"marker\":{\"pattern\":{\"fillmode\":\"overlay\",\"size\":10,\"solidity\":0.2}},\"type\":\"histogram\"}],\"scattergl\":[{\"type\":\"scattergl\",\"marker\":{\"colorbar\":{\"outlinewidth\":0,\"ticks\":\"\"}}}],\"scatter3d\":[{\"type\":\"scatter3d\",\"line\":{\"colorbar\":{\"outlinewidth\":0,\"ticks\":\"\"}},\"marker\":{\"colorbar\":{\"outlinewidth\":0,\"ticks\":\"\"}}}],\"scattermapbox\":[{\"type\":\"scattermapbox\",\"marker\":{\"colorbar\":{\"outlinewidth\":0,\"ticks\":\"\"}}}],\"scatterternary\":[{\"type\":\"scatterternary\",\"marker\":{\"colorbar\":{\"outlinewidth\":0,\"ticks\":\"\"}}}],\"scattercarpet\":[{\"type\":\"scattercarpet\",\"marker\":{\"colorbar\":{\"outlinewidth\":0,\"ticks\":\"\"}}}],\"carpet\":[{\"aaxis\":{\"endlinecolor\":\"#2a3f5f\",\"gridcolor\":\"white\",\"linecolor\":\"white\",\"minorgridcolor\":\"white\",\"startlinecolor\":\"#2a3f5f\"},\"baxis\":{\"endlinecolor\":\"#2a3f5f\",\"gridcolor\":\"white\",\"linecolor\":\"white\",\"minorgridcolor\":\"white\",\"startlinecolor\":\"#2a3f5f\"},\"type\":\"carpet\"}],\"table\":[{\"cells\":{\"fill\":{\"color\":\"#EBF0F8\"},\"line\":{\"color\":\"white\"}},\"header\":{\"fill\":{\"color\":\"#C8D4E3\"},\"line\":{\"color\":\"white\"}},\"type\":\"table\"}],\"barpolar\":[{\"marker\":{\"line\":{\"color\":\"#E5ECF6\",\"width\":0.5},\"pattern\":{\"fillmode\":\"overlay\",\"size\":10,\"solidity\":0.2}},\"type\":\"barpolar\"}],\"pie\":[{\"automargin\":true,\"type\":\"pie\"}]},\"layout\":{\"autotypenumbers\":\"strict\",\"colorway\":[\"#636efa\",\"#EF553B\",\"#00cc96\",\"#ab63fa\",\"#FFA15A\",\"#19d3f3\",\"#FF6692\",\"#B6E880\",\"#FF97FF\",\"#FECB52\"],\"font\":{\"color\":\"#2a3f5f\"},\"hovermode\":\"closest\",\"hoverlabel\":{\"align\":\"left\"},\"paper_bgcolor\":\"white\",\"plot_bgcolor\":\"#E5ECF6\",\"polar\":{\"bgcolor\":\"#E5ECF6\",\"angularaxis\":{\"gridcolor\":\"white\",\"linecolor\":\"white\",\"ticks\":\"\"},\"radialaxis\":{\"gridcolor\":\"white\",\"linecolor\":\"white\",\"ticks\":\"\"}},\"ternary\":{\"bgcolor\":\"#E5ECF6\",\"aaxis\":{\"gridcolor\":\"white\",\"linecolor\":\"white\",\"ticks\":\"\"},\"baxis\":{\"gridcolor\":\"white\",\"linecolor\":\"white\",\"ticks\":\"\"},\"caxis\":{\"gridcolor\":\"white\",\"linecolor\":\"white\",\"ticks\":\"\"}},\"coloraxis\":{\"colorbar\":{\"outlinewidth\":0,\"ticks\":\"\"}},\"colorscale\":{\"sequential\":[[0.0,\"#0d0887\"],[0.1111111111111111,\"#46039f\"],[0.2222222222222222,\"#7201a8\"],[0.3333333333333333,\"#9c179e\"],[0.4444444444444444,\"#bd3786\"],[0.5555555555555556,\"#d8576b\"],[0.6666666666666666,\"#ed7953\"],[0.7777777777777778,\"#fb9f3a\"],[0.8888888888888888,\"#fdca26\"],[1.0,\"#f0f921\"]],\"sequentialminus\":[[0.0,\"#0d0887\"],[0.1111111111111111,\"#46039f\"],[0.2222222222222222,\"#7201a8\"],[0.3333333333333333,\"#9c179e\"],[0.4444444444444444,\"#bd3786\"],[0.5555555555555556,\"#d8576b\"],[0.6666666666666666,\"#ed7953\"],[0.7777777777777778,\"#fb9f3a\"],[0.8888888888888888,\"#fdca26\"],[1.0,\"#f0f921\"]],\"diverging\":[[0,\"#8e0152\"],[0.1,\"#c51b7d\"],[0.2,\"#de77ae\"],[0.3,\"#f1b6da\"],[0.4,\"#fde0ef\"],[0.5,\"#f7f7f7\"],[0.6,\"#e6f5d0\"],[0.7,\"#b8e186\"],[0.8,\"#7fbc41\"],[0.9,\"#4d9221\"],[1,\"#276419\"]]},\"xaxis\":{\"gridcolor\":\"white\",\"linecolor\":\"white\",\"ticks\":\"\",\"title\":{\"standoff\":15},\"zerolinecolor\":\"white\",\"automargin\":true,\"zerolinewidth\":2},\"yaxis\":{\"gridcolor\":\"white\",\"linecolor\":\"white\",\"ticks\":\"\",\"title\":{\"standoff\":15},\"zerolinecolor\":\"white\",\"automargin\":true,\"zerolinewidth\":2},\"scene\":{\"xaxis\":{\"backgroundcolor\":\"#E5ECF6\",\"gridcolor\":\"white\",\"linecolor\":\"white\",\"showbackground\":true,\"ticks\":\"\",\"zerolinecolor\":\"white\",\"gridwidth\":2},\"yaxis\":{\"backgroundcolor\":\"#E5ECF6\",\"gridcolor\":\"white\",\"linecolor\":\"white\",\"showbackground\":true,\"ticks\":\"\",\"zerolinecolor\":\"white\",\"gridwidth\":2},\"zaxis\":{\"backgroundcolor\":\"#E5ECF6\",\"gridcolor\":\"white\",\"linecolor\":\"white\",\"showbackground\":true,\"ticks\":\"\",\"zerolinecolor\":\"white\",\"gridwidth\":2}},\"shapedefaults\":{\"line\":{\"color\":\"#2a3f5f\"}},\"annotationdefaults\":{\"arrowcolor\":\"#2a3f5f\",\"arrowhead\":0,\"arrowwidth\":1},\"geo\":{\"bgcolor\":\"white\",\"landcolor\":\"#E5ECF6\",\"subunitcolor\":\"white\",\"showland\":true,\"showlakes\":true,\"lakecolor\":\"white\"},\"title\":{\"x\":0.05},\"mapbox\":{\"style\":\"light\"}}},\"legend\":{\"tracegroupgap\":0},\"margin\":{\"t\":60}},                        {\"responsive\": true}                    ).then(function(){\n",
       "                            \n",
       "var gd = document.getElementById('4e1c58f7-e4c3-48a7-b66c-a0d8b6dcbfb8');\n",
       "var x = new MutationObserver(function (mutations, observer) {{\n",
       "        var display = window.getComputedStyle(gd).display;\n",
       "        if (!display || display === 'none') {{\n",
       "            console.log([gd, 'removed!']);\n",
       "            Plotly.purge(gd);\n",
       "            observer.disconnect();\n",
       "        }}\n",
       "}});\n",
       "\n",
       "// Listen for the removal of the full notebook cells\n",
       "var notebookContainer = gd.closest('#notebook-container');\n",
       "if (notebookContainer) {{\n",
       "    x.observe(notebookContainer, {childList: true});\n",
       "}}\n",
       "\n",
       "// Listen for the clearing of the current output cell\n",
       "var outputEl = gd.closest('.output');\n",
       "if (outputEl) {{\n",
       "    x.observe(outputEl, {childList: true});\n",
       "}}\n",
       "\n",
       "                        })                };                });            </script>        </div>"
      ]
     },
     "metadata": {},
     "output_type": "display_data"
    }
   ],
   "source": [
    "px.pie(data_frame=data, names=\"Vehicle_type\", values=\"Sales_in_thousands\")"
   ]
  },
  {
   "cell_type": "code",
   "execution_count": 32,
   "id": "621e2093",
   "metadata": {},
   "outputs": [],
   "source": [
    "#BAR CHART"
   ]
  },
  {
   "cell_type": "code",
   "execution_count": 33,
   "id": "8cd9a844",
   "metadata": {},
   "outputs": [
    {
     "data": {
      "application/vnd.plotly.v1+json": {
       "config": {
        "plotlyServerURL": "https://plot.ly"
       },
       "data": [
        {
         "alignmentgroup": "True",
         "hovertemplate": "Vehicle_type=Passenger<br>Manufacturer=%{x}<br>Sales_in_thousands=%{y}<extra></extra>",
         "legendgroup": "Passenger",
         "marker": {
          "color": "#636efa",
          "pattern": {
           "shape": ""
          }
         },
         "name": "Passenger",
         "offsetgroup": "Passenger",
         "orientation": "v",
         "showlegend": true,
         "textposition": "auto",
         "type": "bar",
         "x": [
          "Acura",
          "Acura",
          "Acura",
          "Audi",
          "Audi",
          "Audi",
          "Volkswagen",
          "Volkswagen",
          "Volkswagen",
          "Volkswagen",
          "Volkswagen"
         ],
         "xaxis": "x",
         "y": [
          16.919,
          39.384,
          8.588,
          20.397,
          18.78,
          1.38,
          9.761,
          83.721,
          51.102,
          9.569,
          5.596
         ],
         "yaxis": "y"
        }
       ],
       "layout": {
        "barmode": "relative",
        "legend": {
         "title": {
          "text": "Vehicle_type"
         },
         "tracegroupgap": 0
        },
        "margin": {
         "t": 60
        },
        "template": {
         "data": {
          "bar": [
           {
            "error_x": {
             "color": "#2a3f5f"
            },
            "error_y": {
             "color": "#2a3f5f"
            },
            "marker": {
             "line": {
              "color": "#E5ECF6",
              "width": 0.5
             },
             "pattern": {
              "fillmode": "overlay",
              "size": 10,
              "solidity": 0.2
             }
            },
            "type": "bar"
           }
          ],
          "barpolar": [
           {
            "marker": {
             "line": {
              "color": "#E5ECF6",
              "width": 0.5
             },
             "pattern": {
              "fillmode": "overlay",
              "size": 10,
              "solidity": 0.2
             }
            },
            "type": "barpolar"
           }
          ],
          "carpet": [
           {
            "aaxis": {
             "endlinecolor": "#2a3f5f",
             "gridcolor": "white",
             "linecolor": "white",
             "minorgridcolor": "white",
             "startlinecolor": "#2a3f5f"
            },
            "baxis": {
             "endlinecolor": "#2a3f5f",
             "gridcolor": "white",
             "linecolor": "white",
             "minorgridcolor": "white",
             "startlinecolor": "#2a3f5f"
            },
            "type": "carpet"
           }
          ],
          "choropleth": [
           {
            "colorbar": {
             "outlinewidth": 0,
             "ticks": ""
            },
            "type": "choropleth"
           }
          ],
          "contour": [
           {
            "colorbar": {
             "outlinewidth": 0,
             "ticks": ""
            },
            "colorscale": [
             [
              0,
              "#0d0887"
             ],
             [
              0.1111111111111111,
              "#46039f"
             ],
             [
              0.2222222222222222,
              "#7201a8"
             ],
             [
              0.3333333333333333,
              "#9c179e"
             ],
             [
              0.4444444444444444,
              "#bd3786"
             ],
             [
              0.5555555555555556,
              "#d8576b"
             ],
             [
              0.6666666666666666,
              "#ed7953"
             ],
             [
              0.7777777777777778,
              "#fb9f3a"
             ],
             [
              0.8888888888888888,
              "#fdca26"
             ],
             [
              1,
              "#f0f921"
             ]
            ],
            "type": "contour"
           }
          ],
          "contourcarpet": [
           {
            "colorbar": {
             "outlinewidth": 0,
             "ticks": ""
            },
            "type": "contourcarpet"
           }
          ],
          "heatmap": [
           {
            "colorbar": {
             "outlinewidth": 0,
             "ticks": ""
            },
            "colorscale": [
             [
              0,
              "#0d0887"
             ],
             [
              0.1111111111111111,
              "#46039f"
             ],
             [
              0.2222222222222222,
              "#7201a8"
             ],
             [
              0.3333333333333333,
              "#9c179e"
             ],
             [
              0.4444444444444444,
              "#bd3786"
             ],
             [
              0.5555555555555556,
              "#d8576b"
             ],
             [
              0.6666666666666666,
              "#ed7953"
             ],
             [
              0.7777777777777778,
              "#fb9f3a"
             ],
             [
              0.8888888888888888,
              "#fdca26"
             ],
             [
              1,
              "#f0f921"
             ]
            ],
            "type": "heatmap"
           }
          ],
          "heatmapgl": [
           {
            "colorbar": {
             "outlinewidth": 0,
             "ticks": ""
            },
            "colorscale": [
             [
              0,
              "#0d0887"
             ],
             [
              0.1111111111111111,
              "#46039f"
             ],
             [
              0.2222222222222222,
              "#7201a8"
             ],
             [
              0.3333333333333333,
              "#9c179e"
             ],
             [
              0.4444444444444444,
              "#bd3786"
             ],
             [
              0.5555555555555556,
              "#d8576b"
             ],
             [
              0.6666666666666666,
              "#ed7953"
             ],
             [
              0.7777777777777778,
              "#fb9f3a"
             ],
             [
              0.8888888888888888,
              "#fdca26"
             ],
             [
              1,
              "#f0f921"
             ]
            ],
            "type": "heatmapgl"
           }
          ],
          "histogram": [
           {
            "marker": {
             "pattern": {
              "fillmode": "overlay",
              "size": 10,
              "solidity": 0.2
             }
            },
            "type": "histogram"
           }
          ],
          "histogram2d": [
           {
            "colorbar": {
             "outlinewidth": 0,
             "ticks": ""
            },
            "colorscale": [
             [
              0,
              "#0d0887"
             ],
             [
              0.1111111111111111,
              "#46039f"
             ],
             [
              0.2222222222222222,
              "#7201a8"
             ],
             [
              0.3333333333333333,
              "#9c179e"
             ],
             [
              0.4444444444444444,
              "#bd3786"
             ],
             [
              0.5555555555555556,
              "#d8576b"
             ],
             [
              0.6666666666666666,
              "#ed7953"
             ],
             [
              0.7777777777777778,
              "#fb9f3a"
             ],
             [
              0.8888888888888888,
              "#fdca26"
             ],
             [
              1,
              "#f0f921"
             ]
            ],
            "type": "histogram2d"
           }
          ],
          "histogram2dcontour": [
           {
            "colorbar": {
             "outlinewidth": 0,
             "ticks": ""
            },
            "colorscale": [
             [
              0,
              "#0d0887"
             ],
             [
              0.1111111111111111,
              "#46039f"
             ],
             [
              0.2222222222222222,
              "#7201a8"
             ],
             [
              0.3333333333333333,
              "#9c179e"
             ],
             [
              0.4444444444444444,
              "#bd3786"
             ],
             [
              0.5555555555555556,
              "#d8576b"
             ],
             [
              0.6666666666666666,
              "#ed7953"
             ],
             [
              0.7777777777777778,
              "#fb9f3a"
             ],
             [
              0.8888888888888888,
              "#fdca26"
             ],
             [
              1,
              "#f0f921"
             ]
            ],
            "type": "histogram2dcontour"
           }
          ],
          "mesh3d": [
           {
            "colorbar": {
             "outlinewidth": 0,
             "ticks": ""
            },
            "type": "mesh3d"
           }
          ],
          "parcoords": [
           {
            "line": {
             "colorbar": {
              "outlinewidth": 0,
              "ticks": ""
             }
            },
            "type": "parcoords"
           }
          ],
          "pie": [
           {
            "automargin": true,
            "type": "pie"
           }
          ],
          "scatter": [
           {
            "fillpattern": {
             "fillmode": "overlay",
             "size": 10,
             "solidity": 0.2
            },
            "type": "scatter"
           }
          ],
          "scatter3d": [
           {
            "line": {
             "colorbar": {
              "outlinewidth": 0,
              "ticks": ""
             }
            },
            "marker": {
             "colorbar": {
              "outlinewidth": 0,
              "ticks": ""
             }
            },
            "type": "scatter3d"
           }
          ],
          "scattercarpet": [
           {
            "marker": {
             "colorbar": {
              "outlinewidth": 0,
              "ticks": ""
             }
            },
            "type": "scattercarpet"
           }
          ],
          "scattergeo": [
           {
            "marker": {
             "colorbar": {
              "outlinewidth": 0,
              "ticks": ""
             }
            },
            "type": "scattergeo"
           }
          ],
          "scattergl": [
           {
            "marker": {
             "colorbar": {
              "outlinewidth": 0,
              "ticks": ""
             }
            },
            "type": "scattergl"
           }
          ],
          "scattermapbox": [
           {
            "marker": {
             "colorbar": {
              "outlinewidth": 0,
              "ticks": ""
             }
            },
            "type": "scattermapbox"
           }
          ],
          "scatterpolar": [
           {
            "marker": {
             "colorbar": {
              "outlinewidth": 0,
              "ticks": ""
             }
            },
            "type": "scatterpolar"
           }
          ],
          "scatterpolargl": [
           {
            "marker": {
             "colorbar": {
              "outlinewidth": 0,
              "ticks": ""
             }
            },
            "type": "scatterpolargl"
           }
          ],
          "scatterternary": [
           {
            "marker": {
             "colorbar": {
              "outlinewidth": 0,
              "ticks": ""
             }
            },
            "type": "scatterternary"
           }
          ],
          "surface": [
           {
            "colorbar": {
             "outlinewidth": 0,
             "ticks": ""
            },
            "colorscale": [
             [
              0,
              "#0d0887"
             ],
             [
              0.1111111111111111,
              "#46039f"
             ],
             [
              0.2222222222222222,
              "#7201a8"
             ],
             [
              0.3333333333333333,
              "#9c179e"
             ],
             [
              0.4444444444444444,
              "#bd3786"
             ],
             [
              0.5555555555555556,
              "#d8576b"
             ],
             [
              0.6666666666666666,
              "#ed7953"
             ],
             [
              0.7777777777777778,
              "#fb9f3a"
             ],
             [
              0.8888888888888888,
              "#fdca26"
             ],
             [
              1,
              "#f0f921"
             ]
            ],
            "type": "surface"
           }
          ],
          "table": [
           {
            "cells": {
             "fill": {
              "color": "#EBF0F8"
             },
             "line": {
              "color": "white"
             }
            },
            "header": {
             "fill": {
              "color": "#C8D4E3"
             },
             "line": {
              "color": "white"
             }
            },
            "type": "table"
           }
          ]
         },
         "layout": {
          "annotationdefaults": {
           "arrowcolor": "#2a3f5f",
           "arrowhead": 0,
           "arrowwidth": 1
          },
          "autotypenumbers": "strict",
          "coloraxis": {
           "colorbar": {
            "outlinewidth": 0,
            "ticks": ""
           }
          },
          "colorscale": {
           "diverging": [
            [
             0,
             "#8e0152"
            ],
            [
             0.1,
             "#c51b7d"
            ],
            [
             0.2,
             "#de77ae"
            ],
            [
             0.3,
             "#f1b6da"
            ],
            [
             0.4,
             "#fde0ef"
            ],
            [
             0.5,
             "#f7f7f7"
            ],
            [
             0.6,
             "#e6f5d0"
            ],
            [
             0.7,
             "#b8e186"
            ],
            [
             0.8,
             "#7fbc41"
            ],
            [
             0.9,
             "#4d9221"
            ],
            [
             1,
             "#276419"
            ]
           ],
           "sequential": [
            [
             0,
             "#0d0887"
            ],
            [
             0.1111111111111111,
             "#46039f"
            ],
            [
             0.2222222222222222,
             "#7201a8"
            ],
            [
             0.3333333333333333,
             "#9c179e"
            ],
            [
             0.4444444444444444,
             "#bd3786"
            ],
            [
             0.5555555555555556,
             "#d8576b"
            ],
            [
             0.6666666666666666,
             "#ed7953"
            ],
            [
             0.7777777777777778,
             "#fb9f3a"
            ],
            [
             0.8888888888888888,
             "#fdca26"
            ],
            [
             1,
             "#f0f921"
            ]
           ],
           "sequentialminus": [
            [
             0,
             "#0d0887"
            ],
            [
             0.1111111111111111,
             "#46039f"
            ],
            [
             0.2222222222222222,
             "#7201a8"
            ],
            [
             0.3333333333333333,
             "#9c179e"
            ],
            [
             0.4444444444444444,
             "#bd3786"
            ],
            [
             0.5555555555555556,
             "#d8576b"
            ],
            [
             0.6666666666666666,
             "#ed7953"
            ],
            [
             0.7777777777777778,
             "#fb9f3a"
            ],
            [
             0.8888888888888888,
             "#fdca26"
            ],
            [
             1,
             "#f0f921"
            ]
           ]
          },
          "colorway": [
           "#636efa",
           "#EF553B",
           "#00cc96",
           "#ab63fa",
           "#FFA15A",
           "#19d3f3",
           "#FF6692",
           "#B6E880",
           "#FF97FF",
           "#FECB52"
          ],
          "font": {
           "color": "#2a3f5f"
          },
          "geo": {
           "bgcolor": "white",
           "lakecolor": "white",
           "landcolor": "#E5ECF6",
           "showlakes": true,
           "showland": true,
           "subunitcolor": "white"
          },
          "hoverlabel": {
           "align": "left"
          },
          "hovermode": "closest",
          "mapbox": {
           "style": "light"
          },
          "paper_bgcolor": "white",
          "plot_bgcolor": "#E5ECF6",
          "polar": {
           "angularaxis": {
            "gridcolor": "white",
            "linecolor": "white",
            "ticks": ""
           },
           "bgcolor": "#E5ECF6",
           "radialaxis": {
            "gridcolor": "white",
            "linecolor": "white",
            "ticks": ""
           }
          },
          "scene": {
           "xaxis": {
            "backgroundcolor": "#E5ECF6",
            "gridcolor": "white",
            "gridwidth": 2,
            "linecolor": "white",
            "showbackground": true,
            "ticks": "",
            "zerolinecolor": "white"
           },
           "yaxis": {
            "backgroundcolor": "#E5ECF6",
            "gridcolor": "white",
            "gridwidth": 2,
            "linecolor": "white",
            "showbackground": true,
            "ticks": "",
            "zerolinecolor": "white"
           },
           "zaxis": {
            "backgroundcolor": "#E5ECF6",
            "gridcolor": "white",
            "gridwidth": 2,
            "linecolor": "white",
            "showbackground": true,
            "ticks": "",
            "zerolinecolor": "white"
           }
          },
          "shapedefaults": {
           "line": {
            "color": "#2a3f5f"
           }
          },
          "ternary": {
           "aaxis": {
            "gridcolor": "white",
            "linecolor": "white",
            "ticks": ""
           },
           "baxis": {
            "gridcolor": "white",
            "linecolor": "white",
            "ticks": ""
           },
           "bgcolor": "#E5ECF6",
           "caxis": {
            "gridcolor": "white",
            "linecolor": "white",
            "ticks": ""
           }
          },
          "title": {
           "x": 0.05
          },
          "xaxis": {
           "automargin": true,
           "gridcolor": "white",
           "linecolor": "white",
           "ticks": "",
           "title": {
            "standoff": 15
           },
           "zerolinecolor": "white",
           "zerolinewidth": 2
          },
          "yaxis": {
           "automargin": true,
           "gridcolor": "white",
           "linecolor": "white",
           "ticks": "",
           "title": {
            "standoff": 15
           },
           "zerolinecolor": "white",
           "zerolinewidth": 2
          }
         }
        },
        "xaxis": {
         "anchor": "y",
         "domain": [
          0,
          1
         ],
         "title": {
          "text": "Manufacturer"
         }
        },
        "yaxis": {
         "anchor": "x",
         "domain": [
          0,
          1
         ],
         "title": {
          "text": "Sales_in_thousands"
         }
        }
       }
      },
      "text/html": [
       "<div>                            <div id=\"6c483226-e299-4568-b992-743bb45abb12\" class=\"plotly-graph-div\" style=\"height:525px; width:100%;\"></div>            <script type=\"text/javascript\">                require([\"plotly\"], function(Plotly) {                    window.PLOTLYENV=window.PLOTLYENV || {};                                    if (document.getElementById(\"6c483226-e299-4568-b992-743bb45abb12\")) {                    Plotly.newPlot(                        \"6c483226-e299-4568-b992-743bb45abb12\",                        [{\"alignmentgroup\":\"True\",\"hovertemplate\":\"Vehicle_type=Passenger<br>Manufacturer=%{x}<br>Sales_in_thousands=%{y}<extra></extra>\",\"legendgroup\":\"Passenger\",\"marker\":{\"color\":\"#636efa\",\"pattern\":{\"shape\":\"\"}},\"name\":\"Passenger\",\"offsetgroup\":\"Passenger\",\"orientation\":\"v\",\"showlegend\":true,\"textposition\":\"auto\",\"x\":[\"Acura\",\"Acura\",\"Acura\",\"Audi\",\"Audi\",\"Audi\",\"Volkswagen\",\"Volkswagen\",\"Volkswagen\",\"Volkswagen\",\"Volkswagen\"],\"xaxis\":\"x\",\"y\":[16.919,39.384,8.588,20.397,18.78,1.38,9.761,83.721,51.102,9.569,5.596],\"yaxis\":\"y\",\"type\":\"bar\"}],                        {\"template\":{\"data\":{\"histogram2dcontour\":[{\"type\":\"histogram2dcontour\",\"colorbar\":{\"outlinewidth\":0,\"ticks\":\"\"},\"colorscale\":[[0.0,\"#0d0887\"],[0.1111111111111111,\"#46039f\"],[0.2222222222222222,\"#7201a8\"],[0.3333333333333333,\"#9c179e\"],[0.4444444444444444,\"#bd3786\"],[0.5555555555555556,\"#d8576b\"],[0.6666666666666666,\"#ed7953\"],[0.7777777777777778,\"#fb9f3a\"],[0.8888888888888888,\"#fdca26\"],[1.0,\"#f0f921\"]]}],\"choropleth\":[{\"type\":\"choropleth\",\"colorbar\":{\"outlinewidth\":0,\"ticks\":\"\"}}],\"histogram2d\":[{\"type\":\"histogram2d\",\"colorbar\":{\"outlinewidth\":0,\"ticks\":\"\"},\"colorscale\":[[0.0,\"#0d0887\"],[0.1111111111111111,\"#46039f\"],[0.2222222222222222,\"#7201a8\"],[0.3333333333333333,\"#9c179e\"],[0.4444444444444444,\"#bd3786\"],[0.5555555555555556,\"#d8576b\"],[0.6666666666666666,\"#ed7953\"],[0.7777777777777778,\"#fb9f3a\"],[0.8888888888888888,\"#fdca26\"],[1.0,\"#f0f921\"]]}],\"heatmap\":[{\"type\":\"heatmap\",\"colorbar\":{\"outlinewidth\":0,\"ticks\":\"\"},\"colorscale\":[[0.0,\"#0d0887\"],[0.1111111111111111,\"#46039f\"],[0.2222222222222222,\"#7201a8\"],[0.3333333333333333,\"#9c179e\"],[0.4444444444444444,\"#bd3786\"],[0.5555555555555556,\"#d8576b\"],[0.6666666666666666,\"#ed7953\"],[0.7777777777777778,\"#fb9f3a\"],[0.8888888888888888,\"#fdca26\"],[1.0,\"#f0f921\"]]}],\"heatmapgl\":[{\"type\":\"heatmapgl\",\"colorbar\":{\"outlinewidth\":0,\"ticks\":\"\"},\"colorscale\":[[0.0,\"#0d0887\"],[0.1111111111111111,\"#46039f\"],[0.2222222222222222,\"#7201a8\"],[0.3333333333333333,\"#9c179e\"],[0.4444444444444444,\"#bd3786\"],[0.5555555555555556,\"#d8576b\"],[0.6666666666666666,\"#ed7953\"],[0.7777777777777778,\"#fb9f3a\"],[0.8888888888888888,\"#fdca26\"],[1.0,\"#f0f921\"]]}],\"contourcarpet\":[{\"type\":\"contourcarpet\",\"colorbar\":{\"outlinewidth\":0,\"ticks\":\"\"}}],\"contour\":[{\"type\":\"contour\",\"colorbar\":{\"outlinewidth\":0,\"ticks\":\"\"},\"colorscale\":[[0.0,\"#0d0887\"],[0.1111111111111111,\"#46039f\"],[0.2222222222222222,\"#7201a8\"],[0.3333333333333333,\"#9c179e\"],[0.4444444444444444,\"#bd3786\"],[0.5555555555555556,\"#d8576b\"],[0.6666666666666666,\"#ed7953\"],[0.7777777777777778,\"#fb9f3a\"],[0.8888888888888888,\"#fdca26\"],[1.0,\"#f0f921\"]]}],\"surface\":[{\"type\":\"surface\",\"colorbar\":{\"outlinewidth\":0,\"ticks\":\"\"},\"colorscale\":[[0.0,\"#0d0887\"],[0.1111111111111111,\"#46039f\"],[0.2222222222222222,\"#7201a8\"],[0.3333333333333333,\"#9c179e\"],[0.4444444444444444,\"#bd3786\"],[0.5555555555555556,\"#d8576b\"],[0.6666666666666666,\"#ed7953\"],[0.7777777777777778,\"#fb9f3a\"],[0.8888888888888888,\"#fdca26\"],[1.0,\"#f0f921\"]]}],\"mesh3d\":[{\"type\":\"mesh3d\",\"colorbar\":{\"outlinewidth\":0,\"ticks\":\"\"}}],\"scatter\":[{\"fillpattern\":{\"fillmode\":\"overlay\",\"size\":10,\"solidity\":0.2},\"type\":\"scatter\"}],\"parcoords\":[{\"type\":\"parcoords\",\"line\":{\"colorbar\":{\"outlinewidth\":0,\"ticks\":\"\"}}}],\"scatterpolargl\":[{\"type\":\"scatterpolargl\",\"marker\":{\"colorbar\":{\"outlinewidth\":0,\"ticks\":\"\"}}}],\"bar\":[{\"error_x\":{\"color\":\"#2a3f5f\"},\"error_y\":{\"color\":\"#2a3f5f\"},\"marker\":{\"line\":{\"color\":\"#E5ECF6\",\"width\":0.5},\"pattern\":{\"fillmode\":\"overlay\",\"size\":10,\"solidity\":0.2}},\"type\":\"bar\"}],\"scattergeo\":[{\"type\":\"scattergeo\",\"marker\":{\"colorbar\":{\"outlinewidth\":0,\"ticks\":\"\"}}}],\"scatterpolar\":[{\"type\":\"scatterpolar\",\"marker\":{\"colorbar\":{\"outlinewidth\":0,\"ticks\":\"\"}}}],\"histogram\":[{\"marker\":{\"pattern\":{\"fillmode\":\"overlay\",\"size\":10,\"solidity\":0.2}},\"type\":\"histogram\"}],\"scattergl\":[{\"type\":\"scattergl\",\"marker\":{\"colorbar\":{\"outlinewidth\":0,\"ticks\":\"\"}}}],\"scatter3d\":[{\"type\":\"scatter3d\",\"line\":{\"colorbar\":{\"outlinewidth\":0,\"ticks\":\"\"}},\"marker\":{\"colorbar\":{\"outlinewidth\":0,\"ticks\":\"\"}}}],\"scattermapbox\":[{\"type\":\"scattermapbox\",\"marker\":{\"colorbar\":{\"outlinewidth\":0,\"ticks\":\"\"}}}],\"scatterternary\":[{\"type\":\"scatterternary\",\"marker\":{\"colorbar\":{\"outlinewidth\":0,\"ticks\":\"\"}}}],\"scattercarpet\":[{\"type\":\"scattercarpet\",\"marker\":{\"colorbar\":{\"outlinewidth\":0,\"ticks\":\"\"}}}],\"carpet\":[{\"aaxis\":{\"endlinecolor\":\"#2a3f5f\",\"gridcolor\":\"white\",\"linecolor\":\"white\",\"minorgridcolor\":\"white\",\"startlinecolor\":\"#2a3f5f\"},\"baxis\":{\"endlinecolor\":\"#2a3f5f\",\"gridcolor\":\"white\",\"linecolor\":\"white\",\"minorgridcolor\":\"white\",\"startlinecolor\":\"#2a3f5f\"},\"type\":\"carpet\"}],\"table\":[{\"cells\":{\"fill\":{\"color\":\"#EBF0F8\"},\"line\":{\"color\":\"white\"}},\"header\":{\"fill\":{\"color\":\"#C8D4E3\"},\"line\":{\"color\":\"white\"}},\"type\":\"table\"}],\"barpolar\":[{\"marker\":{\"line\":{\"color\":\"#E5ECF6\",\"width\":0.5},\"pattern\":{\"fillmode\":\"overlay\",\"size\":10,\"solidity\":0.2}},\"type\":\"barpolar\"}],\"pie\":[{\"automargin\":true,\"type\":\"pie\"}]},\"layout\":{\"autotypenumbers\":\"strict\",\"colorway\":[\"#636efa\",\"#EF553B\",\"#00cc96\",\"#ab63fa\",\"#FFA15A\",\"#19d3f3\",\"#FF6692\",\"#B6E880\",\"#FF97FF\",\"#FECB52\"],\"font\":{\"color\":\"#2a3f5f\"},\"hovermode\":\"closest\",\"hoverlabel\":{\"align\":\"left\"},\"paper_bgcolor\":\"white\",\"plot_bgcolor\":\"#E5ECF6\",\"polar\":{\"bgcolor\":\"#E5ECF6\",\"angularaxis\":{\"gridcolor\":\"white\",\"linecolor\":\"white\",\"ticks\":\"\"},\"radialaxis\":{\"gridcolor\":\"white\",\"linecolor\":\"white\",\"ticks\":\"\"}},\"ternary\":{\"bgcolor\":\"#E5ECF6\",\"aaxis\":{\"gridcolor\":\"white\",\"linecolor\":\"white\",\"ticks\":\"\"},\"baxis\":{\"gridcolor\":\"white\",\"linecolor\":\"white\",\"ticks\":\"\"},\"caxis\":{\"gridcolor\":\"white\",\"linecolor\":\"white\",\"ticks\":\"\"}},\"coloraxis\":{\"colorbar\":{\"outlinewidth\":0,\"ticks\":\"\"}},\"colorscale\":{\"sequential\":[[0.0,\"#0d0887\"],[0.1111111111111111,\"#46039f\"],[0.2222222222222222,\"#7201a8\"],[0.3333333333333333,\"#9c179e\"],[0.4444444444444444,\"#bd3786\"],[0.5555555555555556,\"#d8576b\"],[0.6666666666666666,\"#ed7953\"],[0.7777777777777778,\"#fb9f3a\"],[0.8888888888888888,\"#fdca26\"],[1.0,\"#f0f921\"]],\"sequentialminus\":[[0.0,\"#0d0887\"],[0.1111111111111111,\"#46039f\"],[0.2222222222222222,\"#7201a8\"],[0.3333333333333333,\"#9c179e\"],[0.4444444444444444,\"#bd3786\"],[0.5555555555555556,\"#d8576b\"],[0.6666666666666666,\"#ed7953\"],[0.7777777777777778,\"#fb9f3a\"],[0.8888888888888888,\"#fdca26\"],[1.0,\"#f0f921\"]],\"diverging\":[[0,\"#8e0152\"],[0.1,\"#c51b7d\"],[0.2,\"#de77ae\"],[0.3,\"#f1b6da\"],[0.4,\"#fde0ef\"],[0.5,\"#f7f7f7\"],[0.6,\"#e6f5d0\"],[0.7,\"#b8e186\"],[0.8,\"#7fbc41\"],[0.9,\"#4d9221\"],[1,\"#276419\"]]},\"xaxis\":{\"gridcolor\":\"white\",\"linecolor\":\"white\",\"ticks\":\"\",\"title\":{\"standoff\":15},\"zerolinecolor\":\"white\",\"automargin\":true,\"zerolinewidth\":2},\"yaxis\":{\"gridcolor\":\"white\",\"linecolor\":\"white\",\"ticks\":\"\",\"title\":{\"standoff\":15},\"zerolinecolor\":\"white\",\"automargin\":true,\"zerolinewidth\":2},\"scene\":{\"xaxis\":{\"backgroundcolor\":\"#E5ECF6\",\"gridcolor\":\"white\",\"linecolor\":\"white\",\"showbackground\":true,\"ticks\":\"\",\"zerolinecolor\":\"white\",\"gridwidth\":2},\"yaxis\":{\"backgroundcolor\":\"#E5ECF6\",\"gridcolor\":\"white\",\"linecolor\":\"white\",\"showbackground\":true,\"ticks\":\"\",\"zerolinecolor\":\"white\",\"gridwidth\":2},\"zaxis\":{\"backgroundcolor\":\"#E5ECF6\",\"gridcolor\":\"white\",\"linecolor\":\"white\",\"showbackground\":true,\"ticks\":\"\",\"zerolinecolor\":\"white\",\"gridwidth\":2}},\"shapedefaults\":{\"line\":{\"color\":\"#2a3f5f\"}},\"annotationdefaults\":{\"arrowcolor\":\"#2a3f5f\",\"arrowhead\":0,\"arrowwidth\":1},\"geo\":{\"bgcolor\":\"white\",\"landcolor\":\"#E5ECF6\",\"subunitcolor\":\"white\",\"showland\":true,\"showlakes\":true,\"lakecolor\":\"white\"},\"title\":{\"x\":0.05},\"mapbox\":{\"style\":\"light\"}}},\"xaxis\":{\"anchor\":\"y\",\"domain\":[0.0,1.0],\"title\":{\"text\":\"Manufacturer\"}},\"yaxis\":{\"anchor\":\"x\",\"domain\":[0.0,1.0],\"title\":{\"text\":\"Sales_in_thousands\"}},\"legend\":{\"title\":{\"text\":\"Vehicle_type\"},\"tracegroupgap\":0},\"margin\":{\"t\":60},\"barmode\":\"relative\"},                        {\"responsive\": true}                    ).then(function(){\n",
       "                            \n",
       "var gd = document.getElementById('6c483226-e299-4568-b992-743bb45abb12');\n",
       "var x = new MutationObserver(function (mutations, observer) {{\n",
       "        var display = window.getComputedStyle(gd).display;\n",
       "        if (!display || display === 'none') {{\n",
       "            console.log([gd, 'removed!']);\n",
       "            Plotly.purge(gd);\n",
       "            observer.disconnect();\n",
       "        }}\n",
       "}});\n",
       "\n",
       "// Listen for the removal of the full notebook cells\n",
       "var notebookContainer = gd.closest('#notebook-container');\n",
       "if (notebookContainer) {{\n",
       "    x.observe(notebookContainer, {childList: true});\n",
       "}}\n",
       "\n",
       "// Listen for the clearing of the current output cell\n",
       "var outputEl = gd.closest('.output');\n",
       "if (outputEl) {{\n",
       "    x.observe(outputEl, {childList: true});\n",
       "}}\n",
       "\n",
       "                        })                };                });            </script>        </div>"
      ]
     },
     "metadata": {},
     "output_type": "display_data"
    }
   ],
   "source": [
    "px.bar(data_frame=data_m,x=\"Manufacturer\", y=\"Sales_in_thousands\",color=\"Vehicle_type\")"
   ]
  },
  {
   "cell_type": "code",
   "execution_count": 45,
   "id": "c35b80bd",
   "metadata": {},
   "outputs": [
    {
     "data": {
      "application/vnd.plotly.v1+json": {
       "config": {
        "plotlyServerURL": "https://plot.ly"
       },
       "data": [
        {
         "alignmentgroup": "True",
         "hovertemplate": "Vehicle_type=Passenger<br>Manufacturer=%{x}<br>Sales_in_thousands=%{y}<extra></extra>",
         "legendgroup": "Passenger",
         "marker": {
          "color": "#636efa",
          "pattern": {
           "shape": "."
          }
         },
         "name": "Passenger",
         "offsetgroup": "Passenger",
         "orientation": "v",
         "showlegend": true,
         "textposition": "auto",
         "type": "bar",
         "x": [
          "Acura",
          "Acura",
          "Acura",
          "Audi",
          "Audi",
          "Audi",
          "BMW",
          "BMW",
          "Buick",
          "Buick",
          "Buick",
          "Buick",
          "Cadillac",
          "Cadillac",
          "Cadillac",
          "Chevrolet",
          "Chevrolet",
          "Chevrolet",
          "Chevrolet",
          "Chevrolet",
          "Chevrolet",
          "Chevrolet",
          "Chevrolet",
          "Chrysler",
          "Chrysler",
          "Chrysler",
          "Chrysler",
          "Chrysler",
          "Dodge",
          "Dodge",
          "Dodge",
          "Dodge",
          "Ford",
          "Ford",
          "Ford",
          "Ford",
          "Ford",
          "Honda",
          "Honda",
          "Hyundai",
          "Hyundai",
          "Hyundai",
          "Infiniti",
          "Lexus",
          "Lexus",
          "Lexus",
          "Lincoln",
          "Lincoln",
          "Mitsubishi",
          "Mitsubishi",
          "Mitsubishi",
          "Mitsubishi",
          "Mitsubishi",
          "Mercury",
          "Mercury",
          "Mercury",
          "Mercury",
          "Mercedes-B",
          "Mercedes-B",
          "Mercedes-B",
          "Mercedes-B",
          "Nissan",
          "Nissan",
          "Nissan",
          "Oldsmobile",
          "Oldsmobile",
          "Plymouth",
          "Plymouth",
          "Pontiac",
          "Pontiac",
          "Pontiac",
          "Pontiac",
          "Pontiac",
          "Porsche",
          "Porsche",
          "Porsche",
          "Saturn",
          "Saturn",
          "Saturn",
          "Toyota",
          "Toyota",
          "Toyota",
          "Toyota",
          "Volkswagen",
          "Volkswagen",
          "Volkswagen",
          "Volkswagen",
          "Volkswagen"
         ],
         "xaxis": "x",
         "y": [
          16.919,
          39.384,
          8.588,
          20.397,
          18.78,
          1.38,
          9.231,
          17.527,
          91.561,
          39.35,
          27.851,
          83.257,
          63.729,
          6.536,
          11.185,
          145.519,
          135.126,
          24.629,
          42.593,
          26.402,
          17.947,
          32.299,
          21.855,
          7.854,
          32.775,
          31.148,
          32.306,
          13.462,
          76.034,
          4.734,
          71.186,
          0.916,
          70.227,
          113.369,
          35.068,
          245.815,
          63.403,
          199.685,
          230.902,
          41.184,
          66.692,
          29.45,
          23.713,
          24.072,
          12.698,
          6.375,
          13.798,
          48.911,
          26.232,
          42.541,
          55.616,
          5.711,
          0.11,
          14.351,
          26.529,
          67.956,
          81.174,
          18.392,
          27.602,
          16.774,
          3.311,
          42.643,
          88.094,
          79.853,
          1.112,
          14.69,
          32.734,
          5.24,
          51.645,
          131.097,
          19.911,
          92.364,
          35.945,
          8.982,
          1.28,
          1.866,
          80.62,
          24.546,
          5.223,
          142.535,
          247.994,
          63.849,
          33.269,
          9.761,
          83.721,
          51.102,
          9.569,
          5.596
         ],
         "yaxis": "y"
        },
        {
         "alignmentgroup": "True",
         "hovertemplate": "Vehicle_type=Car<br>Manufacturer=%{x}<br>Sales_in_thousands=%{y}<extra></extra>",
         "legendgroup": "Car",
         "marker": {
          "color": "#EF553B",
          "pattern": {
           "shape": "x"
          }
         },
         "name": "Car",
         "offsetgroup": "Car",
         "orientation": "v",
         "showlegend": true,
         "textposition": "auto",
         "type": "bar",
         "x": [
          "Dodge",
          "Dodge",
          "Dodge",
          "Dodge",
          "Dodge",
          "Ford",
          "Ford",
          "Ford",
          "Ford",
          "Ford",
          "Honda",
          "Honda",
          "Honda",
          "Jeep",
          "Jeep",
          "Jeep",
          "Mitsubishi",
          "Mitsubishi",
          "Mercury",
          "Mercury",
          "Nissan",
          "Nissan",
          "Oldsmobile",
          "Oldsmobile",
          "Plymouth",
          "Toyota",
          "Toyota",
          "Toyota",
          "Toyota"
         ],
         "xaxis": "x",
         "y": [
          227.061,
          16.767,
          31.038,
          111.313,
          181.749,
          276.747,
          155.787,
          125.338,
          220.65,
          540.561,
          73.203,
          12.855,
          76.029,
          55.557,
          80.556,
          157.04,
          11.337,
          39.348,
          27.609,
          20.38,
          27.308,
          42.574,
          20.017,
          24.361,
          24.155,
          84.087,
          25.106,
          68.411,
          9.835
         ],
         "yaxis": "y"
        }
       ],
       "layout": {
        "barmode": "relative",
        "legend": {
         "title": {
          "text": "Vehicle_type"
         },
         "tracegroupgap": 0
        },
        "margin": {
         "t": 60
        },
        "template": {
         "data": {
          "bar": [
           {
            "error_x": {
             "color": "#2a3f5f"
            },
            "error_y": {
             "color": "#2a3f5f"
            },
            "marker": {
             "line": {
              "color": "#E5ECF6",
              "width": 0.5
             },
             "pattern": {
              "fillmode": "overlay",
              "size": 10,
              "solidity": 0.2
             }
            },
            "type": "bar"
           }
          ],
          "barpolar": [
           {
            "marker": {
             "line": {
              "color": "#E5ECF6",
              "width": 0.5
             },
             "pattern": {
              "fillmode": "overlay",
              "size": 10,
              "solidity": 0.2
             }
            },
            "type": "barpolar"
           }
          ],
          "carpet": [
           {
            "aaxis": {
             "endlinecolor": "#2a3f5f",
             "gridcolor": "white",
             "linecolor": "white",
             "minorgridcolor": "white",
             "startlinecolor": "#2a3f5f"
            },
            "baxis": {
             "endlinecolor": "#2a3f5f",
             "gridcolor": "white",
             "linecolor": "white",
             "minorgridcolor": "white",
             "startlinecolor": "#2a3f5f"
            },
            "type": "carpet"
           }
          ],
          "choropleth": [
           {
            "colorbar": {
             "outlinewidth": 0,
             "ticks": ""
            },
            "type": "choropleth"
           }
          ],
          "contour": [
           {
            "colorbar": {
             "outlinewidth": 0,
             "ticks": ""
            },
            "colorscale": [
             [
              0,
              "#0d0887"
             ],
             [
              0.1111111111111111,
              "#46039f"
             ],
             [
              0.2222222222222222,
              "#7201a8"
             ],
             [
              0.3333333333333333,
              "#9c179e"
             ],
             [
              0.4444444444444444,
              "#bd3786"
             ],
             [
              0.5555555555555556,
              "#d8576b"
             ],
             [
              0.6666666666666666,
              "#ed7953"
             ],
             [
              0.7777777777777778,
              "#fb9f3a"
             ],
             [
              0.8888888888888888,
              "#fdca26"
             ],
             [
              1,
              "#f0f921"
             ]
            ],
            "type": "contour"
           }
          ],
          "contourcarpet": [
           {
            "colorbar": {
             "outlinewidth": 0,
             "ticks": ""
            },
            "type": "contourcarpet"
           }
          ],
          "heatmap": [
           {
            "colorbar": {
             "outlinewidth": 0,
             "ticks": ""
            },
            "colorscale": [
             [
              0,
              "#0d0887"
             ],
             [
              0.1111111111111111,
              "#46039f"
             ],
             [
              0.2222222222222222,
              "#7201a8"
             ],
             [
              0.3333333333333333,
              "#9c179e"
             ],
             [
              0.4444444444444444,
              "#bd3786"
             ],
             [
              0.5555555555555556,
              "#d8576b"
             ],
             [
              0.6666666666666666,
              "#ed7953"
             ],
             [
              0.7777777777777778,
              "#fb9f3a"
             ],
             [
              0.8888888888888888,
              "#fdca26"
             ],
             [
              1,
              "#f0f921"
             ]
            ],
            "type": "heatmap"
           }
          ],
          "heatmapgl": [
           {
            "colorbar": {
             "outlinewidth": 0,
             "ticks": ""
            },
            "colorscale": [
             [
              0,
              "#0d0887"
             ],
             [
              0.1111111111111111,
              "#46039f"
             ],
             [
              0.2222222222222222,
              "#7201a8"
             ],
             [
              0.3333333333333333,
              "#9c179e"
             ],
             [
              0.4444444444444444,
              "#bd3786"
             ],
             [
              0.5555555555555556,
              "#d8576b"
             ],
             [
              0.6666666666666666,
              "#ed7953"
             ],
             [
              0.7777777777777778,
              "#fb9f3a"
             ],
             [
              0.8888888888888888,
              "#fdca26"
             ],
             [
              1,
              "#f0f921"
             ]
            ],
            "type": "heatmapgl"
           }
          ],
          "histogram": [
           {
            "marker": {
             "pattern": {
              "fillmode": "overlay",
              "size": 10,
              "solidity": 0.2
             }
            },
            "type": "histogram"
           }
          ],
          "histogram2d": [
           {
            "colorbar": {
             "outlinewidth": 0,
             "ticks": ""
            },
            "colorscale": [
             [
              0,
              "#0d0887"
             ],
             [
              0.1111111111111111,
              "#46039f"
             ],
             [
              0.2222222222222222,
              "#7201a8"
             ],
             [
              0.3333333333333333,
              "#9c179e"
             ],
             [
              0.4444444444444444,
              "#bd3786"
             ],
             [
              0.5555555555555556,
              "#d8576b"
             ],
             [
              0.6666666666666666,
              "#ed7953"
             ],
             [
              0.7777777777777778,
              "#fb9f3a"
             ],
             [
              0.8888888888888888,
              "#fdca26"
             ],
             [
              1,
              "#f0f921"
             ]
            ],
            "type": "histogram2d"
           }
          ],
          "histogram2dcontour": [
           {
            "colorbar": {
             "outlinewidth": 0,
             "ticks": ""
            },
            "colorscale": [
             [
              0,
              "#0d0887"
             ],
             [
              0.1111111111111111,
              "#46039f"
             ],
             [
              0.2222222222222222,
              "#7201a8"
             ],
             [
              0.3333333333333333,
              "#9c179e"
             ],
             [
              0.4444444444444444,
              "#bd3786"
             ],
             [
              0.5555555555555556,
              "#d8576b"
             ],
             [
              0.6666666666666666,
              "#ed7953"
             ],
             [
              0.7777777777777778,
              "#fb9f3a"
             ],
             [
              0.8888888888888888,
              "#fdca26"
             ],
             [
              1,
              "#f0f921"
             ]
            ],
            "type": "histogram2dcontour"
           }
          ],
          "mesh3d": [
           {
            "colorbar": {
             "outlinewidth": 0,
             "ticks": ""
            },
            "type": "mesh3d"
           }
          ],
          "parcoords": [
           {
            "line": {
             "colorbar": {
              "outlinewidth": 0,
              "ticks": ""
             }
            },
            "type": "parcoords"
           }
          ],
          "pie": [
           {
            "automargin": true,
            "type": "pie"
           }
          ],
          "scatter": [
           {
            "fillpattern": {
             "fillmode": "overlay",
             "size": 10,
             "solidity": 0.2
            },
            "type": "scatter"
           }
          ],
          "scatter3d": [
           {
            "line": {
             "colorbar": {
              "outlinewidth": 0,
              "ticks": ""
             }
            },
            "marker": {
             "colorbar": {
              "outlinewidth": 0,
              "ticks": ""
             }
            },
            "type": "scatter3d"
           }
          ],
          "scattercarpet": [
           {
            "marker": {
             "colorbar": {
              "outlinewidth": 0,
              "ticks": ""
             }
            },
            "type": "scattercarpet"
           }
          ],
          "scattergeo": [
           {
            "marker": {
             "colorbar": {
              "outlinewidth": 0,
              "ticks": ""
             }
            },
            "type": "scattergeo"
           }
          ],
          "scattergl": [
           {
            "marker": {
             "colorbar": {
              "outlinewidth": 0,
              "ticks": ""
             }
            },
            "type": "scattergl"
           }
          ],
          "scattermapbox": [
           {
            "marker": {
             "colorbar": {
              "outlinewidth": 0,
              "ticks": ""
             }
            },
            "type": "scattermapbox"
           }
          ],
          "scatterpolar": [
           {
            "marker": {
             "colorbar": {
              "outlinewidth": 0,
              "ticks": ""
             }
            },
            "type": "scatterpolar"
           }
          ],
          "scatterpolargl": [
           {
            "marker": {
             "colorbar": {
              "outlinewidth": 0,
              "ticks": ""
             }
            },
            "type": "scatterpolargl"
           }
          ],
          "scatterternary": [
           {
            "marker": {
             "colorbar": {
              "outlinewidth": 0,
              "ticks": ""
             }
            },
            "type": "scatterternary"
           }
          ],
          "surface": [
           {
            "colorbar": {
             "outlinewidth": 0,
             "ticks": ""
            },
            "colorscale": [
             [
              0,
              "#0d0887"
             ],
             [
              0.1111111111111111,
              "#46039f"
             ],
             [
              0.2222222222222222,
              "#7201a8"
             ],
             [
              0.3333333333333333,
              "#9c179e"
             ],
             [
              0.4444444444444444,
              "#bd3786"
             ],
             [
              0.5555555555555556,
              "#d8576b"
             ],
             [
              0.6666666666666666,
              "#ed7953"
             ],
             [
              0.7777777777777778,
              "#fb9f3a"
             ],
             [
              0.8888888888888888,
              "#fdca26"
             ],
             [
              1,
              "#f0f921"
             ]
            ],
            "type": "surface"
           }
          ],
          "table": [
           {
            "cells": {
             "fill": {
              "color": "#EBF0F8"
             },
             "line": {
              "color": "white"
             }
            },
            "header": {
             "fill": {
              "color": "#C8D4E3"
             },
             "line": {
              "color": "white"
             }
            },
            "type": "table"
           }
          ]
         },
         "layout": {
          "annotationdefaults": {
           "arrowcolor": "#2a3f5f",
           "arrowhead": 0,
           "arrowwidth": 1
          },
          "autotypenumbers": "strict",
          "coloraxis": {
           "colorbar": {
            "outlinewidth": 0,
            "ticks": ""
           }
          },
          "colorscale": {
           "diverging": [
            [
             0,
             "#8e0152"
            ],
            [
             0.1,
             "#c51b7d"
            ],
            [
             0.2,
             "#de77ae"
            ],
            [
             0.3,
             "#f1b6da"
            ],
            [
             0.4,
             "#fde0ef"
            ],
            [
             0.5,
             "#f7f7f7"
            ],
            [
             0.6,
             "#e6f5d0"
            ],
            [
             0.7,
             "#b8e186"
            ],
            [
             0.8,
             "#7fbc41"
            ],
            [
             0.9,
             "#4d9221"
            ],
            [
             1,
             "#276419"
            ]
           ],
           "sequential": [
            [
             0,
             "#0d0887"
            ],
            [
             0.1111111111111111,
             "#46039f"
            ],
            [
             0.2222222222222222,
             "#7201a8"
            ],
            [
             0.3333333333333333,
             "#9c179e"
            ],
            [
             0.4444444444444444,
             "#bd3786"
            ],
            [
             0.5555555555555556,
             "#d8576b"
            ],
            [
             0.6666666666666666,
             "#ed7953"
            ],
            [
             0.7777777777777778,
             "#fb9f3a"
            ],
            [
             0.8888888888888888,
             "#fdca26"
            ],
            [
             1,
             "#f0f921"
            ]
           ],
           "sequentialminus": [
            [
             0,
             "#0d0887"
            ],
            [
             0.1111111111111111,
             "#46039f"
            ],
            [
             0.2222222222222222,
             "#7201a8"
            ],
            [
             0.3333333333333333,
             "#9c179e"
            ],
            [
             0.4444444444444444,
             "#bd3786"
            ],
            [
             0.5555555555555556,
             "#d8576b"
            ],
            [
             0.6666666666666666,
             "#ed7953"
            ],
            [
             0.7777777777777778,
             "#fb9f3a"
            ],
            [
             0.8888888888888888,
             "#fdca26"
            ],
            [
             1,
             "#f0f921"
            ]
           ]
          },
          "colorway": [
           "#636efa",
           "#EF553B",
           "#00cc96",
           "#ab63fa",
           "#FFA15A",
           "#19d3f3",
           "#FF6692",
           "#B6E880",
           "#FF97FF",
           "#FECB52"
          ],
          "font": {
           "color": "#2a3f5f"
          },
          "geo": {
           "bgcolor": "white",
           "lakecolor": "white",
           "landcolor": "#E5ECF6",
           "showlakes": true,
           "showland": true,
           "subunitcolor": "white"
          },
          "hoverlabel": {
           "align": "left"
          },
          "hovermode": "closest",
          "mapbox": {
           "style": "light"
          },
          "paper_bgcolor": "white",
          "plot_bgcolor": "#E5ECF6",
          "polar": {
           "angularaxis": {
            "gridcolor": "white",
            "linecolor": "white",
            "ticks": ""
           },
           "bgcolor": "#E5ECF6",
           "radialaxis": {
            "gridcolor": "white",
            "linecolor": "white",
            "ticks": ""
           }
          },
          "scene": {
           "xaxis": {
            "backgroundcolor": "#E5ECF6",
            "gridcolor": "white",
            "gridwidth": 2,
            "linecolor": "white",
            "showbackground": true,
            "ticks": "",
            "zerolinecolor": "white"
           },
           "yaxis": {
            "backgroundcolor": "#E5ECF6",
            "gridcolor": "white",
            "gridwidth": 2,
            "linecolor": "white",
            "showbackground": true,
            "ticks": "",
            "zerolinecolor": "white"
           },
           "zaxis": {
            "backgroundcolor": "#E5ECF6",
            "gridcolor": "white",
            "gridwidth": 2,
            "linecolor": "white",
            "showbackground": true,
            "ticks": "",
            "zerolinecolor": "white"
           }
          },
          "shapedefaults": {
           "line": {
            "color": "#2a3f5f"
           }
          },
          "ternary": {
           "aaxis": {
            "gridcolor": "white",
            "linecolor": "white",
            "ticks": ""
           },
           "baxis": {
            "gridcolor": "white",
            "linecolor": "white",
            "ticks": ""
           },
           "bgcolor": "#E5ECF6",
           "caxis": {
            "gridcolor": "white",
            "linecolor": "white",
            "ticks": ""
           }
          },
          "title": {
           "x": 0.05
          },
          "xaxis": {
           "automargin": true,
           "gridcolor": "white",
           "linecolor": "white",
           "ticks": "",
           "title": {
            "standoff": 15
           },
           "zerolinecolor": "white",
           "zerolinewidth": 2
          },
          "yaxis": {
           "automargin": true,
           "gridcolor": "white",
           "linecolor": "white",
           "ticks": "",
           "title": {
            "standoff": 15
           },
           "zerolinecolor": "white",
           "zerolinewidth": 2
          }
         }
        },
        "xaxis": {
         "anchor": "y",
         "domain": [
          0,
          1
         ],
         "title": {
          "text": "Manufacturer"
         }
        },
        "yaxis": {
         "anchor": "x",
         "domain": [
          0,
          1
         ],
         "title": {
          "text": "Sales_in_thousands"
         }
        }
       }
      },
      "text/html": [
       "<div>                            <div id=\"5b814605-a9ad-4f4a-9088-e92bcbd2bd80\" class=\"plotly-graph-div\" style=\"height:525px; width:100%;\"></div>            <script type=\"text/javascript\">                require([\"plotly\"], function(Plotly) {                    window.PLOTLYENV=window.PLOTLYENV || {};                                    if (document.getElementById(\"5b814605-a9ad-4f4a-9088-e92bcbd2bd80\")) {                    Plotly.newPlot(                        \"5b814605-a9ad-4f4a-9088-e92bcbd2bd80\",                        [{\"alignmentgroup\":\"True\",\"hovertemplate\":\"Vehicle_type=Passenger<br>Manufacturer=%{x}<br>Sales_in_thousands=%{y}<extra></extra>\",\"legendgroup\":\"Passenger\",\"marker\":{\"color\":\"#636efa\",\"pattern\":{\"shape\":\".\"}},\"name\":\"Passenger\",\"offsetgroup\":\"Passenger\",\"orientation\":\"v\",\"showlegend\":true,\"textposition\":\"auto\",\"x\":[\"Acura\",\"Acura\",\"Acura\",\"Audi\",\"Audi\",\"Audi\",\"BMW\",\"BMW\",\"Buick\",\"Buick\",\"Buick\",\"Buick\",\"Cadillac\",\"Cadillac\",\"Cadillac\",\"Chevrolet\",\"Chevrolet\",\"Chevrolet\",\"Chevrolet\",\"Chevrolet\",\"Chevrolet\",\"Chevrolet\",\"Chevrolet\",\"Chrysler\",\"Chrysler\",\"Chrysler\",\"Chrysler\",\"Chrysler\",\"Dodge\",\"Dodge\",\"Dodge\",\"Dodge\",\"Ford\",\"Ford\",\"Ford\",\"Ford\",\"Ford\",\"Honda\",\"Honda\",\"Hyundai\",\"Hyundai\",\"Hyundai\",\"Infiniti\",\"Lexus\",\"Lexus\",\"Lexus\",\"Lincoln\",\"Lincoln\",\"Mitsubishi\",\"Mitsubishi\",\"Mitsubishi\",\"Mitsubishi\",\"Mitsubishi\",\"Mercury\",\"Mercury\",\"Mercury\",\"Mercury\",\"Mercedes-B\",\"Mercedes-B\",\"Mercedes-B\",\"Mercedes-B\",\"Nissan\",\"Nissan\",\"Nissan\",\"Oldsmobile\",\"Oldsmobile\",\"Plymouth\",\"Plymouth\",\"Pontiac\",\"Pontiac\",\"Pontiac\",\"Pontiac\",\"Pontiac\",\"Porsche\",\"Porsche\",\"Porsche\",\"Saturn\",\"Saturn\",\"Saturn\",\"Toyota\",\"Toyota\",\"Toyota\",\"Toyota\",\"Volkswagen\",\"Volkswagen\",\"Volkswagen\",\"Volkswagen\",\"Volkswagen\"],\"xaxis\":\"x\",\"y\":[16.919,39.384,8.588,20.397,18.78,1.38,9.231,17.527,91.561,39.35,27.851,83.257,63.729,6.536,11.185,145.519,135.126,24.629,42.593,26.402,17.947,32.299,21.855,7.854,32.775,31.148,32.306,13.462,76.034,4.734,71.186,0.916,70.227,113.369,35.068,245.815,63.403,199.685,230.902,41.184,66.692,29.45,23.713,24.072,12.698,6.375,13.798,48.911,26.232,42.541,55.616,5.711,0.11,14.351,26.529,67.956,81.174,18.392,27.602,16.774,3.311,42.643,88.094,79.853,1.112,14.69,32.734,5.24,51.645,131.097,19.911,92.364,35.945,8.982,1.28,1.866,80.62,24.546,5.223,142.535,247.994,63.849,33.269,9.761,83.721,51.102,9.569,5.596],\"yaxis\":\"y\",\"type\":\"bar\"},{\"alignmentgroup\":\"True\",\"hovertemplate\":\"Vehicle_type=Car<br>Manufacturer=%{x}<br>Sales_in_thousands=%{y}<extra></extra>\",\"legendgroup\":\"Car\",\"marker\":{\"color\":\"#EF553B\",\"pattern\":{\"shape\":\"x\"}},\"name\":\"Car\",\"offsetgroup\":\"Car\",\"orientation\":\"v\",\"showlegend\":true,\"textposition\":\"auto\",\"x\":[\"Dodge\",\"Dodge\",\"Dodge\",\"Dodge\",\"Dodge\",\"Ford\",\"Ford\",\"Ford\",\"Ford\",\"Ford\",\"Honda\",\"Honda\",\"Honda\",\"Jeep\",\"Jeep\",\"Jeep\",\"Mitsubishi\",\"Mitsubishi\",\"Mercury\",\"Mercury\",\"Nissan\",\"Nissan\",\"Oldsmobile\",\"Oldsmobile\",\"Plymouth\",\"Toyota\",\"Toyota\",\"Toyota\",\"Toyota\"],\"xaxis\":\"x\",\"y\":[227.061,16.767,31.038,111.313,181.749,276.747,155.787,125.338,220.65,540.561,73.203,12.855,76.029,55.557,80.556,157.04,11.337,39.348,27.609,20.38,27.308,42.574,20.017,24.361,24.155,84.087,25.106,68.411,9.835],\"yaxis\":\"y\",\"type\":\"bar\"}],                        {\"template\":{\"data\":{\"histogram2dcontour\":[{\"type\":\"histogram2dcontour\",\"colorbar\":{\"outlinewidth\":0,\"ticks\":\"\"},\"colorscale\":[[0.0,\"#0d0887\"],[0.1111111111111111,\"#46039f\"],[0.2222222222222222,\"#7201a8\"],[0.3333333333333333,\"#9c179e\"],[0.4444444444444444,\"#bd3786\"],[0.5555555555555556,\"#d8576b\"],[0.6666666666666666,\"#ed7953\"],[0.7777777777777778,\"#fb9f3a\"],[0.8888888888888888,\"#fdca26\"],[1.0,\"#f0f921\"]]}],\"choropleth\":[{\"type\":\"choropleth\",\"colorbar\":{\"outlinewidth\":0,\"ticks\":\"\"}}],\"histogram2d\":[{\"type\":\"histogram2d\",\"colorbar\":{\"outlinewidth\":0,\"ticks\":\"\"},\"colorscale\":[[0.0,\"#0d0887\"],[0.1111111111111111,\"#46039f\"],[0.2222222222222222,\"#7201a8\"],[0.3333333333333333,\"#9c179e\"],[0.4444444444444444,\"#bd3786\"],[0.5555555555555556,\"#d8576b\"],[0.6666666666666666,\"#ed7953\"],[0.7777777777777778,\"#fb9f3a\"],[0.8888888888888888,\"#fdca26\"],[1.0,\"#f0f921\"]]}],\"heatmap\":[{\"type\":\"heatmap\",\"colorbar\":{\"outlinewidth\":0,\"ticks\":\"\"},\"colorscale\":[[0.0,\"#0d0887\"],[0.1111111111111111,\"#46039f\"],[0.2222222222222222,\"#7201a8\"],[0.3333333333333333,\"#9c179e\"],[0.4444444444444444,\"#bd3786\"],[0.5555555555555556,\"#d8576b\"],[0.6666666666666666,\"#ed7953\"],[0.7777777777777778,\"#fb9f3a\"],[0.8888888888888888,\"#fdca26\"],[1.0,\"#f0f921\"]]}],\"heatmapgl\":[{\"type\":\"heatmapgl\",\"colorbar\":{\"outlinewidth\":0,\"ticks\":\"\"},\"colorscale\":[[0.0,\"#0d0887\"],[0.1111111111111111,\"#46039f\"],[0.2222222222222222,\"#7201a8\"],[0.3333333333333333,\"#9c179e\"],[0.4444444444444444,\"#bd3786\"],[0.5555555555555556,\"#d8576b\"],[0.6666666666666666,\"#ed7953\"],[0.7777777777777778,\"#fb9f3a\"],[0.8888888888888888,\"#fdca26\"],[1.0,\"#f0f921\"]]}],\"contourcarpet\":[{\"type\":\"contourcarpet\",\"colorbar\":{\"outlinewidth\":0,\"ticks\":\"\"}}],\"contour\":[{\"type\":\"contour\",\"colorbar\":{\"outlinewidth\":0,\"ticks\":\"\"},\"colorscale\":[[0.0,\"#0d0887\"],[0.1111111111111111,\"#46039f\"],[0.2222222222222222,\"#7201a8\"],[0.3333333333333333,\"#9c179e\"],[0.4444444444444444,\"#bd3786\"],[0.5555555555555556,\"#d8576b\"],[0.6666666666666666,\"#ed7953\"],[0.7777777777777778,\"#fb9f3a\"],[0.8888888888888888,\"#fdca26\"],[1.0,\"#f0f921\"]]}],\"surface\":[{\"type\":\"surface\",\"colorbar\":{\"outlinewidth\":0,\"ticks\":\"\"},\"colorscale\":[[0.0,\"#0d0887\"],[0.1111111111111111,\"#46039f\"],[0.2222222222222222,\"#7201a8\"],[0.3333333333333333,\"#9c179e\"],[0.4444444444444444,\"#bd3786\"],[0.5555555555555556,\"#d8576b\"],[0.6666666666666666,\"#ed7953\"],[0.7777777777777778,\"#fb9f3a\"],[0.8888888888888888,\"#fdca26\"],[1.0,\"#f0f921\"]]}],\"mesh3d\":[{\"type\":\"mesh3d\",\"colorbar\":{\"outlinewidth\":0,\"ticks\":\"\"}}],\"scatter\":[{\"fillpattern\":{\"fillmode\":\"overlay\",\"size\":10,\"solidity\":0.2},\"type\":\"scatter\"}],\"parcoords\":[{\"type\":\"parcoords\",\"line\":{\"colorbar\":{\"outlinewidth\":0,\"ticks\":\"\"}}}],\"scatterpolargl\":[{\"type\":\"scatterpolargl\",\"marker\":{\"colorbar\":{\"outlinewidth\":0,\"ticks\":\"\"}}}],\"bar\":[{\"error_x\":{\"color\":\"#2a3f5f\"},\"error_y\":{\"color\":\"#2a3f5f\"},\"marker\":{\"line\":{\"color\":\"#E5ECF6\",\"width\":0.5},\"pattern\":{\"fillmode\":\"overlay\",\"size\":10,\"solidity\":0.2}},\"type\":\"bar\"}],\"scattergeo\":[{\"type\":\"scattergeo\",\"marker\":{\"colorbar\":{\"outlinewidth\":0,\"ticks\":\"\"}}}],\"scatterpolar\":[{\"type\":\"scatterpolar\",\"marker\":{\"colorbar\":{\"outlinewidth\":0,\"ticks\":\"\"}}}],\"histogram\":[{\"marker\":{\"pattern\":{\"fillmode\":\"overlay\",\"size\":10,\"solidity\":0.2}},\"type\":\"histogram\"}],\"scattergl\":[{\"type\":\"scattergl\",\"marker\":{\"colorbar\":{\"outlinewidth\":0,\"ticks\":\"\"}}}],\"scatter3d\":[{\"type\":\"scatter3d\",\"line\":{\"colorbar\":{\"outlinewidth\":0,\"ticks\":\"\"}},\"marker\":{\"colorbar\":{\"outlinewidth\":0,\"ticks\":\"\"}}}],\"scattermapbox\":[{\"type\":\"scattermapbox\",\"marker\":{\"colorbar\":{\"outlinewidth\":0,\"ticks\":\"\"}}}],\"scatterternary\":[{\"type\":\"scatterternary\",\"marker\":{\"colorbar\":{\"outlinewidth\":0,\"ticks\":\"\"}}}],\"scattercarpet\":[{\"type\":\"scattercarpet\",\"marker\":{\"colorbar\":{\"outlinewidth\":0,\"ticks\":\"\"}}}],\"carpet\":[{\"aaxis\":{\"endlinecolor\":\"#2a3f5f\",\"gridcolor\":\"white\",\"linecolor\":\"white\",\"minorgridcolor\":\"white\",\"startlinecolor\":\"#2a3f5f\"},\"baxis\":{\"endlinecolor\":\"#2a3f5f\",\"gridcolor\":\"white\",\"linecolor\":\"white\",\"minorgridcolor\":\"white\",\"startlinecolor\":\"#2a3f5f\"},\"type\":\"carpet\"}],\"table\":[{\"cells\":{\"fill\":{\"color\":\"#EBF0F8\"},\"line\":{\"color\":\"white\"}},\"header\":{\"fill\":{\"color\":\"#C8D4E3\"},\"line\":{\"color\":\"white\"}},\"type\":\"table\"}],\"barpolar\":[{\"marker\":{\"line\":{\"color\":\"#E5ECF6\",\"width\":0.5},\"pattern\":{\"fillmode\":\"overlay\",\"size\":10,\"solidity\":0.2}},\"type\":\"barpolar\"}],\"pie\":[{\"automargin\":true,\"type\":\"pie\"}]},\"layout\":{\"autotypenumbers\":\"strict\",\"colorway\":[\"#636efa\",\"#EF553B\",\"#00cc96\",\"#ab63fa\",\"#FFA15A\",\"#19d3f3\",\"#FF6692\",\"#B6E880\",\"#FF97FF\",\"#FECB52\"],\"font\":{\"color\":\"#2a3f5f\"},\"hovermode\":\"closest\",\"hoverlabel\":{\"align\":\"left\"},\"paper_bgcolor\":\"white\",\"plot_bgcolor\":\"#E5ECF6\",\"polar\":{\"bgcolor\":\"#E5ECF6\",\"angularaxis\":{\"gridcolor\":\"white\",\"linecolor\":\"white\",\"ticks\":\"\"},\"radialaxis\":{\"gridcolor\":\"white\",\"linecolor\":\"white\",\"ticks\":\"\"}},\"ternary\":{\"bgcolor\":\"#E5ECF6\",\"aaxis\":{\"gridcolor\":\"white\",\"linecolor\":\"white\",\"ticks\":\"\"},\"baxis\":{\"gridcolor\":\"white\",\"linecolor\":\"white\",\"ticks\":\"\"},\"caxis\":{\"gridcolor\":\"white\",\"linecolor\":\"white\",\"ticks\":\"\"}},\"coloraxis\":{\"colorbar\":{\"outlinewidth\":0,\"ticks\":\"\"}},\"colorscale\":{\"sequential\":[[0.0,\"#0d0887\"],[0.1111111111111111,\"#46039f\"],[0.2222222222222222,\"#7201a8\"],[0.3333333333333333,\"#9c179e\"],[0.4444444444444444,\"#bd3786\"],[0.5555555555555556,\"#d8576b\"],[0.6666666666666666,\"#ed7953\"],[0.7777777777777778,\"#fb9f3a\"],[0.8888888888888888,\"#fdca26\"],[1.0,\"#f0f921\"]],\"sequentialminus\":[[0.0,\"#0d0887\"],[0.1111111111111111,\"#46039f\"],[0.2222222222222222,\"#7201a8\"],[0.3333333333333333,\"#9c179e\"],[0.4444444444444444,\"#bd3786\"],[0.5555555555555556,\"#d8576b\"],[0.6666666666666666,\"#ed7953\"],[0.7777777777777778,\"#fb9f3a\"],[0.8888888888888888,\"#fdca26\"],[1.0,\"#f0f921\"]],\"diverging\":[[0,\"#8e0152\"],[0.1,\"#c51b7d\"],[0.2,\"#de77ae\"],[0.3,\"#f1b6da\"],[0.4,\"#fde0ef\"],[0.5,\"#f7f7f7\"],[0.6,\"#e6f5d0\"],[0.7,\"#b8e186\"],[0.8,\"#7fbc41\"],[0.9,\"#4d9221\"],[1,\"#276419\"]]},\"xaxis\":{\"gridcolor\":\"white\",\"linecolor\":\"white\",\"ticks\":\"\",\"title\":{\"standoff\":15},\"zerolinecolor\":\"white\",\"automargin\":true,\"zerolinewidth\":2},\"yaxis\":{\"gridcolor\":\"white\",\"linecolor\":\"white\",\"ticks\":\"\",\"title\":{\"standoff\":15},\"zerolinecolor\":\"white\",\"automargin\":true,\"zerolinewidth\":2},\"scene\":{\"xaxis\":{\"backgroundcolor\":\"#E5ECF6\",\"gridcolor\":\"white\",\"linecolor\":\"white\",\"showbackground\":true,\"ticks\":\"\",\"zerolinecolor\":\"white\",\"gridwidth\":2},\"yaxis\":{\"backgroundcolor\":\"#E5ECF6\",\"gridcolor\":\"white\",\"linecolor\":\"white\",\"showbackground\":true,\"ticks\":\"\",\"zerolinecolor\":\"white\",\"gridwidth\":2},\"zaxis\":{\"backgroundcolor\":\"#E5ECF6\",\"gridcolor\":\"white\",\"linecolor\":\"white\",\"showbackground\":true,\"ticks\":\"\",\"zerolinecolor\":\"white\",\"gridwidth\":2}},\"shapedefaults\":{\"line\":{\"color\":\"#2a3f5f\"}},\"annotationdefaults\":{\"arrowcolor\":\"#2a3f5f\",\"arrowhead\":0,\"arrowwidth\":1},\"geo\":{\"bgcolor\":\"white\",\"landcolor\":\"#E5ECF6\",\"subunitcolor\":\"white\",\"showland\":true,\"showlakes\":true,\"lakecolor\":\"white\"},\"title\":{\"x\":0.05},\"mapbox\":{\"style\":\"light\"}}},\"xaxis\":{\"anchor\":\"y\",\"domain\":[0.0,1.0],\"title\":{\"text\":\"Manufacturer\"}},\"yaxis\":{\"anchor\":\"x\",\"domain\":[0.0,1.0],\"title\":{\"text\":\"Sales_in_thousands\"}},\"legend\":{\"title\":{\"text\":\"Vehicle_type\"},\"tracegroupgap\":0},\"margin\":{\"t\":60},\"barmode\":\"relative\"},                        {\"responsive\": true}                    ).then(function(){\n",
       "                            \n",
       "var gd = document.getElementById('5b814605-a9ad-4f4a-9088-e92bcbd2bd80');\n",
       "var x = new MutationObserver(function (mutations, observer) {{\n",
       "        var display = window.getComputedStyle(gd).display;\n",
       "        if (!display || display === 'none') {{\n",
       "            console.log([gd, 'removed!']);\n",
       "            Plotly.purge(gd);\n",
       "            observer.disconnect();\n",
       "        }}\n",
       "}});\n",
       "\n",
       "// Listen for the removal of the full notebook cells\n",
       "var notebookContainer = gd.closest('#notebook-container');\n",
       "if (notebookContainer) {{\n",
       "    x.observe(notebookContainer, {childList: true});\n",
       "}}\n",
       "\n",
       "// Listen for the clearing of the current output cell\n",
       "var outputEl = gd.closest('.output');\n",
       "if (outputEl) {{\n",
       "    x.observe(outputEl, {childList: true});\n",
       "}}\n",
       "\n",
       "                        })                };                });            </script>        </div>"
      ]
     },
     "metadata": {},
     "output_type": "display_data"
    }
   ],
   "source": [
    "px.bar(data,x=\"Manufacturer\", y=\"Sales_in_thousands\", color=\"Vehicle_type\", pattern_shape=\"Vehicle_type\", pattern_shape_sequence=[\".\", \"x\", \"+\"])\n"
   ]
  },
  {
   "cell_type": "code",
   "execution_count": 35,
   "id": "c6243cfe",
   "metadata": {},
   "outputs": [
    {
     "data": {
      "text/html": [
       "<div>\n",
       "<style scoped>\n",
       "    .dataframe tbody tr th:only-of-type {\n",
       "        vertical-align: middle;\n",
       "    }\n",
       "\n",
       "    .dataframe tbody tr th {\n",
       "        vertical-align: top;\n",
       "    }\n",
       "\n",
       "    .dataframe thead th {\n",
       "        text-align: right;\n",
       "    }\n",
       "</style>\n",
       "<table border=\"1\" class=\"dataframe\">\n",
       "  <thead>\n",
       "    <tr style=\"text-align: right;\">\n",
       "      <th></th>\n",
       "      <th>Manufacturer</th>\n",
       "      <th>Model</th>\n",
       "      <th>Sales_in_thousands</th>\n",
       "      <th>__year_resale_value</th>\n",
       "      <th>Vehicle_type</th>\n",
       "      <th>Price_in_thousands</th>\n",
       "      <th>Engine_size</th>\n",
       "      <th>Horsepower</th>\n",
       "      <th>Wheelbase</th>\n",
       "      <th>Width</th>\n",
       "      <th>Length</th>\n",
       "      <th>Curb_weight</th>\n",
       "      <th>Fuel_capacity</th>\n",
       "      <th>Fuel_efficiency</th>\n",
       "      <th>Latest_Launch</th>\n",
       "      <th>Power_perf_factor</th>\n",
       "    </tr>\n",
       "  </thead>\n",
       "  <tbody>\n",
       "    <tr>\n",
       "      <th>0</th>\n",
       "      <td>Acura</td>\n",
       "      <td>Integra</td>\n",
       "      <td>16.919</td>\n",
       "      <td>16.360</td>\n",
       "      <td>Passenger</td>\n",
       "      <td>21.50</td>\n",
       "      <td>1.8</td>\n",
       "      <td>140.0</td>\n",
       "      <td>101.2</td>\n",
       "      <td>67.3</td>\n",
       "      <td>172.4</td>\n",
       "      <td>2.639</td>\n",
       "      <td>13.2</td>\n",
       "      <td>28.0</td>\n",
       "      <td>2/2/2012</td>\n",
       "      <td>58.280150</td>\n",
       "    </tr>\n",
       "    <tr>\n",
       "      <th>1</th>\n",
       "      <td>Acura</td>\n",
       "      <td>TL</td>\n",
       "      <td>39.384</td>\n",
       "      <td>19.875</td>\n",
       "      <td>Passenger</td>\n",
       "      <td>28.40</td>\n",
       "      <td>3.2</td>\n",
       "      <td>225.0</td>\n",
       "      <td>108.1</td>\n",
       "      <td>70.3</td>\n",
       "      <td>192.9</td>\n",
       "      <td>3.517</td>\n",
       "      <td>17.2</td>\n",
       "      <td>25.0</td>\n",
       "      <td>6/3/2011</td>\n",
       "      <td>91.370778</td>\n",
       "    </tr>\n",
       "    <tr>\n",
       "      <th>3</th>\n",
       "      <td>Acura</td>\n",
       "      <td>RL</td>\n",
       "      <td>8.588</td>\n",
       "      <td>29.725</td>\n",
       "      <td>Passenger</td>\n",
       "      <td>42.00</td>\n",
       "      <td>3.5</td>\n",
       "      <td>210.0</td>\n",
       "      <td>114.6</td>\n",
       "      <td>71.4</td>\n",
       "      <td>196.6</td>\n",
       "      <td>3.850</td>\n",
       "      <td>18.0</td>\n",
       "      <td>22.0</td>\n",
       "      <td>3/10/2011</td>\n",
       "      <td>91.389779</td>\n",
       "    </tr>\n",
       "    <tr>\n",
       "      <th>4</th>\n",
       "      <td>Audi</td>\n",
       "      <td>A4</td>\n",
       "      <td>20.397</td>\n",
       "      <td>22.255</td>\n",
       "      <td>Passenger</td>\n",
       "      <td>23.99</td>\n",
       "      <td>1.8</td>\n",
       "      <td>150.0</td>\n",
       "      <td>102.6</td>\n",
       "      <td>68.2</td>\n",
       "      <td>178.0</td>\n",
       "      <td>2.998</td>\n",
       "      <td>16.4</td>\n",
       "      <td>27.0</td>\n",
       "      <td>10/8/2011</td>\n",
       "      <td>62.777639</td>\n",
       "    </tr>\n",
       "    <tr>\n",
       "      <th>5</th>\n",
       "      <td>Audi</td>\n",
       "      <td>A6</td>\n",
       "      <td>18.780</td>\n",
       "      <td>23.555</td>\n",
       "      <td>Passenger</td>\n",
       "      <td>33.95</td>\n",
       "      <td>2.8</td>\n",
       "      <td>200.0</td>\n",
       "      <td>108.7</td>\n",
       "      <td>76.1</td>\n",
       "      <td>192.0</td>\n",
       "      <td>3.561</td>\n",
       "      <td>18.5</td>\n",
       "      <td>22.0</td>\n",
       "      <td>8/9/2011</td>\n",
       "      <td>84.565105</td>\n",
       "    </tr>\n",
       "    <tr>\n",
       "      <th>6</th>\n",
       "      <td>Audi</td>\n",
       "      <td>A8</td>\n",
       "      <td>1.380</td>\n",
       "      <td>39.000</td>\n",
       "      <td>Passenger</td>\n",
       "      <td>62.00</td>\n",
       "      <td>4.2</td>\n",
       "      <td>310.0</td>\n",
       "      <td>113.0</td>\n",
       "      <td>74.0</td>\n",
       "      <td>198.2</td>\n",
       "      <td>3.902</td>\n",
       "      <td>23.7</td>\n",
       "      <td>21.0</td>\n",
       "      <td>2/27/2012</td>\n",
       "      <td>134.656858</td>\n",
       "    </tr>\n",
       "    <tr>\n",
       "      <th>145</th>\n",
       "      <td>Volkswagen</td>\n",
       "      <td>Golf</td>\n",
       "      <td>9.761</td>\n",
       "      <td>11.425</td>\n",
       "      <td>Passenger</td>\n",
       "      <td>14.90</td>\n",
       "      <td>2.0</td>\n",
       "      <td>115.0</td>\n",
       "      <td>98.9</td>\n",
       "      <td>68.3</td>\n",
       "      <td>163.3</td>\n",
       "      <td>2.767</td>\n",
       "      <td>14.5</td>\n",
       "      <td>26.0</td>\n",
       "      <td>1/24/2011</td>\n",
       "      <td>46.943877</td>\n",
       "    </tr>\n",
       "    <tr>\n",
       "      <th>146</th>\n",
       "      <td>Volkswagen</td>\n",
       "      <td>Jetta</td>\n",
       "      <td>83.721</td>\n",
       "      <td>13.240</td>\n",
       "      <td>Passenger</td>\n",
       "      <td>16.70</td>\n",
       "      <td>2.0</td>\n",
       "      <td>115.0</td>\n",
       "      <td>98.9</td>\n",
       "      <td>68.3</td>\n",
       "      <td>172.3</td>\n",
       "      <td>2.853</td>\n",
       "      <td>14.5</td>\n",
       "      <td>26.0</td>\n",
       "      <td>8/27/2011</td>\n",
       "      <td>47.638237</td>\n",
       "    </tr>\n",
       "    <tr>\n",
       "      <th>147</th>\n",
       "      <td>Volkswagen</td>\n",
       "      <td>Passat</td>\n",
       "      <td>51.102</td>\n",
       "      <td>16.725</td>\n",
       "      <td>Passenger</td>\n",
       "      <td>21.20</td>\n",
       "      <td>1.8</td>\n",
       "      <td>150.0</td>\n",
       "      <td>106.4</td>\n",
       "      <td>68.5</td>\n",
       "      <td>184.1</td>\n",
       "      <td>3.043</td>\n",
       "      <td>16.4</td>\n",
       "      <td>27.0</td>\n",
       "      <td>10/30/2012</td>\n",
       "      <td>61.701381</td>\n",
       "    </tr>\n",
       "    <tr>\n",
       "      <th>148</th>\n",
       "      <td>Volkswagen</td>\n",
       "      <td>Cabrio</td>\n",
       "      <td>9.569</td>\n",
       "      <td>16.575</td>\n",
       "      <td>Passenger</td>\n",
       "      <td>19.99</td>\n",
       "      <td>2.0</td>\n",
       "      <td>115.0</td>\n",
       "      <td>97.4</td>\n",
       "      <td>66.7</td>\n",
       "      <td>160.4</td>\n",
       "      <td>3.079</td>\n",
       "      <td>13.7</td>\n",
       "      <td>26.0</td>\n",
       "      <td>5/31/2011</td>\n",
       "      <td>48.907372</td>\n",
       "    </tr>\n",
       "    <tr>\n",
       "      <th>149</th>\n",
       "      <td>Volkswagen</td>\n",
       "      <td>GTI</td>\n",
       "      <td>5.596</td>\n",
       "      <td>13.760</td>\n",
       "      <td>Passenger</td>\n",
       "      <td>17.50</td>\n",
       "      <td>2.0</td>\n",
       "      <td>115.0</td>\n",
       "      <td>98.9</td>\n",
       "      <td>68.3</td>\n",
       "      <td>163.3</td>\n",
       "      <td>2.762</td>\n",
       "      <td>14.6</td>\n",
       "      <td>26.0</td>\n",
       "      <td>4/1/2011</td>\n",
       "      <td>47.946841</td>\n",
       "    </tr>\n",
       "  </tbody>\n",
       "</table>\n",
       "</div>"
      ],
      "text/plain": [
       "    Manufacturer    Model  Sales_in_thousands  __year_resale_value  \\\n",
       "0          Acura  Integra              16.919               16.360   \n",
       "1          Acura       TL              39.384               19.875   \n",
       "3          Acura       RL               8.588               29.725   \n",
       "4           Audi       A4              20.397               22.255   \n",
       "5           Audi       A6              18.780               23.555   \n",
       "6           Audi       A8               1.380               39.000   \n",
       "145   Volkswagen     Golf               9.761               11.425   \n",
       "146   Volkswagen    Jetta              83.721               13.240   \n",
       "147   Volkswagen   Passat              51.102               16.725   \n",
       "148   Volkswagen   Cabrio               9.569               16.575   \n",
       "149   Volkswagen      GTI               5.596               13.760   \n",
       "\n",
       "    Vehicle_type  Price_in_thousands  Engine_size  Horsepower  Wheelbase  \\\n",
       "0      Passenger               21.50          1.8       140.0      101.2   \n",
       "1      Passenger               28.40          3.2       225.0      108.1   \n",
       "3      Passenger               42.00          3.5       210.0      114.6   \n",
       "4      Passenger               23.99          1.8       150.0      102.6   \n",
       "5      Passenger               33.95          2.8       200.0      108.7   \n",
       "6      Passenger               62.00          4.2       310.0      113.0   \n",
       "145    Passenger               14.90          2.0       115.0       98.9   \n",
       "146    Passenger               16.70          2.0       115.0       98.9   \n",
       "147    Passenger               21.20          1.8       150.0      106.4   \n",
       "148    Passenger               19.99          2.0       115.0       97.4   \n",
       "149    Passenger               17.50          2.0       115.0       98.9   \n",
       "\n",
       "     Width  Length  Curb_weight  Fuel_capacity  Fuel_efficiency Latest_Launch  \\\n",
       "0     67.3   172.4        2.639           13.2             28.0      2/2/2012   \n",
       "1     70.3   192.9        3.517           17.2             25.0      6/3/2011   \n",
       "3     71.4   196.6        3.850           18.0             22.0     3/10/2011   \n",
       "4     68.2   178.0        2.998           16.4             27.0     10/8/2011   \n",
       "5     76.1   192.0        3.561           18.5             22.0      8/9/2011   \n",
       "6     74.0   198.2        3.902           23.7             21.0     2/27/2012   \n",
       "145   68.3   163.3        2.767           14.5             26.0     1/24/2011   \n",
       "146   68.3   172.3        2.853           14.5             26.0     8/27/2011   \n",
       "147   68.5   184.1        3.043           16.4             27.0    10/30/2012   \n",
       "148   66.7   160.4        3.079           13.7             26.0     5/31/2011   \n",
       "149   68.3   163.3        2.762           14.6             26.0      4/1/2011   \n",
       "\n",
       "     Power_perf_factor  \n",
       "0            58.280150  \n",
       "1            91.370778  \n",
       "3            91.389779  \n",
       "4            62.777639  \n",
       "5            84.565105  \n",
       "6           134.656858  \n",
       "145          46.943877  \n",
       "146          47.638237  \n",
       "147          61.701381  \n",
       "148          48.907372  \n",
       "149          47.946841  "
      ]
     },
     "execution_count": 35,
     "metadata": {},
     "output_type": "execute_result"
    }
   ],
   "source": [
    "data_m"
   ]
  },
  {
   "cell_type": "code",
   "execution_count": 36,
   "id": "997a88c3",
   "metadata": {},
   "outputs": [
    {
     "data": {
      "application/vnd.plotly.v1+json": {
       "config": {
        "plotlyServerURL": "https://plot.ly"
       },
       "data": [
        {
         "alignmentgroup": "True",
         "customdata": [
          [
           16.919,
           21.5,
           1.8
          ]
         ],
         "hovertemplate": "Model=Integra<br>Manufacturer=%{x}<br>__year_resale_value=%{y}<br>Sales_in_thousands=%{customdata[0]}<br>Price_in_thousands=%{customdata[1]}<br>Engine_size=%{customdata[2]}<extra></extra>",
         "legendgroup": "Integra",
         "marker": {
          "color": "#636efa",
          "pattern": {
           "shape": ""
          }
         },
         "name": "Integra",
         "offsetgroup": "Integra",
         "orientation": "v",
         "showlegend": true,
         "textposition": "auto",
         "type": "bar",
         "x": [
          "Acura"
         ],
         "xaxis": "x",
         "y": [
          16.36
         ],
         "yaxis": "y"
        },
        {
         "alignmentgroup": "True",
         "customdata": [
          [
           39.384,
           28.4,
           3.2
          ]
         ],
         "hovertemplate": "Model=TL<br>Manufacturer=%{x}<br>__year_resale_value=%{y}<br>Sales_in_thousands=%{customdata[0]}<br>Price_in_thousands=%{customdata[1]}<br>Engine_size=%{customdata[2]}<extra></extra>",
         "legendgroup": "TL",
         "marker": {
          "color": "#EF553B",
          "pattern": {
           "shape": ""
          }
         },
         "name": "TL",
         "offsetgroup": "TL",
         "orientation": "v",
         "showlegend": true,
         "textposition": "auto",
         "type": "bar",
         "x": [
          "Acura"
         ],
         "xaxis": "x",
         "y": [
          19.875
         ],
         "yaxis": "y"
        },
        {
         "alignmentgroup": "True",
         "customdata": [
          [
           8.588,
           42,
           3.5
          ]
         ],
         "hovertemplate": "Model=RL<br>Manufacturer=%{x}<br>__year_resale_value=%{y}<br>Sales_in_thousands=%{customdata[0]}<br>Price_in_thousands=%{customdata[1]}<br>Engine_size=%{customdata[2]}<extra></extra>",
         "legendgroup": "RL",
         "marker": {
          "color": "#00cc96",
          "pattern": {
           "shape": ""
          }
         },
         "name": "RL",
         "offsetgroup": "RL",
         "orientation": "v",
         "showlegend": true,
         "textposition": "auto",
         "type": "bar",
         "x": [
          "Acura"
         ],
         "xaxis": "x",
         "y": [
          29.725
         ],
         "yaxis": "y"
        },
        {
         "alignmentgroup": "True",
         "customdata": [
          [
           20.397,
           23.99,
           1.8
          ]
         ],
         "hovertemplate": "Model=A4<br>Manufacturer=%{x}<br>__year_resale_value=%{y}<br>Sales_in_thousands=%{customdata[0]}<br>Price_in_thousands=%{customdata[1]}<br>Engine_size=%{customdata[2]}<extra></extra>",
         "legendgroup": "A4",
         "marker": {
          "color": "#ab63fa",
          "pattern": {
           "shape": ""
          }
         },
         "name": "A4",
         "offsetgroup": "A4",
         "orientation": "v",
         "showlegend": true,
         "textposition": "auto",
         "type": "bar",
         "x": [
          "Audi"
         ],
         "xaxis": "x",
         "y": [
          22.255
         ],
         "yaxis": "y"
        },
        {
         "alignmentgroup": "True",
         "customdata": [
          [
           18.78,
           33.95,
           2.8
          ]
         ],
         "hovertemplate": "Model=A6<br>Manufacturer=%{x}<br>__year_resale_value=%{y}<br>Sales_in_thousands=%{customdata[0]}<br>Price_in_thousands=%{customdata[1]}<br>Engine_size=%{customdata[2]}<extra></extra>",
         "legendgroup": "A6",
         "marker": {
          "color": "#FFA15A",
          "pattern": {
           "shape": ""
          }
         },
         "name": "A6",
         "offsetgroup": "A6",
         "orientation": "v",
         "showlegend": true,
         "textposition": "auto",
         "type": "bar",
         "x": [
          "Audi"
         ],
         "xaxis": "x",
         "y": [
          23.555
         ],
         "yaxis": "y"
        },
        {
         "alignmentgroup": "True",
         "customdata": [
          [
           1.38,
           62,
           4.2
          ]
         ],
         "hovertemplate": "Model=A8<br>Manufacturer=%{x}<br>__year_resale_value=%{y}<br>Sales_in_thousands=%{customdata[0]}<br>Price_in_thousands=%{customdata[1]}<br>Engine_size=%{customdata[2]}<extra></extra>",
         "legendgroup": "A8",
         "marker": {
          "color": "#19d3f3",
          "pattern": {
           "shape": ""
          }
         },
         "name": "A8",
         "offsetgroup": "A8",
         "orientation": "v",
         "showlegend": true,
         "textposition": "auto",
         "type": "bar",
         "x": [
          "Audi"
         ],
         "xaxis": "x",
         "y": [
          39
         ],
         "yaxis": "y"
        },
        {
         "alignmentgroup": "True",
         "customdata": [
          [
           9.231,
           33.4,
           2.8
          ]
         ],
         "hovertemplate": "Model=328i<br>Manufacturer=%{x}<br>__year_resale_value=%{y}<br>Sales_in_thousands=%{customdata[0]}<br>Price_in_thousands=%{customdata[1]}<br>Engine_size=%{customdata[2]}<extra></extra>",
         "legendgroup": "328i",
         "marker": {
          "color": "#FF6692",
          "pattern": {
           "shape": ""
          }
         },
         "name": "328i",
         "offsetgroup": "328i",
         "orientation": "v",
         "showlegend": true,
         "textposition": "auto",
         "type": "bar",
         "x": [
          "BMW"
         ],
         "xaxis": "x",
         "y": [
          28.675
         ],
         "yaxis": "y"
        },
        {
         "alignmentgroup": "True",
         "customdata": [
          [
           17.527,
           38.9,
           2.8
          ]
         ],
         "hovertemplate": "Model=528i<br>Manufacturer=%{x}<br>__year_resale_value=%{y}<br>Sales_in_thousands=%{customdata[0]}<br>Price_in_thousands=%{customdata[1]}<br>Engine_size=%{customdata[2]}<extra></extra>",
         "legendgroup": "528i",
         "marker": {
          "color": "#B6E880",
          "pattern": {
           "shape": ""
          }
         },
         "name": "528i",
         "offsetgroup": "528i",
         "orientation": "v",
         "showlegend": true,
         "textposition": "auto",
         "type": "bar",
         "x": [
          "BMW"
         ],
         "xaxis": "x",
         "y": [
          36.125
         ],
         "yaxis": "y"
        },
        {
         "alignmentgroup": "True",
         "customdata": [
          [
           91.561,
           21.975,
           3.1
          ]
         ],
         "hovertemplate": "Model=Century<br>Manufacturer=%{x}<br>__year_resale_value=%{y}<br>Sales_in_thousands=%{customdata[0]}<br>Price_in_thousands=%{customdata[1]}<br>Engine_size=%{customdata[2]}<extra></extra>",
         "legendgroup": "Century",
         "marker": {
          "color": "#FF97FF",
          "pattern": {
           "shape": ""
          }
         },
         "name": "Century",
         "offsetgroup": "Century",
         "orientation": "v",
         "showlegend": true,
         "textposition": "auto",
         "type": "bar",
         "x": [
          "Buick"
         ],
         "xaxis": "x",
         "y": [
          12.475
         ],
         "yaxis": "y"
        },
        {
         "alignmentgroup": "True",
         "customdata": [
          [
           39.35,
           25.3,
           3.8
          ]
         ],
         "hovertemplate": "Model=Regal<br>Manufacturer=%{x}<br>__year_resale_value=%{y}<br>Sales_in_thousands=%{customdata[0]}<br>Price_in_thousands=%{customdata[1]}<br>Engine_size=%{customdata[2]}<extra></extra>",
         "legendgroup": "Regal",
         "marker": {
          "color": "#FECB52",
          "pattern": {
           "shape": ""
          }
         },
         "name": "Regal",
         "offsetgroup": "Regal",
         "orientation": "v",
         "showlegend": true,
         "textposition": "auto",
         "type": "bar",
         "x": [
          "Buick"
         ],
         "xaxis": "x",
         "y": [
          13.74
         ],
         "yaxis": "y"
        },
        {
         "alignmentgroup": "True",
         "customdata": [
          [
           27.851,
           31.965,
           3.8
          ]
         ],
         "hovertemplate": "Model=Park Avenue<br>Manufacturer=%{x}<br>__year_resale_value=%{y}<br>Sales_in_thousands=%{customdata[0]}<br>Price_in_thousands=%{customdata[1]}<br>Engine_size=%{customdata[2]}<extra></extra>",
         "legendgroup": "Park Avenue",
         "marker": {
          "color": "#636efa",
          "pattern": {
           "shape": ""
          }
         },
         "name": "Park Avenue",
         "offsetgroup": "Park Avenue",
         "orientation": "v",
         "showlegend": true,
         "textposition": "auto",
         "type": "bar",
         "x": [
          "Buick"
         ],
         "xaxis": "x",
         "y": [
          20.19
         ],
         "yaxis": "y"
        },
        {
         "alignmentgroup": "True",
         "customdata": [
          [
           83.257,
           27.885,
           3.8
          ]
         ],
         "hovertemplate": "Model=LeSabre<br>Manufacturer=%{x}<br>__year_resale_value=%{y}<br>Sales_in_thousands=%{customdata[0]}<br>Price_in_thousands=%{customdata[1]}<br>Engine_size=%{customdata[2]}<extra></extra>",
         "legendgroup": "LeSabre",
         "marker": {
          "color": "#EF553B",
          "pattern": {
           "shape": ""
          }
         },
         "name": "LeSabre",
         "offsetgroup": "LeSabre",
         "orientation": "v",
         "showlegend": true,
         "textposition": "auto",
         "type": "bar",
         "x": [
          "Buick"
         ],
         "xaxis": "x",
         "y": [
          13.36
         ],
         "yaxis": "y"
        },
        {
         "alignmentgroup": "True",
         "customdata": [
          [
           63.729,
           39.895,
           4.6
          ]
         ],
         "hovertemplate": "Model=DeVille<br>Manufacturer=%{x}<br>__year_resale_value=%{y}<br>Sales_in_thousands=%{customdata[0]}<br>Price_in_thousands=%{customdata[1]}<br>Engine_size=%{customdata[2]}<extra></extra>",
         "legendgroup": "DeVille",
         "marker": {
          "color": "#00cc96",
          "pattern": {
           "shape": ""
          }
         },
         "name": "DeVille",
         "offsetgroup": "DeVille",
         "orientation": "v",
         "showlegend": true,
         "textposition": "auto",
         "type": "bar",
         "x": [
          "Cadillac"
         ],
         "xaxis": "x",
         "y": [
          22.525
         ],
         "yaxis": "y"
        },
        {
         "alignmentgroup": "True",
         "customdata": [
          [
           6.536,
           39.665,
           4.6
          ]
         ],
         "hovertemplate": "Model=Eldorado<br>Manufacturer=%{x}<br>__year_resale_value=%{y}<br>Sales_in_thousands=%{customdata[0]}<br>Price_in_thousands=%{customdata[1]}<br>Engine_size=%{customdata[2]}<extra></extra>",
         "legendgroup": "Eldorado",
         "marker": {
          "color": "#ab63fa",
          "pattern": {
           "shape": ""
          }
         },
         "name": "Eldorado",
         "offsetgroup": "Eldorado",
         "orientation": "v",
         "showlegend": true,
         "textposition": "auto",
         "type": "bar",
         "x": [
          "Cadillac"
         ],
         "xaxis": "x",
         "y": [
          25.725
         ],
         "yaxis": "y"
        },
        {
         "alignmentgroup": "True",
         "customdata": [
          [
           11.185,
           31.01,
           3
          ]
         ],
         "hovertemplate": "Model=Catera<br>Manufacturer=%{x}<br>__year_resale_value=%{y}<br>Sales_in_thousands=%{customdata[0]}<br>Price_in_thousands=%{customdata[1]}<br>Engine_size=%{customdata[2]}<extra></extra>",
         "legendgroup": "Catera",
         "marker": {
          "color": "#FFA15A",
          "pattern": {
           "shape": ""
          }
         },
         "name": "Catera",
         "offsetgroup": "Catera",
         "orientation": "v",
         "showlegend": true,
         "textposition": "auto",
         "type": "bar",
         "x": [
          "Cadillac"
         ],
         "xaxis": "x",
         "y": [
          18.225
         ],
         "yaxis": "y"
        },
        {
         "alignmentgroup": "True",
         "customdata": [
          [
           145.519,
           13.26,
           2.2
          ]
         ],
         "hovertemplate": "Model=Cavalier<br>Manufacturer=%{x}<br>__year_resale_value=%{y}<br>Sales_in_thousands=%{customdata[0]}<br>Price_in_thousands=%{customdata[1]}<br>Engine_size=%{customdata[2]}<extra></extra>",
         "legendgroup": "Cavalier",
         "marker": {
          "color": "#19d3f3",
          "pattern": {
           "shape": ""
          }
         },
         "name": "Cavalier",
         "offsetgroup": "Cavalier",
         "orientation": "v",
         "showlegend": true,
         "textposition": "auto",
         "type": "bar",
         "x": [
          "Chevrolet"
         ],
         "xaxis": "x",
         "y": [
          9.25
         ],
         "yaxis": "y"
        },
        {
         "alignmentgroup": "True",
         "customdata": [
          [
           135.126,
           16.535,
           3.1
          ]
         ],
         "hovertemplate": "Model=Malibu<br>Manufacturer=%{x}<br>__year_resale_value=%{y}<br>Sales_in_thousands=%{customdata[0]}<br>Price_in_thousands=%{customdata[1]}<br>Engine_size=%{customdata[2]}<extra></extra>",
         "legendgroup": "Malibu",
         "marker": {
          "color": "#FF6692",
          "pattern": {
           "shape": ""
          }
         },
         "name": "Malibu",
         "offsetgroup": "Malibu",
         "orientation": "v",
         "showlegend": true,
         "textposition": "auto",
         "type": "bar",
         "x": [
          "Chevrolet"
         ],
         "xaxis": "x",
         "y": [
          11.225
         ],
         "yaxis": "y"
        },
        {
         "alignmentgroup": "True",
         "customdata": [
          [
           24.629,
           18.89,
           3.1
          ]
         ],
         "hovertemplate": "Model=Lumina<br>Manufacturer=%{x}<br>__year_resale_value=%{y}<br>Sales_in_thousands=%{customdata[0]}<br>Price_in_thousands=%{customdata[1]}<br>Engine_size=%{customdata[2]}<extra></extra>",
         "legendgroup": "Lumina",
         "marker": {
          "color": "#B6E880",
          "pattern": {
           "shape": ""
          }
         },
         "name": "Lumina",
         "offsetgroup": "Lumina",
         "orientation": "v",
         "showlegend": true,
         "textposition": "auto",
         "type": "bar",
         "x": [
          "Chevrolet"
         ],
         "xaxis": "x",
         "y": [
          10.31
         ],
         "yaxis": "y"
        },
        {
         "alignmentgroup": "True",
         "customdata": [
          [
           42.593,
           19.39,
           3.4
          ]
         ],
         "hovertemplate": "Model=Monte Carlo<br>Manufacturer=%{x}<br>__year_resale_value=%{y}<br>Sales_in_thousands=%{customdata[0]}<br>Price_in_thousands=%{customdata[1]}<br>Engine_size=%{customdata[2]}<extra></extra>",
         "legendgroup": "Monte Carlo",
         "marker": {
          "color": "#FF97FF",
          "pattern": {
           "shape": ""
          }
         },
         "name": "Monte Carlo",
         "offsetgroup": "Monte Carlo",
         "orientation": "v",
         "showlegend": true,
         "textposition": "auto",
         "type": "bar",
         "x": [
          "Chevrolet"
         ],
         "xaxis": "x",
         "y": [
          11.525
         ],
         "yaxis": "y"
        },
        {
         "alignmentgroup": "True",
         "customdata": [
          [
           26.402,
           24.34,
           3.8
          ]
         ],
         "hovertemplate": "Model=Camaro<br>Manufacturer=%{x}<br>__year_resale_value=%{y}<br>Sales_in_thousands=%{customdata[0]}<br>Price_in_thousands=%{customdata[1]}<br>Engine_size=%{customdata[2]}<extra></extra>",
         "legendgroup": "Camaro",
         "marker": {
          "color": "#FECB52",
          "pattern": {
           "shape": ""
          }
         },
         "name": "Camaro",
         "offsetgroup": "Camaro",
         "orientation": "v",
         "showlegend": true,
         "textposition": "auto",
         "type": "bar",
         "x": [
          "Chevrolet"
         ],
         "xaxis": "x",
         "y": [
          13.025
         ],
         "yaxis": "y"
        },
        {
         "alignmentgroup": "True",
         "customdata": [
          [
           17.947,
           45.705,
           5.7
          ]
         ],
         "hovertemplate": "Model=Corvette<br>Manufacturer=%{x}<br>__year_resale_value=%{y}<br>Sales_in_thousands=%{customdata[0]}<br>Price_in_thousands=%{customdata[1]}<br>Engine_size=%{customdata[2]}<extra></extra>",
         "legendgroup": "Corvette",
         "marker": {
          "color": "#636efa",
          "pattern": {
           "shape": ""
          }
         },
         "name": "Corvette",
         "offsetgroup": "Corvette",
         "orientation": "v",
         "showlegend": true,
         "textposition": "auto",
         "type": "bar",
         "x": [
          "Chevrolet"
         ],
         "xaxis": "x",
         "y": [
          36.225
         ],
         "yaxis": "y"
        },
        {
         "alignmentgroup": "True",
         "customdata": [
          [
           32.299,
           13.96,
           1.8
          ]
         ],
         "hovertemplate": "Model=Prizm<br>Manufacturer=%{x}<br>__year_resale_value=%{y}<br>Sales_in_thousands=%{customdata[0]}<br>Price_in_thousands=%{customdata[1]}<br>Engine_size=%{customdata[2]}<extra></extra>",
         "legendgroup": "Prizm",
         "marker": {
          "color": "#EF553B",
          "pattern": {
           "shape": ""
          }
         },
         "name": "Prizm",
         "offsetgroup": "Prizm",
         "orientation": "v",
         "showlegend": true,
         "textposition": "auto",
         "type": "bar",
         "x": [
          "Chevrolet"
         ],
         "xaxis": "x",
         "y": [
          9.125
         ],
         "yaxis": "y"
        },
        {
         "alignmentgroup": "True",
         "customdata": [
          [
           21.855,
           9.235,
           1
          ]
         ],
         "hovertemplate": "Model=Metro<br>Manufacturer=%{x}<br>__year_resale_value=%{y}<br>Sales_in_thousands=%{customdata[0]}<br>Price_in_thousands=%{customdata[1]}<br>Engine_size=%{customdata[2]}<extra></extra>",
         "legendgroup": "Metro",
         "marker": {
          "color": "#00cc96",
          "pattern": {
           "shape": ""
          }
         },
         "name": "Metro",
         "offsetgroup": "Metro",
         "orientation": "v",
         "showlegend": true,
         "textposition": "auto",
         "type": "bar",
         "x": [
          "Chevrolet"
         ],
         "xaxis": "x",
         "y": [
          5.16
         ],
         "yaxis": "y"
        },
        {
         "alignmentgroup": "True",
         "customdata": [
          [
           7.854,
           19.84,
           2.5
          ]
         ],
         "hovertemplate": "Model=Sebring Coupe<br>Manufacturer=%{x}<br>__year_resale_value=%{y}<br>Sales_in_thousands=%{customdata[0]}<br>Price_in_thousands=%{customdata[1]}<br>Engine_size=%{customdata[2]}<extra></extra>",
         "legendgroup": "Sebring Coupe",
         "marker": {
          "color": "#ab63fa",
          "pattern": {
           "shape": ""
          }
         },
         "name": "Sebring Coupe",
         "offsetgroup": "Sebring Coupe",
         "orientation": "v",
         "showlegend": true,
         "textposition": "auto",
         "type": "bar",
         "x": [
          "Chrysler"
         ],
         "xaxis": "x",
         "y": [
          12.36
         ],
         "yaxis": "y"
        },
        {
         "alignmentgroup": "True",
         "customdata": [
          [
           32.775,
           24.495,
           2.5
          ]
         ],
         "hovertemplate": "Model=Sebring Conv.<br>Manufacturer=%{x}<br>__year_resale_value=%{y}<br>Sales_in_thousands=%{customdata[0]}<br>Price_in_thousands=%{customdata[1]}<br>Engine_size=%{customdata[2]}<extra></extra>",
         "legendgroup": "Sebring Conv.",
         "marker": {
          "color": "#FFA15A",
          "pattern": {
           "shape": ""
          }
         },
         "name": "Sebring Conv.",
         "offsetgroup": "Sebring Conv.",
         "orientation": "v",
         "showlegend": true,
         "textposition": "auto",
         "type": "bar",
         "x": [
          "Chrysler"
         ],
         "xaxis": "x",
         "y": [
          14.18
         ],
         "yaxis": "y"
        },
        {
         "alignmentgroup": "True",
         "customdata": [
          [
           31.148,
           22.245,
           2.7
          ]
         ],
         "hovertemplate": "Model=Concorde<br>Manufacturer=%{x}<br>__year_resale_value=%{y}<br>Sales_in_thousands=%{customdata[0]}<br>Price_in_thousands=%{customdata[1]}<br>Engine_size=%{customdata[2]}<extra></extra>",
         "legendgroup": "Concorde",
         "marker": {
          "color": "#19d3f3",
          "pattern": {
           "shape": ""
          }
         },
         "name": "Concorde",
         "offsetgroup": "Concorde",
         "orientation": "v",
         "showlegend": true,
         "textposition": "auto",
         "type": "bar",
         "x": [
          "Chrysler"
         ],
         "xaxis": "x",
         "y": [
          13.725
         ],
         "yaxis": "y"
        },
        {
         "alignmentgroup": "True",
         "customdata": [
          [
           32.306,
           16.48,
           2
          ]
         ],
         "hovertemplate": "Model=Cirrus<br>Manufacturer=%{x}<br>__year_resale_value=%{y}<br>Sales_in_thousands=%{customdata[0]}<br>Price_in_thousands=%{customdata[1]}<br>Engine_size=%{customdata[2]}<extra></extra>",
         "legendgroup": "Cirrus",
         "marker": {
          "color": "#FF6692",
          "pattern": {
           "shape": ""
          }
         },
         "name": "Cirrus",
         "offsetgroup": "Cirrus",
         "orientation": "v",
         "showlegend": true,
         "textposition": "auto",
         "type": "bar",
         "x": [
          "Chrysler"
         ],
         "xaxis": "x",
         "y": [
          12.64
         ],
         "yaxis": "y"
        },
        {
         "alignmentgroup": "True",
         "customdata": [
          [
           13.462,
           28.34,
           3.5
          ]
         ],
         "hovertemplate": "Model=LHS<br>Manufacturer=%{x}<br>__year_resale_value=%{y}<br>Sales_in_thousands=%{customdata[0]}<br>Price_in_thousands=%{customdata[1]}<br>Engine_size=%{customdata[2]}<extra></extra>",
         "legendgroup": "LHS",
         "marker": {
          "color": "#B6E880",
          "pattern": {
           "shape": ""
          }
         },
         "name": "LHS",
         "offsetgroup": "LHS",
         "orientation": "v",
         "showlegend": true,
         "textposition": "auto",
         "type": "bar",
         "x": [
          "Chrysler"
         ],
         "xaxis": "x",
         "y": [
          17.325
         ],
         "yaxis": "y"
        },
        {
         "alignmentgroup": "True",
         "customdata": [
          [
           76.034,
           12.64,
           2
          ],
          [
           32.734,
           12.64,
           2
          ]
         ],
         "hovertemplate": "Model=Neon<br>Manufacturer=%{x}<br>__year_resale_value=%{y}<br>Sales_in_thousands=%{customdata[0]}<br>Price_in_thousands=%{customdata[1]}<br>Engine_size=%{customdata[2]}<extra></extra>",
         "legendgroup": "Neon",
         "marker": {
          "color": "#FF97FF",
          "pattern": {
           "shape": ""
          }
         },
         "name": "Neon",
         "offsetgroup": "Neon",
         "orientation": "v",
         "showlegend": true,
         "textposition": "auto",
         "type": "bar",
         "x": [
          "Dodge",
          "Plymouth"
         ],
         "xaxis": "x",
         "y": [
          7.75,
          7.75
         ],
         "yaxis": "y"
        },
        {
         "alignmentgroup": "True",
         "customdata": [
          [
           4.734,
           19.045,
           2.5
          ]
         ],
         "hovertemplate": "Model=Avenger<br>Manufacturer=%{x}<br>__year_resale_value=%{y}<br>Sales_in_thousands=%{customdata[0]}<br>Price_in_thousands=%{customdata[1]}<br>Engine_size=%{customdata[2]}<extra></extra>",
         "legendgroup": "Avenger",
         "marker": {
          "color": "#FECB52",
          "pattern": {
           "shape": ""
          }
         },
         "name": "Avenger",
         "offsetgroup": "Avenger",
         "orientation": "v",
         "showlegend": true,
         "textposition": "auto",
         "type": "bar",
         "x": [
          "Dodge"
         ],
         "xaxis": "x",
         "y": [
          12.545
         ],
         "yaxis": "y"
        },
        {
         "alignmentgroup": "True",
         "customdata": [
          [
           71.186,
           20.23,
           2.5
          ]
         ],
         "hovertemplate": "Model=Stratus<br>Manufacturer=%{x}<br>__year_resale_value=%{y}<br>Sales_in_thousands=%{customdata[0]}<br>Price_in_thousands=%{customdata[1]}<br>Engine_size=%{customdata[2]}<extra></extra>",
         "legendgroup": "Stratus",
         "marker": {
          "color": "#636efa",
          "pattern": {
           "shape": ""
          }
         },
         "name": "Stratus",
         "offsetgroup": "Stratus",
         "orientation": "v",
         "showlegend": true,
         "textposition": "auto",
         "type": "bar",
         "x": [
          "Dodge"
         ],
         "xaxis": "x",
         "y": [
          10.185
         ],
         "yaxis": "y"
        },
        {
         "alignmentgroup": "True",
         "customdata": [
          [
           0.916,
           69.725,
           8
          ]
         ],
         "hovertemplate": "Model=Viper<br>Manufacturer=%{x}<br>__year_resale_value=%{y}<br>Sales_in_thousands=%{customdata[0]}<br>Price_in_thousands=%{customdata[1]}<br>Engine_size=%{customdata[2]}<extra></extra>",
         "legendgroup": "Viper",
         "marker": {
          "color": "#EF553B",
          "pattern": {
           "shape": ""
          }
         },
         "name": "Viper",
         "offsetgroup": "Viper",
         "orientation": "v",
         "showlegend": true,
         "textposition": "auto",
         "type": "bar",
         "x": [
          "Dodge"
         ],
         "xaxis": "x",
         "y": [
          58.47
         ],
         "yaxis": "y"
        },
        {
         "alignmentgroup": "True",
         "customdata": [
          [
           227.061,
           19.46,
           5.2
          ]
         ],
         "hovertemplate": "Model=Ram Pickup<br>Manufacturer=%{x}<br>__year_resale_value=%{y}<br>Sales_in_thousands=%{customdata[0]}<br>Price_in_thousands=%{customdata[1]}<br>Engine_size=%{customdata[2]}<extra></extra>",
         "legendgroup": "Ram Pickup",
         "marker": {
          "color": "#00cc96",
          "pattern": {
           "shape": ""
          }
         },
         "name": "Ram Pickup",
         "offsetgroup": "Ram Pickup",
         "orientation": "v",
         "showlegend": true,
         "textposition": "auto",
         "type": "bar",
         "x": [
          "Dodge"
         ],
         "xaxis": "x",
         "y": [
          15.06
         ],
         "yaxis": "y"
        },
        {
         "alignmentgroup": "True",
         "customdata": [
          [
           16.767,
           21.315,
           3.9
          ]
         ],
         "hovertemplate": "Model=Ram Wagon<br>Manufacturer=%{x}<br>__year_resale_value=%{y}<br>Sales_in_thousands=%{customdata[0]}<br>Price_in_thousands=%{customdata[1]}<br>Engine_size=%{customdata[2]}<extra></extra>",
         "legendgroup": "Ram Wagon",
         "marker": {
          "color": "#ab63fa",
          "pattern": {
           "shape": ""
          }
         },
         "name": "Ram Wagon",
         "offsetgroup": "Ram Wagon",
         "orientation": "v",
         "showlegend": true,
         "textposition": "auto",
         "type": "bar",
         "x": [
          "Dodge"
         ],
         "xaxis": "x",
         "y": [
          15.51
         ],
         "yaxis": "y"
        },
        {
         "alignmentgroup": "True",
         "customdata": [
          [
           31.038,
           18.575,
           3.9
          ]
         ],
         "hovertemplate": "Model=Ram Van<br>Manufacturer=%{x}<br>__year_resale_value=%{y}<br>Sales_in_thousands=%{customdata[0]}<br>Price_in_thousands=%{customdata[1]}<br>Engine_size=%{customdata[2]}<extra></extra>",
         "legendgroup": "Ram Van",
         "marker": {
          "color": "#FFA15A",
          "pattern": {
           "shape": ""
          }
         },
         "name": "Ram Van",
         "offsetgroup": "Ram Van",
         "orientation": "v",
         "showlegend": true,
         "textposition": "auto",
         "type": "bar",
         "x": [
          "Dodge"
         ],
         "xaxis": "x",
         "y": [
          13.425
         ],
         "yaxis": "y"
        },
        {
         "alignmentgroup": "True",
         "customdata": [
          [
           111.313,
           16.98,
           2.5
          ]
         ],
         "hovertemplate": "Model=Dakota<br>Manufacturer=%{x}<br>__year_resale_value=%{y}<br>Sales_in_thousands=%{customdata[0]}<br>Price_in_thousands=%{customdata[1]}<br>Engine_size=%{customdata[2]}<extra></extra>",
         "legendgroup": "Dakota",
         "marker": {
          "color": "#19d3f3",
          "pattern": {
           "shape": ""
          }
         },
         "name": "Dakota",
         "offsetgroup": "Dakota",
         "orientation": "v",
         "showlegend": true,
         "textposition": "auto",
         "type": "bar",
         "x": [
          "Dodge"
         ],
         "xaxis": "x",
         "y": [
          11.26
         ],
         "yaxis": "y"
        },
        {
         "alignmentgroup": "True",
         "customdata": [
          [
           181.749,
           19.565,
           2.4
          ]
         ],
         "hovertemplate": "Model=Caravan<br>Manufacturer=%{x}<br>__year_resale_value=%{y}<br>Sales_in_thousands=%{customdata[0]}<br>Price_in_thousands=%{customdata[1]}<br>Engine_size=%{customdata[2]}<extra></extra>",
         "legendgroup": "Caravan",
         "marker": {
          "color": "#FF6692",
          "pattern": {
           "shape": ""
          }
         },
         "name": "Caravan",
         "offsetgroup": "Caravan",
         "orientation": "v",
         "showlegend": true,
         "textposition": "auto",
         "type": "bar",
         "x": [
          "Dodge"
         ],
         "xaxis": "x",
         "y": [
          12.025
         ],
         "yaxis": "y"
        },
        {
         "alignmentgroup": "True",
         "customdata": [
          [
           70.227,
           12.07,
           2
          ]
         ],
         "hovertemplate": "Model=Escort<br>Manufacturer=%{x}<br>__year_resale_value=%{y}<br>Sales_in_thousands=%{customdata[0]}<br>Price_in_thousands=%{customdata[1]}<br>Engine_size=%{customdata[2]}<extra></extra>",
         "legendgroup": "Escort",
         "marker": {
          "color": "#B6E880",
          "pattern": {
           "shape": ""
          }
         },
         "name": "Escort",
         "offsetgroup": "Escort",
         "orientation": "v",
         "showlegend": true,
         "textposition": "auto",
         "type": "bar",
         "x": [
          "Ford"
         ],
         "xaxis": "x",
         "y": [
          7.425
         ],
         "yaxis": "y"
        },
        {
         "alignmentgroup": "True",
         "customdata": [
          [
           113.369,
           21.56,
           3.8
          ]
         ],
         "hovertemplate": "Model=Mustang<br>Manufacturer=%{x}<br>__year_resale_value=%{y}<br>Sales_in_thousands=%{customdata[0]}<br>Price_in_thousands=%{customdata[1]}<br>Engine_size=%{customdata[2]}<extra></extra>",
         "legendgroup": "Mustang",
         "marker": {
          "color": "#FF97FF",
          "pattern": {
           "shape": ""
          }
         },
         "name": "Mustang",
         "offsetgroup": "Mustang",
         "orientation": "v",
         "showlegend": true,
         "textposition": "auto",
         "type": "bar",
         "x": [
          "Ford"
         ],
         "xaxis": "x",
         "y": [
          12.76
         ],
         "yaxis": "y"
        },
        {
         "alignmentgroup": "True",
         "customdata": [
          [
           35.068,
           17.035,
           2.5
          ]
         ],
         "hovertemplate": "Model=Contour<br>Manufacturer=%{x}<br>__year_resale_value=%{y}<br>Sales_in_thousands=%{customdata[0]}<br>Price_in_thousands=%{customdata[1]}<br>Engine_size=%{customdata[2]}<extra></extra>",
         "legendgroup": "Contour",
         "marker": {
          "color": "#FECB52",
          "pattern": {
           "shape": ""
          }
         },
         "name": "Contour",
         "offsetgroup": "Contour",
         "orientation": "v",
         "showlegend": true,
         "textposition": "auto",
         "type": "bar",
         "x": [
          "Ford"
         ],
         "xaxis": "x",
         "y": [
          8.835
         ],
         "yaxis": "y"
        },
        {
         "alignmentgroup": "True",
         "customdata": [
          [
           245.815,
           17.885,
           3
          ]
         ],
         "hovertemplate": "Model=Taurus<br>Manufacturer=%{x}<br>__year_resale_value=%{y}<br>Sales_in_thousands=%{customdata[0]}<br>Price_in_thousands=%{customdata[1]}<br>Engine_size=%{customdata[2]}<extra></extra>",
         "legendgroup": "Taurus",
         "marker": {
          "color": "#636efa",
          "pattern": {
           "shape": ""
          }
         },
         "name": "Taurus",
         "offsetgroup": "Taurus",
         "orientation": "v",
         "showlegend": true,
         "textposition": "auto",
         "type": "bar",
         "x": [
          "Ford"
         ],
         "xaxis": "x",
         "y": [
          10.055
         ],
         "yaxis": "y"
        },
        {
         "alignmentgroup": "True",
         "customdata": [
          [
           63.403,
           22.195,
           4.6
          ]
         ],
         "hovertemplate": "Model=Crown Victoria<br>Manufacturer=%{x}<br>__year_resale_value=%{y}<br>Sales_in_thousands=%{customdata[0]}<br>Price_in_thousands=%{customdata[1]}<br>Engine_size=%{customdata[2]}<extra></extra>",
         "legendgroup": "Crown Victoria",
         "marker": {
          "color": "#EF553B",
          "pattern": {
           "shape": ""
          }
         },
         "name": "Crown Victoria",
         "offsetgroup": "Crown Victoria",
         "orientation": "v",
         "showlegend": true,
         "textposition": "auto",
         "type": "bar",
         "x": [
          "Ford"
         ],
         "xaxis": "x",
         "y": [
          14.21
         ],
         "yaxis": "y"
        },
        {
         "alignmentgroup": "True",
         "customdata": [
          [
           276.747,
           31.93,
           4
          ]
         ],
         "hovertemplate": "Model=Explorer<br>Manufacturer=%{x}<br>__year_resale_value=%{y}<br>Sales_in_thousands=%{customdata[0]}<br>Price_in_thousands=%{customdata[1]}<br>Engine_size=%{customdata[2]}<extra></extra>",
         "legendgroup": "Explorer",
         "marker": {
          "color": "#00cc96",
          "pattern": {
           "shape": ""
          }
         },
         "name": "Explorer",
         "offsetgroup": "Explorer",
         "orientation": "v",
         "showlegend": true,
         "textposition": "auto",
         "type": "bar",
         "x": [
          "Ford"
         ],
         "xaxis": "x",
         "y": [
          16.64
         ],
         "yaxis": "y"
        },
        {
         "alignmentgroup": "True",
         "customdata": [
          [
           155.787,
           21.41,
           3
          ]
         ],
         "hovertemplate": "Model=Windstar<br>Manufacturer=%{x}<br>__year_resale_value=%{y}<br>Sales_in_thousands=%{customdata[0]}<br>Price_in_thousands=%{customdata[1]}<br>Engine_size=%{customdata[2]}<extra></extra>",
         "legendgroup": "Windstar",
         "marker": {
          "color": "#ab63fa",
          "pattern": {
           "shape": ""
          }
         },
         "name": "Windstar",
         "offsetgroup": "Windstar",
         "orientation": "v",
         "showlegend": true,
         "textposition": "auto",
         "type": "bar",
         "x": [
          "Ford"
         ],
         "xaxis": "x",
         "y": [
          13.175
         ],
         "yaxis": "y"
        },
        {
         "alignmentgroup": "True",
         "customdata": [
          [
           125.338,
           36.135,
           4.6
          ]
         ],
         "hovertemplate": "Model=Expedition<br>Manufacturer=%{x}<br>__year_resale_value=%{y}<br>Sales_in_thousands=%{customdata[0]}<br>Price_in_thousands=%{customdata[1]}<br>Engine_size=%{customdata[2]}<extra></extra>",
         "legendgroup": "Expedition",
         "marker": {
          "color": "#FFA15A",
          "pattern": {
           "shape": ""
          }
         },
         "name": "Expedition",
         "offsetgroup": "Expedition",
         "orientation": "v",
         "showlegend": true,
         "textposition": "auto",
         "type": "bar",
         "x": [
          "Ford"
         ],
         "xaxis": "x",
         "y": [
          23.575
         ],
         "yaxis": "y"
        },
        {
         "alignmentgroup": "True",
         "customdata": [
          [
           220.65,
           12.05,
           2.5
          ]
         ],
         "hovertemplate": "Model=Ranger<br>Manufacturer=%{x}<br>__year_resale_value=%{y}<br>Sales_in_thousands=%{customdata[0]}<br>Price_in_thousands=%{customdata[1]}<br>Engine_size=%{customdata[2]}<extra></extra>",
         "legendgroup": "Ranger",
         "marker": {
          "color": "#19d3f3",
          "pattern": {
           "shape": ""
          }
         },
         "name": "Ranger",
         "offsetgroup": "Ranger",
         "orientation": "v",
         "showlegend": true,
         "textposition": "auto",
         "type": "bar",
         "x": [
          "Ford"
         ],
         "xaxis": "x",
         "y": [
          7.85
         ],
         "yaxis": "y"
        },
        {
         "alignmentgroup": "True",
         "customdata": [
          [
           540.561,
           26.935,
           4.6
          ]
         ],
         "hovertemplate": "Model=F-Series<br>Manufacturer=%{x}<br>__year_resale_value=%{y}<br>Sales_in_thousands=%{customdata[0]}<br>Price_in_thousands=%{customdata[1]}<br>Engine_size=%{customdata[2]}<extra></extra>",
         "legendgroup": "F-Series",
         "marker": {
          "color": "#FF6692",
          "pattern": {
           "shape": ""
          }
         },
         "name": "F-Series",
         "offsetgroup": "F-Series",
         "orientation": "v",
         "showlegend": true,
         "textposition": "auto",
         "type": "bar",
         "x": [
          "Ford"
         ],
         "xaxis": "x",
         "y": [
          15.075
         ],
         "yaxis": "y"
        },
        {
         "alignmentgroup": "True",
         "customdata": [
          [
           199.685,
           12.885,
           1.6
          ]
         ],
         "hovertemplate": "Model=Civic<br>Manufacturer=%{x}<br>__year_resale_value=%{y}<br>Sales_in_thousands=%{customdata[0]}<br>Price_in_thousands=%{customdata[1]}<br>Engine_size=%{customdata[2]}<extra></extra>",
         "legendgroup": "Civic",
         "marker": {
          "color": "#B6E880",
          "pattern": {
           "shape": ""
          }
         },
         "name": "Civic",
         "offsetgroup": "Civic",
         "orientation": "v",
         "showlegend": true,
         "textposition": "auto",
         "type": "bar",
         "x": [
          "Honda"
         ],
         "xaxis": "x",
         "y": [
          9.85
         ],
         "yaxis": "y"
        },
        {
         "alignmentgroup": "True",
         "customdata": [
          [
           230.902,
           15.35,
           2.3
          ]
         ],
         "hovertemplate": "Model=Accord<br>Manufacturer=%{x}<br>__year_resale_value=%{y}<br>Sales_in_thousands=%{customdata[0]}<br>Price_in_thousands=%{customdata[1]}<br>Engine_size=%{customdata[2]}<extra></extra>",
         "legendgroup": "Accord",
         "marker": {
          "color": "#FF97FF",
          "pattern": {
           "shape": ""
          }
         },
         "name": "Accord",
         "offsetgroup": "Accord",
         "orientation": "v",
         "showlegend": true,
         "textposition": "auto",
         "type": "bar",
         "x": [
          "Honda"
         ],
         "xaxis": "x",
         "y": [
          13.21
         ],
         "yaxis": "y"
        },
        {
         "alignmentgroup": "True",
         "customdata": [
          [
           73.203,
           20.55,
           2
          ]
         ],
         "hovertemplate": "Model=CR-V<br>Manufacturer=%{x}<br>__year_resale_value=%{y}<br>Sales_in_thousands=%{customdata[0]}<br>Price_in_thousands=%{customdata[1]}<br>Engine_size=%{customdata[2]}<extra></extra>",
         "legendgroup": "CR-V",
         "marker": {
          "color": "#FECB52",
          "pattern": {
           "shape": ""
          }
         },
         "name": "CR-V",
         "offsetgroup": "CR-V",
         "orientation": "v",
         "showlegend": true,
         "textposition": "auto",
         "type": "bar",
         "x": [
          "Honda"
         ],
         "xaxis": "x",
         "y": [
          17.71
         ],
         "yaxis": "y"
        },
        {
         "alignmentgroup": "True",
         "customdata": [
          [
           12.855,
           26.6,
           3.2
          ]
         ],
         "hovertemplate": "Model=Passport<br>Manufacturer=%{x}<br>__year_resale_value=%{y}<br>Sales_in_thousands=%{customdata[0]}<br>Price_in_thousands=%{customdata[1]}<br>Engine_size=%{customdata[2]}<extra></extra>",
         "legendgroup": "Passport",
         "marker": {
          "color": "#636efa",
          "pattern": {
           "shape": ""
          }
         },
         "name": "Passport",
         "offsetgroup": "Passport",
         "orientation": "v",
         "showlegend": true,
         "textposition": "auto",
         "type": "bar",
         "x": [
          "Honda"
         ],
         "xaxis": "x",
         "y": [
          17.525
         ],
         "yaxis": "y"
        },
        {
         "alignmentgroup": "True",
         "customdata": [
          [
           76.029,
           26,
           3.5
          ]
         ],
         "hovertemplate": "Model=Odyssey<br>Manufacturer=%{x}<br>__year_resale_value=%{y}<br>Sales_in_thousands=%{customdata[0]}<br>Price_in_thousands=%{customdata[1]}<br>Engine_size=%{customdata[2]}<extra></extra>",
         "legendgroup": "Odyssey",
         "marker": {
          "color": "#EF553B",
          "pattern": {
           "shape": ""
          }
         },
         "name": "Odyssey",
         "offsetgroup": "Odyssey",
         "orientation": "v",
         "showlegend": true,
         "textposition": "auto",
         "type": "bar",
         "x": [
          "Honda"
         ],
         "xaxis": "x",
         "y": [
          19.49
         ],
         "yaxis": "y"
        },
        {
         "alignmentgroup": "True",
         "customdata": [
          [
           41.184,
           9.699,
           1.5
          ]
         ],
         "hovertemplate": "Model=Accent<br>Manufacturer=%{x}<br>__year_resale_value=%{y}<br>Sales_in_thousands=%{customdata[0]}<br>Price_in_thousands=%{customdata[1]}<br>Engine_size=%{customdata[2]}<extra></extra>",
         "legendgroup": "Accent",
         "marker": {
          "color": "#00cc96",
          "pattern": {
           "shape": ""
          }
         },
         "name": "Accent",
         "offsetgroup": "Accent",
         "orientation": "v",
         "showlegend": true,
         "textposition": "auto",
         "type": "bar",
         "x": [
          "Hyundai"
         ],
         "xaxis": "x",
         "y": [
          5.86
         ],
         "yaxis": "y"
        },
        {
         "alignmentgroup": "True",
         "customdata": [
          [
           66.692,
           11.799,
           2
          ]
         ],
         "hovertemplate": "Model=Elantra<br>Manufacturer=%{x}<br>__year_resale_value=%{y}<br>Sales_in_thousands=%{customdata[0]}<br>Price_in_thousands=%{customdata[1]}<br>Engine_size=%{customdata[2]}<extra></extra>",
         "legendgroup": "Elantra",
         "marker": {
          "color": "#ab63fa",
          "pattern": {
           "shape": ""
          }
         },
         "name": "Elantra",
         "offsetgroup": "Elantra",
         "orientation": "v",
         "showlegend": true,
         "textposition": "auto",
         "type": "bar",
         "x": [
          "Hyundai"
         ],
         "xaxis": "x",
         "y": [
          7.825
         ],
         "yaxis": "y"
        },
        {
         "alignmentgroup": "True",
         "customdata": [
          [
           29.45,
           14.999,
           2.4
          ]
         ],
         "hovertemplate": "Model=Sonata<br>Manufacturer=%{x}<br>__year_resale_value=%{y}<br>Sales_in_thousands=%{customdata[0]}<br>Price_in_thousands=%{customdata[1]}<br>Engine_size=%{customdata[2]}<extra></extra>",
         "legendgroup": "Sonata",
         "marker": {
          "color": "#FFA15A",
          "pattern": {
           "shape": ""
          }
         },
         "name": "Sonata",
         "offsetgroup": "Sonata",
         "orientation": "v",
         "showlegend": true,
         "textposition": "auto",
         "type": "bar",
         "x": [
          "Hyundai"
         ],
         "xaxis": "x",
         "y": [
          8.91
         ],
         "yaxis": "y"
        },
        {
         "alignmentgroup": "True",
         "customdata": [
          [
           23.713,
           29.465,
           3
          ]
         ],
         "hovertemplate": "Model=I30<br>Manufacturer=%{x}<br>__year_resale_value=%{y}<br>Sales_in_thousands=%{customdata[0]}<br>Price_in_thousands=%{customdata[1]}<br>Engine_size=%{customdata[2]}<extra></extra>",
         "legendgroup": "I30",
         "marker": {
          "color": "#19d3f3",
          "pattern": {
           "shape": ""
          }
         },
         "name": "I30",
         "offsetgroup": "I30",
         "orientation": "v",
         "showlegend": true,
         "textposition": "auto",
         "type": "bar",
         "x": [
          "Infiniti"
         ],
         "xaxis": "x",
         "y": [
          19.69
         ],
         "yaxis": "y"
        },
        {
         "alignmentgroup": "True",
         "customdata": [
          [
           55.557,
           14.46,
           2.5
          ]
         ],
         "hovertemplate": "Model=Wrangler<br>Manufacturer=%{x}<br>__year_resale_value=%{y}<br>Sales_in_thousands=%{customdata[0]}<br>Price_in_thousands=%{customdata[1]}<br>Engine_size=%{customdata[2]}<extra></extra>",
         "legendgroup": "Wrangler",
         "marker": {
          "color": "#FF6692",
          "pattern": {
           "shape": ""
          }
         },
         "name": "Wrangler",
         "offsetgroup": "Wrangler",
         "orientation": "v",
         "showlegend": true,
         "textposition": "auto",
         "type": "bar",
         "x": [
          "Jeep"
         ],
         "xaxis": "x",
         "y": [
          13.475
         ],
         "yaxis": "y"
        },
        {
         "alignmentgroup": "True",
         "customdata": [
          [
           80.556,
           21.62,
           4
          ]
         ],
         "hovertemplate": "Model=Cherokee<br>Manufacturer=%{x}<br>__year_resale_value=%{y}<br>Sales_in_thousands=%{customdata[0]}<br>Price_in_thousands=%{customdata[1]}<br>Engine_size=%{customdata[2]}<extra></extra>",
         "legendgroup": "Cherokee",
         "marker": {
          "color": "#B6E880",
          "pattern": {
           "shape": ""
          }
         },
         "name": "Cherokee",
         "offsetgroup": "Cherokee",
         "orientation": "v",
         "showlegend": true,
         "textposition": "auto",
         "type": "bar",
         "x": [
          "Jeep"
         ],
         "xaxis": "x",
         "y": [
          13.775
         ],
         "yaxis": "y"
        },
        {
         "alignmentgroup": "True",
         "customdata": [
          [
           157.04,
           26.895,
           4
          ]
         ],
         "hovertemplate": "Model=Grand Cherokee<br>Manufacturer=%{x}<br>__year_resale_value=%{y}<br>Sales_in_thousands=%{customdata[0]}<br>Price_in_thousands=%{customdata[1]}<br>Engine_size=%{customdata[2]}<extra></extra>",
         "legendgroup": "Grand Cherokee",
         "marker": {
          "color": "#FF97FF",
          "pattern": {
           "shape": ""
          }
         },
         "name": "Grand Cherokee",
         "offsetgroup": "Grand Cherokee",
         "orientation": "v",
         "showlegend": true,
         "textposition": "auto",
         "type": "bar",
         "x": [
          "Jeep"
         ],
         "xaxis": "x",
         "y": [
          18.81
         ],
         "yaxis": "y"
        },
        {
         "alignmentgroup": "True",
         "customdata": [
          [
           24.072,
           31.505,
           3
          ]
         ],
         "hovertemplate": "Model=ES300<br>Manufacturer=%{x}<br>__year_resale_value=%{y}<br>Sales_in_thousands=%{customdata[0]}<br>Price_in_thousands=%{customdata[1]}<br>Engine_size=%{customdata[2]}<extra></extra>",
         "legendgroup": "ES300",
         "marker": {
          "color": "#FECB52",
          "pattern": {
           "shape": ""
          }
         },
         "name": "ES300",
         "offsetgroup": "ES300",
         "orientation": "v",
         "showlegend": true,
         "textposition": "auto",
         "type": "bar",
         "x": [
          "Lexus"
         ],
         "xaxis": "x",
         "y": [
          26.975
         ],
         "yaxis": "y"
        },
        {
         "alignmentgroup": "True",
         "customdata": [
          [
           12.698,
           37.805,
           3
          ]
         ],
         "hovertemplate": "Model=GS300<br>Manufacturer=%{x}<br>__year_resale_value=%{y}<br>Sales_in_thousands=%{customdata[0]}<br>Price_in_thousands=%{customdata[1]}<br>Engine_size=%{customdata[2]}<extra></extra>",
         "legendgroup": "GS300",
         "marker": {
          "color": "#636efa",
          "pattern": {
           "shape": ""
          }
         },
         "name": "GS300",
         "offsetgroup": "GS300",
         "orientation": "v",
         "showlegend": true,
         "textposition": "auto",
         "type": "bar",
         "x": [
          "Lexus"
         ],
         "xaxis": "x",
         "y": [
          32.075
         ],
         "yaxis": "y"
        },
        {
         "alignmentgroup": "True",
         "customdata": [
          [
           6.375,
           54.005,
           4
          ]
         ],
         "hovertemplate": "Model=LS400<br>Manufacturer=%{x}<br>__year_resale_value=%{y}<br>Sales_in_thousands=%{customdata[0]}<br>Price_in_thousands=%{customdata[1]}<br>Engine_size=%{customdata[2]}<extra></extra>",
         "legendgroup": "LS400",
         "marker": {
          "color": "#EF553B",
          "pattern": {
           "shape": ""
          }
         },
         "name": "LS400",
         "offsetgroup": "LS400",
         "orientation": "v",
         "showlegend": true,
         "textposition": "auto",
         "type": "bar",
         "x": [
          "Lexus"
         ],
         "xaxis": "x",
         "y": [
          40.375
         ],
         "yaxis": "y"
        },
        {
         "alignmentgroup": "True",
         "customdata": [
          [
           13.798,
           39.08,
           4.6
          ]
         ],
         "hovertemplate": "Model=Continental<br>Manufacturer=%{x}<br>__year_resale_value=%{y}<br>Sales_in_thousands=%{customdata[0]}<br>Price_in_thousands=%{customdata[1]}<br>Engine_size=%{customdata[2]}<extra></extra>",
         "legendgroup": "Continental",
         "marker": {
          "color": "#00cc96",
          "pattern": {
           "shape": ""
          }
         },
         "name": "Continental",
         "offsetgroup": "Continental",
         "orientation": "v",
         "showlegend": true,
         "textposition": "auto",
         "type": "bar",
         "x": [
          "Lincoln"
         ],
         "xaxis": "x",
         "y": [
          20.525
         ],
         "yaxis": "y"
        },
        {
         "alignmentgroup": "True",
         "customdata": [
          [
           48.911,
           43.33,
           4.6
          ]
         ],
         "hovertemplate": "Model=Town car<br>Manufacturer=%{x}<br>__year_resale_value=%{y}<br>Sales_in_thousands=%{customdata[0]}<br>Price_in_thousands=%{customdata[1]}<br>Engine_size=%{customdata[2]}<extra></extra>",
         "legendgroup": "Town car",
         "marker": {
          "color": "#ab63fa",
          "pattern": {
           "shape": ""
          }
         },
         "name": "Town car",
         "offsetgroup": "Town car",
         "orientation": "v",
         "showlegend": true,
         "textposition": "auto",
         "type": "bar",
         "x": [
          "Lincoln"
         ],
         "xaxis": "x",
         "y": [
          21.725
         ],
         "yaxis": "y"
        },
        {
         "alignmentgroup": "True",
         "customdata": [
          [
           26.232,
           13.987,
           1.8
          ]
         ],
         "hovertemplate": "Model=Mirage<br>Manufacturer=%{x}<br>__year_resale_value=%{y}<br>Sales_in_thousands=%{customdata[0]}<br>Price_in_thousands=%{customdata[1]}<br>Engine_size=%{customdata[2]}<extra></extra>",
         "legendgroup": "Mirage",
         "marker": {
          "color": "#FFA15A",
          "pattern": {
           "shape": ""
          }
         },
         "name": "Mirage",
         "offsetgroup": "Mirage",
         "orientation": "v",
         "showlegend": true,
         "textposition": "auto",
         "type": "bar",
         "x": [
          "Mitsubishi"
         ],
         "xaxis": "x",
         "y": [
          8.325
         ],
         "yaxis": "y"
        },
        {
         "alignmentgroup": "True",
         "customdata": [
          [
           42.541,
           19.047,
           2.4
          ]
         ],
         "hovertemplate": "Model=Eclipse<br>Manufacturer=%{x}<br>__year_resale_value=%{y}<br>Sales_in_thousands=%{customdata[0]}<br>Price_in_thousands=%{customdata[1]}<br>Engine_size=%{customdata[2]}<extra></extra>",
         "legendgroup": "Eclipse",
         "marker": {
          "color": "#19d3f3",
          "pattern": {
           "shape": ""
          }
         },
         "name": "Eclipse",
         "offsetgroup": "Eclipse",
         "orientation": "v",
         "showlegend": true,
         "textposition": "auto",
         "type": "bar",
         "x": [
          "Mitsubishi"
         ],
         "xaxis": "x",
         "y": [
          10.395
         ],
         "yaxis": "y"
        },
        {
         "alignmentgroup": "True",
         "customdata": [
          [
           55.616,
           17.357,
           2.4
          ]
         ],
         "hovertemplate": "Model=Galant<br>Manufacturer=%{x}<br>__year_resale_value=%{y}<br>Sales_in_thousands=%{customdata[0]}<br>Price_in_thousands=%{customdata[1]}<br>Engine_size=%{customdata[2]}<extra></extra>",
         "legendgroup": "Galant",
         "marker": {
          "color": "#FF6692",
          "pattern": {
           "shape": ""
          }
         },
         "name": "Galant",
         "offsetgroup": "Galant",
         "orientation": "v",
         "showlegend": true,
         "textposition": "auto",
         "type": "bar",
         "x": [
          "Mitsubishi"
         ],
         "xaxis": "x",
         "y": [
          10.595
         ],
         "yaxis": "y"
        },
        {
         "alignmentgroup": "True",
         "customdata": [
          [
           5.711,
           24.997,
           3.5
          ]
         ],
         "hovertemplate": "Model=Diamante<br>Manufacturer=%{x}<br>__year_resale_value=%{y}<br>Sales_in_thousands=%{customdata[0]}<br>Price_in_thousands=%{customdata[1]}<br>Engine_size=%{customdata[2]}<extra></extra>",
         "legendgroup": "Diamante",
         "marker": {
          "color": "#B6E880",
          "pattern": {
           "shape": ""
          }
         },
         "name": "Diamante",
         "offsetgroup": "Diamante",
         "orientation": "v",
         "showlegend": true,
         "textposition": "auto",
         "type": "bar",
         "x": [
          "Mitsubishi"
         ],
         "xaxis": "x",
         "y": [
          16.575
         ],
         "yaxis": "y"
        },
        {
         "alignmentgroup": "True",
         "customdata": [
          [
           0.11,
           25.45,
           3
          ]
         ],
         "hovertemplate": "Model=3000GT<br>Manufacturer=%{x}<br>__year_resale_value=%{y}<br>Sales_in_thousands=%{customdata[0]}<br>Price_in_thousands=%{customdata[1]}<br>Engine_size=%{customdata[2]}<extra></extra>",
         "legendgroup": "3000GT",
         "marker": {
          "color": "#FF97FF",
          "pattern": {
           "shape": ""
          }
         },
         "name": "3000GT",
         "offsetgroup": "3000GT",
         "orientation": "v",
         "showlegend": true,
         "textposition": "auto",
         "type": "bar",
         "x": [
          "Mitsubishi"
         ],
         "xaxis": "x",
         "y": [
          20.94
         ],
         "yaxis": "y"
        },
        {
         "alignmentgroup": "True",
         "customdata": [
          [
           11.337,
           31.807,
           3.5
          ]
         ],
         "hovertemplate": "Model=Montero<br>Manufacturer=%{x}<br>__year_resale_value=%{y}<br>Sales_in_thousands=%{customdata[0]}<br>Price_in_thousands=%{customdata[1]}<br>Engine_size=%{customdata[2]}<extra></extra>",
         "legendgroup": "Montero",
         "marker": {
          "color": "#FECB52",
          "pattern": {
           "shape": ""
          }
         },
         "name": "Montero",
         "offsetgroup": "Montero",
         "orientation": "v",
         "showlegend": true,
         "textposition": "auto",
         "type": "bar",
         "x": [
          "Mitsubishi"
         ],
         "xaxis": "x",
         "y": [
          19.125
         ],
         "yaxis": "y"
        },
        {
         "alignmentgroup": "True",
         "customdata": [
          [
           39.348,
           22.527,
           3
          ]
         ],
         "hovertemplate": "Model=Montero Sport<br>Manufacturer=%{x}<br>__year_resale_value=%{y}<br>Sales_in_thousands=%{customdata[0]}<br>Price_in_thousands=%{customdata[1]}<br>Engine_size=%{customdata[2]}<extra></extra>",
         "legendgroup": "Montero Sport",
         "marker": {
          "color": "#636efa",
          "pattern": {
           "shape": ""
          }
         },
         "name": "Montero Sport",
         "offsetgroup": "Montero Sport",
         "orientation": "v",
         "showlegend": true,
         "textposition": "auto",
         "type": "bar",
         "x": [
          "Mitsubishi"
         ],
         "xaxis": "x",
         "y": [
          13.88
         ],
         "yaxis": "y"
        },
        {
         "alignmentgroup": "True",
         "customdata": [
          [
           14.351,
           16.24,
           2
          ]
         ],
         "hovertemplate": "Model=Mystique<br>Manufacturer=%{x}<br>__year_resale_value=%{y}<br>Sales_in_thousands=%{customdata[0]}<br>Price_in_thousands=%{customdata[1]}<br>Engine_size=%{customdata[2]}<extra></extra>",
         "legendgroup": "Mystique",
         "marker": {
          "color": "#EF553B",
          "pattern": {
           "shape": ""
          }
         },
         "name": "Mystique",
         "offsetgroup": "Mystique",
         "orientation": "v",
         "showlegend": true,
         "textposition": "auto",
         "type": "bar",
         "x": [
          "Mercury"
         ],
         "xaxis": "x",
         "y": [
          8.8
         ],
         "yaxis": "y"
        },
        {
         "alignmentgroup": "True",
         "customdata": [
          [
           26.529,
           16.54,
           2
          ]
         ],
         "hovertemplate": "Model=Cougar<br>Manufacturer=%{x}<br>__year_resale_value=%{y}<br>Sales_in_thousands=%{customdata[0]}<br>Price_in_thousands=%{customdata[1]}<br>Engine_size=%{customdata[2]}<extra></extra>",
         "legendgroup": "Cougar",
         "marker": {
          "color": "#00cc96",
          "pattern": {
           "shape": ""
          }
         },
         "name": "Cougar",
         "offsetgroup": "Cougar",
         "orientation": "v",
         "showlegend": true,
         "textposition": "auto",
         "type": "bar",
         "x": [
          "Mercury"
         ],
         "xaxis": "x",
         "y": [
          13.89
         ],
         "yaxis": "y"
        },
        {
         "alignmentgroup": "True",
         "customdata": [
          [
           67.956,
           19.035,
           3
          ]
         ],
         "hovertemplate": "Model=Sable<br>Manufacturer=%{x}<br>__year_resale_value=%{y}<br>Sales_in_thousands=%{customdata[0]}<br>Price_in_thousands=%{customdata[1]}<br>Engine_size=%{customdata[2]}<extra></extra>",
         "legendgroup": "Sable",
         "marker": {
          "color": "#ab63fa",
          "pattern": {
           "shape": ""
          }
         },
         "name": "Sable",
         "offsetgroup": "Sable",
         "orientation": "v",
         "showlegend": true,
         "textposition": "auto",
         "type": "bar",
         "x": [
          "Mercury"
         ],
         "xaxis": "x",
         "y": [
          11.03
         ],
         "yaxis": "y"
        },
        {
         "alignmentgroup": "True",
         "customdata": [
          [
           81.174,
           22.605,
           4.6
          ]
         ],
         "hovertemplate": "Model=Grand Marquis<br>Manufacturer=%{x}<br>__year_resale_value=%{y}<br>Sales_in_thousands=%{customdata[0]}<br>Price_in_thousands=%{customdata[1]}<br>Engine_size=%{customdata[2]}<extra></extra>",
         "legendgroup": "Grand Marquis",
         "marker": {
          "color": "#FFA15A",
          "pattern": {
           "shape": ""
          }
         },
         "name": "Grand Marquis",
         "offsetgroup": "Grand Marquis",
         "orientation": "v",
         "showlegend": true,
         "textposition": "auto",
         "type": "bar",
         "x": [
          "Mercury"
         ],
         "xaxis": "x",
         "y": [
          14.875
         ],
         "yaxis": "y"
        },
        {
         "alignmentgroup": "True",
         "customdata": [
          [
           27.609,
           27.56,
           4
          ]
         ],
         "hovertemplate": "Model=Mountaineer<br>Manufacturer=%{x}<br>__year_resale_value=%{y}<br>Sales_in_thousands=%{customdata[0]}<br>Price_in_thousands=%{customdata[1]}<br>Engine_size=%{customdata[2]}<extra></extra>",
         "legendgroup": "Mountaineer",
         "marker": {
          "color": "#19d3f3",
          "pattern": {
           "shape": ""
          }
         },
         "name": "Mountaineer",
         "offsetgroup": "Mountaineer",
         "orientation": "v",
         "showlegend": true,
         "textposition": "auto",
         "type": "bar",
         "x": [
          "Mercury"
         ],
         "xaxis": "x",
         "y": [
          20.43
         ],
         "yaxis": "y"
        },
        {
         "alignmentgroup": "True",
         "customdata": [
          [
           20.38,
           22.51,
           3.3
          ]
         ],
         "hovertemplate": "Model=Villager<br>Manufacturer=%{x}<br>__year_resale_value=%{y}<br>Sales_in_thousands=%{customdata[0]}<br>Price_in_thousands=%{customdata[1]}<br>Engine_size=%{customdata[2]}<extra></extra>",
         "legendgroup": "Villager",
         "marker": {
          "color": "#FF6692",
          "pattern": {
           "shape": ""
          }
         },
         "name": "Villager",
         "offsetgroup": "Villager",
         "orientation": "v",
         "showlegend": true,
         "textposition": "auto",
         "type": "bar",
         "x": [
          "Mercury"
         ],
         "xaxis": "x",
         "y": [
          14.795
         ],
         "yaxis": "y"
        },
        {
         "alignmentgroup": "True",
         "customdata": [
          [
           18.392,
           31.75,
           2.3
          ]
         ],
         "hovertemplate": "Model=C-Class<br>Manufacturer=%{x}<br>__year_resale_value=%{y}<br>Sales_in_thousands=%{customdata[0]}<br>Price_in_thousands=%{customdata[1]}<br>Engine_size=%{customdata[2]}<extra></extra>",
         "legendgroup": "C-Class",
         "marker": {
          "color": "#B6E880",
          "pattern": {
           "shape": ""
          }
         },
         "name": "C-Class",
         "offsetgroup": "C-Class",
         "orientation": "v",
         "showlegend": true,
         "textposition": "auto",
         "type": "bar",
         "x": [
          "Mercedes-B"
         ],
         "xaxis": "x",
         "y": [
          26.05
         ],
         "yaxis": "y"
        },
        {
         "alignmentgroup": "True",
         "customdata": [
          [
           27.602,
           49.9,
           3.2
          ]
         ],
         "hovertemplate": "Model=E-Class<br>Manufacturer=%{x}<br>__year_resale_value=%{y}<br>Sales_in_thousands=%{customdata[0]}<br>Price_in_thousands=%{customdata[1]}<br>Engine_size=%{customdata[2]}<extra></extra>",
         "legendgroup": "E-Class",
         "marker": {
          "color": "#FF97FF",
          "pattern": {
           "shape": ""
          }
         },
         "name": "E-Class",
         "offsetgroup": "E-Class",
         "orientation": "v",
         "showlegend": true,
         "textposition": "auto",
         "type": "bar",
         "x": [
          "Mercedes-B"
         ],
         "xaxis": "x",
         "y": [
          41.45
         ],
         "yaxis": "y"
        },
        {
         "alignmentgroup": "True",
         "customdata": [
          [
           16.774,
           69.7,
           4.3
          ]
         ],
         "hovertemplate": "Model=S-Class<br>Manufacturer=%{x}<br>__year_resale_value=%{y}<br>Sales_in_thousands=%{customdata[0]}<br>Price_in_thousands=%{customdata[1]}<br>Engine_size=%{customdata[2]}<extra></extra>",
         "legendgroup": "S-Class",
         "marker": {
          "color": "#FECB52",
          "pattern": {
           "shape": ""
          }
         },
         "name": "S-Class",
         "offsetgroup": "S-Class",
         "orientation": "v",
         "showlegend": true,
         "textposition": "auto",
         "type": "bar",
         "x": [
          "Mercedes-B"
         ],
         "xaxis": "x",
         "y": [
          50.375
         ],
         "yaxis": "y"
        },
        {
         "alignmentgroup": "True",
         "customdata": [
          [
           3.311,
           82.6,
           5
          ]
         ],
         "hovertemplate": "Model=SL-Class<br>Manufacturer=%{x}<br>__year_resale_value=%{y}<br>Sales_in_thousands=%{customdata[0]}<br>Price_in_thousands=%{customdata[1]}<br>Engine_size=%{customdata[2]}<extra></extra>",
         "legendgroup": "SL-Class",
         "marker": {
          "color": "#636efa",
          "pattern": {
           "shape": ""
          }
         },
         "name": "SL-Class",
         "offsetgroup": "SL-Class",
         "orientation": "v",
         "showlegend": true,
         "textposition": "auto",
         "type": "bar",
         "x": [
          "Mercedes-B"
         ],
         "xaxis": "x",
         "y": [
          58.6
         ],
         "yaxis": "y"
        },
        {
         "alignmentgroup": "True",
         "customdata": [
          [
           42.643,
           13.499,
           1.8
          ]
         ],
         "hovertemplate": "Model=Sentra<br>Manufacturer=%{x}<br>__year_resale_value=%{y}<br>Sales_in_thousands=%{customdata[0]}<br>Price_in_thousands=%{customdata[1]}<br>Engine_size=%{customdata[2]}<extra></extra>",
         "legendgroup": "Sentra",
         "marker": {
          "color": "#EF553B",
          "pattern": {
           "shape": ""
          }
         },
         "name": "Sentra",
         "offsetgroup": "Sentra",
         "orientation": "v",
         "showlegend": true,
         "textposition": "auto",
         "type": "bar",
         "x": [
          "Nissan"
         ],
         "xaxis": "x",
         "y": [
          8.45
         ],
         "yaxis": "y"
        },
        {
         "alignmentgroup": "True",
         "customdata": [
          [
           88.094,
           20.39,
           2.4
          ]
         ],
         "hovertemplate": "Model=Altima<br>Manufacturer=%{x}<br>__year_resale_value=%{y}<br>Sales_in_thousands=%{customdata[0]}<br>Price_in_thousands=%{customdata[1]}<br>Engine_size=%{customdata[2]}<extra></extra>",
         "legendgroup": "Altima",
         "marker": {
          "color": "#00cc96",
          "pattern": {
           "shape": ""
          }
         },
         "name": "Altima",
         "offsetgroup": "Altima",
         "orientation": "v",
         "showlegend": true,
         "textposition": "auto",
         "type": "bar",
         "x": [
          "Nissan"
         ],
         "xaxis": "x",
         "y": [
          11.295
         ],
         "yaxis": "y"
        },
        {
         "alignmentgroup": "True",
         "customdata": [
          [
           79.853,
           26.249,
           3
          ]
         ],
         "hovertemplate": "Model=Maxima<br>Manufacturer=%{x}<br>__year_resale_value=%{y}<br>Sales_in_thousands=%{customdata[0]}<br>Price_in_thousands=%{customdata[1]}<br>Engine_size=%{customdata[2]}<extra></extra>",
         "legendgroup": "Maxima",
         "marker": {
          "color": "#ab63fa",
          "pattern": {
           "shape": ""
          }
         },
         "name": "Maxima",
         "offsetgroup": "Maxima",
         "orientation": "v",
         "showlegend": true,
         "textposition": "auto",
         "type": "bar",
         "x": [
          "Nissan"
         ],
         "xaxis": "x",
         "y": [
          15.125
         ],
         "yaxis": "y"
        },
        {
         "alignmentgroup": "True",
         "customdata": [
          [
           27.308,
           26.399,
           3.3
          ]
         ],
         "hovertemplate": "Model=Quest<br>Manufacturer=%{x}<br>__year_resale_value=%{y}<br>Sales_in_thousands=%{customdata[0]}<br>Price_in_thousands=%{customdata[1]}<br>Engine_size=%{customdata[2]}<extra></extra>",
         "legendgroup": "Quest",
         "marker": {
          "color": "#FFA15A",
          "pattern": {
           "shape": ""
          }
         },
         "name": "Quest",
         "offsetgroup": "Quest",
         "orientation": "v",
         "showlegend": true,
         "textposition": "auto",
         "type": "bar",
         "x": [
          "Nissan"
         ],
         "xaxis": "x",
         "y": [
          15.38
         ],
         "yaxis": "y"
        },
        {
         "alignmentgroup": "True",
         "customdata": [
          [
           42.574,
           29.299,
           3.3
          ]
         ],
         "hovertemplate": "Model=Pathfinder<br>Manufacturer=%{x}<br>__year_resale_value=%{y}<br>Sales_in_thousands=%{customdata[0]}<br>Price_in_thousands=%{customdata[1]}<br>Engine_size=%{customdata[2]}<extra></extra>",
         "legendgroup": "Pathfinder",
         "marker": {
          "color": "#19d3f3",
          "pattern": {
           "shape": ""
          }
         },
         "name": "Pathfinder",
         "offsetgroup": "Pathfinder",
         "orientation": "v",
         "showlegend": true,
         "textposition": "auto",
         "type": "bar",
         "x": [
          "Nissan"
         ],
         "xaxis": "x",
         "y": [
          17.81
         ],
         "yaxis": "y"
        },
        {
         "alignmentgroup": "True",
         "customdata": [
          [
           1.112,
           18.145,
           3.1
          ]
         ],
         "hovertemplate": "Model=Cutlass<br>Manufacturer=%{x}<br>__year_resale_value=%{y}<br>Sales_in_thousands=%{customdata[0]}<br>Price_in_thousands=%{customdata[1]}<br>Engine_size=%{customdata[2]}<extra></extra>",
         "legendgroup": "Cutlass",
         "marker": {
          "color": "#FF6692",
          "pattern": {
           "shape": ""
          }
         },
         "name": "Cutlass",
         "offsetgroup": "Cutlass",
         "orientation": "v",
         "showlegend": true,
         "textposition": "auto",
         "type": "bar",
         "x": [
          "Oldsmobile"
         ],
         "xaxis": "x",
         "y": [
          11.24
         ],
         "yaxis": "y"
        },
        {
         "alignmentgroup": "True",
         "customdata": [
          [
           14.69,
           36.229,
           4
          ]
         ],
         "hovertemplate": "Model=Aurora<br>Manufacturer=%{x}<br>__year_resale_value=%{y}<br>Sales_in_thousands=%{customdata[0]}<br>Price_in_thousands=%{customdata[1]}<br>Engine_size=%{customdata[2]}<extra></extra>",
         "legendgroup": "Aurora",
         "marker": {
          "color": "#B6E880",
          "pattern": {
           "shape": ""
          }
         },
         "name": "Aurora",
         "offsetgroup": "Aurora",
         "orientation": "v",
         "showlegend": true,
         "textposition": "auto",
         "type": "bar",
         "x": [
          "Oldsmobile"
         ],
         "xaxis": "x",
         "y": [
          19.89
         ],
         "yaxis": "y"
        },
        {
         "alignmentgroup": "True",
         "customdata": [
          [
           20.017,
           31.598,
           4.3
          ]
         ],
         "hovertemplate": "Model=Bravada<br>Manufacturer=%{x}<br>__year_resale_value=%{y}<br>Sales_in_thousands=%{customdata[0]}<br>Price_in_thousands=%{customdata[1]}<br>Engine_size=%{customdata[2]}<extra></extra>",
         "legendgroup": "Bravada",
         "marker": {
          "color": "#FF97FF",
          "pattern": {
           "shape": ""
          }
         },
         "name": "Bravada",
         "offsetgroup": "Bravada",
         "orientation": "v",
         "showlegend": true,
         "textposition": "auto",
         "type": "bar",
         "x": [
          "Oldsmobile"
         ],
         "xaxis": "x",
         "y": [
          19.925
         ],
         "yaxis": "y"
        },
        {
         "alignmentgroup": "True",
         "customdata": [
          [
           24.361,
           25.345,
           3.4
          ]
         ],
         "hovertemplate": "Model=Silhouette<br>Manufacturer=%{x}<br>__year_resale_value=%{y}<br>Sales_in_thousands=%{customdata[0]}<br>Price_in_thousands=%{customdata[1]}<br>Engine_size=%{customdata[2]}<extra></extra>",
         "legendgroup": "Silhouette",
         "marker": {
          "color": "#FECB52",
          "pattern": {
           "shape": ""
          }
         },
         "name": "Silhouette",
         "offsetgroup": "Silhouette",
         "orientation": "v",
         "showlegend": true,
         "textposition": "auto",
         "type": "bar",
         "x": [
          "Oldsmobile"
         ],
         "xaxis": "x",
         "y": [
          15.24
         ],
         "yaxis": "y"
        },
        {
         "alignmentgroup": "True",
         "customdata": [
          [
           5.24,
           16.08,
           2
          ]
         ],
         "hovertemplate": "Model=Breeze<br>Manufacturer=%{x}<br>__year_resale_value=%{y}<br>Sales_in_thousands=%{customdata[0]}<br>Price_in_thousands=%{customdata[1]}<br>Engine_size=%{customdata[2]}<extra></extra>",
         "legendgroup": "Breeze",
         "marker": {
          "color": "#636efa",
          "pattern": {
           "shape": ""
          }
         },
         "name": "Breeze",
         "offsetgroup": "Breeze",
         "orientation": "v",
         "showlegend": true,
         "textposition": "auto",
         "type": "bar",
         "x": [
          "Plymouth"
         ],
         "xaxis": "x",
         "y": [
          9.8
         ],
         "yaxis": "y"
        },
        {
         "alignmentgroup": "True",
         "customdata": [
          [
           24.155,
           18.85,
           2.4
          ]
         ],
         "hovertemplate": "Model=Voyager<br>Manufacturer=%{x}<br>__year_resale_value=%{y}<br>Sales_in_thousands=%{customdata[0]}<br>Price_in_thousands=%{customdata[1]}<br>Engine_size=%{customdata[2]}<extra></extra>",
         "legendgroup": "Voyager",
         "marker": {
          "color": "#EF553B",
          "pattern": {
           "shape": ""
          }
         },
         "name": "Voyager",
         "offsetgroup": "Voyager",
         "orientation": "v",
         "showlegend": true,
         "textposition": "auto",
         "type": "bar",
         "x": [
          "Plymouth"
         ],
         "xaxis": "x",
         "y": [
          12.025
         ],
         "yaxis": "y"
        },
        {
         "alignmentgroup": "True",
         "customdata": [
          [
           51.645,
           21.61,
           2.4
          ]
         ],
         "hovertemplate": "Model=Sunfire<br>Manufacturer=%{x}<br>__year_resale_value=%{y}<br>Sales_in_thousands=%{customdata[0]}<br>Price_in_thousands=%{customdata[1]}<br>Engine_size=%{customdata[2]}<extra></extra>",
         "legendgroup": "Sunfire",
         "marker": {
          "color": "#00cc96",
          "pattern": {
           "shape": ""
          }
         },
         "name": "Sunfire",
         "offsetgroup": "Sunfire",
         "orientation": "v",
         "showlegend": true,
         "textposition": "auto",
         "type": "bar",
         "x": [
          "Pontiac"
         ],
         "xaxis": "x",
         "y": [
          13.79
         ],
         "yaxis": "y"
        },
        {
         "alignmentgroup": "True",
         "customdata": [
          [
           131.097,
           19.72,
           3.4
          ]
         ],
         "hovertemplate": "Model=Grand Am<br>Manufacturer=%{x}<br>__year_resale_value=%{y}<br>Sales_in_thousands=%{customdata[0]}<br>Price_in_thousands=%{customdata[1]}<br>Engine_size=%{customdata[2]}<extra></extra>",
         "legendgroup": "Grand Am",
         "marker": {
          "color": "#ab63fa",
          "pattern": {
           "shape": ""
          }
         },
         "name": "Grand Am",
         "offsetgroup": "Grand Am",
         "orientation": "v",
         "showlegend": true,
         "textposition": "auto",
         "type": "bar",
         "x": [
          "Pontiac"
         ],
         "xaxis": "x",
         "y": [
          10.29
         ],
         "yaxis": "y"
        },
        {
         "alignmentgroup": "True",
         "customdata": [
          [
           19.911,
           25.31,
           3.8
          ]
         ],
         "hovertemplate": "Model=Firebird<br>Manufacturer=%{x}<br>__year_resale_value=%{y}<br>Sales_in_thousands=%{customdata[0]}<br>Price_in_thousands=%{customdata[1]}<br>Engine_size=%{customdata[2]}<extra></extra>",
         "legendgroup": "Firebird",
         "marker": {
          "color": "#FFA15A",
          "pattern": {
           "shape": ""
          }
         },
         "name": "Firebird",
         "offsetgroup": "Firebird",
         "orientation": "v",
         "showlegend": true,
         "textposition": "auto",
         "type": "bar",
         "x": [
          "Pontiac"
         ],
         "xaxis": "x",
         "y": [
          17.805
         ],
         "yaxis": "y"
        },
        {
         "alignmentgroup": "True",
         "customdata": [
          [
           92.364,
           21.665,
           3.8
          ]
         ],
         "hovertemplate": "Model=Grand Prix<br>Manufacturer=%{x}<br>__year_resale_value=%{y}<br>Sales_in_thousands=%{customdata[0]}<br>Price_in_thousands=%{customdata[1]}<br>Engine_size=%{customdata[2]}<extra></extra>",
         "legendgroup": "Grand Prix",
         "marker": {
          "color": "#19d3f3",
          "pattern": {
           "shape": ""
          }
         },
         "name": "Grand Prix",
         "offsetgroup": "Grand Prix",
         "orientation": "v",
         "showlegend": true,
         "textposition": "auto",
         "type": "bar",
         "x": [
          "Pontiac"
         ],
         "xaxis": "x",
         "y": [
          14.01
         ],
         "yaxis": "y"
        },
        {
         "alignmentgroup": "True",
         "customdata": [
          [
           35.945,
           23.755,
           3.8
          ]
         ],
         "hovertemplate": "Model=Bonneville<br>Manufacturer=%{x}<br>__year_resale_value=%{y}<br>Sales_in_thousands=%{customdata[0]}<br>Price_in_thousands=%{customdata[1]}<br>Engine_size=%{customdata[2]}<extra></extra>",
         "legendgroup": "Bonneville",
         "marker": {
          "color": "#FF6692",
          "pattern": {
           "shape": ""
          }
         },
         "name": "Bonneville",
         "offsetgroup": "Bonneville",
         "orientation": "v",
         "showlegend": true,
         "textposition": "auto",
         "type": "bar",
         "x": [
          "Pontiac"
         ],
         "xaxis": "x",
         "y": [
          13.225
         ],
         "yaxis": "y"
        },
        {
         "alignmentgroup": "True",
         "customdata": [
          [
           8.982,
           41.43,
           2.7
          ]
         ],
         "hovertemplate": "Model=Boxter<br>Manufacturer=%{x}<br>__year_resale_value=%{y}<br>Sales_in_thousands=%{customdata[0]}<br>Price_in_thousands=%{customdata[1]}<br>Engine_size=%{customdata[2]}<extra></extra>",
         "legendgroup": "Boxter",
         "marker": {
          "color": "#B6E880",
          "pattern": {
           "shape": ""
          }
         },
         "name": "Boxter",
         "offsetgroup": "Boxter",
         "orientation": "v",
         "showlegend": true,
         "textposition": "auto",
         "type": "bar",
         "x": [
          "Porsche"
         ],
         "xaxis": "x",
         "y": [
          41.25
         ],
         "yaxis": "y"
        },
        {
         "alignmentgroup": "True",
         "customdata": [
          [
           1.28,
           71.02,
           3.4
          ]
         ],
         "hovertemplate": "Model=Carrera Coupe<br>Manufacturer=%{x}<br>__year_resale_value=%{y}<br>Sales_in_thousands=%{customdata[0]}<br>Price_in_thousands=%{customdata[1]}<br>Engine_size=%{customdata[2]}<extra></extra>",
         "legendgroup": "Carrera Coupe",
         "marker": {
          "color": "#FF97FF",
          "pattern": {
           "shape": ""
          }
         },
         "name": "Carrera Coupe",
         "offsetgroup": "Carrera Coupe",
         "orientation": "v",
         "showlegend": true,
         "textposition": "auto",
         "type": "bar",
         "x": [
          "Porsche"
         ],
         "xaxis": "x",
         "y": [
          60.625
         ],
         "yaxis": "y"
        },
        {
         "alignmentgroup": "True",
         "customdata": [
          [
           1.866,
           74.97,
           3.4
          ]
         ],
         "hovertemplate": "Model=Carrera Cabrio<br>Manufacturer=%{x}<br>__year_resale_value=%{y}<br>Sales_in_thousands=%{customdata[0]}<br>Price_in_thousands=%{customdata[1]}<br>Engine_size=%{customdata[2]}<extra></extra>",
         "legendgroup": "Carrera Cabrio",
         "marker": {
          "color": "#FECB52",
          "pattern": {
           "shape": ""
          }
         },
         "name": "Carrera Cabrio",
         "offsetgroup": "Carrera Cabrio",
         "orientation": "v",
         "showlegend": true,
         "textposition": "auto",
         "type": "bar",
         "x": [
          "Porsche"
         ],
         "xaxis": "x",
         "y": [
          67.55
         ],
         "yaxis": "y"
        },
        {
         "alignmentgroup": "True",
         "customdata": [
          [
           80.62,
           10.685,
           1.9
          ]
         ],
         "hovertemplate": "Model=SL<br>Manufacturer=%{x}<br>__year_resale_value=%{y}<br>Sales_in_thousands=%{customdata[0]}<br>Price_in_thousands=%{customdata[1]}<br>Engine_size=%{customdata[2]}<extra></extra>",
         "legendgroup": "SL",
         "marker": {
          "color": "#636efa",
          "pattern": {
           "shape": ""
          }
         },
         "name": "SL",
         "offsetgroup": "SL",
         "orientation": "v",
         "showlegend": true,
         "textposition": "auto",
         "type": "bar",
         "x": [
          "Saturn"
         ],
         "xaxis": "x",
         "y": [
          9.2
         ],
         "yaxis": "y"
        },
        {
         "alignmentgroup": "True",
         "customdata": [
          [
           24.546,
           12.535,
           1.9
          ]
         ],
         "hovertemplate": "Model=SC<br>Manufacturer=%{x}<br>__year_resale_value=%{y}<br>Sales_in_thousands=%{customdata[0]}<br>Price_in_thousands=%{customdata[1]}<br>Engine_size=%{customdata[2]}<extra></extra>",
         "legendgroup": "SC",
         "marker": {
          "color": "#EF553B",
          "pattern": {
           "shape": ""
          }
         },
         "name": "SC",
         "offsetgroup": "SC",
         "orientation": "v",
         "showlegend": true,
         "textposition": "auto",
         "type": "bar",
         "x": [
          "Saturn"
         ],
         "xaxis": "x",
         "y": [
          10.59
         ],
         "yaxis": "y"
        },
        {
         "alignmentgroup": "True",
         "customdata": [
          [
           5.223,
           14.29,
           1.9
          ]
         ],
         "hovertemplate": "Model=SW<br>Manufacturer=%{x}<br>__year_resale_value=%{y}<br>Sales_in_thousands=%{customdata[0]}<br>Price_in_thousands=%{customdata[1]}<br>Engine_size=%{customdata[2]}<extra></extra>",
         "legendgroup": "SW",
         "marker": {
          "color": "#00cc96",
          "pattern": {
           "shape": ""
          }
         },
         "name": "SW",
         "offsetgroup": "SW",
         "orientation": "v",
         "showlegend": true,
         "textposition": "auto",
         "type": "bar",
         "x": [
          "Saturn"
         ],
         "xaxis": "x",
         "y": [
          10.79
         ],
         "yaxis": "y"
        },
        {
         "alignmentgroup": "True",
         "customdata": [
          [
           142.535,
           13.108,
           1.8
          ]
         ],
         "hovertemplate": "Model=Corolla<br>Manufacturer=%{x}<br>__year_resale_value=%{y}<br>Sales_in_thousands=%{customdata[0]}<br>Price_in_thousands=%{customdata[1]}<br>Engine_size=%{customdata[2]}<extra></extra>",
         "legendgroup": "Corolla",
         "marker": {
          "color": "#ab63fa",
          "pattern": {
           "shape": ""
          }
         },
         "name": "Corolla",
         "offsetgroup": "Corolla",
         "orientation": "v",
         "showlegend": true,
         "textposition": "auto",
         "type": "bar",
         "x": [
          "Toyota"
         ],
         "xaxis": "x",
         "y": [
          10.025
         ],
         "yaxis": "y"
        },
        {
         "alignmentgroup": "True",
         "customdata": [
          [
           247.994,
           17.518,
           2.2
          ]
         ],
         "hovertemplate": "Model=Camry<br>Manufacturer=%{x}<br>__year_resale_value=%{y}<br>Sales_in_thousands=%{customdata[0]}<br>Price_in_thousands=%{customdata[1]}<br>Engine_size=%{customdata[2]}<extra></extra>",
         "legendgroup": "Camry",
         "marker": {
          "color": "#FFA15A",
          "pattern": {
           "shape": ""
          }
         },
         "name": "Camry",
         "offsetgroup": "Camry",
         "orientation": "v",
         "showlegend": true,
         "textposition": "auto",
         "type": "bar",
         "x": [
          "Toyota"
         ],
         "xaxis": "x",
         "y": [
          13.245
         ],
         "yaxis": "y"
        },
        {
         "alignmentgroup": "True",
         "customdata": [
          [
           63.849,
           25.545,
           3
          ]
         ],
         "hovertemplate": "Model=Avalon<br>Manufacturer=%{x}<br>__year_resale_value=%{y}<br>Sales_in_thousands=%{customdata[0]}<br>Price_in_thousands=%{customdata[1]}<br>Engine_size=%{customdata[2]}<extra></extra>",
         "legendgroup": "Avalon",
         "marker": {
          "color": "#19d3f3",
          "pattern": {
           "shape": ""
          }
         },
         "name": "Avalon",
         "offsetgroup": "Avalon",
         "orientation": "v",
         "showlegend": true,
         "textposition": "auto",
         "type": "bar",
         "x": [
          "Toyota"
         ],
         "xaxis": "x",
         "y": [
          18.14
         ],
         "yaxis": "y"
        },
        {
         "alignmentgroup": "True",
         "customdata": [
          [
           33.269,
           16.875,
           1.8
          ]
         ],
         "hovertemplate": "Model=Celica<br>Manufacturer=%{x}<br>__year_resale_value=%{y}<br>Sales_in_thousands=%{customdata[0]}<br>Price_in_thousands=%{customdata[1]}<br>Engine_size=%{customdata[2]}<extra></extra>",
         "legendgroup": "Celica",
         "marker": {
          "color": "#FF6692",
          "pattern": {
           "shape": ""
          }
         },
         "name": "Celica",
         "offsetgroup": "Celica",
         "orientation": "v",
         "showlegend": true,
         "textposition": "auto",
         "type": "bar",
         "x": [
          "Toyota"
         ],
         "xaxis": "x",
         "y": [
          15.445
         ],
         "yaxis": "y"
        },
        {
         "alignmentgroup": "True",
         "customdata": [
          [
           84.087,
           11.528,
           2.4
          ]
         ],
         "hovertemplate": "Model=Tacoma<br>Manufacturer=%{x}<br>__year_resale_value=%{y}<br>Sales_in_thousands=%{customdata[0]}<br>Price_in_thousands=%{customdata[1]}<br>Engine_size=%{customdata[2]}<extra></extra>",
         "legendgroup": "Tacoma",
         "marker": {
          "color": "#B6E880",
          "pattern": {
           "shape": ""
          }
         },
         "name": "Tacoma",
         "offsetgroup": "Tacoma",
         "orientation": "v",
         "showlegend": true,
         "textposition": "auto",
         "type": "bar",
         "x": [
          "Toyota"
         ],
         "xaxis": "x",
         "y": [
          9.575
         ],
         "yaxis": "y"
        },
        {
         "alignmentgroup": "True",
         "customdata": [
          [
           25.106,
           16.888,
           2
          ]
         ],
         "hovertemplate": "Model=RAV4<br>Manufacturer=%{x}<br>__year_resale_value=%{y}<br>Sales_in_thousands=%{customdata[0]}<br>Price_in_thousands=%{customdata[1]}<br>Engine_size=%{customdata[2]}<extra></extra>",
         "legendgroup": "RAV4",
         "marker": {
          "color": "#FF97FF",
          "pattern": {
           "shape": ""
          }
         },
         "name": "RAV4",
         "offsetgroup": "RAV4",
         "orientation": "v",
         "showlegend": true,
         "textposition": "auto",
         "type": "bar",
         "x": [
          "Toyota"
         ],
         "xaxis": "x",
         "y": [
          13.325
         ],
         "yaxis": "y"
        },
        {
         "alignmentgroup": "True",
         "customdata": [
          [
           68.411,
           22.288,
           2.7
          ]
         ],
         "hovertemplate": "Model=4Runner<br>Manufacturer=%{x}<br>__year_resale_value=%{y}<br>Sales_in_thousands=%{customdata[0]}<br>Price_in_thousands=%{customdata[1]}<br>Engine_size=%{customdata[2]}<extra></extra>",
         "legendgroup": "4Runner",
         "marker": {
          "color": "#FECB52",
          "pattern": {
           "shape": ""
          }
         },
         "name": "4Runner",
         "offsetgroup": "4Runner",
         "orientation": "v",
         "showlegend": true,
         "textposition": "auto",
         "type": "bar",
         "x": [
          "Toyota"
         ],
         "xaxis": "x",
         "y": [
          19.425
         ],
         "yaxis": "y"
        },
        {
         "alignmentgroup": "True",
         "customdata": [
          [
           9.835,
           51.728,
           4.7
          ]
         ],
         "hovertemplate": "Model=Land Cruiser<br>Manufacturer=%{x}<br>__year_resale_value=%{y}<br>Sales_in_thousands=%{customdata[0]}<br>Price_in_thousands=%{customdata[1]}<br>Engine_size=%{customdata[2]}<extra></extra>",
         "legendgroup": "Land Cruiser",
         "marker": {
          "color": "#636efa",
          "pattern": {
           "shape": ""
          }
         },
         "name": "Land Cruiser",
         "offsetgroup": "Land Cruiser",
         "orientation": "v",
         "showlegend": true,
         "textposition": "auto",
         "type": "bar",
         "x": [
          "Toyota"
         ],
         "xaxis": "x",
         "y": [
          34.08
         ],
         "yaxis": "y"
        },
        {
         "alignmentgroup": "True",
         "customdata": [
          [
           9.761,
           14.9,
           2
          ]
         ],
         "hovertemplate": "Model=Golf<br>Manufacturer=%{x}<br>__year_resale_value=%{y}<br>Sales_in_thousands=%{customdata[0]}<br>Price_in_thousands=%{customdata[1]}<br>Engine_size=%{customdata[2]}<extra></extra>",
         "legendgroup": "Golf",
         "marker": {
          "color": "#EF553B",
          "pattern": {
           "shape": ""
          }
         },
         "name": "Golf",
         "offsetgroup": "Golf",
         "orientation": "v",
         "showlegend": true,
         "textposition": "auto",
         "type": "bar",
         "x": [
          "Volkswagen"
         ],
         "xaxis": "x",
         "y": [
          11.425
         ],
         "yaxis": "y"
        },
        {
         "alignmentgroup": "True",
         "customdata": [
          [
           83.721,
           16.7,
           2
          ]
         ],
         "hovertemplate": "Model=Jetta<br>Manufacturer=%{x}<br>__year_resale_value=%{y}<br>Sales_in_thousands=%{customdata[0]}<br>Price_in_thousands=%{customdata[1]}<br>Engine_size=%{customdata[2]}<extra></extra>",
         "legendgroup": "Jetta",
         "marker": {
          "color": "#00cc96",
          "pattern": {
           "shape": ""
          }
         },
         "name": "Jetta",
         "offsetgroup": "Jetta",
         "orientation": "v",
         "showlegend": true,
         "textposition": "auto",
         "type": "bar",
         "x": [
          "Volkswagen"
         ],
         "xaxis": "x",
         "y": [
          13.24
         ],
         "yaxis": "y"
        },
        {
         "alignmentgroup": "True",
         "customdata": [
          [
           51.102,
           21.2,
           1.8
          ]
         ],
         "hovertemplate": "Model=Passat<br>Manufacturer=%{x}<br>__year_resale_value=%{y}<br>Sales_in_thousands=%{customdata[0]}<br>Price_in_thousands=%{customdata[1]}<br>Engine_size=%{customdata[2]}<extra></extra>",
         "legendgroup": "Passat",
         "marker": {
          "color": "#ab63fa",
          "pattern": {
           "shape": ""
          }
         },
         "name": "Passat",
         "offsetgroup": "Passat",
         "orientation": "v",
         "showlegend": true,
         "textposition": "auto",
         "type": "bar",
         "x": [
          "Volkswagen"
         ],
         "xaxis": "x",
         "y": [
          16.725
         ],
         "yaxis": "y"
        },
        {
         "alignmentgroup": "True",
         "customdata": [
          [
           9.569,
           19.99,
           2
          ]
         ],
         "hovertemplate": "Model=Cabrio<br>Manufacturer=%{x}<br>__year_resale_value=%{y}<br>Sales_in_thousands=%{customdata[0]}<br>Price_in_thousands=%{customdata[1]}<br>Engine_size=%{customdata[2]}<extra></extra>",
         "legendgroup": "Cabrio",
         "marker": {
          "color": "#FFA15A",
          "pattern": {
           "shape": ""
          }
         },
         "name": "Cabrio",
         "offsetgroup": "Cabrio",
         "orientation": "v",
         "showlegend": true,
         "textposition": "auto",
         "type": "bar",
         "x": [
          "Volkswagen"
         ],
         "xaxis": "x",
         "y": [
          16.575
         ],
         "yaxis": "y"
        },
        {
         "alignmentgroup": "True",
         "customdata": [
          [
           5.596,
           17.5,
           2
          ]
         ],
         "hovertemplate": "Model=GTI<br>Manufacturer=%{x}<br>__year_resale_value=%{y}<br>Sales_in_thousands=%{customdata[0]}<br>Price_in_thousands=%{customdata[1]}<br>Engine_size=%{customdata[2]}<extra></extra>",
         "legendgroup": "GTI",
         "marker": {
          "color": "#19d3f3",
          "pattern": {
           "shape": ""
          }
         },
         "name": "GTI",
         "offsetgroup": "GTI",
         "orientation": "v",
         "showlegend": true,
         "textposition": "auto",
         "type": "bar",
         "x": [
          "Volkswagen"
         ],
         "xaxis": "x",
         "y": [
          13.76
         ],
         "yaxis": "y"
        }
       ],
       "layout": {
        "barmode": "relative",
        "height": 400,
        "legend": {
         "title": {
          "text": "Model"
         },
         "tracegroupgap": 0
        },
        "margin": {
         "t": 60
        },
        "template": {
         "data": {
          "bar": [
           {
            "error_x": {
             "color": "#2a3f5f"
            },
            "error_y": {
             "color": "#2a3f5f"
            },
            "marker": {
             "line": {
              "color": "#E5ECF6",
              "width": 0.5
             },
             "pattern": {
              "fillmode": "overlay",
              "size": 10,
              "solidity": 0.2
             }
            },
            "type": "bar"
           }
          ],
          "barpolar": [
           {
            "marker": {
             "line": {
              "color": "#E5ECF6",
              "width": 0.5
             },
             "pattern": {
              "fillmode": "overlay",
              "size": 10,
              "solidity": 0.2
             }
            },
            "type": "barpolar"
           }
          ],
          "carpet": [
           {
            "aaxis": {
             "endlinecolor": "#2a3f5f",
             "gridcolor": "white",
             "linecolor": "white",
             "minorgridcolor": "white",
             "startlinecolor": "#2a3f5f"
            },
            "baxis": {
             "endlinecolor": "#2a3f5f",
             "gridcolor": "white",
             "linecolor": "white",
             "minorgridcolor": "white",
             "startlinecolor": "#2a3f5f"
            },
            "type": "carpet"
           }
          ],
          "choropleth": [
           {
            "colorbar": {
             "outlinewidth": 0,
             "ticks": ""
            },
            "type": "choropleth"
           }
          ],
          "contour": [
           {
            "colorbar": {
             "outlinewidth": 0,
             "ticks": ""
            },
            "colorscale": [
             [
              0,
              "#0d0887"
             ],
             [
              0.1111111111111111,
              "#46039f"
             ],
             [
              0.2222222222222222,
              "#7201a8"
             ],
             [
              0.3333333333333333,
              "#9c179e"
             ],
             [
              0.4444444444444444,
              "#bd3786"
             ],
             [
              0.5555555555555556,
              "#d8576b"
             ],
             [
              0.6666666666666666,
              "#ed7953"
             ],
             [
              0.7777777777777778,
              "#fb9f3a"
             ],
             [
              0.8888888888888888,
              "#fdca26"
             ],
             [
              1,
              "#f0f921"
             ]
            ],
            "type": "contour"
           }
          ],
          "contourcarpet": [
           {
            "colorbar": {
             "outlinewidth": 0,
             "ticks": ""
            },
            "type": "contourcarpet"
           }
          ],
          "heatmap": [
           {
            "colorbar": {
             "outlinewidth": 0,
             "ticks": ""
            },
            "colorscale": [
             [
              0,
              "#0d0887"
             ],
             [
              0.1111111111111111,
              "#46039f"
             ],
             [
              0.2222222222222222,
              "#7201a8"
             ],
             [
              0.3333333333333333,
              "#9c179e"
             ],
             [
              0.4444444444444444,
              "#bd3786"
             ],
             [
              0.5555555555555556,
              "#d8576b"
             ],
             [
              0.6666666666666666,
              "#ed7953"
             ],
             [
              0.7777777777777778,
              "#fb9f3a"
             ],
             [
              0.8888888888888888,
              "#fdca26"
             ],
             [
              1,
              "#f0f921"
             ]
            ],
            "type": "heatmap"
           }
          ],
          "heatmapgl": [
           {
            "colorbar": {
             "outlinewidth": 0,
             "ticks": ""
            },
            "colorscale": [
             [
              0,
              "#0d0887"
             ],
             [
              0.1111111111111111,
              "#46039f"
             ],
             [
              0.2222222222222222,
              "#7201a8"
             ],
             [
              0.3333333333333333,
              "#9c179e"
             ],
             [
              0.4444444444444444,
              "#bd3786"
             ],
             [
              0.5555555555555556,
              "#d8576b"
             ],
             [
              0.6666666666666666,
              "#ed7953"
             ],
             [
              0.7777777777777778,
              "#fb9f3a"
             ],
             [
              0.8888888888888888,
              "#fdca26"
             ],
             [
              1,
              "#f0f921"
             ]
            ],
            "type": "heatmapgl"
           }
          ],
          "histogram": [
           {
            "marker": {
             "pattern": {
              "fillmode": "overlay",
              "size": 10,
              "solidity": 0.2
             }
            },
            "type": "histogram"
           }
          ],
          "histogram2d": [
           {
            "colorbar": {
             "outlinewidth": 0,
             "ticks": ""
            },
            "colorscale": [
             [
              0,
              "#0d0887"
             ],
             [
              0.1111111111111111,
              "#46039f"
             ],
             [
              0.2222222222222222,
              "#7201a8"
             ],
             [
              0.3333333333333333,
              "#9c179e"
             ],
             [
              0.4444444444444444,
              "#bd3786"
             ],
             [
              0.5555555555555556,
              "#d8576b"
             ],
             [
              0.6666666666666666,
              "#ed7953"
             ],
             [
              0.7777777777777778,
              "#fb9f3a"
             ],
             [
              0.8888888888888888,
              "#fdca26"
             ],
             [
              1,
              "#f0f921"
             ]
            ],
            "type": "histogram2d"
           }
          ],
          "histogram2dcontour": [
           {
            "colorbar": {
             "outlinewidth": 0,
             "ticks": ""
            },
            "colorscale": [
             [
              0,
              "#0d0887"
             ],
             [
              0.1111111111111111,
              "#46039f"
             ],
             [
              0.2222222222222222,
              "#7201a8"
             ],
             [
              0.3333333333333333,
              "#9c179e"
             ],
             [
              0.4444444444444444,
              "#bd3786"
             ],
             [
              0.5555555555555556,
              "#d8576b"
             ],
             [
              0.6666666666666666,
              "#ed7953"
             ],
             [
              0.7777777777777778,
              "#fb9f3a"
             ],
             [
              0.8888888888888888,
              "#fdca26"
             ],
             [
              1,
              "#f0f921"
             ]
            ],
            "type": "histogram2dcontour"
           }
          ],
          "mesh3d": [
           {
            "colorbar": {
             "outlinewidth": 0,
             "ticks": ""
            },
            "type": "mesh3d"
           }
          ],
          "parcoords": [
           {
            "line": {
             "colorbar": {
              "outlinewidth": 0,
              "ticks": ""
             }
            },
            "type": "parcoords"
           }
          ],
          "pie": [
           {
            "automargin": true,
            "type": "pie"
           }
          ],
          "scatter": [
           {
            "fillpattern": {
             "fillmode": "overlay",
             "size": 10,
             "solidity": 0.2
            },
            "type": "scatter"
           }
          ],
          "scatter3d": [
           {
            "line": {
             "colorbar": {
              "outlinewidth": 0,
              "ticks": ""
             }
            },
            "marker": {
             "colorbar": {
              "outlinewidth": 0,
              "ticks": ""
             }
            },
            "type": "scatter3d"
           }
          ],
          "scattercarpet": [
           {
            "marker": {
             "colorbar": {
              "outlinewidth": 0,
              "ticks": ""
             }
            },
            "type": "scattercarpet"
           }
          ],
          "scattergeo": [
           {
            "marker": {
             "colorbar": {
              "outlinewidth": 0,
              "ticks": ""
             }
            },
            "type": "scattergeo"
           }
          ],
          "scattergl": [
           {
            "marker": {
             "colorbar": {
              "outlinewidth": 0,
              "ticks": ""
             }
            },
            "type": "scattergl"
           }
          ],
          "scattermapbox": [
           {
            "marker": {
             "colorbar": {
              "outlinewidth": 0,
              "ticks": ""
             }
            },
            "type": "scattermapbox"
           }
          ],
          "scatterpolar": [
           {
            "marker": {
             "colorbar": {
              "outlinewidth": 0,
              "ticks": ""
             }
            },
            "type": "scatterpolar"
           }
          ],
          "scatterpolargl": [
           {
            "marker": {
             "colorbar": {
              "outlinewidth": 0,
              "ticks": ""
             }
            },
            "type": "scatterpolargl"
           }
          ],
          "scatterternary": [
           {
            "marker": {
             "colorbar": {
              "outlinewidth": 0,
              "ticks": ""
             }
            },
            "type": "scatterternary"
           }
          ],
          "surface": [
           {
            "colorbar": {
             "outlinewidth": 0,
             "ticks": ""
            },
            "colorscale": [
             [
              0,
              "#0d0887"
             ],
             [
              0.1111111111111111,
              "#46039f"
             ],
             [
              0.2222222222222222,
              "#7201a8"
             ],
             [
              0.3333333333333333,
              "#9c179e"
             ],
             [
              0.4444444444444444,
              "#bd3786"
             ],
             [
              0.5555555555555556,
              "#d8576b"
             ],
             [
              0.6666666666666666,
              "#ed7953"
             ],
             [
              0.7777777777777778,
              "#fb9f3a"
             ],
             [
              0.8888888888888888,
              "#fdca26"
             ],
             [
              1,
              "#f0f921"
             ]
            ],
            "type": "surface"
           }
          ],
          "table": [
           {
            "cells": {
             "fill": {
              "color": "#EBF0F8"
             },
             "line": {
              "color": "white"
             }
            },
            "header": {
             "fill": {
              "color": "#C8D4E3"
             },
             "line": {
              "color": "white"
             }
            },
            "type": "table"
           }
          ]
         },
         "layout": {
          "annotationdefaults": {
           "arrowcolor": "#2a3f5f",
           "arrowhead": 0,
           "arrowwidth": 1
          },
          "autotypenumbers": "strict",
          "coloraxis": {
           "colorbar": {
            "outlinewidth": 0,
            "ticks": ""
           }
          },
          "colorscale": {
           "diverging": [
            [
             0,
             "#8e0152"
            ],
            [
             0.1,
             "#c51b7d"
            ],
            [
             0.2,
             "#de77ae"
            ],
            [
             0.3,
             "#f1b6da"
            ],
            [
             0.4,
             "#fde0ef"
            ],
            [
             0.5,
             "#f7f7f7"
            ],
            [
             0.6,
             "#e6f5d0"
            ],
            [
             0.7,
             "#b8e186"
            ],
            [
             0.8,
             "#7fbc41"
            ],
            [
             0.9,
             "#4d9221"
            ],
            [
             1,
             "#276419"
            ]
           ],
           "sequential": [
            [
             0,
             "#0d0887"
            ],
            [
             0.1111111111111111,
             "#46039f"
            ],
            [
             0.2222222222222222,
             "#7201a8"
            ],
            [
             0.3333333333333333,
             "#9c179e"
            ],
            [
             0.4444444444444444,
             "#bd3786"
            ],
            [
             0.5555555555555556,
             "#d8576b"
            ],
            [
             0.6666666666666666,
             "#ed7953"
            ],
            [
             0.7777777777777778,
             "#fb9f3a"
            ],
            [
             0.8888888888888888,
             "#fdca26"
            ],
            [
             1,
             "#f0f921"
            ]
           ],
           "sequentialminus": [
            [
             0,
             "#0d0887"
            ],
            [
             0.1111111111111111,
             "#46039f"
            ],
            [
             0.2222222222222222,
             "#7201a8"
            ],
            [
             0.3333333333333333,
             "#9c179e"
            ],
            [
             0.4444444444444444,
             "#bd3786"
            ],
            [
             0.5555555555555556,
             "#d8576b"
            ],
            [
             0.6666666666666666,
             "#ed7953"
            ],
            [
             0.7777777777777778,
             "#fb9f3a"
            ],
            [
             0.8888888888888888,
             "#fdca26"
            ],
            [
             1,
             "#f0f921"
            ]
           ]
          },
          "colorway": [
           "#636efa",
           "#EF553B",
           "#00cc96",
           "#ab63fa",
           "#FFA15A",
           "#19d3f3",
           "#FF6692",
           "#B6E880",
           "#FF97FF",
           "#FECB52"
          ],
          "font": {
           "color": "#2a3f5f"
          },
          "geo": {
           "bgcolor": "white",
           "lakecolor": "white",
           "landcolor": "#E5ECF6",
           "showlakes": true,
           "showland": true,
           "subunitcolor": "white"
          },
          "hoverlabel": {
           "align": "left"
          },
          "hovermode": "closest",
          "mapbox": {
           "style": "light"
          },
          "paper_bgcolor": "white",
          "plot_bgcolor": "#E5ECF6",
          "polar": {
           "angularaxis": {
            "gridcolor": "white",
            "linecolor": "white",
            "ticks": ""
           },
           "bgcolor": "#E5ECF6",
           "radialaxis": {
            "gridcolor": "white",
            "linecolor": "white",
            "ticks": ""
           }
          },
          "scene": {
           "xaxis": {
            "backgroundcolor": "#E5ECF6",
            "gridcolor": "white",
            "gridwidth": 2,
            "linecolor": "white",
            "showbackground": true,
            "ticks": "",
            "zerolinecolor": "white"
           },
           "yaxis": {
            "backgroundcolor": "#E5ECF6",
            "gridcolor": "white",
            "gridwidth": 2,
            "linecolor": "white",
            "showbackground": true,
            "ticks": "",
            "zerolinecolor": "white"
           },
           "zaxis": {
            "backgroundcolor": "#E5ECF6",
            "gridcolor": "white",
            "gridwidth": 2,
            "linecolor": "white",
            "showbackground": true,
            "ticks": "",
            "zerolinecolor": "white"
           }
          },
          "shapedefaults": {
           "line": {
            "color": "#2a3f5f"
           }
          },
          "ternary": {
           "aaxis": {
            "gridcolor": "white",
            "linecolor": "white",
            "ticks": ""
           },
           "baxis": {
            "gridcolor": "white",
            "linecolor": "white",
            "ticks": ""
           },
           "bgcolor": "#E5ECF6",
           "caxis": {
            "gridcolor": "white",
            "linecolor": "white",
            "ticks": ""
           }
          },
          "title": {
           "x": 0.05
          },
          "xaxis": {
           "automargin": true,
           "gridcolor": "white",
           "linecolor": "white",
           "ticks": "",
           "title": {
            "standoff": 15
           },
           "zerolinecolor": "white",
           "zerolinewidth": 2
          },
          "yaxis": {
           "automargin": true,
           "gridcolor": "white",
           "linecolor": "white",
           "ticks": "",
           "title": {
            "standoff": 15
           },
           "zerolinecolor": "white",
           "zerolinewidth": 2
          }
         }
        },
        "xaxis": {
         "anchor": "y",
         "domain": [
          0,
          1
         ],
         "title": {
          "text": "Manufacturer"
         }
        },
        "yaxis": {
         "anchor": "x",
         "domain": [
          0,
          1
         ],
         "title": {
          "text": "__year_resale_value"
         }
        }
       }
      },
      "text/html": [
       "<div>                            <div id=\"6c82a5f5-459a-4c23-8641-dc898dce9743\" class=\"plotly-graph-div\" style=\"height:400px; width:100%;\"></div>            <script type=\"text/javascript\">                require([\"plotly\"], function(Plotly) {                    window.PLOTLYENV=window.PLOTLYENV || {};                                    if (document.getElementById(\"6c82a5f5-459a-4c23-8641-dc898dce9743\")) {                    Plotly.newPlot(                        \"6c82a5f5-459a-4c23-8641-dc898dce9743\",                        [{\"alignmentgroup\":\"True\",\"customdata\":[[16.919,21.5,1.8]],\"hovertemplate\":\"Model=Integra<br>Manufacturer=%{x}<br>__year_resale_value=%{y}<br>Sales_in_thousands=%{customdata[0]}<br>Price_in_thousands=%{customdata[1]}<br>Engine_size=%{customdata[2]}<extra></extra>\",\"legendgroup\":\"Integra\",\"marker\":{\"color\":\"#636efa\",\"pattern\":{\"shape\":\"\"}},\"name\":\"Integra\",\"offsetgroup\":\"Integra\",\"orientation\":\"v\",\"showlegend\":true,\"textposition\":\"auto\",\"x\":[\"Acura\"],\"xaxis\":\"x\",\"y\":[16.36],\"yaxis\":\"y\",\"type\":\"bar\"},{\"alignmentgroup\":\"True\",\"customdata\":[[39.384,28.4,3.2]],\"hovertemplate\":\"Model=TL<br>Manufacturer=%{x}<br>__year_resale_value=%{y}<br>Sales_in_thousands=%{customdata[0]}<br>Price_in_thousands=%{customdata[1]}<br>Engine_size=%{customdata[2]}<extra></extra>\",\"legendgroup\":\"TL\",\"marker\":{\"color\":\"#EF553B\",\"pattern\":{\"shape\":\"\"}},\"name\":\"TL\",\"offsetgroup\":\"TL\",\"orientation\":\"v\",\"showlegend\":true,\"textposition\":\"auto\",\"x\":[\"Acura\"],\"xaxis\":\"x\",\"y\":[19.875],\"yaxis\":\"y\",\"type\":\"bar\"},{\"alignmentgroup\":\"True\",\"customdata\":[[8.588,42.0,3.5]],\"hovertemplate\":\"Model=RL<br>Manufacturer=%{x}<br>__year_resale_value=%{y}<br>Sales_in_thousands=%{customdata[0]}<br>Price_in_thousands=%{customdata[1]}<br>Engine_size=%{customdata[2]}<extra></extra>\",\"legendgroup\":\"RL\",\"marker\":{\"color\":\"#00cc96\",\"pattern\":{\"shape\":\"\"}},\"name\":\"RL\",\"offsetgroup\":\"RL\",\"orientation\":\"v\",\"showlegend\":true,\"textposition\":\"auto\",\"x\":[\"Acura\"],\"xaxis\":\"x\",\"y\":[29.725],\"yaxis\":\"y\",\"type\":\"bar\"},{\"alignmentgroup\":\"True\",\"customdata\":[[20.397,23.99,1.8]],\"hovertemplate\":\"Model=A4<br>Manufacturer=%{x}<br>__year_resale_value=%{y}<br>Sales_in_thousands=%{customdata[0]}<br>Price_in_thousands=%{customdata[1]}<br>Engine_size=%{customdata[2]}<extra></extra>\",\"legendgroup\":\"A4\",\"marker\":{\"color\":\"#ab63fa\",\"pattern\":{\"shape\":\"\"}},\"name\":\"A4\",\"offsetgroup\":\"A4\",\"orientation\":\"v\",\"showlegend\":true,\"textposition\":\"auto\",\"x\":[\"Audi\"],\"xaxis\":\"x\",\"y\":[22.255],\"yaxis\":\"y\",\"type\":\"bar\"},{\"alignmentgroup\":\"True\",\"customdata\":[[18.78,33.95,2.8]],\"hovertemplate\":\"Model=A6<br>Manufacturer=%{x}<br>__year_resale_value=%{y}<br>Sales_in_thousands=%{customdata[0]}<br>Price_in_thousands=%{customdata[1]}<br>Engine_size=%{customdata[2]}<extra></extra>\",\"legendgroup\":\"A6\",\"marker\":{\"color\":\"#FFA15A\",\"pattern\":{\"shape\":\"\"}},\"name\":\"A6\",\"offsetgroup\":\"A6\",\"orientation\":\"v\",\"showlegend\":true,\"textposition\":\"auto\",\"x\":[\"Audi\"],\"xaxis\":\"x\",\"y\":[23.555],\"yaxis\":\"y\",\"type\":\"bar\"},{\"alignmentgroup\":\"True\",\"customdata\":[[1.38,62.0,4.2]],\"hovertemplate\":\"Model=A8<br>Manufacturer=%{x}<br>__year_resale_value=%{y}<br>Sales_in_thousands=%{customdata[0]}<br>Price_in_thousands=%{customdata[1]}<br>Engine_size=%{customdata[2]}<extra></extra>\",\"legendgroup\":\"A8\",\"marker\":{\"color\":\"#19d3f3\",\"pattern\":{\"shape\":\"\"}},\"name\":\"A8\",\"offsetgroup\":\"A8\",\"orientation\":\"v\",\"showlegend\":true,\"textposition\":\"auto\",\"x\":[\"Audi\"],\"xaxis\":\"x\",\"y\":[39.0],\"yaxis\":\"y\",\"type\":\"bar\"},{\"alignmentgroup\":\"True\",\"customdata\":[[9.231,33.4,2.8]],\"hovertemplate\":\"Model=328i<br>Manufacturer=%{x}<br>__year_resale_value=%{y}<br>Sales_in_thousands=%{customdata[0]}<br>Price_in_thousands=%{customdata[1]}<br>Engine_size=%{customdata[2]}<extra></extra>\",\"legendgroup\":\"328i\",\"marker\":{\"color\":\"#FF6692\",\"pattern\":{\"shape\":\"\"}},\"name\":\"328i\",\"offsetgroup\":\"328i\",\"orientation\":\"v\",\"showlegend\":true,\"textposition\":\"auto\",\"x\":[\"BMW\"],\"xaxis\":\"x\",\"y\":[28.675],\"yaxis\":\"y\",\"type\":\"bar\"},{\"alignmentgroup\":\"True\",\"customdata\":[[17.527,38.9,2.8]],\"hovertemplate\":\"Model=528i<br>Manufacturer=%{x}<br>__year_resale_value=%{y}<br>Sales_in_thousands=%{customdata[0]}<br>Price_in_thousands=%{customdata[1]}<br>Engine_size=%{customdata[2]}<extra></extra>\",\"legendgroup\":\"528i\",\"marker\":{\"color\":\"#B6E880\",\"pattern\":{\"shape\":\"\"}},\"name\":\"528i\",\"offsetgroup\":\"528i\",\"orientation\":\"v\",\"showlegend\":true,\"textposition\":\"auto\",\"x\":[\"BMW\"],\"xaxis\":\"x\",\"y\":[36.125],\"yaxis\":\"y\",\"type\":\"bar\"},{\"alignmentgroup\":\"True\",\"customdata\":[[91.561,21.975,3.1]],\"hovertemplate\":\"Model=Century<br>Manufacturer=%{x}<br>__year_resale_value=%{y}<br>Sales_in_thousands=%{customdata[0]}<br>Price_in_thousands=%{customdata[1]}<br>Engine_size=%{customdata[2]}<extra></extra>\",\"legendgroup\":\"Century\",\"marker\":{\"color\":\"#FF97FF\",\"pattern\":{\"shape\":\"\"}},\"name\":\"Century\",\"offsetgroup\":\"Century\",\"orientation\":\"v\",\"showlegend\":true,\"textposition\":\"auto\",\"x\":[\"Buick\"],\"xaxis\":\"x\",\"y\":[12.475],\"yaxis\":\"y\",\"type\":\"bar\"},{\"alignmentgroup\":\"True\",\"customdata\":[[39.35,25.3,3.8]],\"hovertemplate\":\"Model=Regal<br>Manufacturer=%{x}<br>__year_resale_value=%{y}<br>Sales_in_thousands=%{customdata[0]}<br>Price_in_thousands=%{customdata[1]}<br>Engine_size=%{customdata[2]}<extra></extra>\",\"legendgroup\":\"Regal\",\"marker\":{\"color\":\"#FECB52\",\"pattern\":{\"shape\":\"\"}},\"name\":\"Regal\",\"offsetgroup\":\"Regal\",\"orientation\":\"v\",\"showlegend\":true,\"textposition\":\"auto\",\"x\":[\"Buick\"],\"xaxis\":\"x\",\"y\":[13.74],\"yaxis\":\"y\",\"type\":\"bar\"},{\"alignmentgroup\":\"True\",\"customdata\":[[27.851,31.965,3.8]],\"hovertemplate\":\"Model=Park Avenue<br>Manufacturer=%{x}<br>__year_resale_value=%{y}<br>Sales_in_thousands=%{customdata[0]}<br>Price_in_thousands=%{customdata[1]}<br>Engine_size=%{customdata[2]}<extra></extra>\",\"legendgroup\":\"Park Avenue\",\"marker\":{\"color\":\"#636efa\",\"pattern\":{\"shape\":\"\"}},\"name\":\"Park Avenue\",\"offsetgroup\":\"Park Avenue\",\"orientation\":\"v\",\"showlegend\":true,\"textposition\":\"auto\",\"x\":[\"Buick\"],\"xaxis\":\"x\",\"y\":[20.19],\"yaxis\":\"y\",\"type\":\"bar\"},{\"alignmentgroup\":\"True\",\"customdata\":[[83.257,27.885,3.8]],\"hovertemplate\":\"Model=LeSabre<br>Manufacturer=%{x}<br>__year_resale_value=%{y}<br>Sales_in_thousands=%{customdata[0]}<br>Price_in_thousands=%{customdata[1]}<br>Engine_size=%{customdata[2]}<extra></extra>\",\"legendgroup\":\"LeSabre\",\"marker\":{\"color\":\"#EF553B\",\"pattern\":{\"shape\":\"\"}},\"name\":\"LeSabre\",\"offsetgroup\":\"LeSabre\",\"orientation\":\"v\",\"showlegend\":true,\"textposition\":\"auto\",\"x\":[\"Buick\"],\"xaxis\":\"x\",\"y\":[13.36],\"yaxis\":\"y\",\"type\":\"bar\"},{\"alignmentgroup\":\"True\",\"customdata\":[[63.729,39.895,4.6]],\"hovertemplate\":\"Model=DeVille<br>Manufacturer=%{x}<br>__year_resale_value=%{y}<br>Sales_in_thousands=%{customdata[0]}<br>Price_in_thousands=%{customdata[1]}<br>Engine_size=%{customdata[2]}<extra></extra>\",\"legendgroup\":\"DeVille\",\"marker\":{\"color\":\"#00cc96\",\"pattern\":{\"shape\":\"\"}},\"name\":\"DeVille\",\"offsetgroup\":\"DeVille\",\"orientation\":\"v\",\"showlegend\":true,\"textposition\":\"auto\",\"x\":[\"Cadillac\"],\"xaxis\":\"x\",\"y\":[22.525],\"yaxis\":\"y\",\"type\":\"bar\"},{\"alignmentgroup\":\"True\",\"customdata\":[[6.536,39.665,4.6]],\"hovertemplate\":\"Model=Eldorado<br>Manufacturer=%{x}<br>__year_resale_value=%{y}<br>Sales_in_thousands=%{customdata[0]}<br>Price_in_thousands=%{customdata[1]}<br>Engine_size=%{customdata[2]}<extra></extra>\",\"legendgroup\":\"Eldorado\",\"marker\":{\"color\":\"#ab63fa\",\"pattern\":{\"shape\":\"\"}},\"name\":\"Eldorado\",\"offsetgroup\":\"Eldorado\",\"orientation\":\"v\",\"showlegend\":true,\"textposition\":\"auto\",\"x\":[\"Cadillac\"],\"xaxis\":\"x\",\"y\":[25.725],\"yaxis\":\"y\",\"type\":\"bar\"},{\"alignmentgroup\":\"True\",\"customdata\":[[11.185,31.01,3.0]],\"hovertemplate\":\"Model=Catera<br>Manufacturer=%{x}<br>__year_resale_value=%{y}<br>Sales_in_thousands=%{customdata[0]}<br>Price_in_thousands=%{customdata[1]}<br>Engine_size=%{customdata[2]}<extra></extra>\",\"legendgroup\":\"Catera\",\"marker\":{\"color\":\"#FFA15A\",\"pattern\":{\"shape\":\"\"}},\"name\":\"Catera\",\"offsetgroup\":\"Catera\",\"orientation\":\"v\",\"showlegend\":true,\"textposition\":\"auto\",\"x\":[\"Cadillac\"],\"xaxis\":\"x\",\"y\":[18.225],\"yaxis\":\"y\",\"type\":\"bar\"},{\"alignmentgroup\":\"True\",\"customdata\":[[145.519,13.26,2.2]],\"hovertemplate\":\"Model=Cavalier<br>Manufacturer=%{x}<br>__year_resale_value=%{y}<br>Sales_in_thousands=%{customdata[0]}<br>Price_in_thousands=%{customdata[1]}<br>Engine_size=%{customdata[2]}<extra></extra>\",\"legendgroup\":\"Cavalier\",\"marker\":{\"color\":\"#19d3f3\",\"pattern\":{\"shape\":\"\"}},\"name\":\"Cavalier\",\"offsetgroup\":\"Cavalier\",\"orientation\":\"v\",\"showlegend\":true,\"textposition\":\"auto\",\"x\":[\"Chevrolet\"],\"xaxis\":\"x\",\"y\":[9.25],\"yaxis\":\"y\",\"type\":\"bar\"},{\"alignmentgroup\":\"True\",\"customdata\":[[135.126,16.535,3.1]],\"hovertemplate\":\"Model=Malibu<br>Manufacturer=%{x}<br>__year_resale_value=%{y}<br>Sales_in_thousands=%{customdata[0]}<br>Price_in_thousands=%{customdata[1]}<br>Engine_size=%{customdata[2]}<extra></extra>\",\"legendgroup\":\"Malibu\",\"marker\":{\"color\":\"#FF6692\",\"pattern\":{\"shape\":\"\"}},\"name\":\"Malibu\",\"offsetgroup\":\"Malibu\",\"orientation\":\"v\",\"showlegend\":true,\"textposition\":\"auto\",\"x\":[\"Chevrolet\"],\"xaxis\":\"x\",\"y\":[11.225],\"yaxis\":\"y\",\"type\":\"bar\"},{\"alignmentgroup\":\"True\",\"customdata\":[[24.629,18.89,3.1]],\"hovertemplate\":\"Model=Lumina<br>Manufacturer=%{x}<br>__year_resale_value=%{y}<br>Sales_in_thousands=%{customdata[0]}<br>Price_in_thousands=%{customdata[1]}<br>Engine_size=%{customdata[2]}<extra></extra>\",\"legendgroup\":\"Lumina\",\"marker\":{\"color\":\"#B6E880\",\"pattern\":{\"shape\":\"\"}},\"name\":\"Lumina\",\"offsetgroup\":\"Lumina\",\"orientation\":\"v\",\"showlegend\":true,\"textposition\":\"auto\",\"x\":[\"Chevrolet\"],\"xaxis\":\"x\",\"y\":[10.31],\"yaxis\":\"y\",\"type\":\"bar\"},{\"alignmentgroup\":\"True\",\"customdata\":[[42.593,19.39,3.4]],\"hovertemplate\":\"Model=Monte Carlo<br>Manufacturer=%{x}<br>__year_resale_value=%{y}<br>Sales_in_thousands=%{customdata[0]}<br>Price_in_thousands=%{customdata[1]}<br>Engine_size=%{customdata[2]}<extra></extra>\",\"legendgroup\":\"Monte Carlo\",\"marker\":{\"color\":\"#FF97FF\",\"pattern\":{\"shape\":\"\"}},\"name\":\"Monte Carlo\",\"offsetgroup\":\"Monte Carlo\",\"orientation\":\"v\",\"showlegend\":true,\"textposition\":\"auto\",\"x\":[\"Chevrolet\"],\"xaxis\":\"x\",\"y\":[11.525],\"yaxis\":\"y\",\"type\":\"bar\"},{\"alignmentgroup\":\"True\",\"customdata\":[[26.402,24.34,3.8]],\"hovertemplate\":\"Model=Camaro<br>Manufacturer=%{x}<br>__year_resale_value=%{y}<br>Sales_in_thousands=%{customdata[0]}<br>Price_in_thousands=%{customdata[1]}<br>Engine_size=%{customdata[2]}<extra></extra>\",\"legendgroup\":\"Camaro\",\"marker\":{\"color\":\"#FECB52\",\"pattern\":{\"shape\":\"\"}},\"name\":\"Camaro\",\"offsetgroup\":\"Camaro\",\"orientation\":\"v\",\"showlegend\":true,\"textposition\":\"auto\",\"x\":[\"Chevrolet\"],\"xaxis\":\"x\",\"y\":[13.025],\"yaxis\":\"y\",\"type\":\"bar\"},{\"alignmentgroup\":\"True\",\"customdata\":[[17.947,45.705,5.7]],\"hovertemplate\":\"Model=Corvette<br>Manufacturer=%{x}<br>__year_resale_value=%{y}<br>Sales_in_thousands=%{customdata[0]}<br>Price_in_thousands=%{customdata[1]}<br>Engine_size=%{customdata[2]}<extra></extra>\",\"legendgroup\":\"Corvette\",\"marker\":{\"color\":\"#636efa\",\"pattern\":{\"shape\":\"\"}},\"name\":\"Corvette\",\"offsetgroup\":\"Corvette\",\"orientation\":\"v\",\"showlegend\":true,\"textposition\":\"auto\",\"x\":[\"Chevrolet\"],\"xaxis\":\"x\",\"y\":[36.225],\"yaxis\":\"y\",\"type\":\"bar\"},{\"alignmentgroup\":\"True\",\"customdata\":[[32.299,13.96,1.8]],\"hovertemplate\":\"Model=Prizm<br>Manufacturer=%{x}<br>__year_resale_value=%{y}<br>Sales_in_thousands=%{customdata[0]}<br>Price_in_thousands=%{customdata[1]}<br>Engine_size=%{customdata[2]}<extra></extra>\",\"legendgroup\":\"Prizm\",\"marker\":{\"color\":\"#EF553B\",\"pattern\":{\"shape\":\"\"}},\"name\":\"Prizm\",\"offsetgroup\":\"Prizm\",\"orientation\":\"v\",\"showlegend\":true,\"textposition\":\"auto\",\"x\":[\"Chevrolet\"],\"xaxis\":\"x\",\"y\":[9.125],\"yaxis\":\"y\",\"type\":\"bar\"},{\"alignmentgroup\":\"True\",\"customdata\":[[21.855,9.235,1.0]],\"hovertemplate\":\"Model=Metro<br>Manufacturer=%{x}<br>__year_resale_value=%{y}<br>Sales_in_thousands=%{customdata[0]}<br>Price_in_thousands=%{customdata[1]}<br>Engine_size=%{customdata[2]}<extra></extra>\",\"legendgroup\":\"Metro\",\"marker\":{\"color\":\"#00cc96\",\"pattern\":{\"shape\":\"\"}},\"name\":\"Metro\",\"offsetgroup\":\"Metro\",\"orientation\":\"v\",\"showlegend\":true,\"textposition\":\"auto\",\"x\":[\"Chevrolet\"],\"xaxis\":\"x\",\"y\":[5.16],\"yaxis\":\"y\",\"type\":\"bar\"},{\"alignmentgroup\":\"True\",\"customdata\":[[7.854,19.84,2.5]],\"hovertemplate\":\"Model=Sebring Coupe<br>Manufacturer=%{x}<br>__year_resale_value=%{y}<br>Sales_in_thousands=%{customdata[0]}<br>Price_in_thousands=%{customdata[1]}<br>Engine_size=%{customdata[2]}<extra></extra>\",\"legendgroup\":\"Sebring Coupe\",\"marker\":{\"color\":\"#ab63fa\",\"pattern\":{\"shape\":\"\"}},\"name\":\"Sebring Coupe\",\"offsetgroup\":\"Sebring Coupe\",\"orientation\":\"v\",\"showlegend\":true,\"textposition\":\"auto\",\"x\":[\"Chrysler\"],\"xaxis\":\"x\",\"y\":[12.36],\"yaxis\":\"y\",\"type\":\"bar\"},{\"alignmentgroup\":\"True\",\"customdata\":[[32.775,24.495,2.5]],\"hovertemplate\":\"Model=Sebring Conv.<br>Manufacturer=%{x}<br>__year_resale_value=%{y}<br>Sales_in_thousands=%{customdata[0]}<br>Price_in_thousands=%{customdata[1]}<br>Engine_size=%{customdata[2]}<extra></extra>\",\"legendgroup\":\"Sebring Conv.\",\"marker\":{\"color\":\"#FFA15A\",\"pattern\":{\"shape\":\"\"}},\"name\":\"Sebring Conv.\",\"offsetgroup\":\"Sebring Conv.\",\"orientation\":\"v\",\"showlegend\":true,\"textposition\":\"auto\",\"x\":[\"Chrysler\"],\"xaxis\":\"x\",\"y\":[14.18],\"yaxis\":\"y\",\"type\":\"bar\"},{\"alignmentgroup\":\"True\",\"customdata\":[[31.148,22.245,2.7]],\"hovertemplate\":\"Model=Concorde<br>Manufacturer=%{x}<br>__year_resale_value=%{y}<br>Sales_in_thousands=%{customdata[0]}<br>Price_in_thousands=%{customdata[1]}<br>Engine_size=%{customdata[2]}<extra></extra>\",\"legendgroup\":\"Concorde\",\"marker\":{\"color\":\"#19d3f3\",\"pattern\":{\"shape\":\"\"}},\"name\":\"Concorde\",\"offsetgroup\":\"Concorde\",\"orientation\":\"v\",\"showlegend\":true,\"textposition\":\"auto\",\"x\":[\"Chrysler\"],\"xaxis\":\"x\",\"y\":[13.725],\"yaxis\":\"y\",\"type\":\"bar\"},{\"alignmentgroup\":\"True\",\"customdata\":[[32.306,16.48,2.0]],\"hovertemplate\":\"Model=Cirrus<br>Manufacturer=%{x}<br>__year_resale_value=%{y}<br>Sales_in_thousands=%{customdata[0]}<br>Price_in_thousands=%{customdata[1]}<br>Engine_size=%{customdata[2]}<extra></extra>\",\"legendgroup\":\"Cirrus\",\"marker\":{\"color\":\"#FF6692\",\"pattern\":{\"shape\":\"\"}},\"name\":\"Cirrus\",\"offsetgroup\":\"Cirrus\",\"orientation\":\"v\",\"showlegend\":true,\"textposition\":\"auto\",\"x\":[\"Chrysler\"],\"xaxis\":\"x\",\"y\":[12.64],\"yaxis\":\"y\",\"type\":\"bar\"},{\"alignmentgroup\":\"True\",\"customdata\":[[13.462,28.34,3.5]],\"hovertemplate\":\"Model=LHS<br>Manufacturer=%{x}<br>__year_resale_value=%{y}<br>Sales_in_thousands=%{customdata[0]}<br>Price_in_thousands=%{customdata[1]}<br>Engine_size=%{customdata[2]}<extra></extra>\",\"legendgroup\":\"LHS\",\"marker\":{\"color\":\"#B6E880\",\"pattern\":{\"shape\":\"\"}},\"name\":\"LHS\",\"offsetgroup\":\"LHS\",\"orientation\":\"v\",\"showlegend\":true,\"textposition\":\"auto\",\"x\":[\"Chrysler\"],\"xaxis\":\"x\",\"y\":[17.325],\"yaxis\":\"y\",\"type\":\"bar\"},{\"alignmentgroup\":\"True\",\"customdata\":[[76.034,12.64,2.0],[32.734,12.64,2.0]],\"hovertemplate\":\"Model=Neon<br>Manufacturer=%{x}<br>__year_resale_value=%{y}<br>Sales_in_thousands=%{customdata[0]}<br>Price_in_thousands=%{customdata[1]}<br>Engine_size=%{customdata[2]}<extra></extra>\",\"legendgroup\":\"Neon\",\"marker\":{\"color\":\"#FF97FF\",\"pattern\":{\"shape\":\"\"}},\"name\":\"Neon\",\"offsetgroup\":\"Neon\",\"orientation\":\"v\",\"showlegend\":true,\"textposition\":\"auto\",\"x\":[\"Dodge\",\"Plymouth\"],\"xaxis\":\"x\",\"y\":[7.75,7.75],\"yaxis\":\"y\",\"type\":\"bar\"},{\"alignmentgroup\":\"True\",\"customdata\":[[4.734,19.045,2.5]],\"hovertemplate\":\"Model=Avenger<br>Manufacturer=%{x}<br>__year_resale_value=%{y}<br>Sales_in_thousands=%{customdata[0]}<br>Price_in_thousands=%{customdata[1]}<br>Engine_size=%{customdata[2]}<extra></extra>\",\"legendgroup\":\"Avenger\",\"marker\":{\"color\":\"#FECB52\",\"pattern\":{\"shape\":\"\"}},\"name\":\"Avenger\",\"offsetgroup\":\"Avenger\",\"orientation\":\"v\",\"showlegend\":true,\"textposition\":\"auto\",\"x\":[\"Dodge\"],\"xaxis\":\"x\",\"y\":[12.545],\"yaxis\":\"y\",\"type\":\"bar\"},{\"alignmentgroup\":\"True\",\"customdata\":[[71.186,20.23,2.5]],\"hovertemplate\":\"Model=Stratus<br>Manufacturer=%{x}<br>__year_resale_value=%{y}<br>Sales_in_thousands=%{customdata[0]}<br>Price_in_thousands=%{customdata[1]}<br>Engine_size=%{customdata[2]}<extra></extra>\",\"legendgroup\":\"Stratus\",\"marker\":{\"color\":\"#636efa\",\"pattern\":{\"shape\":\"\"}},\"name\":\"Stratus\",\"offsetgroup\":\"Stratus\",\"orientation\":\"v\",\"showlegend\":true,\"textposition\":\"auto\",\"x\":[\"Dodge\"],\"xaxis\":\"x\",\"y\":[10.185],\"yaxis\":\"y\",\"type\":\"bar\"},{\"alignmentgroup\":\"True\",\"customdata\":[[0.916,69.725,8.0]],\"hovertemplate\":\"Model=Viper<br>Manufacturer=%{x}<br>__year_resale_value=%{y}<br>Sales_in_thousands=%{customdata[0]}<br>Price_in_thousands=%{customdata[1]}<br>Engine_size=%{customdata[2]}<extra></extra>\",\"legendgroup\":\"Viper\",\"marker\":{\"color\":\"#EF553B\",\"pattern\":{\"shape\":\"\"}},\"name\":\"Viper\",\"offsetgroup\":\"Viper\",\"orientation\":\"v\",\"showlegend\":true,\"textposition\":\"auto\",\"x\":[\"Dodge\"],\"xaxis\":\"x\",\"y\":[58.47],\"yaxis\":\"y\",\"type\":\"bar\"},{\"alignmentgroup\":\"True\",\"customdata\":[[227.061,19.46,5.2]],\"hovertemplate\":\"Model=Ram Pickup<br>Manufacturer=%{x}<br>__year_resale_value=%{y}<br>Sales_in_thousands=%{customdata[0]}<br>Price_in_thousands=%{customdata[1]}<br>Engine_size=%{customdata[2]}<extra></extra>\",\"legendgroup\":\"Ram Pickup\",\"marker\":{\"color\":\"#00cc96\",\"pattern\":{\"shape\":\"\"}},\"name\":\"Ram Pickup\",\"offsetgroup\":\"Ram Pickup\",\"orientation\":\"v\",\"showlegend\":true,\"textposition\":\"auto\",\"x\":[\"Dodge\"],\"xaxis\":\"x\",\"y\":[15.06],\"yaxis\":\"y\",\"type\":\"bar\"},{\"alignmentgroup\":\"True\",\"customdata\":[[16.767,21.315,3.9]],\"hovertemplate\":\"Model=Ram Wagon<br>Manufacturer=%{x}<br>__year_resale_value=%{y}<br>Sales_in_thousands=%{customdata[0]}<br>Price_in_thousands=%{customdata[1]}<br>Engine_size=%{customdata[2]}<extra></extra>\",\"legendgroup\":\"Ram Wagon\",\"marker\":{\"color\":\"#ab63fa\",\"pattern\":{\"shape\":\"\"}},\"name\":\"Ram Wagon\",\"offsetgroup\":\"Ram Wagon\",\"orientation\":\"v\",\"showlegend\":true,\"textposition\":\"auto\",\"x\":[\"Dodge\"],\"xaxis\":\"x\",\"y\":[15.51],\"yaxis\":\"y\",\"type\":\"bar\"},{\"alignmentgroup\":\"True\",\"customdata\":[[31.038,18.575,3.9]],\"hovertemplate\":\"Model=Ram Van<br>Manufacturer=%{x}<br>__year_resale_value=%{y}<br>Sales_in_thousands=%{customdata[0]}<br>Price_in_thousands=%{customdata[1]}<br>Engine_size=%{customdata[2]}<extra></extra>\",\"legendgroup\":\"Ram Van\",\"marker\":{\"color\":\"#FFA15A\",\"pattern\":{\"shape\":\"\"}},\"name\":\"Ram Van\",\"offsetgroup\":\"Ram Van\",\"orientation\":\"v\",\"showlegend\":true,\"textposition\":\"auto\",\"x\":[\"Dodge\"],\"xaxis\":\"x\",\"y\":[13.425],\"yaxis\":\"y\",\"type\":\"bar\"},{\"alignmentgroup\":\"True\",\"customdata\":[[111.313,16.98,2.5]],\"hovertemplate\":\"Model=Dakota<br>Manufacturer=%{x}<br>__year_resale_value=%{y}<br>Sales_in_thousands=%{customdata[0]}<br>Price_in_thousands=%{customdata[1]}<br>Engine_size=%{customdata[2]}<extra></extra>\",\"legendgroup\":\"Dakota\",\"marker\":{\"color\":\"#19d3f3\",\"pattern\":{\"shape\":\"\"}},\"name\":\"Dakota\",\"offsetgroup\":\"Dakota\",\"orientation\":\"v\",\"showlegend\":true,\"textposition\":\"auto\",\"x\":[\"Dodge\"],\"xaxis\":\"x\",\"y\":[11.26],\"yaxis\":\"y\",\"type\":\"bar\"},{\"alignmentgroup\":\"True\",\"customdata\":[[181.749,19.565,2.4]],\"hovertemplate\":\"Model=Caravan<br>Manufacturer=%{x}<br>__year_resale_value=%{y}<br>Sales_in_thousands=%{customdata[0]}<br>Price_in_thousands=%{customdata[1]}<br>Engine_size=%{customdata[2]}<extra></extra>\",\"legendgroup\":\"Caravan\",\"marker\":{\"color\":\"#FF6692\",\"pattern\":{\"shape\":\"\"}},\"name\":\"Caravan\",\"offsetgroup\":\"Caravan\",\"orientation\":\"v\",\"showlegend\":true,\"textposition\":\"auto\",\"x\":[\"Dodge\"],\"xaxis\":\"x\",\"y\":[12.025],\"yaxis\":\"y\",\"type\":\"bar\"},{\"alignmentgroup\":\"True\",\"customdata\":[[70.227,12.07,2.0]],\"hovertemplate\":\"Model=Escort<br>Manufacturer=%{x}<br>__year_resale_value=%{y}<br>Sales_in_thousands=%{customdata[0]}<br>Price_in_thousands=%{customdata[1]}<br>Engine_size=%{customdata[2]}<extra></extra>\",\"legendgroup\":\"Escort\",\"marker\":{\"color\":\"#B6E880\",\"pattern\":{\"shape\":\"\"}},\"name\":\"Escort\",\"offsetgroup\":\"Escort\",\"orientation\":\"v\",\"showlegend\":true,\"textposition\":\"auto\",\"x\":[\"Ford\"],\"xaxis\":\"x\",\"y\":[7.425],\"yaxis\":\"y\",\"type\":\"bar\"},{\"alignmentgroup\":\"True\",\"customdata\":[[113.369,21.56,3.8]],\"hovertemplate\":\"Model=Mustang<br>Manufacturer=%{x}<br>__year_resale_value=%{y}<br>Sales_in_thousands=%{customdata[0]}<br>Price_in_thousands=%{customdata[1]}<br>Engine_size=%{customdata[2]}<extra></extra>\",\"legendgroup\":\"Mustang\",\"marker\":{\"color\":\"#FF97FF\",\"pattern\":{\"shape\":\"\"}},\"name\":\"Mustang\",\"offsetgroup\":\"Mustang\",\"orientation\":\"v\",\"showlegend\":true,\"textposition\":\"auto\",\"x\":[\"Ford\"],\"xaxis\":\"x\",\"y\":[12.76],\"yaxis\":\"y\",\"type\":\"bar\"},{\"alignmentgroup\":\"True\",\"customdata\":[[35.068,17.035,2.5]],\"hovertemplate\":\"Model=Contour<br>Manufacturer=%{x}<br>__year_resale_value=%{y}<br>Sales_in_thousands=%{customdata[0]}<br>Price_in_thousands=%{customdata[1]}<br>Engine_size=%{customdata[2]}<extra></extra>\",\"legendgroup\":\"Contour\",\"marker\":{\"color\":\"#FECB52\",\"pattern\":{\"shape\":\"\"}},\"name\":\"Contour\",\"offsetgroup\":\"Contour\",\"orientation\":\"v\",\"showlegend\":true,\"textposition\":\"auto\",\"x\":[\"Ford\"],\"xaxis\":\"x\",\"y\":[8.835],\"yaxis\":\"y\",\"type\":\"bar\"},{\"alignmentgroup\":\"True\",\"customdata\":[[245.815,17.885,3.0]],\"hovertemplate\":\"Model=Taurus<br>Manufacturer=%{x}<br>__year_resale_value=%{y}<br>Sales_in_thousands=%{customdata[0]}<br>Price_in_thousands=%{customdata[1]}<br>Engine_size=%{customdata[2]}<extra></extra>\",\"legendgroup\":\"Taurus\",\"marker\":{\"color\":\"#636efa\",\"pattern\":{\"shape\":\"\"}},\"name\":\"Taurus\",\"offsetgroup\":\"Taurus\",\"orientation\":\"v\",\"showlegend\":true,\"textposition\":\"auto\",\"x\":[\"Ford\"],\"xaxis\":\"x\",\"y\":[10.055],\"yaxis\":\"y\",\"type\":\"bar\"},{\"alignmentgroup\":\"True\",\"customdata\":[[63.403,22.195,4.6]],\"hovertemplate\":\"Model=Crown Victoria<br>Manufacturer=%{x}<br>__year_resale_value=%{y}<br>Sales_in_thousands=%{customdata[0]}<br>Price_in_thousands=%{customdata[1]}<br>Engine_size=%{customdata[2]}<extra></extra>\",\"legendgroup\":\"Crown Victoria\",\"marker\":{\"color\":\"#EF553B\",\"pattern\":{\"shape\":\"\"}},\"name\":\"Crown Victoria\",\"offsetgroup\":\"Crown Victoria\",\"orientation\":\"v\",\"showlegend\":true,\"textposition\":\"auto\",\"x\":[\"Ford\"],\"xaxis\":\"x\",\"y\":[14.21],\"yaxis\":\"y\",\"type\":\"bar\"},{\"alignmentgroup\":\"True\",\"customdata\":[[276.747,31.93,4.0]],\"hovertemplate\":\"Model=Explorer<br>Manufacturer=%{x}<br>__year_resale_value=%{y}<br>Sales_in_thousands=%{customdata[0]}<br>Price_in_thousands=%{customdata[1]}<br>Engine_size=%{customdata[2]}<extra></extra>\",\"legendgroup\":\"Explorer\",\"marker\":{\"color\":\"#00cc96\",\"pattern\":{\"shape\":\"\"}},\"name\":\"Explorer\",\"offsetgroup\":\"Explorer\",\"orientation\":\"v\",\"showlegend\":true,\"textposition\":\"auto\",\"x\":[\"Ford\"],\"xaxis\":\"x\",\"y\":[16.64],\"yaxis\":\"y\",\"type\":\"bar\"},{\"alignmentgroup\":\"True\",\"customdata\":[[155.787,21.41,3.0]],\"hovertemplate\":\"Model=Windstar<br>Manufacturer=%{x}<br>__year_resale_value=%{y}<br>Sales_in_thousands=%{customdata[0]}<br>Price_in_thousands=%{customdata[1]}<br>Engine_size=%{customdata[2]}<extra></extra>\",\"legendgroup\":\"Windstar\",\"marker\":{\"color\":\"#ab63fa\",\"pattern\":{\"shape\":\"\"}},\"name\":\"Windstar\",\"offsetgroup\":\"Windstar\",\"orientation\":\"v\",\"showlegend\":true,\"textposition\":\"auto\",\"x\":[\"Ford\"],\"xaxis\":\"x\",\"y\":[13.175],\"yaxis\":\"y\",\"type\":\"bar\"},{\"alignmentgroup\":\"True\",\"customdata\":[[125.338,36.135,4.6]],\"hovertemplate\":\"Model=Expedition<br>Manufacturer=%{x}<br>__year_resale_value=%{y}<br>Sales_in_thousands=%{customdata[0]}<br>Price_in_thousands=%{customdata[1]}<br>Engine_size=%{customdata[2]}<extra></extra>\",\"legendgroup\":\"Expedition\",\"marker\":{\"color\":\"#FFA15A\",\"pattern\":{\"shape\":\"\"}},\"name\":\"Expedition\",\"offsetgroup\":\"Expedition\",\"orientation\":\"v\",\"showlegend\":true,\"textposition\":\"auto\",\"x\":[\"Ford\"],\"xaxis\":\"x\",\"y\":[23.575],\"yaxis\":\"y\",\"type\":\"bar\"},{\"alignmentgroup\":\"True\",\"customdata\":[[220.65,12.05,2.5]],\"hovertemplate\":\"Model=Ranger<br>Manufacturer=%{x}<br>__year_resale_value=%{y}<br>Sales_in_thousands=%{customdata[0]}<br>Price_in_thousands=%{customdata[1]}<br>Engine_size=%{customdata[2]}<extra></extra>\",\"legendgroup\":\"Ranger\",\"marker\":{\"color\":\"#19d3f3\",\"pattern\":{\"shape\":\"\"}},\"name\":\"Ranger\",\"offsetgroup\":\"Ranger\",\"orientation\":\"v\",\"showlegend\":true,\"textposition\":\"auto\",\"x\":[\"Ford\"],\"xaxis\":\"x\",\"y\":[7.85],\"yaxis\":\"y\",\"type\":\"bar\"},{\"alignmentgroup\":\"True\",\"customdata\":[[540.561,26.935,4.6]],\"hovertemplate\":\"Model=F-Series<br>Manufacturer=%{x}<br>__year_resale_value=%{y}<br>Sales_in_thousands=%{customdata[0]}<br>Price_in_thousands=%{customdata[1]}<br>Engine_size=%{customdata[2]}<extra></extra>\",\"legendgroup\":\"F-Series\",\"marker\":{\"color\":\"#FF6692\",\"pattern\":{\"shape\":\"\"}},\"name\":\"F-Series\",\"offsetgroup\":\"F-Series\",\"orientation\":\"v\",\"showlegend\":true,\"textposition\":\"auto\",\"x\":[\"Ford\"],\"xaxis\":\"x\",\"y\":[15.075],\"yaxis\":\"y\",\"type\":\"bar\"},{\"alignmentgroup\":\"True\",\"customdata\":[[199.685,12.885,1.6]],\"hovertemplate\":\"Model=Civic<br>Manufacturer=%{x}<br>__year_resale_value=%{y}<br>Sales_in_thousands=%{customdata[0]}<br>Price_in_thousands=%{customdata[1]}<br>Engine_size=%{customdata[2]}<extra></extra>\",\"legendgroup\":\"Civic\",\"marker\":{\"color\":\"#B6E880\",\"pattern\":{\"shape\":\"\"}},\"name\":\"Civic\",\"offsetgroup\":\"Civic\",\"orientation\":\"v\",\"showlegend\":true,\"textposition\":\"auto\",\"x\":[\"Honda\"],\"xaxis\":\"x\",\"y\":[9.85],\"yaxis\":\"y\",\"type\":\"bar\"},{\"alignmentgroup\":\"True\",\"customdata\":[[230.902,15.35,2.3]],\"hovertemplate\":\"Model=Accord<br>Manufacturer=%{x}<br>__year_resale_value=%{y}<br>Sales_in_thousands=%{customdata[0]}<br>Price_in_thousands=%{customdata[1]}<br>Engine_size=%{customdata[2]}<extra></extra>\",\"legendgroup\":\"Accord\",\"marker\":{\"color\":\"#FF97FF\",\"pattern\":{\"shape\":\"\"}},\"name\":\"Accord\",\"offsetgroup\":\"Accord\",\"orientation\":\"v\",\"showlegend\":true,\"textposition\":\"auto\",\"x\":[\"Honda\"],\"xaxis\":\"x\",\"y\":[13.21],\"yaxis\":\"y\",\"type\":\"bar\"},{\"alignmentgroup\":\"True\",\"customdata\":[[73.203,20.55,2.0]],\"hovertemplate\":\"Model=CR-V<br>Manufacturer=%{x}<br>__year_resale_value=%{y}<br>Sales_in_thousands=%{customdata[0]}<br>Price_in_thousands=%{customdata[1]}<br>Engine_size=%{customdata[2]}<extra></extra>\",\"legendgroup\":\"CR-V\",\"marker\":{\"color\":\"#FECB52\",\"pattern\":{\"shape\":\"\"}},\"name\":\"CR-V\",\"offsetgroup\":\"CR-V\",\"orientation\":\"v\",\"showlegend\":true,\"textposition\":\"auto\",\"x\":[\"Honda\"],\"xaxis\":\"x\",\"y\":[17.71],\"yaxis\":\"y\",\"type\":\"bar\"},{\"alignmentgroup\":\"True\",\"customdata\":[[12.855,26.6,3.2]],\"hovertemplate\":\"Model=Passport<br>Manufacturer=%{x}<br>__year_resale_value=%{y}<br>Sales_in_thousands=%{customdata[0]}<br>Price_in_thousands=%{customdata[1]}<br>Engine_size=%{customdata[2]}<extra></extra>\",\"legendgroup\":\"Passport\",\"marker\":{\"color\":\"#636efa\",\"pattern\":{\"shape\":\"\"}},\"name\":\"Passport\",\"offsetgroup\":\"Passport\",\"orientation\":\"v\",\"showlegend\":true,\"textposition\":\"auto\",\"x\":[\"Honda\"],\"xaxis\":\"x\",\"y\":[17.525],\"yaxis\":\"y\",\"type\":\"bar\"},{\"alignmentgroup\":\"True\",\"customdata\":[[76.029,26.0,3.5]],\"hovertemplate\":\"Model=Odyssey<br>Manufacturer=%{x}<br>__year_resale_value=%{y}<br>Sales_in_thousands=%{customdata[0]}<br>Price_in_thousands=%{customdata[1]}<br>Engine_size=%{customdata[2]}<extra></extra>\",\"legendgroup\":\"Odyssey\",\"marker\":{\"color\":\"#EF553B\",\"pattern\":{\"shape\":\"\"}},\"name\":\"Odyssey\",\"offsetgroup\":\"Odyssey\",\"orientation\":\"v\",\"showlegend\":true,\"textposition\":\"auto\",\"x\":[\"Honda\"],\"xaxis\":\"x\",\"y\":[19.49],\"yaxis\":\"y\",\"type\":\"bar\"},{\"alignmentgroup\":\"True\",\"customdata\":[[41.184,9.699,1.5]],\"hovertemplate\":\"Model=Accent<br>Manufacturer=%{x}<br>__year_resale_value=%{y}<br>Sales_in_thousands=%{customdata[0]}<br>Price_in_thousands=%{customdata[1]}<br>Engine_size=%{customdata[2]}<extra></extra>\",\"legendgroup\":\"Accent\",\"marker\":{\"color\":\"#00cc96\",\"pattern\":{\"shape\":\"\"}},\"name\":\"Accent\",\"offsetgroup\":\"Accent\",\"orientation\":\"v\",\"showlegend\":true,\"textposition\":\"auto\",\"x\":[\"Hyundai\"],\"xaxis\":\"x\",\"y\":[5.86],\"yaxis\":\"y\",\"type\":\"bar\"},{\"alignmentgroup\":\"True\",\"customdata\":[[66.692,11.799,2.0]],\"hovertemplate\":\"Model=Elantra<br>Manufacturer=%{x}<br>__year_resale_value=%{y}<br>Sales_in_thousands=%{customdata[0]}<br>Price_in_thousands=%{customdata[1]}<br>Engine_size=%{customdata[2]}<extra></extra>\",\"legendgroup\":\"Elantra\",\"marker\":{\"color\":\"#ab63fa\",\"pattern\":{\"shape\":\"\"}},\"name\":\"Elantra\",\"offsetgroup\":\"Elantra\",\"orientation\":\"v\",\"showlegend\":true,\"textposition\":\"auto\",\"x\":[\"Hyundai\"],\"xaxis\":\"x\",\"y\":[7.825],\"yaxis\":\"y\",\"type\":\"bar\"},{\"alignmentgroup\":\"True\",\"customdata\":[[29.45,14.999,2.4]],\"hovertemplate\":\"Model=Sonata<br>Manufacturer=%{x}<br>__year_resale_value=%{y}<br>Sales_in_thousands=%{customdata[0]}<br>Price_in_thousands=%{customdata[1]}<br>Engine_size=%{customdata[2]}<extra></extra>\",\"legendgroup\":\"Sonata\",\"marker\":{\"color\":\"#FFA15A\",\"pattern\":{\"shape\":\"\"}},\"name\":\"Sonata\",\"offsetgroup\":\"Sonata\",\"orientation\":\"v\",\"showlegend\":true,\"textposition\":\"auto\",\"x\":[\"Hyundai\"],\"xaxis\":\"x\",\"y\":[8.91],\"yaxis\":\"y\",\"type\":\"bar\"},{\"alignmentgroup\":\"True\",\"customdata\":[[23.713,29.465,3.0]],\"hovertemplate\":\"Model=I30<br>Manufacturer=%{x}<br>__year_resale_value=%{y}<br>Sales_in_thousands=%{customdata[0]}<br>Price_in_thousands=%{customdata[1]}<br>Engine_size=%{customdata[2]}<extra></extra>\",\"legendgroup\":\"I30\",\"marker\":{\"color\":\"#19d3f3\",\"pattern\":{\"shape\":\"\"}},\"name\":\"I30\",\"offsetgroup\":\"I30\",\"orientation\":\"v\",\"showlegend\":true,\"textposition\":\"auto\",\"x\":[\"Infiniti\"],\"xaxis\":\"x\",\"y\":[19.69],\"yaxis\":\"y\",\"type\":\"bar\"},{\"alignmentgroup\":\"True\",\"customdata\":[[55.557,14.46,2.5]],\"hovertemplate\":\"Model=Wrangler<br>Manufacturer=%{x}<br>__year_resale_value=%{y}<br>Sales_in_thousands=%{customdata[0]}<br>Price_in_thousands=%{customdata[1]}<br>Engine_size=%{customdata[2]}<extra></extra>\",\"legendgroup\":\"Wrangler\",\"marker\":{\"color\":\"#FF6692\",\"pattern\":{\"shape\":\"\"}},\"name\":\"Wrangler\",\"offsetgroup\":\"Wrangler\",\"orientation\":\"v\",\"showlegend\":true,\"textposition\":\"auto\",\"x\":[\"Jeep\"],\"xaxis\":\"x\",\"y\":[13.475],\"yaxis\":\"y\",\"type\":\"bar\"},{\"alignmentgroup\":\"True\",\"customdata\":[[80.556,21.62,4.0]],\"hovertemplate\":\"Model=Cherokee<br>Manufacturer=%{x}<br>__year_resale_value=%{y}<br>Sales_in_thousands=%{customdata[0]}<br>Price_in_thousands=%{customdata[1]}<br>Engine_size=%{customdata[2]}<extra></extra>\",\"legendgroup\":\"Cherokee\",\"marker\":{\"color\":\"#B6E880\",\"pattern\":{\"shape\":\"\"}},\"name\":\"Cherokee\",\"offsetgroup\":\"Cherokee\",\"orientation\":\"v\",\"showlegend\":true,\"textposition\":\"auto\",\"x\":[\"Jeep\"],\"xaxis\":\"x\",\"y\":[13.775],\"yaxis\":\"y\",\"type\":\"bar\"},{\"alignmentgroup\":\"True\",\"customdata\":[[157.04,26.895,4.0]],\"hovertemplate\":\"Model=Grand Cherokee<br>Manufacturer=%{x}<br>__year_resale_value=%{y}<br>Sales_in_thousands=%{customdata[0]}<br>Price_in_thousands=%{customdata[1]}<br>Engine_size=%{customdata[2]}<extra></extra>\",\"legendgroup\":\"Grand Cherokee\",\"marker\":{\"color\":\"#FF97FF\",\"pattern\":{\"shape\":\"\"}},\"name\":\"Grand Cherokee\",\"offsetgroup\":\"Grand Cherokee\",\"orientation\":\"v\",\"showlegend\":true,\"textposition\":\"auto\",\"x\":[\"Jeep\"],\"xaxis\":\"x\",\"y\":[18.81],\"yaxis\":\"y\",\"type\":\"bar\"},{\"alignmentgroup\":\"True\",\"customdata\":[[24.072,31.505,3.0]],\"hovertemplate\":\"Model=ES300<br>Manufacturer=%{x}<br>__year_resale_value=%{y}<br>Sales_in_thousands=%{customdata[0]}<br>Price_in_thousands=%{customdata[1]}<br>Engine_size=%{customdata[2]}<extra></extra>\",\"legendgroup\":\"ES300\",\"marker\":{\"color\":\"#FECB52\",\"pattern\":{\"shape\":\"\"}},\"name\":\"ES300\",\"offsetgroup\":\"ES300\",\"orientation\":\"v\",\"showlegend\":true,\"textposition\":\"auto\",\"x\":[\"Lexus\"],\"xaxis\":\"x\",\"y\":[26.975],\"yaxis\":\"y\",\"type\":\"bar\"},{\"alignmentgroup\":\"True\",\"customdata\":[[12.698,37.805,3.0]],\"hovertemplate\":\"Model=GS300<br>Manufacturer=%{x}<br>__year_resale_value=%{y}<br>Sales_in_thousands=%{customdata[0]}<br>Price_in_thousands=%{customdata[1]}<br>Engine_size=%{customdata[2]}<extra></extra>\",\"legendgroup\":\"GS300\",\"marker\":{\"color\":\"#636efa\",\"pattern\":{\"shape\":\"\"}},\"name\":\"GS300\",\"offsetgroup\":\"GS300\",\"orientation\":\"v\",\"showlegend\":true,\"textposition\":\"auto\",\"x\":[\"Lexus\"],\"xaxis\":\"x\",\"y\":[32.075],\"yaxis\":\"y\",\"type\":\"bar\"},{\"alignmentgroup\":\"True\",\"customdata\":[[6.375,54.005,4.0]],\"hovertemplate\":\"Model=LS400<br>Manufacturer=%{x}<br>__year_resale_value=%{y}<br>Sales_in_thousands=%{customdata[0]}<br>Price_in_thousands=%{customdata[1]}<br>Engine_size=%{customdata[2]}<extra></extra>\",\"legendgroup\":\"LS400\",\"marker\":{\"color\":\"#EF553B\",\"pattern\":{\"shape\":\"\"}},\"name\":\"LS400\",\"offsetgroup\":\"LS400\",\"orientation\":\"v\",\"showlegend\":true,\"textposition\":\"auto\",\"x\":[\"Lexus\"],\"xaxis\":\"x\",\"y\":[40.375],\"yaxis\":\"y\",\"type\":\"bar\"},{\"alignmentgroup\":\"True\",\"customdata\":[[13.798,39.08,4.6]],\"hovertemplate\":\"Model=Continental<br>Manufacturer=%{x}<br>__year_resale_value=%{y}<br>Sales_in_thousands=%{customdata[0]}<br>Price_in_thousands=%{customdata[1]}<br>Engine_size=%{customdata[2]}<extra></extra>\",\"legendgroup\":\"Continental\",\"marker\":{\"color\":\"#00cc96\",\"pattern\":{\"shape\":\"\"}},\"name\":\"Continental\",\"offsetgroup\":\"Continental\",\"orientation\":\"v\",\"showlegend\":true,\"textposition\":\"auto\",\"x\":[\"Lincoln\"],\"xaxis\":\"x\",\"y\":[20.525],\"yaxis\":\"y\",\"type\":\"bar\"},{\"alignmentgroup\":\"True\",\"customdata\":[[48.911,43.33,4.6]],\"hovertemplate\":\"Model=Town car<br>Manufacturer=%{x}<br>__year_resale_value=%{y}<br>Sales_in_thousands=%{customdata[0]}<br>Price_in_thousands=%{customdata[1]}<br>Engine_size=%{customdata[2]}<extra></extra>\",\"legendgroup\":\"Town car\",\"marker\":{\"color\":\"#ab63fa\",\"pattern\":{\"shape\":\"\"}},\"name\":\"Town car\",\"offsetgroup\":\"Town car\",\"orientation\":\"v\",\"showlegend\":true,\"textposition\":\"auto\",\"x\":[\"Lincoln\"],\"xaxis\":\"x\",\"y\":[21.725],\"yaxis\":\"y\",\"type\":\"bar\"},{\"alignmentgroup\":\"True\",\"customdata\":[[26.232,13.987,1.8]],\"hovertemplate\":\"Model=Mirage<br>Manufacturer=%{x}<br>__year_resale_value=%{y}<br>Sales_in_thousands=%{customdata[0]}<br>Price_in_thousands=%{customdata[1]}<br>Engine_size=%{customdata[2]}<extra></extra>\",\"legendgroup\":\"Mirage\",\"marker\":{\"color\":\"#FFA15A\",\"pattern\":{\"shape\":\"\"}},\"name\":\"Mirage\",\"offsetgroup\":\"Mirage\",\"orientation\":\"v\",\"showlegend\":true,\"textposition\":\"auto\",\"x\":[\"Mitsubishi\"],\"xaxis\":\"x\",\"y\":[8.325],\"yaxis\":\"y\",\"type\":\"bar\"},{\"alignmentgroup\":\"True\",\"customdata\":[[42.541,19.047,2.4]],\"hovertemplate\":\"Model=Eclipse<br>Manufacturer=%{x}<br>__year_resale_value=%{y}<br>Sales_in_thousands=%{customdata[0]}<br>Price_in_thousands=%{customdata[1]}<br>Engine_size=%{customdata[2]}<extra></extra>\",\"legendgroup\":\"Eclipse\",\"marker\":{\"color\":\"#19d3f3\",\"pattern\":{\"shape\":\"\"}},\"name\":\"Eclipse\",\"offsetgroup\":\"Eclipse\",\"orientation\":\"v\",\"showlegend\":true,\"textposition\":\"auto\",\"x\":[\"Mitsubishi\"],\"xaxis\":\"x\",\"y\":[10.395],\"yaxis\":\"y\",\"type\":\"bar\"},{\"alignmentgroup\":\"True\",\"customdata\":[[55.616,17.357,2.4]],\"hovertemplate\":\"Model=Galant<br>Manufacturer=%{x}<br>__year_resale_value=%{y}<br>Sales_in_thousands=%{customdata[0]}<br>Price_in_thousands=%{customdata[1]}<br>Engine_size=%{customdata[2]}<extra></extra>\",\"legendgroup\":\"Galant\",\"marker\":{\"color\":\"#FF6692\",\"pattern\":{\"shape\":\"\"}},\"name\":\"Galant\",\"offsetgroup\":\"Galant\",\"orientation\":\"v\",\"showlegend\":true,\"textposition\":\"auto\",\"x\":[\"Mitsubishi\"],\"xaxis\":\"x\",\"y\":[10.595],\"yaxis\":\"y\",\"type\":\"bar\"},{\"alignmentgroup\":\"True\",\"customdata\":[[5.711,24.997,3.5]],\"hovertemplate\":\"Model=Diamante<br>Manufacturer=%{x}<br>__year_resale_value=%{y}<br>Sales_in_thousands=%{customdata[0]}<br>Price_in_thousands=%{customdata[1]}<br>Engine_size=%{customdata[2]}<extra></extra>\",\"legendgroup\":\"Diamante\",\"marker\":{\"color\":\"#B6E880\",\"pattern\":{\"shape\":\"\"}},\"name\":\"Diamante\",\"offsetgroup\":\"Diamante\",\"orientation\":\"v\",\"showlegend\":true,\"textposition\":\"auto\",\"x\":[\"Mitsubishi\"],\"xaxis\":\"x\",\"y\":[16.575],\"yaxis\":\"y\",\"type\":\"bar\"},{\"alignmentgroup\":\"True\",\"customdata\":[[0.11,25.45,3.0]],\"hovertemplate\":\"Model=3000GT<br>Manufacturer=%{x}<br>__year_resale_value=%{y}<br>Sales_in_thousands=%{customdata[0]}<br>Price_in_thousands=%{customdata[1]}<br>Engine_size=%{customdata[2]}<extra></extra>\",\"legendgroup\":\"3000GT\",\"marker\":{\"color\":\"#FF97FF\",\"pattern\":{\"shape\":\"\"}},\"name\":\"3000GT\",\"offsetgroup\":\"3000GT\",\"orientation\":\"v\",\"showlegend\":true,\"textposition\":\"auto\",\"x\":[\"Mitsubishi\"],\"xaxis\":\"x\",\"y\":[20.94],\"yaxis\":\"y\",\"type\":\"bar\"},{\"alignmentgroup\":\"True\",\"customdata\":[[11.337,31.807,3.5]],\"hovertemplate\":\"Model=Montero<br>Manufacturer=%{x}<br>__year_resale_value=%{y}<br>Sales_in_thousands=%{customdata[0]}<br>Price_in_thousands=%{customdata[1]}<br>Engine_size=%{customdata[2]}<extra></extra>\",\"legendgroup\":\"Montero\",\"marker\":{\"color\":\"#FECB52\",\"pattern\":{\"shape\":\"\"}},\"name\":\"Montero\",\"offsetgroup\":\"Montero\",\"orientation\":\"v\",\"showlegend\":true,\"textposition\":\"auto\",\"x\":[\"Mitsubishi\"],\"xaxis\":\"x\",\"y\":[19.125],\"yaxis\":\"y\",\"type\":\"bar\"},{\"alignmentgroup\":\"True\",\"customdata\":[[39.348,22.527,3.0]],\"hovertemplate\":\"Model=Montero Sport<br>Manufacturer=%{x}<br>__year_resale_value=%{y}<br>Sales_in_thousands=%{customdata[0]}<br>Price_in_thousands=%{customdata[1]}<br>Engine_size=%{customdata[2]}<extra></extra>\",\"legendgroup\":\"Montero Sport\",\"marker\":{\"color\":\"#636efa\",\"pattern\":{\"shape\":\"\"}},\"name\":\"Montero Sport\",\"offsetgroup\":\"Montero Sport\",\"orientation\":\"v\",\"showlegend\":true,\"textposition\":\"auto\",\"x\":[\"Mitsubishi\"],\"xaxis\":\"x\",\"y\":[13.88],\"yaxis\":\"y\",\"type\":\"bar\"},{\"alignmentgroup\":\"True\",\"customdata\":[[14.351,16.24,2.0]],\"hovertemplate\":\"Model=Mystique<br>Manufacturer=%{x}<br>__year_resale_value=%{y}<br>Sales_in_thousands=%{customdata[0]}<br>Price_in_thousands=%{customdata[1]}<br>Engine_size=%{customdata[2]}<extra></extra>\",\"legendgroup\":\"Mystique\",\"marker\":{\"color\":\"#EF553B\",\"pattern\":{\"shape\":\"\"}},\"name\":\"Mystique\",\"offsetgroup\":\"Mystique\",\"orientation\":\"v\",\"showlegend\":true,\"textposition\":\"auto\",\"x\":[\"Mercury\"],\"xaxis\":\"x\",\"y\":[8.8],\"yaxis\":\"y\",\"type\":\"bar\"},{\"alignmentgroup\":\"True\",\"customdata\":[[26.529,16.54,2.0]],\"hovertemplate\":\"Model=Cougar<br>Manufacturer=%{x}<br>__year_resale_value=%{y}<br>Sales_in_thousands=%{customdata[0]}<br>Price_in_thousands=%{customdata[1]}<br>Engine_size=%{customdata[2]}<extra></extra>\",\"legendgroup\":\"Cougar\",\"marker\":{\"color\":\"#00cc96\",\"pattern\":{\"shape\":\"\"}},\"name\":\"Cougar\",\"offsetgroup\":\"Cougar\",\"orientation\":\"v\",\"showlegend\":true,\"textposition\":\"auto\",\"x\":[\"Mercury\"],\"xaxis\":\"x\",\"y\":[13.89],\"yaxis\":\"y\",\"type\":\"bar\"},{\"alignmentgroup\":\"True\",\"customdata\":[[67.956,19.035,3.0]],\"hovertemplate\":\"Model=Sable<br>Manufacturer=%{x}<br>__year_resale_value=%{y}<br>Sales_in_thousands=%{customdata[0]}<br>Price_in_thousands=%{customdata[1]}<br>Engine_size=%{customdata[2]}<extra></extra>\",\"legendgroup\":\"Sable\",\"marker\":{\"color\":\"#ab63fa\",\"pattern\":{\"shape\":\"\"}},\"name\":\"Sable\",\"offsetgroup\":\"Sable\",\"orientation\":\"v\",\"showlegend\":true,\"textposition\":\"auto\",\"x\":[\"Mercury\"],\"xaxis\":\"x\",\"y\":[11.03],\"yaxis\":\"y\",\"type\":\"bar\"},{\"alignmentgroup\":\"True\",\"customdata\":[[81.174,22.605,4.6]],\"hovertemplate\":\"Model=Grand Marquis<br>Manufacturer=%{x}<br>__year_resale_value=%{y}<br>Sales_in_thousands=%{customdata[0]}<br>Price_in_thousands=%{customdata[1]}<br>Engine_size=%{customdata[2]}<extra></extra>\",\"legendgroup\":\"Grand Marquis\",\"marker\":{\"color\":\"#FFA15A\",\"pattern\":{\"shape\":\"\"}},\"name\":\"Grand Marquis\",\"offsetgroup\":\"Grand Marquis\",\"orientation\":\"v\",\"showlegend\":true,\"textposition\":\"auto\",\"x\":[\"Mercury\"],\"xaxis\":\"x\",\"y\":[14.875],\"yaxis\":\"y\",\"type\":\"bar\"},{\"alignmentgroup\":\"True\",\"customdata\":[[27.609,27.56,4.0]],\"hovertemplate\":\"Model=Mountaineer<br>Manufacturer=%{x}<br>__year_resale_value=%{y}<br>Sales_in_thousands=%{customdata[0]}<br>Price_in_thousands=%{customdata[1]}<br>Engine_size=%{customdata[2]}<extra></extra>\",\"legendgroup\":\"Mountaineer\",\"marker\":{\"color\":\"#19d3f3\",\"pattern\":{\"shape\":\"\"}},\"name\":\"Mountaineer\",\"offsetgroup\":\"Mountaineer\",\"orientation\":\"v\",\"showlegend\":true,\"textposition\":\"auto\",\"x\":[\"Mercury\"],\"xaxis\":\"x\",\"y\":[20.43],\"yaxis\":\"y\",\"type\":\"bar\"},{\"alignmentgroup\":\"True\",\"customdata\":[[20.38,22.51,3.3]],\"hovertemplate\":\"Model=Villager<br>Manufacturer=%{x}<br>__year_resale_value=%{y}<br>Sales_in_thousands=%{customdata[0]}<br>Price_in_thousands=%{customdata[1]}<br>Engine_size=%{customdata[2]}<extra></extra>\",\"legendgroup\":\"Villager\",\"marker\":{\"color\":\"#FF6692\",\"pattern\":{\"shape\":\"\"}},\"name\":\"Villager\",\"offsetgroup\":\"Villager\",\"orientation\":\"v\",\"showlegend\":true,\"textposition\":\"auto\",\"x\":[\"Mercury\"],\"xaxis\":\"x\",\"y\":[14.795],\"yaxis\":\"y\",\"type\":\"bar\"},{\"alignmentgroup\":\"True\",\"customdata\":[[18.392,31.75,2.3]],\"hovertemplate\":\"Model=C-Class<br>Manufacturer=%{x}<br>__year_resale_value=%{y}<br>Sales_in_thousands=%{customdata[0]}<br>Price_in_thousands=%{customdata[1]}<br>Engine_size=%{customdata[2]}<extra></extra>\",\"legendgroup\":\"C-Class\",\"marker\":{\"color\":\"#B6E880\",\"pattern\":{\"shape\":\"\"}},\"name\":\"C-Class\",\"offsetgroup\":\"C-Class\",\"orientation\":\"v\",\"showlegend\":true,\"textposition\":\"auto\",\"x\":[\"Mercedes-B\"],\"xaxis\":\"x\",\"y\":[26.05],\"yaxis\":\"y\",\"type\":\"bar\"},{\"alignmentgroup\":\"True\",\"customdata\":[[27.602,49.9,3.2]],\"hovertemplate\":\"Model=E-Class<br>Manufacturer=%{x}<br>__year_resale_value=%{y}<br>Sales_in_thousands=%{customdata[0]}<br>Price_in_thousands=%{customdata[1]}<br>Engine_size=%{customdata[2]}<extra></extra>\",\"legendgroup\":\"E-Class\",\"marker\":{\"color\":\"#FF97FF\",\"pattern\":{\"shape\":\"\"}},\"name\":\"E-Class\",\"offsetgroup\":\"E-Class\",\"orientation\":\"v\",\"showlegend\":true,\"textposition\":\"auto\",\"x\":[\"Mercedes-B\"],\"xaxis\":\"x\",\"y\":[41.45],\"yaxis\":\"y\",\"type\":\"bar\"},{\"alignmentgroup\":\"True\",\"customdata\":[[16.774,69.7,4.3]],\"hovertemplate\":\"Model=S-Class<br>Manufacturer=%{x}<br>__year_resale_value=%{y}<br>Sales_in_thousands=%{customdata[0]}<br>Price_in_thousands=%{customdata[1]}<br>Engine_size=%{customdata[2]}<extra></extra>\",\"legendgroup\":\"S-Class\",\"marker\":{\"color\":\"#FECB52\",\"pattern\":{\"shape\":\"\"}},\"name\":\"S-Class\",\"offsetgroup\":\"S-Class\",\"orientation\":\"v\",\"showlegend\":true,\"textposition\":\"auto\",\"x\":[\"Mercedes-B\"],\"xaxis\":\"x\",\"y\":[50.375],\"yaxis\":\"y\",\"type\":\"bar\"},{\"alignmentgroup\":\"True\",\"customdata\":[[3.311,82.6,5.0]],\"hovertemplate\":\"Model=SL-Class<br>Manufacturer=%{x}<br>__year_resale_value=%{y}<br>Sales_in_thousands=%{customdata[0]}<br>Price_in_thousands=%{customdata[1]}<br>Engine_size=%{customdata[2]}<extra></extra>\",\"legendgroup\":\"SL-Class\",\"marker\":{\"color\":\"#636efa\",\"pattern\":{\"shape\":\"\"}},\"name\":\"SL-Class\",\"offsetgroup\":\"SL-Class\",\"orientation\":\"v\",\"showlegend\":true,\"textposition\":\"auto\",\"x\":[\"Mercedes-B\"],\"xaxis\":\"x\",\"y\":[58.6],\"yaxis\":\"y\",\"type\":\"bar\"},{\"alignmentgroup\":\"True\",\"customdata\":[[42.643,13.499,1.8]],\"hovertemplate\":\"Model=Sentra<br>Manufacturer=%{x}<br>__year_resale_value=%{y}<br>Sales_in_thousands=%{customdata[0]}<br>Price_in_thousands=%{customdata[1]}<br>Engine_size=%{customdata[2]}<extra></extra>\",\"legendgroup\":\"Sentra\",\"marker\":{\"color\":\"#EF553B\",\"pattern\":{\"shape\":\"\"}},\"name\":\"Sentra\",\"offsetgroup\":\"Sentra\",\"orientation\":\"v\",\"showlegend\":true,\"textposition\":\"auto\",\"x\":[\"Nissan\"],\"xaxis\":\"x\",\"y\":[8.45],\"yaxis\":\"y\",\"type\":\"bar\"},{\"alignmentgroup\":\"True\",\"customdata\":[[88.094,20.39,2.4]],\"hovertemplate\":\"Model=Altima<br>Manufacturer=%{x}<br>__year_resale_value=%{y}<br>Sales_in_thousands=%{customdata[0]}<br>Price_in_thousands=%{customdata[1]}<br>Engine_size=%{customdata[2]}<extra></extra>\",\"legendgroup\":\"Altima\",\"marker\":{\"color\":\"#00cc96\",\"pattern\":{\"shape\":\"\"}},\"name\":\"Altima\",\"offsetgroup\":\"Altima\",\"orientation\":\"v\",\"showlegend\":true,\"textposition\":\"auto\",\"x\":[\"Nissan\"],\"xaxis\":\"x\",\"y\":[11.295],\"yaxis\":\"y\",\"type\":\"bar\"},{\"alignmentgroup\":\"True\",\"customdata\":[[79.853,26.249,3.0]],\"hovertemplate\":\"Model=Maxima<br>Manufacturer=%{x}<br>__year_resale_value=%{y}<br>Sales_in_thousands=%{customdata[0]}<br>Price_in_thousands=%{customdata[1]}<br>Engine_size=%{customdata[2]}<extra></extra>\",\"legendgroup\":\"Maxima\",\"marker\":{\"color\":\"#ab63fa\",\"pattern\":{\"shape\":\"\"}},\"name\":\"Maxima\",\"offsetgroup\":\"Maxima\",\"orientation\":\"v\",\"showlegend\":true,\"textposition\":\"auto\",\"x\":[\"Nissan\"],\"xaxis\":\"x\",\"y\":[15.125],\"yaxis\":\"y\",\"type\":\"bar\"},{\"alignmentgroup\":\"True\",\"customdata\":[[27.308,26.399,3.3]],\"hovertemplate\":\"Model=Quest<br>Manufacturer=%{x}<br>__year_resale_value=%{y}<br>Sales_in_thousands=%{customdata[0]}<br>Price_in_thousands=%{customdata[1]}<br>Engine_size=%{customdata[2]}<extra></extra>\",\"legendgroup\":\"Quest\",\"marker\":{\"color\":\"#FFA15A\",\"pattern\":{\"shape\":\"\"}},\"name\":\"Quest\",\"offsetgroup\":\"Quest\",\"orientation\":\"v\",\"showlegend\":true,\"textposition\":\"auto\",\"x\":[\"Nissan\"],\"xaxis\":\"x\",\"y\":[15.38],\"yaxis\":\"y\",\"type\":\"bar\"},{\"alignmentgroup\":\"True\",\"customdata\":[[42.574,29.299,3.3]],\"hovertemplate\":\"Model=Pathfinder<br>Manufacturer=%{x}<br>__year_resale_value=%{y}<br>Sales_in_thousands=%{customdata[0]}<br>Price_in_thousands=%{customdata[1]}<br>Engine_size=%{customdata[2]}<extra></extra>\",\"legendgroup\":\"Pathfinder\",\"marker\":{\"color\":\"#19d3f3\",\"pattern\":{\"shape\":\"\"}},\"name\":\"Pathfinder\",\"offsetgroup\":\"Pathfinder\",\"orientation\":\"v\",\"showlegend\":true,\"textposition\":\"auto\",\"x\":[\"Nissan\"],\"xaxis\":\"x\",\"y\":[17.81],\"yaxis\":\"y\",\"type\":\"bar\"},{\"alignmentgroup\":\"True\",\"customdata\":[[1.112,18.145,3.1]],\"hovertemplate\":\"Model=Cutlass<br>Manufacturer=%{x}<br>__year_resale_value=%{y}<br>Sales_in_thousands=%{customdata[0]}<br>Price_in_thousands=%{customdata[1]}<br>Engine_size=%{customdata[2]}<extra></extra>\",\"legendgroup\":\"Cutlass\",\"marker\":{\"color\":\"#FF6692\",\"pattern\":{\"shape\":\"\"}},\"name\":\"Cutlass\",\"offsetgroup\":\"Cutlass\",\"orientation\":\"v\",\"showlegend\":true,\"textposition\":\"auto\",\"x\":[\"Oldsmobile\"],\"xaxis\":\"x\",\"y\":[11.24],\"yaxis\":\"y\",\"type\":\"bar\"},{\"alignmentgroup\":\"True\",\"customdata\":[[14.69,36.229,4.0]],\"hovertemplate\":\"Model=Aurora<br>Manufacturer=%{x}<br>__year_resale_value=%{y}<br>Sales_in_thousands=%{customdata[0]}<br>Price_in_thousands=%{customdata[1]}<br>Engine_size=%{customdata[2]}<extra></extra>\",\"legendgroup\":\"Aurora\",\"marker\":{\"color\":\"#B6E880\",\"pattern\":{\"shape\":\"\"}},\"name\":\"Aurora\",\"offsetgroup\":\"Aurora\",\"orientation\":\"v\",\"showlegend\":true,\"textposition\":\"auto\",\"x\":[\"Oldsmobile\"],\"xaxis\":\"x\",\"y\":[19.89],\"yaxis\":\"y\",\"type\":\"bar\"},{\"alignmentgroup\":\"True\",\"customdata\":[[20.017,31.598,4.3]],\"hovertemplate\":\"Model=Bravada<br>Manufacturer=%{x}<br>__year_resale_value=%{y}<br>Sales_in_thousands=%{customdata[0]}<br>Price_in_thousands=%{customdata[1]}<br>Engine_size=%{customdata[2]}<extra></extra>\",\"legendgroup\":\"Bravada\",\"marker\":{\"color\":\"#FF97FF\",\"pattern\":{\"shape\":\"\"}},\"name\":\"Bravada\",\"offsetgroup\":\"Bravada\",\"orientation\":\"v\",\"showlegend\":true,\"textposition\":\"auto\",\"x\":[\"Oldsmobile\"],\"xaxis\":\"x\",\"y\":[19.925],\"yaxis\":\"y\",\"type\":\"bar\"},{\"alignmentgroup\":\"True\",\"customdata\":[[24.361,25.345,3.4]],\"hovertemplate\":\"Model=Silhouette<br>Manufacturer=%{x}<br>__year_resale_value=%{y}<br>Sales_in_thousands=%{customdata[0]}<br>Price_in_thousands=%{customdata[1]}<br>Engine_size=%{customdata[2]}<extra></extra>\",\"legendgroup\":\"Silhouette\",\"marker\":{\"color\":\"#FECB52\",\"pattern\":{\"shape\":\"\"}},\"name\":\"Silhouette\",\"offsetgroup\":\"Silhouette\",\"orientation\":\"v\",\"showlegend\":true,\"textposition\":\"auto\",\"x\":[\"Oldsmobile\"],\"xaxis\":\"x\",\"y\":[15.24],\"yaxis\":\"y\",\"type\":\"bar\"},{\"alignmentgroup\":\"True\",\"customdata\":[[5.24,16.08,2.0]],\"hovertemplate\":\"Model=Breeze<br>Manufacturer=%{x}<br>__year_resale_value=%{y}<br>Sales_in_thousands=%{customdata[0]}<br>Price_in_thousands=%{customdata[1]}<br>Engine_size=%{customdata[2]}<extra></extra>\",\"legendgroup\":\"Breeze\",\"marker\":{\"color\":\"#636efa\",\"pattern\":{\"shape\":\"\"}},\"name\":\"Breeze\",\"offsetgroup\":\"Breeze\",\"orientation\":\"v\",\"showlegend\":true,\"textposition\":\"auto\",\"x\":[\"Plymouth\"],\"xaxis\":\"x\",\"y\":[9.8],\"yaxis\":\"y\",\"type\":\"bar\"},{\"alignmentgroup\":\"True\",\"customdata\":[[24.155,18.85,2.4]],\"hovertemplate\":\"Model=Voyager<br>Manufacturer=%{x}<br>__year_resale_value=%{y}<br>Sales_in_thousands=%{customdata[0]}<br>Price_in_thousands=%{customdata[1]}<br>Engine_size=%{customdata[2]}<extra></extra>\",\"legendgroup\":\"Voyager\",\"marker\":{\"color\":\"#EF553B\",\"pattern\":{\"shape\":\"\"}},\"name\":\"Voyager\",\"offsetgroup\":\"Voyager\",\"orientation\":\"v\",\"showlegend\":true,\"textposition\":\"auto\",\"x\":[\"Plymouth\"],\"xaxis\":\"x\",\"y\":[12.025],\"yaxis\":\"y\",\"type\":\"bar\"},{\"alignmentgroup\":\"True\",\"customdata\":[[51.645,21.61,2.4]],\"hovertemplate\":\"Model=Sunfire<br>Manufacturer=%{x}<br>__year_resale_value=%{y}<br>Sales_in_thousands=%{customdata[0]}<br>Price_in_thousands=%{customdata[1]}<br>Engine_size=%{customdata[2]}<extra></extra>\",\"legendgroup\":\"Sunfire\",\"marker\":{\"color\":\"#00cc96\",\"pattern\":{\"shape\":\"\"}},\"name\":\"Sunfire\",\"offsetgroup\":\"Sunfire\",\"orientation\":\"v\",\"showlegend\":true,\"textposition\":\"auto\",\"x\":[\"Pontiac\"],\"xaxis\":\"x\",\"y\":[13.79],\"yaxis\":\"y\",\"type\":\"bar\"},{\"alignmentgroup\":\"True\",\"customdata\":[[131.097,19.72,3.4]],\"hovertemplate\":\"Model=Grand Am<br>Manufacturer=%{x}<br>__year_resale_value=%{y}<br>Sales_in_thousands=%{customdata[0]}<br>Price_in_thousands=%{customdata[1]}<br>Engine_size=%{customdata[2]}<extra></extra>\",\"legendgroup\":\"Grand Am\",\"marker\":{\"color\":\"#ab63fa\",\"pattern\":{\"shape\":\"\"}},\"name\":\"Grand Am\",\"offsetgroup\":\"Grand Am\",\"orientation\":\"v\",\"showlegend\":true,\"textposition\":\"auto\",\"x\":[\"Pontiac\"],\"xaxis\":\"x\",\"y\":[10.29],\"yaxis\":\"y\",\"type\":\"bar\"},{\"alignmentgroup\":\"True\",\"customdata\":[[19.911,25.31,3.8]],\"hovertemplate\":\"Model=Firebird<br>Manufacturer=%{x}<br>__year_resale_value=%{y}<br>Sales_in_thousands=%{customdata[0]}<br>Price_in_thousands=%{customdata[1]}<br>Engine_size=%{customdata[2]}<extra></extra>\",\"legendgroup\":\"Firebird\",\"marker\":{\"color\":\"#FFA15A\",\"pattern\":{\"shape\":\"\"}},\"name\":\"Firebird\",\"offsetgroup\":\"Firebird\",\"orientation\":\"v\",\"showlegend\":true,\"textposition\":\"auto\",\"x\":[\"Pontiac\"],\"xaxis\":\"x\",\"y\":[17.805],\"yaxis\":\"y\",\"type\":\"bar\"},{\"alignmentgroup\":\"True\",\"customdata\":[[92.364,21.665,3.8]],\"hovertemplate\":\"Model=Grand Prix<br>Manufacturer=%{x}<br>__year_resale_value=%{y}<br>Sales_in_thousands=%{customdata[0]}<br>Price_in_thousands=%{customdata[1]}<br>Engine_size=%{customdata[2]}<extra></extra>\",\"legendgroup\":\"Grand Prix\",\"marker\":{\"color\":\"#19d3f3\",\"pattern\":{\"shape\":\"\"}},\"name\":\"Grand Prix\",\"offsetgroup\":\"Grand Prix\",\"orientation\":\"v\",\"showlegend\":true,\"textposition\":\"auto\",\"x\":[\"Pontiac\"],\"xaxis\":\"x\",\"y\":[14.01],\"yaxis\":\"y\",\"type\":\"bar\"},{\"alignmentgroup\":\"True\",\"customdata\":[[35.945,23.755,3.8]],\"hovertemplate\":\"Model=Bonneville<br>Manufacturer=%{x}<br>__year_resale_value=%{y}<br>Sales_in_thousands=%{customdata[0]}<br>Price_in_thousands=%{customdata[1]}<br>Engine_size=%{customdata[2]}<extra></extra>\",\"legendgroup\":\"Bonneville\",\"marker\":{\"color\":\"#FF6692\",\"pattern\":{\"shape\":\"\"}},\"name\":\"Bonneville\",\"offsetgroup\":\"Bonneville\",\"orientation\":\"v\",\"showlegend\":true,\"textposition\":\"auto\",\"x\":[\"Pontiac\"],\"xaxis\":\"x\",\"y\":[13.225],\"yaxis\":\"y\",\"type\":\"bar\"},{\"alignmentgroup\":\"True\",\"customdata\":[[8.982,41.43,2.7]],\"hovertemplate\":\"Model=Boxter<br>Manufacturer=%{x}<br>__year_resale_value=%{y}<br>Sales_in_thousands=%{customdata[0]}<br>Price_in_thousands=%{customdata[1]}<br>Engine_size=%{customdata[2]}<extra></extra>\",\"legendgroup\":\"Boxter\",\"marker\":{\"color\":\"#B6E880\",\"pattern\":{\"shape\":\"\"}},\"name\":\"Boxter\",\"offsetgroup\":\"Boxter\",\"orientation\":\"v\",\"showlegend\":true,\"textposition\":\"auto\",\"x\":[\"Porsche\"],\"xaxis\":\"x\",\"y\":[41.25],\"yaxis\":\"y\",\"type\":\"bar\"},{\"alignmentgroup\":\"True\",\"customdata\":[[1.28,71.02,3.4]],\"hovertemplate\":\"Model=Carrera Coupe<br>Manufacturer=%{x}<br>__year_resale_value=%{y}<br>Sales_in_thousands=%{customdata[0]}<br>Price_in_thousands=%{customdata[1]}<br>Engine_size=%{customdata[2]}<extra></extra>\",\"legendgroup\":\"Carrera Coupe\",\"marker\":{\"color\":\"#FF97FF\",\"pattern\":{\"shape\":\"\"}},\"name\":\"Carrera Coupe\",\"offsetgroup\":\"Carrera Coupe\",\"orientation\":\"v\",\"showlegend\":true,\"textposition\":\"auto\",\"x\":[\"Porsche\"],\"xaxis\":\"x\",\"y\":[60.625],\"yaxis\":\"y\",\"type\":\"bar\"},{\"alignmentgroup\":\"True\",\"customdata\":[[1.866,74.97,3.4]],\"hovertemplate\":\"Model=Carrera Cabrio<br>Manufacturer=%{x}<br>__year_resale_value=%{y}<br>Sales_in_thousands=%{customdata[0]}<br>Price_in_thousands=%{customdata[1]}<br>Engine_size=%{customdata[2]}<extra></extra>\",\"legendgroup\":\"Carrera Cabrio\",\"marker\":{\"color\":\"#FECB52\",\"pattern\":{\"shape\":\"\"}},\"name\":\"Carrera Cabrio\",\"offsetgroup\":\"Carrera Cabrio\",\"orientation\":\"v\",\"showlegend\":true,\"textposition\":\"auto\",\"x\":[\"Porsche\"],\"xaxis\":\"x\",\"y\":[67.55],\"yaxis\":\"y\",\"type\":\"bar\"},{\"alignmentgroup\":\"True\",\"customdata\":[[80.62,10.685,1.9]],\"hovertemplate\":\"Model=SL<br>Manufacturer=%{x}<br>__year_resale_value=%{y}<br>Sales_in_thousands=%{customdata[0]}<br>Price_in_thousands=%{customdata[1]}<br>Engine_size=%{customdata[2]}<extra></extra>\",\"legendgroup\":\"SL\",\"marker\":{\"color\":\"#636efa\",\"pattern\":{\"shape\":\"\"}},\"name\":\"SL\",\"offsetgroup\":\"SL\",\"orientation\":\"v\",\"showlegend\":true,\"textposition\":\"auto\",\"x\":[\"Saturn\"],\"xaxis\":\"x\",\"y\":[9.2],\"yaxis\":\"y\",\"type\":\"bar\"},{\"alignmentgroup\":\"True\",\"customdata\":[[24.546,12.535,1.9]],\"hovertemplate\":\"Model=SC<br>Manufacturer=%{x}<br>__year_resale_value=%{y}<br>Sales_in_thousands=%{customdata[0]}<br>Price_in_thousands=%{customdata[1]}<br>Engine_size=%{customdata[2]}<extra></extra>\",\"legendgroup\":\"SC\",\"marker\":{\"color\":\"#EF553B\",\"pattern\":{\"shape\":\"\"}},\"name\":\"SC\",\"offsetgroup\":\"SC\",\"orientation\":\"v\",\"showlegend\":true,\"textposition\":\"auto\",\"x\":[\"Saturn\"],\"xaxis\":\"x\",\"y\":[10.59],\"yaxis\":\"y\",\"type\":\"bar\"},{\"alignmentgroup\":\"True\",\"customdata\":[[5.223,14.29,1.9]],\"hovertemplate\":\"Model=SW<br>Manufacturer=%{x}<br>__year_resale_value=%{y}<br>Sales_in_thousands=%{customdata[0]}<br>Price_in_thousands=%{customdata[1]}<br>Engine_size=%{customdata[2]}<extra></extra>\",\"legendgroup\":\"SW\",\"marker\":{\"color\":\"#00cc96\",\"pattern\":{\"shape\":\"\"}},\"name\":\"SW\",\"offsetgroup\":\"SW\",\"orientation\":\"v\",\"showlegend\":true,\"textposition\":\"auto\",\"x\":[\"Saturn\"],\"xaxis\":\"x\",\"y\":[10.79],\"yaxis\":\"y\",\"type\":\"bar\"},{\"alignmentgroup\":\"True\",\"customdata\":[[142.535,13.108,1.8]],\"hovertemplate\":\"Model=Corolla<br>Manufacturer=%{x}<br>__year_resale_value=%{y}<br>Sales_in_thousands=%{customdata[0]}<br>Price_in_thousands=%{customdata[1]}<br>Engine_size=%{customdata[2]}<extra></extra>\",\"legendgroup\":\"Corolla\",\"marker\":{\"color\":\"#ab63fa\",\"pattern\":{\"shape\":\"\"}},\"name\":\"Corolla\",\"offsetgroup\":\"Corolla\",\"orientation\":\"v\",\"showlegend\":true,\"textposition\":\"auto\",\"x\":[\"Toyota\"],\"xaxis\":\"x\",\"y\":[10.025],\"yaxis\":\"y\",\"type\":\"bar\"},{\"alignmentgroup\":\"True\",\"customdata\":[[247.994,17.518,2.2]],\"hovertemplate\":\"Model=Camry<br>Manufacturer=%{x}<br>__year_resale_value=%{y}<br>Sales_in_thousands=%{customdata[0]}<br>Price_in_thousands=%{customdata[1]}<br>Engine_size=%{customdata[2]}<extra></extra>\",\"legendgroup\":\"Camry\",\"marker\":{\"color\":\"#FFA15A\",\"pattern\":{\"shape\":\"\"}},\"name\":\"Camry\",\"offsetgroup\":\"Camry\",\"orientation\":\"v\",\"showlegend\":true,\"textposition\":\"auto\",\"x\":[\"Toyota\"],\"xaxis\":\"x\",\"y\":[13.245],\"yaxis\":\"y\",\"type\":\"bar\"},{\"alignmentgroup\":\"True\",\"customdata\":[[63.849,25.545,3.0]],\"hovertemplate\":\"Model=Avalon<br>Manufacturer=%{x}<br>__year_resale_value=%{y}<br>Sales_in_thousands=%{customdata[0]}<br>Price_in_thousands=%{customdata[1]}<br>Engine_size=%{customdata[2]}<extra></extra>\",\"legendgroup\":\"Avalon\",\"marker\":{\"color\":\"#19d3f3\",\"pattern\":{\"shape\":\"\"}},\"name\":\"Avalon\",\"offsetgroup\":\"Avalon\",\"orientation\":\"v\",\"showlegend\":true,\"textposition\":\"auto\",\"x\":[\"Toyota\"],\"xaxis\":\"x\",\"y\":[18.14],\"yaxis\":\"y\",\"type\":\"bar\"},{\"alignmentgroup\":\"True\",\"customdata\":[[33.269,16.875,1.8]],\"hovertemplate\":\"Model=Celica<br>Manufacturer=%{x}<br>__year_resale_value=%{y}<br>Sales_in_thousands=%{customdata[0]}<br>Price_in_thousands=%{customdata[1]}<br>Engine_size=%{customdata[2]}<extra></extra>\",\"legendgroup\":\"Celica\",\"marker\":{\"color\":\"#FF6692\",\"pattern\":{\"shape\":\"\"}},\"name\":\"Celica\",\"offsetgroup\":\"Celica\",\"orientation\":\"v\",\"showlegend\":true,\"textposition\":\"auto\",\"x\":[\"Toyota\"],\"xaxis\":\"x\",\"y\":[15.445],\"yaxis\":\"y\",\"type\":\"bar\"},{\"alignmentgroup\":\"True\",\"customdata\":[[84.087,11.528,2.4]],\"hovertemplate\":\"Model=Tacoma<br>Manufacturer=%{x}<br>__year_resale_value=%{y}<br>Sales_in_thousands=%{customdata[0]}<br>Price_in_thousands=%{customdata[1]}<br>Engine_size=%{customdata[2]}<extra></extra>\",\"legendgroup\":\"Tacoma\",\"marker\":{\"color\":\"#B6E880\",\"pattern\":{\"shape\":\"\"}},\"name\":\"Tacoma\",\"offsetgroup\":\"Tacoma\",\"orientation\":\"v\",\"showlegend\":true,\"textposition\":\"auto\",\"x\":[\"Toyota\"],\"xaxis\":\"x\",\"y\":[9.575],\"yaxis\":\"y\",\"type\":\"bar\"},{\"alignmentgroup\":\"True\",\"customdata\":[[25.106,16.888,2.0]],\"hovertemplate\":\"Model=RAV4<br>Manufacturer=%{x}<br>__year_resale_value=%{y}<br>Sales_in_thousands=%{customdata[0]}<br>Price_in_thousands=%{customdata[1]}<br>Engine_size=%{customdata[2]}<extra></extra>\",\"legendgroup\":\"RAV4\",\"marker\":{\"color\":\"#FF97FF\",\"pattern\":{\"shape\":\"\"}},\"name\":\"RAV4\",\"offsetgroup\":\"RAV4\",\"orientation\":\"v\",\"showlegend\":true,\"textposition\":\"auto\",\"x\":[\"Toyota\"],\"xaxis\":\"x\",\"y\":[13.325],\"yaxis\":\"y\",\"type\":\"bar\"},{\"alignmentgroup\":\"True\",\"customdata\":[[68.411,22.288,2.7]],\"hovertemplate\":\"Model=4Runner<br>Manufacturer=%{x}<br>__year_resale_value=%{y}<br>Sales_in_thousands=%{customdata[0]}<br>Price_in_thousands=%{customdata[1]}<br>Engine_size=%{customdata[2]}<extra></extra>\",\"legendgroup\":\"4Runner\",\"marker\":{\"color\":\"#FECB52\",\"pattern\":{\"shape\":\"\"}},\"name\":\"4Runner\",\"offsetgroup\":\"4Runner\",\"orientation\":\"v\",\"showlegend\":true,\"textposition\":\"auto\",\"x\":[\"Toyota\"],\"xaxis\":\"x\",\"y\":[19.425],\"yaxis\":\"y\",\"type\":\"bar\"},{\"alignmentgroup\":\"True\",\"customdata\":[[9.835,51.728,4.7]],\"hovertemplate\":\"Model=Land Cruiser<br>Manufacturer=%{x}<br>__year_resale_value=%{y}<br>Sales_in_thousands=%{customdata[0]}<br>Price_in_thousands=%{customdata[1]}<br>Engine_size=%{customdata[2]}<extra></extra>\",\"legendgroup\":\"Land Cruiser\",\"marker\":{\"color\":\"#636efa\",\"pattern\":{\"shape\":\"\"}},\"name\":\"Land Cruiser\",\"offsetgroup\":\"Land Cruiser\",\"orientation\":\"v\",\"showlegend\":true,\"textposition\":\"auto\",\"x\":[\"Toyota\"],\"xaxis\":\"x\",\"y\":[34.08],\"yaxis\":\"y\",\"type\":\"bar\"},{\"alignmentgroup\":\"True\",\"customdata\":[[9.761,14.9,2.0]],\"hovertemplate\":\"Model=Golf<br>Manufacturer=%{x}<br>__year_resale_value=%{y}<br>Sales_in_thousands=%{customdata[0]}<br>Price_in_thousands=%{customdata[1]}<br>Engine_size=%{customdata[2]}<extra></extra>\",\"legendgroup\":\"Golf\",\"marker\":{\"color\":\"#EF553B\",\"pattern\":{\"shape\":\"\"}},\"name\":\"Golf\",\"offsetgroup\":\"Golf\",\"orientation\":\"v\",\"showlegend\":true,\"textposition\":\"auto\",\"x\":[\"Volkswagen\"],\"xaxis\":\"x\",\"y\":[11.425],\"yaxis\":\"y\",\"type\":\"bar\"},{\"alignmentgroup\":\"True\",\"customdata\":[[83.721,16.7,2.0]],\"hovertemplate\":\"Model=Jetta<br>Manufacturer=%{x}<br>__year_resale_value=%{y}<br>Sales_in_thousands=%{customdata[0]}<br>Price_in_thousands=%{customdata[1]}<br>Engine_size=%{customdata[2]}<extra></extra>\",\"legendgroup\":\"Jetta\",\"marker\":{\"color\":\"#00cc96\",\"pattern\":{\"shape\":\"\"}},\"name\":\"Jetta\",\"offsetgroup\":\"Jetta\",\"orientation\":\"v\",\"showlegend\":true,\"textposition\":\"auto\",\"x\":[\"Volkswagen\"],\"xaxis\":\"x\",\"y\":[13.24],\"yaxis\":\"y\",\"type\":\"bar\"},{\"alignmentgroup\":\"True\",\"customdata\":[[51.102,21.2,1.8]],\"hovertemplate\":\"Model=Passat<br>Manufacturer=%{x}<br>__year_resale_value=%{y}<br>Sales_in_thousands=%{customdata[0]}<br>Price_in_thousands=%{customdata[1]}<br>Engine_size=%{customdata[2]}<extra></extra>\",\"legendgroup\":\"Passat\",\"marker\":{\"color\":\"#ab63fa\",\"pattern\":{\"shape\":\"\"}},\"name\":\"Passat\",\"offsetgroup\":\"Passat\",\"orientation\":\"v\",\"showlegend\":true,\"textposition\":\"auto\",\"x\":[\"Volkswagen\"],\"xaxis\":\"x\",\"y\":[16.725],\"yaxis\":\"y\",\"type\":\"bar\"},{\"alignmentgroup\":\"True\",\"customdata\":[[9.569,19.99,2.0]],\"hovertemplate\":\"Model=Cabrio<br>Manufacturer=%{x}<br>__year_resale_value=%{y}<br>Sales_in_thousands=%{customdata[0]}<br>Price_in_thousands=%{customdata[1]}<br>Engine_size=%{customdata[2]}<extra></extra>\",\"legendgroup\":\"Cabrio\",\"marker\":{\"color\":\"#FFA15A\",\"pattern\":{\"shape\":\"\"}},\"name\":\"Cabrio\",\"offsetgroup\":\"Cabrio\",\"orientation\":\"v\",\"showlegend\":true,\"textposition\":\"auto\",\"x\":[\"Volkswagen\"],\"xaxis\":\"x\",\"y\":[16.575],\"yaxis\":\"y\",\"type\":\"bar\"},{\"alignmentgroup\":\"True\",\"customdata\":[[5.596,17.5,2.0]],\"hovertemplate\":\"Model=GTI<br>Manufacturer=%{x}<br>__year_resale_value=%{y}<br>Sales_in_thousands=%{customdata[0]}<br>Price_in_thousands=%{customdata[1]}<br>Engine_size=%{customdata[2]}<extra></extra>\",\"legendgroup\":\"GTI\",\"marker\":{\"color\":\"#19d3f3\",\"pattern\":{\"shape\":\"\"}},\"name\":\"GTI\",\"offsetgroup\":\"GTI\",\"orientation\":\"v\",\"showlegend\":true,\"textposition\":\"auto\",\"x\":[\"Volkswagen\"],\"xaxis\":\"x\",\"y\":[13.76],\"yaxis\":\"y\",\"type\":\"bar\"}],                        {\"template\":{\"data\":{\"histogram2dcontour\":[{\"type\":\"histogram2dcontour\",\"colorbar\":{\"outlinewidth\":0,\"ticks\":\"\"},\"colorscale\":[[0.0,\"#0d0887\"],[0.1111111111111111,\"#46039f\"],[0.2222222222222222,\"#7201a8\"],[0.3333333333333333,\"#9c179e\"],[0.4444444444444444,\"#bd3786\"],[0.5555555555555556,\"#d8576b\"],[0.6666666666666666,\"#ed7953\"],[0.7777777777777778,\"#fb9f3a\"],[0.8888888888888888,\"#fdca26\"],[1.0,\"#f0f921\"]]}],\"choropleth\":[{\"type\":\"choropleth\",\"colorbar\":{\"outlinewidth\":0,\"ticks\":\"\"}}],\"histogram2d\":[{\"type\":\"histogram2d\",\"colorbar\":{\"outlinewidth\":0,\"ticks\":\"\"},\"colorscale\":[[0.0,\"#0d0887\"],[0.1111111111111111,\"#46039f\"],[0.2222222222222222,\"#7201a8\"],[0.3333333333333333,\"#9c179e\"],[0.4444444444444444,\"#bd3786\"],[0.5555555555555556,\"#d8576b\"],[0.6666666666666666,\"#ed7953\"],[0.7777777777777778,\"#fb9f3a\"],[0.8888888888888888,\"#fdca26\"],[1.0,\"#f0f921\"]]}],\"heatmap\":[{\"type\":\"heatmap\",\"colorbar\":{\"outlinewidth\":0,\"ticks\":\"\"},\"colorscale\":[[0.0,\"#0d0887\"],[0.1111111111111111,\"#46039f\"],[0.2222222222222222,\"#7201a8\"],[0.3333333333333333,\"#9c179e\"],[0.4444444444444444,\"#bd3786\"],[0.5555555555555556,\"#d8576b\"],[0.6666666666666666,\"#ed7953\"],[0.7777777777777778,\"#fb9f3a\"],[0.8888888888888888,\"#fdca26\"],[1.0,\"#f0f921\"]]}],\"heatmapgl\":[{\"type\":\"heatmapgl\",\"colorbar\":{\"outlinewidth\":0,\"ticks\":\"\"},\"colorscale\":[[0.0,\"#0d0887\"],[0.1111111111111111,\"#46039f\"],[0.2222222222222222,\"#7201a8\"],[0.3333333333333333,\"#9c179e\"],[0.4444444444444444,\"#bd3786\"],[0.5555555555555556,\"#d8576b\"],[0.6666666666666666,\"#ed7953\"],[0.7777777777777778,\"#fb9f3a\"],[0.8888888888888888,\"#fdca26\"],[1.0,\"#f0f921\"]]}],\"contourcarpet\":[{\"type\":\"contourcarpet\",\"colorbar\":{\"outlinewidth\":0,\"ticks\":\"\"}}],\"contour\":[{\"type\":\"contour\",\"colorbar\":{\"outlinewidth\":0,\"ticks\":\"\"},\"colorscale\":[[0.0,\"#0d0887\"],[0.1111111111111111,\"#46039f\"],[0.2222222222222222,\"#7201a8\"],[0.3333333333333333,\"#9c179e\"],[0.4444444444444444,\"#bd3786\"],[0.5555555555555556,\"#d8576b\"],[0.6666666666666666,\"#ed7953\"],[0.7777777777777778,\"#fb9f3a\"],[0.8888888888888888,\"#fdca26\"],[1.0,\"#f0f921\"]]}],\"surface\":[{\"type\":\"surface\",\"colorbar\":{\"outlinewidth\":0,\"ticks\":\"\"},\"colorscale\":[[0.0,\"#0d0887\"],[0.1111111111111111,\"#46039f\"],[0.2222222222222222,\"#7201a8\"],[0.3333333333333333,\"#9c179e\"],[0.4444444444444444,\"#bd3786\"],[0.5555555555555556,\"#d8576b\"],[0.6666666666666666,\"#ed7953\"],[0.7777777777777778,\"#fb9f3a\"],[0.8888888888888888,\"#fdca26\"],[1.0,\"#f0f921\"]]}],\"mesh3d\":[{\"type\":\"mesh3d\",\"colorbar\":{\"outlinewidth\":0,\"ticks\":\"\"}}],\"scatter\":[{\"fillpattern\":{\"fillmode\":\"overlay\",\"size\":10,\"solidity\":0.2},\"type\":\"scatter\"}],\"parcoords\":[{\"type\":\"parcoords\",\"line\":{\"colorbar\":{\"outlinewidth\":0,\"ticks\":\"\"}}}],\"scatterpolargl\":[{\"type\":\"scatterpolargl\",\"marker\":{\"colorbar\":{\"outlinewidth\":0,\"ticks\":\"\"}}}],\"bar\":[{\"error_x\":{\"color\":\"#2a3f5f\"},\"error_y\":{\"color\":\"#2a3f5f\"},\"marker\":{\"line\":{\"color\":\"#E5ECF6\",\"width\":0.5},\"pattern\":{\"fillmode\":\"overlay\",\"size\":10,\"solidity\":0.2}},\"type\":\"bar\"}],\"scattergeo\":[{\"type\":\"scattergeo\",\"marker\":{\"colorbar\":{\"outlinewidth\":0,\"ticks\":\"\"}}}],\"scatterpolar\":[{\"type\":\"scatterpolar\",\"marker\":{\"colorbar\":{\"outlinewidth\":0,\"ticks\":\"\"}}}],\"histogram\":[{\"marker\":{\"pattern\":{\"fillmode\":\"overlay\",\"size\":10,\"solidity\":0.2}},\"type\":\"histogram\"}],\"scattergl\":[{\"type\":\"scattergl\",\"marker\":{\"colorbar\":{\"outlinewidth\":0,\"ticks\":\"\"}}}],\"scatter3d\":[{\"type\":\"scatter3d\",\"line\":{\"colorbar\":{\"outlinewidth\":0,\"ticks\":\"\"}},\"marker\":{\"colorbar\":{\"outlinewidth\":0,\"ticks\":\"\"}}}],\"scattermapbox\":[{\"type\":\"scattermapbox\",\"marker\":{\"colorbar\":{\"outlinewidth\":0,\"ticks\":\"\"}}}],\"scatterternary\":[{\"type\":\"scatterternary\",\"marker\":{\"colorbar\":{\"outlinewidth\":0,\"ticks\":\"\"}}}],\"scattercarpet\":[{\"type\":\"scattercarpet\",\"marker\":{\"colorbar\":{\"outlinewidth\":0,\"ticks\":\"\"}}}],\"carpet\":[{\"aaxis\":{\"endlinecolor\":\"#2a3f5f\",\"gridcolor\":\"white\",\"linecolor\":\"white\",\"minorgridcolor\":\"white\",\"startlinecolor\":\"#2a3f5f\"},\"baxis\":{\"endlinecolor\":\"#2a3f5f\",\"gridcolor\":\"white\",\"linecolor\":\"white\",\"minorgridcolor\":\"white\",\"startlinecolor\":\"#2a3f5f\"},\"type\":\"carpet\"}],\"table\":[{\"cells\":{\"fill\":{\"color\":\"#EBF0F8\"},\"line\":{\"color\":\"white\"}},\"header\":{\"fill\":{\"color\":\"#C8D4E3\"},\"line\":{\"color\":\"white\"}},\"type\":\"table\"}],\"barpolar\":[{\"marker\":{\"line\":{\"color\":\"#E5ECF6\",\"width\":0.5},\"pattern\":{\"fillmode\":\"overlay\",\"size\":10,\"solidity\":0.2}},\"type\":\"barpolar\"}],\"pie\":[{\"automargin\":true,\"type\":\"pie\"}]},\"layout\":{\"autotypenumbers\":\"strict\",\"colorway\":[\"#636efa\",\"#EF553B\",\"#00cc96\",\"#ab63fa\",\"#FFA15A\",\"#19d3f3\",\"#FF6692\",\"#B6E880\",\"#FF97FF\",\"#FECB52\"],\"font\":{\"color\":\"#2a3f5f\"},\"hovermode\":\"closest\",\"hoverlabel\":{\"align\":\"left\"},\"paper_bgcolor\":\"white\",\"plot_bgcolor\":\"#E5ECF6\",\"polar\":{\"bgcolor\":\"#E5ECF6\",\"angularaxis\":{\"gridcolor\":\"white\",\"linecolor\":\"white\",\"ticks\":\"\"},\"radialaxis\":{\"gridcolor\":\"white\",\"linecolor\":\"white\",\"ticks\":\"\"}},\"ternary\":{\"bgcolor\":\"#E5ECF6\",\"aaxis\":{\"gridcolor\":\"white\",\"linecolor\":\"white\",\"ticks\":\"\"},\"baxis\":{\"gridcolor\":\"white\",\"linecolor\":\"white\",\"ticks\":\"\"},\"caxis\":{\"gridcolor\":\"white\",\"linecolor\":\"white\",\"ticks\":\"\"}},\"coloraxis\":{\"colorbar\":{\"outlinewidth\":0,\"ticks\":\"\"}},\"colorscale\":{\"sequential\":[[0.0,\"#0d0887\"],[0.1111111111111111,\"#46039f\"],[0.2222222222222222,\"#7201a8\"],[0.3333333333333333,\"#9c179e\"],[0.4444444444444444,\"#bd3786\"],[0.5555555555555556,\"#d8576b\"],[0.6666666666666666,\"#ed7953\"],[0.7777777777777778,\"#fb9f3a\"],[0.8888888888888888,\"#fdca26\"],[1.0,\"#f0f921\"]],\"sequentialminus\":[[0.0,\"#0d0887\"],[0.1111111111111111,\"#46039f\"],[0.2222222222222222,\"#7201a8\"],[0.3333333333333333,\"#9c179e\"],[0.4444444444444444,\"#bd3786\"],[0.5555555555555556,\"#d8576b\"],[0.6666666666666666,\"#ed7953\"],[0.7777777777777778,\"#fb9f3a\"],[0.8888888888888888,\"#fdca26\"],[1.0,\"#f0f921\"]],\"diverging\":[[0,\"#8e0152\"],[0.1,\"#c51b7d\"],[0.2,\"#de77ae\"],[0.3,\"#f1b6da\"],[0.4,\"#fde0ef\"],[0.5,\"#f7f7f7\"],[0.6,\"#e6f5d0\"],[0.7,\"#b8e186\"],[0.8,\"#7fbc41\"],[0.9,\"#4d9221\"],[1,\"#276419\"]]},\"xaxis\":{\"gridcolor\":\"white\",\"linecolor\":\"white\",\"ticks\":\"\",\"title\":{\"standoff\":15},\"zerolinecolor\":\"white\",\"automargin\":true,\"zerolinewidth\":2},\"yaxis\":{\"gridcolor\":\"white\",\"linecolor\":\"white\",\"ticks\":\"\",\"title\":{\"standoff\":15},\"zerolinecolor\":\"white\",\"automargin\":true,\"zerolinewidth\":2},\"scene\":{\"xaxis\":{\"backgroundcolor\":\"#E5ECF6\",\"gridcolor\":\"white\",\"linecolor\":\"white\",\"showbackground\":true,\"ticks\":\"\",\"zerolinecolor\":\"white\",\"gridwidth\":2},\"yaxis\":{\"backgroundcolor\":\"#E5ECF6\",\"gridcolor\":\"white\",\"linecolor\":\"white\",\"showbackground\":true,\"ticks\":\"\",\"zerolinecolor\":\"white\",\"gridwidth\":2},\"zaxis\":{\"backgroundcolor\":\"#E5ECF6\",\"gridcolor\":\"white\",\"linecolor\":\"white\",\"showbackground\":true,\"ticks\":\"\",\"zerolinecolor\":\"white\",\"gridwidth\":2}},\"shapedefaults\":{\"line\":{\"color\":\"#2a3f5f\"}},\"annotationdefaults\":{\"arrowcolor\":\"#2a3f5f\",\"arrowhead\":0,\"arrowwidth\":1},\"geo\":{\"bgcolor\":\"white\",\"landcolor\":\"#E5ECF6\",\"subunitcolor\":\"white\",\"showland\":true,\"showlakes\":true,\"lakecolor\":\"white\"},\"title\":{\"x\":0.05},\"mapbox\":{\"style\":\"light\"}}},\"xaxis\":{\"anchor\":\"y\",\"domain\":[0.0,1.0],\"title\":{\"text\":\"Manufacturer\"}},\"yaxis\":{\"anchor\":\"x\",\"domain\":[0.0,1.0],\"title\":{\"text\":\"__year_resale_value\"}},\"legend\":{\"title\":{\"text\":\"Model\"},\"tracegroupgap\":0},\"margin\":{\"t\":60},\"barmode\":\"relative\",\"height\":400},                        {\"responsive\": true}                    ).then(function(){\n",
       "                            \n",
       "var gd = document.getElementById('6c82a5f5-459a-4c23-8641-dc898dce9743');\n",
       "var x = new MutationObserver(function (mutations, observer) {{\n",
       "        var display = window.getComputedStyle(gd).display;\n",
       "        if (!display || display === 'none') {{\n",
       "            console.log([gd, 'removed!']);\n",
       "            Plotly.purge(gd);\n",
       "            observer.disconnect();\n",
       "        }}\n",
       "}});\n",
       "\n",
       "// Listen for the removal of the full notebook cells\n",
       "var notebookContainer = gd.closest('#notebook-container');\n",
       "if (notebookContainer) {{\n",
       "    x.observe(notebookContainer, {childList: true});\n",
       "}}\n",
       "\n",
       "// Listen for the clearing of the current output cell\n",
       "var outputEl = gd.closest('.output');\n",
       "if (outputEl) {{\n",
       "    x.observe(outputEl, {childList: true});\n",
       "}}\n",
       "\n",
       "                        })                };                });            </script>        </div>"
      ]
     },
     "metadata": {},
     "output_type": "display_data"
    }
   ],
   "source": [
    "px.bar(data, x='Manufacturer', y='__year_resale_value',\n",
    " hover_data=['Sales_in_thousands', 'Price_in_thousands','Engine_size'], color='Model', height=400)\n"
   ]
  },
  {
   "cell_type": "code",
   "execution_count": 43,
   "id": "9b3b8809",
   "metadata": {},
   "outputs": [
    {
     "data": {
      "application/vnd.plotly.v1+json": {
       "config": {
        "plotlyServerURL": "https://plot.ly"
       },
       "data": [
        {
         "alignmentgroup": "True",
         "customdata": [
          [
           16.919,
           21.5,
           1.8
          ]
         ],
         "hovertemplate": "Model=Integra<br>Manufacturer=%{x}<br>__year_resale_value=%{y}<br>Sales_in_thousands=%{customdata[0]}<br>Price_in_thousands=%{customdata[1]}<br>Engine_size=%{customdata[2]}<extra></extra>",
         "legendgroup": "Integra",
         "marker": {
          "color": "#636efa",
          "pattern": {
           "shape": ""
          }
         },
         "name": "Integra",
         "offsetgroup": "Integra",
         "orientation": "v",
         "showlegend": true,
         "textposition": "auto",
         "type": "bar",
         "x": [
          "Acura"
         ],
         "xaxis": "x",
         "y": [
          16.36
         ],
         "yaxis": "y"
        },
        {
         "alignmentgroup": "True",
         "customdata": [
          [
           39.384,
           28.4,
           3.2
          ]
         ],
         "hovertemplate": "Model=TL<br>Manufacturer=%{x}<br>__year_resale_value=%{y}<br>Sales_in_thousands=%{customdata[0]}<br>Price_in_thousands=%{customdata[1]}<br>Engine_size=%{customdata[2]}<extra></extra>",
         "legendgroup": "TL",
         "marker": {
          "color": "#EF553B",
          "pattern": {
           "shape": ""
          }
         },
         "name": "TL",
         "offsetgroup": "TL",
         "orientation": "v",
         "showlegend": true,
         "textposition": "auto",
         "type": "bar",
         "x": [
          "Acura"
         ],
         "xaxis": "x",
         "y": [
          19.875
         ],
         "yaxis": "y"
        },
        {
         "alignmentgroup": "True",
         "customdata": [
          [
           8.588,
           42,
           3.5
          ]
         ],
         "hovertemplate": "Model=RL<br>Manufacturer=%{x}<br>__year_resale_value=%{y}<br>Sales_in_thousands=%{customdata[0]}<br>Price_in_thousands=%{customdata[1]}<br>Engine_size=%{customdata[2]}<extra></extra>",
         "legendgroup": "RL",
         "marker": {
          "color": "#00cc96",
          "pattern": {
           "shape": ""
          }
         },
         "name": "RL",
         "offsetgroup": "RL",
         "orientation": "v",
         "showlegend": true,
         "textposition": "auto",
         "type": "bar",
         "x": [
          "Acura"
         ],
         "xaxis": "x",
         "y": [
          29.725
         ],
         "yaxis": "y"
        },
        {
         "alignmentgroup": "True",
         "customdata": [
          [
           20.397,
           23.99,
           1.8
          ]
         ],
         "hovertemplate": "Model=A4<br>Manufacturer=%{x}<br>__year_resale_value=%{y}<br>Sales_in_thousands=%{customdata[0]}<br>Price_in_thousands=%{customdata[1]}<br>Engine_size=%{customdata[2]}<extra></extra>",
         "legendgroup": "A4",
         "marker": {
          "color": "#ab63fa",
          "pattern": {
           "shape": ""
          }
         },
         "name": "A4",
         "offsetgroup": "A4",
         "orientation": "v",
         "showlegend": true,
         "textposition": "auto",
         "type": "bar",
         "x": [
          "Audi"
         ],
         "xaxis": "x",
         "y": [
          22.255
         ],
         "yaxis": "y"
        },
        {
         "alignmentgroup": "True",
         "customdata": [
          [
           18.78,
           33.95,
           2.8
          ]
         ],
         "hovertemplate": "Model=A6<br>Manufacturer=%{x}<br>__year_resale_value=%{y}<br>Sales_in_thousands=%{customdata[0]}<br>Price_in_thousands=%{customdata[1]}<br>Engine_size=%{customdata[2]}<extra></extra>",
         "legendgroup": "A6",
         "marker": {
          "color": "#FFA15A",
          "pattern": {
           "shape": ""
          }
         },
         "name": "A6",
         "offsetgroup": "A6",
         "orientation": "v",
         "showlegend": true,
         "textposition": "auto",
         "type": "bar",
         "x": [
          "Audi"
         ],
         "xaxis": "x",
         "y": [
          23.555
         ],
         "yaxis": "y"
        },
        {
         "alignmentgroup": "True",
         "customdata": [
          [
           1.38,
           62,
           4.2
          ]
         ],
         "hovertemplate": "Model=A8<br>Manufacturer=%{x}<br>__year_resale_value=%{y}<br>Sales_in_thousands=%{customdata[0]}<br>Price_in_thousands=%{customdata[1]}<br>Engine_size=%{customdata[2]}<extra></extra>",
         "legendgroup": "A8",
         "marker": {
          "color": "#19d3f3",
          "pattern": {
           "shape": ""
          }
         },
         "name": "A8",
         "offsetgroup": "A8",
         "orientation": "v",
         "showlegend": true,
         "textposition": "auto",
         "type": "bar",
         "x": [
          "Audi"
         ],
         "xaxis": "x",
         "y": [
          39
         ],
         "yaxis": "y"
        },
        {
         "alignmentgroup": "True",
         "customdata": [
          [
           9.761,
           14.9,
           2
          ]
         ],
         "hovertemplate": "Model=Golf<br>Manufacturer=%{x}<br>__year_resale_value=%{y}<br>Sales_in_thousands=%{customdata[0]}<br>Price_in_thousands=%{customdata[1]}<br>Engine_size=%{customdata[2]}<extra></extra>",
         "legendgroup": "Golf",
         "marker": {
          "color": "#FF6692",
          "pattern": {
           "shape": ""
          }
         },
         "name": "Golf",
         "offsetgroup": "Golf",
         "orientation": "v",
         "showlegend": true,
         "textposition": "auto",
         "type": "bar",
         "x": [
          "Volkswagen"
         ],
         "xaxis": "x",
         "y": [
          11.425
         ],
         "yaxis": "y"
        },
        {
         "alignmentgroup": "True",
         "customdata": [
          [
           83.721,
           16.7,
           2
          ]
         ],
         "hovertemplate": "Model=Jetta<br>Manufacturer=%{x}<br>__year_resale_value=%{y}<br>Sales_in_thousands=%{customdata[0]}<br>Price_in_thousands=%{customdata[1]}<br>Engine_size=%{customdata[2]}<extra></extra>",
         "legendgroup": "Jetta",
         "marker": {
          "color": "#B6E880",
          "pattern": {
           "shape": ""
          }
         },
         "name": "Jetta",
         "offsetgroup": "Jetta",
         "orientation": "v",
         "showlegend": true,
         "textposition": "auto",
         "type": "bar",
         "x": [
          "Volkswagen"
         ],
         "xaxis": "x",
         "y": [
          13.24
         ],
         "yaxis": "y"
        },
        {
         "alignmentgroup": "True",
         "customdata": [
          [
           51.102,
           21.2,
           1.8
          ]
         ],
         "hovertemplate": "Model=Passat<br>Manufacturer=%{x}<br>__year_resale_value=%{y}<br>Sales_in_thousands=%{customdata[0]}<br>Price_in_thousands=%{customdata[1]}<br>Engine_size=%{customdata[2]}<extra></extra>",
         "legendgroup": "Passat",
         "marker": {
          "color": "#FF97FF",
          "pattern": {
           "shape": ""
          }
         },
         "name": "Passat",
         "offsetgroup": "Passat",
         "orientation": "v",
         "showlegend": true,
         "textposition": "auto",
         "type": "bar",
         "x": [
          "Volkswagen"
         ],
         "xaxis": "x",
         "y": [
          16.725
         ],
         "yaxis": "y"
        },
        {
         "alignmentgroup": "True",
         "customdata": [
          [
           9.569,
           19.99,
           2
          ]
         ],
         "hovertemplate": "Model=Cabrio<br>Manufacturer=%{x}<br>__year_resale_value=%{y}<br>Sales_in_thousands=%{customdata[0]}<br>Price_in_thousands=%{customdata[1]}<br>Engine_size=%{customdata[2]}<extra></extra>",
         "legendgroup": "Cabrio",
         "marker": {
          "color": "#FECB52",
          "pattern": {
           "shape": ""
          }
         },
         "name": "Cabrio",
         "offsetgroup": "Cabrio",
         "orientation": "v",
         "showlegend": true,
         "textposition": "auto",
         "type": "bar",
         "x": [
          "Volkswagen"
         ],
         "xaxis": "x",
         "y": [
          16.575
         ],
         "yaxis": "y"
        },
        {
         "alignmentgroup": "True",
         "customdata": [
          [
           5.596,
           17.5,
           2
          ]
         ],
         "hovertemplate": "Model=GTI<br>Manufacturer=%{x}<br>__year_resale_value=%{y}<br>Sales_in_thousands=%{customdata[0]}<br>Price_in_thousands=%{customdata[1]}<br>Engine_size=%{customdata[2]}<extra></extra>",
         "legendgroup": "GTI",
         "marker": {
          "color": "#636efa",
          "pattern": {
           "shape": ""
          }
         },
         "name": "GTI",
         "offsetgroup": "GTI",
         "orientation": "v",
         "showlegend": true,
         "textposition": "auto",
         "type": "bar",
         "x": [
          "Volkswagen"
         ],
         "xaxis": "x",
         "y": [
          13.76
         ],
         "yaxis": "y"
        }
       ],
       "layout": {
        "barmode": "relative",
        "height": 400,
        "legend": {
         "title": {
          "text": "Model"
         },
         "tracegroupgap": 0
        },
        "margin": {
         "t": 60
        },
        "template": {
         "data": {
          "bar": [
           {
            "error_x": {
             "color": "#2a3f5f"
            },
            "error_y": {
             "color": "#2a3f5f"
            },
            "marker": {
             "line": {
              "color": "#E5ECF6",
              "width": 0.5
             },
             "pattern": {
              "fillmode": "overlay",
              "size": 10,
              "solidity": 0.2
             }
            },
            "type": "bar"
           }
          ],
          "barpolar": [
           {
            "marker": {
             "line": {
              "color": "#E5ECF6",
              "width": 0.5
             },
             "pattern": {
              "fillmode": "overlay",
              "size": 10,
              "solidity": 0.2
             }
            },
            "type": "barpolar"
           }
          ],
          "carpet": [
           {
            "aaxis": {
             "endlinecolor": "#2a3f5f",
             "gridcolor": "white",
             "linecolor": "white",
             "minorgridcolor": "white",
             "startlinecolor": "#2a3f5f"
            },
            "baxis": {
             "endlinecolor": "#2a3f5f",
             "gridcolor": "white",
             "linecolor": "white",
             "minorgridcolor": "white",
             "startlinecolor": "#2a3f5f"
            },
            "type": "carpet"
           }
          ],
          "choropleth": [
           {
            "colorbar": {
             "outlinewidth": 0,
             "ticks": ""
            },
            "type": "choropleth"
           }
          ],
          "contour": [
           {
            "colorbar": {
             "outlinewidth": 0,
             "ticks": ""
            },
            "colorscale": [
             [
              0,
              "#0d0887"
             ],
             [
              0.1111111111111111,
              "#46039f"
             ],
             [
              0.2222222222222222,
              "#7201a8"
             ],
             [
              0.3333333333333333,
              "#9c179e"
             ],
             [
              0.4444444444444444,
              "#bd3786"
             ],
             [
              0.5555555555555556,
              "#d8576b"
             ],
             [
              0.6666666666666666,
              "#ed7953"
             ],
             [
              0.7777777777777778,
              "#fb9f3a"
             ],
             [
              0.8888888888888888,
              "#fdca26"
             ],
             [
              1,
              "#f0f921"
             ]
            ],
            "type": "contour"
           }
          ],
          "contourcarpet": [
           {
            "colorbar": {
             "outlinewidth": 0,
             "ticks": ""
            },
            "type": "contourcarpet"
           }
          ],
          "heatmap": [
           {
            "colorbar": {
             "outlinewidth": 0,
             "ticks": ""
            },
            "colorscale": [
             [
              0,
              "#0d0887"
             ],
             [
              0.1111111111111111,
              "#46039f"
             ],
             [
              0.2222222222222222,
              "#7201a8"
             ],
             [
              0.3333333333333333,
              "#9c179e"
             ],
             [
              0.4444444444444444,
              "#bd3786"
             ],
             [
              0.5555555555555556,
              "#d8576b"
             ],
             [
              0.6666666666666666,
              "#ed7953"
             ],
             [
              0.7777777777777778,
              "#fb9f3a"
             ],
             [
              0.8888888888888888,
              "#fdca26"
             ],
             [
              1,
              "#f0f921"
             ]
            ],
            "type": "heatmap"
           }
          ],
          "heatmapgl": [
           {
            "colorbar": {
             "outlinewidth": 0,
             "ticks": ""
            },
            "colorscale": [
             [
              0,
              "#0d0887"
             ],
             [
              0.1111111111111111,
              "#46039f"
             ],
             [
              0.2222222222222222,
              "#7201a8"
             ],
             [
              0.3333333333333333,
              "#9c179e"
             ],
             [
              0.4444444444444444,
              "#bd3786"
             ],
             [
              0.5555555555555556,
              "#d8576b"
             ],
             [
              0.6666666666666666,
              "#ed7953"
             ],
             [
              0.7777777777777778,
              "#fb9f3a"
             ],
             [
              0.8888888888888888,
              "#fdca26"
             ],
             [
              1,
              "#f0f921"
             ]
            ],
            "type": "heatmapgl"
           }
          ],
          "histogram": [
           {
            "marker": {
             "pattern": {
              "fillmode": "overlay",
              "size": 10,
              "solidity": 0.2
             }
            },
            "type": "histogram"
           }
          ],
          "histogram2d": [
           {
            "colorbar": {
             "outlinewidth": 0,
             "ticks": ""
            },
            "colorscale": [
             [
              0,
              "#0d0887"
             ],
             [
              0.1111111111111111,
              "#46039f"
             ],
             [
              0.2222222222222222,
              "#7201a8"
             ],
             [
              0.3333333333333333,
              "#9c179e"
             ],
             [
              0.4444444444444444,
              "#bd3786"
             ],
             [
              0.5555555555555556,
              "#d8576b"
             ],
             [
              0.6666666666666666,
              "#ed7953"
             ],
             [
              0.7777777777777778,
              "#fb9f3a"
             ],
             [
              0.8888888888888888,
              "#fdca26"
             ],
             [
              1,
              "#f0f921"
             ]
            ],
            "type": "histogram2d"
           }
          ],
          "histogram2dcontour": [
           {
            "colorbar": {
             "outlinewidth": 0,
             "ticks": ""
            },
            "colorscale": [
             [
              0,
              "#0d0887"
             ],
             [
              0.1111111111111111,
              "#46039f"
             ],
             [
              0.2222222222222222,
              "#7201a8"
             ],
             [
              0.3333333333333333,
              "#9c179e"
             ],
             [
              0.4444444444444444,
              "#bd3786"
             ],
             [
              0.5555555555555556,
              "#d8576b"
             ],
             [
              0.6666666666666666,
              "#ed7953"
             ],
             [
              0.7777777777777778,
              "#fb9f3a"
             ],
             [
              0.8888888888888888,
              "#fdca26"
             ],
             [
              1,
              "#f0f921"
             ]
            ],
            "type": "histogram2dcontour"
           }
          ],
          "mesh3d": [
           {
            "colorbar": {
             "outlinewidth": 0,
             "ticks": ""
            },
            "type": "mesh3d"
           }
          ],
          "parcoords": [
           {
            "line": {
             "colorbar": {
              "outlinewidth": 0,
              "ticks": ""
             }
            },
            "type": "parcoords"
           }
          ],
          "pie": [
           {
            "automargin": true,
            "type": "pie"
           }
          ],
          "scatter": [
           {
            "fillpattern": {
             "fillmode": "overlay",
             "size": 10,
             "solidity": 0.2
            },
            "type": "scatter"
           }
          ],
          "scatter3d": [
           {
            "line": {
             "colorbar": {
              "outlinewidth": 0,
              "ticks": ""
             }
            },
            "marker": {
             "colorbar": {
              "outlinewidth": 0,
              "ticks": ""
             }
            },
            "type": "scatter3d"
           }
          ],
          "scattercarpet": [
           {
            "marker": {
             "colorbar": {
              "outlinewidth": 0,
              "ticks": ""
             }
            },
            "type": "scattercarpet"
           }
          ],
          "scattergeo": [
           {
            "marker": {
             "colorbar": {
              "outlinewidth": 0,
              "ticks": ""
             }
            },
            "type": "scattergeo"
           }
          ],
          "scattergl": [
           {
            "marker": {
             "colorbar": {
              "outlinewidth": 0,
              "ticks": ""
             }
            },
            "type": "scattergl"
           }
          ],
          "scattermapbox": [
           {
            "marker": {
             "colorbar": {
              "outlinewidth": 0,
              "ticks": ""
             }
            },
            "type": "scattermapbox"
           }
          ],
          "scatterpolar": [
           {
            "marker": {
             "colorbar": {
              "outlinewidth": 0,
              "ticks": ""
             }
            },
            "type": "scatterpolar"
           }
          ],
          "scatterpolargl": [
           {
            "marker": {
             "colorbar": {
              "outlinewidth": 0,
              "ticks": ""
             }
            },
            "type": "scatterpolargl"
           }
          ],
          "scatterternary": [
           {
            "marker": {
             "colorbar": {
              "outlinewidth": 0,
              "ticks": ""
             }
            },
            "type": "scatterternary"
           }
          ],
          "surface": [
           {
            "colorbar": {
             "outlinewidth": 0,
             "ticks": ""
            },
            "colorscale": [
             [
              0,
              "#0d0887"
             ],
             [
              0.1111111111111111,
              "#46039f"
             ],
             [
              0.2222222222222222,
              "#7201a8"
             ],
             [
              0.3333333333333333,
              "#9c179e"
             ],
             [
              0.4444444444444444,
              "#bd3786"
             ],
             [
              0.5555555555555556,
              "#d8576b"
             ],
             [
              0.6666666666666666,
              "#ed7953"
             ],
             [
              0.7777777777777778,
              "#fb9f3a"
             ],
             [
              0.8888888888888888,
              "#fdca26"
             ],
             [
              1,
              "#f0f921"
             ]
            ],
            "type": "surface"
           }
          ],
          "table": [
           {
            "cells": {
             "fill": {
              "color": "#EBF0F8"
             },
             "line": {
              "color": "white"
             }
            },
            "header": {
             "fill": {
              "color": "#C8D4E3"
             },
             "line": {
              "color": "white"
             }
            },
            "type": "table"
           }
          ]
         },
         "layout": {
          "annotationdefaults": {
           "arrowcolor": "#2a3f5f",
           "arrowhead": 0,
           "arrowwidth": 1
          },
          "autotypenumbers": "strict",
          "coloraxis": {
           "colorbar": {
            "outlinewidth": 0,
            "ticks": ""
           }
          },
          "colorscale": {
           "diverging": [
            [
             0,
             "#8e0152"
            ],
            [
             0.1,
             "#c51b7d"
            ],
            [
             0.2,
             "#de77ae"
            ],
            [
             0.3,
             "#f1b6da"
            ],
            [
             0.4,
             "#fde0ef"
            ],
            [
             0.5,
             "#f7f7f7"
            ],
            [
             0.6,
             "#e6f5d0"
            ],
            [
             0.7,
             "#b8e186"
            ],
            [
             0.8,
             "#7fbc41"
            ],
            [
             0.9,
             "#4d9221"
            ],
            [
             1,
             "#276419"
            ]
           ],
           "sequential": [
            [
             0,
             "#0d0887"
            ],
            [
             0.1111111111111111,
             "#46039f"
            ],
            [
             0.2222222222222222,
             "#7201a8"
            ],
            [
             0.3333333333333333,
             "#9c179e"
            ],
            [
             0.4444444444444444,
             "#bd3786"
            ],
            [
             0.5555555555555556,
             "#d8576b"
            ],
            [
             0.6666666666666666,
             "#ed7953"
            ],
            [
             0.7777777777777778,
             "#fb9f3a"
            ],
            [
             0.8888888888888888,
             "#fdca26"
            ],
            [
             1,
             "#f0f921"
            ]
           ],
           "sequentialminus": [
            [
             0,
             "#0d0887"
            ],
            [
             0.1111111111111111,
             "#46039f"
            ],
            [
             0.2222222222222222,
             "#7201a8"
            ],
            [
             0.3333333333333333,
             "#9c179e"
            ],
            [
             0.4444444444444444,
             "#bd3786"
            ],
            [
             0.5555555555555556,
             "#d8576b"
            ],
            [
             0.6666666666666666,
             "#ed7953"
            ],
            [
             0.7777777777777778,
             "#fb9f3a"
            ],
            [
             0.8888888888888888,
             "#fdca26"
            ],
            [
             1,
             "#f0f921"
            ]
           ]
          },
          "colorway": [
           "#636efa",
           "#EF553B",
           "#00cc96",
           "#ab63fa",
           "#FFA15A",
           "#19d3f3",
           "#FF6692",
           "#B6E880",
           "#FF97FF",
           "#FECB52"
          ],
          "font": {
           "color": "#2a3f5f"
          },
          "geo": {
           "bgcolor": "white",
           "lakecolor": "white",
           "landcolor": "#E5ECF6",
           "showlakes": true,
           "showland": true,
           "subunitcolor": "white"
          },
          "hoverlabel": {
           "align": "left"
          },
          "hovermode": "closest",
          "mapbox": {
           "style": "light"
          },
          "paper_bgcolor": "white",
          "plot_bgcolor": "#E5ECF6",
          "polar": {
           "angularaxis": {
            "gridcolor": "white",
            "linecolor": "white",
            "ticks": ""
           },
           "bgcolor": "#E5ECF6",
           "radialaxis": {
            "gridcolor": "white",
            "linecolor": "white",
            "ticks": ""
           }
          },
          "scene": {
           "xaxis": {
            "backgroundcolor": "#E5ECF6",
            "gridcolor": "white",
            "gridwidth": 2,
            "linecolor": "white",
            "showbackground": true,
            "ticks": "",
            "zerolinecolor": "white"
           },
           "yaxis": {
            "backgroundcolor": "#E5ECF6",
            "gridcolor": "white",
            "gridwidth": 2,
            "linecolor": "white",
            "showbackground": true,
            "ticks": "",
            "zerolinecolor": "white"
           },
           "zaxis": {
            "backgroundcolor": "#E5ECF6",
            "gridcolor": "white",
            "gridwidth": 2,
            "linecolor": "white",
            "showbackground": true,
            "ticks": "",
            "zerolinecolor": "white"
           }
          },
          "shapedefaults": {
           "line": {
            "color": "#2a3f5f"
           }
          },
          "ternary": {
           "aaxis": {
            "gridcolor": "white",
            "linecolor": "white",
            "ticks": ""
           },
           "baxis": {
            "gridcolor": "white",
            "linecolor": "white",
            "ticks": ""
           },
           "bgcolor": "#E5ECF6",
           "caxis": {
            "gridcolor": "white",
            "linecolor": "white",
            "ticks": ""
           }
          },
          "title": {
           "x": 0.05
          },
          "xaxis": {
           "automargin": true,
           "gridcolor": "white",
           "linecolor": "white",
           "ticks": "",
           "title": {
            "standoff": 15
           },
           "zerolinecolor": "white",
           "zerolinewidth": 2
          },
          "yaxis": {
           "automargin": true,
           "gridcolor": "white",
           "linecolor": "white",
           "ticks": "",
           "title": {
            "standoff": 15
           },
           "zerolinecolor": "white",
           "zerolinewidth": 2
          }
         }
        },
        "xaxis": {
         "anchor": "y",
         "domain": [
          0,
          1
         ],
         "title": {
          "text": "Manufacturer"
         }
        },
        "yaxis": {
         "anchor": "x",
         "domain": [
          0,
          1
         ],
         "title": {
          "text": "__year_resale_value"
         }
        }
       }
      },
      "text/html": [
       "<div>                            <div id=\"b2d2244d-36a7-4244-a26c-f0a6c0cc84aa\" class=\"plotly-graph-div\" style=\"height:400px; width:100%;\"></div>            <script type=\"text/javascript\">                require([\"plotly\"], function(Plotly) {                    window.PLOTLYENV=window.PLOTLYENV || {};                                    if (document.getElementById(\"b2d2244d-36a7-4244-a26c-f0a6c0cc84aa\")) {                    Plotly.newPlot(                        \"b2d2244d-36a7-4244-a26c-f0a6c0cc84aa\",                        [{\"alignmentgroup\":\"True\",\"customdata\":[[16.919,21.5,1.8]],\"hovertemplate\":\"Model=Integra<br>Manufacturer=%{x}<br>__year_resale_value=%{y}<br>Sales_in_thousands=%{customdata[0]}<br>Price_in_thousands=%{customdata[1]}<br>Engine_size=%{customdata[2]}<extra></extra>\",\"legendgroup\":\"Integra\",\"marker\":{\"color\":\"#636efa\",\"pattern\":{\"shape\":\"\"}},\"name\":\"Integra\",\"offsetgroup\":\"Integra\",\"orientation\":\"v\",\"showlegend\":true,\"textposition\":\"auto\",\"x\":[\"Acura\"],\"xaxis\":\"x\",\"y\":[16.36],\"yaxis\":\"y\",\"type\":\"bar\"},{\"alignmentgroup\":\"True\",\"customdata\":[[39.384,28.4,3.2]],\"hovertemplate\":\"Model=TL<br>Manufacturer=%{x}<br>__year_resale_value=%{y}<br>Sales_in_thousands=%{customdata[0]}<br>Price_in_thousands=%{customdata[1]}<br>Engine_size=%{customdata[2]}<extra></extra>\",\"legendgroup\":\"TL\",\"marker\":{\"color\":\"#EF553B\",\"pattern\":{\"shape\":\"\"}},\"name\":\"TL\",\"offsetgroup\":\"TL\",\"orientation\":\"v\",\"showlegend\":true,\"textposition\":\"auto\",\"x\":[\"Acura\"],\"xaxis\":\"x\",\"y\":[19.875],\"yaxis\":\"y\",\"type\":\"bar\"},{\"alignmentgroup\":\"True\",\"customdata\":[[8.588,42.0,3.5]],\"hovertemplate\":\"Model=RL<br>Manufacturer=%{x}<br>__year_resale_value=%{y}<br>Sales_in_thousands=%{customdata[0]}<br>Price_in_thousands=%{customdata[1]}<br>Engine_size=%{customdata[2]}<extra></extra>\",\"legendgroup\":\"RL\",\"marker\":{\"color\":\"#00cc96\",\"pattern\":{\"shape\":\"\"}},\"name\":\"RL\",\"offsetgroup\":\"RL\",\"orientation\":\"v\",\"showlegend\":true,\"textposition\":\"auto\",\"x\":[\"Acura\"],\"xaxis\":\"x\",\"y\":[29.725],\"yaxis\":\"y\",\"type\":\"bar\"},{\"alignmentgroup\":\"True\",\"customdata\":[[20.397,23.99,1.8]],\"hovertemplate\":\"Model=A4<br>Manufacturer=%{x}<br>__year_resale_value=%{y}<br>Sales_in_thousands=%{customdata[0]}<br>Price_in_thousands=%{customdata[1]}<br>Engine_size=%{customdata[2]}<extra></extra>\",\"legendgroup\":\"A4\",\"marker\":{\"color\":\"#ab63fa\",\"pattern\":{\"shape\":\"\"}},\"name\":\"A4\",\"offsetgroup\":\"A4\",\"orientation\":\"v\",\"showlegend\":true,\"textposition\":\"auto\",\"x\":[\"Audi\"],\"xaxis\":\"x\",\"y\":[22.255],\"yaxis\":\"y\",\"type\":\"bar\"},{\"alignmentgroup\":\"True\",\"customdata\":[[18.78,33.95,2.8]],\"hovertemplate\":\"Model=A6<br>Manufacturer=%{x}<br>__year_resale_value=%{y}<br>Sales_in_thousands=%{customdata[0]}<br>Price_in_thousands=%{customdata[1]}<br>Engine_size=%{customdata[2]}<extra></extra>\",\"legendgroup\":\"A6\",\"marker\":{\"color\":\"#FFA15A\",\"pattern\":{\"shape\":\"\"}},\"name\":\"A6\",\"offsetgroup\":\"A6\",\"orientation\":\"v\",\"showlegend\":true,\"textposition\":\"auto\",\"x\":[\"Audi\"],\"xaxis\":\"x\",\"y\":[23.555],\"yaxis\":\"y\",\"type\":\"bar\"},{\"alignmentgroup\":\"True\",\"customdata\":[[1.38,62.0,4.2]],\"hovertemplate\":\"Model=A8<br>Manufacturer=%{x}<br>__year_resale_value=%{y}<br>Sales_in_thousands=%{customdata[0]}<br>Price_in_thousands=%{customdata[1]}<br>Engine_size=%{customdata[2]}<extra></extra>\",\"legendgroup\":\"A8\",\"marker\":{\"color\":\"#19d3f3\",\"pattern\":{\"shape\":\"\"}},\"name\":\"A8\",\"offsetgroup\":\"A8\",\"orientation\":\"v\",\"showlegend\":true,\"textposition\":\"auto\",\"x\":[\"Audi\"],\"xaxis\":\"x\",\"y\":[39.0],\"yaxis\":\"y\",\"type\":\"bar\"},{\"alignmentgroup\":\"True\",\"customdata\":[[9.761,14.9,2.0]],\"hovertemplate\":\"Model=Golf<br>Manufacturer=%{x}<br>__year_resale_value=%{y}<br>Sales_in_thousands=%{customdata[0]}<br>Price_in_thousands=%{customdata[1]}<br>Engine_size=%{customdata[2]}<extra></extra>\",\"legendgroup\":\"Golf\",\"marker\":{\"color\":\"#FF6692\",\"pattern\":{\"shape\":\"\"}},\"name\":\"Golf\",\"offsetgroup\":\"Golf\",\"orientation\":\"v\",\"showlegend\":true,\"textposition\":\"auto\",\"x\":[\"Volkswagen\"],\"xaxis\":\"x\",\"y\":[11.425],\"yaxis\":\"y\",\"type\":\"bar\"},{\"alignmentgroup\":\"True\",\"customdata\":[[83.721,16.7,2.0]],\"hovertemplate\":\"Model=Jetta<br>Manufacturer=%{x}<br>__year_resale_value=%{y}<br>Sales_in_thousands=%{customdata[0]}<br>Price_in_thousands=%{customdata[1]}<br>Engine_size=%{customdata[2]}<extra></extra>\",\"legendgroup\":\"Jetta\",\"marker\":{\"color\":\"#B6E880\",\"pattern\":{\"shape\":\"\"}},\"name\":\"Jetta\",\"offsetgroup\":\"Jetta\",\"orientation\":\"v\",\"showlegend\":true,\"textposition\":\"auto\",\"x\":[\"Volkswagen\"],\"xaxis\":\"x\",\"y\":[13.24],\"yaxis\":\"y\",\"type\":\"bar\"},{\"alignmentgroup\":\"True\",\"customdata\":[[51.102,21.2,1.8]],\"hovertemplate\":\"Model=Passat<br>Manufacturer=%{x}<br>__year_resale_value=%{y}<br>Sales_in_thousands=%{customdata[0]}<br>Price_in_thousands=%{customdata[1]}<br>Engine_size=%{customdata[2]}<extra></extra>\",\"legendgroup\":\"Passat\",\"marker\":{\"color\":\"#FF97FF\",\"pattern\":{\"shape\":\"\"}},\"name\":\"Passat\",\"offsetgroup\":\"Passat\",\"orientation\":\"v\",\"showlegend\":true,\"textposition\":\"auto\",\"x\":[\"Volkswagen\"],\"xaxis\":\"x\",\"y\":[16.725],\"yaxis\":\"y\",\"type\":\"bar\"},{\"alignmentgroup\":\"True\",\"customdata\":[[9.569,19.99,2.0]],\"hovertemplate\":\"Model=Cabrio<br>Manufacturer=%{x}<br>__year_resale_value=%{y}<br>Sales_in_thousands=%{customdata[0]}<br>Price_in_thousands=%{customdata[1]}<br>Engine_size=%{customdata[2]}<extra></extra>\",\"legendgroup\":\"Cabrio\",\"marker\":{\"color\":\"#FECB52\",\"pattern\":{\"shape\":\"\"}},\"name\":\"Cabrio\",\"offsetgroup\":\"Cabrio\",\"orientation\":\"v\",\"showlegend\":true,\"textposition\":\"auto\",\"x\":[\"Volkswagen\"],\"xaxis\":\"x\",\"y\":[16.575],\"yaxis\":\"y\",\"type\":\"bar\"},{\"alignmentgroup\":\"True\",\"customdata\":[[5.596,17.5,2.0]],\"hovertemplate\":\"Model=GTI<br>Manufacturer=%{x}<br>__year_resale_value=%{y}<br>Sales_in_thousands=%{customdata[0]}<br>Price_in_thousands=%{customdata[1]}<br>Engine_size=%{customdata[2]}<extra></extra>\",\"legendgroup\":\"GTI\",\"marker\":{\"color\":\"#636efa\",\"pattern\":{\"shape\":\"\"}},\"name\":\"GTI\",\"offsetgroup\":\"GTI\",\"orientation\":\"v\",\"showlegend\":true,\"textposition\":\"auto\",\"x\":[\"Volkswagen\"],\"xaxis\":\"x\",\"y\":[13.76],\"yaxis\":\"y\",\"type\":\"bar\"}],                        {\"template\":{\"data\":{\"histogram2dcontour\":[{\"type\":\"histogram2dcontour\",\"colorbar\":{\"outlinewidth\":0,\"ticks\":\"\"},\"colorscale\":[[0.0,\"#0d0887\"],[0.1111111111111111,\"#46039f\"],[0.2222222222222222,\"#7201a8\"],[0.3333333333333333,\"#9c179e\"],[0.4444444444444444,\"#bd3786\"],[0.5555555555555556,\"#d8576b\"],[0.6666666666666666,\"#ed7953\"],[0.7777777777777778,\"#fb9f3a\"],[0.8888888888888888,\"#fdca26\"],[1.0,\"#f0f921\"]]}],\"choropleth\":[{\"type\":\"choropleth\",\"colorbar\":{\"outlinewidth\":0,\"ticks\":\"\"}}],\"histogram2d\":[{\"type\":\"histogram2d\",\"colorbar\":{\"outlinewidth\":0,\"ticks\":\"\"},\"colorscale\":[[0.0,\"#0d0887\"],[0.1111111111111111,\"#46039f\"],[0.2222222222222222,\"#7201a8\"],[0.3333333333333333,\"#9c179e\"],[0.4444444444444444,\"#bd3786\"],[0.5555555555555556,\"#d8576b\"],[0.6666666666666666,\"#ed7953\"],[0.7777777777777778,\"#fb9f3a\"],[0.8888888888888888,\"#fdca26\"],[1.0,\"#f0f921\"]]}],\"heatmap\":[{\"type\":\"heatmap\",\"colorbar\":{\"outlinewidth\":0,\"ticks\":\"\"},\"colorscale\":[[0.0,\"#0d0887\"],[0.1111111111111111,\"#46039f\"],[0.2222222222222222,\"#7201a8\"],[0.3333333333333333,\"#9c179e\"],[0.4444444444444444,\"#bd3786\"],[0.5555555555555556,\"#d8576b\"],[0.6666666666666666,\"#ed7953\"],[0.7777777777777778,\"#fb9f3a\"],[0.8888888888888888,\"#fdca26\"],[1.0,\"#f0f921\"]]}],\"heatmapgl\":[{\"type\":\"heatmapgl\",\"colorbar\":{\"outlinewidth\":0,\"ticks\":\"\"},\"colorscale\":[[0.0,\"#0d0887\"],[0.1111111111111111,\"#46039f\"],[0.2222222222222222,\"#7201a8\"],[0.3333333333333333,\"#9c179e\"],[0.4444444444444444,\"#bd3786\"],[0.5555555555555556,\"#d8576b\"],[0.6666666666666666,\"#ed7953\"],[0.7777777777777778,\"#fb9f3a\"],[0.8888888888888888,\"#fdca26\"],[1.0,\"#f0f921\"]]}],\"contourcarpet\":[{\"type\":\"contourcarpet\",\"colorbar\":{\"outlinewidth\":0,\"ticks\":\"\"}}],\"contour\":[{\"type\":\"contour\",\"colorbar\":{\"outlinewidth\":0,\"ticks\":\"\"},\"colorscale\":[[0.0,\"#0d0887\"],[0.1111111111111111,\"#46039f\"],[0.2222222222222222,\"#7201a8\"],[0.3333333333333333,\"#9c179e\"],[0.4444444444444444,\"#bd3786\"],[0.5555555555555556,\"#d8576b\"],[0.6666666666666666,\"#ed7953\"],[0.7777777777777778,\"#fb9f3a\"],[0.8888888888888888,\"#fdca26\"],[1.0,\"#f0f921\"]]}],\"surface\":[{\"type\":\"surface\",\"colorbar\":{\"outlinewidth\":0,\"ticks\":\"\"},\"colorscale\":[[0.0,\"#0d0887\"],[0.1111111111111111,\"#46039f\"],[0.2222222222222222,\"#7201a8\"],[0.3333333333333333,\"#9c179e\"],[0.4444444444444444,\"#bd3786\"],[0.5555555555555556,\"#d8576b\"],[0.6666666666666666,\"#ed7953\"],[0.7777777777777778,\"#fb9f3a\"],[0.8888888888888888,\"#fdca26\"],[1.0,\"#f0f921\"]]}],\"mesh3d\":[{\"type\":\"mesh3d\",\"colorbar\":{\"outlinewidth\":0,\"ticks\":\"\"}}],\"scatter\":[{\"fillpattern\":{\"fillmode\":\"overlay\",\"size\":10,\"solidity\":0.2},\"type\":\"scatter\"}],\"parcoords\":[{\"type\":\"parcoords\",\"line\":{\"colorbar\":{\"outlinewidth\":0,\"ticks\":\"\"}}}],\"scatterpolargl\":[{\"type\":\"scatterpolargl\",\"marker\":{\"colorbar\":{\"outlinewidth\":0,\"ticks\":\"\"}}}],\"bar\":[{\"error_x\":{\"color\":\"#2a3f5f\"},\"error_y\":{\"color\":\"#2a3f5f\"},\"marker\":{\"line\":{\"color\":\"#E5ECF6\",\"width\":0.5},\"pattern\":{\"fillmode\":\"overlay\",\"size\":10,\"solidity\":0.2}},\"type\":\"bar\"}],\"scattergeo\":[{\"type\":\"scattergeo\",\"marker\":{\"colorbar\":{\"outlinewidth\":0,\"ticks\":\"\"}}}],\"scatterpolar\":[{\"type\":\"scatterpolar\",\"marker\":{\"colorbar\":{\"outlinewidth\":0,\"ticks\":\"\"}}}],\"histogram\":[{\"marker\":{\"pattern\":{\"fillmode\":\"overlay\",\"size\":10,\"solidity\":0.2}},\"type\":\"histogram\"}],\"scattergl\":[{\"type\":\"scattergl\",\"marker\":{\"colorbar\":{\"outlinewidth\":0,\"ticks\":\"\"}}}],\"scatter3d\":[{\"type\":\"scatter3d\",\"line\":{\"colorbar\":{\"outlinewidth\":0,\"ticks\":\"\"}},\"marker\":{\"colorbar\":{\"outlinewidth\":0,\"ticks\":\"\"}}}],\"scattermapbox\":[{\"type\":\"scattermapbox\",\"marker\":{\"colorbar\":{\"outlinewidth\":0,\"ticks\":\"\"}}}],\"scatterternary\":[{\"type\":\"scatterternary\",\"marker\":{\"colorbar\":{\"outlinewidth\":0,\"ticks\":\"\"}}}],\"scattercarpet\":[{\"type\":\"scattercarpet\",\"marker\":{\"colorbar\":{\"outlinewidth\":0,\"ticks\":\"\"}}}],\"carpet\":[{\"aaxis\":{\"endlinecolor\":\"#2a3f5f\",\"gridcolor\":\"white\",\"linecolor\":\"white\",\"minorgridcolor\":\"white\",\"startlinecolor\":\"#2a3f5f\"},\"baxis\":{\"endlinecolor\":\"#2a3f5f\",\"gridcolor\":\"white\",\"linecolor\":\"white\",\"minorgridcolor\":\"white\",\"startlinecolor\":\"#2a3f5f\"},\"type\":\"carpet\"}],\"table\":[{\"cells\":{\"fill\":{\"color\":\"#EBF0F8\"},\"line\":{\"color\":\"white\"}},\"header\":{\"fill\":{\"color\":\"#C8D4E3\"},\"line\":{\"color\":\"white\"}},\"type\":\"table\"}],\"barpolar\":[{\"marker\":{\"line\":{\"color\":\"#E5ECF6\",\"width\":0.5},\"pattern\":{\"fillmode\":\"overlay\",\"size\":10,\"solidity\":0.2}},\"type\":\"barpolar\"}],\"pie\":[{\"automargin\":true,\"type\":\"pie\"}]},\"layout\":{\"autotypenumbers\":\"strict\",\"colorway\":[\"#636efa\",\"#EF553B\",\"#00cc96\",\"#ab63fa\",\"#FFA15A\",\"#19d3f3\",\"#FF6692\",\"#B6E880\",\"#FF97FF\",\"#FECB52\"],\"font\":{\"color\":\"#2a3f5f\"},\"hovermode\":\"closest\",\"hoverlabel\":{\"align\":\"left\"},\"paper_bgcolor\":\"white\",\"plot_bgcolor\":\"#E5ECF6\",\"polar\":{\"bgcolor\":\"#E5ECF6\",\"angularaxis\":{\"gridcolor\":\"white\",\"linecolor\":\"white\",\"ticks\":\"\"},\"radialaxis\":{\"gridcolor\":\"white\",\"linecolor\":\"white\",\"ticks\":\"\"}},\"ternary\":{\"bgcolor\":\"#E5ECF6\",\"aaxis\":{\"gridcolor\":\"white\",\"linecolor\":\"white\",\"ticks\":\"\"},\"baxis\":{\"gridcolor\":\"white\",\"linecolor\":\"white\",\"ticks\":\"\"},\"caxis\":{\"gridcolor\":\"white\",\"linecolor\":\"white\",\"ticks\":\"\"}},\"coloraxis\":{\"colorbar\":{\"outlinewidth\":0,\"ticks\":\"\"}},\"colorscale\":{\"sequential\":[[0.0,\"#0d0887\"],[0.1111111111111111,\"#46039f\"],[0.2222222222222222,\"#7201a8\"],[0.3333333333333333,\"#9c179e\"],[0.4444444444444444,\"#bd3786\"],[0.5555555555555556,\"#d8576b\"],[0.6666666666666666,\"#ed7953\"],[0.7777777777777778,\"#fb9f3a\"],[0.8888888888888888,\"#fdca26\"],[1.0,\"#f0f921\"]],\"sequentialminus\":[[0.0,\"#0d0887\"],[0.1111111111111111,\"#46039f\"],[0.2222222222222222,\"#7201a8\"],[0.3333333333333333,\"#9c179e\"],[0.4444444444444444,\"#bd3786\"],[0.5555555555555556,\"#d8576b\"],[0.6666666666666666,\"#ed7953\"],[0.7777777777777778,\"#fb9f3a\"],[0.8888888888888888,\"#fdca26\"],[1.0,\"#f0f921\"]],\"diverging\":[[0,\"#8e0152\"],[0.1,\"#c51b7d\"],[0.2,\"#de77ae\"],[0.3,\"#f1b6da\"],[0.4,\"#fde0ef\"],[0.5,\"#f7f7f7\"],[0.6,\"#e6f5d0\"],[0.7,\"#b8e186\"],[0.8,\"#7fbc41\"],[0.9,\"#4d9221\"],[1,\"#276419\"]]},\"xaxis\":{\"gridcolor\":\"white\",\"linecolor\":\"white\",\"ticks\":\"\",\"title\":{\"standoff\":15},\"zerolinecolor\":\"white\",\"automargin\":true,\"zerolinewidth\":2},\"yaxis\":{\"gridcolor\":\"white\",\"linecolor\":\"white\",\"ticks\":\"\",\"title\":{\"standoff\":15},\"zerolinecolor\":\"white\",\"automargin\":true,\"zerolinewidth\":2},\"scene\":{\"xaxis\":{\"backgroundcolor\":\"#E5ECF6\",\"gridcolor\":\"white\",\"linecolor\":\"white\",\"showbackground\":true,\"ticks\":\"\",\"zerolinecolor\":\"white\",\"gridwidth\":2},\"yaxis\":{\"backgroundcolor\":\"#E5ECF6\",\"gridcolor\":\"white\",\"linecolor\":\"white\",\"showbackground\":true,\"ticks\":\"\",\"zerolinecolor\":\"white\",\"gridwidth\":2},\"zaxis\":{\"backgroundcolor\":\"#E5ECF6\",\"gridcolor\":\"white\",\"linecolor\":\"white\",\"showbackground\":true,\"ticks\":\"\",\"zerolinecolor\":\"white\",\"gridwidth\":2}},\"shapedefaults\":{\"line\":{\"color\":\"#2a3f5f\"}},\"annotationdefaults\":{\"arrowcolor\":\"#2a3f5f\",\"arrowhead\":0,\"arrowwidth\":1},\"geo\":{\"bgcolor\":\"white\",\"landcolor\":\"#E5ECF6\",\"subunitcolor\":\"white\",\"showland\":true,\"showlakes\":true,\"lakecolor\":\"white\"},\"title\":{\"x\":0.05},\"mapbox\":{\"style\":\"light\"}}},\"xaxis\":{\"anchor\":\"y\",\"domain\":[0.0,1.0],\"title\":{\"text\":\"Manufacturer\"}},\"yaxis\":{\"anchor\":\"x\",\"domain\":[0.0,1.0],\"title\":{\"text\":\"__year_resale_value\"}},\"legend\":{\"title\":{\"text\":\"Model\"},\"tracegroupgap\":0},\"margin\":{\"t\":60},\"barmode\":\"relative\",\"height\":400},                        {\"responsive\": true}                    ).then(function(){\n",
       "                            \n",
       "var gd = document.getElementById('b2d2244d-36a7-4244-a26c-f0a6c0cc84aa');\n",
       "var x = new MutationObserver(function (mutations, observer) {{\n",
       "        var display = window.getComputedStyle(gd).display;\n",
       "        if (!display || display === 'none') {{\n",
       "            console.log([gd, 'removed!']);\n",
       "            Plotly.purge(gd);\n",
       "            observer.disconnect();\n",
       "        }}\n",
       "}});\n",
       "\n",
       "// Listen for the removal of the full notebook cells\n",
       "var notebookContainer = gd.closest('#notebook-container');\n",
       "if (notebookContainer) {{\n",
       "    x.observe(notebookContainer, {childList: true});\n",
       "}}\n",
       "\n",
       "// Listen for the clearing of the current output cell\n",
       "var outputEl = gd.closest('.output');\n",
       "if (outputEl) {{\n",
       "    x.observe(outputEl, {childList: true});\n",
       "}}\n",
       "\n",
       "                        })                };                });            </script>        </div>"
      ]
     },
     "metadata": {},
     "output_type": "display_data"
    }
   ],
   "source": [
    "px.bar(data_m, x=\"Manufacturer\",y=\"__year_resale_value\",hover_data=['Sales_in_thousands', 'Price_in_thousands','Engine_size'], color='Model', height=400)\n"
   ]
  },
  {
   "cell_type": "code",
   "execution_count": 38,
   "id": "af71a392",
   "metadata": {},
   "outputs": [
    {
     "data": {
      "application/vnd.plotly.v1+json": {
       "config": {
        "plotlyServerURL": "https://plot.ly"
       },
       "data": [
        {
         "hovertemplate": "<b>%{hovertext}</b><br><br>Manufacturer=Acura<br>Sales_in_thousands=%{x}<br>__year_resale_value=%{y}<br>Engine_size=%{marker.size}<extra></extra>",
         "hovertext": [
          "Integra",
          "TL",
          "RL"
         ],
         "legendgroup": "Acura",
         "marker": {
          "color": "#636efa",
          "size": [
           1.8,
           3.2,
           3.5
          ],
          "sizemode": "area",
          "sizeref": 0.0011666666666666668,
          "symbol": "circle"
         },
         "mode": "markers",
         "name": "Acura",
         "orientation": "v",
         "showlegend": true,
         "type": "scatter",
         "x": [
          16.919,
          39.384,
          8.588
         ],
         "xaxis": "x",
         "y": [
          16.36,
          19.875,
          29.725
         ],
         "yaxis": "y"
        },
        {
         "hovertemplate": "<b>%{hovertext}</b><br><br>Manufacturer=Audi<br>Sales_in_thousands=%{x}<br>__year_resale_value=%{y}<br>Engine_size=%{marker.size}<extra></extra>",
         "hovertext": [
          "A4",
          "A6",
          "A8"
         ],
         "legendgroup": "Audi",
         "marker": {
          "color": "#EF553B",
          "size": [
           1.8,
           2.8,
           4.2
          ],
          "sizemode": "area",
          "sizeref": 0.0011666666666666668,
          "symbol": "circle"
         },
         "mode": "markers",
         "name": "Audi",
         "orientation": "v",
         "showlegend": true,
         "type": "scatter",
         "x": [
          20.397,
          18.78,
          1.38
         ],
         "xaxis": "x",
         "y": [
          22.255,
          23.555,
          39
         ],
         "yaxis": "y"
        },
        {
         "hovertemplate": "<b>%{hovertext}</b><br><br>Manufacturer=Volkswagen<br>Sales_in_thousands=%{x}<br>__year_resale_value=%{y}<br>Engine_size=%{marker.size}<extra></extra>",
         "hovertext": [
          "Golf",
          "Jetta",
          "Passat",
          "Cabrio",
          "GTI"
         ],
         "legendgroup": "Volkswagen",
         "marker": {
          "color": "#00cc96",
          "size": [
           2,
           2,
           1.8,
           2,
           2
          ],
          "sizemode": "area",
          "sizeref": 0.0011666666666666668,
          "symbol": "circle"
         },
         "mode": "markers",
         "name": "Volkswagen",
         "orientation": "v",
         "showlegend": true,
         "type": "scatter",
         "x": [
          9.761,
          83.721,
          51.102,
          9.569,
          5.596
         ],
         "xaxis": "x",
         "y": [
          11.425,
          13.24,
          16.725,
          16.575,
          13.76
         ],
         "yaxis": "y"
        }
       ],
       "layout": {
        "legend": {
         "itemsizing": "constant",
         "title": {
          "text": "Manufacturer"
         },
         "tracegroupgap": 0
        },
        "margin": {
         "t": 60
        },
        "template": {
         "data": {
          "bar": [
           {
            "error_x": {
             "color": "#2a3f5f"
            },
            "error_y": {
             "color": "#2a3f5f"
            },
            "marker": {
             "line": {
              "color": "#E5ECF6",
              "width": 0.5
             },
             "pattern": {
              "fillmode": "overlay",
              "size": 10,
              "solidity": 0.2
             }
            },
            "type": "bar"
           }
          ],
          "barpolar": [
           {
            "marker": {
             "line": {
              "color": "#E5ECF6",
              "width": 0.5
             },
             "pattern": {
              "fillmode": "overlay",
              "size": 10,
              "solidity": 0.2
             }
            },
            "type": "barpolar"
           }
          ],
          "carpet": [
           {
            "aaxis": {
             "endlinecolor": "#2a3f5f",
             "gridcolor": "white",
             "linecolor": "white",
             "minorgridcolor": "white",
             "startlinecolor": "#2a3f5f"
            },
            "baxis": {
             "endlinecolor": "#2a3f5f",
             "gridcolor": "white",
             "linecolor": "white",
             "minorgridcolor": "white",
             "startlinecolor": "#2a3f5f"
            },
            "type": "carpet"
           }
          ],
          "choropleth": [
           {
            "colorbar": {
             "outlinewidth": 0,
             "ticks": ""
            },
            "type": "choropleth"
           }
          ],
          "contour": [
           {
            "colorbar": {
             "outlinewidth": 0,
             "ticks": ""
            },
            "colorscale": [
             [
              0,
              "#0d0887"
             ],
             [
              0.1111111111111111,
              "#46039f"
             ],
             [
              0.2222222222222222,
              "#7201a8"
             ],
             [
              0.3333333333333333,
              "#9c179e"
             ],
             [
              0.4444444444444444,
              "#bd3786"
             ],
             [
              0.5555555555555556,
              "#d8576b"
             ],
             [
              0.6666666666666666,
              "#ed7953"
             ],
             [
              0.7777777777777778,
              "#fb9f3a"
             ],
             [
              0.8888888888888888,
              "#fdca26"
             ],
             [
              1,
              "#f0f921"
             ]
            ],
            "type": "contour"
           }
          ],
          "contourcarpet": [
           {
            "colorbar": {
             "outlinewidth": 0,
             "ticks": ""
            },
            "type": "contourcarpet"
           }
          ],
          "heatmap": [
           {
            "colorbar": {
             "outlinewidth": 0,
             "ticks": ""
            },
            "colorscale": [
             [
              0,
              "#0d0887"
             ],
             [
              0.1111111111111111,
              "#46039f"
             ],
             [
              0.2222222222222222,
              "#7201a8"
             ],
             [
              0.3333333333333333,
              "#9c179e"
             ],
             [
              0.4444444444444444,
              "#bd3786"
             ],
             [
              0.5555555555555556,
              "#d8576b"
             ],
             [
              0.6666666666666666,
              "#ed7953"
             ],
             [
              0.7777777777777778,
              "#fb9f3a"
             ],
             [
              0.8888888888888888,
              "#fdca26"
             ],
             [
              1,
              "#f0f921"
             ]
            ],
            "type": "heatmap"
           }
          ],
          "heatmapgl": [
           {
            "colorbar": {
             "outlinewidth": 0,
             "ticks": ""
            },
            "colorscale": [
             [
              0,
              "#0d0887"
             ],
             [
              0.1111111111111111,
              "#46039f"
             ],
             [
              0.2222222222222222,
              "#7201a8"
             ],
             [
              0.3333333333333333,
              "#9c179e"
             ],
             [
              0.4444444444444444,
              "#bd3786"
             ],
             [
              0.5555555555555556,
              "#d8576b"
             ],
             [
              0.6666666666666666,
              "#ed7953"
             ],
             [
              0.7777777777777778,
              "#fb9f3a"
             ],
             [
              0.8888888888888888,
              "#fdca26"
             ],
             [
              1,
              "#f0f921"
             ]
            ],
            "type": "heatmapgl"
           }
          ],
          "histogram": [
           {
            "marker": {
             "pattern": {
              "fillmode": "overlay",
              "size": 10,
              "solidity": 0.2
             }
            },
            "type": "histogram"
           }
          ],
          "histogram2d": [
           {
            "colorbar": {
             "outlinewidth": 0,
             "ticks": ""
            },
            "colorscale": [
             [
              0,
              "#0d0887"
             ],
             [
              0.1111111111111111,
              "#46039f"
             ],
             [
              0.2222222222222222,
              "#7201a8"
             ],
             [
              0.3333333333333333,
              "#9c179e"
             ],
             [
              0.4444444444444444,
              "#bd3786"
             ],
             [
              0.5555555555555556,
              "#d8576b"
             ],
             [
              0.6666666666666666,
              "#ed7953"
             ],
             [
              0.7777777777777778,
              "#fb9f3a"
             ],
             [
              0.8888888888888888,
              "#fdca26"
             ],
             [
              1,
              "#f0f921"
             ]
            ],
            "type": "histogram2d"
           }
          ],
          "histogram2dcontour": [
           {
            "colorbar": {
             "outlinewidth": 0,
             "ticks": ""
            },
            "colorscale": [
             [
              0,
              "#0d0887"
             ],
             [
              0.1111111111111111,
              "#46039f"
             ],
             [
              0.2222222222222222,
              "#7201a8"
             ],
             [
              0.3333333333333333,
              "#9c179e"
             ],
             [
              0.4444444444444444,
              "#bd3786"
             ],
             [
              0.5555555555555556,
              "#d8576b"
             ],
             [
              0.6666666666666666,
              "#ed7953"
             ],
             [
              0.7777777777777778,
              "#fb9f3a"
             ],
             [
              0.8888888888888888,
              "#fdca26"
             ],
             [
              1,
              "#f0f921"
             ]
            ],
            "type": "histogram2dcontour"
           }
          ],
          "mesh3d": [
           {
            "colorbar": {
             "outlinewidth": 0,
             "ticks": ""
            },
            "type": "mesh3d"
           }
          ],
          "parcoords": [
           {
            "line": {
             "colorbar": {
              "outlinewidth": 0,
              "ticks": ""
             }
            },
            "type": "parcoords"
           }
          ],
          "pie": [
           {
            "automargin": true,
            "type": "pie"
           }
          ],
          "scatter": [
           {
            "fillpattern": {
             "fillmode": "overlay",
             "size": 10,
             "solidity": 0.2
            },
            "type": "scatter"
           }
          ],
          "scatter3d": [
           {
            "line": {
             "colorbar": {
              "outlinewidth": 0,
              "ticks": ""
             }
            },
            "marker": {
             "colorbar": {
              "outlinewidth": 0,
              "ticks": ""
             }
            },
            "type": "scatter3d"
           }
          ],
          "scattercarpet": [
           {
            "marker": {
             "colorbar": {
              "outlinewidth": 0,
              "ticks": ""
             }
            },
            "type": "scattercarpet"
           }
          ],
          "scattergeo": [
           {
            "marker": {
             "colorbar": {
              "outlinewidth": 0,
              "ticks": ""
             }
            },
            "type": "scattergeo"
           }
          ],
          "scattergl": [
           {
            "marker": {
             "colorbar": {
              "outlinewidth": 0,
              "ticks": ""
             }
            },
            "type": "scattergl"
           }
          ],
          "scattermapbox": [
           {
            "marker": {
             "colorbar": {
              "outlinewidth": 0,
              "ticks": ""
             }
            },
            "type": "scattermapbox"
           }
          ],
          "scatterpolar": [
           {
            "marker": {
             "colorbar": {
              "outlinewidth": 0,
              "ticks": ""
             }
            },
            "type": "scatterpolar"
           }
          ],
          "scatterpolargl": [
           {
            "marker": {
             "colorbar": {
              "outlinewidth": 0,
              "ticks": ""
             }
            },
            "type": "scatterpolargl"
           }
          ],
          "scatterternary": [
           {
            "marker": {
             "colorbar": {
              "outlinewidth": 0,
              "ticks": ""
             }
            },
            "type": "scatterternary"
           }
          ],
          "surface": [
           {
            "colorbar": {
             "outlinewidth": 0,
             "ticks": ""
            },
            "colorscale": [
             [
              0,
              "#0d0887"
             ],
             [
              0.1111111111111111,
              "#46039f"
             ],
             [
              0.2222222222222222,
              "#7201a8"
             ],
             [
              0.3333333333333333,
              "#9c179e"
             ],
             [
              0.4444444444444444,
              "#bd3786"
             ],
             [
              0.5555555555555556,
              "#d8576b"
             ],
             [
              0.6666666666666666,
              "#ed7953"
             ],
             [
              0.7777777777777778,
              "#fb9f3a"
             ],
             [
              0.8888888888888888,
              "#fdca26"
             ],
             [
              1,
              "#f0f921"
             ]
            ],
            "type": "surface"
           }
          ],
          "table": [
           {
            "cells": {
             "fill": {
              "color": "#EBF0F8"
             },
             "line": {
              "color": "white"
             }
            },
            "header": {
             "fill": {
              "color": "#C8D4E3"
             },
             "line": {
              "color": "white"
             }
            },
            "type": "table"
           }
          ]
         },
         "layout": {
          "annotationdefaults": {
           "arrowcolor": "#2a3f5f",
           "arrowhead": 0,
           "arrowwidth": 1
          },
          "autotypenumbers": "strict",
          "coloraxis": {
           "colorbar": {
            "outlinewidth": 0,
            "ticks": ""
           }
          },
          "colorscale": {
           "diverging": [
            [
             0,
             "#8e0152"
            ],
            [
             0.1,
             "#c51b7d"
            ],
            [
             0.2,
             "#de77ae"
            ],
            [
             0.3,
             "#f1b6da"
            ],
            [
             0.4,
             "#fde0ef"
            ],
            [
             0.5,
             "#f7f7f7"
            ],
            [
             0.6,
             "#e6f5d0"
            ],
            [
             0.7,
             "#b8e186"
            ],
            [
             0.8,
             "#7fbc41"
            ],
            [
             0.9,
             "#4d9221"
            ],
            [
             1,
             "#276419"
            ]
           ],
           "sequential": [
            [
             0,
             "#0d0887"
            ],
            [
             0.1111111111111111,
             "#46039f"
            ],
            [
             0.2222222222222222,
             "#7201a8"
            ],
            [
             0.3333333333333333,
             "#9c179e"
            ],
            [
             0.4444444444444444,
             "#bd3786"
            ],
            [
             0.5555555555555556,
             "#d8576b"
            ],
            [
             0.6666666666666666,
             "#ed7953"
            ],
            [
             0.7777777777777778,
             "#fb9f3a"
            ],
            [
             0.8888888888888888,
             "#fdca26"
            ],
            [
             1,
             "#f0f921"
            ]
           ],
           "sequentialminus": [
            [
             0,
             "#0d0887"
            ],
            [
             0.1111111111111111,
             "#46039f"
            ],
            [
             0.2222222222222222,
             "#7201a8"
            ],
            [
             0.3333333333333333,
             "#9c179e"
            ],
            [
             0.4444444444444444,
             "#bd3786"
            ],
            [
             0.5555555555555556,
             "#d8576b"
            ],
            [
             0.6666666666666666,
             "#ed7953"
            ],
            [
             0.7777777777777778,
             "#fb9f3a"
            ],
            [
             0.8888888888888888,
             "#fdca26"
            ],
            [
             1,
             "#f0f921"
            ]
           ]
          },
          "colorway": [
           "#636efa",
           "#EF553B",
           "#00cc96",
           "#ab63fa",
           "#FFA15A",
           "#19d3f3",
           "#FF6692",
           "#B6E880",
           "#FF97FF",
           "#FECB52"
          ],
          "font": {
           "color": "#2a3f5f"
          },
          "geo": {
           "bgcolor": "white",
           "lakecolor": "white",
           "landcolor": "#E5ECF6",
           "showlakes": true,
           "showland": true,
           "subunitcolor": "white"
          },
          "hoverlabel": {
           "align": "left"
          },
          "hovermode": "closest",
          "mapbox": {
           "style": "light"
          },
          "paper_bgcolor": "white",
          "plot_bgcolor": "#E5ECF6",
          "polar": {
           "angularaxis": {
            "gridcolor": "white",
            "linecolor": "white",
            "ticks": ""
           },
           "bgcolor": "#E5ECF6",
           "radialaxis": {
            "gridcolor": "white",
            "linecolor": "white",
            "ticks": ""
           }
          },
          "scene": {
           "xaxis": {
            "backgroundcolor": "#E5ECF6",
            "gridcolor": "white",
            "gridwidth": 2,
            "linecolor": "white",
            "showbackground": true,
            "ticks": "",
            "zerolinecolor": "white"
           },
           "yaxis": {
            "backgroundcolor": "#E5ECF6",
            "gridcolor": "white",
            "gridwidth": 2,
            "linecolor": "white",
            "showbackground": true,
            "ticks": "",
            "zerolinecolor": "white"
           },
           "zaxis": {
            "backgroundcolor": "#E5ECF6",
            "gridcolor": "white",
            "gridwidth": 2,
            "linecolor": "white",
            "showbackground": true,
            "ticks": "",
            "zerolinecolor": "white"
           }
          },
          "shapedefaults": {
           "line": {
            "color": "#2a3f5f"
           }
          },
          "ternary": {
           "aaxis": {
            "gridcolor": "white",
            "linecolor": "white",
            "ticks": ""
           },
           "baxis": {
            "gridcolor": "white",
            "linecolor": "white",
            "ticks": ""
           },
           "bgcolor": "#E5ECF6",
           "caxis": {
            "gridcolor": "white",
            "linecolor": "white",
            "ticks": ""
           }
          },
          "title": {
           "x": 0.05
          },
          "xaxis": {
           "automargin": true,
           "gridcolor": "white",
           "linecolor": "white",
           "ticks": "",
           "title": {
            "standoff": 15
           },
           "zerolinecolor": "white",
           "zerolinewidth": 2
          },
          "yaxis": {
           "automargin": true,
           "gridcolor": "white",
           "linecolor": "white",
           "ticks": "",
           "title": {
            "standoff": 15
           },
           "zerolinecolor": "white",
           "zerolinewidth": 2
          }
         }
        },
        "xaxis": {
         "anchor": "y",
         "domain": [
          0,
          1
         ],
         "title": {
          "text": "Sales_in_thousands"
         },
         "type": "log"
        },
        "yaxis": {
         "anchor": "x",
         "domain": [
          0,
          1
         ],
         "title": {
          "text": "__year_resale_value"
         }
        }
       }
      },
      "text/html": [
       "<div>                            <div id=\"7834478c-5597-4994-8bc8-b182b501683d\" class=\"plotly-graph-div\" style=\"height:525px; width:100%;\"></div>            <script type=\"text/javascript\">                require([\"plotly\"], function(Plotly) {                    window.PLOTLYENV=window.PLOTLYENV || {};                                    if (document.getElementById(\"7834478c-5597-4994-8bc8-b182b501683d\")) {                    Plotly.newPlot(                        \"7834478c-5597-4994-8bc8-b182b501683d\",                        [{\"hovertemplate\":\"<b>%{hovertext}</b><br><br>Manufacturer=Acura<br>Sales_in_thousands=%{x}<br>__year_resale_value=%{y}<br>Engine_size=%{marker.size}<extra></extra>\",\"hovertext\":[\"Integra\",\"TL\",\"RL\"],\"legendgroup\":\"Acura\",\"marker\":{\"color\":\"#636efa\",\"size\":[1.8,3.2,3.5],\"sizemode\":\"area\",\"sizeref\":0.0011666666666666668,\"symbol\":\"circle\"},\"mode\":\"markers\",\"name\":\"Acura\",\"orientation\":\"v\",\"showlegend\":true,\"x\":[16.919,39.384,8.588],\"xaxis\":\"x\",\"y\":[16.36,19.875,29.725],\"yaxis\":\"y\",\"type\":\"scatter\"},{\"hovertemplate\":\"<b>%{hovertext}</b><br><br>Manufacturer=Audi<br>Sales_in_thousands=%{x}<br>__year_resale_value=%{y}<br>Engine_size=%{marker.size}<extra></extra>\",\"hovertext\":[\"A4\",\"A6\",\"A8\"],\"legendgroup\":\"Audi\",\"marker\":{\"color\":\"#EF553B\",\"size\":[1.8,2.8,4.2],\"sizemode\":\"area\",\"sizeref\":0.0011666666666666668,\"symbol\":\"circle\"},\"mode\":\"markers\",\"name\":\"Audi\",\"orientation\":\"v\",\"showlegend\":true,\"x\":[20.397,18.78,1.38],\"xaxis\":\"x\",\"y\":[22.255,23.555,39.0],\"yaxis\":\"y\",\"type\":\"scatter\"},{\"hovertemplate\":\"<b>%{hovertext}</b><br><br>Manufacturer=Volkswagen<br>Sales_in_thousands=%{x}<br>__year_resale_value=%{y}<br>Engine_size=%{marker.size}<extra></extra>\",\"hovertext\":[\"Golf\",\"Jetta\",\"Passat\",\"Cabrio\",\"GTI\"],\"legendgroup\":\"Volkswagen\",\"marker\":{\"color\":\"#00cc96\",\"size\":[2.0,2.0,1.8,2.0,2.0],\"sizemode\":\"area\",\"sizeref\":0.0011666666666666668,\"symbol\":\"circle\"},\"mode\":\"markers\",\"name\":\"Volkswagen\",\"orientation\":\"v\",\"showlegend\":true,\"x\":[9.761,83.721,51.102,9.569,5.596],\"xaxis\":\"x\",\"y\":[11.425,13.24,16.725,16.575,13.76],\"yaxis\":\"y\",\"type\":\"scatter\"}],                        {\"template\":{\"data\":{\"histogram2dcontour\":[{\"type\":\"histogram2dcontour\",\"colorbar\":{\"outlinewidth\":0,\"ticks\":\"\"},\"colorscale\":[[0.0,\"#0d0887\"],[0.1111111111111111,\"#46039f\"],[0.2222222222222222,\"#7201a8\"],[0.3333333333333333,\"#9c179e\"],[0.4444444444444444,\"#bd3786\"],[0.5555555555555556,\"#d8576b\"],[0.6666666666666666,\"#ed7953\"],[0.7777777777777778,\"#fb9f3a\"],[0.8888888888888888,\"#fdca26\"],[1.0,\"#f0f921\"]]}],\"choropleth\":[{\"type\":\"choropleth\",\"colorbar\":{\"outlinewidth\":0,\"ticks\":\"\"}}],\"histogram2d\":[{\"type\":\"histogram2d\",\"colorbar\":{\"outlinewidth\":0,\"ticks\":\"\"},\"colorscale\":[[0.0,\"#0d0887\"],[0.1111111111111111,\"#46039f\"],[0.2222222222222222,\"#7201a8\"],[0.3333333333333333,\"#9c179e\"],[0.4444444444444444,\"#bd3786\"],[0.5555555555555556,\"#d8576b\"],[0.6666666666666666,\"#ed7953\"],[0.7777777777777778,\"#fb9f3a\"],[0.8888888888888888,\"#fdca26\"],[1.0,\"#f0f921\"]]}],\"heatmap\":[{\"type\":\"heatmap\",\"colorbar\":{\"outlinewidth\":0,\"ticks\":\"\"},\"colorscale\":[[0.0,\"#0d0887\"],[0.1111111111111111,\"#46039f\"],[0.2222222222222222,\"#7201a8\"],[0.3333333333333333,\"#9c179e\"],[0.4444444444444444,\"#bd3786\"],[0.5555555555555556,\"#d8576b\"],[0.6666666666666666,\"#ed7953\"],[0.7777777777777778,\"#fb9f3a\"],[0.8888888888888888,\"#fdca26\"],[1.0,\"#f0f921\"]]}],\"heatmapgl\":[{\"type\":\"heatmapgl\",\"colorbar\":{\"outlinewidth\":0,\"ticks\":\"\"},\"colorscale\":[[0.0,\"#0d0887\"],[0.1111111111111111,\"#46039f\"],[0.2222222222222222,\"#7201a8\"],[0.3333333333333333,\"#9c179e\"],[0.4444444444444444,\"#bd3786\"],[0.5555555555555556,\"#d8576b\"],[0.6666666666666666,\"#ed7953\"],[0.7777777777777778,\"#fb9f3a\"],[0.8888888888888888,\"#fdca26\"],[1.0,\"#f0f921\"]]}],\"contourcarpet\":[{\"type\":\"contourcarpet\",\"colorbar\":{\"outlinewidth\":0,\"ticks\":\"\"}}],\"contour\":[{\"type\":\"contour\",\"colorbar\":{\"outlinewidth\":0,\"ticks\":\"\"},\"colorscale\":[[0.0,\"#0d0887\"],[0.1111111111111111,\"#46039f\"],[0.2222222222222222,\"#7201a8\"],[0.3333333333333333,\"#9c179e\"],[0.4444444444444444,\"#bd3786\"],[0.5555555555555556,\"#d8576b\"],[0.6666666666666666,\"#ed7953\"],[0.7777777777777778,\"#fb9f3a\"],[0.8888888888888888,\"#fdca26\"],[1.0,\"#f0f921\"]]}],\"surface\":[{\"type\":\"surface\",\"colorbar\":{\"outlinewidth\":0,\"ticks\":\"\"},\"colorscale\":[[0.0,\"#0d0887\"],[0.1111111111111111,\"#46039f\"],[0.2222222222222222,\"#7201a8\"],[0.3333333333333333,\"#9c179e\"],[0.4444444444444444,\"#bd3786\"],[0.5555555555555556,\"#d8576b\"],[0.6666666666666666,\"#ed7953\"],[0.7777777777777778,\"#fb9f3a\"],[0.8888888888888888,\"#fdca26\"],[1.0,\"#f0f921\"]]}],\"mesh3d\":[{\"type\":\"mesh3d\",\"colorbar\":{\"outlinewidth\":0,\"ticks\":\"\"}}],\"scatter\":[{\"fillpattern\":{\"fillmode\":\"overlay\",\"size\":10,\"solidity\":0.2},\"type\":\"scatter\"}],\"parcoords\":[{\"type\":\"parcoords\",\"line\":{\"colorbar\":{\"outlinewidth\":0,\"ticks\":\"\"}}}],\"scatterpolargl\":[{\"type\":\"scatterpolargl\",\"marker\":{\"colorbar\":{\"outlinewidth\":0,\"ticks\":\"\"}}}],\"bar\":[{\"error_x\":{\"color\":\"#2a3f5f\"},\"error_y\":{\"color\":\"#2a3f5f\"},\"marker\":{\"line\":{\"color\":\"#E5ECF6\",\"width\":0.5},\"pattern\":{\"fillmode\":\"overlay\",\"size\":10,\"solidity\":0.2}},\"type\":\"bar\"}],\"scattergeo\":[{\"type\":\"scattergeo\",\"marker\":{\"colorbar\":{\"outlinewidth\":0,\"ticks\":\"\"}}}],\"scatterpolar\":[{\"type\":\"scatterpolar\",\"marker\":{\"colorbar\":{\"outlinewidth\":0,\"ticks\":\"\"}}}],\"histogram\":[{\"marker\":{\"pattern\":{\"fillmode\":\"overlay\",\"size\":10,\"solidity\":0.2}},\"type\":\"histogram\"}],\"scattergl\":[{\"type\":\"scattergl\",\"marker\":{\"colorbar\":{\"outlinewidth\":0,\"ticks\":\"\"}}}],\"scatter3d\":[{\"type\":\"scatter3d\",\"line\":{\"colorbar\":{\"outlinewidth\":0,\"ticks\":\"\"}},\"marker\":{\"colorbar\":{\"outlinewidth\":0,\"ticks\":\"\"}}}],\"scattermapbox\":[{\"type\":\"scattermapbox\",\"marker\":{\"colorbar\":{\"outlinewidth\":0,\"ticks\":\"\"}}}],\"scatterternary\":[{\"type\":\"scatterternary\",\"marker\":{\"colorbar\":{\"outlinewidth\":0,\"ticks\":\"\"}}}],\"scattercarpet\":[{\"type\":\"scattercarpet\",\"marker\":{\"colorbar\":{\"outlinewidth\":0,\"ticks\":\"\"}}}],\"carpet\":[{\"aaxis\":{\"endlinecolor\":\"#2a3f5f\",\"gridcolor\":\"white\",\"linecolor\":\"white\",\"minorgridcolor\":\"white\",\"startlinecolor\":\"#2a3f5f\"},\"baxis\":{\"endlinecolor\":\"#2a3f5f\",\"gridcolor\":\"white\",\"linecolor\":\"white\",\"minorgridcolor\":\"white\",\"startlinecolor\":\"#2a3f5f\"},\"type\":\"carpet\"}],\"table\":[{\"cells\":{\"fill\":{\"color\":\"#EBF0F8\"},\"line\":{\"color\":\"white\"}},\"header\":{\"fill\":{\"color\":\"#C8D4E3\"},\"line\":{\"color\":\"white\"}},\"type\":\"table\"}],\"barpolar\":[{\"marker\":{\"line\":{\"color\":\"#E5ECF6\",\"width\":0.5},\"pattern\":{\"fillmode\":\"overlay\",\"size\":10,\"solidity\":0.2}},\"type\":\"barpolar\"}],\"pie\":[{\"automargin\":true,\"type\":\"pie\"}]},\"layout\":{\"autotypenumbers\":\"strict\",\"colorway\":[\"#636efa\",\"#EF553B\",\"#00cc96\",\"#ab63fa\",\"#FFA15A\",\"#19d3f3\",\"#FF6692\",\"#B6E880\",\"#FF97FF\",\"#FECB52\"],\"font\":{\"color\":\"#2a3f5f\"},\"hovermode\":\"closest\",\"hoverlabel\":{\"align\":\"left\"},\"paper_bgcolor\":\"white\",\"plot_bgcolor\":\"#E5ECF6\",\"polar\":{\"bgcolor\":\"#E5ECF6\",\"angularaxis\":{\"gridcolor\":\"white\",\"linecolor\":\"white\",\"ticks\":\"\"},\"radialaxis\":{\"gridcolor\":\"white\",\"linecolor\":\"white\",\"ticks\":\"\"}},\"ternary\":{\"bgcolor\":\"#E5ECF6\",\"aaxis\":{\"gridcolor\":\"white\",\"linecolor\":\"white\",\"ticks\":\"\"},\"baxis\":{\"gridcolor\":\"white\",\"linecolor\":\"white\",\"ticks\":\"\"},\"caxis\":{\"gridcolor\":\"white\",\"linecolor\":\"white\",\"ticks\":\"\"}},\"coloraxis\":{\"colorbar\":{\"outlinewidth\":0,\"ticks\":\"\"}},\"colorscale\":{\"sequential\":[[0.0,\"#0d0887\"],[0.1111111111111111,\"#46039f\"],[0.2222222222222222,\"#7201a8\"],[0.3333333333333333,\"#9c179e\"],[0.4444444444444444,\"#bd3786\"],[0.5555555555555556,\"#d8576b\"],[0.6666666666666666,\"#ed7953\"],[0.7777777777777778,\"#fb9f3a\"],[0.8888888888888888,\"#fdca26\"],[1.0,\"#f0f921\"]],\"sequentialminus\":[[0.0,\"#0d0887\"],[0.1111111111111111,\"#46039f\"],[0.2222222222222222,\"#7201a8\"],[0.3333333333333333,\"#9c179e\"],[0.4444444444444444,\"#bd3786\"],[0.5555555555555556,\"#d8576b\"],[0.6666666666666666,\"#ed7953\"],[0.7777777777777778,\"#fb9f3a\"],[0.8888888888888888,\"#fdca26\"],[1.0,\"#f0f921\"]],\"diverging\":[[0,\"#8e0152\"],[0.1,\"#c51b7d\"],[0.2,\"#de77ae\"],[0.3,\"#f1b6da\"],[0.4,\"#fde0ef\"],[0.5,\"#f7f7f7\"],[0.6,\"#e6f5d0\"],[0.7,\"#b8e186\"],[0.8,\"#7fbc41\"],[0.9,\"#4d9221\"],[1,\"#276419\"]]},\"xaxis\":{\"gridcolor\":\"white\",\"linecolor\":\"white\",\"ticks\":\"\",\"title\":{\"standoff\":15},\"zerolinecolor\":\"white\",\"automargin\":true,\"zerolinewidth\":2},\"yaxis\":{\"gridcolor\":\"white\",\"linecolor\":\"white\",\"ticks\":\"\",\"title\":{\"standoff\":15},\"zerolinecolor\":\"white\",\"automargin\":true,\"zerolinewidth\":2},\"scene\":{\"xaxis\":{\"backgroundcolor\":\"#E5ECF6\",\"gridcolor\":\"white\",\"linecolor\":\"white\",\"showbackground\":true,\"ticks\":\"\",\"zerolinecolor\":\"white\",\"gridwidth\":2},\"yaxis\":{\"backgroundcolor\":\"#E5ECF6\",\"gridcolor\":\"white\",\"linecolor\":\"white\",\"showbackground\":true,\"ticks\":\"\",\"zerolinecolor\":\"white\",\"gridwidth\":2},\"zaxis\":{\"backgroundcolor\":\"#E5ECF6\",\"gridcolor\":\"white\",\"linecolor\":\"white\",\"showbackground\":true,\"ticks\":\"\",\"zerolinecolor\":\"white\",\"gridwidth\":2}},\"shapedefaults\":{\"line\":{\"color\":\"#2a3f5f\"}},\"annotationdefaults\":{\"arrowcolor\":\"#2a3f5f\",\"arrowhead\":0,\"arrowwidth\":1},\"geo\":{\"bgcolor\":\"white\",\"landcolor\":\"#E5ECF6\",\"subunitcolor\":\"white\",\"showland\":true,\"showlakes\":true,\"lakecolor\":\"white\"},\"title\":{\"x\":0.05},\"mapbox\":{\"style\":\"light\"}}},\"xaxis\":{\"anchor\":\"y\",\"domain\":[0.0,1.0],\"title\":{\"text\":\"Sales_in_thousands\"},\"type\":\"log\"},\"yaxis\":{\"anchor\":\"x\",\"domain\":[0.0,1.0],\"title\":{\"text\":\"__year_resale_value\"}},\"legend\":{\"title\":{\"text\":\"Manufacturer\"},\"tracegroupgap\":0,\"itemsizing\":\"constant\"},\"margin\":{\"t\":60}},                        {\"responsive\": true}                    ).then(function(){\n",
       "                            \n",
       "var gd = document.getElementById('7834478c-5597-4994-8bc8-b182b501683d');\n",
       "var x = new MutationObserver(function (mutations, observer) {{\n",
       "        var display = window.getComputedStyle(gd).display;\n",
       "        if (!display || display === 'none') {{\n",
       "            console.log([gd, 'removed!']);\n",
       "            Plotly.purge(gd);\n",
       "            observer.disconnect();\n",
       "        }}\n",
       "}});\n",
       "\n",
       "// Listen for the removal of the full notebook cells\n",
       "var notebookContainer = gd.closest('#notebook-container');\n",
       "if (notebookContainer) {{\n",
       "    x.observe(notebookContainer, {childList: true});\n",
       "}}\n",
       "\n",
       "// Listen for the clearing of the current output cell\n",
       "var outputEl = gd.closest('.output');\n",
       "if (outputEl) {{\n",
       "    x.observe(outputEl, {childList: true});\n",
       "}}\n",
       "\n",
       "                        })                };                });            </script>        </div>"
      ]
     },
     "metadata": {},
     "output_type": "display_data"
    }
   ],
   "source": [
    "px.scatter(data_m, x=\"Sales_in_thousands\", y=\"__year_resale_value\", color=\"Manufacturer\", size='Engine_size',\n",
    " hover_name=\"Model\", log_x=True, size_max=60)"
   ]
  },
  {
   "cell_type": "code",
   "execution_count": 39,
   "id": "6ad79cd0",
   "metadata": {},
   "outputs": [
    {
     "data": {
      "text/html": [
       "<div>\n",
       "<style scoped>\n",
       "    .dataframe tbody tr th:only-of-type {\n",
       "        vertical-align: middle;\n",
       "    }\n",
       "\n",
       "    .dataframe tbody tr th {\n",
       "        vertical-align: top;\n",
       "    }\n",
       "\n",
       "    .dataframe thead th {\n",
       "        text-align: right;\n",
       "    }\n",
       "</style>\n",
       "<table border=\"1\" class=\"dataframe\">\n",
       "  <thead>\n",
       "    <tr style=\"text-align: right;\">\n",
       "      <th></th>\n",
       "      <th>Manufacturer</th>\n",
       "      <th>Model</th>\n",
       "      <th>Sales_in_thousands</th>\n",
       "      <th>__year_resale_value</th>\n",
       "      <th>Vehicle_type</th>\n",
       "      <th>Price_in_thousands</th>\n",
       "      <th>Engine_size</th>\n",
       "      <th>Horsepower</th>\n",
       "      <th>Wheelbase</th>\n",
       "      <th>Width</th>\n",
       "      <th>Length</th>\n",
       "      <th>Curb_weight</th>\n",
       "      <th>Fuel_capacity</th>\n",
       "      <th>Fuel_efficiency</th>\n",
       "      <th>Latest_Launch</th>\n",
       "      <th>Power_perf_factor</th>\n",
       "    </tr>\n",
       "  </thead>\n",
       "  <tbody>\n",
       "    <tr>\n",
       "      <th>0</th>\n",
       "      <td>Acura</td>\n",
       "      <td>Integra</td>\n",
       "      <td>16.919</td>\n",
       "      <td>16.360</td>\n",
       "      <td>Passenger</td>\n",
       "      <td>21.50</td>\n",
       "      <td>1.8</td>\n",
       "      <td>140.0</td>\n",
       "      <td>101.2</td>\n",
       "      <td>67.3</td>\n",
       "      <td>172.4</td>\n",
       "      <td>2.639</td>\n",
       "      <td>13.2</td>\n",
       "      <td>28.0</td>\n",
       "      <td>2/2/2012</td>\n",
       "      <td>58.280150</td>\n",
       "    </tr>\n",
       "    <tr>\n",
       "      <th>1</th>\n",
       "      <td>Acura</td>\n",
       "      <td>TL</td>\n",
       "      <td>39.384</td>\n",
       "      <td>19.875</td>\n",
       "      <td>Passenger</td>\n",
       "      <td>28.40</td>\n",
       "      <td>3.2</td>\n",
       "      <td>225.0</td>\n",
       "      <td>108.1</td>\n",
       "      <td>70.3</td>\n",
       "      <td>192.9</td>\n",
       "      <td>3.517</td>\n",
       "      <td>17.2</td>\n",
       "      <td>25.0</td>\n",
       "      <td>6/3/2011</td>\n",
       "      <td>91.370778</td>\n",
       "    </tr>\n",
       "    <tr>\n",
       "      <th>3</th>\n",
       "      <td>Acura</td>\n",
       "      <td>RL</td>\n",
       "      <td>8.588</td>\n",
       "      <td>29.725</td>\n",
       "      <td>Passenger</td>\n",
       "      <td>42.00</td>\n",
       "      <td>3.5</td>\n",
       "      <td>210.0</td>\n",
       "      <td>114.6</td>\n",
       "      <td>71.4</td>\n",
       "      <td>196.6</td>\n",
       "      <td>3.850</td>\n",
       "      <td>18.0</td>\n",
       "      <td>22.0</td>\n",
       "      <td>3/10/2011</td>\n",
       "      <td>91.389779</td>\n",
       "    </tr>\n",
       "    <tr>\n",
       "      <th>4</th>\n",
       "      <td>Audi</td>\n",
       "      <td>A4</td>\n",
       "      <td>20.397</td>\n",
       "      <td>22.255</td>\n",
       "      <td>Passenger</td>\n",
       "      <td>23.99</td>\n",
       "      <td>1.8</td>\n",
       "      <td>150.0</td>\n",
       "      <td>102.6</td>\n",
       "      <td>68.2</td>\n",
       "      <td>178.0</td>\n",
       "      <td>2.998</td>\n",
       "      <td>16.4</td>\n",
       "      <td>27.0</td>\n",
       "      <td>10/8/2011</td>\n",
       "      <td>62.777639</td>\n",
       "    </tr>\n",
       "    <tr>\n",
       "      <th>5</th>\n",
       "      <td>Audi</td>\n",
       "      <td>A6</td>\n",
       "      <td>18.780</td>\n",
       "      <td>23.555</td>\n",
       "      <td>Passenger</td>\n",
       "      <td>33.95</td>\n",
       "      <td>2.8</td>\n",
       "      <td>200.0</td>\n",
       "      <td>108.7</td>\n",
       "      <td>76.1</td>\n",
       "      <td>192.0</td>\n",
       "      <td>3.561</td>\n",
       "      <td>18.5</td>\n",
       "      <td>22.0</td>\n",
       "      <td>8/9/2011</td>\n",
       "      <td>84.565105</td>\n",
       "    </tr>\n",
       "    <tr>\n",
       "      <th>...</th>\n",
       "      <td>...</td>\n",
       "      <td>...</td>\n",
       "      <td>...</td>\n",
       "      <td>...</td>\n",
       "      <td>...</td>\n",
       "      <td>...</td>\n",
       "      <td>...</td>\n",
       "      <td>...</td>\n",
       "      <td>...</td>\n",
       "      <td>...</td>\n",
       "      <td>...</td>\n",
       "      <td>...</td>\n",
       "      <td>...</td>\n",
       "      <td>...</td>\n",
       "      <td>...</td>\n",
       "      <td>...</td>\n",
       "    </tr>\n",
       "    <tr>\n",
       "      <th>145</th>\n",
       "      <td>Volkswagen</td>\n",
       "      <td>Golf</td>\n",
       "      <td>9.761</td>\n",
       "      <td>11.425</td>\n",
       "      <td>Passenger</td>\n",
       "      <td>14.90</td>\n",
       "      <td>2.0</td>\n",
       "      <td>115.0</td>\n",
       "      <td>98.9</td>\n",
       "      <td>68.3</td>\n",
       "      <td>163.3</td>\n",
       "      <td>2.767</td>\n",
       "      <td>14.5</td>\n",
       "      <td>26.0</td>\n",
       "      <td>1/24/2011</td>\n",
       "      <td>46.943877</td>\n",
       "    </tr>\n",
       "    <tr>\n",
       "      <th>146</th>\n",
       "      <td>Volkswagen</td>\n",
       "      <td>Jetta</td>\n",
       "      <td>83.721</td>\n",
       "      <td>13.240</td>\n",
       "      <td>Passenger</td>\n",
       "      <td>16.70</td>\n",
       "      <td>2.0</td>\n",
       "      <td>115.0</td>\n",
       "      <td>98.9</td>\n",
       "      <td>68.3</td>\n",
       "      <td>172.3</td>\n",
       "      <td>2.853</td>\n",
       "      <td>14.5</td>\n",
       "      <td>26.0</td>\n",
       "      <td>8/27/2011</td>\n",
       "      <td>47.638237</td>\n",
       "    </tr>\n",
       "    <tr>\n",
       "      <th>147</th>\n",
       "      <td>Volkswagen</td>\n",
       "      <td>Passat</td>\n",
       "      <td>51.102</td>\n",
       "      <td>16.725</td>\n",
       "      <td>Passenger</td>\n",
       "      <td>21.20</td>\n",
       "      <td>1.8</td>\n",
       "      <td>150.0</td>\n",
       "      <td>106.4</td>\n",
       "      <td>68.5</td>\n",
       "      <td>184.1</td>\n",
       "      <td>3.043</td>\n",
       "      <td>16.4</td>\n",
       "      <td>27.0</td>\n",
       "      <td>10/30/2012</td>\n",
       "      <td>61.701381</td>\n",
       "    </tr>\n",
       "    <tr>\n",
       "      <th>148</th>\n",
       "      <td>Volkswagen</td>\n",
       "      <td>Cabrio</td>\n",
       "      <td>9.569</td>\n",
       "      <td>16.575</td>\n",
       "      <td>Passenger</td>\n",
       "      <td>19.99</td>\n",
       "      <td>2.0</td>\n",
       "      <td>115.0</td>\n",
       "      <td>97.4</td>\n",
       "      <td>66.7</td>\n",
       "      <td>160.4</td>\n",
       "      <td>3.079</td>\n",
       "      <td>13.7</td>\n",
       "      <td>26.0</td>\n",
       "      <td>5/31/2011</td>\n",
       "      <td>48.907372</td>\n",
       "    </tr>\n",
       "    <tr>\n",
       "      <th>149</th>\n",
       "      <td>Volkswagen</td>\n",
       "      <td>GTI</td>\n",
       "      <td>5.596</td>\n",
       "      <td>13.760</td>\n",
       "      <td>Passenger</td>\n",
       "      <td>17.50</td>\n",
       "      <td>2.0</td>\n",
       "      <td>115.0</td>\n",
       "      <td>98.9</td>\n",
       "      <td>68.3</td>\n",
       "      <td>163.3</td>\n",
       "      <td>2.762</td>\n",
       "      <td>14.6</td>\n",
       "      <td>26.0</td>\n",
       "      <td>4/1/2011</td>\n",
       "      <td>47.946841</td>\n",
       "    </tr>\n",
       "  </tbody>\n",
       "</table>\n",
       "<p>117 rows × 16 columns</p>\n",
       "</div>"
      ],
      "text/plain": [
       "    Manufacturer    Model  Sales_in_thousands  __year_resale_value  \\\n",
       "0          Acura  Integra              16.919               16.360   \n",
       "1          Acura       TL              39.384               19.875   \n",
       "3          Acura       RL               8.588               29.725   \n",
       "4           Audi       A4              20.397               22.255   \n",
       "5           Audi       A6              18.780               23.555   \n",
       "..           ...      ...                 ...                  ...   \n",
       "145   Volkswagen     Golf               9.761               11.425   \n",
       "146   Volkswagen    Jetta              83.721               13.240   \n",
       "147   Volkswagen   Passat              51.102               16.725   \n",
       "148   Volkswagen   Cabrio               9.569               16.575   \n",
       "149   Volkswagen      GTI               5.596               13.760   \n",
       "\n",
       "    Vehicle_type  Price_in_thousands  Engine_size  Horsepower  Wheelbase  \\\n",
       "0      Passenger               21.50          1.8       140.0      101.2   \n",
       "1      Passenger               28.40          3.2       225.0      108.1   \n",
       "3      Passenger               42.00          3.5       210.0      114.6   \n",
       "4      Passenger               23.99          1.8       150.0      102.6   \n",
       "5      Passenger               33.95          2.8       200.0      108.7   \n",
       "..           ...                 ...          ...         ...        ...   \n",
       "145    Passenger               14.90          2.0       115.0       98.9   \n",
       "146    Passenger               16.70          2.0       115.0       98.9   \n",
       "147    Passenger               21.20          1.8       150.0      106.4   \n",
       "148    Passenger               19.99          2.0       115.0       97.4   \n",
       "149    Passenger               17.50          2.0       115.0       98.9   \n",
       "\n",
       "     Width  Length  Curb_weight  Fuel_capacity  Fuel_efficiency Latest_Launch  \\\n",
       "0     67.3   172.4        2.639           13.2             28.0      2/2/2012   \n",
       "1     70.3   192.9        3.517           17.2             25.0      6/3/2011   \n",
       "3     71.4   196.6        3.850           18.0             22.0     3/10/2011   \n",
       "4     68.2   178.0        2.998           16.4             27.0     10/8/2011   \n",
       "5     76.1   192.0        3.561           18.5             22.0      8/9/2011   \n",
       "..     ...     ...          ...            ...              ...           ...   \n",
       "145   68.3   163.3        2.767           14.5             26.0     1/24/2011   \n",
       "146   68.3   172.3        2.853           14.5             26.0     8/27/2011   \n",
       "147   68.5   184.1        3.043           16.4             27.0    10/30/2012   \n",
       "148   66.7   160.4        3.079           13.7             26.0     5/31/2011   \n",
       "149   68.3   163.3        2.762           14.6             26.0      4/1/2011   \n",
       "\n",
       "     Power_perf_factor  \n",
       "0            58.280150  \n",
       "1            91.370778  \n",
       "3            91.389779  \n",
       "4            62.777639  \n",
       "5            84.565105  \n",
       "..                 ...  \n",
       "145          46.943877  \n",
       "146          47.638237  \n",
       "147          61.701381  \n",
       "148          48.907372  \n",
       "149          47.946841  \n",
       "\n",
       "[117 rows x 16 columns]"
      ]
     },
     "execution_count": 39,
     "metadata": {},
     "output_type": "execute_result"
    }
   ],
   "source": [
    "data"
   ]
  },
  {
   "cell_type": "code",
   "execution_count": 40,
   "id": "d0961c44",
   "metadata": {},
   "outputs": [
    {
     "data": {
      "application/vnd.plotly.v1+json": {
       "config": {
        "plotlyServerURL": "https://plot.ly"
       },
       "data": [
        {
         "alignmentgroup": "True",
         "bingroup": "x",
         "histfunc": "sum",
         "hovertemplate": "Vehicle_type=Passenger<br>Manufacturer=%{x}<br>sum of Sales_in_thousands=%{y}<extra></extra>",
         "legendgroup": "Passenger",
         "marker": {
          "color": "#636efa",
          "pattern": {
           "shape": ""
          }
         },
         "name": "Passenger",
         "offsetgroup": "Passenger",
         "orientation": "v",
         "showlegend": true,
         "type": "histogram",
         "x": [
          "Acura",
          "Acura",
          "Acura",
          "Audi",
          "Audi",
          "Audi",
          "BMW",
          "BMW",
          "Buick",
          "Buick",
          "Buick",
          "Buick",
          "Cadillac",
          "Cadillac",
          "Cadillac",
          "Chevrolet",
          "Chevrolet",
          "Chevrolet",
          "Chevrolet",
          "Chevrolet",
          "Chevrolet",
          "Chevrolet",
          "Chevrolet",
          "Chrysler",
          "Chrysler",
          "Chrysler",
          "Chrysler",
          "Chrysler",
          "Dodge",
          "Dodge",
          "Dodge",
          "Dodge",
          "Ford",
          "Ford",
          "Ford",
          "Ford",
          "Ford",
          "Honda",
          "Honda",
          "Hyundai",
          "Hyundai",
          "Hyundai",
          "Infiniti",
          "Lexus",
          "Lexus",
          "Lexus",
          "Lincoln",
          "Lincoln",
          "Mitsubishi",
          "Mitsubishi",
          "Mitsubishi",
          "Mitsubishi",
          "Mitsubishi",
          "Mercury",
          "Mercury",
          "Mercury",
          "Mercury",
          "Mercedes-B",
          "Mercedes-B",
          "Mercedes-B",
          "Mercedes-B",
          "Nissan",
          "Nissan",
          "Nissan",
          "Oldsmobile",
          "Oldsmobile",
          "Plymouth",
          "Plymouth",
          "Pontiac",
          "Pontiac",
          "Pontiac",
          "Pontiac",
          "Pontiac",
          "Porsche",
          "Porsche",
          "Porsche",
          "Saturn",
          "Saturn",
          "Saturn",
          "Toyota",
          "Toyota",
          "Toyota",
          "Toyota",
          "Volkswagen",
          "Volkswagen",
          "Volkswagen",
          "Volkswagen",
          "Volkswagen"
         ],
         "xaxis": "x",
         "y": [
          16.919,
          39.384,
          8.588,
          20.397,
          18.78,
          1.38,
          9.231,
          17.527,
          91.561,
          39.35,
          27.851,
          83.257,
          63.729,
          6.536,
          11.185,
          145.519,
          135.126,
          24.629,
          42.593,
          26.402,
          17.947,
          32.299,
          21.855,
          7.854,
          32.775,
          31.148,
          32.306,
          13.462,
          76.034,
          4.734,
          71.186,
          0.916,
          70.227,
          113.369,
          35.068,
          245.815,
          63.403,
          199.685,
          230.902,
          41.184,
          66.692,
          29.45,
          23.713,
          24.072,
          12.698,
          6.375,
          13.798,
          48.911,
          26.232,
          42.541,
          55.616,
          5.711,
          0.11,
          14.351,
          26.529,
          67.956,
          81.174,
          18.392,
          27.602,
          16.774,
          3.311,
          42.643,
          88.094,
          79.853,
          1.112,
          14.69,
          32.734,
          5.24,
          51.645,
          131.097,
          19.911,
          92.364,
          35.945,
          8.982,
          1.28,
          1.866,
          80.62,
          24.546,
          5.223,
          142.535,
          247.994,
          63.849,
          33.269,
          9.761,
          83.721,
          51.102,
          9.569,
          5.596
         ],
         "yaxis": "y"
        },
        {
         "alignmentgroup": "True",
         "customdata": [
          [
           "Integra",
           16.36,
           "Passenger",
           21.5,
           1.8,
           140,
           101.2,
           67.3,
           172.4,
           2.639,
           13.2,
           28,
           "2/2/2012",
           58.28014952
          ],
          [
           "TL",
           19.875,
           "Passenger",
           28.4,
           3.2,
           225,
           108.1,
           70.3,
           192.9,
           3.517,
           17.2,
           25,
           "6/3/2011",
           91.37077766
          ],
          [
           "RL",
           29.725,
           "Passenger",
           42,
           3.5,
           210,
           114.6,
           71.4,
           196.6,
           3.85,
           18,
           22,
           "3/10/2011",
           91.38977933
          ],
          [
           "A4",
           22.255,
           "Passenger",
           23.99,
           1.8,
           150,
           102.6,
           68.2,
           178,
           2.998,
           16.4,
           27,
           "10/8/2011",
           62.7776392
          ],
          [
           "A6",
           23.555,
           "Passenger",
           33.95,
           2.8,
           200,
           108.7,
           76.1,
           192,
           3.561,
           18.5,
           22,
           "8/9/2011",
           84.56510502
          ],
          [
           "A8",
           39,
           "Passenger",
           62,
           4.2,
           310,
           113,
           74,
           198.2,
           3.902,
           23.7,
           21,
           "2/27/2012",
           134.6568582
          ],
          [
           "328i",
           28.675,
           "Passenger",
           33.4,
           2.8,
           193,
           107.3,
           68.5,
           176,
           3.197,
           16.6,
           24,
           "1/29/2012",
           81.87706856
          ],
          [
           "528i",
           36.125,
           "Passenger",
           38.9,
           2.8,
           193,
           111.4,
           70.9,
           188,
           3.472,
           18.5,
           25,
           "4/4/2011",
           83.9987238
          ],
          [
           "Century",
           12.475,
           "Passenger",
           21.975,
           3.1,
           175,
           109,
           72.7,
           194.6,
           3.368,
           17.5,
           25,
           "11/2/2011",
           71.18145132
          ],
          [
           "Regal",
           13.74,
           "Passenger",
           25.3,
           3.8,
           240,
           109,
           72.7,
           196.2,
           3.543,
           17.5,
           23,
           "9/3/2011",
           95.63670253
          ],
          [
           "Park Avenue",
           20.19,
           "Passenger",
           31.965,
           3.8,
           205,
           113.8,
           74.7,
           206.8,
           3.778,
           18.5,
           24,
           "3/23/2012",
           85.82840825
          ],
          [
           "LeSabre",
           13.36,
           "Passenger",
           27.885,
           3.8,
           205,
           112.2,
           73.5,
           200,
           3.591,
           17.5,
           25,
           "7/23/2011",
           84.25452581
          ],
          [
           "DeVille",
           22.525,
           "Passenger",
           39.895,
           4.6,
           275,
           115.3,
           74.5,
           207.2,
           3.978,
           18.5,
           22,
           "2/23/2012",
           113.8545976
          ],
          [
           "Eldorado",
           25.725,
           "Passenger",
           39.665,
           4.6,
           275,
           108,
           75.5,
           200.6,
           3.843,
           19,
           22,
           "11/27/2011",
           113.7658739
          ],
          [
           "Catera",
           18.225,
           "Passenger",
           31.01,
           3,
           200,
           107.4,
           70.3,
           194.8,
           3.77,
           18,
           22,
           "9/28/2011",
           83.48309358
          ],
          [
           "Cavalier",
           9.25,
           "Passenger",
           13.26,
           2.2,
           115,
           104.1,
           67.9,
           180.9,
           2.676,
           14.3,
           27,
           "8/17/2011",
           46.36334747
          ],
          [
           "Malibu",
           11.225,
           "Passenger",
           16.535,
           3.1,
           170,
           107,
           69.4,
           190.4,
           3.051,
           15,
           25,
           "3/19/2012",
           67.31446216
          ],
          [
           "Lumina",
           10.31,
           "Passenger",
           18.89,
           3.1,
           175,
           107.5,
           72.5,
           200.9,
           3.33,
           16.6,
           25,
           "5/24/2011",
           69.9913956
          ],
          [
           "Monte Carlo",
           11.525,
           "Passenger",
           19.39,
           3.4,
           180,
           110.5,
           72.7,
           197.9,
           3.34,
           17,
           27,
           "12/22/2011",
           72.03091719
          ],
          [
           "Camaro",
           13.025,
           "Passenger",
           24.34,
           3.8,
           200,
           101.1,
           74.1,
           193.2,
           3.5,
           16.8,
           25,
           "10/23/2011",
           81.11854333
          ],
          [
           "Corvette",
           36.225,
           "Passenger",
           45.705,
           5.7,
           345,
           104.5,
           73.6,
           179.7,
           3.21,
           19.1,
           22,
           "5/12/2012",
           141.14115
          ],
          [
           "Prizm",
           9.125,
           "Passenger",
           13.96,
           1.8,
           120,
           97.1,
           66.7,
           174.3,
           2.398,
           13.2,
           33,
           "9/11/2011",
           48.2976361
          ],
          [
           "Metro",
           5.16,
           "Passenger",
           9.235,
           1,
           55,
           93.1,
           62.6,
           149.4,
           1.895,
           10.3,
           45,
           "4/13/2012",
           23.27627233
          ],
          [
           "Sebring Coupe",
           12.36,
           "Passenger",
           19.84,
           2.5,
           163,
           103.7,
           69.7,
           190.9,
           2.967,
           15.9,
           24,
           "1/16/2012",
           65.95718396
          ],
          [
           "Sebring Conv.",
           14.18,
           "Passenger",
           24.495,
           2.5,
           168,
           106,
           69.2,
           193,
           3.332,
           16,
           24,
           "11/17/2011",
           69.52135505
          ],
          [
           "Concorde",
           13.725,
           "Passenger",
           22.245,
           2.7,
           200,
           113,
           74.4,
           209.1,
           3.452,
           17,
           26,
           "6/6/2012",
           80.02378204
          ],
          [
           "Cirrus",
           12.64,
           "Passenger",
           16.48,
           2,
           132,
           108,
           71,
           186,
           2.911,
           16,
           27,
           "10/6/2011",
           53.56619987
          ],
          [
           "LHS",
           17.325,
           "Passenger",
           28.34,
           3.5,
           253,
           113,
           74.4,
           207.7,
           3.564,
           17,
           23,
           "5/8/2012",
           101.3292807
          ],
          [
           "Neon",
           7.75,
           "Passenger",
           12.64,
           2,
           132,
           105,
           74.4,
           174.4,
           2.567,
           12.5,
           29,
           "12/12/2011",
           52.08489875
          ],
          [
           "Avenger",
           12.545,
           "Passenger",
           19.045,
           2.5,
           163,
           103.7,
           69.1,
           190.2,
           2.879,
           15.9,
           24,
           "7/1/2012",
           65.65050834
          ],
          [
           "Stratus",
           10.185,
           "Passenger",
           20.23,
           2.5,
           168,
           108,
           71,
           186,
           3.058,
           16,
           24,
           "10/31/2011",
           67.87610784
          ],
          [
           "Viper",
           58.47,
           "Passenger",
           69.725,
           8,
           450,
           96.2,
           75.7,
           176.7,
           3.375,
           19,
           16,
           "8/7/2011",
           188.144323
          ],
          [
           "Escort",
           7.425,
           "Passenger",
           12.07,
           2,
           110,
           98.4,
           67,
           174.7,
           2.468,
           12.7,
           30,
           "3/31/2012",
           44.08370946
          ],
          [
           "Mustang",
           12.76,
           "Passenger",
           21.56,
           3.8,
           190,
           101.3,
           73.1,
           183.2,
           3.203,
           15.7,
           24,
           "1/31/2012",
           76.50918456
          ],
          [
           "Contour",
           8.835,
           "Passenger",
           17.035,
           2.5,
           170,
           106.5,
           69.1,
           184.6,
           2.769,
           15,
           25,
           "8/20/2012",
           67.35101072
          ],
          [
           "Taurus",
           10.055,
           "Passenger",
           17.885,
           3,
           155,
           108.5,
           73,
           197.6,
           3.368,
           16,
           24,
           "12/20/2011",
           62.5037395
          ],
          [
           "Crown Victoria",
           14.21,
           "Passenger",
           22.195,
           4.6,
           200,
           114.7,
           78.2,
           212,
           3.908,
           19,
           21,
           "9/26/2011",
           80.49953671
          ],
          [
           "Civic",
           9.85,
           "Passenger",
           12.885,
           1.6,
           106,
           103.2,
           67.1,
           175.1,
           2.339,
           11.9,
           32,
           "10/21/2011",
           42.87909734
          ],
          [
           "Accord",
           13.21,
           "Passenger",
           15.35,
           2.3,
           135,
           106.9,
           70.3,
           188.8,
           2.932,
           17.1,
           27,
           "5/20/2012",
           54.26954829
          ],
          [
           "Accent",
           5.86,
           "Passenger",
           9.699,
           1.5,
           92,
           96.1,
           65.7,
           166.7,
           2.24,
           11.9,
           31,
           "9/10/2012",
           36.67228358
          ],
          [
           "Elantra",
           7.825,
           "Passenger",
           11.799,
           2,
           140,
           100.4,
           66.9,
           174,
           2.626,
           14.5,
           27,
           "11/15/2011",
           54.59004516
          ],
          [
           "Sonata",
           8.91,
           "Passenger",
           14.999,
           2.4,
           148,
           106.3,
           71.6,
           185.4,
           3.072,
           17.2,
           25,
           "6/14/2012",
           58.758249
          ],
          [
           "I30",
           19.69,
           "Passenger",
           29.465,
           3,
           227,
           108.3,
           70.2,
           193.7,
           3.342,
           18.5,
           25,
           "4/15/2012",
           92.43688923
          ],
          [
           "ES300",
           26.975,
           "Passenger",
           31.505,
           3,
           210,
           105.1,
           70.5,
           190.2,
           3.373,
           18.5,
           23,
           "7/9/2012",
           87.21100104
          ],
          [
           "GS300",
           32.075,
           "Passenger",
           37.805,
           3,
           225,
           110.2,
           70.9,
           189.2,
           3.638,
           19.8,
           23,
           "5/10/2012",
           94.9466984
          ],
          [
           "LS400",
           40.375,
           "Passenger",
           54.005,
           4,
           290,
           112.2,
           72,
           196.7,
           3.89,
           22.5,
           22,
           "3/29/2012",
           124.4467163
          ],
          [
           "Continental",
           20.525,
           "Passenger",
           39.08,
           4.6,
           275,
           109,
           73.6,
           208.5,
           3.868,
           20,
           22,
           "8/3/2012",
           113.5402069
          ],
          [
           "Town car",
           21.725,
           "Passenger",
           43.33,
           4.6,
           215,
           117.7,
           78.2,
           215.3,
           4.121,
           19,
           21,
           "6/4/2012",
           93.9579169
          ],
          [
           "Mirage",
           8.325,
           "Passenger",
           13.987,
           1.8,
           113,
           98.4,
           66.5,
           173.6,
           2.25,
           13.2,
           30,
           "4/23/2012",
           45.83218056
          ],
          [
           "Eclipse",
           10.395,
           "Passenger",
           19.047,
           2.4,
           154,
           100.8,
           68.9,
           175.4,
           2.91,
           15.9,
           24,
           "11/24/2012",
           62.44196235
          ],
          [
           "Galant",
           10.595,
           "Passenger",
           17.357,
           2.4,
           145,
           103.7,
           68.5,
           187.8,
           2.945,
           16.3,
           25,
           "1/29/2012",
           58.60677292
          ],
          [
           "Diamante",
           16.575,
           "Passenger",
           24.997,
           3.5,
           210,
           107.1,
           70.3,
           194.1,
           3.443,
           19,
           22,
           "8/28/2012",
           84.83077858
          ],
          [
           "3000GT",
           20.94,
           "Passenger",
           25.45,
           3,
           161,
           97.2,
           72.4,
           180.3,
           3.131,
           19.8,
           21,
           "6/29/2012",
           67.54415494
          ],
          [
           "Mystique",
           8.8,
           "Passenger",
           16.24,
           2,
           125,
           106.5,
           69.1,
           184.8,
           2.769,
           15,
           28,
           "12/19/2012",
           50.99774761
          ],
          [
           "Cougar",
           13.89,
           "Passenger",
           16.54,
           2,
           125,
           106.4,
           69.6,
           185,
           2.892,
           16,
           30,
           "2/23/2012",
           51.11347426
          ],
          [
           "Sable",
           11.03,
           "Passenger",
           19.035,
           3,
           153,
           108.5,
           73,
           199.7,
           3.379,
           16,
           24,
           "9/22/2012",
           62.23996663
          ],
          [
           "Grand Marquis",
           14.875,
           "Passenger",
           22.605,
           4.6,
           200,
           114.7,
           78.2,
           212,
           3.958,
           19,
           21,
           "7/24/2012",
           80.65769646
          ],
          [
           "C-Class",
           26.05,
           "Passenger",
           31.75,
           2.3,
           185,
           105.9,
           67.7,
           177.4,
           3.25,
           16.4,
           26,
           "4/24/2011",
           78.28073088
          ],
          [
           "E-Class",
           41.45,
           "Passenger",
           49.9,
           3.2,
           221,
           111.5,
           70.8,
           189.4,
           3.823,
           21.1,
           25,
           "7/12/2011",
           98.2497375
          ],
          [
           "S-Class",
           50.375,
           "Passenger",
           69.7,
           4.3,
           275,
           121.5,
           73.1,
           203.1,
           4.133,
           23.2,
           21,
           "6/13/2011",
           125.2738757
          ],
          [
           "SL-Class",
           58.6,
           "Passenger",
           82.6,
           5,
           302,
           99,
           71.3,
           177.1,
           4.125,
           21.1,
           20,
           "3/17/2011",
           139.9822936
          ],
          [
           "Sentra",
           8.45,
           "Passenger",
           13.499,
           1.8,
           126,
           99.8,
           67.3,
           177.5,
           2.593,
           13.2,
           30,
           "8/31/2011",
           50.24197791
          ],
          [
           "Altima",
           11.295,
           "Passenger",
           20.39,
           2.4,
           155,
           103.1,
           69.1,
           183.5,
           3.012,
           15.9,
           25,
           "8/2/2011",
           63.31372783
          ],
          [
           "Maxima",
           15.125,
           "Passenger",
           26.249,
           3,
           222,
           108.3,
           70.3,
           190.5,
           3.294,
           18.5,
           25,
           "5/6/2011",
           89.42782031
          ],
          [
           "Cutlass",
           11.24,
           "Passenger",
           18.145,
           3.1,
           150,
           107,
           69.4,
           192,
           3.102,
           15.2,
           25,
           "5/31/2011",
           60.86161155
          ],
          [
           "Aurora",
           19.89,
           "Passenger",
           36.229,
           4,
           250,
           113.8,
           74.4,
           205.4,
           3.967,
           18.5,
           22,
           "2/18/2011",
           103.4416926
          ],
          [
           "Neon",
           7.75,
           "Passenger",
           12.64,
           2,
           132,
           105,
           74.4,
           174.4,
           2.559,
           12.5,
           29,
           "4/26/2011",
           52.08489875
          ],
          [
           "Breeze",
           9.8,
           "Passenger",
           16.08,
           2,
           132,
           108,
           71,
           186.3,
           2.942,
           16,
           27,
           "11/14/2011",
           53.41189767
          ],
          [
           "Sunfire",
           13.79,
           "Passenger",
           21.61,
           2.4,
           150,
           104.1,
           68.4,
           181.9,
           2.906,
           15,
           27,
           "1/25/2012",
           62.0158703
          ],
          [
           "Grand Am",
           10.29,
           "Passenger",
           19.72,
           3.4,
           175,
           107,
           70.4,
           186.3,
           3.091,
           15.2,
           25,
           "11/26/2012",
           70.38973726
          ],
          [
           "Firebird",
           17.805,
           "Passenger",
           25.31,
           3.8,
           200,
           101.1,
           74.5,
           193.4,
           3.492,
           16.8,
           25,
           "6/16/2012",
           81.49272616
          ],
          [
           "Grand Prix",
           14.01,
           "Passenger",
           21.665,
           3.8,
           195,
           110.5,
           72.7,
           196.5,
           3.396,
           18,
           25,
           "10/15/2012",
           78.31816813
          ],
          [
           "Bonneville",
           13.225,
           "Passenger",
           23.755,
           3.8,
           205,
           112.2,
           72.6,
           202.5,
           3.59,
           17.5,
           24,
           "5/18/2011",
           82.6613556
          ],
          [
           "Boxter",
           41.25,
           "Passenger",
           41.43,
           2.7,
           217,
           95.2,
           70.1,
           171,
           2.778,
           17,
           22,
           "2/19/2012",
           93.4373307
          ],
          [
           "Carrera Coupe",
           60.625,
           "Passenger",
           71.02,
           3.4,
           300,
           92.6,
           69.5,
           174.5,
           3.032,
           17,
           21,
           "12/21/2012",
           134.3909754
          ],
          [
           "Carrera Cabrio",
           67.55,
           "Passenger",
           74.97,
           3.4,
           300,
           92.6,
           69.5,
           174.5,
           3.075,
           17,
           23,
           "7/11/2011",
           135.9147096
          ],
          [
           "SL",
           9.2,
           "Passenger",
           10.685,
           1.9,
           100,
           102.4,
           66.4,
           176.9,
           2.332,
           12.1,
           33,
           "8/16/2012",
           39.98642475
          ],
          [
           "SC",
           10.59,
           "Passenger",
           12.535,
           1.9,
           100,
           102.4,
           66.4,
           180,
           2.367,
           12.1,
           33,
           "3/16/2011",
           40.70007242
          ],
          [
           "SW",
           10.79,
           "Passenger",
           14.29,
           1.9,
           124,
           102.4,
           66.4,
           176.9,
           2.452,
           12.1,
           31,
           "1/15/2011",
           49.86577367
          ],
          [
           "Corolla",
           10.025,
           "Passenger",
           13.108,
           1.8,
           120,
           97,
           66.7,
           174,
           2.42,
           13.2,
           33,
           "4/11/2011",
           47.96897242
          ],
          [
           "Camry",
           13.245,
           "Passenger",
           17.518,
           2.2,
           133,
           105.2,
           70.1,
           188.5,
           2.998,
           18.5,
           27,
           "2/10/2011",
           54.37241965
          ],
          [
           "Avalon",
           18.14,
           "Passenger",
           25.545,
           3,
           210,
           107.1,
           71.7,
           191.9,
           3.417,
           18.5,
           26,
           "8/31/2011",
           84.91189826
          ],
          [
           "Celica",
           15.445,
           "Passenger",
           16.875,
           1.8,
           140,
           102.4,
           68.3,
           170.5,
           2.425,
           14.5,
           31,
           "12/29/2012",
           56.49603034
          ],
          [
           "Golf",
           11.425,
           "Passenger",
           14.9,
           2,
           115,
           98.9,
           68.3,
           163.3,
           2.767,
           14.5,
           26,
           "1/24/2011",
           46.94387676
          ],
          [
           "Jetta",
           13.24,
           "Passenger",
           16.7,
           2,
           115,
           98.9,
           68.3,
           172.3,
           2.853,
           14.5,
           26,
           "8/27/2011",
           47.63823666
          ],
          [
           "Passat",
           16.725,
           "Passenger",
           21.2,
           1.8,
           150,
           106.4,
           68.5,
           184.1,
           3.043,
           16.4,
           27,
           "10/30/2012",
           61.70138136
          ],
          [
           "Cabrio",
           16.575,
           "Passenger",
           19.99,
           2,
           115,
           97.4,
           66.7,
           160.4,
           3.079,
           13.7,
           26,
           "5/31/2011",
           48.90737225
          ],
          [
           "GTI",
           13.76,
           "Passenger",
           17.5,
           2,
           115,
           98.9,
           68.3,
           163.3,
           2.762,
           14.6,
           26,
           "4/1/2011",
           47.94684106
          ]
         ],
         "hovertemplate": "Vehicle_type=%{customdata[2]}<br>Manufacturer=%{x}<br>Model=%{customdata[0]}<br>__year_resale_value=%{customdata[1]}<br>Price_in_thousands=%{customdata[3]}<br>Engine_size=%{customdata[4]}<br>Horsepower=%{customdata[5]}<br>Wheelbase=%{customdata[6]}<br>Width=%{customdata[7]}<br>Length=%{customdata[8]}<br>Curb_weight=%{customdata[9]}<br>Fuel_capacity=%{customdata[10]}<br>Fuel_efficiency=%{customdata[11]}<br>Latest_Launch=%{customdata[12]}<br>Power_perf_factor=%{customdata[13]}<extra></extra>",
         "legendgroup": "Passenger",
         "marker": {
          "color": "#636efa"
         },
         "name": "Passenger",
         "notched": true,
         "offsetgroup": "Passenger",
         "showlegend": false,
         "type": "box",
         "x": [
          "Acura",
          "Acura",
          "Acura",
          "Audi",
          "Audi",
          "Audi",
          "BMW",
          "BMW",
          "Buick",
          "Buick",
          "Buick",
          "Buick",
          "Cadillac",
          "Cadillac",
          "Cadillac",
          "Chevrolet",
          "Chevrolet",
          "Chevrolet",
          "Chevrolet",
          "Chevrolet",
          "Chevrolet",
          "Chevrolet",
          "Chevrolet",
          "Chrysler",
          "Chrysler",
          "Chrysler",
          "Chrysler",
          "Chrysler",
          "Dodge",
          "Dodge",
          "Dodge",
          "Dodge",
          "Ford",
          "Ford",
          "Ford",
          "Ford",
          "Ford",
          "Honda",
          "Honda",
          "Hyundai",
          "Hyundai",
          "Hyundai",
          "Infiniti",
          "Lexus",
          "Lexus",
          "Lexus",
          "Lincoln",
          "Lincoln",
          "Mitsubishi",
          "Mitsubishi",
          "Mitsubishi",
          "Mitsubishi",
          "Mitsubishi",
          "Mercury",
          "Mercury",
          "Mercury",
          "Mercury",
          "Mercedes-B",
          "Mercedes-B",
          "Mercedes-B",
          "Mercedes-B",
          "Nissan",
          "Nissan",
          "Nissan",
          "Oldsmobile",
          "Oldsmobile",
          "Plymouth",
          "Plymouth",
          "Pontiac",
          "Pontiac",
          "Pontiac",
          "Pontiac",
          "Pontiac",
          "Porsche",
          "Porsche",
          "Porsche",
          "Saturn",
          "Saturn",
          "Saturn",
          "Toyota",
          "Toyota",
          "Toyota",
          "Toyota",
          "Volkswagen",
          "Volkswagen",
          "Volkswagen",
          "Volkswagen",
          "Volkswagen"
         ],
         "xaxis": "x2",
         "yaxis": "y2"
        },
        {
         "alignmentgroup": "True",
         "bingroup": "x",
         "histfunc": "sum",
         "hovertemplate": "Vehicle_type=Car<br>Manufacturer=%{x}<br>sum of Sales_in_thousands=%{y}<extra></extra>",
         "legendgroup": "Car",
         "marker": {
          "color": "#EF553B",
          "pattern": {
           "shape": ""
          }
         },
         "name": "Car",
         "offsetgroup": "Car",
         "orientation": "v",
         "showlegend": true,
         "type": "histogram",
         "x": [
          "Dodge",
          "Dodge",
          "Dodge",
          "Dodge",
          "Dodge",
          "Ford",
          "Ford",
          "Ford",
          "Ford",
          "Ford",
          "Honda",
          "Honda",
          "Honda",
          "Jeep",
          "Jeep",
          "Jeep",
          "Mitsubishi",
          "Mitsubishi",
          "Mercury",
          "Mercury",
          "Nissan",
          "Nissan",
          "Oldsmobile",
          "Oldsmobile",
          "Plymouth",
          "Toyota",
          "Toyota",
          "Toyota",
          "Toyota"
         ],
         "xaxis": "x",
         "y": [
          227.061,
          16.767,
          31.038,
          111.313,
          181.749,
          276.747,
          155.787,
          125.338,
          220.65,
          540.561,
          73.203,
          12.855,
          76.029,
          55.557,
          80.556,
          157.04,
          11.337,
          39.348,
          27.609,
          20.38,
          27.308,
          42.574,
          20.017,
          24.361,
          24.155,
          84.087,
          25.106,
          68.411,
          9.835
         ],
         "yaxis": "y"
        },
        {
         "alignmentgroup": "True",
         "customdata": [
          [
           "Ram Pickup",
           15.06,
           "Car",
           19.46,
           5.2,
           230,
           138.7,
           79.3,
           224.2,
           4.47,
           26,
           17,
           "3/6/2012",
           90.21170005
          ],
          [
           "Ram Wagon",
           15.51,
           "Car",
           21.315,
           3.9,
           175,
           109.6,
           78.8,
           192.6,
           4.245,
           32,
           15,
           "1/6/2012",
           71.13529161
          ],
          [
           "Ram Van",
           13.425,
           "Car",
           18.575,
           3.9,
           175,
           127.2,
           78.8,
           208.5,
           4.298,
           32,
           16,
           "7/26/2012",
           70.07832154
          ],
          [
           "Dakota",
           11.26,
           "Car",
           16.98,
           2.5,
           120,
           131,
           71.5,
           215,
           3.557,
           22,
           19,
           "11/25/2011",
           49.64500177
          ],
          [
           "Caravan",
           12.025,
           "Car",
           19.565,
           2.4,
           150,
           113.3,
           76.8,
           186.3,
           3.533,
           20,
           24,
           "9/1/2011",
           61.22700031
          ],
          [
           "Explorer",
           16.64,
           "Car",
           31.93,
           4,
           210,
           111.6,
           70.2,
           190.7,
           3.876,
           21,
           19,
           "4/25/2012",
           87.63549578
          ],
          [
           "Windstar",
           13.175,
           "Car",
           21.41,
           3,
           150,
           120.7,
           76.6,
           200.9,
           3.761,
           26,
           21,
           "2/25/2012",
           62.09504839
          ],
          [
           "Expedition",
           23.575,
           "Car",
           36.135,
           4.6,
           240,
           119,
           78.7,
           204.6,
           4.808,
           26,
           16,
           "9/14/2012",
           100.0248023
          ],
          [
           "Ranger",
           7.85,
           "Car",
           12.05,
           2.5,
           119,
           117.5,
           69.4,
           200.7,
           3.086,
           20,
           23,
           "1/14/2012",
           47.38953131
          ],
          [
           "F-Series",
           15.075,
           "Car",
           26.935,
           4.6,
           220,
           138.5,
           79.1,
           224.5,
           4.241,
           25.1,
           18,
           "8/16/2012",
           89.40193473
          ],
          [
           "CR-V",
           17.71,
           "Car",
           20.55,
           2,
           146,
           103.2,
           68.9,
           177.6,
           3.219,
           15.3,
           24,
           "3/21/2012",
           60.08796662
          ],
          [
           "Passport",
           17.525,
           "Car",
           26.6,
           3.2,
           205,
           106.4,
           70.4,
           178.2,
           3.857,
           21.1,
           19,
           "10/9/2012",
           83.6025008
          ],
          [
           "Odyssey",
           19.49,
           "Car",
           26,
           3.5,
           210,
           118.1,
           75.6,
           201.2,
           4.288,
           20,
           23,
           "2/8/2012",
           85.21769134
          ],
          [
           "Wrangler",
           13.475,
           "Car",
           14.46,
           2.5,
           120,
           93.4,
           66.7,
           152,
           3.045,
           19,
           17,
           "3/4/2012",
           48.67289791
          ],
          [
           "Cherokee",
           13.775,
           "Car",
           21.62,
           4,
           190,
           101.4,
           69.4,
           167.5,
           3.194,
           20,
           20,
           "10/5/2012",
           76.58443962
          ],
          [
           "Grand Cherokee",
           18.81,
           "Car",
           26.895,
           4,
           195,
           105.9,
           72.3,
           181.5,
           3.88,
           20.5,
           19,
           "12/10/2011",
           80.38777912
          ],
          [
           "Montero",
           19.125,
           "Car",
           31.807,
           3.5,
           200,
           107.3,
           69.9,
           186.6,
           4.52,
           24.3,
           18,
           "1/17/2012",
           83.92081504
          ],
          [
           "Montero Sport",
           13.88,
           "Car",
           22.527,
           3,
           173,
           107.3,
           66.7,
           178.3,
           3.51,
           19.5,
           20,
           "5/18/2012",
           70.66094179
          ],
          [
           "Mountaineer",
           20.43,
           "Car",
           27.56,
           4,
           210,
           111.6,
           70.2,
           190.1,
           3.876,
           21,
           18,
           "2/13/2008",
           85.94974425
          ],
          [
           "Villager",
           14.795,
           "Car",
           22.51,
           3.3,
           170,
           112.2,
           74.9,
           194.7,
           3.944,
           20,
           21,
           "10/20/2009",
           69.671461
          ],
          [
           "Quest",
           15.38,
           "Car",
           26.399,
           3.3,
           170,
           112.2,
           74.9,
           194.8,
           3.991,
           20,
           21,
           "3/7/2011",
           71.17166413
          ],
          [
           "Pathfinder",
           17.81,
           "Car",
           29.299,
           3.3,
           170,
           106.3,
           71.7,
           182.6,
           3.947,
           21,
           19,
           "9/25/2011",
           72.29035508
          ],
          [
           "Bravada",
           19.925,
           "Car",
           31.598,
           4.3,
           190,
           107,
           67.8,
           181.2,
           4.068,
           17.5,
           19,
           "9/21/2011",
           80.51167259
          ],
          [
           "Silhouette",
           15.24,
           "Car",
           25.345,
           3.4,
           185,
           120,
           72.2,
           201.4,
           3.948,
           25,
           22,
           "6/25/2011",
           76.09657042
          ],
          [
           "Voyager",
           12.025,
           "Car",
           18.85,
           2.4,
           150,
           113.3,
           76.8,
           186.3,
           3.528,
           20,
           24,
           "4/24/2011",
           60.95118512
          ],
          [
           "Tacoma",
           9.575,
           "Car",
           11.528,
           2.4,
           142,
           103.3,
           66.5,
           178.7,
           2.58,
           15.1,
           23,
           "8/1/2011",
           55.29711658
          ],
          [
           "RAV4",
           13.325,
           "Car",
           16.888,
           2,
           127,
           94.9,
           66.7,
           163.8,
           2.668,
           15.3,
           27,
           "5/6/2011",
           51.95510887
          ],
          [
           "4Runner",
           19.425,
           "Car",
           22.288,
           2.7,
           150,
           105.3,
           66.5,
           183.3,
           3.44,
           18.5,
           23,
           "3/7/2011",
           62.35557713
          ],
          [
           "Land Cruiser",
           34.08,
           "Car",
           51.728,
           4.7,
           230,
           112.2,
           76.4,
           192.5,
           5.115,
           25.4,
           15,
           "9/25/2011",
           102.5289842
          ]
         ],
         "hovertemplate": "Vehicle_type=%{customdata[2]}<br>Manufacturer=%{x}<br>Model=%{customdata[0]}<br>__year_resale_value=%{customdata[1]}<br>Price_in_thousands=%{customdata[3]}<br>Engine_size=%{customdata[4]}<br>Horsepower=%{customdata[5]}<br>Wheelbase=%{customdata[6]}<br>Width=%{customdata[7]}<br>Length=%{customdata[8]}<br>Curb_weight=%{customdata[9]}<br>Fuel_capacity=%{customdata[10]}<br>Fuel_efficiency=%{customdata[11]}<br>Latest_Launch=%{customdata[12]}<br>Power_perf_factor=%{customdata[13]}<extra></extra>",
         "legendgroup": "Car",
         "marker": {
          "color": "#EF553B"
         },
         "name": "Car",
         "notched": true,
         "offsetgroup": "Car",
         "showlegend": false,
         "type": "box",
         "x": [
          "Dodge",
          "Dodge",
          "Dodge",
          "Dodge",
          "Dodge",
          "Ford",
          "Ford",
          "Ford",
          "Ford",
          "Ford",
          "Honda",
          "Honda",
          "Honda",
          "Jeep",
          "Jeep",
          "Jeep",
          "Mitsubishi",
          "Mitsubishi",
          "Mercury",
          "Mercury",
          "Nissan",
          "Nissan",
          "Oldsmobile",
          "Oldsmobile",
          "Plymouth",
          "Toyota",
          "Toyota",
          "Toyota",
          "Toyota"
         ],
         "xaxis": "x2",
         "yaxis": "y2"
        }
       ],
       "layout": {
        "barmode": "relative",
        "legend": {
         "title": {
          "text": "Vehicle_type"
         },
         "tracegroupgap": 0
        },
        "margin": {
         "t": 60
        },
        "template": {
         "data": {
          "bar": [
           {
            "error_x": {
             "color": "#2a3f5f"
            },
            "error_y": {
             "color": "#2a3f5f"
            },
            "marker": {
             "line": {
              "color": "#E5ECF6",
              "width": 0.5
             },
             "pattern": {
              "fillmode": "overlay",
              "size": 10,
              "solidity": 0.2
             }
            },
            "type": "bar"
           }
          ],
          "barpolar": [
           {
            "marker": {
             "line": {
              "color": "#E5ECF6",
              "width": 0.5
             },
             "pattern": {
              "fillmode": "overlay",
              "size": 10,
              "solidity": 0.2
             }
            },
            "type": "barpolar"
           }
          ],
          "carpet": [
           {
            "aaxis": {
             "endlinecolor": "#2a3f5f",
             "gridcolor": "white",
             "linecolor": "white",
             "minorgridcolor": "white",
             "startlinecolor": "#2a3f5f"
            },
            "baxis": {
             "endlinecolor": "#2a3f5f",
             "gridcolor": "white",
             "linecolor": "white",
             "minorgridcolor": "white",
             "startlinecolor": "#2a3f5f"
            },
            "type": "carpet"
           }
          ],
          "choropleth": [
           {
            "colorbar": {
             "outlinewidth": 0,
             "ticks": ""
            },
            "type": "choropleth"
           }
          ],
          "contour": [
           {
            "colorbar": {
             "outlinewidth": 0,
             "ticks": ""
            },
            "colorscale": [
             [
              0,
              "#0d0887"
             ],
             [
              0.1111111111111111,
              "#46039f"
             ],
             [
              0.2222222222222222,
              "#7201a8"
             ],
             [
              0.3333333333333333,
              "#9c179e"
             ],
             [
              0.4444444444444444,
              "#bd3786"
             ],
             [
              0.5555555555555556,
              "#d8576b"
             ],
             [
              0.6666666666666666,
              "#ed7953"
             ],
             [
              0.7777777777777778,
              "#fb9f3a"
             ],
             [
              0.8888888888888888,
              "#fdca26"
             ],
             [
              1,
              "#f0f921"
             ]
            ],
            "type": "contour"
           }
          ],
          "contourcarpet": [
           {
            "colorbar": {
             "outlinewidth": 0,
             "ticks": ""
            },
            "type": "contourcarpet"
           }
          ],
          "heatmap": [
           {
            "colorbar": {
             "outlinewidth": 0,
             "ticks": ""
            },
            "colorscale": [
             [
              0,
              "#0d0887"
             ],
             [
              0.1111111111111111,
              "#46039f"
             ],
             [
              0.2222222222222222,
              "#7201a8"
             ],
             [
              0.3333333333333333,
              "#9c179e"
             ],
             [
              0.4444444444444444,
              "#bd3786"
             ],
             [
              0.5555555555555556,
              "#d8576b"
             ],
             [
              0.6666666666666666,
              "#ed7953"
             ],
             [
              0.7777777777777778,
              "#fb9f3a"
             ],
             [
              0.8888888888888888,
              "#fdca26"
             ],
             [
              1,
              "#f0f921"
             ]
            ],
            "type": "heatmap"
           }
          ],
          "heatmapgl": [
           {
            "colorbar": {
             "outlinewidth": 0,
             "ticks": ""
            },
            "colorscale": [
             [
              0,
              "#0d0887"
             ],
             [
              0.1111111111111111,
              "#46039f"
             ],
             [
              0.2222222222222222,
              "#7201a8"
             ],
             [
              0.3333333333333333,
              "#9c179e"
             ],
             [
              0.4444444444444444,
              "#bd3786"
             ],
             [
              0.5555555555555556,
              "#d8576b"
             ],
             [
              0.6666666666666666,
              "#ed7953"
             ],
             [
              0.7777777777777778,
              "#fb9f3a"
             ],
             [
              0.8888888888888888,
              "#fdca26"
             ],
             [
              1,
              "#f0f921"
             ]
            ],
            "type": "heatmapgl"
           }
          ],
          "histogram": [
           {
            "marker": {
             "pattern": {
              "fillmode": "overlay",
              "size": 10,
              "solidity": 0.2
             }
            },
            "type": "histogram"
           }
          ],
          "histogram2d": [
           {
            "colorbar": {
             "outlinewidth": 0,
             "ticks": ""
            },
            "colorscale": [
             [
              0,
              "#0d0887"
             ],
             [
              0.1111111111111111,
              "#46039f"
             ],
             [
              0.2222222222222222,
              "#7201a8"
             ],
             [
              0.3333333333333333,
              "#9c179e"
             ],
             [
              0.4444444444444444,
              "#bd3786"
             ],
             [
              0.5555555555555556,
              "#d8576b"
             ],
             [
              0.6666666666666666,
              "#ed7953"
             ],
             [
              0.7777777777777778,
              "#fb9f3a"
             ],
             [
              0.8888888888888888,
              "#fdca26"
             ],
             [
              1,
              "#f0f921"
             ]
            ],
            "type": "histogram2d"
           }
          ],
          "histogram2dcontour": [
           {
            "colorbar": {
             "outlinewidth": 0,
             "ticks": ""
            },
            "colorscale": [
             [
              0,
              "#0d0887"
             ],
             [
              0.1111111111111111,
              "#46039f"
             ],
             [
              0.2222222222222222,
              "#7201a8"
             ],
             [
              0.3333333333333333,
              "#9c179e"
             ],
             [
              0.4444444444444444,
              "#bd3786"
             ],
             [
              0.5555555555555556,
              "#d8576b"
             ],
             [
              0.6666666666666666,
              "#ed7953"
             ],
             [
              0.7777777777777778,
              "#fb9f3a"
             ],
             [
              0.8888888888888888,
              "#fdca26"
             ],
             [
              1,
              "#f0f921"
             ]
            ],
            "type": "histogram2dcontour"
           }
          ],
          "mesh3d": [
           {
            "colorbar": {
             "outlinewidth": 0,
             "ticks": ""
            },
            "type": "mesh3d"
           }
          ],
          "parcoords": [
           {
            "line": {
             "colorbar": {
              "outlinewidth": 0,
              "ticks": ""
             }
            },
            "type": "parcoords"
           }
          ],
          "pie": [
           {
            "automargin": true,
            "type": "pie"
           }
          ],
          "scatter": [
           {
            "fillpattern": {
             "fillmode": "overlay",
             "size": 10,
             "solidity": 0.2
            },
            "type": "scatter"
           }
          ],
          "scatter3d": [
           {
            "line": {
             "colorbar": {
              "outlinewidth": 0,
              "ticks": ""
             }
            },
            "marker": {
             "colorbar": {
              "outlinewidth": 0,
              "ticks": ""
             }
            },
            "type": "scatter3d"
           }
          ],
          "scattercarpet": [
           {
            "marker": {
             "colorbar": {
              "outlinewidth": 0,
              "ticks": ""
             }
            },
            "type": "scattercarpet"
           }
          ],
          "scattergeo": [
           {
            "marker": {
             "colorbar": {
              "outlinewidth": 0,
              "ticks": ""
             }
            },
            "type": "scattergeo"
           }
          ],
          "scattergl": [
           {
            "marker": {
             "colorbar": {
              "outlinewidth": 0,
              "ticks": ""
             }
            },
            "type": "scattergl"
           }
          ],
          "scattermapbox": [
           {
            "marker": {
             "colorbar": {
              "outlinewidth": 0,
              "ticks": ""
             }
            },
            "type": "scattermapbox"
           }
          ],
          "scatterpolar": [
           {
            "marker": {
             "colorbar": {
              "outlinewidth": 0,
              "ticks": ""
             }
            },
            "type": "scatterpolar"
           }
          ],
          "scatterpolargl": [
           {
            "marker": {
             "colorbar": {
              "outlinewidth": 0,
              "ticks": ""
             }
            },
            "type": "scatterpolargl"
           }
          ],
          "scatterternary": [
           {
            "marker": {
             "colorbar": {
              "outlinewidth": 0,
              "ticks": ""
             }
            },
            "type": "scatterternary"
           }
          ],
          "surface": [
           {
            "colorbar": {
             "outlinewidth": 0,
             "ticks": ""
            },
            "colorscale": [
             [
              0,
              "#0d0887"
             ],
             [
              0.1111111111111111,
              "#46039f"
             ],
             [
              0.2222222222222222,
              "#7201a8"
             ],
             [
              0.3333333333333333,
              "#9c179e"
             ],
             [
              0.4444444444444444,
              "#bd3786"
             ],
             [
              0.5555555555555556,
              "#d8576b"
             ],
             [
              0.6666666666666666,
              "#ed7953"
             ],
             [
              0.7777777777777778,
              "#fb9f3a"
             ],
             [
              0.8888888888888888,
              "#fdca26"
             ],
             [
              1,
              "#f0f921"
             ]
            ],
            "type": "surface"
           }
          ],
          "table": [
           {
            "cells": {
             "fill": {
              "color": "#EBF0F8"
             },
             "line": {
              "color": "white"
             }
            },
            "header": {
             "fill": {
              "color": "#C8D4E3"
             },
             "line": {
              "color": "white"
             }
            },
            "type": "table"
           }
          ]
         },
         "layout": {
          "annotationdefaults": {
           "arrowcolor": "#2a3f5f",
           "arrowhead": 0,
           "arrowwidth": 1
          },
          "autotypenumbers": "strict",
          "coloraxis": {
           "colorbar": {
            "outlinewidth": 0,
            "ticks": ""
           }
          },
          "colorscale": {
           "diverging": [
            [
             0,
             "#8e0152"
            ],
            [
             0.1,
             "#c51b7d"
            ],
            [
             0.2,
             "#de77ae"
            ],
            [
             0.3,
             "#f1b6da"
            ],
            [
             0.4,
             "#fde0ef"
            ],
            [
             0.5,
             "#f7f7f7"
            ],
            [
             0.6,
             "#e6f5d0"
            ],
            [
             0.7,
             "#b8e186"
            ],
            [
             0.8,
             "#7fbc41"
            ],
            [
             0.9,
             "#4d9221"
            ],
            [
             1,
             "#276419"
            ]
           ],
           "sequential": [
            [
             0,
             "#0d0887"
            ],
            [
             0.1111111111111111,
             "#46039f"
            ],
            [
             0.2222222222222222,
             "#7201a8"
            ],
            [
             0.3333333333333333,
             "#9c179e"
            ],
            [
             0.4444444444444444,
             "#bd3786"
            ],
            [
             0.5555555555555556,
             "#d8576b"
            ],
            [
             0.6666666666666666,
             "#ed7953"
            ],
            [
             0.7777777777777778,
             "#fb9f3a"
            ],
            [
             0.8888888888888888,
             "#fdca26"
            ],
            [
             1,
             "#f0f921"
            ]
           ],
           "sequentialminus": [
            [
             0,
             "#0d0887"
            ],
            [
             0.1111111111111111,
             "#46039f"
            ],
            [
             0.2222222222222222,
             "#7201a8"
            ],
            [
             0.3333333333333333,
             "#9c179e"
            ],
            [
             0.4444444444444444,
             "#bd3786"
            ],
            [
             0.5555555555555556,
             "#d8576b"
            ],
            [
             0.6666666666666666,
             "#ed7953"
            ],
            [
             0.7777777777777778,
             "#fb9f3a"
            ],
            [
             0.8888888888888888,
             "#fdca26"
            ],
            [
             1,
             "#f0f921"
            ]
           ]
          },
          "colorway": [
           "#636efa",
           "#EF553B",
           "#00cc96",
           "#ab63fa",
           "#FFA15A",
           "#19d3f3",
           "#FF6692",
           "#B6E880",
           "#FF97FF",
           "#FECB52"
          ],
          "font": {
           "color": "#2a3f5f"
          },
          "geo": {
           "bgcolor": "white",
           "lakecolor": "white",
           "landcolor": "#E5ECF6",
           "showlakes": true,
           "showland": true,
           "subunitcolor": "white"
          },
          "hoverlabel": {
           "align": "left"
          },
          "hovermode": "closest",
          "mapbox": {
           "style": "light"
          },
          "paper_bgcolor": "white",
          "plot_bgcolor": "#E5ECF6",
          "polar": {
           "angularaxis": {
            "gridcolor": "white",
            "linecolor": "white",
            "ticks": ""
           },
           "bgcolor": "#E5ECF6",
           "radialaxis": {
            "gridcolor": "white",
            "linecolor": "white",
            "ticks": ""
           }
          },
          "scene": {
           "xaxis": {
            "backgroundcolor": "#E5ECF6",
            "gridcolor": "white",
            "gridwidth": 2,
            "linecolor": "white",
            "showbackground": true,
            "ticks": "",
            "zerolinecolor": "white"
           },
           "yaxis": {
            "backgroundcolor": "#E5ECF6",
            "gridcolor": "white",
            "gridwidth": 2,
            "linecolor": "white",
            "showbackground": true,
            "ticks": "",
            "zerolinecolor": "white"
           },
           "zaxis": {
            "backgroundcolor": "#E5ECF6",
            "gridcolor": "white",
            "gridwidth": 2,
            "linecolor": "white",
            "showbackground": true,
            "ticks": "",
            "zerolinecolor": "white"
           }
          },
          "shapedefaults": {
           "line": {
            "color": "#2a3f5f"
           }
          },
          "ternary": {
           "aaxis": {
            "gridcolor": "white",
            "linecolor": "white",
            "ticks": ""
           },
           "baxis": {
            "gridcolor": "white",
            "linecolor": "white",
            "ticks": ""
           },
           "bgcolor": "#E5ECF6",
           "caxis": {
            "gridcolor": "white",
            "linecolor": "white",
            "ticks": ""
           }
          },
          "title": {
           "x": 0.05
          },
          "xaxis": {
           "automargin": true,
           "gridcolor": "white",
           "linecolor": "white",
           "ticks": "",
           "title": {
            "standoff": 15
           },
           "zerolinecolor": "white",
           "zerolinewidth": 2
          },
          "yaxis": {
           "automargin": true,
           "gridcolor": "white",
           "linecolor": "white",
           "ticks": "",
           "title": {
            "standoff": 15
           },
           "zerolinecolor": "white",
           "zerolinewidth": 2
          }
         }
        },
        "xaxis": {
         "anchor": "y",
         "domain": [
          0,
          1
         ],
         "title": {
          "text": "Manufacturer"
         }
        },
        "xaxis2": {
         "anchor": "y2",
         "domain": [
          0,
          1
         ],
         "matches": "x",
         "showgrid": true,
         "showticklabels": false
        },
        "yaxis": {
         "anchor": "x",
         "domain": [
          0,
          0.7326
         ],
         "title": {
          "text": "sum of Sales_in_thousands"
         }
        },
        "yaxis2": {
         "anchor": "x2",
         "domain": [
          0.7426,
          1
         ],
         "matches": "y2",
         "showgrid": false,
         "showline": false,
         "showticklabels": false,
         "ticks": ""
        }
       }
      },
      "text/html": [
       "<div>                            <div id=\"30a72026-2f85-48f9-8521-a6e4a02b28f1\" class=\"plotly-graph-div\" style=\"height:525px; width:100%;\"></div>            <script type=\"text/javascript\">                require([\"plotly\"], function(Plotly) {                    window.PLOTLYENV=window.PLOTLYENV || {};                                    if (document.getElementById(\"30a72026-2f85-48f9-8521-a6e4a02b28f1\")) {                    Plotly.newPlot(                        \"30a72026-2f85-48f9-8521-a6e4a02b28f1\",                        [{\"alignmentgroup\":\"True\",\"bingroup\":\"x\",\"histfunc\":\"sum\",\"hovertemplate\":\"Vehicle_type=Passenger<br>Manufacturer=%{x}<br>sum of Sales_in_thousands=%{y}<extra></extra>\",\"legendgroup\":\"Passenger\",\"marker\":{\"color\":\"#636efa\",\"pattern\":{\"shape\":\"\"}},\"name\":\"Passenger\",\"offsetgroup\":\"Passenger\",\"orientation\":\"v\",\"showlegend\":true,\"x\":[\"Acura\",\"Acura\",\"Acura\",\"Audi\",\"Audi\",\"Audi\",\"BMW\",\"BMW\",\"Buick\",\"Buick\",\"Buick\",\"Buick\",\"Cadillac\",\"Cadillac\",\"Cadillac\",\"Chevrolet\",\"Chevrolet\",\"Chevrolet\",\"Chevrolet\",\"Chevrolet\",\"Chevrolet\",\"Chevrolet\",\"Chevrolet\",\"Chrysler\",\"Chrysler\",\"Chrysler\",\"Chrysler\",\"Chrysler\",\"Dodge\",\"Dodge\",\"Dodge\",\"Dodge\",\"Ford\",\"Ford\",\"Ford\",\"Ford\",\"Ford\",\"Honda\",\"Honda\",\"Hyundai\",\"Hyundai\",\"Hyundai\",\"Infiniti\",\"Lexus\",\"Lexus\",\"Lexus\",\"Lincoln\",\"Lincoln\",\"Mitsubishi\",\"Mitsubishi\",\"Mitsubishi\",\"Mitsubishi\",\"Mitsubishi\",\"Mercury\",\"Mercury\",\"Mercury\",\"Mercury\",\"Mercedes-B\",\"Mercedes-B\",\"Mercedes-B\",\"Mercedes-B\",\"Nissan\",\"Nissan\",\"Nissan\",\"Oldsmobile\",\"Oldsmobile\",\"Plymouth\",\"Plymouth\",\"Pontiac\",\"Pontiac\",\"Pontiac\",\"Pontiac\",\"Pontiac\",\"Porsche\",\"Porsche\",\"Porsche\",\"Saturn\",\"Saturn\",\"Saturn\",\"Toyota\",\"Toyota\",\"Toyota\",\"Toyota\",\"Volkswagen\",\"Volkswagen\",\"Volkswagen\",\"Volkswagen\",\"Volkswagen\"],\"xaxis\":\"x\",\"y\":[16.919,39.384,8.588,20.397,18.78,1.38,9.231,17.527,91.561,39.35,27.851,83.257,63.729,6.536,11.185,145.519,135.126,24.629,42.593,26.402,17.947,32.299,21.855,7.854,32.775,31.148,32.306,13.462,76.034,4.734,71.186,0.916,70.227,113.369,35.068,245.815,63.403,199.685,230.902,41.184,66.692,29.45,23.713,24.072,12.698,6.375,13.798,48.911,26.232,42.541,55.616,5.711,0.11,14.351,26.529,67.956,81.174,18.392,27.602,16.774,3.311,42.643,88.094,79.853,1.112,14.69,32.734,5.24,51.645,131.097,19.911,92.364,35.945,8.982,1.28,1.866,80.62,24.546,5.223,142.535,247.994,63.849,33.269,9.761,83.721,51.102,9.569,5.596],\"yaxis\":\"y\",\"type\":\"histogram\"},{\"alignmentgroup\":\"True\",\"customdata\":[[\"Integra\",16.36,\"Passenger\",21.5,1.8,140.0,101.2,67.3,172.4,2.639,13.2,28.0,\"2/2/2012\",58.28014952],[\"TL\",19.875,\"Passenger\",28.4,3.2,225.0,108.1,70.3,192.9,3.517,17.2,25.0,\"6/3/2011\",91.37077766],[\"RL\",29.725,\"Passenger\",42.0,3.5,210.0,114.6,71.4,196.6,3.85,18.0,22.0,\"3/10/2011\",91.38977933],[\"A4\",22.255,\"Passenger\",23.99,1.8,150.0,102.6,68.2,178.0,2.998,16.4,27.0,\"10/8/2011\",62.7776392],[\"A6\",23.555,\"Passenger\",33.95,2.8,200.0,108.7,76.1,192.0,3.561,18.5,22.0,\"8/9/2011\",84.56510502],[\"A8\",39.0,\"Passenger\",62.0,4.2,310.0,113.0,74.0,198.2,3.902,23.7,21.0,\"2/27/2012\",134.6568582],[\"328i\",28.675,\"Passenger\",33.4,2.8,193.0,107.3,68.5,176.0,3.197,16.6,24.0,\"1/29/2012\",81.87706856],[\"528i\",36.125,\"Passenger\",38.9,2.8,193.0,111.4,70.9,188.0,3.472,18.5,25.0,\"4/4/2011\",83.9987238],[\"Century\",12.475,\"Passenger\",21.975,3.1,175.0,109.0,72.7,194.6,3.368,17.5,25.0,\"11/2/2011\",71.18145132],[\"Regal\",13.74,\"Passenger\",25.3,3.8,240.0,109.0,72.7,196.2,3.543,17.5,23.0,\"9/3/2011\",95.63670253],[\"Park Avenue\",20.19,\"Passenger\",31.965,3.8,205.0,113.8,74.7,206.8,3.778,18.5,24.0,\"3/23/2012\",85.82840825],[\"LeSabre\",13.36,\"Passenger\",27.885,3.8,205.0,112.2,73.5,200.0,3.591,17.5,25.0,\"7/23/2011\",84.25452581],[\"DeVille\",22.525,\"Passenger\",39.895,4.6,275.0,115.3,74.5,207.2,3.978,18.5,22.0,\"2/23/2012\",113.8545976],[\"Eldorado\",25.725,\"Passenger\",39.665,4.6,275.0,108.0,75.5,200.6,3.843,19.0,22.0,\"11/27/2011\",113.7658739],[\"Catera\",18.225,\"Passenger\",31.01,3.0,200.0,107.4,70.3,194.8,3.77,18.0,22.0,\"9/28/2011\",83.48309358],[\"Cavalier\",9.25,\"Passenger\",13.26,2.2,115.0,104.1,67.9,180.9,2.676,14.3,27.0,\"8/17/2011\",46.36334747],[\"Malibu\",11.225,\"Passenger\",16.535,3.1,170.0,107.0,69.4,190.4,3.051,15.0,25.0,\"3/19/2012\",67.31446216],[\"Lumina\",10.31,\"Passenger\",18.89,3.1,175.0,107.5,72.5,200.9,3.33,16.6,25.0,\"5/24/2011\",69.9913956],[\"Monte Carlo\",11.525,\"Passenger\",19.39,3.4,180.0,110.5,72.7,197.9,3.34,17.0,27.0,\"12/22/2011\",72.03091719],[\"Camaro\",13.025,\"Passenger\",24.34,3.8,200.0,101.1,74.1,193.2,3.5,16.8,25.0,\"10/23/2011\",81.11854333],[\"Corvette\",36.225,\"Passenger\",45.705,5.7,345.0,104.5,73.6,179.7,3.21,19.1,22.0,\"5/12/2012\",141.14115],[\"Prizm\",9.125,\"Passenger\",13.96,1.8,120.0,97.1,66.7,174.3,2.398,13.2,33.0,\"9/11/2011\",48.2976361],[\"Metro\",5.16,\"Passenger\",9.235,1.0,55.0,93.1,62.6,149.4,1.895,10.3,45.0,\"4/13/2012\",23.27627233],[\"Sebring Coupe\",12.36,\"Passenger\",19.84,2.5,163.0,103.7,69.7,190.9,2.967,15.9,24.0,\"1/16/2012\",65.95718396],[\"Sebring Conv.\",14.18,\"Passenger\",24.495,2.5,168.0,106.0,69.2,193.0,3.332,16.0,24.0,\"11/17/2011\",69.52135505],[\"Concorde\",13.725,\"Passenger\",22.245,2.7,200.0,113.0,74.4,209.1,3.452,17.0,26.0,\"6/6/2012\",80.02378204],[\"Cirrus\",12.64,\"Passenger\",16.48,2.0,132.0,108.0,71.0,186.0,2.911,16.0,27.0,\"10/6/2011\",53.56619987],[\"LHS\",17.325,\"Passenger\",28.34,3.5,253.0,113.0,74.4,207.7,3.564,17.0,23.0,\"5/8/2012\",101.3292807],[\"Neon\",7.75,\"Passenger\",12.64,2.0,132.0,105.0,74.4,174.4,2.567,12.5,29.0,\"12/12/2011\",52.08489875],[\"Avenger\",12.545,\"Passenger\",19.045,2.5,163.0,103.7,69.1,190.2,2.879,15.9,24.0,\"7/1/2012\",65.65050834],[\"Stratus\",10.185,\"Passenger\",20.23,2.5,168.0,108.0,71.0,186.0,3.058,16.0,24.0,\"10/31/2011\",67.87610784],[\"Viper\",58.47,\"Passenger\",69.725,8.0,450.0,96.2,75.7,176.7,3.375,19.0,16.0,\"8/7/2011\",188.144323],[\"Escort\",7.425,\"Passenger\",12.07,2.0,110.0,98.4,67.0,174.7,2.468,12.7,30.0,\"3/31/2012\",44.08370946],[\"Mustang\",12.76,\"Passenger\",21.56,3.8,190.0,101.3,73.1,183.2,3.203,15.7,24.0,\"1/31/2012\",76.50918456],[\"Contour\",8.835,\"Passenger\",17.035,2.5,170.0,106.5,69.1,184.6,2.769,15.0,25.0,\"8/20/2012\",67.35101072],[\"Taurus\",10.055,\"Passenger\",17.885,3.0,155.0,108.5,73.0,197.6,3.368,16.0,24.0,\"12/20/2011\",62.5037395],[\"Crown Victoria\",14.21,\"Passenger\",22.195,4.6,200.0,114.7,78.2,212.0,3.908,19.0,21.0,\"9/26/2011\",80.49953671],[\"Civic\",9.85,\"Passenger\",12.885,1.6,106.0,103.2,67.1,175.1,2.339,11.9,32.0,\"10/21/2011\",42.87909734],[\"Accord\",13.21,\"Passenger\",15.35,2.3,135.0,106.9,70.3,188.8,2.932,17.1,27.0,\"5/20/2012\",54.26954829],[\"Accent\",5.86,\"Passenger\",9.699,1.5,92.0,96.1,65.7,166.7,2.24,11.9,31.0,\"9/10/2012\",36.67228358],[\"Elantra\",7.825,\"Passenger\",11.799,2.0,140.0,100.4,66.9,174.0,2.626,14.5,27.0,\"11/15/2011\",54.59004516],[\"Sonata\",8.91,\"Passenger\",14.999,2.4,148.0,106.3,71.6,185.4,3.072,17.2,25.0,\"6/14/2012\",58.758249],[\"I30\",19.69,\"Passenger\",29.465,3.0,227.0,108.3,70.2,193.7,3.342,18.5,25.0,\"4/15/2012\",92.43688923],[\"ES300\",26.975,\"Passenger\",31.505,3.0,210.0,105.1,70.5,190.2,3.373,18.5,23.0,\"7/9/2012\",87.21100104],[\"GS300\",32.075,\"Passenger\",37.805,3.0,225.0,110.2,70.9,189.2,3.638,19.8,23.0,\"5/10/2012\",94.9466984],[\"LS400\",40.375,\"Passenger\",54.005,4.0,290.0,112.2,72.0,196.7,3.89,22.5,22.0,\"3/29/2012\",124.4467163],[\"Continental\",20.525,\"Passenger\",39.08,4.6,275.0,109.0,73.6,208.5,3.868,20.0,22.0,\"8/3/2012\",113.5402069],[\"Town car\",21.725,\"Passenger\",43.33,4.6,215.0,117.7,78.2,215.3,4.121,19.0,21.0,\"6/4/2012\",93.9579169],[\"Mirage\",8.325,\"Passenger\",13.987,1.8,113.0,98.4,66.5,173.6,2.25,13.2,30.0,\"4/23/2012\",45.83218056],[\"Eclipse\",10.395,\"Passenger\",19.047,2.4,154.0,100.8,68.9,175.4,2.91,15.9,24.0,\"11/24/2012\",62.44196235],[\"Galant\",10.595,\"Passenger\",17.357,2.4,145.0,103.7,68.5,187.8,2.945,16.3,25.0,\"1/29/2012\",58.60677292],[\"Diamante\",16.575,\"Passenger\",24.997,3.5,210.0,107.1,70.3,194.1,3.443,19.0,22.0,\"8/28/2012\",84.83077858],[\"3000GT\",20.94,\"Passenger\",25.45,3.0,161.0,97.2,72.4,180.3,3.131,19.8,21.0,\"6/29/2012\",67.54415494],[\"Mystique\",8.8,\"Passenger\",16.24,2.0,125.0,106.5,69.1,184.8,2.769,15.0,28.0,\"12/19/2012\",50.99774761],[\"Cougar\",13.89,\"Passenger\",16.54,2.0,125.0,106.4,69.6,185.0,2.892,16.0,30.0,\"2/23/2012\",51.11347426],[\"Sable\",11.03,\"Passenger\",19.035,3.0,153.0,108.5,73.0,199.7,3.379,16.0,24.0,\"9/22/2012\",62.23996663],[\"Grand Marquis\",14.875,\"Passenger\",22.605,4.6,200.0,114.7,78.2,212.0,3.958,19.0,21.0,\"7/24/2012\",80.65769646],[\"C-Class\",26.05,\"Passenger\",31.75,2.3,185.0,105.9,67.7,177.4,3.25,16.4,26.0,\"4/24/2011\",78.28073088],[\"E-Class\",41.45,\"Passenger\",49.9,3.2,221.0,111.5,70.8,189.4,3.823,21.1,25.0,\"7/12/2011\",98.2497375],[\"S-Class\",50.375,\"Passenger\",69.7,4.3,275.0,121.5,73.1,203.1,4.133,23.2,21.0,\"6/13/2011\",125.2738757],[\"SL-Class\",58.6,\"Passenger\",82.6,5.0,302.0,99.0,71.3,177.1,4.125,21.1,20.0,\"3/17/2011\",139.9822936],[\"Sentra\",8.45,\"Passenger\",13.499,1.8,126.0,99.8,67.3,177.5,2.593,13.2,30.0,\"8/31/2011\",50.24197791],[\"Altima\",11.295,\"Passenger\",20.39,2.4,155.0,103.1,69.1,183.5,3.012,15.9,25.0,\"8/2/2011\",63.31372783],[\"Maxima\",15.125,\"Passenger\",26.249,3.0,222.0,108.3,70.3,190.5,3.294,18.5,25.0,\"5/6/2011\",89.42782031],[\"Cutlass\",11.24,\"Passenger\",18.145,3.1,150.0,107.0,69.4,192.0,3.102,15.2,25.0,\"5/31/2011\",60.86161155],[\"Aurora\",19.89,\"Passenger\",36.229,4.0,250.0,113.8,74.4,205.4,3.967,18.5,22.0,\"2/18/2011\",103.4416926],[\"Neon\",7.75,\"Passenger\",12.64,2.0,132.0,105.0,74.4,174.4,2.559,12.5,29.0,\"4/26/2011\",52.08489875],[\"Breeze\",9.8,\"Passenger\",16.08,2.0,132.0,108.0,71.0,186.3,2.942,16.0,27.0,\"11/14/2011\",53.41189767],[\"Sunfire\",13.79,\"Passenger\",21.61,2.4,150.0,104.1,68.4,181.9,2.906,15.0,27.0,\"1/25/2012\",62.0158703],[\"Grand Am\",10.29,\"Passenger\",19.72,3.4,175.0,107.0,70.4,186.3,3.091,15.2,25.0,\"11/26/2012\",70.38973726],[\"Firebird\",17.805,\"Passenger\",25.31,3.8,200.0,101.1,74.5,193.4,3.492,16.8,25.0,\"6/16/2012\",81.49272616],[\"Grand Prix\",14.01,\"Passenger\",21.665,3.8,195.0,110.5,72.7,196.5,3.396,18.0,25.0,\"10/15/2012\",78.31816813],[\"Bonneville\",13.225,\"Passenger\",23.755,3.8,205.0,112.2,72.6,202.5,3.59,17.5,24.0,\"5/18/2011\",82.6613556],[\"Boxter\",41.25,\"Passenger\",41.43,2.7,217.0,95.2,70.1,171.0,2.778,17.0,22.0,\"2/19/2012\",93.4373307],[\"Carrera Coupe\",60.625,\"Passenger\",71.02,3.4,300.0,92.6,69.5,174.5,3.032,17.0,21.0,\"12/21/2012\",134.3909754],[\"Carrera Cabrio\",67.55,\"Passenger\",74.97,3.4,300.0,92.6,69.5,174.5,3.075,17.0,23.0,\"7/11/2011\",135.9147096],[\"SL\",9.2,\"Passenger\",10.685,1.9,100.0,102.4,66.4,176.9,2.332,12.1,33.0,\"8/16/2012\",39.98642475],[\"SC\",10.59,\"Passenger\",12.535,1.9,100.0,102.4,66.4,180.0,2.367,12.1,33.0,\"3/16/2011\",40.70007242],[\"SW\",10.79,\"Passenger\",14.29,1.9,124.0,102.4,66.4,176.9,2.452,12.1,31.0,\"1/15/2011\",49.86577367],[\"Corolla\",10.025,\"Passenger\",13.108,1.8,120.0,97.0,66.7,174.0,2.42,13.2,33.0,\"4/11/2011\",47.96897242],[\"Camry\",13.245,\"Passenger\",17.518,2.2,133.0,105.2,70.1,188.5,2.998,18.5,27.0,\"2/10/2011\",54.37241965],[\"Avalon\",18.14,\"Passenger\",25.545,3.0,210.0,107.1,71.7,191.9,3.417,18.5,26.0,\"8/31/2011\",84.91189826],[\"Celica\",15.445,\"Passenger\",16.875,1.8,140.0,102.4,68.3,170.5,2.425,14.5,31.0,\"12/29/2012\",56.49603034],[\"Golf\",11.425,\"Passenger\",14.9,2.0,115.0,98.9,68.3,163.3,2.767,14.5,26.0,\"1/24/2011\",46.94387676],[\"Jetta\",13.24,\"Passenger\",16.7,2.0,115.0,98.9,68.3,172.3,2.853,14.5,26.0,\"8/27/2011\",47.63823666],[\"Passat\",16.725,\"Passenger\",21.2,1.8,150.0,106.4,68.5,184.1,3.043,16.4,27.0,\"10/30/2012\",61.70138136],[\"Cabrio\",16.575,\"Passenger\",19.99,2.0,115.0,97.4,66.7,160.4,3.079,13.7,26.0,\"5/31/2011\",48.90737225],[\"GTI\",13.76,\"Passenger\",17.5,2.0,115.0,98.9,68.3,163.3,2.762,14.6,26.0,\"4/1/2011\",47.94684106]],\"hovertemplate\":\"Vehicle_type=%{customdata[2]}<br>Manufacturer=%{x}<br>Model=%{customdata[0]}<br>__year_resale_value=%{customdata[1]}<br>Price_in_thousands=%{customdata[3]}<br>Engine_size=%{customdata[4]}<br>Horsepower=%{customdata[5]}<br>Wheelbase=%{customdata[6]}<br>Width=%{customdata[7]}<br>Length=%{customdata[8]}<br>Curb_weight=%{customdata[9]}<br>Fuel_capacity=%{customdata[10]}<br>Fuel_efficiency=%{customdata[11]}<br>Latest_Launch=%{customdata[12]}<br>Power_perf_factor=%{customdata[13]}<extra></extra>\",\"legendgroup\":\"Passenger\",\"marker\":{\"color\":\"#636efa\"},\"name\":\"Passenger\",\"notched\":true,\"offsetgroup\":\"Passenger\",\"showlegend\":false,\"x\":[\"Acura\",\"Acura\",\"Acura\",\"Audi\",\"Audi\",\"Audi\",\"BMW\",\"BMW\",\"Buick\",\"Buick\",\"Buick\",\"Buick\",\"Cadillac\",\"Cadillac\",\"Cadillac\",\"Chevrolet\",\"Chevrolet\",\"Chevrolet\",\"Chevrolet\",\"Chevrolet\",\"Chevrolet\",\"Chevrolet\",\"Chevrolet\",\"Chrysler\",\"Chrysler\",\"Chrysler\",\"Chrysler\",\"Chrysler\",\"Dodge\",\"Dodge\",\"Dodge\",\"Dodge\",\"Ford\",\"Ford\",\"Ford\",\"Ford\",\"Ford\",\"Honda\",\"Honda\",\"Hyundai\",\"Hyundai\",\"Hyundai\",\"Infiniti\",\"Lexus\",\"Lexus\",\"Lexus\",\"Lincoln\",\"Lincoln\",\"Mitsubishi\",\"Mitsubishi\",\"Mitsubishi\",\"Mitsubishi\",\"Mitsubishi\",\"Mercury\",\"Mercury\",\"Mercury\",\"Mercury\",\"Mercedes-B\",\"Mercedes-B\",\"Mercedes-B\",\"Mercedes-B\",\"Nissan\",\"Nissan\",\"Nissan\",\"Oldsmobile\",\"Oldsmobile\",\"Plymouth\",\"Plymouth\",\"Pontiac\",\"Pontiac\",\"Pontiac\",\"Pontiac\",\"Pontiac\",\"Porsche\",\"Porsche\",\"Porsche\",\"Saturn\",\"Saturn\",\"Saturn\",\"Toyota\",\"Toyota\",\"Toyota\",\"Toyota\",\"Volkswagen\",\"Volkswagen\",\"Volkswagen\",\"Volkswagen\",\"Volkswagen\"],\"xaxis\":\"x2\",\"yaxis\":\"y2\",\"type\":\"box\"},{\"alignmentgroup\":\"True\",\"bingroup\":\"x\",\"histfunc\":\"sum\",\"hovertemplate\":\"Vehicle_type=Car<br>Manufacturer=%{x}<br>sum of Sales_in_thousands=%{y}<extra></extra>\",\"legendgroup\":\"Car\",\"marker\":{\"color\":\"#EF553B\",\"pattern\":{\"shape\":\"\"}},\"name\":\"Car\",\"offsetgroup\":\"Car\",\"orientation\":\"v\",\"showlegend\":true,\"x\":[\"Dodge\",\"Dodge\",\"Dodge\",\"Dodge\",\"Dodge\",\"Ford\",\"Ford\",\"Ford\",\"Ford\",\"Ford\",\"Honda\",\"Honda\",\"Honda\",\"Jeep\",\"Jeep\",\"Jeep\",\"Mitsubishi\",\"Mitsubishi\",\"Mercury\",\"Mercury\",\"Nissan\",\"Nissan\",\"Oldsmobile\",\"Oldsmobile\",\"Plymouth\",\"Toyota\",\"Toyota\",\"Toyota\",\"Toyota\"],\"xaxis\":\"x\",\"y\":[227.061,16.767,31.038,111.313,181.749,276.747,155.787,125.338,220.65,540.561,73.203,12.855,76.029,55.557,80.556,157.04,11.337,39.348,27.609,20.38,27.308,42.574,20.017,24.361,24.155,84.087,25.106,68.411,9.835],\"yaxis\":\"y\",\"type\":\"histogram\"},{\"alignmentgroup\":\"True\",\"customdata\":[[\"Ram Pickup\",15.06,\"Car\",19.46,5.2,230.0,138.7,79.3,224.2,4.47,26.0,17.0,\"3/6/2012\",90.21170005],[\"Ram Wagon\",15.51,\"Car\",21.315,3.9,175.0,109.6,78.8,192.6,4.245,32.0,15.0,\"1/6/2012\",71.13529161],[\"Ram Van\",13.425,\"Car\",18.575,3.9,175.0,127.2,78.8,208.5,4.298,32.0,16.0,\"7/26/2012\",70.07832154],[\"Dakota\",11.26,\"Car\",16.98,2.5,120.0,131.0,71.5,215.0,3.557,22.0,19.0,\"11/25/2011\",49.64500177],[\"Caravan\",12.025,\"Car\",19.565,2.4,150.0,113.3,76.8,186.3,3.533,20.0,24.0,\"9/1/2011\",61.22700031],[\"Explorer\",16.64,\"Car\",31.93,4.0,210.0,111.6,70.2,190.7,3.876,21.0,19.0,\"4/25/2012\",87.63549578],[\"Windstar\",13.175,\"Car\",21.41,3.0,150.0,120.7,76.6,200.9,3.761,26.0,21.0,\"2/25/2012\",62.09504839],[\"Expedition\",23.575,\"Car\",36.135,4.6,240.0,119.0,78.7,204.6,4.808,26.0,16.0,\"9/14/2012\",100.0248023],[\"Ranger\",7.85,\"Car\",12.05,2.5,119.0,117.5,69.4,200.7,3.086,20.0,23.0,\"1/14/2012\",47.38953131],[\"F-Series\",15.075,\"Car\",26.935,4.6,220.0,138.5,79.1,224.5,4.241,25.1,18.0,\"8/16/2012\",89.40193473],[\"CR-V\",17.71,\"Car\",20.55,2.0,146.0,103.2,68.9,177.6,3.219,15.3,24.0,\"3/21/2012\",60.08796662],[\"Passport\",17.525,\"Car\",26.6,3.2,205.0,106.4,70.4,178.2,3.857,21.1,19.0,\"10/9/2012\",83.6025008],[\"Odyssey\",19.49,\"Car\",26.0,3.5,210.0,118.1,75.6,201.2,4.288,20.0,23.0,\"2/8/2012\",85.21769134],[\"Wrangler\",13.475,\"Car\",14.46,2.5,120.0,93.4,66.7,152.0,3.045,19.0,17.0,\"3/4/2012\",48.67289791],[\"Cherokee\",13.775,\"Car\",21.62,4.0,190.0,101.4,69.4,167.5,3.194,20.0,20.0,\"10/5/2012\",76.58443962],[\"Grand Cherokee\",18.81,\"Car\",26.895,4.0,195.0,105.9,72.3,181.5,3.88,20.5,19.0,\"12/10/2011\",80.38777912],[\"Montero\",19.125,\"Car\",31.807,3.5,200.0,107.3,69.9,186.6,4.52,24.3,18.0,\"1/17/2012\",83.92081504],[\"Montero Sport\",13.88,\"Car\",22.527,3.0,173.0,107.3,66.7,178.3,3.51,19.5,20.0,\"5/18/2012\",70.66094179],[\"Mountaineer\",20.43,\"Car\",27.56,4.0,210.0,111.6,70.2,190.1,3.876,21.0,18.0,\"2/13/2008\",85.94974425],[\"Villager\",14.795,\"Car\",22.51,3.3,170.0,112.2,74.9,194.7,3.944,20.0,21.0,\"10/20/2009\",69.671461],[\"Quest\",15.38,\"Car\",26.399,3.3,170.0,112.2,74.9,194.8,3.991,20.0,21.0,\"3/7/2011\",71.17166413],[\"Pathfinder\",17.81,\"Car\",29.299,3.3,170.0,106.3,71.7,182.6,3.947,21.0,19.0,\"9/25/2011\",72.29035508],[\"Bravada\",19.925,\"Car\",31.598,4.3,190.0,107.0,67.8,181.2,4.068,17.5,19.0,\"9/21/2011\",80.51167259],[\"Silhouette\",15.24,\"Car\",25.345,3.4,185.0,120.0,72.2,201.4,3.948,25.0,22.0,\"6/25/2011\",76.09657042],[\"Voyager\",12.025,\"Car\",18.85,2.4,150.0,113.3,76.8,186.3,3.528,20.0,24.0,\"4/24/2011\",60.95118512],[\"Tacoma\",9.575,\"Car\",11.528,2.4,142.0,103.3,66.5,178.7,2.58,15.1,23.0,\"8/1/2011\",55.29711658],[\"RAV4\",13.325,\"Car\",16.888,2.0,127.0,94.9,66.7,163.8,2.668,15.3,27.0,\"5/6/2011\",51.95510887],[\"4Runner\",19.425,\"Car\",22.288,2.7,150.0,105.3,66.5,183.3,3.44,18.5,23.0,\"3/7/2011\",62.35557713],[\"Land Cruiser\",34.08,\"Car\",51.728,4.7,230.0,112.2,76.4,192.5,5.115,25.4,15.0,\"9/25/2011\",102.5289842]],\"hovertemplate\":\"Vehicle_type=%{customdata[2]}<br>Manufacturer=%{x}<br>Model=%{customdata[0]}<br>__year_resale_value=%{customdata[1]}<br>Price_in_thousands=%{customdata[3]}<br>Engine_size=%{customdata[4]}<br>Horsepower=%{customdata[5]}<br>Wheelbase=%{customdata[6]}<br>Width=%{customdata[7]}<br>Length=%{customdata[8]}<br>Curb_weight=%{customdata[9]}<br>Fuel_capacity=%{customdata[10]}<br>Fuel_efficiency=%{customdata[11]}<br>Latest_Launch=%{customdata[12]}<br>Power_perf_factor=%{customdata[13]}<extra></extra>\",\"legendgroup\":\"Car\",\"marker\":{\"color\":\"#EF553B\"},\"name\":\"Car\",\"notched\":true,\"offsetgroup\":\"Car\",\"showlegend\":false,\"x\":[\"Dodge\",\"Dodge\",\"Dodge\",\"Dodge\",\"Dodge\",\"Ford\",\"Ford\",\"Ford\",\"Ford\",\"Ford\",\"Honda\",\"Honda\",\"Honda\",\"Jeep\",\"Jeep\",\"Jeep\",\"Mitsubishi\",\"Mitsubishi\",\"Mercury\",\"Mercury\",\"Nissan\",\"Nissan\",\"Oldsmobile\",\"Oldsmobile\",\"Plymouth\",\"Toyota\",\"Toyota\",\"Toyota\",\"Toyota\"],\"xaxis\":\"x2\",\"yaxis\":\"y2\",\"type\":\"box\"}],                        {\"template\":{\"data\":{\"histogram2dcontour\":[{\"type\":\"histogram2dcontour\",\"colorbar\":{\"outlinewidth\":0,\"ticks\":\"\"},\"colorscale\":[[0.0,\"#0d0887\"],[0.1111111111111111,\"#46039f\"],[0.2222222222222222,\"#7201a8\"],[0.3333333333333333,\"#9c179e\"],[0.4444444444444444,\"#bd3786\"],[0.5555555555555556,\"#d8576b\"],[0.6666666666666666,\"#ed7953\"],[0.7777777777777778,\"#fb9f3a\"],[0.8888888888888888,\"#fdca26\"],[1.0,\"#f0f921\"]]}],\"choropleth\":[{\"type\":\"choropleth\",\"colorbar\":{\"outlinewidth\":0,\"ticks\":\"\"}}],\"histogram2d\":[{\"type\":\"histogram2d\",\"colorbar\":{\"outlinewidth\":0,\"ticks\":\"\"},\"colorscale\":[[0.0,\"#0d0887\"],[0.1111111111111111,\"#46039f\"],[0.2222222222222222,\"#7201a8\"],[0.3333333333333333,\"#9c179e\"],[0.4444444444444444,\"#bd3786\"],[0.5555555555555556,\"#d8576b\"],[0.6666666666666666,\"#ed7953\"],[0.7777777777777778,\"#fb9f3a\"],[0.8888888888888888,\"#fdca26\"],[1.0,\"#f0f921\"]]}],\"heatmap\":[{\"type\":\"heatmap\",\"colorbar\":{\"outlinewidth\":0,\"ticks\":\"\"},\"colorscale\":[[0.0,\"#0d0887\"],[0.1111111111111111,\"#46039f\"],[0.2222222222222222,\"#7201a8\"],[0.3333333333333333,\"#9c179e\"],[0.4444444444444444,\"#bd3786\"],[0.5555555555555556,\"#d8576b\"],[0.6666666666666666,\"#ed7953\"],[0.7777777777777778,\"#fb9f3a\"],[0.8888888888888888,\"#fdca26\"],[1.0,\"#f0f921\"]]}],\"heatmapgl\":[{\"type\":\"heatmapgl\",\"colorbar\":{\"outlinewidth\":0,\"ticks\":\"\"},\"colorscale\":[[0.0,\"#0d0887\"],[0.1111111111111111,\"#46039f\"],[0.2222222222222222,\"#7201a8\"],[0.3333333333333333,\"#9c179e\"],[0.4444444444444444,\"#bd3786\"],[0.5555555555555556,\"#d8576b\"],[0.6666666666666666,\"#ed7953\"],[0.7777777777777778,\"#fb9f3a\"],[0.8888888888888888,\"#fdca26\"],[1.0,\"#f0f921\"]]}],\"contourcarpet\":[{\"type\":\"contourcarpet\",\"colorbar\":{\"outlinewidth\":0,\"ticks\":\"\"}}],\"contour\":[{\"type\":\"contour\",\"colorbar\":{\"outlinewidth\":0,\"ticks\":\"\"},\"colorscale\":[[0.0,\"#0d0887\"],[0.1111111111111111,\"#46039f\"],[0.2222222222222222,\"#7201a8\"],[0.3333333333333333,\"#9c179e\"],[0.4444444444444444,\"#bd3786\"],[0.5555555555555556,\"#d8576b\"],[0.6666666666666666,\"#ed7953\"],[0.7777777777777778,\"#fb9f3a\"],[0.8888888888888888,\"#fdca26\"],[1.0,\"#f0f921\"]]}],\"surface\":[{\"type\":\"surface\",\"colorbar\":{\"outlinewidth\":0,\"ticks\":\"\"},\"colorscale\":[[0.0,\"#0d0887\"],[0.1111111111111111,\"#46039f\"],[0.2222222222222222,\"#7201a8\"],[0.3333333333333333,\"#9c179e\"],[0.4444444444444444,\"#bd3786\"],[0.5555555555555556,\"#d8576b\"],[0.6666666666666666,\"#ed7953\"],[0.7777777777777778,\"#fb9f3a\"],[0.8888888888888888,\"#fdca26\"],[1.0,\"#f0f921\"]]}],\"mesh3d\":[{\"type\":\"mesh3d\",\"colorbar\":{\"outlinewidth\":0,\"ticks\":\"\"}}],\"scatter\":[{\"fillpattern\":{\"fillmode\":\"overlay\",\"size\":10,\"solidity\":0.2},\"type\":\"scatter\"}],\"parcoords\":[{\"type\":\"parcoords\",\"line\":{\"colorbar\":{\"outlinewidth\":0,\"ticks\":\"\"}}}],\"scatterpolargl\":[{\"type\":\"scatterpolargl\",\"marker\":{\"colorbar\":{\"outlinewidth\":0,\"ticks\":\"\"}}}],\"bar\":[{\"error_x\":{\"color\":\"#2a3f5f\"},\"error_y\":{\"color\":\"#2a3f5f\"},\"marker\":{\"line\":{\"color\":\"#E5ECF6\",\"width\":0.5},\"pattern\":{\"fillmode\":\"overlay\",\"size\":10,\"solidity\":0.2}},\"type\":\"bar\"}],\"scattergeo\":[{\"type\":\"scattergeo\",\"marker\":{\"colorbar\":{\"outlinewidth\":0,\"ticks\":\"\"}}}],\"scatterpolar\":[{\"type\":\"scatterpolar\",\"marker\":{\"colorbar\":{\"outlinewidth\":0,\"ticks\":\"\"}}}],\"histogram\":[{\"marker\":{\"pattern\":{\"fillmode\":\"overlay\",\"size\":10,\"solidity\":0.2}},\"type\":\"histogram\"}],\"scattergl\":[{\"type\":\"scattergl\",\"marker\":{\"colorbar\":{\"outlinewidth\":0,\"ticks\":\"\"}}}],\"scatter3d\":[{\"type\":\"scatter3d\",\"line\":{\"colorbar\":{\"outlinewidth\":0,\"ticks\":\"\"}},\"marker\":{\"colorbar\":{\"outlinewidth\":0,\"ticks\":\"\"}}}],\"scattermapbox\":[{\"type\":\"scattermapbox\",\"marker\":{\"colorbar\":{\"outlinewidth\":0,\"ticks\":\"\"}}}],\"scatterternary\":[{\"type\":\"scatterternary\",\"marker\":{\"colorbar\":{\"outlinewidth\":0,\"ticks\":\"\"}}}],\"scattercarpet\":[{\"type\":\"scattercarpet\",\"marker\":{\"colorbar\":{\"outlinewidth\":0,\"ticks\":\"\"}}}],\"carpet\":[{\"aaxis\":{\"endlinecolor\":\"#2a3f5f\",\"gridcolor\":\"white\",\"linecolor\":\"white\",\"minorgridcolor\":\"white\",\"startlinecolor\":\"#2a3f5f\"},\"baxis\":{\"endlinecolor\":\"#2a3f5f\",\"gridcolor\":\"white\",\"linecolor\":\"white\",\"minorgridcolor\":\"white\",\"startlinecolor\":\"#2a3f5f\"},\"type\":\"carpet\"}],\"table\":[{\"cells\":{\"fill\":{\"color\":\"#EBF0F8\"},\"line\":{\"color\":\"white\"}},\"header\":{\"fill\":{\"color\":\"#C8D4E3\"},\"line\":{\"color\":\"white\"}},\"type\":\"table\"}],\"barpolar\":[{\"marker\":{\"line\":{\"color\":\"#E5ECF6\",\"width\":0.5},\"pattern\":{\"fillmode\":\"overlay\",\"size\":10,\"solidity\":0.2}},\"type\":\"barpolar\"}],\"pie\":[{\"automargin\":true,\"type\":\"pie\"}]},\"layout\":{\"autotypenumbers\":\"strict\",\"colorway\":[\"#636efa\",\"#EF553B\",\"#00cc96\",\"#ab63fa\",\"#FFA15A\",\"#19d3f3\",\"#FF6692\",\"#B6E880\",\"#FF97FF\",\"#FECB52\"],\"font\":{\"color\":\"#2a3f5f\"},\"hovermode\":\"closest\",\"hoverlabel\":{\"align\":\"left\"},\"paper_bgcolor\":\"white\",\"plot_bgcolor\":\"#E5ECF6\",\"polar\":{\"bgcolor\":\"#E5ECF6\",\"angularaxis\":{\"gridcolor\":\"white\",\"linecolor\":\"white\",\"ticks\":\"\"},\"radialaxis\":{\"gridcolor\":\"white\",\"linecolor\":\"white\",\"ticks\":\"\"}},\"ternary\":{\"bgcolor\":\"#E5ECF6\",\"aaxis\":{\"gridcolor\":\"white\",\"linecolor\":\"white\",\"ticks\":\"\"},\"baxis\":{\"gridcolor\":\"white\",\"linecolor\":\"white\",\"ticks\":\"\"},\"caxis\":{\"gridcolor\":\"white\",\"linecolor\":\"white\",\"ticks\":\"\"}},\"coloraxis\":{\"colorbar\":{\"outlinewidth\":0,\"ticks\":\"\"}},\"colorscale\":{\"sequential\":[[0.0,\"#0d0887\"],[0.1111111111111111,\"#46039f\"],[0.2222222222222222,\"#7201a8\"],[0.3333333333333333,\"#9c179e\"],[0.4444444444444444,\"#bd3786\"],[0.5555555555555556,\"#d8576b\"],[0.6666666666666666,\"#ed7953\"],[0.7777777777777778,\"#fb9f3a\"],[0.8888888888888888,\"#fdca26\"],[1.0,\"#f0f921\"]],\"sequentialminus\":[[0.0,\"#0d0887\"],[0.1111111111111111,\"#46039f\"],[0.2222222222222222,\"#7201a8\"],[0.3333333333333333,\"#9c179e\"],[0.4444444444444444,\"#bd3786\"],[0.5555555555555556,\"#d8576b\"],[0.6666666666666666,\"#ed7953\"],[0.7777777777777778,\"#fb9f3a\"],[0.8888888888888888,\"#fdca26\"],[1.0,\"#f0f921\"]],\"diverging\":[[0,\"#8e0152\"],[0.1,\"#c51b7d\"],[0.2,\"#de77ae\"],[0.3,\"#f1b6da\"],[0.4,\"#fde0ef\"],[0.5,\"#f7f7f7\"],[0.6,\"#e6f5d0\"],[0.7,\"#b8e186\"],[0.8,\"#7fbc41\"],[0.9,\"#4d9221\"],[1,\"#276419\"]]},\"xaxis\":{\"gridcolor\":\"white\",\"linecolor\":\"white\",\"ticks\":\"\",\"title\":{\"standoff\":15},\"zerolinecolor\":\"white\",\"automargin\":true,\"zerolinewidth\":2},\"yaxis\":{\"gridcolor\":\"white\",\"linecolor\":\"white\",\"ticks\":\"\",\"title\":{\"standoff\":15},\"zerolinecolor\":\"white\",\"automargin\":true,\"zerolinewidth\":2},\"scene\":{\"xaxis\":{\"backgroundcolor\":\"#E5ECF6\",\"gridcolor\":\"white\",\"linecolor\":\"white\",\"showbackground\":true,\"ticks\":\"\",\"zerolinecolor\":\"white\",\"gridwidth\":2},\"yaxis\":{\"backgroundcolor\":\"#E5ECF6\",\"gridcolor\":\"white\",\"linecolor\":\"white\",\"showbackground\":true,\"ticks\":\"\",\"zerolinecolor\":\"white\",\"gridwidth\":2},\"zaxis\":{\"backgroundcolor\":\"#E5ECF6\",\"gridcolor\":\"white\",\"linecolor\":\"white\",\"showbackground\":true,\"ticks\":\"\",\"zerolinecolor\":\"white\",\"gridwidth\":2}},\"shapedefaults\":{\"line\":{\"color\":\"#2a3f5f\"}},\"annotationdefaults\":{\"arrowcolor\":\"#2a3f5f\",\"arrowhead\":0,\"arrowwidth\":1},\"geo\":{\"bgcolor\":\"white\",\"landcolor\":\"#E5ECF6\",\"subunitcolor\":\"white\",\"showland\":true,\"showlakes\":true,\"lakecolor\":\"white\"},\"title\":{\"x\":0.05},\"mapbox\":{\"style\":\"light\"}}},\"xaxis\":{\"anchor\":\"y\",\"domain\":[0.0,1.0],\"title\":{\"text\":\"Manufacturer\"}},\"yaxis\":{\"anchor\":\"x\",\"domain\":[0.0,0.7326],\"title\":{\"text\":\"sum of Sales_in_thousands\"}},\"xaxis2\":{\"anchor\":\"y2\",\"domain\":[0.0,1.0],\"matches\":\"x\",\"showticklabels\":false,\"showgrid\":true},\"yaxis2\":{\"anchor\":\"x2\",\"domain\":[0.7426,1.0],\"matches\":\"y2\",\"showticklabels\":false,\"showline\":false,\"ticks\":\"\",\"showgrid\":false},\"legend\":{\"title\":{\"text\":\"Vehicle_type\"},\"tracegroupgap\":0},\"margin\":{\"t\":60},\"barmode\":\"relative\"},                        {\"responsive\": true}                    ).then(function(){\n",
       "                            \n",
       "var gd = document.getElementById('30a72026-2f85-48f9-8521-a6e4a02b28f1');\n",
       "var x = new MutationObserver(function (mutations, observer) {{\n",
       "        var display = window.getComputedStyle(gd).display;\n",
       "        if (!display || display === 'none') {{\n",
       "            console.log([gd, 'removed!']);\n",
       "            Plotly.purge(gd);\n",
       "            observer.disconnect();\n",
       "        }}\n",
       "}});\n",
       "\n",
       "// Listen for the removal of the full notebook cells\n",
       "var notebookContainer = gd.closest('#notebook-container');\n",
       "if (notebookContainer) {{\n",
       "    x.observe(notebookContainer, {childList: true});\n",
       "}}\n",
       "\n",
       "// Listen for the clearing of the current output cell\n",
       "var outputEl = gd.closest('.output');\n",
       "if (outputEl) {{\n",
       "    x.observe(outputEl, {childList: true});\n",
       "}}\n",
       "\n",
       "                        })                };                });            </script>        </div>"
      ]
     },
     "metadata": {},
     "output_type": "display_data"
    }
   ],
   "source": [
    "px.histogram(data, x=\"Manufacturer\", y=\"Sales_in_thousands\", color=\"Vehicle_type\",\n",
    " marginal=\"box\", # or violin, rug\n",
    " hover_data=data.columns)\n"
   ]
  },
  {
   "cell_type": "code",
   "execution_count": 41,
   "id": "b4a934f5",
   "metadata": {},
   "outputs": [
    {
     "data": {
      "application/vnd.plotly.v1+json": {
       "config": {
        "plotlyServerURL": "https://plot.ly"
       },
       "data": [
        {
         "branchvalues": "total",
         "domain": {
          "x": [
           0,
           1
          ],
          "y": [
           0,
           1
          ]
         },
         "hovertemplate": "labels=%{label}<br>__year_resale_value=%{value}<br>parent=%{parent}<br>id=%{id}<extra></extra>",
         "ids": [
          "Mitsubishi/Passenger/3000GT",
          "BMW/Passenger/328i",
          "Toyota/Car/4Runner",
          "BMW/Passenger/528i",
          "Audi/Passenger/A4",
          "Audi/Passenger/A6",
          "Audi/Passenger/A8",
          "Hyundai/Passenger/Accent",
          "Honda/Passenger/Accord",
          "Nissan/Passenger/Altima",
          "Oldsmobile/Passenger/Aurora",
          "Toyota/Passenger/Avalon",
          "Dodge/Passenger/Avenger",
          "Pontiac/Passenger/Bonneville",
          "Porsche/Passenger/Boxter",
          "Oldsmobile/Car/Bravada",
          "Plymouth/Passenger/Breeze",
          "Mercedes-B/Passenger/C-Class",
          "Honda/Car/CR-V",
          "Volkswagen/Passenger/Cabrio",
          "Chevrolet/Passenger/Camaro",
          "Toyota/Passenger/Camry",
          "Dodge/Car/Caravan",
          "Porsche/Passenger/Carrera Cabrio",
          "Porsche/Passenger/Carrera Coupe",
          "Cadillac/Passenger/Catera",
          "Chevrolet/Passenger/Cavalier",
          "Toyota/Passenger/Celica",
          "Buick/Passenger/Century",
          "Jeep/Car/Cherokee",
          "Chrysler/Passenger/Cirrus",
          "Honda/Passenger/Civic",
          "Chrysler/Passenger/Concorde",
          "Lincoln/Passenger/Continental",
          "Ford/Passenger/Contour",
          "Toyota/Passenger/Corolla",
          "Chevrolet/Passenger/Corvette",
          "Mercury/Passenger/Cougar",
          "Ford/Passenger/Crown Victoria",
          "Oldsmobile/Passenger/Cutlass",
          "Dodge/Car/Dakota",
          "Cadillac/Passenger/DeVille",
          "Mitsubishi/Passenger/Diamante",
          "Mercedes-B/Passenger/E-Class",
          "Lexus/Passenger/ES300",
          "Mitsubishi/Passenger/Eclipse",
          "Hyundai/Passenger/Elantra",
          "Cadillac/Passenger/Eldorado",
          "Ford/Passenger/Escort",
          "Ford/Car/Expedition",
          "Ford/Car/Explorer",
          "Ford/Car/F-Series",
          "Pontiac/Passenger/Firebird",
          "Lexus/Passenger/GS300",
          "Volkswagen/Passenger/GTI",
          "Mitsubishi/Passenger/Galant",
          "Volkswagen/Passenger/Golf",
          "Pontiac/Passenger/Grand Am",
          "Jeep/Car/Grand Cherokee",
          "Mercury/Passenger/Grand Marquis",
          "Pontiac/Passenger/Grand Prix",
          "Infiniti/Passenger/I30",
          "Acura/Passenger/Integra",
          "Volkswagen/Passenger/Jetta",
          "Chrysler/Passenger/LHS",
          "Lexus/Passenger/LS400",
          "Toyota/Car/Land Cruiser",
          "Buick/Passenger/LeSabre",
          "Chevrolet/Passenger/Lumina",
          "Chevrolet/Passenger/Malibu",
          "Nissan/Passenger/Maxima",
          "Chevrolet/Passenger/Metro",
          "Mitsubishi/Passenger/Mirage",
          "Chevrolet/Passenger/Monte Carlo",
          "Mitsubishi/Car/Montero",
          "Mitsubishi/Car/Montero Sport",
          "Mercury/Car/Mountaineer",
          "Ford/Passenger/Mustang",
          "Mercury/Passenger/Mystique",
          "Dodge/Passenger/Neon",
          "Plymouth/Passenger/Neon",
          "Honda/Car/Odyssey",
          "Buick/Passenger/Park Avenue",
          "Volkswagen/Passenger/Passat",
          "Honda/Car/Passport",
          "Nissan/Car/Pathfinder",
          "Chevrolet/Passenger/Prizm",
          "Nissan/Car/Quest",
          "Toyota/Car/RAV4",
          "Acura/Passenger/RL",
          "Dodge/Car/Ram Pickup",
          "Dodge/Car/Ram Van",
          "Dodge/Car/Ram Wagon",
          "Ford/Car/Ranger",
          "Buick/Passenger/Regal",
          "Mercedes-B/Passenger/S-Class",
          "Saturn/Passenger/SC",
          "Saturn/Passenger/SL",
          "Mercedes-B/Passenger/SL-Class",
          "Saturn/Passenger/SW",
          "Mercury/Passenger/Sable",
          "Chrysler/Passenger/Sebring Conv.",
          "Chrysler/Passenger/Sebring Coupe",
          "Nissan/Passenger/Sentra",
          "Oldsmobile/Car/Silhouette",
          "Hyundai/Passenger/Sonata",
          "Dodge/Passenger/Stratus",
          "Pontiac/Passenger/Sunfire",
          "Acura/Passenger/TL",
          "Toyota/Car/Tacoma",
          "Ford/Passenger/Taurus",
          "Lincoln/Passenger/Town car",
          "Mercury/Car/Villager",
          "Dodge/Passenger/Viper",
          "Plymouth/Car/Voyager",
          "Ford/Car/Windstar",
          "Jeep/Car/Wrangler",
          "Dodge/Car",
          "Ford/Car",
          "Honda/Car",
          "Jeep/Car",
          "Mercury/Car",
          "Mitsubishi/Car",
          "Nissan/Car",
          "Oldsmobile/Car",
          "Plymouth/Car",
          "Toyota/Car",
          "Acura/Passenger",
          "Audi/Passenger",
          "BMW/Passenger",
          "Buick/Passenger",
          "Cadillac/Passenger",
          "Chevrolet/Passenger",
          "Chrysler/Passenger",
          "Dodge/Passenger",
          "Ford/Passenger",
          "Honda/Passenger",
          "Hyundai/Passenger",
          "Infiniti/Passenger",
          "Lexus/Passenger",
          "Lincoln/Passenger",
          "Mercedes-B/Passenger",
          "Mercury/Passenger",
          "Mitsubishi/Passenger",
          "Nissan/Passenger",
          "Oldsmobile/Passenger",
          "Plymouth/Passenger",
          "Pontiac/Passenger",
          "Porsche/Passenger",
          "Saturn/Passenger",
          "Toyota/Passenger",
          "Volkswagen/Passenger",
          "Acura",
          "Audi",
          "BMW",
          "Buick",
          "Cadillac",
          "Chevrolet",
          "Chrysler",
          "Dodge",
          "Ford",
          "Honda",
          "Hyundai",
          "Infiniti",
          "Jeep",
          "Lexus",
          "Lincoln",
          "Mercedes-B",
          "Mercury",
          "Mitsubishi",
          "Nissan",
          "Oldsmobile",
          "Plymouth",
          "Pontiac",
          "Porsche",
          "Saturn",
          "Toyota",
          "Volkswagen"
         ],
         "labels": [
          "3000GT",
          "328i",
          "4Runner",
          "528i",
          "A4",
          "A6",
          "A8",
          "Accent",
          "Accord",
          "Altima",
          "Aurora",
          "Avalon",
          "Avenger",
          "Bonneville",
          "Boxter",
          "Bravada",
          "Breeze",
          "C-Class",
          "CR-V",
          "Cabrio",
          "Camaro",
          "Camry",
          "Caravan",
          "Carrera Cabrio",
          "Carrera Coupe",
          "Catera",
          "Cavalier",
          "Celica",
          "Century",
          "Cherokee",
          "Cirrus",
          "Civic",
          "Concorde",
          "Continental",
          "Contour",
          "Corolla",
          "Corvette",
          "Cougar",
          "Crown Victoria",
          "Cutlass",
          "Dakota",
          "DeVille",
          "Diamante",
          "E-Class",
          "ES300",
          "Eclipse",
          "Elantra",
          "Eldorado",
          "Escort",
          "Expedition",
          "Explorer",
          "F-Series",
          "Firebird",
          "GS300",
          "GTI",
          "Galant",
          "Golf",
          "Grand Am",
          "Grand Cherokee",
          "Grand Marquis",
          "Grand Prix",
          "I30",
          "Integra",
          "Jetta",
          "LHS",
          "LS400",
          "Land Cruiser",
          "LeSabre",
          "Lumina",
          "Malibu",
          "Maxima",
          "Metro",
          "Mirage",
          "Monte Carlo",
          "Montero",
          "Montero Sport",
          "Mountaineer",
          "Mustang",
          "Mystique",
          "Neon",
          "Neon",
          "Odyssey",
          "Park Avenue",
          "Passat",
          "Passport",
          "Pathfinder",
          "Prizm",
          "Quest",
          "RAV4",
          "RL",
          "Ram Pickup",
          "Ram Van",
          "Ram Wagon",
          "Ranger",
          "Regal",
          "S-Class",
          "SC",
          "SL",
          "SL-Class",
          "SW",
          "Sable",
          "Sebring Conv.",
          "Sebring Coupe",
          "Sentra",
          "Silhouette",
          "Sonata",
          "Stratus",
          "Sunfire",
          "TL",
          "Tacoma",
          "Taurus",
          "Town car",
          "Villager",
          "Viper",
          "Voyager",
          "Windstar",
          "Wrangler",
          "Car",
          "Car",
          "Car",
          "Car",
          "Car",
          "Car",
          "Car",
          "Car",
          "Car",
          "Car",
          "Passenger",
          "Passenger",
          "Passenger",
          "Passenger",
          "Passenger",
          "Passenger",
          "Passenger",
          "Passenger",
          "Passenger",
          "Passenger",
          "Passenger",
          "Passenger",
          "Passenger",
          "Passenger",
          "Passenger",
          "Passenger",
          "Passenger",
          "Passenger",
          "Passenger",
          "Passenger",
          "Passenger",
          "Passenger",
          "Passenger",
          "Passenger",
          "Passenger",
          "Acura",
          "Audi",
          "BMW",
          "Buick",
          "Cadillac",
          "Chevrolet",
          "Chrysler",
          "Dodge",
          "Ford",
          "Honda",
          "Hyundai",
          "Infiniti",
          "Jeep",
          "Lexus",
          "Lincoln",
          "Mercedes-B",
          "Mercury",
          "Mitsubishi",
          "Nissan",
          "Oldsmobile",
          "Plymouth",
          "Pontiac",
          "Porsche",
          "Saturn",
          "Toyota",
          "Volkswagen"
         ],
         "name": "",
         "parents": [
          "Mitsubishi/Passenger",
          "BMW/Passenger",
          "Toyota/Car",
          "BMW/Passenger",
          "Audi/Passenger",
          "Audi/Passenger",
          "Audi/Passenger",
          "Hyundai/Passenger",
          "Honda/Passenger",
          "Nissan/Passenger",
          "Oldsmobile/Passenger",
          "Toyota/Passenger",
          "Dodge/Passenger",
          "Pontiac/Passenger",
          "Porsche/Passenger",
          "Oldsmobile/Car",
          "Plymouth/Passenger",
          "Mercedes-B/Passenger",
          "Honda/Car",
          "Volkswagen/Passenger",
          "Chevrolet/Passenger",
          "Toyota/Passenger",
          "Dodge/Car",
          "Porsche/Passenger",
          "Porsche/Passenger",
          "Cadillac/Passenger",
          "Chevrolet/Passenger",
          "Toyota/Passenger",
          "Buick/Passenger",
          "Jeep/Car",
          "Chrysler/Passenger",
          "Honda/Passenger",
          "Chrysler/Passenger",
          "Lincoln/Passenger",
          "Ford/Passenger",
          "Toyota/Passenger",
          "Chevrolet/Passenger",
          "Mercury/Passenger",
          "Ford/Passenger",
          "Oldsmobile/Passenger",
          "Dodge/Car",
          "Cadillac/Passenger",
          "Mitsubishi/Passenger",
          "Mercedes-B/Passenger",
          "Lexus/Passenger",
          "Mitsubishi/Passenger",
          "Hyundai/Passenger",
          "Cadillac/Passenger",
          "Ford/Passenger",
          "Ford/Car",
          "Ford/Car",
          "Ford/Car",
          "Pontiac/Passenger",
          "Lexus/Passenger",
          "Volkswagen/Passenger",
          "Mitsubishi/Passenger",
          "Volkswagen/Passenger",
          "Pontiac/Passenger",
          "Jeep/Car",
          "Mercury/Passenger",
          "Pontiac/Passenger",
          "Infiniti/Passenger",
          "Acura/Passenger",
          "Volkswagen/Passenger",
          "Chrysler/Passenger",
          "Lexus/Passenger",
          "Toyota/Car",
          "Buick/Passenger",
          "Chevrolet/Passenger",
          "Chevrolet/Passenger",
          "Nissan/Passenger",
          "Chevrolet/Passenger",
          "Mitsubishi/Passenger",
          "Chevrolet/Passenger",
          "Mitsubishi/Car",
          "Mitsubishi/Car",
          "Mercury/Car",
          "Ford/Passenger",
          "Mercury/Passenger",
          "Dodge/Passenger",
          "Plymouth/Passenger",
          "Honda/Car",
          "Buick/Passenger",
          "Volkswagen/Passenger",
          "Honda/Car",
          "Nissan/Car",
          "Chevrolet/Passenger",
          "Nissan/Car",
          "Toyota/Car",
          "Acura/Passenger",
          "Dodge/Car",
          "Dodge/Car",
          "Dodge/Car",
          "Ford/Car",
          "Buick/Passenger",
          "Mercedes-B/Passenger",
          "Saturn/Passenger",
          "Saturn/Passenger",
          "Mercedes-B/Passenger",
          "Saturn/Passenger",
          "Mercury/Passenger",
          "Chrysler/Passenger",
          "Chrysler/Passenger",
          "Nissan/Passenger",
          "Oldsmobile/Car",
          "Hyundai/Passenger",
          "Dodge/Passenger",
          "Pontiac/Passenger",
          "Acura/Passenger",
          "Toyota/Car",
          "Ford/Passenger",
          "Lincoln/Passenger",
          "Mercury/Car",
          "Dodge/Passenger",
          "Plymouth/Car",
          "Ford/Car",
          "Jeep/Car",
          "Dodge",
          "Ford",
          "Honda",
          "Jeep",
          "Mercury",
          "Mitsubishi",
          "Nissan",
          "Oldsmobile",
          "Plymouth",
          "Toyota",
          "Acura",
          "Audi",
          "BMW",
          "Buick",
          "Cadillac",
          "Chevrolet",
          "Chrysler",
          "Dodge",
          "Ford",
          "Honda",
          "Hyundai",
          "Infiniti",
          "Lexus",
          "Lincoln",
          "Mercedes-B",
          "Mercury",
          "Mitsubishi",
          "Nissan",
          "Oldsmobile",
          "Plymouth",
          "Pontiac",
          "Porsche",
          "Saturn",
          "Toyota",
          "Volkswagen",
          "",
          "",
          "",
          "",
          "",
          "",
          "",
          "",
          "",
          "",
          "",
          "",
          "",
          "",
          "",
          "",
          "",
          "",
          "",
          "",
          "",
          "",
          "",
          "",
          "",
          ""
         ],
         "type": "sunburst",
         "values": [
          20.94,
          28.675,
          19.425,
          36.125,
          22.255,
          23.555,
          39,
          5.86,
          13.21,
          11.295,
          19.89,
          18.14,
          12.545,
          13.225,
          41.25,
          19.925,
          9.8,
          26.05,
          17.71,
          16.575,
          13.025,
          13.245,
          12.025,
          67.55,
          60.625,
          18.225,
          9.25,
          15.445,
          12.475,
          13.775,
          12.64,
          9.85,
          13.725,
          20.525,
          8.835,
          10.025,
          36.225,
          13.89,
          14.21,
          11.24,
          11.26,
          22.525,
          16.575,
          41.45,
          26.975,
          10.395,
          7.825,
          25.725,
          7.425,
          23.575,
          16.64,
          15.075,
          17.805,
          32.075,
          13.76,
          10.595,
          11.425,
          10.29,
          18.81,
          14.875,
          14.01,
          19.69,
          16.36,
          13.24,
          17.325,
          40.375,
          34.08,
          13.36,
          10.31,
          11.225,
          15.125,
          5.16,
          8.325,
          11.525,
          19.125,
          13.88,
          20.43,
          12.76,
          8.8,
          7.75,
          7.75,
          19.49,
          20.19,
          16.725,
          17.525,
          17.81,
          9.125,
          15.38,
          13.325,
          29.725,
          15.06,
          13.425,
          15.51,
          7.85,
          13.74,
          50.375,
          10.59,
          9.2,
          58.6,
          10.79,
          11.03,
          14.18,
          12.36,
          8.45,
          15.24,
          8.91,
          10.185,
          13.79,
          19.875,
          9.575,
          10.055,
          21.725,
          14.795,
          58.47,
          12.025,
          13.175,
          13.475,
          67.28,
          76.315,
          54.724999999999994,
          46.06,
          35.225,
          33.005,
          33.19,
          35.165,
          12.025,
          76.405,
          65.96000000000001,
          84.81,
          64.8,
          59.765,
          66.475,
          105.845,
          70.22999999999999,
          88.95,
          53.285000000000004,
          23.060000000000002,
          22.595,
          19.69,
          99.42500000000001,
          42.25,
          176.475,
          48.595,
          66.83,
          34.87,
          31.130000000000003,
          17.55,
          69.12,
          169.425,
          30.58,
          56.855000000000004,
          71.725,
          65.96000000000001,
          84.81,
          64.8,
          59.765,
          66.475,
          105.845,
          70.22999999999999,
          156.23000000000002,
          129.6,
          77.785,
          22.595,
          19.69,
          46.06,
          99.42500000000001,
          42.25,
          176.475,
          83.82,
          99.83500000000001,
          68.06,
          66.295,
          29.575000000000003,
          69.12,
          169.425,
          30.58,
          133.26,
          71.725
         ]
        }
       ],
       "layout": {
        "legend": {
         "tracegroupgap": 0
        },
        "margin": {
         "t": 60
        },
        "template": {
         "data": {
          "bar": [
           {
            "error_x": {
             "color": "#2a3f5f"
            },
            "error_y": {
             "color": "#2a3f5f"
            },
            "marker": {
             "line": {
              "color": "#E5ECF6",
              "width": 0.5
             },
             "pattern": {
              "fillmode": "overlay",
              "size": 10,
              "solidity": 0.2
             }
            },
            "type": "bar"
           }
          ],
          "barpolar": [
           {
            "marker": {
             "line": {
              "color": "#E5ECF6",
              "width": 0.5
             },
             "pattern": {
              "fillmode": "overlay",
              "size": 10,
              "solidity": 0.2
             }
            },
            "type": "barpolar"
           }
          ],
          "carpet": [
           {
            "aaxis": {
             "endlinecolor": "#2a3f5f",
             "gridcolor": "white",
             "linecolor": "white",
             "minorgridcolor": "white",
             "startlinecolor": "#2a3f5f"
            },
            "baxis": {
             "endlinecolor": "#2a3f5f",
             "gridcolor": "white",
             "linecolor": "white",
             "minorgridcolor": "white",
             "startlinecolor": "#2a3f5f"
            },
            "type": "carpet"
           }
          ],
          "choropleth": [
           {
            "colorbar": {
             "outlinewidth": 0,
             "ticks": ""
            },
            "type": "choropleth"
           }
          ],
          "contour": [
           {
            "colorbar": {
             "outlinewidth": 0,
             "ticks": ""
            },
            "colorscale": [
             [
              0,
              "#0d0887"
             ],
             [
              0.1111111111111111,
              "#46039f"
             ],
             [
              0.2222222222222222,
              "#7201a8"
             ],
             [
              0.3333333333333333,
              "#9c179e"
             ],
             [
              0.4444444444444444,
              "#bd3786"
             ],
             [
              0.5555555555555556,
              "#d8576b"
             ],
             [
              0.6666666666666666,
              "#ed7953"
             ],
             [
              0.7777777777777778,
              "#fb9f3a"
             ],
             [
              0.8888888888888888,
              "#fdca26"
             ],
             [
              1,
              "#f0f921"
             ]
            ],
            "type": "contour"
           }
          ],
          "contourcarpet": [
           {
            "colorbar": {
             "outlinewidth": 0,
             "ticks": ""
            },
            "type": "contourcarpet"
           }
          ],
          "heatmap": [
           {
            "colorbar": {
             "outlinewidth": 0,
             "ticks": ""
            },
            "colorscale": [
             [
              0,
              "#0d0887"
             ],
             [
              0.1111111111111111,
              "#46039f"
             ],
             [
              0.2222222222222222,
              "#7201a8"
             ],
             [
              0.3333333333333333,
              "#9c179e"
             ],
             [
              0.4444444444444444,
              "#bd3786"
             ],
             [
              0.5555555555555556,
              "#d8576b"
             ],
             [
              0.6666666666666666,
              "#ed7953"
             ],
             [
              0.7777777777777778,
              "#fb9f3a"
             ],
             [
              0.8888888888888888,
              "#fdca26"
             ],
             [
              1,
              "#f0f921"
             ]
            ],
            "type": "heatmap"
           }
          ],
          "heatmapgl": [
           {
            "colorbar": {
             "outlinewidth": 0,
             "ticks": ""
            },
            "colorscale": [
             [
              0,
              "#0d0887"
             ],
             [
              0.1111111111111111,
              "#46039f"
             ],
             [
              0.2222222222222222,
              "#7201a8"
             ],
             [
              0.3333333333333333,
              "#9c179e"
             ],
             [
              0.4444444444444444,
              "#bd3786"
             ],
             [
              0.5555555555555556,
              "#d8576b"
             ],
             [
              0.6666666666666666,
              "#ed7953"
             ],
             [
              0.7777777777777778,
              "#fb9f3a"
             ],
             [
              0.8888888888888888,
              "#fdca26"
             ],
             [
              1,
              "#f0f921"
             ]
            ],
            "type": "heatmapgl"
           }
          ],
          "histogram": [
           {
            "marker": {
             "pattern": {
              "fillmode": "overlay",
              "size": 10,
              "solidity": 0.2
             }
            },
            "type": "histogram"
           }
          ],
          "histogram2d": [
           {
            "colorbar": {
             "outlinewidth": 0,
             "ticks": ""
            },
            "colorscale": [
             [
              0,
              "#0d0887"
             ],
             [
              0.1111111111111111,
              "#46039f"
             ],
             [
              0.2222222222222222,
              "#7201a8"
             ],
             [
              0.3333333333333333,
              "#9c179e"
             ],
             [
              0.4444444444444444,
              "#bd3786"
             ],
             [
              0.5555555555555556,
              "#d8576b"
             ],
             [
              0.6666666666666666,
              "#ed7953"
             ],
             [
              0.7777777777777778,
              "#fb9f3a"
             ],
             [
              0.8888888888888888,
              "#fdca26"
             ],
             [
              1,
              "#f0f921"
             ]
            ],
            "type": "histogram2d"
           }
          ],
          "histogram2dcontour": [
           {
            "colorbar": {
             "outlinewidth": 0,
             "ticks": ""
            },
            "colorscale": [
             [
              0,
              "#0d0887"
             ],
             [
              0.1111111111111111,
              "#46039f"
             ],
             [
              0.2222222222222222,
              "#7201a8"
             ],
             [
              0.3333333333333333,
              "#9c179e"
             ],
             [
              0.4444444444444444,
              "#bd3786"
             ],
             [
              0.5555555555555556,
              "#d8576b"
             ],
             [
              0.6666666666666666,
              "#ed7953"
             ],
             [
              0.7777777777777778,
              "#fb9f3a"
             ],
             [
              0.8888888888888888,
              "#fdca26"
             ],
             [
              1,
              "#f0f921"
             ]
            ],
            "type": "histogram2dcontour"
           }
          ],
          "mesh3d": [
           {
            "colorbar": {
             "outlinewidth": 0,
             "ticks": ""
            },
            "type": "mesh3d"
           }
          ],
          "parcoords": [
           {
            "line": {
             "colorbar": {
              "outlinewidth": 0,
              "ticks": ""
             }
            },
            "type": "parcoords"
           }
          ],
          "pie": [
           {
            "automargin": true,
            "type": "pie"
           }
          ],
          "scatter": [
           {
            "fillpattern": {
             "fillmode": "overlay",
             "size": 10,
             "solidity": 0.2
            },
            "type": "scatter"
           }
          ],
          "scatter3d": [
           {
            "line": {
             "colorbar": {
              "outlinewidth": 0,
              "ticks": ""
             }
            },
            "marker": {
             "colorbar": {
              "outlinewidth": 0,
              "ticks": ""
             }
            },
            "type": "scatter3d"
           }
          ],
          "scattercarpet": [
           {
            "marker": {
             "colorbar": {
              "outlinewidth": 0,
              "ticks": ""
             }
            },
            "type": "scattercarpet"
           }
          ],
          "scattergeo": [
           {
            "marker": {
             "colorbar": {
              "outlinewidth": 0,
              "ticks": ""
             }
            },
            "type": "scattergeo"
           }
          ],
          "scattergl": [
           {
            "marker": {
             "colorbar": {
              "outlinewidth": 0,
              "ticks": ""
             }
            },
            "type": "scattergl"
           }
          ],
          "scattermapbox": [
           {
            "marker": {
             "colorbar": {
              "outlinewidth": 0,
              "ticks": ""
             }
            },
            "type": "scattermapbox"
           }
          ],
          "scatterpolar": [
           {
            "marker": {
             "colorbar": {
              "outlinewidth": 0,
              "ticks": ""
             }
            },
            "type": "scatterpolar"
           }
          ],
          "scatterpolargl": [
           {
            "marker": {
             "colorbar": {
              "outlinewidth": 0,
              "ticks": ""
             }
            },
            "type": "scatterpolargl"
           }
          ],
          "scatterternary": [
           {
            "marker": {
             "colorbar": {
              "outlinewidth": 0,
              "ticks": ""
             }
            },
            "type": "scatterternary"
           }
          ],
          "surface": [
           {
            "colorbar": {
             "outlinewidth": 0,
             "ticks": ""
            },
            "colorscale": [
             [
              0,
              "#0d0887"
             ],
             [
              0.1111111111111111,
              "#46039f"
             ],
             [
              0.2222222222222222,
              "#7201a8"
             ],
             [
              0.3333333333333333,
              "#9c179e"
             ],
             [
              0.4444444444444444,
              "#bd3786"
             ],
             [
              0.5555555555555556,
              "#d8576b"
             ],
             [
              0.6666666666666666,
              "#ed7953"
             ],
             [
              0.7777777777777778,
              "#fb9f3a"
             ],
             [
              0.8888888888888888,
              "#fdca26"
             ],
             [
              1,
              "#f0f921"
             ]
            ],
            "type": "surface"
           }
          ],
          "table": [
           {
            "cells": {
             "fill": {
              "color": "#EBF0F8"
             },
             "line": {
              "color": "white"
             }
            },
            "header": {
             "fill": {
              "color": "#C8D4E3"
             },
             "line": {
              "color": "white"
             }
            },
            "type": "table"
           }
          ]
         },
         "layout": {
          "annotationdefaults": {
           "arrowcolor": "#2a3f5f",
           "arrowhead": 0,
           "arrowwidth": 1
          },
          "autotypenumbers": "strict",
          "coloraxis": {
           "colorbar": {
            "outlinewidth": 0,
            "ticks": ""
           }
          },
          "colorscale": {
           "diverging": [
            [
             0,
             "#8e0152"
            ],
            [
             0.1,
             "#c51b7d"
            ],
            [
             0.2,
             "#de77ae"
            ],
            [
             0.3,
             "#f1b6da"
            ],
            [
             0.4,
             "#fde0ef"
            ],
            [
             0.5,
             "#f7f7f7"
            ],
            [
             0.6,
             "#e6f5d0"
            ],
            [
             0.7,
             "#b8e186"
            ],
            [
             0.8,
             "#7fbc41"
            ],
            [
             0.9,
             "#4d9221"
            ],
            [
             1,
             "#276419"
            ]
           ],
           "sequential": [
            [
             0,
             "#0d0887"
            ],
            [
             0.1111111111111111,
             "#46039f"
            ],
            [
             0.2222222222222222,
             "#7201a8"
            ],
            [
             0.3333333333333333,
             "#9c179e"
            ],
            [
             0.4444444444444444,
             "#bd3786"
            ],
            [
             0.5555555555555556,
             "#d8576b"
            ],
            [
             0.6666666666666666,
             "#ed7953"
            ],
            [
             0.7777777777777778,
             "#fb9f3a"
            ],
            [
             0.8888888888888888,
             "#fdca26"
            ],
            [
             1,
             "#f0f921"
            ]
           ],
           "sequentialminus": [
            [
             0,
             "#0d0887"
            ],
            [
             0.1111111111111111,
             "#46039f"
            ],
            [
             0.2222222222222222,
             "#7201a8"
            ],
            [
             0.3333333333333333,
             "#9c179e"
            ],
            [
             0.4444444444444444,
             "#bd3786"
            ],
            [
             0.5555555555555556,
             "#d8576b"
            ],
            [
             0.6666666666666666,
             "#ed7953"
            ],
            [
             0.7777777777777778,
             "#fb9f3a"
            ],
            [
             0.8888888888888888,
             "#fdca26"
            ],
            [
             1,
             "#f0f921"
            ]
           ]
          },
          "colorway": [
           "#636efa",
           "#EF553B",
           "#00cc96",
           "#ab63fa",
           "#FFA15A",
           "#19d3f3",
           "#FF6692",
           "#B6E880",
           "#FF97FF",
           "#FECB52"
          ],
          "font": {
           "color": "#2a3f5f"
          },
          "geo": {
           "bgcolor": "white",
           "lakecolor": "white",
           "landcolor": "#E5ECF6",
           "showlakes": true,
           "showland": true,
           "subunitcolor": "white"
          },
          "hoverlabel": {
           "align": "left"
          },
          "hovermode": "closest",
          "mapbox": {
           "style": "light"
          },
          "paper_bgcolor": "white",
          "plot_bgcolor": "#E5ECF6",
          "polar": {
           "angularaxis": {
            "gridcolor": "white",
            "linecolor": "white",
            "ticks": ""
           },
           "bgcolor": "#E5ECF6",
           "radialaxis": {
            "gridcolor": "white",
            "linecolor": "white",
            "ticks": ""
           }
          },
          "scene": {
           "xaxis": {
            "backgroundcolor": "#E5ECF6",
            "gridcolor": "white",
            "gridwidth": 2,
            "linecolor": "white",
            "showbackground": true,
            "ticks": "",
            "zerolinecolor": "white"
           },
           "yaxis": {
            "backgroundcolor": "#E5ECF6",
            "gridcolor": "white",
            "gridwidth": 2,
            "linecolor": "white",
            "showbackground": true,
            "ticks": "",
            "zerolinecolor": "white"
           },
           "zaxis": {
            "backgroundcolor": "#E5ECF6",
            "gridcolor": "white",
            "gridwidth": 2,
            "linecolor": "white",
            "showbackground": true,
            "ticks": "",
            "zerolinecolor": "white"
           }
          },
          "shapedefaults": {
           "line": {
            "color": "#2a3f5f"
           }
          },
          "ternary": {
           "aaxis": {
            "gridcolor": "white",
            "linecolor": "white",
            "ticks": ""
           },
           "baxis": {
            "gridcolor": "white",
            "linecolor": "white",
            "ticks": ""
           },
           "bgcolor": "#E5ECF6",
           "caxis": {
            "gridcolor": "white",
            "linecolor": "white",
            "ticks": ""
           }
          },
          "title": {
           "x": 0.05
          },
          "xaxis": {
           "automargin": true,
           "gridcolor": "white",
           "linecolor": "white",
           "ticks": "",
           "title": {
            "standoff": 15
           },
           "zerolinecolor": "white",
           "zerolinewidth": 2
          },
          "yaxis": {
           "automargin": true,
           "gridcolor": "white",
           "linecolor": "white",
           "ticks": "",
           "title": {
            "standoff": 15
           },
           "zerolinecolor": "white",
           "zerolinewidth": 2
          }
         }
        }
       }
      },
      "text/html": [
       "<div>                            <div id=\"ea8d10b2-7429-4eb4-ace3-aebd79686669\" class=\"plotly-graph-div\" style=\"height:525px; width:100%;\"></div>            <script type=\"text/javascript\">                require([\"plotly\"], function(Plotly) {                    window.PLOTLYENV=window.PLOTLYENV || {};                                    if (document.getElementById(\"ea8d10b2-7429-4eb4-ace3-aebd79686669\")) {                    Plotly.newPlot(                        \"ea8d10b2-7429-4eb4-ace3-aebd79686669\",                        [{\"branchvalues\":\"total\",\"domain\":{\"x\":[0.0,1.0],\"y\":[0.0,1.0]},\"hovertemplate\":\"labels=%{label}<br>__year_resale_value=%{value}<br>parent=%{parent}<br>id=%{id}<extra></extra>\",\"ids\":[\"Mitsubishi/Passenger/3000GT\",\"BMW/Passenger/328i\",\"Toyota/Car/4Runner\",\"BMW/Passenger/528i\",\"Audi/Passenger/A4\",\"Audi/Passenger/A6\",\"Audi/Passenger/A8\",\"Hyundai/Passenger/Accent\",\"Honda/Passenger/Accord\",\"Nissan/Passenger/Altima\",\"Oldsmobile/Passenger/Aurora\",\"Toyota/Passenger/Avalon\",\"Dodge/Passenger/Avenger\",\"Pontiac/Passenger/Bonneville\",\"Porsche/Passenger/Boxter\",\"Oldsmobile/Car/Bravada\",\"Plymouth/Passenger/Breeze\",\"Mercedes-B/Passenger/C-Class\",\"Honda/Car/CR-V\",\"Volkswagen/Passenger/Cabrio\",\"Chevrolet/Passenger/Camaro\",\"Toyota/Passenger/Camry\",\"Dodge/Car/Caravan\",\"Porsche/Passenger/Carrera Cabrio\",\"Porsche/Passenger/Carrera Coupe\",\"Cadillac/Passenger/Catera\",\"Chevrolet/Passenger/Cavalier\",\"Toyota/Passenger/Celica\",\"Buick/Passenger/Century\",\"Jeep/Car/Cherokee\",\"Chrysler/Passenger/Cirrus\",\"Honda/Passenger/Civic\",\"Chrysler/Passenger/Concorde\",\"Lincoln/Passenger/Continental\",\"Ford/Passenger/Contour\",\"Toyota/Passenger/Corolla\",\"Chevrolet/Passenger/Corvette\",\"Mercury/Passenger/Cougar\",\"Ford/Passenger/Crown Victoria\",\"Oldsmobile/Passenger/Cutlass\",\"Dodge/Car/Dakota\",\"Cadillac/Passenger/DeVille\",\"Mitsubishi/Passenger/Diamante\",\"Mercedes-B/Passenger/E-Class\",\"Lexus/Passenger/ES300\",\"Mitsubishi/Passenger/Eclipse\",\"Hyundai/Passenger/Elantra\",\"Cadillac/Passenger/Eldorado\",\"Ford/Passenger/Escort\",\"Ford/Car/Expedition\",\"Ford/Car/Explorer\",\"Ford/Car/F-Series\",\"Pontiac/Passenger/Firebird\",\"Lexus/Passenger/GS300\",\"Volkswagen/Passenger/GTI\",\"Mitsubishi/Passenger/Galant\",\"Volkswagen/Passenger/Golf\",\"Pontiac/Passenger/Grand Am\",\"Jeep/Car/Grand Cherokee\",\"Mercury/Passenger/Grand Marquis\",\"Pontiac/Passenger/Grand Prix\",\"Infiniti/Passenger/I30\",\"Acura/Passenger/Integra\",\"Volkswagen/Passenger/Jetta\",\"Chrysler/Passenger/LHS\",\"Lexus/Passenger/LS400\",\"Toyota/Car/Land Cruiser\",\"Buick/Passenger/LeSabre\",\"Chevrolet/Passenger/Lumina\",\"Chevrolet/Passenger/Malibu\",\"Nissan/Passenger/Maxima\",\"Chevrolet/Passenger/Metro\",\"Mitsubishi/Passenger/Mirage\",\"Chevrolet/Passenger/Monte Carlo\",\"Mitsubishi/Car/Montero\",\"Mitsubishi/Car/Montero Sport\",\"Mercury/Car/Mountaineer\",\"Ford/Passenger/Mustang\",\"Mercury/Passenger/Mystique\",\"Dodge/Passenger/Neon\",\"Plymouth/Passenger/Neon\",\"Honda/Car/Odyssey\",\"Buick/Passenger/Park Avenue\",\"Volkswagen/Passenger/Passat\",\"Honda/Car/Passport\",\"Nissan/Car/Pathfinder\",\"Chevrolet/Passenger/Prizm\",\"Nissan/Car/Quest\",\"Toyota/Car/RAV4\",\"Acura/Passenger/RL\",\"Dodge/Car/Ram Pickup\",\"Dodge/Car/Ram Van\",\"Dodge/Car/Ram Wagon\",\"Ford/Car/Ranger\",\"Buick/Passenger/Regal\",\"Mercedes-B/Passenger/S-Class\",\"Saturn/Passenger/SC\",\"Saturn/Passenger/SL\",\"Mercedes-B/Passenger/SL-Class\",\"Saturn/Passenger/SW\",\"Mercury/Passenger/Sable\",\"Chrysler/Passenger/Sebring Conv.\",\"Chrysler/Passenger/Sebring Coupe\",\"Nissan/Passenger/Sentra\",\"Oldsmobile/Car/Silhouette\",\"Hyundai/Passenger/Sonata\",\"Dodge/Passenger/Stratus\",\"Pontiac/Passenger/Sunfire\",\"Acura/Passenger/TL\",\"Toyota/Car/Tacoma\",\"Ford/Passenger/Taurus\",\"Lincoln/Passenger/Town car\",\"Mercury/Car/Villager\",\"Dodge/Passenger/Viper\",\"Plymouth/Car/Voyager\",\"Ford/Car/Windstar\",\"Jeep/Car/Wrangler\",\"Dodge/Car\",\"Ford/Car\",\"Honda/Car\",\"Jeep/Car\",\"Mercury/Car\",\"Mitsubishi/Car\",\"Nissan/Car\",\"Oldsmobile/Car\",\"Plymouth/Car\",\"Toyota/Car\",\"Acura/Passenger\",\"Audi/Passenger\",\"BMW/Passenger\",\"Buick/Passenger\",\"Cadillac/Passenger\",\"Chevrolet/Passenger\",\"Chrysler/Passenger\",\"Dodge/Passenger\",\"Ford/Passenger\",\"Honda/Passenger\",\"Hyundai/Passenger\",\"Infiniti/Passenger\",\"Lexus/Passenger\",\"Lincoln/Passenger\",\"Mercedes-B/Passenger\",\"Mercury/Passenger\",\"Mitsubishi/Passenger\",\"Nissan/Passenger\",\"Oldsmobile/Passenger\",\"Plymouth/Passenger\",\"Pontiac/Passenger\",\"Porsche/Passenger\",\"Saturn/Passenger\",\"Toyota/Passenger\",\"Volkswagen/Passenger\",\"Acura\",\"Audi\",\"BMW\",\"Buick\",\"Cadillac\",\"Chevrolet\",\"Chrysler\",\"Dodge\",\"Ford\",\"Honda\",\"Hyundai\",\"Infiniti\",\"Jeep\",\"Lexus\",\"Lincoln\",\"Mercedes-B\",\"Mercury\",\"Mitsubishi\",\"Nissan\",\"Oldsmobile\",\"Plymouth\",\"Pontiac\",\"Porsche\",\"Saturn\",\"Toyota\",\"Volkswagen\"],\"labels\":[\"3000GT\",\"328i\",\"4Runner\",\"528i\",\"A4\",\"A6\",\"A8\",\"Accent\",\"Accord\",\"Altima\",\"Aurora\",\"Avalon\",\"Avenger\",\"Bonneville\",\"Boxter\",\"Bravada\",\"Breeze\",\"C-Class\",\"CR-V\",\"Cabrio\",\"Camaro\",\"Camry\",\"Caravan\",\"Carrera Cabrio\",\"Carrera Coupe\",\"Catera\",\"Cavalier\",\"Celica\",\"Century\",\"Cherokee\",\"Cirrus\",\"Civic\",\"Concorde\",\"Continental\",\"Contour\",\"Corolla\",\"Corvette\",\"Cougar\",\"Crown Victoria\",\"Cutlass\",\"Dakota\",\"DeVille\",\"Diamante\",\"E-Class\",\"ES300\",\"Eclipse\",\"Elantra\",\"Eldorado\",\"Escort\",\"Expedition\",\"Explorer\",\"F-Series\",\"Firebird\",\"GS300\",\"GTI\",\"Galant\",\"Golf\",\"Grand Am\",\"Grand Cherokee\",\"Grand Marquis\",\"Grand Prix\",\"I30\",\"Integra\",\"Jetta\",\"LHS\",\"LS400\",\"Land Cruiser\",\"LeSabre\",\"Lumina\",\"Malibu\",\"Maxima\",\"Metro\",\"Mirage\",\"Monte Carlo\",\"Montero\",\"Montero Sport\",\"Mountaineer\",\"Mustang\",\"Mystique\",\"Neon\",\"Neon\",\"Odyssey\",\"Park Avenue\",\"Passat\",\"Passport\",\"Pathfinder\",\"Prizm\",\"Quest\",\"RAV4\",\"RL\",\"Ram Pickup\",\"Ram Van\",\"Ram Wagon\",\"Ranger\",\"Regal\",\"S-Class\",\"SC\",\"SL\",\"SL-Class\",\"SW\",\"Sable\",\"Sebring Conv.\",\"Sebring Coupe\",\"Sentra\",\"Silhouette\",\"Sonata\",\"Stratus\",\"Sunfire\",\"TL\",\"Tacoma\",\"Taurus\",\"Town car\",\"Villager\",\"Viper\",\"Voyager\",\"Windstar\",\"Wrangler\",\"Car\",\"Car\",\"Car\",\"Car\",\"Car\",\"Car\",\"Car\",\"Car\",\"Car\",\"Car\",\"Passenger\",\"Passenger\",\"Passenger\",\"Passenger\",\"Passenger\",\"Passenger\",\"Passenger\",\"Passenger\",\"Passenger\",\"Passenger\",\"Passenger\",\"Passenger\",\"Passenger\",\"Passenger\",\"Passenger\",\"Passenger\",\"Passenger\",\"Passenger\",\"Passenger\",\"Passenger\",\"Passenger\",\"Passenger\",\"Passenger\",\"Passenger\",\"Passenger\",\"Acura\",\"Audi\",\"BMW\",\"Buick\",\"Cadillac\",\"Chevrolet\",\"Chrysler\",\"Dodge\",\"Ford\",\"Honda\",\"Hyundai\",\"Infiniti\",\"Jeep\",\"Lexus\",\"Lincoln\",\"Mercedes-B\",\"Mercury\",\"Mitsubishi\",\"Nissan\",\"Oldsmobile\",\"Plymouth\",\"Pontiac\",\"Porsche\",\"Saturn\",\"Toyota\",\"Volkswagen\"],\"name\":\"\",\"parents\":[\"Mitsubishi/Passenger\",\"BMW/Passenger\",\"Toyota/Car\",\"BMW/Passenger\",\"Audi/Passenger\",\"Audi/Passenger\",\"Audi/Passenger\",\"Hyundai/Passenger\",\"Honda/Passenger\",\"Nissan/Passenger\",\"Oldsmobile/Passenger\",\"Toyota/Passenger\",\"Dodge/Passenger\",\"Pontiac/Passenger\",\"Porsche/Passenger\",\"Oldsmobile/Car\",\"Plymouth/Passenger\",\"Mercedes-B/Passenger\",\"Honda/Car\",\"Volkswagen/Passenger\",\"Chevrolet/Passenger\",\"Toyota/Passenger\",\"Dodge/Car\",\"Porsche/Passenger\",\"Porsche/Passenger\",\"Cadillac/Passenger\",\"Chevrolet/Passenger\",\"Toyota/Passenger\",\"Buick/Passenger\",\"Jeep/Car\",\"Chrysler/Passenger\",\"Honda/Passenger\",\"Chrysler/Passenger\",\"Lincoln/Passenger\",\"Ford/Passenger\",\"Toyota/Passenger\",\"Chevrolet/Passenger\",\"Mercury/Passenger\",\"Ford/Passenger\",\"Oldsmobile/Passenger\",\"Dodge/Car\",\"Cadillac/Passenger\",\"Mitsubishi/Passenger\",\"Mercedes-B/Passenger\",\"Lexus/Passenger\",\"Mitsubishi/Passenger\",\"Hyundai/Passenger\",\"Cadillac/Passenger\",\"Ford/Passenger\",\"Ford/Car\",\"Ford/Car\",\"Ford/Car\",\"Pontiac/Passenger\",\"Lexus/Passenger\",\"Volkswagen/Passenger\",\"Mitsubishi/Passenger\",\"Volkswagen/Passenger\",\"Pontiac/Passenger\",\"Jeep/Car\",\"Mercury/Passenger\",\"Pontiac/Passenger\",\"Infiniti/Passenger\",\"Acura/Passenger\",\"Volkswagen/Passenger\",\"Chrysler/Passenger\",\"Lexus/Passenger\",\"Toyota/Car\",\"Buick/Passenger\",\"Chevrolet/Passenger\",\"Chevrolet/Passenger\",\"Nissan/Passenger\",\"Chevrolet/Passenger\",\"Mitsubishi/Passenger\",\"Chevrolet/Passenger\",\"Mitsubishi/Car\",\"Mitsubishi/Car\",\"Mercury/Car\",\"Ford/Passenger\",\"Mercury/Passenger\",\"Dodge/Passenger\",\"Plymouth/Passenger\",\"Honda/Car\",\"Buick/Passenger\",\"Volkswagen/Passenger\",\"Honda/Car\",\"Nissan/Car\",\"Chevrolet/Passenger\",\"Nissan/Car\",\"Toyota/Car\",\"Acura/Passenger\",\"Dodge/Car\",\"Dodge/Car\",\"Dodge/Car\",\"Ford/Car\",\"Buick/Passenger\",\"Mercedes-B/Passenger\",\"Saturn/Passenger\",\"Saturn/Passenger\",\"Mercedes-B/Passenger\",\"Saturn/Passenger\",\"Mercury/Passenger\",\"Chrysler/Passenger\",\"Chrysler/Passenger\",\"Nissan/Passenger\",\"Oldsmobile/Car\",\"Hyundai/Passenger\",\"Dodge/Passenger\",\"Pontiac/Passenger\",\"Acura/Passenger\",\"Toyota/Car\",\"Ford/Passenger\",\"Lincoln/Passenger\",\"Mercury/Car\",\"Dodge/Passenger\",\"Plymouth/Car\",\"Ford/Car\",\"Jeep/Car\",\"Dodge\",\"Ford\",\"Honda\",\"Jeep\",\"Mercury\",\"Mitsubishi\",\"Nissan\",\"Oldsmobile\",\"Plymouth\",\"Toyota\",\"Acura\",\"Audi\",\"BMW\",\"Buick\",\"Cadillac\",\"Chevrolet\",\"Chrysler\",\"Dodge\",\"Ford\",\"Honda\",\"Hyundai\",\"Infiniti\",\"Lexus\",\"Lincoln\",\"Mercedes-B\",\"Mercury\",\"Mitsubishi\",\"Nissan\",\"Oldsmobile\",\"Plymouth\",\"Pontiac\",\"Porsche\",\"Saturn\",\"Toyota\",\"Volkswagen\",\"\",\"\",\"\",\"\",\"\",\"\",\"\",\"\",\"\",\"\",\"\",\"\",\"\",\"\",\"\",\"\",\"\",\"\",\"\",\"\",\"\",\"\",\"\",\"\",\"\",\"\"],\"values\":[20.94,28.675,19.425,36.125,22.255,23.555,39.0,5.86,13.21,11.295,19.89,18.14,12.545,13.225,41.25,19.925,9.8,26.05,17.71,16.575,13.025,13.245,12.025,67.55,60.625,18.225,9.25,15.445,12.475,13.775,12.64,9.85,13.725,20.525,8.835,10.025,36.225,13.89,14.21,11.24,11.26,22.525,16.575,41.45,26.975,10.395,7.825,25.725,7.425,23.575,16.64,15.075,17.805,32.075,13.76,10.595,11.425,10.29,18.81,14.875,14.01,19.69,16.36,13.24,17.325,40.375,34.08,13.36,10.31,11.225,15.125,5.16,8.325,11.525,19.125,13.88,20.43,12.76,8.8,7.75,7.75,19.49,20.19,16.725,17.525,17.81,9.125,15.38,13.325,29.725,15.06,13.425,15.51,7.85,13.74,50.375,10.59,9.2,58.6,10.79,11.03,14.18,12.36,8.45,15.24,8.91,10.185,13.79,19.875,9.575,10.055,21.725,14.795,58.47,12.025,13.175,13.475,67.28,76.315,54.724999999999994,46.06,35.225,33.005,33.19,35.165,12.025,76.405,65.96000000000001,84.81,64.8,59.765,66.475,105.845,70.22999999999999,88.95,53.285000000000004,23.060000000000002,22.595,19.69,99.42500000000001,42.25,176.475,48.595,66.83,34.87,31.130000000000003,17.55,69.12,169.425,30.58,56.855000000000004,71.725,65.96000000000001,84.81,64.8,59.765,66.475,105.845,70.22999999999999,156.23000000000002,129.6,77.785,22.595,19.69,46.06,99.42500000000001,42.25,176.475,83.82,99.83500000000001,68.06,66.295,29.575000000000003,69.12,169.425,30.58,133.26,71.725],\"type\":\"sunburst\"}],                        {\"template\":{\"data\":{\"histogram2dcontour\":[{\"type\":\"histogram2dcontour\",\"colorbar\":{\"outlinewidth\":0,\"ticks\":\"\"},\"colorscale\":[[0.0,\"#0d0887\"],[0.1111111111111111,\"#46039f\"],[0.2222222222222222,\"#7201a8\"],[0.3333333333333333,\"#9c179e\"],[0.4444444444444444,\"#bd3786\"],[0.5555555555555556,\"#d8576b\"],[0.6666666666666666,\"#ed7953\"],[0.7777777777777778,\"#fb9f3a\"],[0.8888888888888888,\"#fdca26\"],[1.0,\"#f0f921\"]]}],\"choropleth\":[{\"type\":\"choropleth\",\"colorbar\":{\"outlinewidth\":0,\"ticks\":\"\"}}],\"histogram2d\":[{\"type\":\"histogram2d\",\"colorbar\":{\"outlinewidth\":0,\"ticks\":\"\"},\"colorscale\":[[0.0,\"#0d0887\"],[0.1111111111111111,\"#46039f\"],[0.2222222222222222,\"#7201a8\"],[0.3333333333333333,\"#9c179e\"],[0.4444444444444444,\"#bd3786\"],[0.5555555555555556,\"#d8576b\"],[0.6666666666666666,\"#ed7953\"],[0.7777777777777778,\"#fb9f3a\"],[0.8888888888888888,\"#fdca26\"],[1.0,\"#f0f921\"]]}],\"heatmap\":[{\"type\":\"heatmap\",\"colorbar\":{\"outlinewidth\":0,\"ticks\":\"\"},\"colorscale\":[[0.0,\"#0d0887\"],[0.1111111111111111,\"#46039f\"],[0.2222222222222222,\"#7201a8\"],[0.3333333333333333,\"#9c179e\"],[0.4444444444444444,\"#bd3786\"],[0.5555555555555556,\"#d8576b\"],[0.6666666666666666,\"#ed7953\"],[0.7777777777777778,\"#fb9f3a\"],[0.8888888888888888,\"#fdca26\"],[1.0,\"#f0f921\"]]}],\"heatmapgl\":[{\"type\":\"heatmapgl\",\"colorbar\":{\"outlinewidth\":0,\"ticks\":\"\"},\"colorscale\":[[0.0,\"#0d0887\"],[0.1111111111111111,\"#46039f\"],[0.2222222222222222,\"#7201a8\"],[0.3333333333333333,\"#9c179e\"],[0.4444444444444444,\"#bd3786\"],[0.5555555555555556,\"#d8576b\"],[0.6666666666666666,\"#ed7953\"],[0.7777777777777778,\"#fb9f3a\"],[0.8888888888888888,\"#fdca26\"],[1.0,\"#f0f921\"]]}],\"contourcarpet\":[{\"type\":\"contourcarpet\",\"colorbar\":{\"outlinewidth\":0,\"ticks\":\"\"}}],\"contour\":[{\"type\":\"contour\",\"colorbar\":{\"outlinewidth\":0,\"ticks\":\"\"},\"colorscale\":[[0.0,\"#0d0887\"],[0.1111111111111111,\"#46039f\"],[0.2222222222222222,\"#7201a8\"],[0.3333333333333333,\"#9c179e\"],[0.4444444444444444,\"#bd3786\"],[0.5555555555555556,\"#d8576b\"],[0.6666666666666666,\"#ed7953\"],[0.7777777777777778,\"#fb9f3a\"],[0.8888888888888888,\"#fdca26\"],[1.0,\"#f0f921\"]]}],\"surface\":[{\"type\":\"surface\",\"colorbar\":{\"outlinewidth\":0,\"ticks\":\"\"},\"colorscale\":[[0.0,\"#0d0887\"],[0.1111111111111111,\"#46039f\"],[0.2222222222222222,\"#7201a8\"],[0.3333333333333333,\"#9c179e\"],[0.4444444444444444,\"#bd3786\"],[0.5555555555555556,\"#d8576b\"],[0.6666666666666666,\"#ed7953\"],[0.7777777777777778,\"#fb9f3a\"],[0.8888888888888888,\"#fdca26\"],[1.0,\"#f0f921\"]]}],\"mesh3d\":[{\"type\":\"mesh3d\",\"colorbar\":{\"outlinewidth\":0,\"ticks\":\"\"}}],\"scatter\":[{\"fillpattern\":{\"fillmode\":\"overlay\",\"size\":10,\"solidity\":0.2},\"type\":\"scatter\"}],\"parcoords\":[{\"type\":\"parcoords\",\"line\":{\"colorbar\":{\"outlinewidth\":0,\"ticks\":\"\"}}}],\"scatterpolargl\":[{\"type\":\"scatterpolargl\",\"marker\":{\"colorbar\":{\"outlinewidth\":0,\"ticks\":\"\"}}}],\"bar\":[{\"error_x\":{\"color\":\"#2a3f5f\"},\"error_y\":{\"color\":\"#2a3f5f\"},\"marker\":{\"line\":{\"color\":\"#E5ECF6\",\"width\":0.5},\"pattern\":{\"fillmode\":\"overlay\",\"size\":10,\"solidity\":0.2}},\"type\":\"bar\"}],\"scattergeo\":[{\"type\":\"scattergeo\",\"marker\":{\"colorbar\":{\"outlinewidth\":0,\"ticks\":\"\"}}}],\"scatterpolar\":[{\"type\":\"scatterpolar\",\"marker\":{\"colorbar\":{\"outlinewidth\":0,\"ticks\":\"\"}}}],\"histogram\":[{\"marker\":{\"pattern\":{\"fillmode\":\"overlay\",\"size\":10,\"solidity\":0.2}},\"type\":\"histogram\"}],\"scattergl\":[{\"type\":\"scattergl\",\"marker\":{\"colorbar\":{\"outlinewidth\":0,\"ticks\":\"\"}}}],\"scatter3d\":[{\"type\":\"scatter3d\",\"line\":{\"colorbar\":{\"outlinewidth\":0,\"ticks\":\"\"}},\"marker\":{\"colorbar\":{\"outlinewidth\":0,\"ticks\":\"\"}}}],\"scattermapbox\":[{\"type\":\"scattermapbox\",\"marker\":{\"colorbar\":{\"outlinewidth\":0,\"ticks\":\"\"}}}],\"scatterternary\":[{\"type\":\"scatterternary\",\"marker\":{\"colorbar\":{\"outlinewidth\":0,\"ticks\":\"\"}}}],\"scattercarpet\":[{\"type\":\"scattercarpet\",\"marker\":{\"colorbar\":{\"outlinewidth\":0,\"ticks\":\"\"}}}],\"carpet\":[{\"aaxis\":{\"endlinecolor\":\"#2a3f5f\",\"gridcolor\":\"white\",\"linecolor\":\"white\",\"minorgridcolor\":\"white\",\"startlinecolor\":\"#2a3f5f\"},\"baxis\":{\"endlinecolor\":\"#2a3f5f\",\"gridcolor\":\"white\",\"linecolor\":\"white\",\"minorgridcolor\":\"white\",\"startlinecolor\":\"#2a3f5f\"},\"type\":\"carpet\"}],\"table\":[{\"cells\":{\"fill\":{\"color\":\"#EBF0F8\"},\"line\":{\"color\":\"white\"}},\"header\":{\"fill\":{\"color\":\"#C8D4E3\"},\"line\":{\"color\":\"white\"}},\"type\":\"table\"}],\"barpolar\":[{\"marker\":{\"line\":{\"color\":\"#E5ECF6\",\"width\":0.5},\"pattern\":{\"fillmode\":\"overlay\",\"size\":10,\"solidity\":0.2}},\"type\":\"barpolar\"}],\"pie\":[{\"automargin\":true,\"type\":\"pie\"}]},\"layout\":{\"autotypenumbers\":\"strict\",\"colorway\":[\"#636efa\",\"#EF553B\",\"#00cc96\",\"#ab63fa\",\"#FFA15A\",\"#19d3f3\",\"#FF6692\",\"#B6E880\",\"#FF97FF\",\"#FECB52\"],\"font\":{\"color\":\"#2a3f5f\"},\"hovermode\":\"closest\",\"hoverlabel\":{\"align\":\"left\"},\"paper_bgcolor\":\"white\",\"plot_bgcolor\":\"#E5ECF6\",\"polar\":{\"bgcolor\":\"#E5ECF6\",\"angularaxis\":{\"gridcolor\":\"white\",\"linecolor\":\"white\",\"ticks\":\"\"},\"radialaxis\":{\"gridcolor\":\"white\",\"linecolor\":\"white\",\"ticks\":\"\"}},\"ternary\":{\"bgcolor\":\"#E5ECF6\",\"aaxis\":{\"gridcolor\":\"white\",\"linecolor\":\"white\",\"ticks\":\"\"},\"baxis\":{\"gridcolor\":\"white\",\"linecolor\":\"white\",\"ticks\":\"\"},\"caxis\":{\"gridcolor\":\"white\",\"linecolor\":\"white\",\"ticks\":\"\"}},\"coloraxis\":{\"colorbar\":{\"outlinewidth\":0,\"ticks\":\"\"}},\"colorscale\":{\"sequential\":[[0.0,\"#0d0887\"],[0.1111111111111111,\"#46039f\"],[0.2222222222222222,\"#7201a8\"],[0.3333333333333333,\"#9c179e\"],[0.4444444444444444,\"#bd3786\"],[0.5555555555555556,\"#d8576b\"],[0.6666666666666666,\"#ed7953\"],[0.7777777777777778,\"#fb9f3a\"],[0.8888888888888888,\"#fdca26\"],[1.0,\"#f0f921\"]],\"sequentialminus\":[[0.0,\"#0d0887\"],[0.1111111111111111,\"#46039f\"],[0.2222222222222222,\"#7201a8\"],[0.3333333333333333,\"#9c179e\"],[0.4444444444444444,\"#bd3786\"],[0.5555555555555556,\"#d8576b\"],[0.6666666666666666,\"#ed7953\"],[0.7777777777777778,\"#fb9f3a\"],[0.8888888888888888,\"#fdca26\"],[1.0,\"#f0f921\"]],\"diverging\":[[0,\"#8e0152\"],[0.1,\"#c51b7d\"],[0.2,\"#de77ae\"],[0.3,\"#f1b6da\"],[0.4,\"#fde0ef\"],[0.5,\"#f7f7f7\"],[0.6,\"#e6f5d0\"],[0.7,\"#b8e186\"],[0.8,\"#7fbc41\"],[0.9,\"#4d9221\"],[1,\"#276419\"]]},\"xaxis\":{\"gridcolor\":\"white\",\"linecolor\":\"white\",\"ticks\":\"\",\"title\":{\"standoff\":15},\"zerolinecolor\":\"white\",\"automargin\":true,\"zerolinewidth\":2},\"yaxis\":{\"gridcolor\":\"white\",\"linecolor\":\"white\",\"ticks\":\"\",\"title\":{\"standoff\":15},\"zerolinecolor\":\"white\",\"automargin\":true,\"zerolinewidth\":2},\"scene\":{\"xaxis\":{\"backgroundcolor\":\"#E5ECF6\",\"gridcolor\":\"white\",\"linecolor\":\"white\",\"showbackground\":true,\"ticks\":\"\",\"zerolinecolor\":\"white\",\"gridwidth\":2},\"yaxis\":{\"backgroundcolor\":\"#E5ECF6\",\"gridcolor\":\"white\",\"linecolor\":\"white\",\"showbackground\":true,\"ticks\":\"\",\"zerolinecolor\":\"white\",\"gridwidth\":2},\"zaxis\":{\"backgroundcolor\":\"#E5ECF6\",\"gridcolor\":\"white\",\"linecolor\":\"white\",\"showbackground\":true,\"ticks\":\"\",\"zerolinecolor\":\"white\",\"gridwidth\":2}},\"shapedefaults\":{\"line\":{\"color\":\"#2a3f5f\"}},\"annotationdefaults\":{\"arrowcolor\":\"#2a3f5f\",\"arrowhead\":0,\"arrowwidth\":1},\"geo\":{\"bgcolor\":\"white\",\"landcolor\":\"#E5ECF6\",\"subunitcolor\":\"white\",\"showland\":true,\"showlakes\":true,\"lakecolor\":\"white\"},\"title\":{\"x\":0.05},\"mapbox\":{\"style\":\"light\"}}},\"legend\":{\"tracegroupgap\":0},\"margin\":{\"t\":60}},                        {\"responsive\": true}                    ).then(function(){\n",
       "                            \n",
       "var gd = document.getElementById('ea8d10b2-7429-4eb4-ace3-aebd79686669');\n",
       "var x = new MutationObserver(function (mutations, observer) {{\n",
       "        var display = window.getComputedStyle(gd).display;\n",
       "        if (!display || display === 'none') {{\n",
       "            console.log([gd, 'removed!']);\n",
       "            Plotly.purge(gd);\n",
       "            observer.disconnect();\n",
       "        }}\n",
       "}});\n",
       "\n",
       "// Listen for the removal of the full notebook cells\n",
       "var notebookContainer = gd.closest('#notebook-container');\n",
       "if (notebookContainer) {{\n",
       "    x.observe(notebookContainer, {childList: true});\n",
       "}}\n",
       "\n",
       "// Listen for the clearing of the current output cell\n",
       "var outputEl = gd.closest('.output');\n",
       "if (outputEl) {{\n",
       "    x.observe(outputEl, {childList: true});\n",
       "}}\n",
       "\n",
       "                        })                };                });            </script>        </div>"
      ]
     },
     "metadata": {},
     "output_type": "display_data"
    }
   ],
   "source": [
    "px.sunburst(data,path=[\"Manufacturer\",\"Vehicle_type\",\"Model\"],values=\"__year_resale_value\")"
   ]
  },
  {
   "cell_type": "code",
   "execution_count": null,
   "id": "41e1d761",
   "metadata": {},
   "outputs": [],
   "source": []
  }
 ],
 "metadata": {
  "kernelspec": {
   "display_name": "Python 3 (ipykernel)",
   "language": "python",
   "name": "python3"
  },
  "language_info": {
   "codemirror_mode": {
    "name": "ipython",
    "version": 3
   },
   "file_extension": ".py",
   "mimetype": "text/x-python",
   "name": "python",
   "nbconvert_exporter": "python",
   "pygments_lexer": "ipython3",
   "version": "3.9.13"
  }
 },
 "nbformat": 4,
 "nbformat_minor": 5
}
